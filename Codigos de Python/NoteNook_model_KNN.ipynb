{
 "cells": [
  {
   "attachments": {},
   "cell_type": "markdown",
   "metadata": {},
   "source": [
    "# Imputacion de Datos Faltantes para la Precipitacion del Meta mediante modelacion KNN"
   ]
  },
  {
   "attachments": {},
   "cell_type": "markdown",
   "metadata": {},
   "source": [
    "Este Jupyter Notebook se enfoca en el desarrolo metodologico del trabajo de grado de los estudiantes Ronaldo Hernandez Mejia y Hector Freddy Velasco, en el cual se enfoca en la imputaciopn de datos faltnates para la variable de precipitacion en el departamento del Meta, Colombia. Con una gran volumen de datos de la informacion diaria de la precipitacion desde 1980 hasta el 2016, seleccionando un total de 56 Estaciones meteorologias del IDEAM.\n",
    "\n",
    "La región del Meta es muy importante en este país por la diversidad del clima y su efecto sobre la agricultura y otros sectores económicos. La variabilidad de las precipitaciones juega un papel importante en el análisis del clima y la toma de decisiones relacionadas con  la gestión del agua y el clima. \n",
    "\n",
    "El objetivo principal es desarrolar un modelo basado en el algotimo K-Nearest Neighbors(KNN) para imputar los datos faltantes de precipitacion, utilizando un conjunto de datos que contiene mas de 700.000 observaciones. \n",
    "\n",
    "Dada la gran cantidad de datos se ha implementado una version que utiliza los cores del procesador para ejecutar el modelo en paralelo optimizando asi el tiempo de ejecucion, mejorando la eficiencia computacional y acelerar el proceso, tambien por este motivo el desarrolo en python tiene tiempos de respuesta cortos en el manejo de datos.\n",
    "\n"
   ]
  },
  {
   "attachments": {},
   "cell_type": "markdown",
   "metadata": {},
   "source": [
    "### instalacion de librerias"
   ]
  },
  {
   "cell_type": "code",
   "execution_count": 1,
   "metadata": {},
   "outputs": [],
   "source": [
    "import subprocess\n",
    "import sys\n",
    "import importlib\n",
    "\n",
    "def install_and_import(package):\n",
    "    try:\n",
    "        importlib.import_module(package)\n",
    "    except ImportError:\n",
    "        subprocess.check_call([sys.executable, \"-m\", \"pip\", \"install\", package])\n",
    "    finally:\n",
    "        globals()[package] = importlib.import_module(package)\n"
   ]
  },
  {
   "cell_type": "code",
   "execution_count": 2,
   "metadata": {},
   "outputs": [],
   "source": [
    "packages = ['pandas', 'IPython', 'pandasgui', 'numpy', 'matplotlib','joblib','sklearn']\n",
    "\n",
    "for package in packages:\n",
    "    install_and_import(package)\n"
   ]
  },
  {
   "attachments": {},
   "cell_type": "markdown",
   "metadata": {},
   "source": [
    "En caso de que no funcione instalacion manual:"
   ]
  },
  {
   "cell_type": "code",
   "execution_count": 3,
   "metadata": {},
   "outputs": [
    {
     "name": "stdout",
     "output_type": "stream",
     "text": [
      "Requirement already satisfied: pip in c:\\users\\vhect\\anaconda3\\lib\\site-packages (23.1.2)\n",
      "Note: you may need to restart the kernel to use updated packages.\n"
     ]
    }
   ],
   "source": [
    "pip install -U pip "
   ]
  },
  {
   "cell_type": "code",
   "execution_count": 4,
   "metadata": {},
   "outputs": [
    {
     "name": "stdout",
     "output_type": "stream",
     "text": [
      "Requirement already satisfied: sklearn in c:\\users\\vhect\\anaconda3\\lib\\site-packages (0.0.post4)\n",
      "Note: you may need to restart the kernel to use updated packages.\n"
     ]
    }
   ],
   "source": [
    "pip install sklearn\n"
   ]
  },
  {
   "cell_type": "code",
   "execution_count": 5,
   "metadata": {},
   "outputs": [
    {
     "name": "stdout",
     "output_type": "stream",
     "text": [
      "Requirement already satisfied: wheel in c:\\users\\vhect\\anaconda3\\lib\\site-packages (0.37.1)\n",
      "Note: you may need to restart the kernel to use updated packages.\n"
     ]
    }
   ],
   "source": [
    "pip install wheel\n"
   ]
  },
  {
   "cell_type": "code",
   "execution_count": 6,
   "metadata": {},
   "outputs": [
    {
     "data": {
      "text/plain": [
       "'c:\\\\Users\\\\vhect\\\\Documents\\\\semestre 10\\\\TESIS\\\\Proyecto_mod_precipitacion\\\\Codigos de Python'"
      ]
     },
     "execution_count": 6,
     "metadata": {},
     "output_type": "execute_result"
    }
   ],
   "source": [
    "import os\n",
    "#observar donde estoy en ruta \n",
    "os.getcwd()"
   ]
  },
  {
   "attachments": {},
   "cell_type": "markdown",
   "metadata": {},
   "source": [
    "ruta ronaldo "
   ]
  },
  {
   "cell_type": "code",
   "execution_count": 12,
   "metadata": {},
   "outputs": [
    {
     "name": "stdout",
     "output_type": "stream",
     "text": [
      "Ruta actual del directorio de trabajo: f:\\TESIS\\Proyecto_mod_precipitacion\\Codigos de Python\n",
      "Nueva ruta del directorio de trabajo: F:\\TESIS\\Proyecto_mod_precipitacion\n"
     ]
    }
   ],
   "source": [
    "import os\n",
    "current_path = os.getcwd()\n",
    "print(f\"Ruta actual del directorio de trabajo: {current_path}\")\n",
    "new_path = \"F:\\\\TESIS\\\\Proyecto_mod_precipitacion\"\n",
    "os.chdir(new_path)\n",
    "new_current_path = os.getcwd()\n",
    "print(f\"Nueva ruta del directorio de trabajo: {new_current_path}\")"
   ]
  },
  {
   "attachments": {},
   "cell_type": "markdown",
   "metadata": {},
   "source": [
    "ruta hector \n"
   ]
  },
  {
   "cell_type": "code",
   "execution_count": 7,
   "metadata": {},
   "outputs": [
    {
     "name": "stdout",
     "output_type": "stream",
     "text": [
      "Ruta actual del directorio de trabajo: c:\\Users\\vhect\\Documents\\semestre 10\\TESIS\\Proyecto_mod_precipitacion\\Codigos de Python\n",
      "Nueva ruta del directorio de trabajo: c:\\Users\\vhect\\Documents\\semestre 10\\TESIS\\Proyecto_mod_precipitacion\n"
     ]
    }
   ],
   "source": [
    "import os\n",
    "current_path = os.getcwd()\n",
    "print(f\"Ruta actual del directorio de trabajo: {current_path}\")\n",
    "new_path = \"c:\\\\Users\\\\vhect\\\\Documents\\\\semestre 10\\\\TESIS\\\\Proyecto_mod_precipitacion\"\n",
    "os.chdir(new_path)\n",
    "new_current_path = os.getcwd()\n",
    "print(f\"Nueva ruta del directorio de trabajo: {new_current_path}\")"
   ]
  },
  {
   "attachments": {},
   "cell_type": "markdown",
   "metadata": {},
   "source": [
    "### Ejemplo sencillo del funcionamiento del modelo KNN"
   ]
  },
  {
   "attachments": {},
   "cell_type": "markdown",
   "metadata": {},
   "source": [
    "modelo KNN \n",
    "scikit-learn es una biblioteca de aprendizaje automático de código \n",
    "abierto que ofrece implementaciones eficientes de una amplia variedad\n",
    "de algoritmos de aprendizaje, incluyendo KNN. Además, proporciona funciones\n",
    "para la imputación de datos faltantes utilizando KNN y otras técnicas."
   ]
  },
  {
   "cell_type": "code",
   "execution_count": 8,
   "metadata": {},
   "outputs": [],
   "source": [
    "import pandas as pd\n",
    "import numpy as np\n",
    "from sklearn.impute import KNNImputer\n"
   ]
  },
  {
   "cell_type": "code",
   "execution_count": null,
   "metadata": {},
   "outputs": [],
   "source": [
    "\n",
    "def impute_precipitation_for_station(station_data, n_neighbors=5):\n",
    "    imputer = KNNImputer(n_neighbors=n_neighbors)\n",
    "    station_data_imputed = imputer.fit_transform(station_data[['precipitation']])\n",
    "    station_data['precipitation_imputed'] = station_data_imputed\n",
    "    return station_data\n",
    "\n",
    "# Crear datos de ejemplo\n",
    "data = pd.DataFrame({\n",
    "    'station_id': [1, 1, 2, 2, 3, 3],\n",
    "    'precipitation': [1, np.nan, 3, 4, np.nan, 6]\n",
    "})\n",
    "\n",
    "stations = data['station_id'].unique()\n",
    "imputed_data = pd.DataFrame()\n",
    "\n",
    "for station in stations:\n",
    "    station_data = data[data['station_id'] == station]\n",
    "    station_data_imputed = impute_precipitation_for_station(station_data)\n",
    "    imputed_data = imputed_data.append(station_data_imputed)\n"
   ]
  },
  {
   "attachments": {},
   "cell_type": "markdown",
   "metadata": {},
   "source": [
    "Presenta el Dataframe con las variables imputadas atravez de la metodologia KNN"
   ]
  },
  {
   "cell_type": "code",
   "execution_count": 10,
   "metadata": {},
   "outputs": [
    {
     "name": "stdout",
     "output_type": "stream",
     "text": [
      "   station_id  precipitation  precipitation_imputed\n",
      "0           1            1.0                    1.0\n",
      "1           1            NaN                    1.0\n",
      "2           2            3.0                    3.0\n",
      "3           2            4.0                    4.0\n",
      "4           3            NaN                    6.0\n",
      "5           3            6.0                    6.0\n"
     ]
    }
   ],
   "source": [
    "import warnings\n",
    "warnings.filterwarnings('ignore')\n",
    "\n",
    "# Tu código\n",
    "print(imputed_data)"
   ]
  },
  {
   "attachments": {},
   "cell_type": "markdown",
   "metadata": {},
   "source": [
    "### Lectura de datos"
   ]
  },
  {
   "cell_type": "code",
   "execution_count": 11,
   "metadata": {},
   "outputs": [],
   "source": [
    "import pandas as pd"
   ]
  },
  {
   "cell_type": "code",
   "execution_count": 12,
   "metadata": {},
   "outputs": [
    {
     "data": {
      "text/html": [
       "<div>\n",
       "<style scoped>\n",
       "    .dataframe tbody tr th:only-of-type {\n",
       "        vertical-align: middle;\n",
       "    }\n",
       "\n",
       "    .dataframe tbody tr th {\n",
       "        vertical-align: top;\n",
       "    }\n",
       "\n",
       "    .dataframe thead th {\n",
       "        text-align: right;\n",
       "    }\n",
       "</style>\n",
       "<table border=\"1\" class=\"dataframe\">\n",
       "  <thead>\n",
       "    <tr style=\"text-align: right;\">\n",
       "      <th></th>\n",
       "      <th>Date</th>\n",
       "      <th>prec</th>\n",
       "      <th>ID</th>\n",
       "      <th>LAT</th>\n",
       "      <th>LON</th>\n",
       "    </tr>\n",
       "  </thead>\n",
       "  <tbody>\n",
       "    <tr>\n",
       "      <th>0</th>\n",
       "      <td>1983-06-09</td>\n",
       "      <td>6.8</td>\n",
       "      <td>32010010</td>\n",
       "      <td>2.562833</td>\n",
       "      <td>-74.103083</td>\n",
       "    </tr>\n",
       "    <tr>\n",
       "      <th>1</th>\n",
       "      <td>1983-06-10</td>\n",
       "      <td>17.8</td>\n",
       "      <td>32010010</td>\n",
       "      <td>2.562833</td>\n",
       "      <td>-74.103083</td>\n",
       "    </tr>\n",
       "    <tr>\n",
       "      <th>2</th>\n",
       "      <td>1983-06-11</td>\n",
       "      <td>0.0</td>\n",
       "      <td>32010010</td>\n",
       "      <td>2.562833</td>\n",
       "      <td>-74.103083</td>\n",
       "    </tr>\n",
       "    <tr>\n",
       "      <th>3</th>\n",
       "      <td>1983-06-12</td>\n",
       "      <td>0.5</td>\n",
       "      <td>32010010</td>\n",
       "      <td>2.562833</td>\n",
       "      <td>-74.103083</td>\n",
       "    </tr>\n",
       "    <tr>\n",
       "      <th>4</th>\n",
       "      <td>1983-06-13</td>\n",
       "      <td>6.9</td>\n",
       "      <td>32010010</td>\n",
       "      <td>2.562833</td>\n",
       "      <td>-74.103083</td>\n",
       "    </tr>\n",
       "  </tbody>\n",
       "</table>\n",
       "</div>"
      ],
      "text/plain": [
       "         Date  prec        ID       LAT        LON\n",
       "0  1983-06-09   6.8  32010010  2.562833 -74.103083\n",
       "1  1983-06-10  17.8  32010010  2.562833 -74.103083\n",
       "2  1983-06-11   0.0  32010010  2.562833 -74.103083\n",
       "3  1983-06-12   0.5  32010010  2.562833 -74.103083\n",
       "4  1983-06-13   6.9  32010010  2.562833 -74.103083"
      ]
     },
     "execution_count": 12,
     "metadata": {},
     "output_type": "execute_result"
    }
   ],
   "source": [
    "data = pd.read_csv(\"Datos/datos_seleccionados_para_modelo_coordenadas.txt\",sep=\";\")\n",
    "data.head()"
   ]
  },
  {
   "attachments": {},
   "cell_type": "markdown",
   "metadata": {},
   "source": [
    "Estructura de los datos"
   ]
  },
  {
   "cell_type": "code",
   "execution_count": 13,
   "metadata": {},
   "outputs": [
    {
     "name": "stdout",
     "output_type": "stream",
     "text": [
      "<class 'pandas.core.frame.DataFrame'>\n",
      "RangeIndex: 656436 entries, 0 to 656435\n",
      "Data columns (total 5 columns):\n",
      " #   Column  Non-Null Count   Dtype  \n",
      "---  ------  --------------   -----  \n",
      " 0   Date    656436 non-null  object \n",
      " 1   prec    592124 non-null  float64\n",
      " 2   ID      656436 non-null  int64  \n",
      " 3   LAT     656436 non-null  float64\n",
      " 4   LON     656436 non-null  float64\n",
      "dtypes: float64(3), int64(1), object(1)\n",
      "memory usage: 25.0+ MB\n"
     ]
    }
   ],
   "source": [
    "data.info()"
   ]
  },
  {
   "attachments": {},
   "cell_type": "markdown",
   "metadata": {},
   "source": [
    "Aplicacion del modelo a los datos reales"
   ]
  },
  {
   "cell_type": "code",
   "execution_count": 14,
   "metadata": {},
   "outputs": [],
   "source": [
    "\n",
    "import pandas as pd\n",
    "import numpy as np\n",
    "from sklearn.impute import KNNImputer\n",
    "from joblib import Parallel, delayed"
   ]
  },
  {
   "attachments": {},
   "cell_type": "markdown",
   "metadata": {},
   "source": [
    "Funcion de imputacion 5 vecinos cercanos"
   ]
  },
  {
   "cell_type": "code",
   "execution_count": 15,
   "metadata": {},
   "outputs": [],
   "source": [
    "def impute_precipitation_for_station(station_data, n_neighbors=5):\n",
    "    imputer = KNNImputer(n_neighbors=n_neighbors)\n",
    "    station_data_imputed = imputer.fit_transform(station_data[['prec']])\n",
    "    station_data['prec_imputed'] = station_data_imputed\n",
    "    return station_data\n"
   ]
  },
  {
   "attachments": {},
   "cell_type": "markdown",
   "metadata": {},
   "source": [
    "\n",
    "La función impute_precipitation_parallel ejecutará la imputación de datos de precipitación \n",
    "utilizando KNN Imputer en paralelo para todas las estaciones en tus datos. \n",
    "El parámetro n_jobs controla el número de procesos en paralelo. \n",
    "Si n_jobs=-1, se utilizarán todos los núcleos disponibles en tu computadora."
   ]
  },
  {
   "attachments": {},
   "cell_type": "markdown",
   "metadata": {},
   "source": [
    "El parámetro n_jobs controla el número de procesos en paralelo. Si n_jobs=-1, \n",
    "se utilizarán todos los núcleos disponibles en tu computadora."
   ]
  },
  {
   "cell_type": "code",
   "execution_count": 16,
   "metadata": {},
   "outputs": [],
   "source": [
    "def impute_precipitation_parallel(data, n_jobs=5):\n",
    "    stations = data['ID'].unique()\n",
    "    results = Parallel(n_jobs=n_jobs)(\n",
    "        delayed(impute_precipitation_for_station)(data[data['ID'] == station]) for station in stations\n",
    "    )\n",
    "    imputed_data = pd.concat(results, ignore_index=True)\n",
    "    return imputed_data\n",
    "\n",
    "data['Date'] = pd.to_datetime(data['Date']) "
   ]
  },
  {
   "attachments": {},
   "cell_type": "markdown",
   "metadata": {},
   "source": [
    "Aplicacion de la funcion para los datos"
   ]
  },
  {
   "cell_type": "code",
   "execution_count": 17,
   "metadata": {},
   "outputs": [
    {
     "name": "stdout",
     "output_type": "stream",
     "text": [
      "             Date  prec        ID       LAT        LON  prec_imputed\n",
      "0      1983-06-09   6.8  32010010  2.562833 -74.103083           6.8\n",
      "1      1983-06-10  17.8  32010010  2.562833 -74.103083          17.8\n",
      "2      1983-06-11   0.0  32010010  2.562833 -74.103083           0.0\n",
      "3      1983-06-12   0.5  32010010  2.562833 -74.103083           0.5\n",
      "4      1983-06-13   6.9  32010010  2.562833 -74.103083           6.9\n",
      "...           ...   ...       ...       ...        ...           ...\n",
      "656431 2014-07-14   0.1  35185010  4.260361 -72.564472           0.1\n",
      "656432 2014-07-15   9.8  35185010  4.260361 -72.564472           9.8\n",
      "656433 2014-07-16   0.0  35185010  4.260361 -72.564472           0.0\n",
      "656434 2014-07-17   4.5  35185010  4.260361 -72.564472           4.5\n",
      "656435 2014-07-18   0.0  35185010  4.260361 -72.564472           0.0\n",
      "\n",
      "[656436 rows x 6 columns]\n"
     ]
    }
   ],
   "source": [
    "imputed_data = impute_precipitation_parallel(data)\n",
    "print(imputed_data)"
   ]
  },
  {
   "cell_type": "code",
   "execution_count": 18,
   "metadata": {},
   "outputs": [
    {
     "name": "stdout",
     "output_type": "stream",
     "text": [
      "<class 'pandas.core.frame.DataFrame'>\n",
      "RangeIndex: 656436 entries, 0 to 656435\n",
      "Data columns (total 6 columns):\n",
      " #   Column        Non-Null Count   Dtype         \n",
      "---  ------        --------------   -----         \n",
      " 0   Date          656436 non-null  datetime64[ns]\n",
      " 1   prec          592124 non-null  float64       \n",
      " 2   ID            656436 non-null  int64         \n",
      " 3   LAT           656436 non-null  float64       \n",
      " 4   LON           656436 non-null  float64       \n",
      " 5   prec_imputed  656436 non-null  float64       \n",
      "dtypes: datetime64[ns](1), float64(4), int64(1)\n",
      "memory usage: 30.0 MB\n"
     ]
    },
    {
     "data": {
      "text/html": [
       "<div>\n",
       "<style scoped>\n",
       "    .dataframe tbody tr th:only-of-type {\n",
       "        vertical-align: middle;\n",
       "    }\n",
       "\n",
       "    .dataframe tbody tr th {\n",
       "        vertical-align: top;\n",
       "    }\n",
       "\n",
       "    .dataframe thead th {\n",
       "        text-align: right;\n",
       "    }\n",
       "</style>\n",
       "<table border=\"1\" class=\"dataframe\">\n",
       "  <thead>\n",
       "    <tr style=\"text-align: right;\">\n",
       "      <th></th>\n",
       "      <th>prec</th>\n",
       "      <th>prec_imputed</th>\n",
       "    </tr>\n",
       "  </thead>\n",
       "  <tbody>\n",
       "    <tr>\n",
       "      <th>count</th>\n",
       "      <td>592124.000000</td>\n",
       "      <td>656436.000000</td>\n",
       "    </tr>\n",
       "    <tr>\n",
       "      <th>mean</th>\n",
       "      <td>8.915141</td>\n",
       "      <td>8.919318</td>\n",
       "    </tr>\n",
       "    <tr>\n",
       "      <th>std</th>\n",
       "      <td>17.865258</td>\n",
       "      <td>16.991514</td>\n",
       "    </tr>\n",
       "    <tr>\n",
       "      <th>min</th>\n",
       "      <td>0.000000</td>\n",
       "      <td>0.000000</td>\n",
       "    </tr>\n",
       "    <tr>\n",
       "      <th>25%</th>\n",
       "      <td>0.000000</td>\n",
       "      <td>0.000000</td>\n",
       "    </tr>\n",
       "    <tr>\n",
       "      <th>50%</th>\n",
       "      <td>0.000000</td>\n",
       "      <td>0.500000</td>\n",
       "    </tr>\n",
       "    <tr>\n",
       "      <th>75%</th>\n",
       "      <td>10.000000</td>\n",
       "      <td>10.000000</td>\n",
       "    </tr>\n",
       "    <tr>\n",
       "      <th>max</th>\n",
       "      <td>438.800000</td>\n",
       "      <td>438.800000</td>\n",
       "    </tr>\n",
       "  </tbody>\n",
       "</table>\n",
       "</div>"
      ],
      "text/plain": [
       "                prec   prec_imputed\n",
       "count  592124.000000  656436.000000\n",
       "mean        8.915141       8.919318\n",
       "std        17.865258      16.991514\n",
       "min         0.000000       0.000000\n",
       "25%         0.000000       0.000000\n",
       "50%         0.000000       0.500000\n",
       "75%        10.000000      10.000000\n",
       "max       438.800000     438.800000"
      ]
     },
     "execution_count": 18,
     "metadata": {},
     "output_type": "execute_result"
    }
   ],
   "source": [
    "imputed_data.info()\n",
    "\n",
    "imputed_data[['prec','prec_imputed']].describe()"
   ]
  },
  {
   "cell_type": "markdown",
   "metadata": {},
   "source": []
  },
  {
   "attachments": {},
   "cell_type": "markdown",
   "metadata": {},
   "source": [
    "## Bibliografia \n",
    "\n",
    "Little, R. J. A., & Rubin, D. B. (2002). Statistical Analysis with Missing Data (Vol. 333). John Wiley & Sons."
   ]
  }
 ],
 "metadata": {
  "kernelspec": {
   "display_name": "Python 3",
   "language": "python",
   "name": "python3"
  },
  "language_info": {
   "codemirror_mode": {
    "name": "ipython",
    "version": 3
   },
   "file_extension": ".py",
   "mimetype": "text/x-python",
   "name": "python",
   "nbconvert_exporter": "python",
   "pygments_lexer": "ipython3",
   "version": "3.9.12"
  },
  "orig_nbformat": 4
 },
 "nbformat": 4,
 "nbformat_minor": 2
}
