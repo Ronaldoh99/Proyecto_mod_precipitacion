{
 "cells": [
  {
   "attachments": {},
   "cell_type": "markdown",
   "metadata": {},
   "source": [
    "# Imputacion de Datos Faltantes para la Precipitacion del Meta mediante modelacion KNN"
   ]
  },
  {
   "attachments": {},
   "cell_type": "markdown",
   "metadata": {},
   "source": [
    "Este Jupyter Notebook se enfoca en el desarrolo metodologico del trabajo de grado de los estudiantes Ronaldo Hernandez Mejia y Hector Freddy Velasco, en el cual se enfoca en la imputaciopn de datos faltnates para la variable de precipitacion en el departamento del Meta, Colombia. Con una gran volumen de datos de la informacion diaria de la precipitacion desde 1980 hasta el 2016, seleccionando un total de 56 Estaciones meteorologias del IDEAM.\n",
    "\n",
    "La región del Meta es muy importante en este país por la diversidad del clima y su efecto sobre la agricultura y otros sectores económicos. La variabilidad de las precipitaciones juega un papel importante en el análisis del clima y la toma de decisiones relacionadas con  la gestión del agua y el clima. \n",
    "\n",
    "El objetivo principal es desarrolar un modelo basado en el algotimo K-Nearest Neighbors(KNN) para imputar los datos faltantes de precipitacion, utilizando un conjunto de datos que contiene mas de 700.000 observaciones. \n",
    "\n",
    "Dada la gran cantidad de datos se ha implementado una version que utiliza los cores del procesador para ejecutar el modelo en paralelo optimizando asi el tiempo de ejecucion, mejorando la eficiencia computacional y acelerar el proceso, tambien por este motivo el desarrolo en python tiene tiempos de respuesta cortos en el manejo de datos.\n",
    "\n"
   ]
  },
  {
   "attachments": {},
   "cell_type": "markdown",
   "metadata": {},
   "source": [
    "### instalacion de librerias"
   ]
  },
  {
   "cell_type": "markdown",
   "metadata": {},
   "source": [
    "#### **Pandas:**\n",
    "\n",
    "pandas es una biblioteca esencial de Python para la manipulación y el análisis de datos. Ofrece estructuras de datos como DataFrames y Series que simplifican la gestión de datos tabulares y temporales, respectivamente.\n",
    "\n",
    "#### **IPython:**\n",
    "\n",
    "Es un shell interactivo que añade funcionalidades extra al modo estándar de Python, como resaltado de líneas y errores mediante colores, una sintaxis adicional y un sistema de \"mágias\".\n",
    "\n",
    "\n",
    "#### **Pandasgui:**\n",
    "\n",
    "Es una interfaz gráfica de usuario (GUI) para visualizar DataFrames de pandas. Permite un análisis exploratorio de datos de manera intuitiva y visual.\n",
    "\n",
    "#### **NumPy:**\n",
    "\n",
    "Es la biblioteca fundamental para la computación científica en Python. Proporciona estructuras de datos de alto rendimiento, como arrays, y herramientas para trabajar con ellos.\n",
    "\n",
    "#### **Matplotlib:**\n",
    "\n",
    "Es una biblioteca de visualización en Python, que proporciona una plataforma robusta para representar gráficos y figuras en diversos formatos y ambientes.\n",
    "\n",
    "#### **Joblib:**\n",
    "\n",
    "Es una herramienta para proporcionar serialización ligera en Python. Es especialmente útil para objetos que incluyen grandes arrays de datos, como modelos de machine learning entrenados con scikit-learn\n",
    "\n",
    "#### **scikit-learn**\n",
    "scikit-learn es una de las bibliotecas más utilizadas en Python para aprendizaje automático. Ofrece herramientas simples y eficientes para análisis de datos y modelado estadístico.\n",
    "\n",
    "\n",
    "## 2.1 Importing the libraries and dataset:"
   ]
  },
  {
   "cell_type": "code",
   "execution_count": 5,
   "metadata": {},
   "outputs": [],
   "source": [
    "import subprocess\n",
    "import sys\n",
    "import importlib\n",
    "\n",
    "def install_and_import(package):\n",
    "    try:\n",
    "        importlib.import_module(package)\n",
    "    except ImportError:\n",
    "        subprocess.check_call([sys.executable, \"-m\", \"pip\", \"install\", package])\n",
    "    finally:\n",
    "        globals()[package] = importlib.import_module(package)\n"
   ]
  },
  {
   "cell_type": "code",
   "execution_count": 6,
   "metadata": {},
   "outputs": [],
   "source": [
    "packages = ['pandas', 'IPython', 'pandasgui', 'numpy', 'matplotlib','joblib','sklearn']\n",
    "\n",
    "for package in packages:\n",
    "    install_and_import(package)\n"
   ]
  },
  {
   "attachments": {},
   "cell_type": "markdown",
   "metadata": {},
   "source": [
    "En caso de que no funcione instalacion manual:"
   ]
  },
  {
   "cell_type": "code",
   "execution_count": 3,
   "metadata": {},
   "outputs": [
    {
     "name": "stdout",
     "output_type": "stream",
     "text": [
      "Requirement already satisfied: pip in c:\\users\\vhect\\anaconda3\\lib\\site-packages (23.1.2)\n",
      "Note: you may need to restart the kernel to use updated packages.\n"
     ]
    }
   ],
   "source": [
    "pip install -U pip "
   ]
  },
  {
   "cell_type": "code",
   "execution_count": 4,
   "metadata": {},
   "outputs": [
    {
     "name": "stdout",
     "output_type": "stream",
     "text": [
      "Requirement already satisfied: sklearn in c:\\users\\vhect\\anaconda3\\lib\\site-packages (0.0.post4)\n",
      "Note: you may need to restart the kernel to use updated packages.\n"
     ]
    }
   ],
   "source": [
    "pip install sklearn\n"
   ]
  },
  {
   "cell_type": "code",
   "execution_count": 2,
   "metadata": {},
   "outputs": [
    {
     "name": "stdout",
     "output_type": "stream",
     "text": [
      "Collecting missingno\n",
      "  Downloading missingno-0.5.2-py3-none-any.whl (8.7 kB)\n",
      "Requirement already satisfied: matplotlib in c:\\users\\ronal\\appdata\\local\\programs\\python\\python310\\lib\\site-packages (from missingno) (3.5.2)\n",
      "Requirement already satisfied: seaborn in c:\\users\\ronal\\appdata\\local\\programs\\python\\python310\\lib\\site-packages (from missingno) (0.11.2)\n",
      "Requirement already satisfied: scipy in c:\\users\\ronal\\appdata\\local\\programs\\python\\python310\\lib\\site-packages (from missingno) (1.8.0)\n",
      "Requirement already satisfied: numpy in c:\\users\\ronal\\appdata\\local\\programs\\python\\python310\\lib\\site-packages (from missingno) (1.22.3)\n",
      "Requirement already satisfied: packaging>=20.0 in c:\\users\\ronal\\appdata\\local\\programs\\python\\python310\\lib\\site-packages (from matplotlib->missingno) (21.3)\n",
      "Requirement already satisfied: fonttools>=4.22.0 in c:\\users\\ronal\\appdata\\local\\programs\\python\\python310\\lib\\site-packages (from matplotlib->missingno) (4.33.3)\n",
      "Requirement already satisfied: cycler>=0.10 in c:\\users\\ronal\\appdata\\local\\programs\\python\\python310\\lib\\site-packages (from matplotlib->missingno) (0.11.0)\n",
      "Requirement already satisfied: kiwisolver>=1.0.1 in c:\\users\\ronal\\appdata\\local\\programs\\python\\python310\\lib\\site-packages (from matplotlib->missingno) (1.4.2)\n",
      "Requirement already satisfied: pillow>=6.2.0 in c:\\users\\ronal\\appdata\\local\\programs\\python\\python310\\lib\\site-packages (from matplotlib->missingno) (9.1.0)\n",
      "Requirement already satisfied: python-dateutil>=2.7 in c:\\users\\ronal\\appdata\\local\\programs\\python\\python310\\lib\\site-packages (from matplotlib->missingno) (2.8.2)\n",
      "Requirement already satisfied: pyparsing>=2.2.1 in c:\\users\\ronal\\appdata\\local\\programs\\python\\python310\\lib\\site-packages (from matplotlib->missingno) (3.0.8)\n",
      "Requirement already satisfied: pandas>=0.23 in c:\\users\\ronal\\appdata\\local\\programs\\python\\python310\\lib\\site-packages (from seaborn->missingno) (1.4.2)\n",
      "Requirement already satisfied: pytz>=2020.1 in c:\\users\\ronal\\appdata\\local\\programs\\python\\python310\\lib\\site-packages (from pandas>=0.23->seaborn->missingno) (2022.7.1)\n",
      "Requirement already satisfied: six>=1.5 in c:\\users\\ronal\\appdata\\local\\programs\\python\\python310\\lib\\site-packages (from python-dateutil>=2.7->matplotlib->missingno) (1.16.0)\n",
      "Installing collected packages: missingno\n",
      "Successfully installed missingno-0.5.2\n",
      "Note: you may need to restart the kernel to use updated packages.\n"
     ]
    },
    {
     "name": "stderr",
     "output_type": "stream",
     "text": [
      "WARNING: You are using pip version 22.0.4; however, version 23.2.1 is available.\n",
      "You should consider upgrading via the 'c:\\Users\\ronal\\AppData\\Local\\Programs\\Python\\Python310\\python.exe -m pip install --upgrade pip' command.\n"
     ]
    }
   ],
   "source": [
    "pip install missingno"
   ]
  },
  {
   "cell_type": "code",
   "execution_count": 5,
   "metadata": {},
   "outputs": [
    {
     "name": "stdout",
     "output_type": "stream",
     "text": [
      "Requirement already satisfied: wheel in c:\\users\\vhect\\anaconda3\\lib\\site-packages (0.37.1)\n",
      "Note: you may need to restart the kernel to use updated packages.\n"
     ]
    }
   ],
   "source": [
    "pip install wheel\n"
   ]
  },
  {
   "cell_type": "code",
   "execution_count": 7,
   "metadata": {},
   "outputs": [
    {
     "data": {
      "text/plain": [
       "'f:\\\\TESIS\\\\Proyecto_mod_precipitacion\\\\Codigos de Python'"
      ]
     },
     "execution_count": 7,
     "metadata": {},
     "output_type": "execute_result"
    }
   ],
   "source": [
    "import os\n",
    "#observar donde estoy en ruta \n",
    "os.getcwd()"
   ]
  },
  {
   "attachments": {},
   "cell_type": "markdown",
   "metadata": {},
   "source": [
    "Ruta Ronaldo "
   ]
  },
  {
   "cell_type": "code",
   "execution_count": 8,
   "metadata": {},
   "outputs": [
    {
     "name": "stdout",
     "output_type": "stream",
     "text": [
      "Ruta actual del directorio de trabajo: f:\\TESIS\\Proyecto_mod_precipitacion\\Codigos de Python\n",
      "Nueva ruta del directorio de trabajo: F:\\TESIS\\Proyecto_mod_precipitacion\n"
     ]
    }
   ],
   "source": [
    "import os\n",
    "current_path = os.getcwd()\n",
    "print(f\"Ruta actual del directorio de trabajo: {current_path}\")\n",
    "new_path = \"F:\\\\TESIS\\\\Proyecto_mod_precipitacion\"\n",
    "os.chdir(new_path)\n",
    "new_current_path = os.getcwd()\n",
    "print(f\"Nueva ruta del directorio de trabajo: {new_current_path}\")"
   ]
  },
  {
   "attachments": {},
   "cell_type": "markdown",
   "metadata": {},
   "source": [
    "Ruta hector "
   ]
  },
  {
   "cell_type": "code",
   "execution_count": 7,
   "metadata": {},
   "outputs": [
    {
     "name": "stdout",
     "output_type": "stream",
     "text": [
      "Ruta actual del directorio de trabajo: c:\\Users\\vhect\\Documents\\semestre 10\\TESIS\\Proyecto_mod_precipitacion\\Codigos de Python\n",
      "Nueva ruta del directorio de trabajo: c:\\Users\\vhect\\Documents\\semestre 10\\TESIS\\Proyecto_mod_precipitacion\n"
     ]
    }
   ],
   "source": [
    "import os\n",
    "current_path = os.getcwd()\n",
    "print(f\"Ruta actual del directorio de trabajo: {current_path}\")\n",
    "new_path = \"c:\\\\Users\\\\vhect\\\\Documents\\\\semestre 10\\\\TESIS\\\\Proyecto_mod_precipitacion\"\n",
    "os.chdir(new_path)\n",
    "new_current_path = os.getcwd()\n",
    "print(f\"Nueva ruta del directorio de trabajo: {new_current_path}\")"
   ]
  },
  {
   "attachments": {},
   "cell_type": "markdown",
   "metadata": {},
   "source": [
    "### Ejemplo sencillo del funcionamiento del modelo KNN"
   ]
  },
  {
   "attachments": {},
   "cell_type": "markdown",
   "metadata": {},
   "source": [
    "modelo KNN \n",
    "scikit-learn es una biblioteca de aprendizaje automático de código \n",
    "abierto que ofrece implementaciones eficientes de una amplia variedad\n",
    "de algoritmos de aprendizaje, incluyendo KNN. Además, proporciona funciones\n",
    "para la imputación de datos faltantes utilizando KNN y otras técnicas."
   ]
  },
  {
   "cell_type": "code",
   "execution_count": 9,
   "metadata": {},
   "outputs": [],
   "source": [
    "import pandas as pd\n",
    "import numpy as np\n",
    "from sklearn.impute import KNNImputer\n"
   ]
  },
  {
   "cell_type": "code",
   "execution_count": 6,
   "metadata": {},
   "outputs": [
    {
     "name": "stderr",
     "output_type": "stream",
     "text": [
      "C:\\Users\\ronal\\AppData\\Local\\Temp\\ipykernel_25356\\60805419.py:4: SettingWithCopyWarning: \n",
      "A value is trying to be set on a copy of a slice from a DataFrame.\n",
      "Try using .loc[row_indexer,col_indexer] = value instead\n",
      "\n",
      "See the caveats in the documentation: https://pandas.pydata.org/pandas-docs/stable/user_guide/indexing.html#returning-a-view-versus-a-copy\n",
      "  station_data['precipitation_imputed'] = station_data_imputed\n",
      "C:\\Users\\ronal\\AppData\\Local\\Temp\\ipykernel_25356\\60805419.py:19: FutureWarning: The frame.append method is deprecated and will be removed from pandas in a future version. Use pandas.concat instead.\n",
      "  imputed_data = imputed_data.append(station_data_imputed)\n",
      "C:\\Users\\ronal\\AppData\\Local\\Temp\\ipykernel_25356\\60805419.py:4: SettingWithCopyWarning: \n",
      "A value is trying to be set on a copy of a slice from a DataFrame.\n",
      "Try using .loc[row_indexer,col_indexer] = value instead\n",
      "\n",
      "See the caveats in the documentation: https://pandas.pydata.org/pandas-docs/stable/user_guide/indexing.html#returning-a-view-versus-a-copy\n",
      "  station_data['precipitation_imputed'] = station_data_imputed\n",
      "C:\\Users\\ronal\\AppData\\Local\\Temp\\ipykernel_25356\\60805419.py:19: FutureWarning: The frame.append method is deprecated and will be removed from pandas in a future version. Use pandas.concat instead.\n",
      "  imputed_data = imputed_data.append(station_data_imputed)\n",
      "C:\\Users\\ronal\\AppData\\Local\\Temp\\ipykernel_25356\\60805419.py:4: SettingWithCopyWarning: \n",
      "A value is trying to be set on a copy of a slice from a DataFrame.\n",
      "Try using .loc[row_indexer,col_indexer] = value instead\n",
      "\n",
      "See the caveats in the documentation: https://pandas.pydata.org/pandas-docs/stable/user_guide/indexing.html#returning-a-view-versus-a-copy\n",
      "  station_data['precipitation_imputed'] = station_data_imputed\n",
      "C:\\Users\\ronal\\AppData\\Local\\Temp\\ipykernel_25356\\60805419.py:19: FutureWarning: The frame.append method is deprecated and will be removed from pandas in a future version. Use pandas.concat instead.\n",
      "  imputed_data = imputed_data.append(station_data_imputed)\n"
     ]
    }
   ],
   "source": [
    "\n",
    "def impute_precipitation_for_station(station_data, n_neighbors=5):\n",
    "    imputer = KNNImputer(n_neighbors=n_neighbors)\n",
    "    station_data_imputed = imputer.fit_transform(station_data[['precipitation']])\n",
    "    station_data['precipitation_imputed'] = station_data_imputed\n",
    "    return station_data\n",
    "\n",
    "# Crear datos de ejemplo\n",
    "data = pd.DataFrame({\n",
    "    'station_id': [1, 1, 2, 2, 3, 3],\n",
    "    'precipitation': [1, np.nan, 3, 4, np.nan, 6]\n",
    "})\n",
    "\n",
    "stations = data['station_id'].unique()\n",
    "imputed_data = pd.DataFrame()\n",
    "\n",
    "for station in stations:\n",
    "    station_data = data[data['station_id'] == station]\n",
    "    station_data_imputed = impute_precipitation_for_station(station_data)\n",
    "    imputed_data = imputed_data.append(station_data_imputed)\n"
   ]
  },
  {
   "attachments": {},
   "cell_type": "markdown",
   "metadata": {},
   "source": [
    "Presenta el Dataframe con las variables imputadas atravez de la metodologia KNN"
   ]
  },
  {
   "cell_type": "code",
   "execution_count": 7,
   "metadata": {},
   "outputs": [
    {
     "name": "stdout",
     "output_type": "stream",
     "text": [
      "   station_id  precipitation  precipitation_imputed\n",
      "0           1            1.0                    1.0\n",
      "1           1            NaN                    1.0\n",
      "2           2            3.0                    3.0\n",
      "3           2            4.0                    4.0\n",
      "4           3            NaN                    6.0\n",
      "5           3            6.0                    6.0\n"
     ]
    }
   ],
   "source": [
    "import warnings\n",
    "warnings.filterwarnings('ignore')\n",
    "\n",
    "# Tu código\n",
    "print(imputed_data)"
   ]
  },
  {
   "attachments": {},
   "cell_type": "markdown",
   "metadata": {},
   "source": [
    "### Lectura de datos"
   ]
  },
  {
   "cell_type": "code",
   "execution_count": 30,
   "metadata": {},
   "outputs": [],
   "source": [
    "import pandas as pd"
   ]
  },
  {
   "cell_type": "code",
   "execution_count": 42,
   "metadata": {},
   "outputs": [
    {
     "data": {
      "text/html": [
       "<div>\n",
       "<style scoped>\n",
       "    .dataframe tbody tr th:only-of-type {\n",
       "        vertical-align: middle;\n",
       "    }\n",
       "\n",
       "    .dataframe tbody tr th {\n",
       "        vertical-align: top;\n",
       "    }\n",
       "\n",
       "    .dataframe thead th {\n",
       "        text-align: right;\n",
       "    }\n",
       "</style>\n",
       "<table border=\"1\" class=\"dataframe\">\n",
       "  <thead>\n",
       "    <tr style=\"text-align: right;\">\n",
       "      <th></th>\n",
       "      <th>Date</th>\n",
       "      <th>prec</th>\n",
       "      <th>ID</th>\n",
       "      <th>LAT</th>\n",
       "      <th>LON</th>\n",
       "    </tr>\n",
       "  </thead>\n",
       "  <tbody>\n",
       "    <tr>\n",
       "      <th>0</th>\n",
       "      <td>1983-06-09</td>\n",
       "      <td>6.8</td>\n",
       "      <td>32010010</td>\n",
       "      <td>2.562833</td>\n",
       "      <td>-74.103083</td>\n",
       "    </tr>\n",
       "    <tr>\n",
       "      <th>1</th>\n",
       "      <td>1983-06-10</td>\n",
       "      <td>17.8</td>\n",
       "      <td>32010010</td>\n",
       "      <td>2.562833</td>\n",
       "      <td>-74.103083</td>\n",
       "    </tr>\n",
       "    <tr>\n",
       "      <th>2</th>\n",
       "      <td>1983-06-11</td>\n",
       "      <td>0.0</td>\n",
       "      <td>32010010</td>\n",
       "      <td>2.562833</td>\n",
       "      <td>-74.103083</td>\n",
       "    </tr>\n",
       "    <tr>\n",
       "      <th>3</th>\n",
       "      <td>1983-06-12</td>\n",
       "      <td>0.5</td>\n",
       "      <td>32010010</td>\n",
       "      <td>2.562833</td>\n",
       "      <td>-74.103083</td>\n",
       "    </tr>\n",
       "    <tr>\n",
       "      <th>4</th>\n",
       "      <td>1983-06-13</td>\n",
       "      <td>6.9</td>\n",
       "      <td>32010010</td>\n",
       "      <td>2.562833</td>\n",
       "      <td>-74.103083</td>\n",
       "    </tr>\n",
       "    <tr>\n",
       "      <th>5</th>\n",
       "      <td>1983-06-14</td>\n",
       "      <td>7.7</td>\n",
       "      <td>32010010</td>\n",
       "      <td>2.562833</td>\n",
       "      <td>-74.103083</td>\n",
       "    </tr>\n",
       "    <tr>\n",
       "      <th>6</th>\n",
       "      <td>1983-06-15</td>\n",
       "      <td>16.2</td>\n",
       "      <td>32010010</td>\n",
       "      <td>2.562833</td>\n",
       "      <td>-74.103083</td>\n",
       "    </tr>\n",
       "    <tr>\n",
       "      <th>7</th>\n",
       "      <td>1983-06-16</td>\n",
       "      <td>20.8</td>\n",
       "      <td>32010010</td>\n",
       "      <td>2.562833</td>\n",
       "      <td>-74.103083</td>\n",
       "    </tr>\n",
       "    <tr>\n",
       "      <th>8</th>\n",
       "      <td>1983-06-17</td>\n",
       "      <td>0.0</td>\n",
       "      <td>32010010</td>\n",
       "      <td>2.562833</td>\n",
       "      <td>-74.103083</td>\n",
       "    </tr>\n",
       "    <tr>\n",
       "      <th>9</th>\n",
       "      <td>1983-06-18</td>\n",
       "      <td>0.0</td>\n",
       "      <td>32010010</td>\n",
       "      <td>2.562833</td>\n",
       "      <td>-74.103083</td>\n",
       "    </tr>\n",
       "  </tbody>\n",
       "</table>\n",
       "</div>"
      ],
      "text/plain": [
       "         Date  prec        ID       LAT        LON\n",
       "0  1983-06-09   6.8  32010010  2.562833 -74.103083\n",
       "1  1983-06-10  17.8  32010010  2.562833 -74.103083\n",
       "2  1983-06-11   0.0  32010010  2.562833 -74.103083\n",
       "3  1983-06-12   0.5  32010010  2.562833 -74.103083\n",
       "4  1983-06-13   6.9  32010010  2.562833 -74.103083\n",
       "5  1983-06-14   7.7  32010010  2.562833 -74.103083\n",
       "6  1983-06-15  16.2  32010010  2.562833 -74.103083\n",
       "7  1983-06-16  20.8  32010010  2.562833 -74.103083\n",
       "8  1983-06-17   0.0  32010010  2.562833 -74.103083\n",
       "9  1983-06-18   0.0  32010010  2.562833 -74.103083"
      ]
     },
     "execution_count": 42,
     "metadata": {},
     "output_type": "execute_result"
    }
   ],
   "source": [
    "data = pd.read_csv(\"Datos/datos_seleccionados_para_modelo_coordenadas.txt\",sep=\";\")\n",
    "data.head(10)\n"
   ]
  },
  {
   "attachments": {},
   "cell_type": "markdown",
   "metadata": {},
   "source": [
    "Estructura de los datos"
   ]
  },
  {
   "cell_type": "code",
   "execution_count": 12,
   "metadata": {},
   "outputs": [
    {
     "name": "stdout",
     "output_type": "stream",
     "text": [
      "<class 'pandas.core.frame.DataFrame'>\n",
      "RangeIndex: 656436 entries, 0 to 656435\n",
      "Data columns (total 5 columns):\n",
      " #   Column  Non-Null Count   Dtype  \n",
      "---  ------  --------------   -----  \n",
      " 0   Date    656436 non-null  object \n",
      " 1   prec    592124 non-null  float64\n",
      " 2   ID      656436 non-null  int64  \n",
      " 3   LAT     656436 non-null  float64\n",
      " 4   LON     656436 non-null  float64\n",
      "dtypes: float64(3), int64(1), object(1)\n",
      "memory usage: 25.0+ MB\n"
     ]
    }
   ],
   "source": [
    "data.info()"
   ]
  },
  {
   "attachments": {},
   "cell_type": "markdown",
   "metadata": {},
   "source": [
    "Visualizacion de los datos faltantes "
   ]
  },
  {
   "cell_type": "code",
   "execution_count": 10,
   "metadata": {},
   "outputs": [
    {
     "data": {
      "text/plain": [
       "<Figure size 720x432 with 0 Axes>"
      ]
     },
     "metadata": {},
     "output_type": "display_data"
    },
    {
     "data": {
      "image/png": "[encoded data removed]",
      "text/plain": [
       "<Figure size 1800x720 with 2 Axes>"
      ]
     },
     "metadata": {
      "needs_background": "light"
     },
     "output_type": "display_data"
    },
    {
     "data": {
      "text/plain": [
       "<Figure size 720x432 with 0 Axes>"
      ]
     },
     "metadata": {},
     "output_type": "display_data"
    },
    {
     "data": {
      "image/png": "[encoded data removed]",
      "text/plain": [
       "<Figure size 1800x720 with 1 Axes>"
      ]
     },
     "metadata": {
      "needs_background": "light"
     },
     "output_type": "display_data"
    },
    {
     "name": "stdout",
     "output_type": "stream",
     "text": [
      "Date        0\n",
      "prec    64312\n",
      "ID          0\n",
      "LAT         0\n",
      "LON         0\n",
      "dtype: int64\n"
     ]
    }
   ],
   "source": [
    "import pandas as pd\n",
    "import missingno as msno\n",
    "import matplotlib.pyplot as plt\n",
    "\n",
    "# Suponemos que 'data' es tu DataFrame\n",
    "\n",
    "# Visualizar la completitud de los datos con matriz\n",
    "plt.figure(figsize=(10,6))\n",
    "msno.matrix(data)\n",
    "plt.title('Matriz de completitud de los datos', fontsize=20)\n",
    "plt.show()\n",
    "\n",
    "# Agrupar las columnas con datos faltantes similares con dendrograma\n",
    "plt.figure(figsize=(10,6))\n",
    "msno.dendrogram(data)\n",
    "plt.title('Dendrograma de los datos faltantes', fontsize=20)\n",
    "plt.show()\n",
    "\n",
    "# Resumen de la cantidad de datos faltantes por columna\n",
    "print(data.isnull().sum())\n"
   ]
  },
  {
   "attachments": {},
   "cell_type": "markdown",
   "metadata": {},
   "source": [
    "### Correccion de variables para el modelo"
   ]
  },
  {
   "cell_type": "code",
   "execution_count": 45,
   "metadata": {},
   "outputs": [
    {
     "data": {
      "text/html": [
       "<div>\n",
       "<style scoped>\n",
       "    .dataframe tbody tr th:only-of-type {\n",
       "        vertical-align: middle;\n",
       "    }\n",
       "\n",
       "    .dataframe tbody tr th {\n",
       "        vertical-align: top;\n",
       "    }\n",
       "\n",
       "    .dataframe thead th {\n",
       "        text-align: right;\n",
       "    }\n",
       "</style>\n",
       "<table border=\"1\" class=\"dataframe\">\n",
       "  <thead>\n",
       "    <tr style=\"text-align: right;\">\n",
       "      <th></th>\n",
       "      <th>Date</th>\n",
       "      <th>prec</th>\n",
       "      <th>ID</th>\n",
       "      <th>LAT</th>\n",
       "      <th>LON</th>\n",
       "    </tr>\n",
       "  </thead>\n",
       "  <tbody>\n",
       "    <tr>\n",
       "      <th>0</th>\n",
       "      <td>1983-06-09</td>\n",
       "      <td>6.8</td>\n",
       "      <td>32010010</td>\n",
       "      <td>2.562833</td>\n",
       "      <td>-74.103083</td>\n",
       "    </tr>\n",
       "    <tr>\n",
       "      <th>1</th>\n",
       "      <td>1983-06-10</td>\n",
       "      <td>17.8</td>\n",
       "      <td>32010010</td>\n",
       "      <td>2.562833</td>\n",
       "      <td>-74.103083</td>\n",
       "    </tr>\n",
       "    <tr>\n",
       "      <th>2</th>\n",
       "      <td>1983-06-11</td>\n",
       "      <td>0.0</td>\n",
       "      <td>32010010</td>\n",
       "      <td>2.562833</td>\n",
       "      <td>-74.103083</td>\n",
       "    </tr>\n",
       "    <tr>\n",
       "      <th>3</th>\n",
       "      <td>1983-06-12</td>\n",
       "      <td>0.5</td>\n",
       "      <td>32010010</td>\n",
       "      <td>2.562833</td>\n",
       "      <td>-74.103083</td>\n",
       "    </tr>\n",
       "    <tr>\n",
       "      <th>4</th>\n",
       "      <td>1983-06-13</td>\n",
       "      <td>6.9</td>\n",
       "      <td>32010010</td>\n",
       "      <td>2.562833</td>\n",
       "      <td>-74.103083</td>\n",
       "    </tr>\n",
       "  </tbody>\n",
       "</table>\n",
       "</div>"
      ],
      "text/plain": [
       "         Date  prec        ID       LAT        LON\n",
       "0  1983-06-09   6.8  32010010  2.562833 -74.103083\n",
       "1  1983-06-10  17.8  32010010  2.562833 -74.103083\n",
       "2  1983-06-11   0.0  32010010  2.562833 -74.103083\n",
       "3  1983-06-12   0.5  32010010  2.562833 -74.103083\n",
       "4  1983-06-13   6.9  32010010  2.562833 -74.103083"
      ]
     },
     "execution_count": 45,
     "metadata": {},
     "output_type": "execute_result"
    }
   ],
   "source": [
    "data.head(5)"
   ]
  },
  {
   "cell_type": "code",
   "execution_count": 44,
   "metadata": {},
   "outputs": [
    {
     "name": "stdout",
     "output_type": "stream",
     "text": [
      "<class 'pandas.core.frame.DataFrame'>\n",
      "RangeIndex: 656436 entries, 0 to 656435\n",
      "Data columns (total 5 columns):\n",
      " #   Column  Non-Null Count   Dtype  \n",
      "---  ------  --------------   -----  \n",
      " 0   Date    656436 non-null  object \n",
      " 1   prec    592124 non-null  float64\n",
      " 2   ID      656436 non-null  int64  \n",
      " 3   LAT     656436 non-null  float64\n",
      " 4   LON     656436 non-null  float64\n",
      "dtypes: float64(3), int64(1), object(1)\n",
      "memory usage: 25.0+ MB\n"
     ]
    }
   ],
   "source": [
    "data.info()"
   ]
  },
  {
   "cell_type": "code",
   "execution_count": 34,
   "metadata": {},
   "outputs": [],
   "source": [
    "# Asegurarte de que 'Date' es una columna datetime\n",
    "data['Date'] = pd.to_datetime(data['Date'])\n",
    "\n",
    "# Crear nuevas columnas para el año, mes y día\n",
    "data['Year'] = data['Date'].dt.year\n",
    "data['Month'] = data['Date'].dt.month\n",
    "data['Day'] = data['Date'].dt.day\n",
    "\n",
    "# Crear un nuevo dataframe con las columnas deseadas\n",
    "new_data = data[['ID', 'Year', 'Month', 'Day', 'prec', 'LAT', 'LON']].copy()\n"
   ]
  },
  {
   "cell_type": "code",
   "execution_count": 35,
   "metadata": {},
   "outputs": [],
   "source": [
    "new_data = new_data.sort_values('ID')\n"
   ]
  },
  {
   "cell_type": "code",
   "execution_count": 36,
   "metadata": {},
   "outputs": [
    {
     "data": {
      "text/html": [
       "<div>\n",
       "<style scoped>\n",
       "    .dataframe tbody tr th:only-of-type {\n",
       "        vertical-align: middle;\n",
       "    }\n",
       "\n",
       "    .dataframe tbody tr th {\n",
       "        vertical-align: top;\n",
       "    }\n",
       "\n",
       "    .dataframe thead th {\n",
       "        text-align: right;\n",
       "    }\n",
       "</style>\n",
       "<table border=\"1\" class=\"dataframe\">\n",
       "  <thead>\n",
       "    <tr style=\"text-align: right;\">\n",
       "      <th></th>\n",
       "      <th>ID</th>\n",
       "      <th>Year</th>\n",
       "      <th>Month</th>\n",
       "      <th>Day</th>\n",
       "      <th>prec</th>\n",
       "      <th>LAT</th>\n",
       "      <th>LON</th>\n",
       "    </tr>\n",
       "  </thead>\n",
       "  <tbody>\n",
       "    <tr>\n",
       "      <th>0</th>\n",
       "      <td>32010010</td>\n",
       "      <td>1983</td>\n",
       "      <td>6</td>\n",
       "      <td>9</td>\n",
       "      <td>6.8</td>\n",
       "      <td>2.562833</td>\n",
       "      <td>-74.103083</td>\n",
       "    </tr>\n",
       "    <tr>\n",
       "      <th>8045</th>\n",
       "      <td>32010010</td>\n",
       "      <td>2005</td>\n",
       "      <td>6</td>\n",
       "      <td>18</td>\n",
       "      <td>8.0</td>\n",
       "      <td>2.562833</td>\n",
       "      <td>-74.103083</td>\n",
       "    </tr>\n",
       "    <tr>\n",
       "      <th>8046</th>\n",
       "      <td>32010010</td>\n",
       "      <td>2005</td>\n",
       "      <td>6</td>\n",
       "      <td>19</td>\n",
       "      <td>12.0</td>\n",
       "      <td>2.562833</td>\n",
       "      <td>-74.103083</td>\n",
       "    </tr>\n",
       "    <tr>\n",
       "      <th>8047</th>\n",
       "      <td>32010010</td>\n",
       "      <td>2005</td>\n",
       "      <td>6</td>\n",
       "      <td>20</td>\n",
       "      <td>0.0</td>\n",
       "      <td>2.562833</td>\n",
       "      <td>-74.103083</td>\n",
       "    </tr>\n",
       "    <tr>\n",
       "      <th>8048</th>\n",
       "      <td>32010010</td>\n",
       "      <td>2005</td>\n",
       "      <td>6</td>\n",
       "      <td>21</td>\n",
       "      <td>4.0</td>\n",
       "      <td>2.562833</td>\n",
       "      <td>-74.103083</td>\n",
       "    </tr>\n",
       "    <tr>\n",
       "      <th>8049</th>\n",
       "      <td>32010010</td>\n",
       "      <td>2005</td>\n",
       "      <td>6</td>\n",
       "      <td>22</td>\n",
       "      <td>0.0</td>\n",
       "      <td>2.562833</td>\n",
       "      <td>-74.103083</td>\n",
       "    </tr>\n",
       "    <tr>\n",
       "      <th>8050</th>\n",
       "      <td>32010010</td>\n",
       "      <td>2005</td>\n",
       "      <td>6</td>\n",
       "      <td>23</td>\n",
       "      <td>3.0</td>\n",
       "      <td>2.562833</td>\n",
       "      <td>-74.103083</td>\n",
       "    </tr>\n",
       "    <tr>\n",
       "      <th>8051</th>\n",
       "      <td>32010010</td>\n",
       "      <td>2005</td>\n",
       "      <td>6</td>\n",
       "      <td>24</td>\n",
       "      <td>41.0</td>\n",
       "      <td>2.562833</td>\n",
       "      <td>-74.103083</td>\n",
       "    </tr>\n",
       "    <tr>\n",
       "      <th>8052</th>\n",
       "      <td>32010010</td>\n",
       "      <td>2005</td>\n",
       "      <td>6</td>\n",
       "      <td>25</td>\n",
       "      <td>8.0</td>\n",
       "      <td>2.562833</td>\n",
       "      <td>-74.103083</td>\n",
       "    </tr>\n",
       "    <tr>\n",
       "      <th>8053</th>\n",
       "      <td>32010010</td>\n",
       "      <td>2005</td>\n",
       "      <td>6</td>\n",
       "      <td>26</td>\n",
       "      <td>3.0</td>\n",
       "      <td>2.562833</td>\n",
       "      <td>-74.103083</td>\n",
       "    </tr>\n",
       "  </tbody>\n",
       "</table>\n",
       "</div>"
      ],
      "text/plain": [
       "            ID  Year  Month  Day  prec       LAT        LON\n",
       "0     32010010  1983      6    9   6.8  2.562833 -74.103083\n",
       "8045  32010010  2005      6   18   8.0  2.562833 -74.103083\n",
       "8046  32010010  2005      6   19  12.0  2.562833 -74.103083\n",
       "8047  32010010  2005      6   20   0.0  2.562833 -74.103083\n",
       "8048  32010010  2005      6   21   4.0  2.562833 -74.103083\n",
       "8049  32010010  2005      6   22   0.0  2.562833 -74.103083\n",
       "8050  32010010  2005      6   23   3.0  2.562833 -74.103083\n",
       "8051  32010010  2005      6   24  41.0  2.562833 -74.103083\n",
       "8052  32010010  2005      6   25   8.0  2.562833 -74.103083\n",
       "8053  32010010  2005      6   26   3.0  2.562833 -74.103083"
      ]
     },
     "execution_count": 36,
     "metadata": {},
     "output_type": "execute_result"
    }
   ],
   "source": [
    "new_data.head(10)"
   ]
  },
  {
   "cell_type": "code",
   "execution_count": 37,
   "metadata": {},
   "outputs": [],
   "source": [
    "new_data = new_data.rename(columns={\n",
    "    'Year': 'Año',\n",
    "    'Month': 'Mes',\n",
    "    'Day': 'Día',\n",
    "    'prec': 'prec',\n",
    "    'LAT': 'LAT',\n",
    "    'LON': 'LON'\n",
    "})\n"
   ]
  },
  {
   "cell_type": "code",
   "execution_count": 38,
   "metadata": {},
   "outputs": [],
   "source": [
    "new_data = new_data[['Año', 'Mes', 'Día', 'prec', 'LAT', 'LON']]\n"
   ]
  },
  {
   "cell_type": "code",
   "execution_count": 39,
   "metadata": {},
   "outputs": [
    {
     "data": {
      "text/html": [
       "<div>\n",
       "<style scoped>\n",
       "    .dataframe tbody tr th:only-of-type {\n",
       "        vertical-align: middle;\n",
       "    }\n",
       "\n",
       "    .dataframe tbody tr th {\n",
       "        vertical-align: top;\n",
       "    }\n",
       "\n",
       "    .dataframe thead th {\n",
       "        text-align: right;\n",
       "    }\n",
       "</style>\n",
       "<table border=\"1\" class=\"dataframe\">\n",
       "  <thead>\n",
       "    <tr style=\"text-align: right;\">\n",
       "      <th></th>\n",
       "      <th>Año</th>\n",
       "      <th>Mes</th>\n",
       "      <th>Día</th>\n",
       "      <th>prec</th>\n",
       "      <th>LAT</th>\n",
       "      <th>LON</th>\n",
       "    </tr>\n",
       "  </thead>\n",
       "  <tbody>\n",
       "    <tr>\n",
       "      <th>0</th>\n",
       "      <td>1983</td>\n",
       "      <td>6</td>\n",
       "      <td>9</td>\n",
       "      <td>6.8</td>\n",
       "      <td>2.562833</td>\n",
       "      <td>-74.103083</td>\n",
       "    </tr>\n",
       "    <tr>\n",
       "      <th>8045</th>\n",
       "      <td>2005</td>\n",
       "      <td>6</td>\n",
       "      <td>18</td>\n",
       "      <td>8.0</td>\n",
       "      <td>2.562833</td>\n",
       "      <td>-74.103083</td>\n",
       "    </tr>\n",
       "    <tr>\n",
       "      <th>8046</th>\n",
       "      <td>2005</td>\n",
       "      <td>6</td>\n",
       "      <td>19</td>\n",
       "      <td>12.0</td>\n",
       "      <td>2.562833</td>\n",
       "      <td>-74.103083</td>\n",
       "    </tr>\n",
       "    <tr>\n",
       "      <th>8047</th>\n",
       "      <td>2005</td>\n",
       "      <td>6</td>\n",
       "      <td>20</td>\n",
       "      <td>0.0</td>\n",
       "      <td>2.562833</td>\n",
       "      <td>-74.103083</td>\n",
       "    </tr>\n",
       "    <tr>\n",
       "      <th>8048</th>\n",
       "      <td>2005</td>\n",
       "      <td>6</td>\n",
       "      <td>21</td>\n",
       "      <td>4.0</td>\n",
       "      <td>2.562833</td>\n",
       "      <td>-74.103083</td>\n",
       "    </tr>\n",
       "  </tbody>\n",
       "</table>\n",
       "</div>"
      ],
      "text/plain": [
       "       Año  Mes  Día  prec       LAT        LON\n",
       "0     1983    6    9   6.8  2.562833 -74.103083\n",
       "8045  2005    6   18   8.0  2.562833 -74.103083\n",
       "8046  2005    6   19  12.0  2.562833 -74.103083\n",
       "8047  2005    6   20   0.0  2.562833 -74.103083\n",
       "8048  2005    6   21   4.0  2.562833 -74.103083"
      ]
     },
     "execution_count": 39,
     "metadata": {},
     "output_type": "execute_result"
    }
   ],
   "source": [
    "new_data.head(5)"
   ]
  },
  {
   "cell_type": "code",
   "execution_count": 40,
   "metadata": {},
   "outputs": [
    {
     "name": "stdout",
     "output_type": "stream",
     "text": [
      "<class 'pandas.core.frame.DataFrame'>\n",
      "Int64Index: 656436 entries, 0 to 656435\n",
      "Data columns (total 6 columns):\n",
      " #   Column  Non-Null Count   Dtype  \n",
      "---  ------  --------------   -----  \n",
      " 0   Año     656436 non-null  int64  \n",
      " 1   Mes     656436 non-null  int64  \n",
      " 2   Día     656436 non-null  int64  \n",
      " 3   prec    592124 non-null  float64\n",
      " 4   LAT     656436 non-null  float64\n",
      " 5   LON     656436 non-null  float64\n",
      "dtypes: float64(3), int64(3)\n",
      "memory usage: 35.1 MB\n"
     ]
    }
   ],
   "source": [
    "new_data.info()"
   ]
  },
  {
   "attachments": {},
   "cell_type": "markdown",
   "metadata": {},
   "source": [
    "### Separacion de datos completos y faltantes"
   ]
  },
  {
   "cell_type": "markdown",
   "metadata": {},
   "source": [
    "Surge de la necesidad de tener la data completa para tener el registro de los datos observados reales, los cuales son los que brindaran el soporte a las matricas estadisticas de desempeño como el RMSE,MAE,PRMSE"
   ]
  },
  {
   "cell_type": "code",
   "execution_count": 20,
   "metadata": {},
   "outputs": [],
   "source": [
    "# Separar los datos completos de los datos con valores faltantes en 'Prec'\n",
    "data_completa = new_data.dropna(subset=['prec'])\n",
    "data_faltantes = new_data[new_data['prec'].isna()]\n"
   ]
  },
  {
   "cell_type": "code",
   "execution_count": 21,
   "metadata": {},
   "outputs": [
    {
     "name": "stdout",
     "output_type": "stream",
     "text": [
      "<class 'pandas.core.frame.DataFrame'>\n",
      "Int64Index: 64312 entries, 8801 to 654274\n",
      "Data columns (total 6 columns):\n",
      " #   Column  Non-Null Count  Dtype  \n",
      "---  ------  --------------  -----  \n",
      " 0   Año     64312 non-null  int64  \n",
      " 1   Mes     64312 non-null  int64  \n",
      " 2   Día     64312 non-null  int64  \n",
      " 3   prec    0 non-null      float64\n",
      " 4   LAT     64312 non-null  float64\n",
      " 5   LON     64312 non-null  float64\n",
      "dtypes: float64(3), int64(3)\n",
      "memory usage: 3.4 MB\n"
     ]
    }
   ],
   "source": [
    "data_faltantes.info()"
   ]
  },
  {
   "cell_type": "code",
   "execution_count": 22,
   "metadata": {},
   "outputs": [
    {
     "name": "stdout",
     "output_type": "stream",
     "text": [
      "<class 'pandas.core.frame.DataFrame'>\n",
      "Int64Index: 592124 entries, 0 to 656435\n",
      "Data columns (total 6 columns):\n",
      " #   Column  Non-Null Count   Dtype  \n",
      "---  ------  --------------   -----  \n",
      " 0   Año     592124 non-null  int64  \n",
      " 1   Mes     592124 non-null  int64  \n",
      " 2   Día     592124 non-null  int64  \n",
      " 3   prec    592124 non-null  float64\n",
      " 4   LAT     592124 non-null  float64\n",
      " 5   LON     592124 non-null  float64\n",
      "dtypes: float64(3), int64(3)\n",
      "memory usage: 31.6 MB\n"
     ]
    }
   ],
   "source": [
    "data_completa.info()"
   ]
  },
  {
   "attachments": {},
   "cell_type": "markdown",
   "metadata": {},
   "source": [
    "Ahora para simular los datos faltantes reales del 8.27%, se imputaran el 10% de datos faltantes por medio de una funcion aletoria para un total de 59.212 datos faltantes, la funcion toma aletoriamente las posiciones de la variable seleccionada y realizara un extraccion de la informacion, dejando asi un registro faltante como resultado.\n",
    "\n",
    "Esto con el objetivo de simular la situacion del modelo en una naturaleza de los datos completamente al azar "
   ]
  },
  {
   "cell_type": "code",
   "execution_count": 23,
   "metadata": {},
   "outputs": [],
   "source": [
    "import numpy as np\n",
    "\n",
    "def insertar_nan_aleatoriamente(df, nombre_columna, fraccion):\n",
    "    df = df.copy()\n",
    "    df['Original'] = df[nombre_columna]\n",
    "    indices_a_modificar = df[nombre_columna].dropna().sample(frac=fraccion).index\n",
    "    df.loc[indices_a_modificar, nombre_columna] = np.nan\n",
    "    return df\n",
    "\n",
    "# Insertar aleatoriamente NaN en el 20% de los datos\n",
    "data_completa_mod = insertar_nan_aleatoriamente(data_completa, 'prec', 0.1)\n"
   ]
  },
  {
   "cell_type": "code",
   "execution_count": 24,
   "metadata": {},
   "outputs": [
    {
     "name": "stdout",
     "output_type": "stream",
     "text": [
      "<class 'pandas.core.frame.DataFrame'>\n",
      "Int64Index: 592124 entries, 0 to 656435\n",
      "Data columns (total 7 columns):\n",
      " #   Column    Non-Null Count   Dtype  \n",
      "---  ------    --------------   -----  \n",
      " 0   Año       592124 non-null  int64  \n",
      " 1   Mes       592124 non-null  int64  \n",
      " 2   Día       592124 non-null  int64  \n",
      " 3   prec      532912 non-null  float64\n",
      " 4   LAT       592124 non-null  float64\n",
      " 5   LON       592124 non-null  float64\n",
      " 6   Original  592124 non-null  float64\n",
      "dtypes: float64(4), int64(3)\n",
      "memory usage: 52.3 MB\n"
     ]
    },
    {
     "data": {
      "text/html": [
       "<div>\n",
       "<style scoped>\n",
       "    .dataframe tbody tr th:only-of-type {\n",
       "        vertical-align: middle;\n",
       "    }\n",
       "\n",
       "    .dataframe tbody tr th {\n",
       "        vertical-align: top;\n",
       "    }\n",
       "\n",
       "    .dataframe thead th {\n",
       "        text-align: right;\n",
       "    }\n",
       "</style>\n",
       "<table border=\"1\" class=\"dataframe\">\n",
       "  <thead>\n",
       "    <tr style=\"text-align: right;\">\n",
       "      <th></th>\n",
       "      <th>Año</th>\n",
       "      <th>Mes</th>\n",
       "      <th>Día</th>\n",
       "      <th>prec</th>\n",
       "      <th>LAT</th>\n",
       "      <th>LON</th>\n",
       "      <th>Original</th>\n",
       "    </tr>\n",
       "  </thead>\n",
       "  <tbody>\n",
       "    <tr>\n",
       "      <th>0</th>\n",
       "      <td>1983</td>\n",
       "      <td>6</td>\n",
       "      <td>9</td>\n",
       "      <td>6.8</td>\n",
       "      <td>2.562833</td>\n",
       "      <td>-74.103083</td>\n",
       "      <td>6.8</td>\n",
       "    </tr>\n",
       "    <tr>\n",
       "      <th>8045</th>\n",
       "      <td>2005</td>\n",
       "      <td>6</td>\n",
       "      <td>18</td>\n",
       "      <td>8.0</td>\n",
       "      <td>2.562833</td>\n",
       "      <td>-74.103083</td>\n",
       "      <td>8.0</td>\n",
       "    </tr>\n",
       "    <tr>\n",
       "      <th>8046</th>\n",
       "      <td>2005</td>\n",
       "      <td>6</td>\n",
       "      <td>19</td>\n",
       "      <td>12.0</td>\n",
       "      <td>2.562833</td>\n",
       "      <td>-74.103083</td>\n",
       "      <td>12.0</td>\n",
       "    </tr>\n",
       "    <tr>\n",
       "      <th>8047</th>\n",
       "      <td>2005</td>\n",
       "      <td>6</td>\n",
       "      <td>20</td>\n",
       "      <td>NaN</td>\n",
       "      <td>2.562833</td>\n",
       "      <td>-74.103083</td>\n",
       "      <td>0.0</td>\n",
       "    </tr>\n",
       "    <tr>\n",
       "      <th>8048</th>\n",
       "      <td>2005</td>\n",
       "      <td>6</td>\n",
       "      <td>21</td>\n",
       "      <td>4.0</td>\n",
       "      <td>2.562833</td>\n",
       "      <td>-74.103083</td>\n",
       "      <td>4.0</td>\n",
       "    </tr>\n",
       "    <tr>\n",
       "      <th>8049</th>\n",
       "      <td>2005</td>\n",
       "      <td>6</td>\n",
       "      <td>22</td>\n",
       "      <td>0.0</td>\n",
       "      <td>2.562833</td>\n",
       "      <td>-74.103083</td>\n",
       "      <td>0.0</td>\n",
       "    </tr>\n",
       "    <tr>\n",
       "      <th>8050</th>\n",
       "      <td>2005</td>\n",
       "      <td>6</td>\n",
       "      <td>23</td>\n",
       "      <td>NaN</td>\n",
       "      <td>2.562833</td>\n",
       "      <td>-74.103083</td>\n",
       "      <td>3.0</td>\n",
       "    </tr>\n",
       "    <tr>\n",
       "      <th>8051</th>\n",
       "      <td>2005</td>\n",
       "      <td>6</td>\n",
       "      <td>24</td>\n",
       "      <td>41.0</td>\n",
       "      <td>2.562833</td>\n",
       "      <td>-74.103083</td>\n",
       "      <td>41.0</td>\n",
       "    </tr>\n",
       "    <tr>\n",
       "      <th>8052</th>\n",
       "      <td>2005</td>\n",
       "      <td>6</td>\n",
       "      <td>25</td>\n",
       "      <td>8.0</td>\n",
       "      <td>2.562833</td>\n",
       "      <td>-74.103083</td>\n",
       "      <td>8.0</td>\n",
       "    </tr>\n",
       "    <tr>\n",
       "      <th>8053</th>\n",
       "      <td>2005</td>\n",
       "      <td>6</td>\n",
       "      <td>26</td>\n",
       "      <td>3.0</td>\n",
       "      <td>2.562833</td>\n",
       "      <td>-74.103083</td>\n",
       "      <td>3.0</td>\n",
       "    </tr>\n",
       "  </tbody>\n",
       "</table>\n",
       "</div>"
      ],
      "text/plain": [
       "       Año  Mes  Día  prec       LAT        LON  Original\n",
       "0     1983    6    9   6.8  2.562833 -74.103083       6.8\n",
       "8045  2005    6   18   8.0  2.562833 -74.103083       8.0\n",
       "8046  2005    6   19  12.0  2.562833 -74.103083      12.0\n",
       "8047  2005    6   20   NaN  2.562833 -74.103083       0.0\n",
       "8048  2005    6   21   4.0  2.562833 -74.103083       4.0\n",
       "8049  2005    6   22   0.0  2.562833 -74.103083       0.0\n",
       "8050  2005    6   23   NaN  2.562833 -74.103083       3.0\n",
       "8051  2005    6   24  41.0  2.562833 -74.103083      41.0\n",
       "8052  2005    6   25   8.0  2.562833 -74.103083       8.0\n",
       "8053  2005    6   26   3.0  2.562833 -74.103083       3.0"
      ]
     },
     "execution_count": 24,
     "metadata": {},
     "output_type": "execute_result"
    }
   ],
   "source": [
    "data_completa_mod.info()\n",
    "data_completa_mod.head(10)"
   ]
  },
  {
   "attachments": {},
   "cell_type": "markdown",
   "metadata": {},
   "source": [
    "Visualiuzacion datos faltantes para la data completa modificada"
   ]
  },
  {
   "cell_type": "code",
   "execution_count": 25,
   "metadata": {},
   "outputs": [
    {
     "data": {
      "text/plain": [
       "<Figure size 720x432 with 0 Axes>"
      ]
     },
     "metadata": {},
     "output_type": "display_data"
    },
    {
     "data": {
      "image/png": "[encoded data removed]",
      "text/plain": [
       "<Figure size 1800x720 with 2 Axes>"
      ]
     },
     "metadata": {
      "needs_background": "light"
     },
     "output_type": "display_data"
    }
   ],
   "source": [
    "import pandas as pd\n",
    "import missingno as msno\n",
    "import matplotlib.pyplot as plt\n",
    "\n",
    "# Suponemos que 'data' es tu DataFrame\n",
    "\n",
    "# Visualizar la completitud de los datos con matriz\n",
    "plt.figure(figsize=(10,6))\n",
    "msno.matrix(data_completa_mod)\n",
    "plt.title('Matriz de completitud de los datos', fontsize=20)\n",
    "plt.show()\n"
   ]
  },
  {
   "cell_type": "code",
   "execution_count": 28,
   "metadata": {},
   "outputs": [
    {
     "data": {
      "text/html": [
       "<div>\n",
       "<style scoped>\n",
       "    .dataframe tbody tr th:only-of-type {\n",
       "        vertical-align: middle;\n",
       "    }\n",
       "\n",
       "    .dataframe tbody tr th {\n",
       "        vertical-align: top;\n",
       "    }\n",
       "\n",
       "    .dataframe thead th {\n",
       "        text-align: right;\n",
       "    }\n",
       "</style>\n",
       "<table border=\"1\" class=\"dataframe\">\n",
       "  <thead>\n",
       "    <tr style=\"text-align: right;\">\n",
       "      <th></th>\n",
       "      <th>Año</th>\n",
       "      <th>Mes</th>\n",
       "      <th>Día</th>\n",
       "      <th>prec</th>\n",
       "      <th>LAT</th>\n",
       "      <th>LON</th>\n",
       "      <th>Original</th>\n",
       "    </tr>\n",
       "  </thead>\n",
       "  <tbody>\n",
       "    <tr>\n",
       "      <th>8048</th>\n",
       "      <td>2005</td>\n",
       "      <td>6</td>\n",
       "      <td>21</td>\n",
       "      <td>NaN</td>\n",
       "      <td>2.562833</td>\n",
       "      <td>-74.103083</td>\n",
       "      <td>4.0</td>\n",
       "    </tr>\n",
       "    <tr>\n",
       "      <th>8050</th>\n",
       "      <td>2005</td>\n",
       "      <td>6</td>\n",
       "      <td>23</td>\n",
       "      <td>NaN</td>\n",
       "      <td>2.562833</td>\n",
       "      <td>-74.103083</td>\n",
       "      <td>3.0</td>\n",
       "    </tr>\n",
       "    <tr>\n",
       "      <th>8022</th>\n",
       "      <td>2005</td>\n",
       "      <td>5</td>\n",
       "      <td>26</td>\n",
       "      <td>NaN</td>\n",
       "      <td>2.562833</td>\n",
       "      <td>-74.103083</td>\n",
       "      <td>27.0</td>\n",
       "    </tr>\n",
       "    <tr>\n",
       "      <th>8073</th>\n",
       "      <td>2005</td>\n",
       "      <td>7</td>\n",
       "      <td>16</td>\n",
       "      <td>NaN</td>\n",
       "      <td>2.562833</td>\n",
       "      <td>-74.103083</td>\n",
       "      <td>25.0</td>\n",
       "    </tr>\n",
       "    <tr>\n",
       "      <th>8076</th>\n",
       "      <td>2005</td>\n",
       "      <td>7</td>\n",
       "      <td>19</td>\n",
       "      <td>NaN</td>\n",
       "      <td>2.562833</td>\n",
       "      <td>-74.103083</td>\n",
       "      <td>3.0</td>\n",
       "    </tr>\n",
       "    <tr>\n",
       "      <th>...</th>\n",
       "      <td>...</td>\n",
       "      <td>...</td>\n",
       "      <td>...</td>\n",
       "      <td>...</td>\n",
       "      <td>...</td>\n",
       "      <td>...</td>\n",
       "      <td>...</td>\n",
       "    </tr>\n",
       "    <tr>\n",
       "      <th>654371</th>\n",
       "      <td>2008</td>\n",
       "      <td>11</td>\n",
       "      <td>22</td>\n",
       "      <td>NaN</td>\n",
       "      <td>4.260361</td>\n",
       "      <td>-72.564472</td>\n",
       "      <td>8.3</td>\n",
       "    </tr>\n",
       "    <tr>\n",
       "      <th>654372</th>\n",
       "      <td>2008</td>\n",
       "      <td>11</td>\n",
       "      <td>23</td>\n",
       "      <td>NaN</td>\n",
       "      <td>4.260361</td>\n",
       "      <td>-72.564472</td>\n",
       "      <td>0.7</td>\n",
       "    </tr>\n",
       "    <tr>\n",
       "      <th>654231</th>\n",
       "      <td>2008</td>\n",
       "      <td>7</td>\n",
       "      <td>5</td>\n",
       "      <td>NaN</td>\n",
       "      <td>4.260361</td>\n",
       "      <td>-72.564472</td>\n",
       "      <td>0.0</td>\n",
       "    </tr>\n",
       "    <tr>\n",
       "      <th>654234</th>\n",
       "      <td>2008</td>\n",
       "      <td>7</td>\n",
       "      <td>8</td>\n",
       "      <td>NaN</td>\n",
       "      <td>4.260361</td>\n",
       "      <td>-72.564472</td>\n",
       "      <td>1.3</td>\n",
       "    </tr>\n",
       "    <tr>\n",
       "      <th>654218</th>\n",
       "      <td>2008</td>\n",
       "      <td>6</td>\n",
       "      <td>22</td>\n",
       "      <td>NaN</td>\n",
       "      <td>4.260361</td>\n",
       "      <td>-72.564472</td>\n",
       "      <td>1.6</td>\n",
       "    </tr>\n",
       "  </tbody>\n",
       "</table>\n",
       "<p>59212 rows × 7 columns</p>\n",
       "</div>"
      ],
      "text/plain": [
       "         Año  Mes  Día  prec       LAT        LON  Original\n",
       "8048    2005    6   21   NaN  2.562833 -74.103083       4.0\n",
       "8050    2005    6   23   NaN  2.562833 -74.103083       3.0\n",
       "8022    2005    5   26   NaN  2.562833 -74.103083      27.0\n",
       "8073    2005    7   16   NaN  2.562833 -74.103083      25.0\n",
       "8076    2005    7   19   NaN  2.562833 -74.103083       3.0\n",
       "...      ...  ...  ...   ...       ...        ...       ...\n",
       "654371  2008   11   22   NaN  4.260361 -72.564472       8.3\n",
       "654372  2008   11   23   NaN  4.260361 -72.564472       0.7\n",
       "654231  2008    7    5   NaN  4.260361 -72.564472       0.0\n",
       "654234  2008    7    8   NaN  4.260361 -72.564472       1.3\n",
       "654218  2008    6   22   NaN  4.260361 -72.564472       1.6\n",
       "\n",
       "[59212 rows x 7 columns]"
      ]
     },
     "execution_count": 28,
     "metadata": {},
     "output_type": "execute_result"
    }
   ],
   "source": [
    "soloNAn=na_rows = data_completa_mod[data_completa_mod['prec'].isna()]\n",
    "soloNAn"
   ]
  },
  {
   "attachments": {},
   "cell_type": "markdown",
   "metadata": {},
   "source": [
    "## Prueba de aletoriedad "
   ]
  },
  {
   "cell_type": "code",
   "execution_count": 33,
   "metadata": {},
   "outputs": [],
   "source": [
    "import missingno as msno\n",
    "import numpy as np\n",
    "import scipy.stats as stats\n"
   ]
  },
  {
   "cell_type": "code",
   "execution_count": 32,
   "metadata": {},
   "outputs": [
    {
     "ename": "AttributeError",
     "evalue": "module 'scipy.stats' has no attribute 'littles_test'",
     "output_type": "error",
     "traceback": [
      "\u001b[1;31m---------------------------------------------------------------------------\u001b[0m",
      "\u001b[1;31mAttributeError\u001b[0m                            Traceback (most recent call last)",
      "\u001b[1;32mf:\\TESIS\\Proyecto_mod_precipitacion\\Codigos de Python\\NoteNook_model_KNN.ipynb Cell 51\u001b[0m in \u001b[0;36m<cell line: 5>\u001b[1;34m()\u001b[0m\n\u001b[0;32m      <a href='vscode-notebook-cell:/f%3A/TESIS/Proyecto_mod_precipitacion/Codigos%20de%20Python/NoteNook_model_KNN.ipynb#Y153sZmlsZQ%3D%3D?line=1'>2</a>\u001b[0m msno\u001b[39m.\u001b[39mmatrix(data_completa_mod)\n\u001b[0;32m      <a href='vscode-notebook-cell:/f%3A/TESIS/Proyecto_mod_precipitacion/Codigos%20de%20Python/NoteNook_model_KNN.ipynb#Y153sZmlsZQ%3D%3D?line=3'>4</a>\u001b[0m \u001b[39m# Perform the Little's MCAR test\u001b[39;00m\n\u001b[1;32m----> <a href='vscode-notebook-cell:/f%3A/TESIS/Proyecto_mod_precipitacion/Codigos%20de%20Python/NoteNook_model_KNN.ipynb#Y153sZmlsZQ%3D%3D?line=4'>5</a>\u001b[0m littles_test \u001b[39m=\u001b[39m stats\u001b[39m.\u001b[39;49mlittles_test(data_completa_mod)\n\u001b[0;32m      <a href='vscode-notebook-cell:/f%3A/TESIS/Proyecto_mod_precipitacion/Codigos%20de%20Python/NoteNook_model_KNN.ipynb#Y153sZmlsZQ%3D%3D?line=6'>7</a>\u001b[0m \u001b[39m# Print the test results\u001b[39;00m\n\u001b[0;32m      <a href='vscode-notebook-cell:/f%3A/TESIS/Proyecto_mod_precipitacion/Codigos%20de%20Python/NoteNook_model_KNN.ipynb#Y153sZmlsZQ%3D%3D?line=7'>8</a>\u001b[0m \u001b[39mprint\u001b[39m(littles_test)\n",
      "\u001b[1;31mAttributeError\u001b[0m: module 'scipy.stats' has no attribute 'littles_test'"
     ]
    },
    {
     "data": {
      "image/png": "[encoded data removed]",
      "text/plain": [
       "<Figure size 1800x720 with 2 Axes>"
      ]
     },
     "metadata": {
      "needs_background": "light"
     },
     "output_type": "display_data"
    }
   ],
   "source": [
    "# Visualize the missing values\n",
    "msno.matrix(data_completa_mod)\n",
    "\n",
    "# Perform the Little's MCAR test\n",
    "littles_test = stats.littles_test(data_completa_mod)\n",
    "\n",
    "# Print the test results\n",
    "print(littles_test)"
   ]
  },
  {
   "cell_type": "code",
   "execution_count": 36,
   "metadata": {},
   "outputs": [
    {
     "ename": "AttributeError",
     "evalue": "module 'missingno' has no attribute 'mcar_test'",
     "output_type": "error",
     "traceback": [
      "\u001b[1;31m---------------------------------------------------------------------------\u001b[0m",
      "\u001b[1;31mAttributeError\u001b[0m                            Traceback (most recent call last)",
      "\u001b[1;32mf:\\TESIS\\Proyecto_mod_precipitacion\\Codigos de Python\\NoteNook_model_KNN.ipynb Cell 52\u001b[0m in \u001b[0;36m<cell line: 4>\u001b[1;34m()\u001b[0m\n\u001b[0;32m      <a href='vscode-notebook-cell:/f%3A/TESIS/Proyecto_mod_precipitacion/Codigos%20de%20Python/NoteNook_model_KNN.ipynb#Y154sZmlsZQ%3D%3D?line=0'>1</a>\u001b[0m \u001b[39mimport\u001b[39;00m \u001b[39mmissingno\u001b[39;00m \u001b[39mas\u001b[39;00m \u001b[39mmsno\u001b[39;00m\n\u001b[0;32m      <a href='vscode-notebook-cell:/f%3A/TESIS/Proyecto_mod_precipitacion/Codigos%20de%20Python/NoteNook_model_KNN.ipynb#Y154sZmlsZQ%3D%3D?line=2'>3</a>\u001b[0m \u001b[39m# Perform the Little's MCAR test\u001b[39;00m\n\u001b[1;32m----> <a href='vscode-notebook-cell:/f%3A/TESIS/Proyecto_mod_precipitacion/Codigos%20de%20Python/NoteNook_model_KNN.ipynb#Y154sZmlsZQ%3D%3D?line=3'>4</a>\u001b[0m mcar_test \u001b[39m=\u001b[39m msno\u001b[39m.\u001b[39;49mmcar_test(data_completa_mod)\n\u001b[0;32m      <a href='vscode-notebook-cell:/f%3A/TESIS/Proyecto_mod_precipitacion/Codigos%20de%20Python/NoteNook_model_KNN.ipynb#Y154sZmlsZQ%3D%3D?line=5'>6</a>\u001b[0m \u001b[39m# Print the test results\u001b[39;00m\n\u001b[0;32m      <a href='vscode-notebook-cell:/f%3A/TESIS/Proyecto_mod_precipitacion/Codigos%20de%20Python/NoteNook_model_KNN.ipynb#Y154sZmlsZQ%3D%3D?line=6'>7</a>\u001b[0m \u001b[39mprint\u001b[39m(mcar_test)\n",
      "\u001b[1;31mAttributeError\u001b[0m: module 'missingno' has no attribute 'mcar_test'"
     ]
    }
   ],
   "source": []
  },
  {
   "attachments": {},
   "cell_type": "markdown",
   "metadata": {},
   "source": [
    "Aplicacion del modelo a los datos reales"
   ]
  },
  {
   "cell_type": "markdown",
   "metadata": {},
   "source": [
    "Lectura de librerias necesarias para el modelo KNN para imputacion de datos faltantes en paralelizacion con CPU"
   ]
  },
  {
   "cell_type": "code",
   "execution_count": 26,
   "metadata": {},
   "outputs": [],
   "source": [
    "import pandas as pd\n",
    "import numpy as np\n",
    "from sklearn.impute import KNNImputer\n",
    "from joblib import Parallel, delayed"
   ]
  },
  {
   "cell_type": "markdown",
   "metadata": {},
   "source": [
    "### KNN Ejecucion"
   ]
  },
  {
   "cell_type": "markdown",
   "metadata": {},
   "source": [
    "El algoritmo k-NN opera bajo la premisa de que una observación con valores desconocidos puede ser aproximada utilizando información de sus vecinos más cercanos en el espacio de características (Hastie et al., 2001). El proceso se puede desglosar en los siguientes pasos:\n",
    "\n",
    "Preprocesamiento de Datos: Antes de aplicar k-NN, es esencial estandarizar los datos. Esta etapa es crucial ya que k-NN es un algoritmo basado en distancias y, por lo tanto, es sensible a la escala en la que se encuentren las diferentes características (Hastie et al., 2001).\n",
    "\n",
    "\n",
    "Determinación del Parámetro 'k': El parámetro 'k' denota el número de vecinos que se utilizarán para la imputación. Si bien el valor óptimo de 'k' puede variar según el conjunto de datos y el contexto, estudios previos sugieren que un rango entre 3 y 10 suele ser adecuado (Troyanskaya et al., 2001). Especialmente para la precipitación, donde la correlación espacial y temporal entre estaciones cercanas puede ser relevante, es vital una selección cuidadosa de 'k'.\n",
    "\n",
    "\n",
    "Selección de la Métrica de Distancia: El rendimiento del algoritmo k-NN está intrínsecamente vinculado a la métrica de distancia empleada. Las métricas más utilizadas incluyen la distancia euclidiana y la de Manhattan, pero la elección final debe basarse en la naturaleza del conjunto de datos y las correlaciones presentes (James et al., 2013).\n",
    "\n",
    "\n",
    "Identificación de Vecinos y Imputación: Con los pasos anteriores completados, para cada dato faltante, el algoritmo identifica los 'k' vecinos más cercanos basándose en la métrica de distancia seleccionada. Posteriormente, se realiza la imputación utilizando, por ejemplo, un promedio ponderado de los valores de estos vecinos."
   ]
  },
  {
   "cell_type": "markdown",
   "metadata": {},
   "source": [
    "### Validacion cruzada Generalizada para el K optimo\n",
    "\n",
    "Dentro de las estrategias de imputación, el método K-Nearest Neighbors (KNN) se destaca por su capacidad de considerar patrones subyacentes en los datos para llenar los valores faltantes. Específicamente, el parámetro k en KNN se refiere al número de observaciones más cercanas a considerar al imputar un punto de dato faltante. Determinar el valor óptimo de k es crucial para la precisión de la imputación, ya que una selección errónea podría desencadenar imprecisiones que distorsionen la naturaleza inherente de la serie temporal, especialmente cuando se trata de datos meteorológicos con sus inherentes fluctuaciones y tendencias[^1^]. Con el objetivo de afinar esta selección, hemos empleado una estrategia de validación cruzada generalizada. Esta metodología, aplicada estación por estación, proporciona una evaluación más robusta y detallada del desempeño de KNN para diferentes valores de k, optimizando así la precisión de la imputación a lo largo de las estaciones meteorológicas[^2^].\n",
    " \n",
    "\\begin{thebibliography}{99}\n",
    "\n",
    "\\bibitem{ref1}\n",
    "Batista, G. E., & Monard, M. C. (2003).\n",
    "\\textit{An analysis of four missing data treatment methods for supervised learning.}\n",
    "Applied Artificial Intelligence, 17(5-6), 519-533.\n",
    "\n",
    "\\bibitem{ref2}\n",
    "Troyanskaya, O., Cantor, M., Sherlock, G., Brown, P., Hastie, T., Tibshirani, R., ... & Altman, R. B. (2001).\n",
    "\\textit{Missing value estimation methods for DNA microarrays.}\n",
    "Bioinformatics, 17(6), 520-525.\n",
    "\n",
    "\\end{thebibliography}\n"
   ]
  },
  {
   "cell_type": "code",
   "execution_count": null,
   "metadata": {},
   "outputs": [],
   "source": [
    "from sklearn.model_selection import KFold\n",
    "import matplotlib.pyplot as plt\n",
    "\n",
    "def compute_cv_mse_for_station(station_data, k, n_splits=5):\n",
    "    \"\"\"\n",
    "    Compute the mean cross-validated MSE for a given value of k for a station.\n",
    "    \"\"\"\n",
    "    kf = KFold(n_splits=n_splits)\n",
    "    imputer = KNNImputer(n_neighbors=k)\n",
    "    mse_list = []\n",
    "    \n",
    "    for train_index, test_index in kf.split(station_data):\n",
    "        train_data, test_data = station_data.iloc[train_index], station_data.iloc[test_index]\n",
    "        imputed_train = imputer.fit_transform(train_data[['Prec']])\n",
    "        mse = mean_squared_error(train_data['Prec'].values, imputed_train)\n",
    "        mse_list.append(mse)\n",
    "        \n",
    "    return np.mean(mse_list)\n",
    "\n",
    "def compute_avg_mse_for_k(data, k, n_splits=5, n_jobs=5):\n",
    "    stations = data['ID'].unique()\n",
    "    mse_values = Parallel(n_jobs=n_jobs)(\n",
    "        delayed(compute_cv_mse_for_station)(data[data['ID'] == station], k, n_splits) for station in stations\n",
    "    )\n",
    "    return np.mean(mse_values)\n",
    "\n",
    "k_values = list(range(1, 31))\n",
    "avg_mse_values = []\n",
    "\n",
    "for k in k_values:\n",
    "    avg_mse = compute_avg_mse_for_k(data, k)\n",
    "    avg_mse_values.append(avg_mse)\n",
    "\n",
    "optimal_k = k_values[np.argmin(avg_mse_values)]\n",
    "\n",
    "# Plotting the results\n",
    "plt.figure(figsize=(10, 6))\n",
    "plt.plot(k_values, avg_mse_values, marker='o', linestyle='-')\n",
    "plt.xlabel('Number of Neighbors (k)')\n",
    "plt.ylabel('Average MSE across Stations')\n",
    "plt.title('Average MSE vs. k for KNN Imputation Across Stations')\n",
    "plt.axvline(x=optimal_k, color='r', linestyle='--')\n",
    "plt.show()\n",
    "\n",
    "print(f\"The optimal value of k using k-fold cross validation across stations is: {optimal_k}\")\n"
   ]
  },
  {
   "cell_type": "markdown",
   "metadata": {},
   "source": [
    "##### Grafico de codo y silueta para encontrar ek K optimo "
   ]
  },
  {
   "cell_type": "code",
   "execution_count": null,
   "metadata": {},
   "outputs": [],
   "source": []
  },
  {
   "attachments": {},
   "cell_type": "markdown",
   "metadata": {},
   "source": [
    "Funcion de imputacion 5 vecinos cercanos"
   ]
  },
  {
   "cell_type": "code",
   "execution_count": 47,
   "metadata": {},
   "outputs": [],
   "source": [
    "def impute_precipitation_for_station(station_data, n_neighbors=5):\n",
    "    imputer = KNNImputer(n_neighbors=n_neighbors)\n",
    "    station_data_imputed = imputer.fit_transform(station_data[['prec']])\n",
    "    station_data['prec_imputed'] = station_data_imputed\n",
    "    return station_data\n"
   ]
  },
  {
   "attachments": {},
   "cell_type": "markdown",
   "metadata": {},
   "source": [
    "\n",
    "La función impute_precipitation_parallel ejecutará la imputación de datos de precipitación \n",
    "utilizando KNN Imputer en paralelo para todas las estaciones en tus datos. \n",
    "El parámetro n_jobs controla el número de procesos en paralelo. \n",
    "Si n_jobs=-1, se utilizarán todos los núcleos disponibles en tu computadora."
   ]
  },
  {
   "attachments": {},
   "cell_type": "markdown",
   "metadata": {},
   "source": [
    "El parámetro n_jobs controla el número de procesos en paralelo. Si n_jobs=-1, \n",
    "se utilizarán todos los núcleos disponibles en tu computadora."
   ]
  },
  {
   "cell_type": "code",
   "execution_count": 48,
   "metadata": {},
   "outputs": [],
   "source": [
    "def impute_precipitation_parallel(data, n_jobs=5):\n",
    "    stations = data['ID'].unique()\n",
    "    results = Parallel(n_jobs=n_jobs)(\n",
    "        delayed(impute_precipitation_for_station)(data[data['ID'] == station]) for station in stations\n",
    "    )\n",
    "    imputed_data = pd.concat(results, ignore_index=True)\n",
    "    return imputed_data\n",
    "\n",
    "data['Date'] = pd.to_datetime(data['Date']) "
   ]
  },
  {
   "attachments": {},
   "cell_type": "markdown",
   "metadata": {},
   "source": [
    "Aplicacion de la funcion para los datos"
   ]
  },
  {
   "cell_type": "code",
   "execution_count": 49,
   "metadata": {},
   "outputs": [
    {
     "name": "stdout",
     "output_type": "stream",
     "text": [
      "             Date  prec        ID       LAT        LON  prec_imputed\n",
      "0      1983-06-09   6.8  32010010  2.562833 -74.103083           6.8\n",
      "1      1983-06-10  17.8  32010010  2.562833 -74.103083          17.8\n",
      "2      1983-06-11   0.0  32010010  2.562833 -74.103083           0.0\n",
      "3      1983-06-12   0.5  32010010  2.562833 -74.103083           0.5\n",
      "4      1983-06-13   6.9  32010010  2.562833 -74.103083           6.9\n",
      "...           ...   ...       ...       ...        ...           ...\n",
      "656431 2014-07-14   0.1  35185010  4.260361 -72.564472           0.1\n",
      "656432 2014-07-15   9.8  35185010  4.260361 -72.564472           9.8\n",
      "656433 2014-07-16   0.0  35185010  4.260361 -72.564472           0.0\n",
      "656434 2014-07-17   4.5  35185010  4.260361 -72.564472           4.5\n",
      "656435 2014-07-18   0.0  35185010  4.260361 -72.564472           0.0\n",
      "\n",
      "[656436 rows x 6 columns]\n"
     ]
    }
   ],
   "source": [
    "imputed_data = impute_precipitation_parallel(data)\n",
    "print(imputed_data)"
   ]
  },
  {
   "cell_type": "code",
   "execution_count": 16,
   "metadata": {},
   "outputs": [
    {
     "name": "stdout",
     "output_type": "stream",
     "text": [
      "<class 'pandas.core.frame.DataFrame'>\n",
      "RangeIndex: 656436 entries, 0 to 656435\n",
      "Data columns (total 6 columns):\n",
      " #   Column        Non-Null Count   Dtype         \n",
      "---  ------        --------------   -----         \n",
      " 0   Date          656436 non-null  datetime64[ns]\n",
      " 1   prec          592124 non-null  float64       \n",
      " 2   ID            656436 non-null  int64         \n",
      " 3   LAT           656436 non-null  float64       \n",
      " 4   LON           656436 non-null  float64       \n",
      " 5   prec_imputed  656436 non-null  float64       \n",
      "dtypes: datetime64[ns](1), float64(4), int64(1)\n",
      "memory usage: 30.0 MB\n"
     ]
    },
    {
     "data": {
      "text/html": [
       "<div>\n",
       "<style scoped>\n",
       "    .dataframe tbody tr th:only-of-type {\n",
       "        vertical-align: middle;\n",
       "    }\n",
       "\n",
       "    .dataframe tbody tr th {\n",
       "        vertical-align: top;\n",
       "    }\n",
       "\n",
       "    .dataframe thead th {\n",
       "        text-align: right;\n",
       "    }\n",
       "</style>\n",
       "<table border=\"1\" class=\"dataframe\">\n",
       "  <thead>\n",
       "    <tr style=\"text-align: right;\">\n",
       "      <th></th>\n",
       "      <th>prec</th>\n",
       "      <th>prec_imputed</th>\n",
       "    </tr>\n",
       "  </thead>\n",
       "  <tbody>\n",
       "    <tr>\n",
       "      <th>count</th>\n",
       "      <td>592124.000000</td>\n",
       "      <td>656436.000000</td>\n",
       "    </tr>\n",
       "    <tr>\n",
       "      <th>mean</th>\n",
       "      <td>8.915141</td>\n",
       "      <td>8.919318</td>\n",
       "    </tr>\n",
       "    <tr>\n",
       "      <th>std</th>\n",
       "      <td>17.865258</td>\n",
       "      <td>16.991514</td>\n",
       "    </tr>\n",
       "    <tr>\n",
       "      <th>min</th>\n",
       "      <td>0.000000</td>\n",
       "      <td>0.000000</td>\n",
       "    </tr>\n",
       "    <tr>\n",
       "      <th>25%</th>\n",
       "      <td>0.000000</td>\n",
       "      <td>0.000000</td>\n",
       "    </tr>\n",
       "    <tr>\n",
       "      <th>50%</th>\n",
       "      <td>0.000000</td>\n",
       "      <td>0.500000</td>\n",
       "    </tr>\n",
       "    <tr>\n",
       "      <th>75%</th>\n",
       "      <td>10.000000</td>\n",
       "      <td>10.000000</td>\n",
       "    </tr>\n",
       "    <tr>\n",
       "      <th>max</th>\n",
       "      <td>438.800000</td>\n",
       "      <td>438.800000</td>\n",
       "    </tr>\n",
       "  </tbody>\n",
       "</table>\n",
       "</div>"
      ],
      "text/plain": [
       "                prec   prec_imputed\n",
       "count  592124.000000  656436.000000\n",
       "mean        8.915141       8.919318\n",
       "std        17.865258      16.991514\n",
       "min         0.000000       0.000000\n",
       "25%         0.000000       0.000000\n",
       "50%         0.000000       0.500000\n",
       "75%        10.000000      10.000000\n",
       "max       438.800000     438.800000"
      ]
     },
     "execution_count": 16,
     "metadata": {},
     "output_type": "execute_result"
    }
   ],
   "source": [
    "imputed_data.info()\n",
    "\n",
    "imputed_data[['prec','prec_imputed']].describe()"
   ]
  },
  {
   "attachments": {},
   "cell_type": "markdown",
   "metadata": {},
   "source": [
    "instalar forzadamente en la terminal pip install dask\n",
    "la cual es una biblioteca de python que permite de manera flexible\n",
    "realizar computacion paralela o procesamientos de informacion en paralelos\n",
    "compuesta de 2 partes :\n",
    "por una parte \"Dynamic task scheduling\" o programacion dinamica de tareas\n",
    "que consta de una orquestacion de los procesos que se estan realizando \n",
    "por parte la libreria para optimizar el calculo reduciendo el uso de memoria\n",
    "y acortando los tiempos \n",
    "\n",
    "Aquí hay una comparación detallada de los dos enfoques de imputación en paralelo:\n",
    "\n",
    "Enfoque 1: joblib\n",
    "\n",
    "Librerías utilizadas:\n",
    "\n",
    "joblib: Esta biblioteca se utiliza para realizar cálculos en paralelo y optimizar la ejecución de bucles en Python. Ofrece una API simple y consistente para la ejecución en paralelo y la gestión de la memoria caché.\n",
    "Características clave:\n",
    "\n",
    "Se usa Parallel y delayed de joblib para ejecutar la función impute_precipitation_for_station en paralelo para cada estación.\n",
    "El parámetro n_jobs controla el número de núcleos de CPU utilizados en la ejecución en paralelo. Si n_jobs = -1, se utilizarán todos los núcleos disponibles.\n",
    "Enfoque 2: dask\n",
    "\n",
    "Librerías utilizadas:\n",
    "\n",
    "dask: Es una biblioteca de Python flexible y optimizada para el procesamiento en paralelo y la computación fuera del núcleo. Proporciona estructuras de datos paralelas y una API familiar inspirada en Pandas.\n",
    "Características clave:\n",
    "\n",
    "Se utiliza dask.dataframe para crear un DataFrame de Dask, que es una estructura de datos paralela similar a un DataFrame de Pandas.\n",
    "El parámetro npartitions controla cuántas particiones se deben crear al dividir el DataFrame de Pandas en partes más pequeñas.\n",
    "En lugar de usar joblib, el enfoque en sí mismo divide el DataFrame en estaciones y ejecuta la imputación para cada estación en las particiones de Dask.\n",
    "Se utiliza el método compute() para convertir los resultados del DataFrame de Dask de vuelta a un DataFrame de Pandas después de la imputación.\n",
    "#Comparación:\n",
    "\n",
    "Ambos enfoques se centran en mejorar la eficiencia al imputar datos en paralelo, pero utilizan diferentes bibliotecas y métodos para lograrlo.\n",
    "\n",
    "El enfoque 1 (joblib) es más simple y fácil de entender, pero podría ser menos eficiente en el manejo de la memoria y la paralelización, especialmente si se trabaja con grandes conjuntos de datos.\n",
    "\n",
    "El enfoque 2 (dask) es más avanzado y ofrece una mayor flexibilidad en el control de la paralelización y la optimización de la memoria. Esto puede resultar en un mejor rendimiento en el caso de conjuntos de datos más grandes o computadoras con recursos limitados. Sin embargo, puede ser un poco más difícil de entender y configurar correctamente.\n",
    "\n",
    "En resumen, la elección del enfoque depende de tus requisitos de rendimiento y del tamaño de los datos que estés procesando. Si estás trabajando con conjuntos de datos muy grandes, el enfoque de Dask podría ser más adecuado. Si la simplicidad es tu principal preocupación y los conjuntos de datos no son excesivamente grandes, entonces el enfoque de joblib podría ser suficiente.\n"
   ]
  },
  {
   "cell_type": "markdown",
   "metadata": {},
   "source": [
    "### Para distancias Mahalanobis"
   ]
  },
  {
   "cell_type": "code",
   "execution_count": 50,
   "metadata": {},
   "outputs": [],
   "source": [
    "from scipy.spatial import distance\n",
    "from numpy.linalg import inv, LinAlgError\n",
    "\n",
    "def mahalanobis_distance(x, y, inv_cov_matrix):\n",
    "    return distance.mahalanobis(x, y, inv_cov_matrix)\n"
   ]
  },
  {
   "cell_type": "code",
   "execution_count": 57,
   "metadata": {},
   "outputs": [
    {
     "ename": "ValueError",
     "evalue": "Input contains NaN, infinity or a value too large for dtype('float64').",
     "output_type": "error",
     "traceback": [
      "\u001b[1;31m---------------------------------------------------------------------------\u001b[0m",
      "\u001b[1;31mValueError\u001b[0m                                Traceback (most recent call last)",
      "\u001b[1;32mf:\\TESIS\\Proyecto_mod_precipitacion\\Codigos de Python\\NoteNook_model_KNN.ipynb Cell 69\u001b[0m line \u001b[0;36m<cell line: 35>\u001b[1;34m()\u001b[0m\n\u001b[0;32m     <a href='vscode-notebook-cell:/f%3A/TESIS/Proyecto_mod_precipitacion/Codigos%20de%20Python/NoteNook_model_KNN.ipynb#Y162sZmlsZQ%3D%3D?line=31'>32</a>\u001b[0m     \u001b[39mreturn\u001b[39;00m imputed_data\n\u001b[0;32m     <a href='vscode-notebook-cell:/f%3A/TESIS/Proyecto_mod_precipitacion/Codigos%20de%20Python/NoteNook_model_KNN.ipynb#Y162sZmlsZQ%3D%3D?line=33'>34</a>\u001b[0m \u001b[39m# Test the function with the sample data again\u001b[39;00m\n\u001b[1;32m---> <a href='vscode-notebook-cell:/f%3A/TESIS/Proyecto_mod_precipitacion/Codigos%20de%20Python/NoteNook_model_KNN.ipynb#Y162sZmlsZQ%3D%3D?line=34'>35</a>\u001b[0m imputed_sample \u001b[39m=\u001b[39m impute_precipitation_for_station_mahalanobis(data)\n\u001b[0;32m     <a href='vscode-notebook-cell:/f%3A/TESIS/Proyecto_mod_precipitacion/Codigos%20de%20Python/NoteNook_model_KNN.ipynb#Y162sZmlsZQ%3D%3D?line=35'>36</a>\u001b[0m imputed_sample\n",
      "\u001b[1;32mf:\\TESIS\\Proyecto_mod_precipitacion\\Codigos de Python\\NoteNook_model_KNN.ipynb Cell 69\u001b[0m line \u001b[0;36mimpute_precipitation_for_station_mahalanobis\u001b[1;34m(station_data, n_neighbors)\u001b[0m\n\u001b[0;32m     <a href='vscode-notebook-cell:/f%3A/TESIS/Proyecto_mod_precipitacion/Codigos%20de%20Python/NoteNook_model_KNN.ipynb#Y162sZmlsZQ%3D%3D?line=11'>12</a>\u001b[0m neigh\u001b[39m.\u001b[39mfit(complete_data[[\u001b[39m'\u001b[39m\u001b[39mprec\u001b[39m\u001b[39m'\u001b[39m, \u001b[39m'\u001b[39m\u001b[39mLAT\u001b[39m\u001b[39m'\u001b[39m, \u001b[39m'\u001b[39m\u001b[39mLON\u001b[39m\u001b[39m'\u001b[39m]])\n\u001b[0;32m     <a href='vscode-notebook-cell:/f%3A/TESIS/Proyecto_mod_precipitacion/Codigos%20de%20Python/NoteNook_model_KNN.ipynb#Y162sZmlsZQ%3D%3D?line=13'>14</a>\u001b[0m \u001b[39m# Para cada punto con datos faltantes, encontrar los k vecinos más cercanos y calcular el promedio\u001b[39;00m\n\u001b[1;32m---> <a href='vscode-notebook-cell:/f%3A/TESIS/Proyecto_mod_precipitacion/Codigos%20de%20Python/NoteNook_model_KNN.ipynb#Y162sZmlsZQ%3D%3D?line=14'>15</a>\u001b[0m distances, indices \u001b[39m=\u001b[39m neigh\u001b[39m.\u001b[39;49mkneighbors(missing_data[[\u001b[39m'\u001b[39;49m\u001b[39mprec\u001b[39;49m\u001b[39m'\u001b[39;49m, \u001b[39m'\u001b[39;49m\u001b[39mLAT\u001b[39;49m\u001b[39m'\u001b[39;49m, \u001b[39m'\u001b[39;49m\u001b[39mLON\u001b[39;49m\u001b[39m'\u001b[39;49m]])\n\u001b[0;32m     <a href='vscode-notebook-cell:/f%3A/TESIS/Proyecto_mod_precipitacion/Codigos%20de%20Python/NoteNook_model_KNN.ipynb#Y162sZmlsZQ%3D%3D?line=15'>16</a>\u001b[0m missing_data[\u001b[39m'\u001b[39m\u001b[39mprec_imputed\u001b[39m\u001b[39m'\u001b[39m] \u001b[39m=\u001b[39m [complete_data\u001b[39m.\u001b[39miloc[indices[i]][\u001b[39m'\u001b[39m\u001b[39mprec\u001b[39m\u001b[39m'\u001b[39m]\u001b[39m.\u001b[39mmean() \u001b[39mfor\u001b[39;00m i \u001b[39min\u001b[39;00m \u001b[39mrange\u001b[39m(\u001b[39mlen\u001b[39m(indices))]\n\u001b[0;32m     <a href='vscode-notebook-cell:/f%3A/TESIS/Proyecto_mod_precipitacion/Codigos%20de%20Python/NoteNook_model_KNN.ipynb#Y162sZmlsZQ%3D%3D?line=17'>18</a>\u001b[0m \u001b[39m# Combinar datos completos y datos imputados\u001b[39;00m\n",
      "File \u001b[1;32mc:\\Users\\ronal\\AppData\\Local\\Programs\\Python\\Python310\\lib\\site-packages\\sklearn\\neighbors\\_base.py:717\u001b[0m, in \u001b[0;36mKNeighborsMixin.kneighbors\u001b[1;34m(self, X, n_neighbors, return_distance)\u001b[0m\n\u001b[0;32m    715\u001b[0m         X \u001b[39m=\u001b[39m _check_precomputed(X)\n\u001b[0;32m    716\u001b[0m     \u001b[39melse\u001b[39;00m:\n\u001b[1;32m--> 717\u001b[0m         X \u001b[39m=\u001b[39m \u001b[39mself\u001b[39;49m\u001b[39m.\u001b[39;49m_validate_data(X, accept_sparse\u001b[39m=\u001b[39;49m\u001b[39m\"\u001b[39;49m\u001b[39mcsr\u001b[39;49m\u001b[39m\"\u001b[39;49m, reset\u001b[39m=\u001b[39;49m\u001b[39mFalse\u001b[39;49;00m)\n\u001b[0;32m    718\u001b[0m \u001b[39melse\u001b[39;00m:\n\u001b[0;32m    719\u001b[0m     query_is_train \u001b[39m=\u001b[39m \u001b[39mTrue\u001b[39;00m\n",
      "File \u001b[1;32mc:\\Users\\ronal\\AppData\\Local\\Programs\\Python\\Python310\\lib\\site-packages\\sklearn\\base.py:566\u001b[0m, in \u001b[0;36mBaseEstimator._validate_data\u001b[1;34m(self, X, y, reset, validate_separately, **check_params)\u001b[0m\n\u001b[0;32m    564\u001b[0m     \u001b[39mraise\u001b[39;00m \u001b[39mValueError\u001b[39;00m(\u001b[39m\"\u001b[39m\u001b[39mValidation should be done on X, y or both.\u001b[39m\u001b[39m\"\u001b[39m)\n\u001b[0;32m    565\u001b[0m \u001b[39melif\u001b[39;00m \u001b[39mnot\u001b[39;00m no_val_X \u001b[39mand\u001b[39;00m no_val_y:\n\u001b[1;32m--> 566\u001b[0m     X \u001b[39m=\u001b[39m check_array(X, \u001b[39m*\u001b[39m\u001b[39m*\u001b[39mcheck_params)\n\u001b[0;32m    567\u001b[0m     out \u001b[39m=\u001b[39m X\n\u001b[0;32m    568\u001b[0m \u001b[39melif\u001b[39;00m no_val_X \u001b[39mand\u001b[39;00m \u001b[39mnot\u001b[39;00m no_val_y:\n",
      "File \u001b[1;32mc:\\Users\\ronal\\AppData\\Local\\Programs\\Python\\Python310\\lib\\site-packages\\sklearn\\utils\\validation.py:800\u001b[0m, in \u001b[0;36mcheck_array\u001b[1;34m(array, accept_sparse, accept_large_sparse, dtype, order, copy, force_all_finite, ensure_2d, allow_nd, ensure_min_samples, ensure_min_features, estimator)\u001b[0m\n\u001b[0;32m    794\u001b[0m         \u001b[39mraise\u001b[39;00m \u001b[39mValueError\u001b[39;00m(\n\u001b[0;32m    795\u001b[0m             \u001b[39m\"\u001b[39m\u001b[39mFound array with dim \u001b[39m\u001b[39m%d\u001b[39;00m\u001b[39m. \u001b[39m\u001b[39m%s\u001b[39;00m\u001b[39m expected <= 2.\u001b[39m\u001b[39m\"\u001b[39m\n\u001b[0;32m    796\u001b[0m             \u001b[39m%\u001b[39m (array\u001b[39m.\u001b[39mndim, estimator_name)\n\u001b[0;32m    797\u001b[0m         )\n\u001b[0;32m    799\u001b[0m     \u001b[39mif\u001b[39;00m force_all_finite:\n\u001b[1;32m--> 800\u001b[0m         _assert_all_finite(array, allow_nan\u001b[39m=\u001b[39;49mforce_all_finite \u001b[39m==\u001b[39;49m \u001b[39m\"\u001b[39;49m\u001b[39mallow-nan\u001b[39;49m\u001b[39m\"\u001b[39;49m)\n\u001b[0;32m    802\u001b[0m \u001b[39mif\u001b[39;00m ensure_min_samples \u001b[39m>\u001b[39m \u001b[39m0\u001b[39m:\n\u001b[0;32m    803\u001b[0m     n_samples \u001b[39m=\u001b[39m _num_samples(array)\n",
      "File \u001b[1;32mc:\\Users\\ronal\\AppData\\Local\\Programs\\Python\\Python310\\lib\\site-packages\\sklearn\\utils\\validation.py:114\u001b[0m, in \u001b[0;36m_assert_all_finite\u001b[1;34m(X, allow_nan, msg_dtype)\u001b[0m\n\u001b[0;32m    107\u001b[0m     \u001b[39mif\u001b[39;00m (\n\u001b[0;32m    108\u001b[0m         allow_nan\n\u001b[0;32m    109\u001b[0m         \u001b[39mand\u001b[39;00m np\u001b[39m.\u001b[39misinf(X)\u001b[39m.\u001b[39many()\n\u001b[0;32m    110\u001b[0m         \u001b[39mor\u001b[39;00m \u001b[39mnot\u001b[39;00m allow_nan\n\u001b[0;32m    111\u001b[0m         \u001b[39mand\u001b[39;00m \u001b[39mnot\u001b[39;00m np\u001b[39m.\u001b[39misfinite(X)\u001b[39m.\u001b[39mall()\n\u001b[0;32m    112\u001b[0m     ):\n\u001b[0;32m    113\u001b[0m         type_err \u001b[39m=\u001b[39m \u001b[39m\"\u001b[39m\u001b[39minfinity\u001b[39m\u001b[39m\"\u001b[39m \u001b[39mif\u001b[39;00m allow_nan \u001b[39melse\u001b[39;00m \u001b[39m\"\u001b[39m\u001b[39mNaN, infinity\u001b[39m\u001b[39m\"\u001b[39m\n\u001b[1;32m--> 114\u001b[0m         \u001b[39mraise\u001b[39;00m \u001b[39mValueError\u001b[39;00m(\n\u001b[0;32m    115\u001b[0m             msg_err\u001b[39m.\u001b[39mformat(\n\u001b[0;32m    116\u001b[0m                 type_err, msg_dtype \u001b[39mif\u001b[39;00m msg_dtype \u001b[39mis\u001b[39;00m \u001b[39mnot\u001b[39;00m \u001b[39mNone\u001b[39;00m \u001b[39melse\u001b[39;00m X\u001b[39m.\u001b[39mdtype\n\u001b[0;32m    117\u001b[0m             )\n\u001b[0;32m    118\u001b[0m         )\n\u001b[0;32m    119\u001b[0m \u001b[39m# for object dtype data, we only check for NaNs (GH-13254)\u001b[39;00m\n\u001b[0;32m    120\u001b[0m \u001b[39melif\u001b[39;00m X\u001b[39m.\u001b[39mdtype \u001b[39m==\u001b[39m np\u001b[39m.\u001b[39mdtype(\u001b[39m\"\u001b[39m\u001b[39mobject\u001b[39m\u001b[39m\"\u001b[39m) \u001b[39mand\u001b[39;00m \u001b[39mnot\u001b[39;00m allow_nan:\n",
      "\u001b[1;31mValueError\u001b[0m: Input contains NaN, infinity or a value too large for dtype('float64')."
     ]
    }
   ],
   "source": [
    "def knn_mahalanobis_imputation(data, n_neighbors=5):\n",
    "    \"\"\"\n",
    "    Impute missing values using KNN with Mahalanobis distance for single feature data.\n",
    "    \n",
    "    Parameters:\n",
    "    - data: numpy array with the data (only the variable to impute).\n",
    "    - n_neighbors: number of neighbors for KNN.\n",
    "    \n",
    "    Returns:\n",
    "    - Array with imputed values.\n",
    "    \"\"\"\n",
    "    # Separate complete and missing data\n",
    "    complete_data = data[~np.isnan(data)]\n",
    "    missing_data_idx = np.where(np.isnan(data))\n",
    "    \n",
    "    # Compute variance and its inverse\n",
    "    variance = np.var(complete_data)\n",
    "    variance_inv = 1 / variance if variance != 0 else 0\n",
    "    \n",
    "    # Compute Mahalanobis distance using NearestNeighbors\n",
    "    nbrs = NearestNeighbors(metric=distance.mahalanobis, metric_params={'VI': np.array([[variance_inv]])})\n",
    "    nbrs.fit(complete_data.reshape(-1, 1))\n",
    "    \n",
    "    # Find k neighbors for missing data\n",
    "    distances, indices = nbrs.kneighbors(data[missing_data_idx].reshape(-1, 1), n_neighbors=n_neighbors)\n",
    "    \n",
    "    # Impute missing data\n",
    "    imputed_data = data.copy()\n",
    "    for idx, neighbor_indices in zip(missing_data_idx[0], indices):\n",
    "        imputed_data[idx] = np.mean(complete_data[neighbor_indices])\n",
    "    \n",
    "    return imputed_data\n",
    "\n",
    "# Test the function with the sample data again\n",
    "imputed_sample = impute_precipitation_for_station_mahalanobis(data)\n",
    "imputed_sample\n"
   ]
  },
  {
   "cell_type": "code",
   "execution_count": 60,
   "metadata": {},
   "outputs": [],
   "source": [
    "def impute_precipitation_for_station_mahalanobis(station_data, n_neighbors=5):\n",
    "    # Separar datos completos y datos con valores faltantes\n",
    "    complete_data = station_data.dropna(subset=['prec'])\n",
    "    missing_data = station_data[station_data['prec'].isnull()]\n",
    "    \n",
    "    # Calcular la matriz de covarianza inversa\n",
    "    cov_matrix = np.cov(complete_data[['prec', 'LAT', 'LON']], rowvar=False)\n",
    "    inv_cov_matrix = np.linalg.inv(cov_matrix)\n",
    "    \n",
    "    # Usar NearestNeighbors con distancia de Mahalanobis\n",
    "    neigh = NearestNeighbors(n_neighbors=n_neighbors, metric='mahalanobis', metric_params={'VI': inv_cov_matrix})\n",
    "    neigh.fit(complete_data[['prec', 'LAT', 'LON']])\n",
    "    \n",
    "    # Para cada punto con datos faltantes, encontrar los k vecinos más cercanos y calcular el promedio\n",
    "    distances, indices = neigh.kneighbors(missing_data[['prec', 'LAT', 'LON']])\n",
    "    missing_data['prec_imputed'] = [complete_data.iloc[indices[i]]['prec'].mean() for i in range(len(indices))]\n",
    "    \n",
    "    # Combinar datos completos y datos imputados\n",
    "    station_data_imputed = pd.concat([complete_data, missing_data], ignore_index=True)\n",
    "    \n",
    "    return station_data_imputed\n"
   ]
  },
  {
   "cell_type": "code",
   "execution_count": 63,
   "metadata": {},
   "outputs": [
    {
     "ename": "ValueError",
     "evalue": "Input contains NaN, infinity or a value too large for dtype('float64').",
     "output_type": "error",
     "traceback": [
      "\u001b[1;31m---------------------------------------------------------------------------\u001b[0m",
      "\u001b[1;31mValueError\u001b[0m                                Traceback (most recent call last)",
      "\u001b[1;32mf:\\TESIS\\Proyecto_mod_precipitacion\\Codigos de Python\\NoteNook_model_KNN.ipynb Cell 71\u001b[0m line \u001b[0;36m<cell line: 1>\u001b[1;34m()\u001b[0m\n\u001b[1;32m----> <a href='vscode-notebook-cell:/f%3A/TESIS/Proyecto_mod_precipitacion/Codigos%20de%20Python/NoteNook_model_KNN.ipynb#Y166sZmlsZQ%3D%3D?line=0'>1</a>\u001b[0m imputed_sample \u001b[39m=\u001b[39m impute_precipitation_for_station_mahalanobis(data_completa_mod)\n\u001b[0;32m      <a href='vscode-notebook-cell:/f%3A/TESIS/Proyecto_mod_precipitacion/Codigos%20de%20Python/NoteNook_model_KNN.ipynb#Y166sZmlsZQ%3D%3D?line=1'>2</a>\u001b[0m imputed_sample\n",
      "\u001b[1;32mf:\\TESIS\\Proyecto_mod_precipitacion\\Codigos de Python\\NoteNook_model_KNN.ipynb Cell 71\u001b[0m line \u001b[0;36mimpute_precipitation_for_station_mahalanobis\u001b[1;34m(station_data, n_neighbors)\u001b[0m\n\u001b[0;32m     <a href='vscode-notebook-cell:/f%3A/TESIS/Proyecto_mod_precipitacion/Codigos%20de%20Python/NoteNook_model_KNN.ipynb#Y166sZmlsZQ%3D%3D?line=11'>12</a>\u001b[0m neigh\u001b[39m.\u001b[39mfit(complete_data[[\u001b[39m'\u001b[39m\u001b[39mprec\u001b[39m\u001b[39m'\u001b[39m, \u001b[39m'\u001b[39m\u001b[39mLAT\u001b[39m\u001b[39m'\u001b[39m, \u001b[39m'\u001b[39m\u001b[39mLON\u001b[39m\u001b[39m'\u001b[39m]])\n\u001b[0;32m     <a href='vscode-notebook-cell:/f%3A/TESIS/Proyecto_mod_precipitacion/Codigos%20de%20Python/NoteNook_model_KNN.ipynb#Y166sZmlsZQ%3D%3D?line=13'>14</a>\u001b[0m \u001b[39m# Para cada punto con datos faltantes, encontrar los k vecinos más cercanos y calcular el promedio\u001b[39;00m\n\u001b[1;32m---> <a href='vscode-notebook-cell:/f%3A/TESIS/Proyecto_mod_precipitacion/Codigos%20de%20Python/NoteNook_model_KNN.ipynb#Y166sZmlsZQ%3D%3D?line=14'>15</a>\u001b[0m distances, indices \u001b[39m=\u001b[39m neigh\u001b[39m.\u001b[39;49mkneighbors(missing_data[[\u001b[39m'\u001b[39;49m\u001b[39mprec\u001b[39;49m\u001b[39m'\u001b[39;49m, \u001b[39m'\u001b[39;49m\u001b[39mLAT\u001b[39;49m\u001b[39m'\u001b[39;49m, \u001b[39m'\u001b[39;49m\u001b[39mLON\u001b[39;49m\u001b[39m'\u001b[39;49m]])\n\u001b[0;32m     <a href='vscode-notebook-cell:/f%3A/TESIS/Proyecto_mod_precipitacion/Codigos%20de%20Python/NoteNook_model_KNN.ipynb#Y166sZmlsZQ%3D%3D?line=15'>16</a>\u001b[0m missing_data[\u001b[39m'\u001b[39m\u001b[39mprec_imputed\u001b[39m\u001b[39m'\u001b[39m] \u001b[39m=\u001b[39m [complete_data\u001b[39m.\u001b[39miloc[indices[i]][\u001b[39m'\u001b[39m\u001b[39mprec\u001b[39m\u001b[39m'\u001b[39m]\u001b[39m.\u001b[39mmean() \u001b[39mfor\u001b[39;00m i \u001b[39min\u001b[39;00m \u001b[39mrange\u001b[39m(\u001b[39mlen\u001b[39m(indices))]\n\u001b[0;32m     <a href='vscode-notebook-cell:/f%3A/TESIS/Proyecto_mod_precipitacion/Codigos%20de%20Python/NoteNook_model_KNN.ipynb#Y166sZmlsZQ%3D%3D?line=17'>18</a>\u001b[0m \u001b[39m# Combinar datos completos y datos imputados\u001b[39;00m\n",
      "File \u001b[1;32mc:\\Users\\ronal\\AppData\\Local\\Programs\\Python\\Python310\\lib\\site-packages\\sklearn\\neighbors\\_base.py:717\u001b[0m, in \u001b[0;36mKNeighborsMixin.kneighbors\u001b[1;34m(self, X, n_neighbors, return_distance)\u001b[0m\n\u001b[0;32m    715\u001b[0m         X \u001b[39m=\u001b[39m _check_precomputed(X)\n\u001b[0;32m    716\u001b[0m     \u001b[39melse\u001b[39;00m:\n\u001b[1;32m--> 717\u001b[0m         X \u001b[39m=\u001b[39m \u001b[39mself\u001b[39;49m\u001b[39m.\u001b[39;49m_validate_data(X, accept_sparse\u001b[39m=\u001b[39;49m\u001b[39m\"\u001b[39;49m\u001b[39mcsr\u001b[39;49m\u001b[39m\"\u001b[39;49m, reset\u001b[39m=\u001b[39;49m\u001b[39mFalse\u001b[39;49;00m)\n\u001b[0;32m    718\u001b[0m \u001b[39melse\u001b[39;00m:\n\u001b[0;32m    719\u001b[0m     query_is_train \u001b[39m=\u001b[39m \u001b[39mTrue\u001b[39;00m\n",
      "File \u001b[1;32mc:\\Users\\ronal\\AppData\\Local\\Programs\\Python\\Python310\\lib\\site-packages\\sklearn\\base.py:566\u001b[0m, in \u001b[0;36mBaseEstimator._validate_data\u001b[1;34m(self, X, y, reset, validate_separately, **check_params)\u001b[0m\n\u001b[0;32m    564\u001b[0m     \u001b[39mraise\u001b[39;00m \u001b[39mValueError\u001b[39;00m(\u001b[39m\"\u001b[39m\u001b[39mValidation should be done on X, y or both.\u001b[39m\u001b[39m\"\u001b[39m)\n\u001b[0;32m    565\u001b[0m \u001b[39melif\u001b[39;00m \u001b[39mnot\u001b[39;00m no_val_X \u001b[39mand\u001b[39;00m no_val_y:\n\u001b[1;32m--> 566\u001b[0m     X \u001b[39m=\u001b[39m check_array(X, \u001b[39m*\u001b[39m\u001b[39m*\u001b[39mcheck_params)\n\u001b[0;32m    567\u001b[0m     out \u001b[39m=\u001b[39m X\n\u001b[0;32m    568\u001b[0m \u001b[39melif\u001b[39;00m no_val_X \u001b[39mand\u001b[39;00m \u001b[39mnot\u001b[39;00m no_val_y:\n",
      "File \u001b[1;32mc:\\Users\\ronal\\AppData\\Local\\Programs\\Python\\Python310\\lib\\site-packages\\sklearn\\utils\\validation.py:800\u001b[0m, in \u001b[0;36mcheck_array\u001b[1;34m(array, accept_sparse, accept_large_sparse, dtype, order, copy, force_all_finite, ensure_2d, allow_nd, ensure_min_samples, ensure_min_features, estimator)\u001b[0m\n\u001b[0;32m    794\u001b[0m         \u001b[39mraise\u001b[39;00m \u001b[39mValueError\u001b[39;00m(\n\u001b[0;32m    795\u001b[0m             \u001b[39m\"\u001b[39m\u001b[39mFound array with dim \u001b[39m\u001b[39m%d\u001b[39;00m\u001b[39m. \u001b[39m\u001b[39m%s\u001b[39;00m\u001b[39m expected <= 2.\u001b[39m\u001b[39m\"\u001b[39m\n\u001b[0;32m    796\u001b[0m             \u001b[39m%\u001b[39m (array\u001b[39m.\u001b[39mndim, estimator_name)\n\u001b[0;32m    797\u001b[0m         )\n\u001b[0;32m    799\u001b[0m     \u001b[39mif\u001b[39;00m force_all_finite:\n\u001b[1;32m--> 800\u001b[0m         _assert_all_finite(array, allow_nan\u001b[39m=\u001b[39;49mforce_all_finite \u001b[39m==\u001b[39;49m \u001b[39m\"\u001b[39;49m\u001b[39mallow-nan\u001b[39;49m\u001b[39m\"\u001b[39;49m)\n\u001b[0;32m    802\u001b[0m \u001b[39mif\u001b[39;00m ensure_min_samples \u001b[39m>\u001b[39m \u001b[39m0\u001b[39m:\n\u001b[0;32m    803\u001b[0m     n_samples \u001b[39m=\u001b[39m _num_samples(array)\n",
      "File \u001b[1;32mc:\\Users\\ronal\\AppData\\Local\\Programs\\Python\\Python310\\lib\\site-packages\\sklearn\\utils\\validation.py:114\u001b[0m, in \u001b[0;36m_assert_all_finite\u001b[1;34m(X, allow_nan, msg_dtype)\u001b[0m\n\u001b[0;32m    107\u001b[0m     \u001b[39mif\u001b[39;00m (\n\u001b[0;32m    108\u001b[0m         allow_nan\n\u001b[0;32m    109\u001b[0m         \u001b[39mand\u001b[39;00m np\u001b[39m.\u001b[39misinf(X)\u001b[39m.\u001b[39many()\n\u001b[0;32m    110\u001b[0m         \u001b[39mor\u001b[39;00m \u001b[39mnot\u001b[39;00m allow_nan\n\u001b[0;32m    111\u001b[0m         \u001b[39mand\u001b[39;00m \u001b[39mnot\u001b[39;00m np\u001b[39m.\u001b[39misfinite(X)\u001b[39m.\u001b[39mall()\n\u001b[0;32m    112\u001b[0m     ):\n\u001b[0;32m    113\u001b[0m         type_err \u001b[39m=\u001b[39m \u001b[39m\"\u001b[39m\u001b[39minfinity\u001b[39m\u001b[39m\"\u001b[39m \u001b[39mif\u001b[39;00m allow_nan \u001b[39melse\u001b[39;00m \u001b[39m\"\u001b[39m\u001b[39mNaN, infinity\u001b[39m\u001b[39m\"\u001b[39m\n\u001b[1;32m--> 114\u001b[0m         \u001b[39mraise\u001b[39;00m \u001b[39mValueError\u001b[39;00m(\n\u001b[0;32m    115\u001b[0m             msg_err\u001b[39m.\u001b[39mformat(\n\u001b[0;32m    116\u001b[0m                 type_err, msg_dtype \u001b[39mif\u001b[39;00m msg_dtype \u001b[39mis\u001b[39;00m \u001b[39mnot\u001b[39;00m \u001b[39mNone\u001b[39;00m \u001b[39melse\u001b[39;00m X\u001b[39m.\u001b[39mdtype\n\u001b[0;32m    117\u001b[0m             )\n\u001b[0;32m    118\u001b[0m         )\n\u001b[0;32m    119\u001b[0m \u001b[39m# for object dtype data, we only check for NaNs (GH-13254)\u001b[39;00m\n\u001b[0;32m    120\u001b[0m \u001b[39melif\u001b[39;00m X\u001b[39m.\u001b[39mdtype \u001b[39m==\u001b[39m np\u001b[39m.\u001b[39mdtype(\u001b[39m\"\u001b[39m\u001b[39mobject\u001b[39m\u001b[39m\"\u001b[39m) \u001b[39mand\u001b[39;00m \u001b[39mnot\u001b[39;00m allow_nan:\n",
      "\u001b[1;31mValueError\u001b[0m: Input contains NaN, infinity or a value too large for dtype('float64')."
     ]
    }
   ],
   "source": [
    "imputed_sample = impute_precipitation_for_station_mahalanobis(data_completa_mod)\n",
    "imputed_sample\n"
   ]
  },
  {
   "attachments": {},
   "cell_type": "markdown",
   "metadata": {},
   "source": [
    "### Enfoque DASK\n"
   ]
  },
  {
   "cell_type": "code",
   "execution_count": null,
   "metadata": {},
   "outputs": [],
   "source": [
    "import pandas as pd\n",
    "import numpy as np\n",
    "from sklearn.impute import KNNImputer\n",
    "from joblib import Parallel, delayed\n",
    "import dask.dataframe as dd"
   ]
  },
  {
   "cell_type": "code",
   "execution_count": 54,
   "metadata": {},
   "outputs": [],
   "source": [
    "from sklearn.neighbors import NearestNeighbors\n",
    "import numpy as np\n",
    "\n",
    "def impute_precipitation_for_station_mahalanobis(station_data, n_neighbors=5):\n",
    "    # Separar datos completos y datos con valores faltantes\n",
    "    complete_data = station_data.dropna(subset=['prec'])\n",
    "    missing_data = station_data[station_data['prec'].isnull()]\n",
    "    \n",
    "    # Calcular la matriz de covarianza inversa\n",
    "    cov_matrix = np.cov(complete_data['prec'], rowvar=False)\n",
    "    inv_cov_matrix = np.linalg.inv(cov_matrix)\n",
    "    \n",
    "    # Usar NearestNeighbors con distancia de Mahalanobis\n",
    "    neigh = NearestNeighbors(n_neighbors=n_neighbors, metric='mahalanobis', metric_params={'VI': inv_cov_matrix})\n",
    "    neigh.fit(complete_data[['prec']])\n",
    "    \n",
    "    # Para cada punto con datos faltantes, encontrar los k vecinos más cercanos y calcular el promedio\n",
    "    distances, indices = neigh.kneighbors(missing_data[['prec']])\n",
    "    missing_data['prec_imputed'] = [complete_data.iloc[indices[i]]['prec'].mean() for i in range(len(indices))]\n",
    "    \n",
    "    # Combinar datos completos y datos imputados\n",
    "    station_data_imputed = pd.concat([complete_data, missing_data], ignore_index=True)\n",
    "    \n",
    "    return station_data_imputed\n",
    "\n",
    "# El resto del código sigue siendo similar\n"
   ]
  },
  {
   "cell_type": "code",
   "execution_count": 55,
   "metadata": {},
   "outputs": [
    {
     "ename": "LinAlgError",
     "evalue": "0-dimensional array given. Array must be at least two-dimensional",
     "output_type": "error",
     "traceback": [
      "\u001b[1;31m---------------------------------------------------------------------------\u001b[0m",
      "\u001b[1;31mLinAlgError\u001b[0m                               Traceback (most recent call last)",
      "\u001b[1;32mf:\\TESIS\\Proyecto_mod_precipitacion\\Codigos de Python\\NoteNook_model_KNN.ipynb Cell 73\u001b[0m line \u001b[0;36m<cell line: 1>\u001b[1;34m()\u001b[0m\n\u001b[1;32m----> <a href='vscode-notebook-cell:/f%3A/TESIS/Proyecto_mod_precipitacion/Codigos%20de%20Python/NoteNook_model_KNN.ipynb#Y126sZmlsZQ%3D%3D?line=0'>1</a>\u001b[0m imputed_data \u001b[39m=\u001b[39m impute_precipitation_for_station_mahalanobis(data)\n\u001b[0;32m      <a href='vscode-notebook-cell:/f%3A/TESIS/Proyecto_mod_precipitacion/Codigos%20de%20Python/NoteNook_model_KNN.ipynb#Y126sZmlsZQ%3D%3D?line=1'>2</a>\u001b[0m \u001b[39mprint\u001b[39m(imputed_data)\n",
      "\u001b[1;32mf:\\TESIS\\Proyecto_mod_precipitacion\\Codigos de Python\\NoteNook_model_KNN.ipynb Cell 73\u001b[0m line \u001b[0;36mimpute_precipitation_for_station_mahalanobis\u001b[1;34m(station_data, n_neighbors)\u001b[0m\n\u001b[0;32m      <a href='vscode-notebook-cell:/f%3A/TESIS/Proyecto_mod_precipitacion/Codigos%20de%20Python/NoteNook_model_KNN.ipynb#Y126sZmlsZQ%3D%3D?line=8'>9</a>\u001b[0m \u001b[39m# Calcular la matriz de covarianza inversa\u001b[39;00m\n\u001b[0;32m     <a href='vscode-notebook-cell:/f%3A/TESIS/Proyecto_mod_precipitacion/Codigos%20de%20Python/NoteNook_model_KNN.ipynb#Y126sZmlsZQ%3D%3D?line=9'>10</a>\u001b[0m cov_matrix \u001b[39m=\u001b[39m np\u001b[39m.\u001b[39mcov(complete_data[\u001b[39m'\u001b[39m\u001b[39mprec\u001b[39m\u001b[39m'\u001b[39m], rowvar\u001b[39m=\u001b[39m\u001b[39mFalse\u001b[39;00m)\n\u001b[1;32m---> <a href='vscode-notebook-cell:/f%3A/TESIS/Proyecto_mod_precipitacion/Codigos%20de%20Python/NoteNook_model_KNN.ipynb#Y126sZmlsZQ%3D%3D?line=10'>11</a>\u001b[0m inv_cov_matrix \u001b[39m=\u001b[39m np\u001b[39m.\u001b[39;49mlinalg\u001b[39m.\u001b[39;49minv(cov_matrix)\n\u001b[0;32m     <a href='vscode-notebook-cell:/f%3A/TESIS/Proyecto_mod_precipitacion/Codigos%20de%20Python/NoteNook_model_KNN.ipynb#Y126sZmlsZQ%3D%3D?line=12'>13</a>\u001b[0m \u001b[39m# Usar NearestNeighbors con distancia de Mahalanobis\u001b[39;00m\n\u001b[0;32m     <a href='vscode-notebook-cell:/f%3A/TESIS/Proyecto_mod_precipitacion/Codigos%20de%20Python/NoteNook_model_KNN.ipynb#Y126sZmlsZQ%3D%3D?line=13'>14</a>\u001b[0m neigh \u001b[39m=\u001b[39m NearestNeighbors(n_neighbors\u001b[39m=\u001b[39mn_neighbors, metric\u001b[39m=\u001b[39m\u001b[39m'\u001b[39m\u001b[39mmahalanobis\u001b[39m\u001b[39m'\u001b[39m, metric_params\u001b[39m=\u001b[39m{\u001b[39m'\u001b[39m\u001b[39mVI\u001b[39m\u001b[39m'\u001b[39m: inv_cov_matrix})\n",
      "File \u001b[1;32m<__array_function__ internals>:180\u001b[0m, in \u001b[0;36minv\u001b[1;34m(*args, **kwargs)\u001b[0m\n",
      "File \u001b[1;32mc:\\Users\\ronal\\AppData\\Local\\Programs\\Python\\Python310\\lib\\site-packages\\numpy\\linalg\\linalg.py:539\u001b[0m, in \u001b[0;36minv\u001b[1;34m(a)\u001b[0m\n\u001b[0;32m    478\u001b[0m \u001b[39m\"\"\"\u001b[39;00m\n\u001b[0;32m    479\u001b[0m \u001b[39mCompute the (multiplicative) inverse of a matrix.\u001b[39;00m\n\u001b[0;32m    480\u001b[0m \n\u001b[1;32m   (...)\u001b[0m\n\u001b[0;32m    536\u001b[0m \n\u001b[0;32m    537\u001b[0m \u001b[39m\"\"\"\u001b[39;00m\n\u001b[0;32m    538\u001b[0m a, wrap \u001b[39m=\u001b[39m _makearray(a)\n\u001b[1;32m--> 539\u001b[0m _assert_stacked_2d(a)\n\u001b[0;32m    540\u001b[0m _assert_stacked_square(a)\n\u001b[0;32m    541\u001b[0m t, result_t \u001b[39m=\u001b[39m _commonType(a)\n",
      "File \u001b[1;32mc:\\Users\\ronal\\AppData\\Local\\Programs\\Python\\Python310\\lib\\site-packages\\numpy\\linalg\\linalg.py:196\u001b[0m, in \u001b[0;36m_assert_stacked_2d\u001b[1;34m(*arrays)\u001b[0m\n\u001b[0;32m    194\u001b[0m \u001b[39mfor\u001b[39;00m a \u001b[39min\u001b[39;00m arrays:\n\u001b[0;32m    195\u001b[0m     \u001b[39mif\u001b[39;00m a\u001b[39m.\u001b[39mndim \u001b[39m<\u001b[39m \u001b[39m2\u001b[39m:\n\u001b[1;32m--> 196\u001b[0m         \u001b[39mraise\u001b[39;00m LinAlgError(\u001b[39m'\u001b[39m\u001b[39m%d\u001b[39;00m\u001b[39m-dimensional array given. Array must be \u001b[39m\u001b[39m'\u001b[39m\n\u001b[0;32m    197\u001b[0m                 \u001b[39m'\u001b[39m\u001b[39mat least two-dimensional\u001b[39m\u001b[39m'\u001b[39m \u001b[39m%\u001b[39m a\u001b[39m.\u001b[39mndim)\n",
      "\u001b[1;31mLinAlgError\u001b[0m: 0-dimensional array given. Array must be at least two-dimensional"
     ]
    }
   ],
   "source": [
    "imputed_data = impute_precipitation_for_station_mahalanobis(data)\n",
    "print(imputed_data)"
   ]
  },
  {
   "cell_type": "code",
   "execution_count": 28,
   "metadata": {},
   "outputs": [
    {
     "ename": "NameError",
     "evalue": "name 'imputed_data' is not defined",
     "output_type": "error",
     "traceback": [
      "\u001b[1;31m---------------------------------------------------------------------------\u001b[0m",
      "\u001b[1;31mNameError\u001b[0m                                 Traceback (most recent call last)",
      "\u001b[1;32mf:\\TESIS\\Proyecto_mod_precipitacion\\Codigos de Python\\NoteNook_model_KNN.ipynb Cell 41\u001b[0m in \u001b[0;36m<cell line: 1>\u001b[1;34m()\u001b[0m\n\u001b[1;32m----> <a href='vscode-notebook-cell:/f%3A/TESIS/Proyecto_mod_precipitacion/Codigos%20de%20Python/NoteNook_model_KNN.ipynb#Y144sZmlsZQ%3D%3D?line=0'>1</a>\u001b[0m imputed_data\u001b[39m.\u001b[39minfo()\n",
      "\u001b[1;31mNameError\u001b[0m: name 'imputed_data' is not defined"
     ]
    }
   ],
   "source": [
    "imputed_data.info()"
   ]
  },
  {
   "cell_type": "code",
   "execution_count": null,
   "metadata": {},
   "outputs": [],
   "source": [
    "soloNAn=na_rows = imputed_data[imputed_data['prec'].isna()]\n",
    "soloNAn"
   ]
  },
  {
   "cell_type": "code",
   "execution_count": 29,
   "metadata": {},
   "outputs": [
    {
     "ename": "TypeError",
     "evalue": "'method' object is not subscriptable",
     "output_type": "error",
     "traceback": [
      "\u001b[1;31m---------------------------------------------------------------------------\u001b[0m",
      "\u001b[1;31mTypeError\u001b[0m                                 Traceback (most recent call last)",
      "\u001b[1;32mf:\\TESIS\\Proyecto_mod_precipitacion\\Codigos de Python\\NoteNook_model_KNN.ipynb Cell 43\u001b[0m in \u001b[0;36m<cell line: 1>\u001b[1;34m()\u001b[0m\n\u001b[1;32m----> <a href='vscode-notebook-cell:/f%3A/TESIS/Proyecto_mod_precipitacion/Codigos%20de%20Python/NoteNook_model_KNN.ipynb#Y150sZmlsZQ%3D%3D?line=0'>1</a>\u001b[0m data\u001b[39m.\u001b[39;49mdescribe[\u001b[39m'\u001b[39;49m\u001b[39mprec\u001b[39;49m\u001b[39m'\u001b[39;49m]\n\u001b[0;32m      <a href='vscode-notebook-cell:/f%3A/TESIS/Proyecto_mod_precipitacion/Codigos%20de%20Python/NoteNook_model_KNN.ipynb#Y150sZmlsZQ%3D%3D?line=1'>2</a>\u001b[0m summary \u001b[39m=\u001b[39m data[\u001b[39m'\u001b[39m\u001b[39mprec\u001b[39m\u001b[39m'\u001b[39m]\u001b[39m.\u001b[39mdescribe()\n\u001b[0;32m      <a href='vscode-notebook-cell:/f%3A/TESIS/Proyecto_mod_precipitacion/Codigos%20de%20Python/NoteNook_model_KNN.ipynb#Y150sZmlsZQ%3D%3D?line=2'>3</a>\u001b[0m \u001b[39mprint\u001b[39m(summary)\n",
      "\u001b[1;31mTypeError\u001b[0m: 'method' object is not subscriptable"
     ]
    }
   ],
   "source": [
    "\n",
    "data.describe['prec']\n",
    "summary = data['prec'].describe()\n",
    "print(summary)"
   ]
  },
  {
   "cell_type": "code",
   "execution_count": 16,
   "metadata": {},
   "outputs": [
    {
     "name": "stdout",
     "output_type": "stream",
     "text": [
      "<class 'pandas.core.frame.DataFrame'>\n",
      "RangeIndex: 656436 entries, 0 to 656435\n",
      "Data columns (total 5 columns):\n",
      " #   Column  Non-Null Count   Dtype  \n",
      "---  ------  --------------   -----  \n",
      " 0   Date    656436 non-null  object \n",
      " 1   prec    592124 non-null  float64\n",
      " 2   ID      656436 non-null  int64  \n",
      " 3   LAT     656436 non-null  float64\n",
      " 4   LON     656436 non-null  float64\n",
      "dtypes: float64(3), int64(1), object(1)\n",
      "memory usage: 25.0+ MB\n",
      "None\n",
      "             prec                                                      \\\n",
      "            count       mean        std  min  25%  50%     75%    max   \n",
      "ID                                                                      \n",
      "32010010   9891.0   7.182105  14.105547  0.0  0.0  0.0   8.000  147.0   \n",
      "32020020   7963.0  10.499171  18.272050  0.0  0.0  2.0  14.000  185.0   \n",
      "32030020  10851.0   8.560511  16.159632  0.0  0.0  0.0  11.000  190.0   \n",
      "32035010  12023.0   7.206188  14.132236  0.0  0.0  0.2   8.100  189.0   \n",
      "32035020   9681.0   7.830792  14.279337  0.0  0.0  1.0  10.000  139.0   \n",
      "32060020  11857.0   8.617104  17.349691  0.0  0.0  0.0  10.000  180.0   \n",
      "32060030  13257.0  13.341857  22.436369  0.0  0.0  3.0  18.000  182.0   \n",
      "32060060  12155.0  13.914249  24.247011  0.0  0.0  0.0  19.000  250.0   \n",
      "32060090   8087.0  17.046173  26.567739  0.0  0.0  4.5  24.000  287.0   \n",
      "32060100   5385.0  18.590065  25.260762  0.0  1.0  8.0  27.000  193.0   \n",
      "32065010   9623.0  10.355679  18.436579  0.0  0.0  2.0  12.150  205.2   \n",
      "32070010  12406.0   7.804232  16.688043  0.0  0.0  0.0   9.000  165.0   \n",
      "32070020  12453.0   6.790741  15.432075  0.0  0.0  0.0   6.000  200.0   \n",
      "32070030  11997.0   8.601400  16.812224  0.0  0.0  0.0  10.000  160.0   \n",
      "32070040  12461.0   7.586422  15.675572  0.0  0.0  0.0   9.000  325.0   \n",
      "32070060  13164.0   7.501922  15.743940  0.0  0.0  0.0   9.000  236.0   \n",
      "32070080  11684.0   7.190123  15.079258  0.0  0.0  0.0   7.000  135.0   \n",
      "32070090  10141.0   9.698688  18.952247  0.0  0.0  0.0  11.000  174.1   \n",
      "32070100  11839.0   7.962294  15.999327  0.0  0.0  0.0   9.000  174.0   \n",
      "32070110   9453.0   7.844578  16.065007  0.0  0.0  0.0   8.000  224.0   \n",
      "32070120   7910.0  10.714526  18.344228  0.0  0.0  1.0  14.000  170.1   \n",
      "32075030  10612.0   7.700867  15.661779  0.0  0.0  0.4   8.000  170.0   \n",
      "32075040  12090.0   7.624227  16.037267  0.0  0.0  0.2   8.000  231.0   \n",
      "32075050  10732.0   8.317602  15.134813  0.0  0.0  1.0  10.000  150.0   \n",
      "32075060   6815.0   6.538122  14.308351  0.0  0.0  0.0   6.200  145.0   \n",
      "32075080   8572.0   7.491881  15.687647  0.0  0.0  0.0   7.425  195.0   \n",
      "32080010  12986.0   7.557839  15.562992  0.0  0.0  0.0   9.000  145.0   \n",
      "32090010  10899.0   7.860446  16.160737  0.0  0.0  0.0   9.000  322.0   \n",
      "32120010   7740.0   7.674651  16.139604  0.0  0.0  0.0   8.000  145.0   \n",
      "33035010  11048.0   7.143130  15.398428  0.0  0.0  0.0   7.000  147.0   \n",
      "35010010  12900.0   6.792124  16.146469  0.0  0.0  0.0   5.000  170.0   \n",
      "35010020  13081.0  12.587577  21.431763  0.0  0.0  1.9  17.000  170.0   \n",
      "35010040  12828.0  14.231275  23.277216  0.0  0.0  3.0  20.000  225.0   \n",
      "35010060  13098.0   7.026760  16.872183  0.0  0.0  0.0   5.000  182.2   \n",
      "35010070  12905.0  11.435312  20.495570  0.0  0.0  1.0  15.000  145.0   \n",
      "35010080  13074.0   6.804895  15.212712  0.0  0.0  0.0   7.000  187.0   \n",
      "35010090  13122.0   8.907918  17.825982  0.0  0.0  0.0  10.000  230.0   \n",
      "35010150   3302.0   7.353422  16.508107  0.0  0.0  0.0   6.000  145.0   \n",
      "35010230   6710.0   7.620417  16.855791  0.0  0.0  0.0   8.000  150.0   \n",
      "35015050   8185.0   7.098742  15.622103  0.0  0.0  0.0   6.600  175.0   \n",
      "35020060  13226.0   7.179261  16.031766  0.0  0.0  0.0   6.000  223.0   \n",
      "35025020  12375.0   8.191935  16.944251  0.0  0.0  0.3   8.300  298.0   \n",
      "35030020  11949.0  16.729074  24.723773  0.0  0.0  6.0  24.000  185.0   \n",
      "35030050  12295.0   8.199447  18.066884  0.0  0.0  0.0   8.000  345.0   \n",
      "35030370   2636.0  11.843665  20.893545  0.0  0.0  2.0  15.000  184.0   \n",
      "35030380   2036.0  13.439686  22.423188  0.0  0.0  2.4  18.500  215.0   \n",
      "35035010   7049.0   8.824216  17.825559  0.0  0.0  0.2   9.700  212.5   \n",
      "35035020  13326.0  12.286260  20.822888  0.0  0.0  2.3  16.100  206.8   \n",
      "35035070   9101.0  10.267245  18.951840  0.0  0.0  1.0  12.300  223.4   \n",
      "35045020  13007.0   9.299669  18.416715  0.0  0.0  0.6  10.000  235.0   \n",
      "35100020  13052.0   6.911745  16.517166  0.0  0.0  0.0   5.000  370.0   \n",
      "35105050   7905.0   6.983947  15.491729  0.0  0.0  0.0   7.000  172.0   \n",
      "35120010  12737.0   6.066005  14.636118  0.0  0.0  0.0   4.000  150.0   \n",
      "35125010  10620.0   6.221290  14.129540  0.0  0.0  0.0   5.000  153.5   \n",
      "35130010  12414.0   7.195223  15.718310  0.0  0.0  0.0   7.000  192.0   \n",
      "35180030  11344.0   6.693882  15.266653  0.0  0.0  0.0   6.525  200.0   \n",
      "35185010   2072.0   5.715347  16.024079  0.0  0.0  0.1   4.000  438.8   \n",
      "\n",
      "              LAT            ...                          LON             \\\n",
      "            count      mean  ...       75%       max    count       mean   \n",
      "ID                           ...                                           \n",
      "32010010  12076.0  2.562833  ...  2.562833  2.562833  12076.0 -74.103083   \n",
      "32020020   8523.0  3.243222  ...  3.243222  3.243222   8523.0 -74.353722   \n",
      "32030020  12046.0  2.322500  ...  2.322500  2.322500  12046.0 -73.943889   \n",
      "32035010  13300.0  2.176111  ...  2.176111  2.176111  13300.0 -73.793333   \n",
      "32035020  12046.0  2.438389  ...  2.438389  2.438389  12046.0 -73.932278   \n",
      "32060020  13331.0  3.530944  ...  3.530944  3.530944  13331.0 -73.901083   \n",
      "32060030  13331.0  3.790722  ...  3.790722  3.790722  13331.0 -73.842778   \n",
      "32060060  13240.0  3.742333  ...  3.742333  3.742333  13240.0 -73.834694   \n",
      "32060090  11868.0  3.576222  ...  3.576222  3.576222  11868.0 -74.059639   \n",
      "32060100   5588.0  3.792667  ...  3.792667  3.792667   5588.0 -73.922472   \n",
      "32065010   9649.0  3.533333  ...  3.533333  3.533333   9649.0 -74.016667   \n",
      "32070010  13331.0  3.200000  ...  3.200000  3.200000  13331.0 -73.750000   \n",
      "32070020  13301.0  3.250000  ...  3.250000  3.250000  13301.0 -73.516667   \n",
      "32070030  13331.0  3.316389  ...  3.316389  3.316389  13331.0 -73.892167   \n",
      "32070040  13331.0  2.983333  ...  2.983333  2.983333  13331.0 -73.633333   \n",
      "32070060  13301.0  3.466667  ...  3.466667  3.466667  13301.0 -73.633333   \n",
      "32070080  12010.0  3.087500  ...  3.087500  3.087500  12010.0 -73.226389   \n",
      "32070090  11891.0  3.316667  ...  3.316667  3.316667  11891.0 -73.916667   \n",
      "32070100  11901.0  3.375083  ...  3.375083  3.375083  11901.0 -73.891944   \n",
      "32070110   9648.0  3.472028  ...  3.472028  3.472028   9648.0 -73.857833   \n",
      "32070120   8263.0  3.456556  ...  3.456556  3.456556   8263.0 -74.029944   \n",
      "32075030  13330.0  3.120389  ...  3.120389  3.120389  13330.0 -73.754028   \n",
      "32075040  13133.0  3.516333  ...  3.516333  3.516333  13133.0 -73.716028   \n",
      "32075050  11810.0  3.380056  ...  3.380056  3.380056  11810.0 -74.042972   \n",
      "32075060   6961.0  3.366667  ...  3.366667  3.366667   6961.0 -73.700000   \n",
      "32075080   8866.0  3.267694  ...  3.267694  3.267694   8866.0 -73.373194   \n",
      "32080010  13270.0  2.943333  ...  2.943333  2.943333  13270.0 -73.209722   \n",
      "32090010  12024.0  2.889722  ...  2.889722  2.889722  12024.0 -72.130111   \n",
      "32120010  11894.0  3.734083  ...  3.734083  3.734083  11894.0 -72.369778   \n",
      "33035010  13331.0  4.574417  ...  4.574417  4.574417  13331.0 -71.340750   \n",
      "35010010  13331.0  4.105028  ...  4.105028  4.105028  13331.0 -72.936500   \n",
      "35010020  13301.0  3.994639  ...  3.994639  3.994639  13301.0 -73.765583   \n",
      "35010040  13331.0  3.924222  ...  3.924222  3.924222  13331.0 -73.814583   \n",
      "35010060  13301.0  3.786667  ...  3.786667  3.786667  13301.0 -73.400556   \n",
      "35010070  13270.0  3.878333  ...  3.878333  3.878333  13270.0 -73.758611   \n",
      "35010080  13301.0  3.793889  ...  3.793889  3.793889  13301.0 -73.149722   \n",
      "35010090  13331.0  3.750278  ...  3.750278  3.750278  13331.0 -73.700833   \n",
      "35010150   4597.0  3.883333  ...  3.883333  3.883333   4597.0 -73.340000   \n",
      "35010230  12082.0  3.984639  ...  3.984639  3.984639  12082.0 -72.971222   \n",
      "35015050   8823.0  3.630778  ...  3.630778  3.630778   8823.0 -73.349278   \n",
      "35020060  13301.0  4.039750  ...  4.039750  4.039750  13301.0 -73.368000   \n",
      "35025020  13331.0  4.057361  ...  4.057361  4.057361  13331.0 -73.467917   \n",
      "35030020  13293.0  4.310083  ...  4.310083  4.310083  13293.0 -73.648028   \n",
      "35030050  13270.0  4.091139  ...  4.091139  4.091139  13270.0 -73.448778   \n",
      "35030370   3698.0  4.137389  ...  4.137389  4.137389   3698.0 -73.625000   \n",
      "35030380   2465.0  4.144083  ...  4.144083  4.144083   2465.0 -73.641833   \n",
      "35035010  13180.0  4.077111  ...  4.077111  4.077111  13180.0 -73.559917   \n",
      "35035020  13331.0  4.161919  ...  4.161919  4.161919  13331.0 -73.617578   \n",
      "35035070  11900.0  4.076722  ...  4.076722  4.076722  11900.0 -73.582000   \n",
      "35045020  13301.0  4.300444  ...  4.300444  4.300444  13301.0 -73.357500   \n",
      "35100020  13240.0  4.283722  ...  4.283722  4.283722  13240.0 -72.792833   \n",
      "35105050   8297.0  4.468667  ...  4.468667  4.468667   8297.0 -72.953583   \n",
      "35120010  13331.0  4.311389  ...  4.311389  4.311389  13331.0 -72.076639   \n",
      "35125010  13240.0  4.340556  ...  4.340556  4.340556  13240.0 -72.156361   \n",
      "35130010  13331.0  3.956083  ...  3.956083  3.956083  13331.0 -72.765722   \n",
      "35180030  12084.0  4.327722  ...  4.327722  4.327722  12084.0 -72.391444   \n",
      "35185010   3250.0  4.260361  ...  4.260361  4.260361   3250.0 -72.564472   \n",
      "\n",
      "                                                                               \n",
      "                   std        min        25%        50%        75%        max  \n",
      "ID                                                                             \n",
      "32010010  0.000000e+00 -74.103083 -74.103083 -74.103083 -74.103083 -74.103083  \n",
      "32020020  0.000000e+00 -74.353722 -74.353722 -74.353722 -74.353722 -74.353722  \n",
      "32030020  0.000000e+00 -73.943889 -73.943889 -73.943889 -73.943889 -73.943889  \n",
      "32035010  0.000000e+00 -73.793333 -73.793333 -73.793333 -73.793333 -73.793333  \n",
      "32035020  0.000000e+00 -73.932278 -73.932278 -73.932278 -73.932278 -73.932278  \n",
      "32060020  0.000000e+00 -73.901083 -73.901083 -73.901083 -73.901083 -73.901083  \n",
      "32060030  2.842278e-14 -73.842778 -73.842778 -73.842778 -73.842778 -73.842778  \n",
      "32060060  0.000000e+00 -73.834694 -73.834694 -73.834694 -73.834694 -73.834694  \n",
      "32060090  1.421145e-14 -74.059639 -74.059639 -74.059639 -74.059639 -74.059639  \n",
      "32060100  0.000000e+00 -73.922472 -73.922472 -73.922472 -73.922472 -73.922472  \n",
      "32065010  0.000000e+00 -74.016667 -74.016667 -74.016667 -74.016667 -74.016667  \n",
      "32070010  0.000000e+00 -73.750000 -73.750000 -73.750000 -73.750000 -73.750000  \n",
      "32070020  1.421139e-14 -73.516667 -73.516667 -73.516667 -73.516667 -73.516667  \n",
      "32070030  2.842278e-14 -73.892167 -73.892167 -73.892167 -73.892167 -73.892167  \n",
      "32070040  0.000000e+00 -73.633333 -73.633333 -73.633333 -73.633333 -73.633333  \n",
      "32070060  0.000000e+00 -73.633333 -73.633333 -73.633333 -73.633333 -73.633333  \n",
      "32070080  0.000000e+00 -73.226389 -73.226389 -73.226389 -73.226389 -73.226389  \n",
      "32070090  2.842290e-14 -73.916667 -73.916667 -73.916667 -73.916667 -73.916667  \n",
      "32070100  0.000000e+00 -73.891944 -73.891944 -73.891944 -73.891944 -73.891944  \n",
      "32070110  2.842318e-14 -73.857833 -73.857833 -73.857833 -73.857833 -73.857833  \n",
      "32070120  0.000000e+00 -74.029944 -74.029944 -74.029944 -74.029944 -74.029944  \n",
      "32075030  1.421139e-14 -73.754028 -73.754028 -73.754028 -73.754028 -73.754028  \n",
      "32075040  1.421140e-14 -73.716028 -73.716028 -73.716028 -73.716028 -73.716028  \n",
      "32075050  1.421146e-14 -74.042972 -74.042972 -74.042972 -74.042972 -74.042972  \n",
      "32075060  1.421188e-14 -73.700000 -73.700000 -73.700000 -73.700000 -73.700000  \n",
      "32075080  1.421166e-14 -73.373194 -73.373194 -73.373194 -73.373194 -73.373194  \n",
      "32080010  0.000000e+00 -73.209722 -73.209722 -73.209722 -73.209722 -73.209722  \n",
      "32090010  2.842289e-14 -72.130111 -72.130111 -72.130111 -72.130111 -72.130111  \n",
      "32120010  0.000000e+00 -72.369778 -72.369778 -72.369778 -72.369778 -72.369778  \n",
      "33035010  1.421139e-14 -71.340750 -71.340750 -71.340750 -71.340750 -71.340750  \n",
      "35010010  1.421139e-14 -72.936500 -72.936500 -72.936500 -72.936500 -72.936500  \n",
      "35010020  1.421139e-14 -73.765583 -73.765583 -73.765583 -73.765583 -73.765583  \n",
      "35010040  0.000000e+00 -73.814583 -73.814583 -73.814583 -73.814583 -73.814583  \n",
      "35010060  1.421139e-14 -73.400556 -73.400556 -73.400556 -73.400556 -73.400556  \n",
      "35010070  1.421139e-14 -73.758611 -73.758611 -73.758611 -73.758611 -73.758611  \n",
      "35010080  1.421139e-14 -73.149722 -73.149722 -73.149722 -73.149722 -73.149722  \n",
      "35010090  1.421139e-14 -73.700833 -73.700833 -73.700833 -73.700833 -73.700833  \n",
      "35010150  1.421240e-14 -73.340000 -73.340000 -73.340000 -73.340000 -73.340000  \n",
      "35010230  1.421144e-14 -72.971222 -72.971222 -72.971222 -72.971222 -72.971222  \n",
      "35015050  1.421166e-14 -73.349278 -73.349278 -73.349278 -73.349278 -73.349278  \n",
      "35020060  1.421139e-14 -73.368000 -73.368000 -73.368000 -73.368000 -73.368000  \n",
      "35025020  0.000000e+00 -73.467917 -73.467917 -73.467917 -73.467917 -73.467917  \n",
      "35030020  1.421139e-14 -73.648028 -73.648028 -73.648028 -73.648028 -73.648028  \n",
      "35030050  0.000000e+00 -73.448778 -73.448778 -73.448778 -73.448778 -73.448778  \n",
      "35030370  0.000000e+00 -73.625000 -73.625000 -73.625000 -73.625000 -73.625000  \n",
      "35030380  0.000000e+00 -73.641833 -73.641833 -73.641833 -73.641833 -73.641833  \n",
      "35035010  0.000000e+00 -73.559917 -73.559917 -73.559917 -73.559917 -73.559917  \n",
      "35035020  1.421139e-14 -73.617578 -73.617578 -73.617578 -73.617578 -73.617578  \n",
      "35035070  0.000000e+00 -73.582000 -73.582000 -73.582000 -73.582000 -73.582000  \n",
      "35045020  1.421139e-14 -73.357500 -73.357500 -73.357500 -73.357500 -73.357500  \n",
      "35100020  0.000000e+00 -72.792833 -72.792833 -72.792833 -72.792833 -72.792833  \n",
      "35105050  0.000000e+00 -72.953583 -72.953583 -72.953583 -72.953583 -72.953583  \n",
      "35120010  1.421139e-14 -72.076639 -72.076639 -72.076639 -72.076639 -72.076639  \n",
      "35125010  1.421139e-14 -72.156361 -72.156361 -72.156361 -72.156361 -72.156361  \n",
      "35130010  0.000000e+00 -72.765722 -72.765722 -72.765722 -72.765722 -72.765722  \n",
      "35180030  0.000000e+00 -72.391444 -72.391444 -72.391444 -72.391444 -72.391444  \n",
      "35185010  1.421304e-14 -72.564472 -72.564472 -72.564472 -72.564472 -72.564472  \n",
      "\n",
      "[57 rows x 24 columns]\n"
     ]
    }
   ],
   "source": [
    "print(data.info())\n",
    "#agrupada por id que sacar el resumen por estaciones \n",
    "print(data.groupby('ID').describe())\n",
    "#Después de la imputación, analizaré el "
   ]
  },
  {
   "cell_type": "code",
   "execution_count": 32,
   "metadata": {},
   "outputs": [],
   "source": [
    "import numpy as np\n",
    "import pandas as pd\n",
    "import matplotlib.pyplot as plt\n"
   ]
  },
  {
   "cell_type": "code",
   "execution_count": 39,
   "metadata": {},
   "outputs": [
    {
     "data": {
      "image/png": "[encoded data removed]",
      "text/plain": [
       "<Figure size 864x432 with 1 Axes>"
      ]
     },
     "metadata": {},
     "output_type": "display_data"
    }
   ],
   "source": [
    "# Crear una figura y un conjunto de ejes en matplotlib\n",
    "fig, ax = plt.subplots(figsize=(12, 6))\n",
    "\n",
    "# Crear el gráfico de cajas con seaborn\n",
    "sns.boxplot(x='ID', y='prec', data=data, ax=ax)\n",
    "\n",
    "# Personalizar las etiquetas y el aspecto del gráfico\n",
    "ax.set_xlabel(\"ID\")\n",
    "ax.set_ylabel(\"Precipitación\")\n",
    "ax.set_title(\"Gráfico de cajas de la precipitación por ID\")\n",
    "ax.grid(axis='y')\n",
    "\n",
    "# Mostrar el gráfico\n",
    "plt.show()\n"
   ]
  },
  {
   "cell_type": "code",
   "execution_count": 38,
   "metadata": {},
   "outputs": [
    {
     "data": {
      "image/png": "[encoded data removed]",
      "text/plain": [
       "<Figure size 432x288 with 1 Axes>"
      ]
     },
     "metadata": {},
     "output_type": "display_data"
    }
   ],
   "source": [
    "sns.boxplot(data=data_normalized[['prec', 'LAT', 'LON']], palette=\"Set3\")\n",
    "# Etiquetas personalizadas\n",
    "plt.xlabel(\"Variables\")\n",
    "plt.ylabel(\"Valores normalizados\")\n",
    "plt.title(\"Gráfico de cajas de la dispersión de los datos normalizados\")\n",
    "\n",
    "# Mostrar el gráfico\n",
    "plt.show()"
   ]
  },
  {
   "cell_type": "code",
   "execution_count": null,
   "metadata": {},
   "outputs": [],
   "source": []
  },
  {
   "attachments": {},
   "cell_type": "markdown",
   "metadata": {},
   "source": [
    "### Evaluacion del modelo\n"
   ]
  },
  {
   "cell_type": "code",
   "execution_count": null,
   "metadata": {},
   "outputs": [],
   "source": [
    "import pandas as pd\n",
    "import numpy as np\n",
    "from sklearn.impute import KNNImputer\n",
    "from sklearn.metrics import mean_squared_error, r2_score, mean_absolute_error\n",
    "from sklearn.model_selection import train_test_split"
   ]
  },
  {
   "cell_type": "code",
   "execution_count": null,
   "metadata": {},
   "outputs": [],
   "source": []
  },
  {
   "attachments": {},
   "cell_type": "markdown",
   "metadata": {},
   "source": [
    "Codigo para intentar evualar\n"
   ]
  },
  {
   "cell_type": "code",
   "execution_count": null,
   "metadata": {},
   "outputs": [],
   "source": [
    "# Dividir los datos en conjuntos de entrenamiento y prueba usando solo la columna 'prec'\n",
    "train_data, test_data = train_test_split(data, test_size=0.2, random_state=42, stratify=data['ID'])\n",
    "\n",
    "# Realizar la imputación en todo el conjunto de datos de entrenamiento\n",
    "imputed_train_data = impute_precipitation_parallel(train_data)\n",
    "\n",
    "# Realizar la imputación en todo el conjunto de datos de prueba\n",
    "imputed_test_data = impute_precipitation_parallel(test_data)\n",
    "\n",
    "# Calcular el rendimiento de la imputación para cada estación en el conjunto de prueba\n",
    "# Calcular el rendimiento de la imputación para cada estación en el conjunto de prueba\n",
    "evaluation_results = {}\n",
    "for station_id in test_data['ID'].unique():\n",
    "    station_test_data = imputed_test_data[imputed_test_data['ID'] == station_id]\n",
    "    \n",
    "    # Filtrar solo las filas que contienen valores imputados en la columna 'prec'\n",
    "    imputed_rows = station_test_data[station_test_data['prec'].isna()]\n",
    "    \n",
    "    if not imputed_rows.empty:\n",
    "        # Combinar el conjunto de datos imputado con el conjunto de datos original de prueba para recuperar los valores reales\n",
    "        real_and_imputed = imputed_rows[['ID', 'Date', 'prec_imputed']].merge(test_data[['ID', 'Date', 'prec']], on=['ID', 'Date'], how='left')\n",
    "\n",
    "        # Eliminar filas con valores NaN en 'prec_imputed' o 'prec'\n",
    "        real_and_imputed = real_and_imputed.dropna(subset=['prec_imputed', 'prec'])\n",
    "        \n",
    "        if not real_and_imputed.empty:\n",
    "            # Comparar los valores imputados con los valores originales en el conjunto de prueba\n",
    "            imputed_values = real_and_imputed['prec_imputed']\n",
    "            real_values = real_and_imputed['prec']\n",
    "            \n",
    "            # Evaluar el rendimiento de la imputación\n",
    "            rmse, r2, mae = evaluate_imputation_performance(real_values, imputed_values)\n",
    "            \n",
    "            evaluation_results[station_id] = {\n",
    "                'RMSE': rmse,\n",
    "                'R2': r2,\n",
    "                'MAE': mae\n",
    "            }\n",
    "        else:\n",
    "            evaluation_results[station_id] = {\n",
    "                'RMSE': None,\n",
    "                'R2': None,\n",
    "                'MAE': None\n",
    "            }\n",
    "    else:\n",
    "        evaluation_results[station_id] = {\n",
    "            'RMSE': None,\n",
    "            'R2': None,\n",
    "            'MAE': None\n",
    "        }\n",
    "\n",
    "# Imprimir los resultados de la evaluación\n",
    "for station_id, performance in evaluation_results.items():\n",
    "    print(f\"Estación {station_id}:\")\n",
    "    if performance['RMSE'] is not None:\n",
    "        print(f\"  RMSE: {performance['RMSE']:.3f}\")\n",
    "        print(f\"  R2: {performance['R2']:.3f}\")\n",
    "        print(f\"  MAE: {performance['MAE']:.3f}\")\n",
    "    else:\n",
    "        print(\"  No hay valores faltantes en los datos de prueba para esta estación.\")\n",
    "    print()\n",
    "\n",
    "\n",
    "data.info()\n",
    "\n",
    "\n",
    "from sklearn.metrics import mean_squared_error, mean_absolute_error\n",
    "from sklearn.model_selection import train_test_split\n",
    "\n",
    "# Dividir el conjunto de datos en conjuntos de entrenamiento y prueba\n",
    "train_data, test_data = train_test_split(data, test_size=0.2, random_state=42)\n",
    "\n",
    "# Aplicar KNNImputer en todo el conjunto de datos de entrenamiento\n",
    "imputed_train_data = impute_precipitation_parallel(train_data)\n",
    "\n",
    "# Aplicar KNNImputer en todo el conjunto de datos de prueba\n",
    "imputed_test_data = impute_precipitation_parallel(test_data)\n",
    "\n",
    "# Filtrar las filas del conjunto de prueba que originalmente tenían valores faltantes en 'prec'\n",
    "test_data_with_missing = test_data[test_data['prec'].isna()]\n",
    "\n",
    "# Obtener solo las filas correspondientes en el conjunto de datos imputados\n",
    "imputed_test_data_with_missing_values = imputed_test_data[imputed_test_data.index.isin(test_data_with_missing.index)]\n",
    "\n",
    "# Imprimir el conjunto de datos con valores imputados\n",
    "print(imputed_test_data_with_missing_values)\n",
    "\n",
    "# Comparar los valores imputados con los valores reales en 'prec' para calcular RMSE y MAE\n",
    "y_true = test_data_with_missing['prec']\n",
    "y_pred = imputed_test_data_with_missing_values.loc[y_true.index, 'prec_imputed']\n",
    "\n",
    "rmse = np.sqrt(mean_squared_error(y_true, y_pred))\n",
    "mae = mean_absolute_error(y_true, y_pred)\n",
    "\n",
    "print(\"RMSE:\", rmse)\n",
    "print(\"MAE:\", mae)\n"
   ]
  },
  {
   "attachments": {},
   "cell_type": "markdown",
   "metadata": {},
   "source": [
    "Intento de evaluacion"
   ]
  },
  {
   "cell_type": "code",
   "execution_count": 43,
   "metadata": {},
   "outputs": [
    {
     "name": "stdout",
     "output_type": "stream",
     "text": [
      "<class 'pandas.core.frame.DataFrame'>\n",
      "Int64Index: 592124 entries, 0 to 656435\n",
      "Data columns (total 5 columns):\n",
      " #   Column  Non-Null Count   Dtype  \n",
      "---  ------  --------------   -----  \n",
      " 0   Date    592124 non-null  object \n",
      " 1   prec    592124 non-null  float64\n",
      " 2   ID      592124 non-null  int64  \n",
      " 3   LAT     592124 non-null  float64\n",
      " 4   LON     592124 non-null  float64\n",
      "dtypes: float64(3), int64(1), object(1)\n",
      "memory usage: 27.1+ MB\n"
     ]
    }
   ],
   "source": [
    "datosmetacomople = data.dropna()\n",
    "datosmetacomople.info()"
   ]
  },
  {
   "cell_type": "code",
   "execution_count": 53,
   "metadata": {},
   "outputs": [
    {
     "name": "stderr",
     "output_type": "stream",
     "text": [
      "C:\\Users\\ronal\\AppData\\Local\\Temp\\ipykernel_18436\\2071428723.py:24: SettingWithCopyWarning: \n",
      "A value is trying to be set on a copy of a slice from a DataFrame.\n",
      "Try using .loc[row_indexer,col_indexer] = value instead\n",
      "\n",
      "See the caveats in the documentation: https://pandas.pydata.org/pandas-docs/stable/user_guide/indexing.html#returning-a-view-versus-a-copy\n",
      "  datosmetacomople['Date'] = pd.to_datetime(datosmetacomople['Date'])\n"
     ]
    }
   ],
   "source": [
    "datosmetacomople = data.dropna()\n",
    "from joblib import Parallel, delayed\n",
    "from sklearn.impute import KNNImputer\n",
    "import pandas as pd\n",
    "import numpy as np\n",
    "from sklearn.metrics import mean_squared_error, r2_score, mean_absolute_error\n",
    "\n",
    "\n",
    "def impute_precipitation_for_station(station_data, columns=['prec'], n_neighbors=5):\n",
    "    imputer = KNNImputer(n_neighbors=n_neighbors)\n",
    "    station_data_imputed = imputer.fit_transform(station_data[columns])\n",
    "    station_data['prec_imputed'] = station_data_imputed[:, 0]\n",
    "    return station_data\n",
    "\n",
    "def impute_precipitation_parallel(data, n_jobs=5, columns=['prec']):\n",
    "    stations = data['ID'].unique()\n",
    "    results = Parallel(n_jobs=n_jobs)(\n",
    "        delayed(impute_precipitation_for_station)(data[data['ID'] == station], columns=columns) for station in stations\n",
    "    )\n",
    "    imputed_data = pd.concat(results, ignore_index=True)\n",
    "    return imputed_data\n",
    "\n",
    "# Cargar y procesar los datos\n",
    "datosmetacomople['Date'] = pd.to_datetime(datosmetacomople['Date'])\n",
    "\n",
    "# Introducir valores faltantes aleatoriamente en la columna 'prec'\n",
    "data_with_missing_values = generate_missing_data(datosmetacomople)\n",
    "\n",
    "# Realizar la imputación en todo el conjunto de datos con valores faltantes\n",
    "imputed_data = impute_precipitation_parallel(data_with_missing_values)\n",
    "\n",
    "def evaluate_imputation_performance(real_values, imputed_values):\n",
    "    rmse = np.sqrt(mean_squared_error(real_values, imputed_values))\n",
    "    r2 = r2_score(real_values, imputed_values)\n",
    "    mae = mean_absolute_error(real_values, imputed_values)\n",
    "    return rmse, r2, mae\n",
    "\n",
    "# Calcular el rendimiento de la imputación para cada estación\n",
    "evaluation_results = {}\n",
    "for station_id in datosmetacomople['ID'].unique():\n",
    "    station_data = imputed_data[imputed_data['ID'] == station_id]\n",
    "\n",
    "    # Filtrar solo las filas que contienen valores imputados en la columna 'prec'\n",
    "    imputed_rows = station_data[station_data['prec'].isna()]\n",
    "\n",
    "    if not imputed_rows.empty:\n",
    "        # Combinar el conjunto de datos imputado con el conjunto de datos original para recuperar los valores reales\n",
    "        real_and_imputed = imputed_rows[['ID', 'Date', 'prec_imputed']].merge(datosmetacomople[['ID', 'Date', 'prec']], on=['ID', 'Date'], how='left')\n",
    "\n",
    "        # Eliminar filas con valores NaN en 'prec_imputed' o 'prec'\n",
    "        real_and_imputed = real_and_imputed.dropna(subset=['prec_imputed', 'prec'])\n",
    "\n",
    "        if not real_and_imputed.empty:\n",
    "            # Comparar los valores imputados con los valores originales\n",
    "            imputed_values = real_and_imputed['prec_imputed']\n",
    "            real_values = real_and_imputed['prec']\n",
    "\n",
    "            # Evaluar el rendimiento de la imputación\n",
    "            rmse, r2, mae = evaluate_imputation_performance(real_values, imputed_values)\n",
    "            evaluation_results[station_id] = {\n",
    "                'RMSE': rmse,\n",
    "                'R2': r2,\n",
    "                'MAE': mae\n",
    "            }"
   ]
  },
  {
   "cell_type": "code",
   "execution_count": 59,
   "metadata": {},
   "outputs": [
    {
     "name": "stdout",
     "output_type": "stream",
     "text": [
      "ID de Estación 32010010:\n",
      "  RMSE: 14.153\n",
      "  R2: -0.000\n",
      "  MAE: 9.153\n",
      "\n",
      "ID de Estación 32020020:\n",
      "  RMSE: 19.156\n",
      "  R2: -0.001\n",
      "  MAE: 12.829\n",
      "\n",
      "ID de Estación 32030020:\n",
      "  RMSE: 16.335\n",
      "  R2: -0.000\n",
      "  MAE: 11.067\n",
      "\n",
      "ID de Estación 32035010:\n",
      "  RMSE: 14.936\n",
      "  R2: -0.000\n",
      "  MAE: 9.532\n",
      "\n",
      "ID de Estación 32035020:\n",
      "  RMSE: 14.923\n",
      "  R2: -0.001\n",
      "  MAE: 9.732\n",
      "\n",
      "ID de Estación 32060020:\n",
      "  RMSE: 17.453\n",
      "  R2: -0.000\n",
      "  MAE: 11.447\n",
      "\n",
      "ID de Estación 32060030:\n",
      "  RMSE: 22.519\n",
      "  R2: -0.000\n",
      "  MAE: 15.669\n",
      "\n",
      "ID de Estación 32060060:\n",
      "  RMSE: 23.731\n",
      "  R2: -0.002\n",
      "  MAE: 16.492\n",
      "\n",
      "ID de Estación 32060090:\n",
      "  RMSE: 29.031\n",
      "  R2: -0.004\n",
      "  MAE: 20.283\n",
      "\n",
      "ID de Estación 32060100:\n",
      "  RMSE: 26.283\n",
      "  R2: -0.000\n",
      "  MAE: 18.547\n",
      "\n",
      "ID de Estación 32065010:\n",
      "  RMSE: 19.285\n",
      "  R2: -0.000\n",
      "  MAE: 12.653\n",
      "\n",
      "ID de Estación 32070010:\n",
      "  RMSE: 17.195\n",
      "  R2: -0.000\n",
      "  MAE: 10.559\n",
      "\n",
      "ID de Estación 32070020:\n",
      "  RMSE: 14.949\n",
      "  R2: -0.000\n",
      "  MAE: 9.635\n",
      "\n",
      "ID de Estación 32070030:\n",
      "  RMSE: 16.251\n",
      "  R2: -0.000\n",
      "  MAE: 11.227\n",
      "\n",
      "ID de Estación 32070040:\n",
      "  RMSE: 13.335\n",
      "  R2: -0.007\n",
      "  MAE: 9.438\n",
      "\n",
      "ID de Estación 32070060:\n",
      "  RMSE: 15.976\n",
      "  R2: -0.001\n",
      "  MAE: 10.451\n",
      "\n",
      "ID de Estación 32070080:\n",
      "  RMSE: 14.516\n",
      "  R2: -0.000\n",
      "  MAE: 9.653\n",
      "\n",
      "ID de Estación 32070090:\n",
      "  RMSE: 18.775\n",
      "  R2: -0.001\n",
      "  MAE: 12.646\n",
      "\n",
      "ID de Estación 32070100:\n",
      "  RMSE: 14.860\n",
      "  R2: -0.003\n",
      "  MAE: 9.770\n",
      "\n",
      "ID de Estación 32070110:\n",
      "  RMSE: 16.732\n",
      "  R2: -0.000\n",
      "  MAE: 10.534\n",
      "\n",
      "ID de Estación 32070120:\n",
      "  RMSE: 17.569\n",
      "  R2: -0.000\n",
      "  MAE: 12.474\n",
      "\n",
      "ID de Estación 32075030:\n",
      "  RMSE: 15.911\n",
      "  R2: -0.001\n",
      "  MAE: 10.089\n",
      "\n",
      "ID de Estación 32075040:\n",
      "  RMSE: 14.804\n",
      "  R2: -0.001\n",
      "  MAE: 9.689\n",
      "\n",
      "ID de Estación 32075050:\n",
      "  RMSE: 15.802\n",
      "  R2: -0.001\n",
      "  MAE: 10.596\n",
      "\n",
      "ID de Estación 32075060:\n",
      "  RMSE: 13.189\n",
      "  R2: -0.000\n",
      "  MAE: 8.847\n",
      "\n",
      "ID de Estación 32075080:\n",
      "  RMSE: 15.883\n",
      "  R2: -0.000\n",
      "  MAE: 9.987\n",
      "\n",
      "ID de Estación 32080010:\n",
      "  RMSE: 16.292\n",
      "  R2: -0.001\n",
      "  MAE: 10.606\n",
      "\n",
      "ID de Estación 32090010:\n",
      "  RMSE: 14.741\n",
      "  R2: -0.002\n",
      "  MAE: 10.234\n",
      "\n",
      "ID de Estación 32120010:\n",
      "  RMSE: 14.810\n",
      "  R2: -0.001\n",
      "  MAE: 10.141\n",
      "\n",
      "ID de Estación 33035010:\n",
      "  RMSE: 15.882\n",
      "  R2: -0.000\n",
      "  MAE: 9.814\n",
      "\n",
      "ID de Estación 35010010:\n",
      "  RMSE: 17.115\n",
      "  R2: -0.000\n",
      "  MAE: 10.123\n",
      "\n",
      "ID de Estación 35010020:\n",
      "  RMSE: 20.474\n",
      "  R2: -0.001\n",
      "  MAE: 14.677\n",
      "\n",
      "ID de Estación 35010040:\n",
      "  RMSE: 23.985\n",
      "  R2: -0.001\n",
      "  MAE: 16.516\n",
      "\n",
      "ID de Estación 35010060:\n",
      "  RMSE: 17.156\n",
      "  R2: -0.000\n",
      "  MAE: 10.423\n",
      "\n",
      "ID de Estación 35010070:\n",
      "  RMSE: 20.805\n",
      "  R2: -0.000\n",
      "  MAE: 14.371\n",
      "\n",
      "ID de Estación 35010080:\n",
      "  RMSE: 14.840\n",
      "  R2: -0.000\n",
      "  MAE: 9.341\n",
      "\n",
      "ID de Estación 35010090:\n",
      "  RMSE: 18.824\n",
      "  R2: -0.000\n",
      "  MAE: 11.682\n",
      "\n",
      "ID de Estación 35010150:\n",
      "  RMSE: 14.455\n",
      "  R2: -0.012\n",
      "  MAE: 9.409\n",
      "\n",
      "ID de Estación 35010230:\n",
      "  RMSE: 15.459\n",
      "  R2: -0.001\n",
      "  MAE: 10.210\n",
      "\n",
      "ID de Estación 35015050:\n",
      "  RMSE: 15.080\n",
      "  R2: -0.000\n",
      "  MAE: 9.349\n",
      "\n",
      "ID de Estación 35020060:\n",
      "  RMSE: 16.055\n",
      "  R2: -0.000\n",
      "  MAE: 9.993\n",
      "\n",
      "ID de Estación 35025020:\n",
      "  RMSE: 15.438\n",
      "  R2: -0.002\n",
      "  MAE: 10.190\n",
      "\n",
      "ID de Estación 35030020:\n",
      "  RMSE: 25.852\n",
      "  R2: -0.002\n",
      "  MAE: 18.341\n",
      "\n",
      "ID de Estación 35030050:\n",
      "  RMSE: 20.388\n",
      "  R2: -0.000\n",
      "  MAE: 11.545\n",
      "\n",
      "ID de Estación 35030370:\n",
      "  RMSE: 20.430\n",
      "  R2: -0.000\n",
      "  MAE: 13.808\n",
      "\n",
      "ID de Estación 35030380:\n",
      "  RMSE: 26.506\n",
      "  R2: -0.022\n",
      "  MAE: 18.098\n",
      "\n",
      "ID de Estación 35035010:\n",
      "  RMSE: 20.573\n",
      "  R2: -0.001\n",
      "  MAE: 12.096\n",
      "\n",
      "ID de Estación 35035020:\n",
      "  RMSE: 20.344\n",
      "  R2: -0.000\n",
      "  MAE: 14.368\n",
      "\n",
      "ID de Estación 35035070:\n",
      "  RMSE: 17.260\n",
      "  R2: -0.000\n",
      "  MAE: 12.235\n",
      "\n",
      "ID de Estación 35045020:\n",
      "  RMSE: 17.723\n",
      "  R2: -0.000\n",
      "  MAE: 11.579\n",
      "\n",
      "ID de Estación 35100020:\n",
      "  RMSE: 16.046\n",
      "  R2: -0.000\n",
      "  MAE: 9.822\n",
      "\n",
      "ID de Estación 35105050:\n",
      "  RMSE: 17.500\n",
      "  R2: -0.006\n",
      "  MAE: 10.177\n",
      "\n",
      "ID de Estación 35120010:\n",
      "  RMSE: 15.202\n",
      "  R2: -0.000\n",
      "  MAE: 8.952\n",
      "\n",
      "ID de Estación 35125010:\n",
      "  RMSE: 12.873\n",
      "  R2: -0.000\n",
      "  MAE: 8.479\n",
      "\n",
      "ID de Estación 35130010:\n",
      "  RMSE: 15.972\n",
      "  R2: -0.000\n",
      "  MAE: 10.338\n",
      "\n",
      "ID de Estación 35180030:\n",
      "  RMSE: 15.185\n",
      "  R2: -0.002\n",
      "  MAE: 9.872\n",
      "\n",
      "ID de Estación 35185010:\n",
      "  RMSE: 11.813\n",
      "  R2: -0.003\n",
      "  MAE: 7.618\n",
      "\n"
     ]
    }
   ],
   "source": [
    "# Imprimir los resultados de la evaluación\n",
    "for station_id, performance in evaluation_results.items():\n",
    "    print(f\"ID de Estación {station_id}:\")\n",
    "    if performance['RMSE'] is not None:\n",
    "        print(f\"  RMSE: {performance['RMSE']:.3f}\")\n",
    "        print(f\"  R2: {performance['R2']:.3f}\")\n",
    "        print(f\"  MAE: {performance['MAE']:.3f}\")\n",
    "    else:\n",
    "        print(\"  No hay valores faltantes en los datos para esta estación.\")\n",
    "    print()\n"
   ]
  },
  {
   "cell_type": "code",
   "execution_count": 69,
   "metadata": {},
   "outputs": [
    {
     "ename": "ValueError",
     "evalue": "All arrays must be of the same length",
     "output_type": "error",
     "traceback": [
      "\u001b[1;31m---------------------------------------------------------------------------\u001b[0m",
      "\u001b[1;31mValueError\u001b[0m                                Traceback (most recent call last)",
      "\u001b[1;32mf:\\TESIS\\Proyecto_mod_precipitacion\\Codigos de Python\\NoteNook_model_KNN.ipynb Cell 58\u001b[0m in \u001b[0;36m<cell line: 12>\u001b[1;34m()\u001b[0m\n\u001b[0;32m      <a href='vscode-notebook-cell:/f%3A/TESIS/Proyecto_mod_precipitacion/Codigos%20de%20Python/NoteNook_model_KNN.ipynb#Y205sZmlsZQ%3D%3D?line=7'>8</a>\u001b[0m MAE \u001b[39m=\u001b[39m [\u001b[39m9.153\u001b[39m, \u001b[39m12.829\u001b[39m, \u001b[39m11.067\u001b[39m, \u001b[39m9.532\u001b[39m, \u001b[39m9.732\u001b[39m, \u001b[39m11.447\u001b[39m, \u001b[39m15.669\u001b[39m, \u001b[39m16.492\u001b[39m, \u001b[39m20.283\u001b[39m, \u001b[39m18.547\u001b[39m, \u001b[39m12.653\u001b[39m, \u001b[39m10.559\u001b[39m, \u001b[39m9.635\u001b[39m, \u001b[39m11.227\u001b[39m, \u001b[39m9.438\u001b[39m, \u001b[39m10.451\u001b[39m, \u001b[39m9.653\u001b[39m, \u001b[39m12.646\u001b[39m, \u001b[39m9.770\u001b[39m, \u001b[39m10.534\u001b[39m, \u001b[39m12.474\u001b[39m, \u001b[39m10.089\u001b[39m, \u001b[39m9.689\u001b[39m, \u001b[39m10.596\u001b[39m, \u001b[39m8.847\u001b[39m, \u001b[39m9.987\u001b[39m, \u001b[39m10.606\u001b[39m, \u001b[39m10.234\u001b[39m, \u001b[39m10.141\u001b[39m, \u001b[39m9.814\u001b[39m, \u001b[39m10.123\u001b[39m, \u001b[39m14.677\u001b[39m, \u001b[39m16.516\u001b[39m, \u001b[39m10.423\u001b[39m, \u001b[39m14.371\u001b[39m, \u001b[39m9.341\u001b[39m, \u001b[39m11.682\u001b[39m, \u001b[39m9.409\u001b[39m, \u001b[39m10.210\u001b[39m, \u001b[39m9.349\u001b[39m, \u001b[39m9.993\u001b[39m, \u001b[39m10.190\u001b[39m, \u001b[39m18.341\u001b[39m, \u001b[39m11.545\u001b[39m, \u001b[39m13.808\u001b[39m, \u001b[39m18.098\u001b[39m, \u001b[39m12.096\u001b[39m, \u001b[39m14.368\u001b[39m, \u001b[39m12.235\u001b[39m, \u001b[39m11.579\u001b[39m, \u001b[39m9.822\u001b[39m, \u001b[39m10.177\u001b[39m, \u001b[39m8.952\u001b[39m, \u001b[39m8.479\u001b[39m, \u001b[39m10.338\u001b[39m, \u001b[39m9.872\u001b[39m, \u001b[39m7.618\u001b[39m]\n\u001b[0;32m     <a href='vscode-notebook-cell:/f%3A/TESIS/Proyecto_mod_precipitacion/Codigos%20de%20Python/NoteNook_model_KNN.ipynb#Y205sZmlsZQ%3D%3D?line=10'>11</a>\u001b[0m data2 \u001b[39m=\u001b[39m {\u001b[39m'\u001b[39m\u001b[39mids\u001b[39m\u001b[39m'\u001b[39m: ids, \u001b[39m'\u001b[39m\u001b[39mrmse\u001b[39m\u001b[39m'\u001b[39m: rmse, \u001b[39m'\u001b[39m\u001b[39mR2\u001b[39m\u001b[39m'\u001b[39m: R2, \u001b[39m'\u001b[39m\u001b[39mMAE\u001b[39m\u001b[39m'\u001b[39m: MAE}\n\u001b[1;32m---> <a href='vscode-notebook-cell:/f%3A/TESIS/Proyecto_mod_precipitacion/Codigos%20de%20Python/NoteNook_model_KNN.ipynb#Y205sZmlsZQ%3D%3D?line=11'>12</a>\u001b[0m df \u001b[39m=\u001b[39m pd\u001b[39m.\u001b[39;49mDataFrame(data2)\n",
      "File \u001b[1;32mc:\\Users\\ronal\\AppData\\Local\\Programs\\Python\\Python310\\lib\\site-packages\\pandas\\core\\frame.py:636\u001b[0m, in \u001b[0;36mDataFrame.__init__\u001b[1;34m(self, data, index, columns, dtype, copy)\u001b[0m\n\u001b[0;32m    630\u001b[0m     mgr \u001b[39m=\u001b[39m \u001b[39mself\u001b[39m\u001b[39m.\u001b[39m_init_mgr(\n\u001b[0;32m    631\u001b[0m         data, axes\u001b[39m=\u001b[39m{\u001b[39m\"\u001b[39m\u001b[39mindex\u001b[39m\u001b[39m\"\u001b[39m: index, \u001b[39m\"\u001b[39m\u001b[39mcolumns\u001b[39m\u001b[39m\"\u001b[39m: columns}, dtype\u001b[39m=\u001b[39mdtype, copy\u001b[39m=\u001b[39mcopy\n\u001b[0;32m    632\u001b[0m     )\n\u001b[0;32m    634\u001b[0m \u001b[39melif\u001b[39;00m \u001b[39misinstance\u001b[39m(data, \u001b[39mdict\u001b[39m):\n\u001b[0;32m    635\u001b[0m     \u001b[39m# GH#38939 de facto copy defaults to False only in non-dict cases\u001b[39;00m\n\u001b[1;32m--> 636\u001b[0m     mgr \u001b[39m=\u001b[39m dict_to_mgr(data, index, columns, dtype\u001b[39m=\u001b[39;49mdtype, copy\u001b[39m=\u001b[39;49mcopy, typ\u001b[39m=\u001b[39;49mmanager)\n\u001b[0;32m    637\u001b[0m \u001b[39melif\u001b[39;00m \u001b[39misinstance\u001b[39m(data, ma\u001b[39m.\u001b[39mMaskedArray):\n\u001b[0;32m    638\u001b[0m     \u001b[39mimport\u001b[39;00m \u001b[39mnumpy\u001b[39;00m\u001b[39m.\u001b[39;00m\u001b[39mma\u001b[39;00m\u001b[39m.\u001b[39;00m\u001b[39mmrecords\u001b[39;00m \u001b[39mas\u001b[39;00m \u001b[39mmrecords\u001b[39;00m\n",
      "File \u001b[1;32mc:\\Users\\ronal\\AppData\\Local\\Programs\\Python\\Python310\\lib\\site-packages\\pandas\\core\\internals\\construction.py:502\u001b[0m, in \u001b[0;36mdict_to_mgr\u001b[1;34m(data, index, columns, dtype, typ, copy)\u001b[0m\n\u001b[0;32m    494\u001b[0m     arrays \u001b[39m=\u001b[39m [\n\u001b[0;32m    495\u001b[0m         x\n\u001b[0;32m    496\u001b[0m         \u001b[39mif\u001b[39;00m \u001b[39mnot\u001b[39;00m \u001b[39mhasattr\u001b[39m(x, \u001b[39m\"\u001b[39m\u001b[39mdtype\u001b[39m\u001b[39m\"\u001b[39m) \u001b[39mor\u001b[39;00m \u001b[39mnot\u001b[39;00m \u001b[39misinstance\u001b[39m(x\u001b[39m.\u001b[39mdtype, ExtensionDtype)\n\u001b[0;32m    497\u001b[0m         \u001b[39melse\u001b[39;00m x\u001b[39m.\u001b[39mcopy()\n\u001b[0;32m    498\u001b[0m         \u001b[39mfor\u001b[39;00m x \u001b[39min\u001b[39;00m arrays\n\u001b[0;32m    499\u001b[0m     ]\n\u001b[0;32m    500\u001b[0m     \u001b[39m# TODO: can we get rid of the dt64tz special case above?\u001b[39;00m\n\u001b[1;32m--> 502\u001b[0m \u001b[39mreturn\u001b[39;00m arrays_to_mgr(arrays, columns, index, dtype\u001b[39m=\u001b[39;49mdtype, typ\u001b[39m=\u001b[39;49mtyp, consolidate\u001b[39m=\u001b[39;49mcopy)\n",
      "File \u001b[1;32mc:\\Users\\ronal\\AppData\\Local\\Programs\\Python\\Python310\\lib\\site-packages\\pandas\\core\\internals\\construction.py:120\u001b[0m, in \u001b[0;36marrays_to_mgr\u001b[1;34m(arrays, columns, index, dtype, verify_integrity, typ, consolidate)\u001b[0m\n\u001b[0;32m    117\u001b[0m \u001b[39mif\u001b[39;00m verify_integrity:\n\u001b[0;32m    118\u001b[0m     \u001b[39m# figure out the index, if necessary\u001b[39;00m\n\u001b[0;32m    119\u001b[0m     \u001b[39mif\u001b[39;00m index \u001b[39mis\u001b[39;00m \u001b[39mNone\u001b[39;00m:\n\u001b[1;32m--> 120\u001b[0m         index \u001b[39m=\u001b[39m _extract_index(arrays)\n\u001b[0;32m    121\u001b[0m     \u001b[39melse\u001b[39;00m:\n\u001b[0;32m    122\u001b[0m         index \u001b[39m=\u001b[39m ensure_index(index)\n",
      "File \u001b[1;32mc:\\Users\\ronal\\AppData\\Local\\Programs\\Python\\Python310\\lib\\site-packages\\pandas\\core\\internals\\construction.py:674\u001b[0m, in \u001b[0;36m_extract_index\u001b[1;34m(data)\u001b[0m\n\u001b[0;32m    672\u001b[0m lengths \u001b[39m=\u001b[39m \u001b[39mlist\u001b[39m(\u001b[39mset\u001b[39m(raw_lengths))\n\u001b[0;32m    673\u001b[0m \u001b[39mif\u001b[39;00m \u001b[39mlen\u001b[39m(lengths) \u001b[39m>\u001b[39m \u001b[39m1\u001b[39m:\n\u001b[1;32m--> 674\u001b[0m     \u001b[39mraise\u001b[39;00m \u001b[39mValueError\u001b[39;00m(\u001b[39m\"\u001b[39m\u001b[39mAll arrays must be of the same length\u001b[39m\u001b[39m\"\u001b[39m)\n\u001b[0;32m    676\u001b[0m \u001b[39mif\u001b[39;00m have_dicts:\n\u001b[0;32m    677\u001b[0m     \u001b[39mraise\u001b[39;00m \u001b[39mValueError\u001b[39;00m(\n\u001b[0;32m    678\u001b[0m         \u001b[39m\"\u001b[39m\u001b[39mMixing dicts with non-Series may lead to ambiguous ordering.\u001b[39m\u001b[39m\"\u001b[39m\n\u001b[0;32m    679\u001b[0m     )\n",
      "\u001b[1;31mValueError\u001b[0m: All arrays must be of the same length"
     ]
    }
   ],
   "source": [
    "import pandas as pd\n",
    "ids = [32010010, 32020020, 32030020, 32035010, 32035020, 32060020, 32060030, 32060060, 32060090, 32060100, 32065010, 32070010, 32070020, 32070030, 32070040, 32070060, 32070080, 32070090, 32070100, 32070110, 32070120, 32075030, 32075040, 32075050, 32075060, 32075080, 32080010, 32090010, 32120010, 33035010, 35010010, 35010020, 35010040, 35010060, 35010070, 35010080, 35010090, 35010150, 35010230, 35015050, 35020060, 35025020, 35030020, 35030050, 35030370, 35030380, 35035010, 35035020, 35035070, 35045020, 35100020, 35105050, 35120010, 35125010, 35130010, 35180030, 35185010]\n",
    "\n",
    "# Vector con los valores de RMSE\n",
    "rmse = [14.153, 19.156, 16.335, 14.936, 14.923, 17.453, 22.519, 23.731, 29.031, 26.283, 19.285, 17.195, 14.949, 16.251, 13.335, 15.976, 14.516, 18.775, 14.860, 16.732, 17.569, 15.911, 14.804, 15.802, 13.189, 15.883, 16.292, 14.741, 14.810, 15.882, 17.115, 20.474, 23.985, 17.156, 20.805, 14.840, 18.824, 14.455, 15.459, 15.080, 16.055, 15.438, 25.852, 20.388, 20.430, 26.506, 20.573, 20.344, 17.260, 17.723, 16.046, 17.500, 15.202, 12.873, 15.972, 15.185, 11.813]\n",
    "R2 = [-0.000, -0.001, -0.000, -0.000, -0.001, -0.000, -0.000, -0.002, -0.004, -0.000, -0.000, -0.000, -0.007, -0.001, -0.000, -0.003, -0.000, -0.000, -0.001, -0.000, -0.000, -0.000, -0.000, -0.000, -0.001, -0.000, -0.000, -0.001, -0.000, -0.002, -0.000, -0.000, -0.000, -0.000, -0.000, -0.000, -0.000, -0.001, -0.002, -0.000, -0.000, -0.000, -0.000, -0.000, -0.000, -0.000, -0.000, -0.000, -0.000, -0.000, -0.000, -0.000, -0.001, -0.000, -0.002, -0.000, -0.000, -0.000, -0.000, -0.006, -0.003, -0.000, -0.000, -0.000, -0.000, -0.000, -0.000, -0.002, -0.000, -0.000, -0.000, -0.000, -0.006, -0.003]\n",
    "\n",
    "MAE = [9.153, 12.829, 11.067, 9.532, 9.732, 11.447, 15.669, 16.492, 20.283, 18.547, 12.653, 10.559, 9.635, 11.227, 9.438, 10.451, 9.653, 12.646, 9.770, 10.534, 12.474, 10.089, 9.689, 10.596, 8.847, 9.987, 10.606, 10.234, 10.141, 9.814, 10.123, 14.677, 16.516, 10.423, 14.371, 9.341, 11.682, 9.409, 10.210, 9.349, 9.993, 10.190, 18.341, 11.545, 13.808, 18.098, 12.096, 14.368, 12.235, 11.579, 9.822, 10.177, 8.952, 8.479, 10.338, 9.872, 7.618]\n",
    "\n",
    "\n",
    "data2 = {'ids': ids, 'rmse': rmse, 'R2': R2, 'MAE': MAE}\n",
    "df = pd.DataFrame(data2)"
   ]
  },
  {
   "cell_type": "code",
   "execution_count": 66,
   "metadata": {},
   "outputs": [
    {
     "name": "stdout",
     "output_type": "stream",
     "text": [
      "<class 'pandas.core.frame.DataFrame'>\n",
      "Index: 0 entries\n",
      "Data columns (total 4 columns):\n",
      " #   Column          Non-Null Count  Dtype \n",
      "---  ------          --------------  ----- \n",
      " 0   ID de estación  0 non-null      object\n",
      " 1   RMSE            0 non-null      object\n",
      " 2   R2              0 non-null      object\n",
      " 3   MAE             0 non-null      object\n",
      "dtypes: object(4)\n",
      "memory usage: 0.0+ bytes\n"
     ]
    }
   ],
   "source": [
    "evaluation_results_df = pd.DataFrame(columns=['ID de estación', 'RMSE', 'R2', 'MAE'])\n",
    "\n",
    "\n",
    "evaluation_results_df.info()"
   ]
  },
  {
   "cell_type": "code",
   "execution_count": 65,
   "metadata": {},
   "outputs": [
    {
     "ename": "IndentationError",
     "evalue": "expected an indented block after 'for' statement on line 1 (2594399700.py, line 2)",
     "output_type": "error",
     "traceback": [
      "\u001b[1;36m  Input \u001b[1;32mIn [65]\u001b[1;36m\u001b[0m\n\u001b[1;33m    if performance['RMSE'] is not None:\u001b[0m\n\u001b[1;37m    ^\u001b[0m\n\u001b[1;31mIndentationError\u001b[0m\u001b[1;31m:\u001b[0m expected an indented block after 'for' statement on line 1\n"
     ]
    }
   ],
   "source": [
    "for station_id, performance in evaluation_results.items():\n",
    "if performance['RMSE'] is not None:\n",
    "evaluation_results_df = evaluation_results_df.append({\n",
    "'Station ID': station_id,\n",
    "'RMSE': performance['RMSE'],\n",
    "'R2': performance['R2'],\n",
    "'MAE': performance['MAE']\n",
    "}, ignore_index=True)"
   ]
  },
  {
   "attachments": {},
   "cell_type": "markdown",
   "metadata": {},
   "source": [
    "## Bibliografia \n",
    "\n",
    "Little, R. J. A., & Rubin, D. B. (2002). Statistical Analysis with Missing Data (Vol. 333). John Wiley & Sons."
   ]
  },
  {
   "cell_type": "markdown",
   "metadata": {},
   "source": [
    "### Correlacion espacial"
   ]
  },
  {
   "cell_type": "markdown",
   "metadata": {},
   "source": []
  },
  {
   "cell_type": "code",
   "execution_count": 3,
   "metadata": {},
   "outputs": [
    {
     "name": "stdout",
     "output_type": "stream",
     "text": [
      "Collecting pysal\n",
      "  Downloading pysal-23.7-py3-none-any.whl (17 kB)\n",
      "Collecting spreg>=1.2.4\n",
      "  Downloading spreg-1.4.1-py3-none-any.whl (331 kB)\n",
      "     -------------------------------------- 331.8/331.8 KB 1.4 MB/s eta 0:00:00\n",
      "Collecting momepy>=0.5.3\n",
      "  Downloading momepy-0.6.0-py3-none-any.whl (275 kB)\n",
      "     -------------------------------------- 275.7/275.7 KB 2.1 MB/s eta 0:00:00\n",
      "Collecting inequality>=1.0.0\n",
      "  Downloading inequality-1.0.0.tar.gz (11 kB)\n",
      "  Preparing metadata (setup.py): started\n",
      "  Preparing metadata (setup.py): finished with status 'done'\n",
      "Collecting spaghetti>=1.6.6\n",
      "  Downloading spaghetti-1.7.4-py3-none-any.whl (50 kB)\n",
      "     ---------------------------------------- 50.1/50.1 KB 2.5 MB/s eta 0:00:00\n",
      "Collecting spglm>=1.0.8\n",
      "  Downloading spglm-1.0.8.tar.gz (37 kB)\n",
      "  Preparing metadata (setup.py): started\n",
      "  Preparing metadata (setup.py): finished with status 'done'\n",
      "Collecting mgwr>=2.1.2\n",
      "  Downloading mgwr-2.1.2.tar.gz (41 kB)\n",
      "     ---------------------------------------- 41.8/41.8 KB 2.1 MB/s eta 0:00:00\n",
      "  Preparing metadata (setup.py): started\n",
      "  Preparing metadata (setup.py): finished with status 'done'\n",
      "Collecting segregation>=2.3.1\n",
      "  Downloading segregation-2.5-py3-none-any.whl (141 kB)\n",
      "     -------------------------------------- 141.3/141.3 KB 8.2 MB/s eta 0:00:00\n",
      "Collecting spvcm>=0.3.0\n",
      "  Downloading spvcm-0.3.0.tar.gz (5.7 MB)\n",
      "     ---------------------------------------- 5.7/5.7 MB 11.8 MB/s eta 0:00:00\n",
      "  Preparing metadata (setup.py): started\n",
      "  Preparing metadata (setup.py): finished with status 'done'\n",
      "Collecting pointpats>=2.2.0\n",
      "  Downloading pointpats-2.4.0-py3-none-any.whl (58 kB)\n",
      "     ---------------------------------------- 58.4/58.4 KB ? eta 0:00:00\n",
      "Collecting mapclassify>=2.4.3\n",
      "  Downloading mapclassify-2.6.1-py3-none-any.whl (38 kB)\n",
      "Collecting giddy>=2.3.3\n",
      "  Downloading giddy-2.3.4-py3-none-any.whl (61 kB)\n",
      "     ---------------------------------------- 61.1/61.1 KB 3.4 MB/s eta 0:00:00\n",
      "Collecting libpysal>=4.6.2\n",
      "  Downloading libpysal-4.8.0-py3-none-any.whl (2.8 MB)\n",
      "     ---------------------------------------- 2.8/2.8 MB 29.5 MB/s eta 0:00:00\n",
      "Collecting esda>=2.4.1\n",
      "  Downloading esda-2.5.0-py3-none-any.whl (132 kB)\n",
      "     ---------------------------------------- 132.4/132.4 KB ? eta 0:00:00\n",
      "Collecting splot>=1.1.5.post1\n",
      "  Downloading splot-1.1.5.post1-py3-none-any.whl (39 kB)\n",
      "Collecting tobler>=0.8.2\n",
      "  Downloading tobler-0.11.2-py3-none-any.whl (34 kB)\n",
      "Collecting spint>=1.0.7\n",
      "  Downloading spint-1.0.7.tar.gz (28 kB)\n",
      "  Preparing metadata (setup.py): started\n",
      "  Preparing metadata (setup.py): finished with status 'done'\n",
      "Collecting spopt>=0.4.1\n",
      "  Downloading spopt-0.5.0-py3-none-any.whl (112 kB)\n",
      "     ---------------------------------------- 112.9/112.9 KB ? eta 0:00:00\n",
      "Collecting access>=1.1.8\n",
      "  Downloading access-1.1.9-py3-none-any.whl (21 kB)\n",
      "Requirement already satisfied: pandas>=0.23.4 in c:\\users\\ronal\\appdata\\local\\programs\\python\\python310\\lib\\site-packages (from access>=1.1.8->pysal) (1.4.2)\n",
      "Requirement already satisfied: geopandas in c:\\users\\ronal\\appdata\\local\\programs\\python\\python310\\lib\\site-packages (from access>=1.1.8->pysal) (0.9.0)\n",
      "Requirement already satisfied: numpy>=1.3 in c:\\users\\ronal\\appdata\\local\\programs\\python\\python310\\lib\\site-packages (from access>=1.1.8->pysal) (1.22.3)\n",
      "Requirement already satisfied: requests>=2 in c:\\users\\ronal\\appdata\\local\\programs\\python\\python310\\lib\\site-packages (from access>=1.1.8->pysal) (2.27.1)\n",
      "Collecting scipy>=1.9\n",
      "  Downloading scipy-1.11.3-cp310-cp310-win_amd64.whl (44.1 MB)\n",
      "     --------------------------------------- 44.1/44.1 MB 46.9 MB/s eta 0:00:00\n",
      "Requirement already satisfied: scikit-learn>=1.0 in c:\\users\\ronal\\appdata\\local\\programs\\python\\python310\\lib\\site-packages (from esda>=2.4.1->pysal) (1.0.2)\n",
      "Collecting quantecon>=0.4.7\n",
      "  Downloading quantecon-0.7.1-py3-none-any.whl (214 kB)\n",
      "     ---------------------------------------- 214.8/214.8 KB ? eta 0:00:00\n",
      "Requirement already satisfied: packaging in c:\\users\\ronal\\appdata\\local\\programs\\python\\python310\\lib\\site-packages (from libpysal>=4.6.2->pysal) (21.3)\n",
      "Requirement already satisfied: beautifulsoup4>=4.10 in c:\\users\\ronal\\appdata\\local\\programs\\python\\python310\\lib\\site-packages (from libpysal>=4.6.2->pysal) (4.11.1)\n",
      "Requirement already satisfied: shapely>=2 in c:\\users\\ronal\\appdata\\local\\programs\\python\\python310\\lib\\site-packages (from libpysal>=4.6.2->pysal) (2.0.1)\n",
      "Collecting platformdirs>=2.0.2\n",
      "  Downloading platformdirs-3.11.0-py3-none-any.whl (17 kB)\n",
      "Requirement already satisfied: networkx>=2.7 in c:\\users\\ronal\\appdata\\local\\programs\\python\\python310\\lib\\site-packages (from mapclassify>=2.4.3->pysal) (3.1)\n",
      "Collecting numpy>=1.3\n",
      "  Downloading numpy-1.26.1-cp310-cp310-win_amd64.whl (15.8 MB)\n",
      "     --------------------------------------- 15.8/15.8 MB 59.5 MB/s eta 0:00:00\n",
      "Collecting tqdm>=4.27.0\n",
      "  Downloading tqdm-4.66.1-py3-none-any.whl (78 kB)\n",
      "     ---------------------------------------- 78.3/78.3 KB 4.3 MB/s eta 0:00:00\n",
      "Requirement already satisfied: matplotlib in c:\\users\\ronal\\appdata\\local\\programs\\python\\python310\\lib\\site-packages (from pointpats>=2.2.0->pysal) (3.5.2)\n",
      "Requirement already satisfied: joblib in c:\\users\\ronal\\appdata\\local\\programs\\python\\python310\\lib\\site-packages (from segregation>=2.3.1->pysal) (1.1.0)\n",
      "Requirement already satisfied: seaborn in c:\\users\\ronal\\appdata\\local\\programs\\python\\python310\\lib\\site-packages (from segregation>=2.3.1->pysal) (0.11.2)\n",
      "Requirement already satisfied: pyproj>=3 in c:\\users\\ronal\\appdata\\local\\programs\\python\\python310\\lib\\site-packages (from segregation>=2.3.1->pysal) (3.4.1)\n",
      "Collecting numba\n",
      "  Downloading numba-0.58.1-cp310-cp310-win_amd64.whl (2.6 MB)\n",
      "     ---------------------------------------- 2.6/2.6 MB 81.1 MB/s eta 0:00:00\n",
      "Collecting deprecation\n",
      "  Downloading deprecation-2.1.0-py2.py3-none-any.whl (11 kB)\n",
      "Collecting rtree\n",
      "  Downloading Rtree-1.1.0-py3-none-win_amd64.whl (435 kB)\n",
      "     ------------------------------------- 435.7/435.7 KB 28.4 MB/s eta 0:00:00\n",
      "Collecting geopandas\n",
      "  Using cached geopandas-0.14.0-py3-none-any.whl (1.1 MB)\n",
      "Collecting pulp\n",
      "  Downloading PuLP-2.7.0-py3-none-any.whl (14.3 MB)\n",
      "     --------------------------------------- 14.3/14.3 MB 81.9 MB/s eta 0:00:00\n",
      "Collecting rasterio\n",
      "  Downloading rasterio-1.3.8.post2-cp310-cp310-win_amd64.whl (23.4 MB)\n",
      "     --------------------------------------- 23.4/23.4 MB 65.2 MB/s eta 0:00:00\n",
      "Collecting rasterstats\n",
      "  Downloading rasterstats-0.19.0-py3-none-any.whl (16 kB)\n",
      "Requirement already satisfied: statsmodels in c:\\users\\ronal\\appdata\\local\\programs\\python\\python310\\lib\\site-packages (from tobler>=0.8.2->pysal) (0.13.5)\n",
      "Requirement already satisfied: soupsieve>1.2 in c:\\users\\ronal\\appdata\\local\\programs\\python\\python310\\lib\\site-packages (from beautifulsoup4>=4.10->libpysal>=4.6.2->pysal) (2.3.2.post1)\n",
      "Requirement already satisfied: fiona>=1.8.21 in c:\\users\\ronal\\appdata\\local\\programs\\python\\python310\\lib\\site-packages (from geopandas->access>=1.1.8->pysal) (1.9.4.post1)\n",
      "Requirement already satisfied: pytz>=2020.1 in c:\\users\\ronal\\appdata\\local\\programs\\python\\python310\\lib\\site-packages (from pandas>=0.23.4->access>=1.1.8->pysal) (2022.7.1)\n",
      "Requirement already satisfied: python-dateutil>=2.8.1 in c:\\users\\ronal\\appdata\\local\\programs\\python\\python310\\lib\\site-packages (from pandas>=0.23.4->access>=1.1.8->pysal) (2.8.2)\n",
      "Requirement already satisfied: certifi in c:\\users\\ronal\\appdata\\local\\programs\\python\\python310\\lib\\site-packages (from pyproj>=3->segregation>=2.3.1->pysal) (2021.10.8)\n",
      "Collecting sympy\n",
      "  Downloading sympy-1.12-py3-none-any.whl (5.7 MB)\n",
      "     ---------------------------------------- 5.7/5.7 MB 91.0 MB/s eta 0:00:00\n",
      "Collecting llvmlite<0.42,>=0.41.0dev0\n",
      "  Downloading llvmlite-0.41.1-cp310-cp310-win_amd64.whl (28.1 MB)\n",
      "     --------------------------------------- 28.1/28.1 MB 65.6 MB/s eta 0:00:00\n",
      "Requirement already satisfied: urllib3<1.27,>=1.21.1 in c:\\users\\ronal\\appdata\\local\\programs\\python\\python310\\lib\\site-packages (from requests>=2->access>=1.1.8->pysal) (1.26.9)\n",
      "Requirement already satisfied: idna<4,>=2.5 in c:\\users\\ronal\\appdata\\local\\programs\\python\\python310\\lib\\site-packages (from requests>=2->access>=1.1.8->pysal) (3.3)\n",
      "Requirement already satisfied: charset-normalizer~=2.0.0 in c:\\users\\ronal\\appdata\\local\\programs\\python\\python310\\lib\\site-packages (from requests>=2->access>=1.1.8->pysal) (2.0.12)\n",
      "Requirement already satisfied: threadpoolctl>=2.0.0 in c:\\users\\ronal\\appdata\\local\\programs\\python\\python310\\lib\\site-packages (from scikit-learn>=1.0->esda>=2.4.1->pysal) (3.1.0)\n",
      "Requirement already satisfied: colorama in c:\\users\\ronal\\appdata\\local\\programs\\python\\python310\\lib\\site-packages (from tqdm>=4.27.0->momepy>=0.5.3->pysal) (0.4.4)\n",
      "Requirement already satisfied: cycler>=0.10 in c:\\users\\ronal\\appdata\\local\\programs\\python\\python310\\lib\\site-packages (from matplotlib->pointpats>=2.2.0->pysal) (0.11.0)\n",
      "Requirement already satisfied: fonttools>=4.22.0 in c:\\users\\ronal\\appdata\\local\\programs\\python\\python310\\lib\\site-packages (from matplotlib->pointpats>=2.2.0->pysal) (4.33.3)\n",
      "Requirement already satisfied: kiwisolver>=1.0.1 in c:\\users\\ronal\\appdata\\local\\programs\\python\\python310\\lib\\site-packages (from matplotlib->pointpats>=2.2.0->pysal) (1.4.2)\n",
      "Requirement already satisfied: pillow>=6.2.0 in c:\\users\\ronal\\appdata\\local\\programs\\python\\python310\\lib\\site-packages (from matplotlib->pointpats>=2.2.0->pysal) (9.1.0)\n",
      "Requirement already satisfied: pyparsing>=2.2.1 in c:\\users\\ronal\\appdata\\local\\programs\\python\\python310\\lib\\site-packages (from matplotlib->pointpats>=2.2.0->pysal) (3.0.8)\n",
      "Requirement already satisfied: click>=4.0 in c:\\users\\ronal\\appdata\\local\\programs\\python\\python310\\lib\\site-packages (from rasterio->tobler>=0.8.2->pysal) (8.1.3)\n",
      "Requirement already satisfied: setuptools in c:\\users\\ronal\\appdata\\local\\programs\\python\\python310\\lib\\site-packages (from rasterio->tobler>=0.8.2->pysal) (58.1.0)\n",
      "Requirement already satisfied: cligj>=0.5 in c:\\users\\ronal\\appdata\\local\\programs\\python\\python310\\lib\\site-packages (from rasterio->tobler>=0.8.2->pysal) (0.7.2)\n",
      "Collecting snuggs>=1.4.1\n",
      "  Downloading snuggs-1.4.7-py3-none-any.whl (5.4 kB)\n",
      "Requirement already satisfied: click-plugins in c:\\users\\ronal\\appdata\\local\\programs\\python\\python310\\lib\\site-packages (from rasterio->tobler>=0.8.2->pysal) (1.1.1)\n",
      "Requirement already satisfied: attrs in c:\\users\\ronal\\appdata\\local\\programs\\python\\python310\\lib\\site-packages (from rasterio->tobler>=0.8.2->pysal) (22.2.0)\n",
      "Collecting affine\n",
      "  Downloading affine-2.4.0-py3-none-any.whl (15 kB)\n",
      "Collecting simplejson\n",
      "  Downloading simplejson-3.19.2-cp310-cp310-win_amd64.whl (75 kB)\n",
      "     ---------------------------------------- 75.5/75.5 KB ? eta 0:00:00\n",
      "Requirement already satisfied: patsy>=0.5.2 in c:\\users\\ronal\\appdata\\local\\programs\\python\\python310\\lib\\site-packages (from statsmodels->tobler>=0.8.2->pysal) (0.5.3)\n",
      "Requirement already satisfied: six in c:\\users\\ronal\\appdata\\local\\programs\\python\\python310\\lib\\site-packages (from fiona>=1.8.21->geopandas->access>=1.1.8->pysal) (1.16.0)\n",
      "Collecting mpmath>=0.19\n",
      "  Downloading mpmath-1.3.0-py3-none-any.whl (536 kB)\n",
      "     -------------------------------------- 536.2/536.2 KB 3.7 MB/s eta 0:00:00\n",
      "Building wheels for collected packages: inequality, mgwr, spglm, spint, spvcm\n",
      "  Building wheel for inequality (setup.py): started\n",
      "  Building wheel for inequality (setup.py): finished with status 'done'\n",
      "  Created wheel for inequality: filename=inequality-1.0.0-py3-none-any.whl size=11800 sha256=ac401ff8724d86338d08965fc357f29fac0fd687b358306583a837f68d692e8d\n",
      "  Stored in directory: c:\\users\\ronal\\appdata\\local\\pip\\cache\\wheels\\52\\f7\\af\\eb988b28568f650a2329b2b3e954019a1c3ceb084dae385b51\n",
      "  Building wheel for mgwr (setup.py): started\n",
      "  Building wheel for mgwr (setup.py): finished with status 'done'\n",
      "  Created wheel for mgwr: filename=mgwr-2.1.2-py3-none-any.whl size=46386 sha256=4f698bed8ebc2f7b6e7c28fa579240b00d2ec608d58a6eca9a586034475eba9b\n",
      "  Stored in directory: c:\\users\\ronal\\appdata\\local\\pip\\cache\\wheels\\4d\\43\\6e\\bd2d0e1ccee77089e0b266ebc4948d9a90ef363e0be23663aa\n",
      "  Building wheel for spglm (setup.py): started\n",
      "  Building wheel for spglm (setup.py): finished with status 'done'\n",
      "  Created wheel for spglm: filename=spglm-1.0.8-py3-none-any.whl size=38806 sha256=00482615b30a9f0fc177a04c2bfd5aff885552161f981a67240b4bacf31eed83\n",
      "  Stored in directory: c:\\users\\ronal\\appdata\\local\\pip\\cache\\wheels\\a2\\a7\\67\\07d6d6809173d768c16235f813520d6a4053984a160aa933fa\n",
      "  Building wheel for spint (setup.py): started\n",
      "  Building wheel for spint (setup.py): finished with status 'done'\n",
      "  Created wheel for spint: filename=spint-1.0.7-py3-none-any.whl size=31383 sha256=31422c04f355f802fc200f6b5add0c90473bbcd8a2815fb78de8bec5aa17ac58\n",
      "  Stored in directory: c:\\users\\ronal\\appdata\\local\\pip\\cache\\wheels\\f6\\1d\\ab\\81b0c9d17a778a97ec078147cb11901afdab420c4894dcfbc5\n",
      "  Building wheel for spvcm (setup.py): started\n",
      "  Building wheel for spvcm (setup.py): finished with status 'done'\n",
      "  Created wheel for spvcm: filename=spvcm-0.3.0-py3-none-any.whl size=5777202 sha256=e24c098f983314e83e221cbfaaea2155e800b4e8029e6a98a3fb8eb2b815d36f\n",
      "  Stored in directory: c:\\users\\ronal\\appdata\\local\\pip\\cache\\wheels\\1c\\58\\6f\\debcb62c0a142a6615a65f23217209b543b478d309edfa4e2b\n",
      "Successfully built inequality mgwr spglm spint spvcm\n",
      "Installing collected packages: pulp, mpmath, tqdm, sympy, simplejson, rtree, platformdirs, numpy, llvmlite, affine, snuggs, scipy, numba, deprecation, rasterio, quantecon, inequality, rasterstats, mapclassify, geopandas, libpysal, access, tobler, spreg, segregation, pointpats, momepy, esda, spvcm, spglm, spaghetti, giddy, spopt, splot, spint, mgwr, pysal\n",
      "  Attempting uninstall: numpy\n",
      "    Found existing installation: numpy 1.22.3\n",
      "    Uninstalling numpy-1.22.3:\n",
      "      Successfully uninstalled numpy-1.22.3\n",
      "  Attempting uninstall: scipy\n",
      "    Found existing installation: scipy 1.8.0\n",
      "    Uninstalling scipy-1.8.0:\n",
      "      Successfully uninstalled scipy-1.8.0\n",
      "  Attempting uninstall: geopandas\n",
      "    Found existing installation: geopandas 0.9.0\n",
      "    Uninstalling geopandas-0.9.0:\n",
      "      Successfully uninstalled geopandas-0.9.0\n",
      "Successfully installed access-1.1.9 affine-2.4.0 deprecation-2.1.0 esda-2.5.0 geopandas-0.14.0 giddy-2.3.4 inequality-1.0.0 libpysal-4.8.0 llvmlite-0.41.1 mapclassify-2.6.1 mgwr-2.1.2 momepy-0.6.0 mpmath-1.3.0 numba-0.58.1 numpy-1.26.1 platformdirs-3.11.0 pointpats-2.4.0 pulp-2.7.0 pysal-23.7 quantecon-0.7.1 rasterio-1.3.8.post2 rasterstats-0.19.0 rtree-1.1.0 scipy-1.11.3 segregation-2.5 simplejson-3.19.2 snuggs-1.4.7 spaghetti-1.7.4 spglm-1.0.8 spint-1.0.7 splot-1.1.5.post1 spopt-0.5.0 spreg-1.4.1 spvcm-0.3.0 sympy-1.12 tobler-0.11.2 tqdm-4.66.1\n",
      "Note: you may need to restart the kernel to use updated packages.\n"
     ]
    },
    {
     "name": "stderr",
     "output_type": "stream",
     "text": [
      "WARNING: You are using pip version 22.0.4; however, version 23.2.1 is available.\n",
      "You should consider upgrading via the 'c:\\Users\\ronal\\AppData\\Local\\Programs\\Python\\Python310\\python.exe -m pip install --upgrade pip' command.\n"
     ]
    }
   ],
   "source": [
    "pip install pysal"
   ]
  },
  {
   "cell_type": "code",
   "execution_count": 1,
   "metadata": {},
   "outputs": [
    {
     "ename": "ModuleNotFoundError",
     "evalue": "No module named 'pysal'",
     "output_type": "error",
     "traceback": [
      "\u001b[1;31m---------------------------------------------------------------------------\u001b[0m",
      "\u001b[1;31mModuleNotFoundError\u001b[0m                       Traceback (most recent call last)",
      "\u001b[1;32mf:\\TESIS\\Proyecto_mod_precipitacion\\Codigos de Python\\NoteNook_model_KNN.ipynb Cell 99\u001b[0m line \u001b[0;36m<cell line: 1>\u001b[1;34m()\u001b[0m\n\u001b[1;32m----> <a href='vscode-notebook-cell:/f%3A/TESIS/Proyecto_mod_precipitacion/Codigos%20de%20Python/NoteNook_model_KNN.ipynb#Y200sZmlsZQ%3D%3D?line=0'>1</a>\u001b[0m \u001b[39mimport\u001b[39;00m \u001b[39mpysal\u001b[39;00m \u001b[39mas\u001b[39;00m \u001b[39mps\u001b[39;00m\n\u001b[0;32m      <a href='vscode-notebook-cell:/f%3A/TESIS/Proyecto_mod_precipitacion/Codigos%20de%20Python/NoteNook_model_KNN.ipynb#Y200sZmlsZQ%3D%3D?line=1'>2</a>\u001b[0m \u001b[39mimport\u001b[39;00m \u001b[39mgeopandas\u001b[39;00m \u001b[39mas\u001b[39;00m \u001b[39mgpd\u001b[39;00m\n\u001b[0;32m      <a href='vscode-notebook-cell:/f%3A/TESIS/Proyecto_mod_precipitacion/Codigos%20de%20Python/NoteNook_model_KNN.ipynb#Y200sZmlsZQ%3D%3D?line=3'>4</a>\u001b[0m \u001b[39m# Cargar datos espaciales (por ejemplo, un archivo shapefile)\u001b[39;00m\n",
      "\u001b[1;31mModuleNotFoundError\u001b[0m: No module named 'pysal'"
     ]
    }
   ],
   "source": [
    "import pysal as ps\n",
    "import geopandas as gpd\n",
    "\n",
    "# Cargar datos espaciales (por ejemplo, un archivo shapefile)\n",
    "gdf = gpd.read_file('path_to_shapefile.shp')\n",
    "# Matriz de pesos espaciales\n",
    "w = ps.lib.weights.Queen.from_dataframe(gdf)\n",
    "# Variable a analizar\n",
    "y = gdf['column_name'].values\n",
    "# Calculo de Moran's I\n",
    "mi = ps.explore.esda.Moran(y, w)\n",
    "print(mi.I, mi.p_sim)\n"
   ]
  },
  {
   "cell_type": "code",
   "execution_count": null,
   "metadata": {},
   "outputs": [],
   "source": [
    "from pysal.explore.esda import Moran_Local\n",
    "\n",
    "# Calculo de LISA\n",
    "lisa = Moran_Local(y, w)\n",
    "# Visualización\n",
    "import matplotlib.pyplot as plt\n",
    "gdf['lisa_cluster'] = lisa.Is\n",
    "gdf.plot(column='lisa_cluster')\n",
    "plt.show()\n"
   ]
  }
 ],
 "metadata": {
  "kernelspec": {
   "display_name": "Python 3",
   "language": "python",
   "name": "python3"
  },
  "language_info": {
   "codemirror_mode": {
    "name": "ipython",
    "version": 3
   },
   "file_extension": ".py",
   "mimetype": "text/x-python",
   "name": "python",
   "nbconvert_exporter": "python",
   "pygments_lexer": "ipython3",
   "version": "3.10.4"
  },
  "orig_nbformat": 4
 },
 "nbformat": 4,
 "nbformat_minor": 2
}
