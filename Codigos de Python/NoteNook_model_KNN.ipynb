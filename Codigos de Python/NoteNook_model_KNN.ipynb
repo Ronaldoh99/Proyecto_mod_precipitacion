{
 "cells": [
  {
   "attachments": {},
   "cell_type": "markdown",
   "metadata": {},
   "source": [
    "# Imputacion de Datos Faltantes para la Precipitacion del Meta mediante modelacion KNN"
   ]
  },
  {
   "attachments": {},
   "cell_type": "markdown",
   "metadata": {},
   "source": [
    "Este Jupyter Notebook se enfoca en el desarrolo metodologico del trabajo de grado de los estudiantes Ronaldo Hernandez Mejia y Hector Freddy Velasco, en el cual se enfoca en la imputaciopn de datos faltnates para la variable de precipitacion en el departamento del Meta, Colombia. Con una gran volumen de datos de la informacion diaria de la precipitacion desde 1980 hasta el 2016, seleccionando un total de 56 Estaciones meteorologias del IDEAM.\n",
    "\n",
    "La región del Meta es muy importante en este país por la diversidad del clima y su efecto sobre la agricultura y otros sectores económicos. La variabilidad de las precipitaciones juega un papel importante en el análisis del clima y la toma de decisiones relacionadas con  la gestión del agua y el clima. \n",
    "\n",
    "El objetivo principal es desarrolar un modelo basado en el algotimo K-Nearest Neighbors(KNN) para imputar los datos faltantes de precipitacion, utilizando un conjunto de datos que contiene mas de 700.000 observaciones. \n",
    "\n",
    "Dada la gran cantidad de datos se ha implementado una version que utiliza los cores del procesador para ejecutar el modelo en paralelo optimizando asi el tiempo de ejecucion, mejorando la eficiencia computacional y acelerar el proceso, tambien por este motivo el desarrolo en python tiene tiempos de respuesta cortos en el manejo de datos.\n",
    "\n"
   ]
  },
  {
   "attachments": {},
   "cell_type": "markdown",
   "metadata": {},
   "source": [
    "### instalacion de librerias"
   ]
  },
  {
   "cell_type": "markdown",
   "metadata": {},
   "source": [
    "#### **Pandas:**\n",
    "\n",
    "pandas es una biblioteca esencial de Python para la manipulación y el análisis de datos. Ofrece estructuras de datos como DataFrames y Series que simplifican la gestión de datos tabulares y temporales, respectivamente.\n",
    "\n",
    "#### **IPython:**\n",
    "\n",
    "Es un shell interactivo que añade funcionalidades extra al modo estándar de Python, como resaltado de líneas y errores mediante colores, una sintaxis adicional y un sistema de \"mágias\".\n",
    "\n",
    "\n",
    "#### **Pandasgui:**\n",
    "\n",
    "Es una interfaz gráfica de usuario (GUI) para visualizar DataFrames de pandas. Permite un análisis exploratorio de datos de manera intuitiva y visual.\n",
    "\n",
    "#### **NumPy:**\n",
    "\n",
    "Es la biblioteca fundamental para la computación científica en Python. Proporciona estructuras de datos de alto rendimiento, como arrays, y herramientas para trabajar con ellos.\n",
    "\n",
    "#### **Matplotlib:**\n",
    "\n",
    "Es una biblioteca de visualización en Python, que proporciona una plataforma robusta para representar gráficos y figuras en diversos formatos y ambientes.\n",
    "\n",
    "#### **Joblib:**\n",
    "\n",
    "Es una herramienta para proporcionar serialización ligera en Python. Es especialmente útil para objetos que incluyen grandes arrays de datos, como modelos de machine learning entrenados con scikit-learn\n",
    "\n",
    "#### **scikit-learn**\n",
    "scikit-learn es una de las bibliotecas más utilizadas en Python para aprendizaje automático. Ofrece herramientas simples y eficientes para análisis de datos y modelado estadístico.\n",
    "\n",
    "\n",
    "## 2.1 Importing the libraries and dataset:"
   ]
  },
  {
   "cell_type": "code",
   "execution_count": 1,
   "metadata": {},
   "outputs": [],
   "source": [
    "import subprocess\n",
    "import sys\n",
    "import importlib\n",
    "\n",
    "def install_and_import(package):\n",
    "    try:\n",
    "        importlib.import_module(package)\n",
    "    except ImportError:\n",
    "        subprocess.check_call([sys.executable, \"-m\", \"pip\", \"install\", package])\n",
    "    finally:\n",
    "        globals()[package] = importlib.import_module(package)\n"
   ]
  },
  {
   "cell_type": "code",
   "execution_count": 2,
   "metadata": {},
   "outputs": [],
   "source": [
    "packages = ['pandas', 'IPython', 'pandasgui', 'numpy', 'matplotlib','joblib','sklearn','missingno','wheel']\n",
    "\n",
    "for package in packages:\n",
    "    install_and_import(package)\n"
   ]
  },
  {
   "attachments": {},
   "cell_type": "markdown",
   "metadata": {},
   "source": [
    "En caso de que no funcione instalacion manual:"
   ]
  },
  {
   "cell_type": "code",
   "execution_count": 3,
   "metadata": {},
   "outputs": [
    {
     "name": "stdout",
     "output_type": "stream",
     "text": [
      "^C\n",
      "Note: you may need to restart the kernel to use updated packages.\n"
     ]
    },
    {
     "name": "stdout",
     "output_type": "stream",
     "text": [
      "Requirement already satisfied: pip in c:\\users\\ronal\\appdata\\local\\programs\\python\\python310\\lib\\site-packages (23.3.1)\n",
      "Collecting pip\n",
      "  Downloading pip-23.3.2-py3-none-any.whl.metadata (3.5 kB)\n",
      "Downloading pip-23.3.2-py3-none-any.whl (2.1 MB)\n",
      "   ---------------------------------------- 2.1/2.1 MB 26.9 MB/s eta 0:00:00\n",
      "Installing collected packages: pip\n",
      "  Attempting uninstall: pip\n",
      "    Found existing installation: pip 23.3.1\n",
      "    Uninstalling pip-23.3.1:\n",
      "      Successfully uninstalled pip-23.3.1\n",
      "Successfully installed pip-23.3.2\n"
     ]
    }
   ],
   "source": [
    "pip install -U pip "
   ]
  },
  {
   "cell_type": "code",
   "execution_count": 37,
   "metadata": {},
   "outputs": [
    {
     "name": "stdout",
     "output_type": "stream",
     "text": [
      "Requirement already satisfied: pandasgui in /usr/local/python/3.10.8/lib/python3.10/site-packages (0.2.14)\n",
      "Requirement already satisfied: pandas in /home/codespace/.local/lib/python3.10/site-packages (from pandasgui) (2.1.1)\n",
      "Requirement already satisfied: numpy in /home/codespace/.local/lib/python3.10/site-packages (from pandasgui) (1.26.1)\n",
      "Requirement already satisfied: PyQt5 in /usr/local/python/3.10.8/lib/python3.10/site-packages (from pandasgui) (5.15.10)\n",
      "Requirement already satisfied: PyQt5-sip in /usr/local/python/3.10.8/lib/python3.10/site-packages (from pandasgui) (12.13.0)\n",
      "Requirement already satisfied: PyQtWebEngine in /usr/local/python/3.10.8/lib/python3.10/site-packages (from pandasgui) (5.15.6)\n",
      "Requirement already satisfied: plotly in /home/codespace/.local/lib/python3.10/site-packages (from pandasgui) (5.17.0)\n",
      "Requirement already satisfied: wordcloud in /usr/local/python/3.10.8/lib/python3.10/site-packages (from pandasgui) (1.9.2)\n",
      "Requirement already satisfied: setuptools in /usr/local/python/3.10.8/lib/python3.10/site-packages (from pandasgui) (68.0.0)\n",
      "Requirement already satisfied: appdirs in /usr/local/python/3.10.8/lib/python3.10/site-packages (from pandasgui) (1.4.4)\n",
      "Requirement already satisfied: pynput in /usr/local/python/3.10.8/lib/python3.10/site-packages (from pandasgui) (1.7.6)\n",
      "Requirement already satisfied: IPython in /home/codespace/.local/lib/python3.10/site-packages (from pandasgui) (8.16.1)\n",
      "Requirement already satisfied: pyarrow in /usr/local/python/3.10.8/lib/python3.10/site-packages (from pandasgui) (14.0.1)\n",
      "Requirement already satisfied: astor in /usr/local/python/3.10.8/lib/python3.10/site-packages (from pandasgui) (0.8.1)\n",
      "Requirement already satisfied: typing-extensions in /home/codespace/.local/lib/python3.10/site-packages (from pandasgui) (4.8.0)\n",
      "Requirement already satisfied: qtstylish>=0.1.2 in /usr/local/python/3.10.8/lib/python3.10/site-packages (from pandasgui) (0.1.5)\n",
      "Requirement already satisfied: backcall in /home/codespace/.local/lib/python3.10/site-packages (from IPython->pandasgui) (0.2.0)\n",
      "Requirement already satisfied: decorator in /home/codespace/.local/lib/python3.10/site-packages (from IPython->pandasgui) (5.1.1)\n",
      "Requirement already satisfied: jedi>=0.16 in /home/codespace/.local/lib/python3.10/site-packages (from IPython->pandasgui) (0.19.1)\n",
      "Requirement already satisfied: matplotlib-inline in /home/codespace/.local/lib/python3.10/site-packages (from IPython->pandasgui) (0.1.6)\n",
      "Requirement already satisfied: pickleshare in /home/codespace/.local/lib/python3.10/site-packages (from IPython->pandasgui) (0.7.5)\n",
      "Requirement already satisfied: prompt-toolkit!=3.0.37,<3.1.0,>=3.0.30 in /home/codespace/.local/lib/python3.10/site-packages (from IPython->pandasgui) (3.0.39)\n",
      "Requirement already satisfied: pygments>=2.4.0 in /home/codespace/.local/lib/python3.10/site-packages (from IPython->pandasgui) (2.16.1)\n",
      "Requirement already satisfied: stack-data in /home/codespace/.local/lib/python3.10/site-packages (from IPython->pandasgui) (0.6.3)\n",
      "Requirement already satisfied: traitlets>=5 in /home/codespace/.local/lib/python3.10/site-packages (from IPython->pandasgui) (5.11.2)\n",
      "Requirement already satisfied: exceptiongroup in /home/codespace/.local/lib/python3.10/site-packages (from IPython->pandasgui) (1.1.3)\n",
      "Requirement already satisfied: pexpect>4.3 in /home/codespace/.local/lib/python3.10/site-packages (from IPython->pandasgui) (4.8.0)\n",
      "Requirement already satisfied: python-dateutil>=2.8.2 in /home/codespace/.local/lib/python3.10/site-packages (from pandas->pandasgui) (2.8.2)\n",
      "Requirement already satisfied: pytz>=2020.1 in /home/codespace/.local/lib/python3.10/site-packages (from pandas->pandasgui) (2023.3.post1)\n",
      "Requirement already satisfied: tzdata>=2022.1 in /home/codespace/.local/lib/python3.10/site-packages (from pandas->pandasgui) (2023.3)\n",
      "Requirement already satisfied: tenacity>=6.2.0 in /home/codespace/.local/lib/python3.10/site-packages (from plotly->pandasgui) (8.2.3)\n",
      "Requirement already satisfied: packaging in /home/codespace/.local/lib/python3.10/site-packages (from plotly->pandasgui) (23.2)\n",
      "Requirement already satisfied: six in /home/codespace/.local/lib/python3.10/site-packages (from pynput->pandasgui) (1.16.0)\n",
      "Requirement already satisfied: evdev>=1.3 in /usr/local/python/3.10.8/lib/python3.10/site-packages (from pynput->pandasgui) (1.6.1)\n",
      "Requirement already satisfied: python-xlib>=0.17 in /usr/local/python/3.10.8/lib/python3.10/site-packages (from pynput->pandasgui) (0.33)\n",
      "Requirement already satisfied: PyQt5-Qt5>=5.15.2 in /usr/local/python/3.10.8/lib/python3.10/site-packages (from PyQt5->pandasgui) (5.15.2)\n",
      "Requirement already satisfied: PyQtWebEngine-Qt5>=5.15.0 in /usr/local/python/3.10.8/lib/python3.10/site-packages (from PyQtWebEngine->pandasgui) (5.15.2)\n",
      "Requirement already satisfied: pillow in /home/codespace/.local/lib/python3.10/site-packages (from wordcloud->pandasgui) (10.1.0)\n",
      "Requirement already satisfied: matplotlib in /home/codespace/.local/lib/python3.10/site-packages (from wordcloud->pandasgui) (3.8.0)\n",
      "Requirement already satisfied: parso<0.9.0,>=0.8.3 in /home/codespace/.local/lib/python3.10/site-packages (from jedi>=0.16->IPython->pandasgui) (0.8.3)\n",
      "Requirement already satisfied: ptyprocess>=0.5 in /home/codespace/.local/lib/python3.10/site-packages (from pexpect>4.3->IPython->pandasgui) (0.7.0)\n",
      "Requirement already satisfied: wcwidth in /home/codespace/.local/lib/python3.10/site-packages (from prompt-toolkit!=3.0.37,<3.1.0,>=3.0.30->IPython->pandasgui) (0.2.8)\n",
      "Requirement already satisfied: contourpy>=1.0.1 in /home/codespace/.local/lib/python3.10/site-packages (from matplotlib->wordcloud->pandasgui) (1.1.1)\n",
      "Requirement already satisfied: cycler>=0.10 in /home/codespace/.local/lib/python3.10/site-packages (from matplotlib->wordcloud->pandasgui) (0.12.1)\n",
      "Requirement already satisfied: fonttools>=4.22.0 in /home/codespace/.local/lib/python3.10/site-packages (from matplotlib->wordcloud->pandasgui) (4.43.1)\n",
      "Requirement already satisfied: kiwisolver>=1.0.1 in /home/codespace/.local/lib/python3.10/site-packages (from matplotlib->wordcloud->pandasgui) (1.4.5)\n",
      "Requirement already satisfied: pyparsing>=2.3.1 in /home/codespace/.local/lib/python3.10/site-packages (from matplotlib->wordcloud->pandasgui) (3.1.1)\n",
      "Requirement already satisfied: executing>=1.2.0 in /home/codespace/.local/lib/python3.10/site-packages (from stack-data->IPython->pandasgui) (2.0.0)\n",
      "Requirement already satisfied: asttokens>=2.1.0 in /home/codespace/.local/lib/python3.10/site-packages (from stack-data->IPython->pandasgui) (2.4.0)\n",
      "Requirement already satisfied: pure-eval in /home/codespace/.local/lib/python3.10/site-packages (from stack-data->IPython->pandasgui) (0.2.2)\n",
      "Note: you may need to restart the kernel to use updated packages.\n"
     ]
    }
   ],
   "source": [
    "pip install pandasgui"
   ]
  },
  {
   "cell_type": "code",
   "execution_count": null,
   "metadata": {},
   "outputs": [
    {
     "name": "stdout",
     "output_type": "stream",
     "text": [
      "Requirement already satisfied: sklearn in c:\\users\\vhect\\anaconda3\\lib\\site-packages (0.0.post4)\n",
      "Note: you may need to restart the kernel to use updated packages.\n"
     ]
    }
   ],
   "source": [
    "pip install sklearn\n"
   ]
  },
  {
   "cell_type": "code",
   "execution_count": null,
   "metadata": {},
   "outputs": [
    {
     "name": "stdout",
     "output_type": "stream",
     "text": [
      "Collecting missingno\n",
      "  Downloading missingno-0.5.2-py3-none-any.whl (8.7 kB)\n",
      "Requirement already satisfied: numpy in /home/codespace/.local/lib/python3.10/site-packages (from missingno) (1.26.1)\n",
      "Requirement already satisfied: matplotlib in /home/codespace/.local/lib/python3.10/site-packages (from missingno) (3.8.0)\n",
      "Requirement already satisfied: scipy in /home/codespace/.local/lib/python3.10/site-packages (from missingno) (1.11.3)\n",
      "Requirement already satisfied: seaborn in /home/codespace/.local/lib/python3.10/site-packages (from missingno) (0.13.0)\n",
      "Requirement already satisfied: contourpy>=1.0.1 in /home/codespace/.local/lib/python3.10/site-packages (from matplotlib->missingno) (1.1.1)\n",
      "Requirement already satisfied: cycler>=0.10 in /home/codespace/.local/lib/python3.10/site-packages (from matplotlib->missingno) (0.12.1)\n",
      "Requirement already satisfied: fonttools>=4.22.0 in /home/codespace/.local/lib/python3.10/site-packages (from matplotlib->missingno) (4.43.1)\n",
      "Requirement already satisfied: kiwisolver>=1.0.1 in /home/codespace/.local/lib/python3.10/site-packages (from matplotlib->missingno) (1.4.5)\n",
      "Requirement already satisfied: packaging>=20.0 in /home/codespace/.local/lib/python3.10/site-packages (from matplotlib->missingno) (23.2)\n",
      "Requirement already satisfied: pillow>=6.2.0 in /home/codespace/.local/lib/python3.10/site-packages (from matplotlib->missingno) (10.1.0)\n",
      "Requirement already satisfied: pyparsing>=2.3.1 in /home/codespace/.local/lib/python3.10/site-packages (from matplotlib->missingno) (3.1.1)\n",
      "Requirement already satisfied: python-dateutil>=2.7 in /home/codespace/.local/lib/python3.10/site-packages (from matplotlib->missingno) (2.8.2)\n",
      "Requirement already satisfied: pandas>=1.2 in /home/codespace/.local/lib/python3.10/site-packages (from seaborn->missingno) (2.1.1)\n",
      "Requirement already satisfied: pytz>=2020.1 in /home/codespace/.local/lib/python3.10/site-packages (from pandas>=1.2->seaborn->missingno) (2023.3.post1)\n",
      "Requirement already satisfied: tzdata>=2022.1 in /home/codespace/.local/lib/python3.10/site-packages (from pandas>=1.2->seaborn->missingno) (2023.3)\n",
      "Requirement already satisfied: six>=1.5 in /home/codespace/.local/lib/python3.10/site-packages (from python-dateutil>=2.7->matplotlib->missingno) (1.16.0)\n",
      "Installing collected packages: missingno\n",
      "Successfully installed missingno-0.5.2\n",
      "Note: you may need to restart the kernel to use updated packages.\n"
     ]
    }
   ],
   "source": [
    "pip install missingno"
   ]
  },
  {
   "cell_type": "code",
   "execution_count": 39,
   "metadata": {},
   "outputs": [
    {
     "name": "stdout",
     "output_type": "stream",
     "text": [
      "Requirement already satisfied: wheel in /usr/local/python/3.10.8/lib/python3.10/site-packages (0.41.3)\n",
      "Note: you may need to restart the kernel to use updated packages.\n"
     ]
    }
   ],
   "source": [
    "pip install wheel\n"
   ]
  },
  {
   "cell_type": "code",
   "execution_count": 3,
   "metadata": {},
   "outputs": [
    {
     "data": {
      "text/plain": [
       "'f:\\\\TESIS\\\\Proyecto_mod_precipitacion\\\\Codigos de Python'"
      ]
     },
     "execution_count": 3,
     "metadata": {},
     "output_type": "execute_result"
    }
   ],
   "source": [
    "import os\n",
    "#observar donde estoy en ruta \n",
    "os.getcwd()"
   ]
  },
  {
   "attachments": {},
   "cell_type": "markdown",
   "metadata": {},
   "source": [
    "Ruta Ronaldo "
   ]
  },
  {
   "cell_type": "markdown",
   "metadata": {},
   "source": [
    "Ruta Online Vscode desde github"
   ]
  },
  {
   "cell_type": "code",
   "execution_count": 4,
   "metadata": {},
   "outputs": [
    {
     "name": "stdout",
     "output_type": "stream",
     "text": [
      "Ruta actual del directorio de trabajo: f:\\TESIS\\Proyecto_mod_precipitacion\\Codigos de Python\n"
     ]
    },
    {
     "ename": "FileNotFoundError",
     "evalue": "[WinError 3] El sistema no puede encontrar la ruta especificada: '/workspaces/Proyecto_mod_precipitacion'",
     "output_type": "error",
     "traceback": [
      "\u001b[1;31m---------------------------------------------------------------------------\u001b[0m",
      "\u001b[1;31mFileNotFoundError\u001b[0m                         Traceback (most recent call last)",
      "\u001b[1;32mf:\\TESIS\\Proyecto_mod_precipitacion\\Codigos de Python\\NoteNook_model_KNN.ipynb Cell 16\u001b[0m line \u001b[0;36m<cell line: 5>\u001b[1;34m()\u001b[0m\n\u001b[0;32m      <a href='vscode-notebook-cell:/f%3A/TESIS/Proyecto_mod_precipitacion/Codigos%20de%20Python/NoteNook_model_KNN.ipynb#X21sZmlsZQ%3D%3D?line=2'>3</a>\u001b[0m \u001b[39mprint\u001b[39m(\u001b[39mf\u001b[39m\u001b[39m\"\u001b[39m\u001b[39mRuta actual del directorio de trabajo: \u001b[39m\u001b[39m{\u001b[39;00mcurrent_path\u001b[39m}\u001b[39;00m\u001b[39m\"\u001b[39m)\n\u001b[0;32m      <a href='vscode-notebook-cell:/f%3A/TESIS/Proyecto_mod_precipitacion/Codigos%20de%20Python/NoteNook_model_KNN.ipynb#X21sZmlsZQ%3D%3D?line=3'>4</a>\u001b[0m new_path \u001b[39m=\u001b[39m \u001b[39m\"\u001b[39m\u001b[39m/workspaces/Proyecto_mod_precipitacion\u001b[39m\u001b[39m\"\u001b[39m\n\u001b[1;32m----> <a href='vscode-notebook-cell:/f%3A/TESIS/Proyecto_mod_precipitacion/Codigos%20de%20Python/NoteNook_model_KNN.ipynb#X21sZmlsZQ%3D%3D?line=4'>5</a>\u001b[0m os\u001b[39m.\u001b[39;49mchdir(new_path)\n\u001b[0;32m      <a href='vscode-notebook-cell:/f%3A/TESIS/Proyecto_mod_precipitacion/Codigos%20de%20Python/NoteNook_model_KNN.ipynb#X21sZmlsZQ%3D%3D?line=5'>6</a>\u001b[0m new_current_path \u001b[39m=\u001b[39m os\u001b[39m.\u001b[39mgetcwd()\n\u001b[0;32m      <a href='vscode-notebook-cell:/f%3A/TESIS/Proyecto_mod_precipitacion/Codigos%20de%20Python/NoteNook_model_KNN.ipynb#X21sZmlsZQ%3D%3D?line=6'>7</a>\u001b[0m \u001b[39mprint\u001b[39m(\u001b[39mf\u001b[39m\u001b[39m\"\u001b[39m\u001b[39mNueva ruta del directorio de trabajo: \u001b[39m\u001b[39m{\u001b[39;00mnew_current_path\u001b[39m}\u001b[39;00m\u001b[39m\"\u001b[39m)\n",
      "\u001b[1;31mFileNotFoundError\u001b[0m: [WinError 3] El sistema no puede encontrar la ruta especificada: '/workspaces/Proyecto_mod_precipitacion'"
     ]
    }
   ],
   "source": [
    "import os\n",
    "current_path = os.getcwd()\n",
    "print(f\"Ruta actual del directorio de trabajo: {current_path}\")\n",
    "new_path = \"/workspaces/Proyecto_mod_precipitacion\"\n",
    "os.chdir(new_path)\n",
    "new_current_path = os.getcwd()\n",
    "print(f\"Nueva ruta del directorio de trabajo: {new_current_path}\")"
   ]
  },
  {
   "cell_type": "markdown",
   "metadata": {},
   "source": [
    "Ruta PC local"
   ]
  },
  {
   "cell_type": "code",
   "execution_count": 3,
   "metadata": {},
   "outputs": [
    {
     "name": "stdout",
     "output_type": "stream",
     "text": [
      "Ruta actual del directorio de trabajo: f:\\TESIS\\Proyecto_mod_precipitacion\\Codigos de Python\n",
      "Nueva ruta del directorio de trabajo: F:\\TESIS\\Proyecto_mod_precipitacion\n"
     ]
    }
   ],
   "source": [
    "import os\n",
    "current_path = os.getcwd()\n",
    "print(f\"Ruta actual del directorio de trabajo: {current_path}\")\n",
    "new_path = \"F:\\\\TESIS\\\\Proyecto_mod_precipitacion\"\n",
    "os.chdir(new_path)\n",
    "new_current_path = os.getcwd()\n",
    "print(f\"Nueva ruta del directorio de trabajo: {new_current_path}\")"
   ]
  },
  {
   "attachments": {},
   "cell_type": "markdown",
   "metadata": {},
   "source": [
    "Ruta hector "
   ]
  },
  {
   "cell_type": "code",
   "execution_count": null,
   "metadata": {},
   "outputs": [
    {
     "name": "stdout",
     "output_type": "stream",
     "text": [
      "Ruta actual del directorio de trabajo: c:\\Users\\vhect\\Documents\\semestre 10\\TESIS\\Proyecto_mod_precipitacion\\Codigos de Python\n",
      "Nueva ruta del directorio de trabajo: c:\\Users\\vhect\\Documents\\semestre 10\\TESIS\\Proyecto_mod_precipitacion\n"
     ]
    }
   ],
   "source": [
    "import os\n",
    "current_path = os.getcwd()\n",
    "print(f\"Ruta actual del directorio de trabajo: {current_path}\")\n",
    "new_path = \"c:\\\\Users\\\\vhect\\\\Documents\\\\semestre 10\\\\TESIS\\\\Proyecto_mod_precipitacion\"\n",
    "os.chdir(new_path)\n",
    "new_current_path = os.getcwd()\n",
    "print(f\"Nueva ruta del directorio de trabajo: {new_current_path}\")"
   ]
  },
  {
   "attachments": {},
   "cell_type": "markdown",
   "metadata": {},
   "source": [
    "### Ejemplo sencillo del funcionamiento del modelo KNN"
   ]
  },
  {
   "attachments": {},
   "cell_type": "markdown",
   "metadata": {},
   "source": [
    "modelo KNN \n",
    "scikit-learn es una biblioteca de aprendizaje automático de código \n",
    "abierto que ofrece implementaciones eficientes de una amplia variedad\n",
    "de algoritmos de aprendizaje, incluyendo KNN. Además, proporciona funciones\n",
    "para la imputación de datos faltantes utilizando KNN y otras técnicas."
   ]
  },
  {
   "cell_type": "code",
   "execution_count": 4,
   "metadata": {},
   "outputs": [],
   "source": [
    "import pandas as pd\n",
    "import numpy as np\n",
    "from sklearn.impute import KNNImputer\n"
   ]
  },
  {
   "cell_type": "code",
   "execution_count": 5,
   "metadata": {},
   "outputs": [
    {
     "name": "stderr",
     "output_type": "stream",
     "text": [
      "C:\\Users\\ronal\\AppData\\Local\\Temp\\ipykernel_27128\\60805419.py:4: SettingWithCopyWarning: \n",
      "A value is trying to be set on a copy of a slice from a DataFrame.\n",
      "Try using .loc[row_indexer,col_indexer] = value instead\n",
      "\n",
      "See the caveats in the documentation: https://pandas.pydata.org/pandas-docs/stable/user_guide/indexing.html#returning-a-view-versus-a-copy\n",
      "  station_data['precipitation_imputed'] = station_data_imputed\n",
      "C:\\Users\\ronal\\AppData\\Local\\Temp\\ipykernel_27128\\60805419.py:19: FutureWarning: The frame.append method is deprecated and will be removed from pandas in a future version. Use pandas.concat instead.\n",
      "  imputed_data = imputed_data.append(station_data_imputed)\n",
      "C:\\Users\\ronal\\AppData\\Local\\Temp\\ipykernel_27128\\60805419.py:4: SettingWithCopyWarning: \n",
      "A value is trying to be set on a copy of a slice from a DataFrame.\n",
      "Try using .loc[row_indexer,col_indexer] = value instead\n",
      "\n",
      "See the caveats in the documentation: https://pandas.pydata.org/pandas-docs/stable/user_guide/indexing.html#returning-a-view-versus-a-copy\n",
      "  station_data['precipitation_imputed'] = station_data_imputed\n",
      "C:\\Users\\ronal\\AppData\\Local\\Temp\\ipykernel_27128\\60805419.py:19: FutureWarning: The frame.append method is deprecated and will be removed from pandas in a future version. Use pandas.concat instead.\n",
      "  imputed_data = imputed_data.append(station_data_imputed)\n",
      "C:\\Users\\ronal\\AppData\\Local\\Temp\\ipykernel_27128\\60805419.py:4: SettingWithCopyWarning: \n",
      "A value is trying to be set on a copy of a slice from a DataFrame.\n",
      "Try using .loc[row_indexer,col_indexer] = value instead\n",
      "\n",
      "See the caveats in the documentation: https://pandas.pydata.org/pandas-docs/stable/user_guide/indexing.html#returning-a-view-versus-a-copy\n",
      "  station_data['precipitation_imputed'] = station_data_imputed\n",
      "C:\\Users\\ronal\\AppData\\Local\\Temp\\ipykernel_27128\\60805419.py:19: FutureWarning: The frame.append method is deprecated and will be removed from pandas in a future version. Use pandas.concat instead.\n",
      "  imputed_data = imputed_data.append(station_data_imputed)\n"
     ]
    }
   ],
   "source": [
    "\n",
    "def impute_precipitation_for_station(station_data, n_neighbors=5):\n",
    "    imputer = KNNImputer(n_neighbors=n_neighbors)\n",
    "    station_data_imputed = imputer.fit_transform(station_data[['precipitation']])\n",
    "    station_data['precipitation_imputed'] = station_data_imputed\n",
    "    return station_data\n",
    "\n",
    "# Crear datos de ejemplo\n",
    "data = pd.DataFrame({\n",
    "    'station_id': [1, 1, 2, 2, 3, 3],\n",
    "    'precipitation': [1, np.nan, 3, 4, np.nan, 6]\n",
    "})\n",
    "\n",
    "stations = data['station_id'].unique()\n",
    "imputed_data = pd.DataFrame()\n",
    "\n",
    "for station in stations:\n",
    "    station_data = data[data['station_id'] == station]\n",
    "    station_data_imputed = impute_precipitation_for_station(station_data)\n",
    "    imputed_data = imputed_data.append(station_data_imputed)\n"
   ]
  },
  {
   "attachments": {},
   "cell_type": "markdown",
   "metadata": {},
   "source": [
    "Presenta el Dataframe con las variables imputadas atravez de la metodologia KNN"
   ]
  },
  {
   "cell_type": "code",
   "execution_count": 6,
   "metadata": {},
   "outputs": [
    {
     "name": "stdout",
     "output_type": "stream",
     "text": [
      "   station_id  precipitation  precipitation_imputed\n",
      "0           1            1.0                    1.0\n",
      "1           1            NaN                    1.0\n",
      "2           2            3.0                    3.0\n",
      "3           2            4.0                    4.0\n",
      "4           3            NaN                    6.0\n",
      "5           3            6.0                    6.0\n"
     ]
    }
   ],
   "source": [
    "import warnings\n",
    "warnings.filterwarnings('ignore')\n",
    "\n",
    "# Tu código\n",
    "print(imputed_data)"
   ]
  },
  {
   "cell_type": "markdown",
   "metadata": {},
   "source": [
    "Para este sencillo paso se observa como el algoritmo es capaz de reconocer por imputacion mediante la informacion de la variable station_id.sin embargo para el caso real de la aplicacion de KNN, se debe tener en cuenta que es sencible a las escalas cuandos se utilizan mas variables."
   ]
  },
  {
   "cell_type": "code",
   "execution_count": 7,
   "metadata": {},
   "outputs": [],
   "source": [
    "from sklearn.impute import KNNImputer\n",
    "\n",
    "#imputacion = KNNImputer(*#, missing_values: float | str | int | None = ..., n_neighbors: Int = 5, weights: ((...) -> Any) | Literal['uniform', 'distance'] = \"uniform\", metric: ((...) -> Any) | Literal['nan_euclidean'] = \"nan_euclidean\", copy: bool = True, add_indicator: bool = False, keep_empty_features: bool = Fals)\n",
    "\n",
    "imputacion = KNNImputer(n_neighbors=1)\n"
   ]
  },
  {
   "cell_type": "code",
   "execution_count": 8,
   "metadata": {},
   "outputs": [
    {
     "data": {
      "text/plain": [
       "'nan_euclidean'"
      ]
     },
     "execution_count": 8,
     "metadata": {},
     "output_type": "execute_result"
    }
   ],
   "source": [
    "imputacion.metric"
   ]
  },
  {
   "attachments": {},
   "cell_type": "markdown",
   "metadata": {},
   "source": [
    "### Lectura de datos"
   ]
  },
  {
   "cell_type": "code",
   "execution_count": 5,
   "metadata": {},
   "outputs": [
    {
     "data": {
      "text/html": [
       "<div>\n",
       "<style scoped>\n",
       "    .dataframe tbody tr th:only-of-type {\n",
       "        vertical-align: middle;\n",
       "    }\n",
       "\n",
       "    .dataframe tbody tr th {\n",
       "        vertical-align: top;\n",
       "    }\n",
       "\n",
       "    .dataframe thead th {\n",
       "        text-align: right;\n",
       "    }\n",
       "</style>\n",
       "<table border=\"1\" class=\"dataframe\">\n",
       "  <thead>\n",
       "    <tr style=\"text-align: right;\">\n",
       "      <th></th>\n",
       "      <th>Date</th>\n",
       "      <th>prec</th>\n",
       "      <th>ID</th>\n",
       "      <th>LAT</th>\n",
       "      <th>LON</th>\n",
       "    </tr>\n",
       "  </thead>\n",
       "  <tbody>\n",
       "    <tr>\n",
       "      <th>0</th>\n",
       "      <td>1983-06-09</td>\n",
       "      <td>6.8</td>\n",
       "      <td>32010010</td>\n",
       "      <td>2.562833</td>\n",
       "      <td>-74.103083</td>\n",
       "    </tr>\n",
       "    <tr>\n",
       "      <th>1</th>\n",
       "      <td>1983-06-10</td>\n",
       "      <td>17.8</td>\n",
       "      <td>32010010</td>\n",
       "      <td>2.562833</td>\n",
       "      <td>-74.103083</td>\n",
       "    </tr>\n",
       "    <tr>\n",
       "      <th>2</th>\n",
       "      <td>1983-06-11</td>\n",
       "      <td>0.0</td>\n",
       "      <td>32010010</td>\n",
       "      <td>2.562833</td>\n",
       "      <td>-74.103083</td>\n",
       "    </tr>\n",
       "    <tr>\n",
       "      <th>3</th>\n",
       "      <td>1983-06-12</td>\n",
       "      <td>0.5</td>\n",
       "      <td>32010010</td>\n",
       "      <td>2.562833</td>\n",
       "      <td>-74.103083</td>\n",
       "    </tr>\n",
       "    <tr>\n",
       "      <th>4</th>\n",
       "      <td>1983-06-13</td>\n",
       "      <td>6.9</td>\n",
       "      <td>32010010</td>\n",
       "      <td>2.562833</td>\n",
       "      <td>-74.103083</td>\n",
       "    </tr>\n",
       "    <tr>\n",
       "      <th>5</th>\n",
       "      <td>1983-06-14</td>\n",
       "      <td>7.7</td>\n",
       "      <td>32010010</td>\n",
       "      <td>2.562833</td>\n",
       "      <td>-74.103083</td>\n",
       "    </tr>\n",
       "    <tr>\n",
       "      <th>6</th>\n",
       "      <td>1983-06-15</td>\n",
       "      <td>16.2</td>\n",
       "      <td>32010010</td>\n",
       "      <td>2.562833</td>\n",
       "      <td>-74.103083</td>\n",
       "    </tr>\n",
       "    <tr>\n",
       "      <th>7</th>\n",
       "      <td>1983-06-16</td>\n",
       "      <td>20.8</td>\n",
       "      <td>32010010</td>\n",
       "      <td>2.562833</td>\n",
       "      <td>-74.103083</td>\n",
       "    </tr>\n",
       "    <tr>\n",
       "      <th>8</th>\n",
       "      <td>1983-06-17</td>\n",
       "      <td>0.0</td>\n",
       "      <td>32010010</td>\n",
       "      <td>2.562833</td>\n",
       "      <td>-74.103083</td>\n",
       "    </tr>\n",
       "    <tr>\n",
       "      <th>9</th>\n",
       "      <td>1983-06-18</td>\n",
       "      <td>0.0</td>\n",
       "      <td>32010010</td>\n",
       "      <td>2.562833</td>\n",
       "      <td>-74.103083</td>\n",
       "    </tr>\n",
       "  </tbody>\n",
       "</table>\n",
       "</div>"
      ],
      "text/plain": [
       "         Date  prec        ID       LAT        LON\n",
       "0  1983-06-09   6.8  32010010  2.562833 -74.103083\n",
       "1  1983-06-10  17.8  32010010  2.562833 -74.103083\n",
       "2  1983-06-11   0.0  32010010  2.562833 -74.103083\n",
       "3  1983-06-12   0.5  32010010  2.562833 -74.103083\n",
       "4  1983-06-13   6.9  32010010  2.562833 -74.103083\n",
       "5  1983-06-14   7.7  32010010  2.562833 -74.103083\n",
       "6  1983-06-15  16.2  32010010  2.562833 -74.103083\n",
       "7  1983-06-16  20.8  32010010  2.562833 -74.103083\n",
       "8  1983-06-17   0.0  32010010  2.562833 -74.103083\n",
       "9  1983-06-18   0.0  32010010  2.562833 -74.103083"
      ]
     },
     "execution_count": 5,
     "metadata": {},
     "output_type": "execute_result"
    }
   ],
   "source": [
    "import pandas as pd\n",
    "data = pd.read_csv(\"Datos/datos_seleccionados_para_modelo_coordenadas.txt\",sep=\";\")\n",
    "data.head(10)\n"
   ]
  },
  {
   "cell_type": "code",
   "execution_count": 6,
   "metadata": {},
   "outputs": [
    {
     "data": {
      "text/html": [
       "<div>\n",
       "<style scoped>\n",
       "    .dataframe tbody tr th:only-of-type {\n",
       "        vertical-align: middle;\n",
       "    }\n",
       "\n",
       "    .dataframe tbody tr th {\n",
       "        vertical-align: top;\n",
       "    }\n",
       "\n",
       "    .dataframe thead th {\n",
       "        text-align: right;\n",
       "    }\n",
       "</style>\n",
       "<table border=\"1\" class=\"dataframe\">\n",
       "  <thead>\n",
       "    <tr style=\"text-align: right;\">\n",
       "      <th></th>\n",
       "      <th>Date</th>\n",
       "      <th>prec</th>\n",
       "      <th>ID</th>\n",
       "      <th>LAT</th>\n",
       "      <th>LON</th>\n",
       "    </tr>\n",
       "  </thead>\n",
       "  <tbody>\n",
       "    <tr>\n",
       "      <th>0</th>\n",
       "      <td>1983-06-09</td>\n",
       "      <td>6.8</td>\n",
       "      <td>32010010</td>\n",
       "      <td>2.562833</td>\n",
       "      <td>-74.103083</td>\n",
       "    </tr>\n",
       "    <tr>\n",
       "      <th>1</th>\n",
       "      <td>1983-06-10</td>\n",
       "      <td>17.8</td>\n",
       "      <td>32010010</td>\n",
       "      <td>2.562833</td>\n",
       "      <td>-74.103083</td>\n",
       "    </tr>\n",
       "    <tr>\n",
       "      <th>2</th>\n",
       "      <td>1983-06-11</td>\n",
       "      <td>0.0</td>\n",
       "      <td>32010010</td>\n",
       "      <td>2.562833</td>\n",
       "      <td>-74.103083</td>\n",
       "    </tr>\n",
       "    <tr>\n",
       "      <th>3</th>\n",
       "      <td>1983-06-12</td>\n",
       "      <td>0.5</td>\n",
       "      <td>32010010</td>\n",
       "      <td>2.562833</td>\n",
       "      <td>-74.103083</td>\n",
       "    </tr>\n",
       "    <tr>\n",
       "      <th>4</th>\n",
       "      <td>1983-06-13</td>\n",
       "      <td>6.9</td>\n",
       "      <td>32010010</td>\n",
       "      <td>2.562833</td>\n",
       "      <td>-74.103083</td>\n",
       "    </tr>\n",
       "    <tr>\n",
       "      <th>5</th>\n",
       "      <td>1983-06-14</td>\n",
       "      <td>7.7</td>\n",
       "      <td>32010010</td>\n",
       "      <td>2.562833</td>\n",
       "      <td>-74.103083</td>\n",
       "    </tr>\n",
       "    <tr>\n",
       "      <th>6</th>\n",
       "      <td>1983-06-15</td>\n",
       "      <td>16.2</td>\n",
       "      <td>32010010</td>\n",
       "      <td>2.562833</td>\n",
       "      <td>-74.103083</td>\n",
       "    </tr>\n",
       "    <tr>\n",
       "      <th>7</th>\n",
       "      <td>1983-06-16</td>\n",
       "      <td>20.8</td>\n",
       "      <td>32010010</td>\n",
       "      <td>2.562833</td>\n",
       "      <td>-74.103083</td>\n",
       "    </tr>\n",
       "    <tr>\n",
       "      <th>8</th>\n",
       "      <td>1983-06-17</td>\n",
       "      <td>0.0</td>\n",
       "      <td>32010010</td>\n",
       "      <td>2.562833</td>\n",
       "      <td>-74.103083</td>\n",
       "    </tr>\n",
       "    <tr>\n",
       "      <th>9</th>\n",
       "      <td>1983-06-18</td>\n",
       "      <td>0.0</td>\n",
       "      <td>32010010</td>\n",
       "      <td>2.562833</td>\n",
       "      <td>-74.103083</td>\n",
       "    </tr>\n",
       "  </tbody>\n",
       "</table>\n",
       "</div>"
      ],
      "text/plain": [
       "         Date  prec        ID       LAT        LON\n",
       "0  1983-06-09   6.8  32010010  2.562833 -74.103083\n",
       "1  1983-06-10  17.8  32010010  2.562833 -74.103083\n",
       "2  1983-06-11   0.0  32010010  2.562833 -74.103083\n",
       "3  1983-06-12   0.5  32010010  2.562833 -74.103083\n",
       "4  1983-06-13   6.9  32010010  2.562833 -74.103083\n",
       "5  1983-06-14   7.7  32010010  2.562833 -74.103083\n",
       "6  1983-06-15  16.2  32010010  2.562833 -74.103083\n",
       "7  1983-06-16  20.8  32010010  2.562833 -74.103083\n",
       "8  1983-06-17   0.0  32010010  2.562833 -74.103083\n",
       "9  1983-06-18   0.0  32010010  2.562833 -74.103083"
      ]
     },
     "execution_count": 6,
     "metadata": {},
     "output_type": "execute_result"
    }
   ],
   "source": [
    "\n",
    "data2 = pd.read_csv(\"Datos/datos_combinados_para_modelo_con_coordenadas.txt\",sep=\";\")\n",
    "data2.head(10)\n"
   ]
  },
  {
   "cell_type": "code",
   "execution_count": 6,
   "metadata": {},
   "outputs": [
    {
     "data": {
      "text/html": [
       "<div>\n",
       "<style scoped>\n",
       "    .dataframe tbody tr th:only-of-type {\n",
       "        vertical-align: middle;\n",
       "    }\n",
       "\n",
       "    .dataframe tbody tr th {\n",
       "        vertical-align: top;\n",
       "    }\n",
       "\n",
       "    .dataframe thead th {\n",
       "        text-align: right;\n",
       "    }\n",
       "</style>\n",
       "<table border=\"1\" class=\"dataframe\">\n",
       "  <thead>\n",
       "    <tr style=\"text-align: right;\">\n",
       "      <th></th>\n",
       "      <th>Date</th>\n",
       "      <th>prec</th>\n",
       "      <th>ID</th>\n",
       "    </tr>\n",
       "  </thead>\n",
       "  <tbody>\n",
       "    <tr>\n",
       "      <th>0</th>\n",
       "      <td>1983-06-09</td>\n",
       "      <td>6.8</td>\n",
       "      <td>32010010</td>\n",
       "    </tr>\n",
       "    <tr>\n",
       "      <th>1</th>\n",
       "      <td>1983-06-10</td>\n",
       "      <td>17.8</td>\n",
       "      <td>32010010</td>\n",
       "    </tr>\n",
       "    <tr>\n",
       "      <th>2</th>\n",
       "      <td>1983-06-11</td>\n",
       "      <td>0.0</td>\n",
       "      <td>32010010</td>\n",
       "    </tr>\n",
       "    <tr>\n",
       "      <th>3</th>\n",
       "      <td>1983-06-12</td>\n",
       "      <td>0.5</td>\n",
       "      <td>32010010</td>\n",
       "    </tr>\n",
       "    <tr>\n",
       "      <th>4</th>\n",
       "      <td>1983-06-13</td>\n",
       "      <td>6.9</td>\n",
       "      <td>32010010</td>\n",
       "    </tr>\n",
       "    <tr>\n",
       "      <th>5</th>\n",
       "      <td>1983-06-14</td>\n",
       "      <td>7.7</td>\n",
       "      <td>32010010</td>\n",
       "    </tr>\n",
       "    <tr>\n",
       "      <th>6</th>\n",
       "      <td>1983-06-15</td>\n",
       "      <td>16.2</td>\n",
       "      <td>32010010</td>\n",
       "    </tr>\n",
       "    <tr>\n",
       "      <th>7</th>\n",
       "      <td>1983-06-16</td>\n",
       "      <td>20.8</td>\n",
       "      <td>32010010</td>\n",
       "    </tr>\n",
       "    <tr>\n",
       "      <th>8</th>\n",
       "      <td>1983-06-17</td>\n",
       "      <td>0.0</td>\n",
       "      <td>32010010</td>\n",
       "    </tr>\n",
       "    <tr>\n",
       "      <th>9</th>\n",
       "      <td>1983-06-18</td>\n",
       "      <td>0.0</td>\n",
       "      <td>32010010</td>\n",
       "    </tr>\n",
       "  </tbody>\n",
       "</table>\n",
       "</div>"
      ],
      "text/plain": [
       "         Date  prec        ID\n",
       "0  1983-06-09   6.8  32010010\n",
       "1  1983-06-10  17.8  32010010\n",
       "2  1983-06-11   0.0  32010010\n",
       "3  1983-06-12   0.5  32010010\n",
       "4  1983-06-13   6.9  32010010\n",
       "5  1983-06-14   7.7  32010010\n",
       "6  1983-06-15  16.2  32010010\n",
       "7  1983-06-16  20.8  32010010\n",
       "8  1983-06-17   0.0  32010010\n",
       "9  1983-06-18   0.0  32010010"
      ]
     },
     "execution_count": 6,
     "metadata": {},
     "output_type": "execute_result"
    }
   ],
   "source": [
    "\n",
    "\n",
    "data3 = pd.read_csv(\"Datos/datos_combinados_para_modelo.txt\",sep=\";\")\n",
    "data3.head(10)\n"
   ]
  },
  {
   "cell_type": "code",
   "execution_count": 7,
   "metadata": {},
   "outputs": [
    {
     "data": {
      "text/html": [
       "<div>\n",
       "<style scoped>\n",
       "    .dataframe tbody tr th:only-of-type {\n",
       "        vertical-align: middle;\n",
       "    }\n",
       "\n",
       "    .dataframe tbody tr th {\n",
       "        vertical-align: top;\n",
       "    }\n",
       "\n",
       "    .dataframe thead th {\n",
       "        text-align: right;\n",
       "    }\n",
       "</style>\n",
       "<table border=\"1\" class=\"dataframe\">\n",
       "  <thead>\n",
       "    <tr style=\"text-align: right;\">\n",
       "      <th></th>\n",
       "      <th>Date</th>\n",
       "      <th>prec</th>\n",
       "      <th>ID</th>\n",
       "    </tr>\n",
       "  </thead>\n",
       "  <tbody>\n",
       "    <tr>\n",
       "      <th>0</th>\n",
       "      <td>1983-06-09</td>\n",
       "      <td>6.8</td>\n",
       "      <td>32010010</td>\n",
       "    </tr>\n",
       "    <tr>\n",
       "      <th>1</th>\n",
       "      <td>1983-06-10</td>\n",
       "      <td>17.8</td>\n",
       "      <td>32010010</td>\n",
       "    </tr>\n",
       "    <tr>\n",
       "      <th>2</th>\n",
       "      <td>1983-06-11</td>\n",
       "      <td>0.0</td>\n",
       "      <td>32010010</td>\n",
       "    </tr>\n",
       "    <tr>\n",
       "      <th>3</th>\n",
       "      <td>1983-06-12</td>\n",
       "      <td>0.5</td>\n",
       "      <td>32010010</td>\n",
       "    </tr>\n",
       "    <tr>\n",
       "      <th>4</th>\n",
       "      <td>1983-06-13</td>\n",
       "      <td>6.9</td>\n",
       "      <td>32010010</td>\n",
       "    </tr>\n",
       "    <tr>\n",
       "      <th>5</th>\n",
       "      <td>1983-06-14</td>\n",
       "      <td>7.7</td>\n",
       "      <td>32010010</td>\n",
       "    </tr>\n",
       "    <tr>\n",
       "      <th>6</th>\n",
       "      <td>1983-06-15</td>\n",
       "      <td>16.2</td>\n",
       "      <td>32010010</td>\n",
       "    </tr>\n",
       "    <tr>\n",
       "      <th>7</th>\n",
       "      <td>1983-06-16</td>\n",
       "      <td>20.8</td>\n",
       "      <td>32010010</td>\n",
       "    </tr>\n",
       "    <tr>\n",
       "      <th>8</th>\n",
       "      <td>1983-06-17</td>\n",
       "      <td>0.0</td>\n",
       "      <td>32010010</td>\n",
       "    </tr>\n",
       "    <tr>\n",
       "      <th>9</th>\n",
       "      <td>1983-06-18</td>\n",
       "      <td>0.0</td>\n",
       "      <td>32010010</td>\n",
       "    </tr>\n",
       "  </tbody>\n",
       "</table>\n",
       "</div>"
      ],
      "text/plain": [
       "         Date  prec        ID\n",
       "0  1983-06-09   6.8  32010010\n",
       "1  1983-06-10  17.8  32010010\n",
       "2  1983-06-11   0.0  32010010\n",
       "3  1983-06-12   0.5  32010010\n",
       "4  1983-06-13   6.9  32010010\n",
       "5  1983-06-14   7.7  32010010\n",
       "6  1983-06-15  16.2  32010010\n",
       "7  1983-06-16  20.8  32010010\n",
       "8  1983-06-17   0.0  32010010\n",
       "9  1983-06-18   0.0  32010010"
      ]
     },
     "execution_count": 7,
     "metadata": {},
     "output_type": "execute_result"
    }
   ],
   "source": [
    "\n",
    "data4 = pd.read_csv(\"Datos/datos_seleccionadods_para_modelo.txt\",sep=\";\")\n",
    "data4.head(10)\n",
    "\n"
   ]
  },
  {
   "attachments": {},
   "cell_type": "markdown",
   "metadata": {},
   "source": [
    "Estructura de los datos"
   ]
  },
  {
   "cell_type": "code",
   "execution_count": 9,
   "metadata": {},
   "outputs": [
    {
     "name": "stdout",
     "output_type": "stream",
     "text": [
      "<class 'pandas.core.frame.DataFrame'>\n",
      "RangeIndex: 656436 entries, 0 to 656435\n",
      "Data columns (total 5 columns):\n",
      " #   Column  Non-Null Count   Dtype  \n",
      "---  ------  --------------   -----  \n",
      " 0   Date    656436 non-null  object \n",
      " 1   prec    592124 non-null  float64\n",
      " 2   ID      656436 non-null  int64  \n",
      " 3   LAT     656436 non-null  float64\n",
      " 4   LON     656436 non-null  float64\n",
      "dtypes: float64(3), int64(1), object(1)\n",
      "memory usage: 25.0+ MB\n"
     ]
    }
   ],
   "source": [
    "data.info()"
   ]
  },
  {
   "attachments": {},
   "cell_type": "markdown",
   "metadata": {},
   "source": [
    "Visualizacion de los datos faltantes "
   ]
  },
  {
   "cell_type": "code",
   "execution_count": 7,
   "metadata": {},
   "outputs": [
    {
     "data": {
      "text/plain": [
       "<Figure size 720x432 with 0 Axes>"
      ]
     },
     "metadata": {},
     "output_type": "display_data"
    },
    {
     "data": {
      "image/png": "[encoded data removed]",
      "text/plain": [
       "<Figure size 1800x720 with 2 Axes>"
      ]
     },
     "metadata": {
      "needs_background": "light"
     },
     "output_type": "display_data"
    },
    {
     "data": {
      "text/plain": [
       "<Figure size 720x432 with 0 Axes>"
      ]
     },
     "metadata": {},
     "output_type": "display_data"
    },
    {
     "data": {
      "image/png": "[encoded data removed]",
      "text/plain": [
       "<Figure size 1800x720 with 1 Axes>"
      ]
     },
     "metadata": {
      "needs_background": "light"
     },
     "output_type": "display_data"
    },
    {
     "name": "stdout",
     "output_type": "stream",
     "text": [
      "Date        0\n",
      "prec    64312\n",
      "ID          0\n",
      "LAT         0\n",
      "LON         0\n",
      "dtype: int64\n"
     ]
    }
   ],
   "source": [
    "import pandas as pd\n",
    "import missingno as msno\n",
    "import matplotlib.pyplot as plt\n",
    "\n",
    "# Suponemos que 'data' es tu DataFrame\n",
    "\n",
    "# Visualizar la completitud de los datos con matriz\n",
    "plt.figure(figsize=(10,6))\n",
    "msno.matrix(data)\n",
    "plt.title('Matriz de completitud de los datos', fontsize=20)\n",
    "plt.show()\n",
    "\n",
    "# Agrupar las columnas con datos faltantes similares con dendrograma\n",
    "plt.figure(figsize=(10,6))\n",
    "msno.dendrogram(data)\n",
    "plt.title('Dendrograma de los datos faltantes', fontsize=20)\n",
    "plt.show()\n",
    "\n",
    "# Resumen de la cantidad de datos faltantes por columna\n",
    "print(data.isnull().sum())\n"
   ]
  },
  {
   "attachments": {},
   "cell_type": "markdown",
   "metadata": {},
   "source": [
    "### Correccion de variables para el modelo"
   ]
  },
  {
   "cell_type": "code",
   "execution_count": 95,
   "metadata": {},
   "outputs": [
    {
     "data": {
      "text/html": [
       "<div>\n",
       "<style scoped>\n",
       "    .dataframe tbody tr th:only-of-type {\n",
       "        vertical-align: middle;\n",
       "    }\n",
       "\n",
       "    .dataframe tbody tr th {\n",
       "        vertical-align: top;\n",
       "    }\n",
       "\n",
       "    .dataframe thead th {\n",
       "        text-align: right;\n",
       "    }\n",
       "</style>\n",
       "<table border=\"1\" class=\"dataframe\">\n",
       "  <thead>\n",
       "    <tr style=\"text-align: right;\">\n",
       "      <th></th>\n",
       "      <th>Date</th>\n",
       "      <th>prec</th>\n",
       "      <th>ID</th>\n",
       "      <th>LAT</th>\n",
       "      <th>LON</th>\n",
       "    </tr>\n",
       "  </thead>\n",
       "  <tbody>\n",
       "    <tr>\n",
       "      <th>0</th>\n",
       "      <td>1983-06-09</td>\n",
       "      <td>6.8</td>\n",
       "      <td>32010010</td>\n",
       "      <td>2.562833</td>\n",
       "      <td>-74.103083</td>\n",
       "    </tr>\n",
       "    <tr>\n",
       "      <th>1</th>\n",
       "      <td>1983-06-10</td>\n",
       "      <td>17.8</td>\n",
       "      <td>32010010</td>\n",
       "      <td>2.562833</td>\n",
       "      <td>-74.103083</td>\n",
       "    </tr>\n",
       "    <tr>\n",
       "      <th>2</th>\n",
       "      <td>1983-06-11</td>\n",
       "      <td>0.0</td>\n",
       "      <td>32010010</td>\n",
       "      <td>2.562833</td>\n",
       "      <td>-74.103083</td>\n",
       "    </tr>\n",
       "    <tr>\n",
       "      <th>3</th>\n",
       "      <td>1983-06-12</td>\n",
       "      <td>0.5</td>\n",
       "      <td>32010010</td>\n",
       "      <td>2.562833</td>\n",
       "      <td>-74.103083</td>\n",
       "    </tr>\n",
       "    <tr>\n",
       "      <th>4</th>\n",
       "      <td>1983-06-13</td>\n",
       "      <td>6.9</td>\n",
       "      <td>32010010</td>\n",
       "      <td>2.562833</td>\n",
       "      <td>-74.103083</td>\n",
       "    </tr>\n",
       "  </tbody>\n",
       "</table>\n",
       "</div>"
      ],
      "text/plain": [
       "         Date  prec        ID       LAT        LON\n",
       "0  1983-06-09   6.8  32010010  2.562833 -74.103083\n",
       "1  1983-06-10  17.8  32010010  2.562833 -74.103083\n",
       "2  1983-06-11   0.0  32010010  2.562833 -74.103083\n",
       "3  1983-06-12   0.5  32010010  2.562833 -74.103083\n",
       "4  1983-06-13   6.9  32010010  2.562833 -74.103083"
      ]
     },
     "execution_count": 95,
     "metadata": {},
     "output_type": "execute_result"
    }
   ],
   "source": [
    "data.head(5)"
   ]
  },
  {
   "cell_type": "code",
   "execution_count": 96,
   "metadata": {},
   "outputs": [
    {
     "name": "stdout",
     "output_type": "stream",
     "text": [
      "<class 'pandas.core.frame.DataFrame'>\n",
      "RangeIndex: 656436 entries, 0 to 656435\n",
      "Data columns (total 5 columns):\n",
      " #   Column  Non-Null Count   Dtype  \n",
      "---  ------  --------------   -----  \n",
      " 0   Date    656436 non-null  object \n",
      " 1   prec    592124 non-null  float64\n",
      " 2   ID      656436 non-null  int64  \n",
      " 3   LAT     656436 non-null  float64\n",
      " 4   LON     656436 non-null  float64\n",
      "dtypes: float64(3), int64(1), object(1)\n",
      "memory usage: 25.0+ MB\n"
     ]
    }
   ],
   "source": [
    "data.info()"
   ]
  },
  {
   "cell_type": "code",
   "execution_count": 8,
   "metadata": {},
   "outputs": [],
   "source": [
    "# Asegurarte de que 'Date' es una columna datetime\n",
    "data['Date'] = pd.to_datetime(data['Date'])\n",
    "\n",
    "# Crear nuevas columnas para el año, mes y día\n",
    "data['Year'] = data['Date'].dt.year\n",
    "data['Month'] = data['Date'].dt.month\n",
    "data['Day'] = data['Date'].dt.day\n",
    "\n",
    "# Crear un nuevo dataframe con las columnas deseadas\n",
    "new_data = data[['ID', 'Year', 'Month', 'Day', 'prec', 'LAT', 'LON']].copy()\n"
   ]
  },
  {
   "cell_type": "code",
   "execution_count": 9,
   "metadata": {},
   "outputs": [],
   "source": [
    "new_data = new_data.sort_values('ID')\n"
   ]
  },
  {
   "cell_type": "code",
   "execution_count": 10,
   "metadata": {},
   "outputs": [
    {
     "data": {
      "text/html": [
       "<div>\n",
       "<style scoped>\n",
       "    .dataframe tbody tr th:only-of-type {\n",
       "        vertical-align: middle;\n",
       "    }\n",
       "\n",
       "    .dataframe tbody tr th {\n",
       "        vertical-align: top;\n",
       "    }\n",
       "\n",
       "    .dataframe thead th {\n",
       "        text-align: right;\n",
       "    }\n",
       "</style>\n",
       "<table border=\"1\" class=\"dataframe\">\n",
       "  <thead>\n",
       "    <tr style=\"text-align: right;\">\n",
       "      <th></th>\n",
       "      <th>ID</th>\n",
       "      <th>Year</th>\n",
       "      <th>Month</th>\n",
       "      <th>Day</th>\n",
       "      <th>prec</th>\n",
       "      <th>LAT</th>\n",
       "      <th>LON</th>\n",
       "    </tr>\n",
       "  </thead>\n",
       "  <tbody>\n",
       "    <tr>\n",
       "      <th>0</th>\n",
       "      <td>32010010</td>\n",
       "      <td>1983</td>\n",
       "      <td>6</td>\n",
       "      <td>9</td>\n",
       "      <td>6.8</td>\n",
       "      <td>2.562833</td>\n",
       "      <td>-74.103083</td>\n",
       "    </tr>\n",
       "    <tr>\n",
       "      <th>8045</th>\n",
       "      <td>32010010</td>\n",
       "      <td>2005</td>\n",
       "      <td>6</td>\n",
       "      <td>18</td>\n",
       "      <td>8.0</td>\n",
       "      <td>2.562833</td>\n",
       "      <td>-74.103083</td>\n",
       "    </tr>\n",
       "    <tr>\n",
       "      <th>8046</th>\n",
       "      <td>32010010</td>\n",
       "      <td>2005</td>\n",
       "      <td>6</td>\n",
       "      <td>19</td>\n",
       "      <td>12.0</td>\n",
       "      <td>2.562833</td>\n",
       "      <td>-74.103083</td>\n",
       "    </tr>\n",
       "    <tr>\n",
       "      <th>8047</th>\n",
       "      <td>32010010</td>\n",
       "      <td>2005</td>\n",
       "      <td>6</td>\n",
       "      <td>20</td>\n",
       "      <td>0.0</td>\n",
       "      <td>2.562833</td>\n",
       "      <td>-74.103083</td>\n",
       "    </tr>\n",
       "    <tr>\n",
       "      <th>8048</th>\n",
       "      <td>32010010</td>\n",
       "      <td>2005</td>\n",
       "      <td>6</td>\n",
       "      <td>21</td>\n",
       "      <td>4.0</td>\n",
       "      <td>2.562833</td>\n",
       "      <td>-74.103083</td>\n",
       "    </tr>\n",
       "    <tr>\n",
       "      <th>8049</th>\n",
       "      <td>32010010</td>\n",
       "      <td>2005</td>\n",
       "      <td>6</td>\n",
       "      <td>22</td>\n",
       "      <td>0.0</td>\n",
       "      <td>2.562833</td>\n",
       "      <td>-74.103083</td>\n",
       "    </tr>\n",
       "    <tr>\n",
       "      <th>8050</th>\n",
       "      <td>32010010</td>\n",
       "      <td>2005</td>\n",
       "      <td>6</td>\n",
       "      <td>23</td>\n",
       "      <td>3.0</td>\n",
       "      <td>2.562833</td>\n",
       "      <td>-74.103083</td>\n",
       "    </tr>\n",
       "    <tr>\n",
       "      <th>8051</th>\n",
       "      <td>32010010</td>\n",
       "      <td>2005</td>\n",
       "      <td>6</td>\n",
       "      <td>24</td>\n",
       "      <td>41.0</td>\n",
       "      <td>2.562833</td>\n",
       "      <td>-74.103083</td>\n",
       "    </tr>\n",
       "    <tr>\n",
       "      <th>8052</th>\n",
       "      <td>32010010</td>\n",
       "      <td>2005</td>\n",
       "      <td>6</td>\n",
       "      <td>25</td>\n",
       "      <td>8.0</td>\n",
       "      <td>2.562833</td>\n",
       "      <td>-74.103083</td>\n",
       "    </tr>\n",
       "    <tr>\n",
       "      <th>8053</th>\n",
       "      <td>32010010</td>\n",
       "      <td>2005</td>\n",
       "      <td>6</td>\n",
       "      <td>26</td>\n",
       "      <td>3.0</td>\n",
       "      <td>2.562833</td>\n",
       "      <td>-74.103083</td>\n",
       "    </tr>\n",
       "  </tbody>\n",
       "</table>\n",
       "</div>"
      ],
      "text/plain": [
       "            ID  Year  Month  Day  prec       LAT        LON\n",
       "0     32010010  1983      6    9   6.8  2.562833 -74.103083\n",
       "8045  32010010  2005      6   18   8.0  2.562833 -74.103083\n",
       "8046  32010010  2005      6   19  12.0  2.562833 -74.103083\n",
       "8047  32010010  2005      6   20   0.0  2.562833 -74.103083\n",
       "8048  32010010  2005      6   21   4.0  2.562833 -74.103083\n",
       "8049  32010010  2005      6   22   0.0  2.562833 -74.103083\n",
       "8050  32010010  2005      6   23   3.0  2.562833 -74.103083\n",
       "8051  32010010  2005      6   24  41.0  2.562833 -74.103083\n",
       "8052  32010010  2005      6   25   8.0  2.562833 -74.103083\n",
       "8053  32010010  2005      6   26   3.0  2.562833 -74.103083"
      ]
     },
     "execution_count": 10,
     "metadata": {},
     "output_type": "execute_result"
    }
   ],
   "source": [
    "new_data.head(10)"
   ]
  },
  {
   "cell_type": "code",
   "execution_count": 11,
   "metadata": {},
   "outputs": [],
   "source": [
    "new_data = new_data.rename(columns={\n",
    "    'Year': 'Año',\n",
    "    'Month': 'Mes',\n",
    "    'Day': 'Día',\n",
    "    'prec': 'prec',\n",
    "    'LAT': 'LAT',\n",
    "    'LON': 'LON'\n",
    "})\n",
    "\n",
    "\n",
    "new_data2 = new_data.rename(columns={\n",
    "    'Year': 'Año',\n",
    "    'Month': 'Mes',\n",
    "    'Day': 'Día',\n",
    "    'prec': 'prec',\n",
    "    'LAT': 'LAT',\n",
    "    'LON': 'LON',\n",
    "    'ID': 'ID'\n",
    "})\n"
   ]
  },
  {
   "cell_type": "code",
   "execution_count": 164,
   "metadata": {},
   "outputs": [
    {
     "ename": "KeyError",
     "evalue": "\"['temperatura'] not in index\"",
     "output_type": "error",
     "traceback": [
      "\u001b[1;31m---------------------------------------------------------------------------\u001b[0m",
      "\u001b[1;31mKeyError\u001b[0m                                  Traceback (most recent call last)",
      "Input \u001b[1;32mIn [164]\u001b[0m, in \u001b[0;36m<cell line: 1>\u001b[1;34m()\u001b[0m\n\u001b[1;32m----> 1\u001b[0m new_data \u001b[38;5;241m=\u001b[39m \u001b[43mnew_data\u001b[49m\u001b[43m[\u001b[49m\u001b[43m[\u001b[49m\u001b[38;5;124;43m'\u001b[39;49m\u001b[38;5;124;43mAño\u001b[39;49m\u001b[38;5;124;43m'\u001b[39;49m\u001b[43m,\u001b[49m\u001b[43m \u001b[49m\u001b[38;5;124;43m'\u001b[39;49m\u001b[38;5;124;43mMes\u001b[39;49m\u001b[38;5;124;43m'\u001b[39;49m\u001b[43m,\u001b[49m\u001b[43m \u001b[49m\u001b[38;5;124;43m'\u001b[39;49m\u001b[38;5;124;43mDía\u001b[39;49m\u001b[38;5;124;43m'\u001b[39;49m\u001b[43m,\u001b[49m\u001b[43m \u001b[49m\u001b[38;5;124;43m'\u001b[39;49m\u001b[38;5;124;43mprec\u001b[39;49m\u001b[38;5;124;43m'\u001b[39;49m\u001b[43m,\u001b[49m\u001b[43m \u001b[49m\u001b[38;5;124;43m'\u001b[39;49m\u001b[38;5;124;43mLAT\u001b[39;49m\u001b[38;5;124;43m'\u001b[39;49m\u001b[43m,\u001b[49m\u001b[43m \u001b[49m\u001b[38;5;124;43m'\u001b[39;49m\u001b[38;5;124;43mLON\u001b[39;49m\u001b[38;5;124;43m'\u001b[39;49m\u001b[43m,\u001b[49m\u001b[38;5;124;43m'\u001b[39;49m\u001b[38;5;124;43mtemperatura\u001b[39;49m\u001b[38;5;124;43m'\u001b[39;49m\u001b[43m]\u001b[49m\u001b[43m]\u001b[49m\n",
      "File \u001b[1;32mc:\\Users\\ronal\\AppData\\Local\\Programs\\Python\\Python310\\lib\\site-packages\\pandas\\core\\frame.py:3511\u001b[0m, in \u001b[0;36mDataFrame.__getitem__\u001b[1;34m(self, key)\u001b[0m\n\u001b[0;32m   3509\u001b[0m     \u001b[38;5;28;01mif\u001b[39;00m is_iterator(key):\n\u001b[0;32m   3510\u001b[0m         key \u001b[38;5;241m=\u001b[39m \u001b[38;5;28mlist\u001b[39m(key)\n\u001b[1;32m-> 3511\u001b[0m     indexer \u001b[38;5;241m=\u001b[39m \u001b[38;5;28;43mself\u001b[39;49m\u001b[38;5;241;43m.\u001b[39;49m\u001b[43mcolumns\u001b[49m\u001b[38;5;241;43m.\u001b[39;49m\u001b[43m_get_indexer_strict\u001b[49m\u001b[43m(\u001b[49m\u001b[43mkey\u001b[49m\u001b[43m,\u001b[49m\u001b[43m \u001b[49m\u001b[38;5;124;43m\"\u001b[39;49m\u001b[38;5;124;43mcolumns\u001b[39;49m\u001b[38;5;124;43m\"\u001b[39;49m\u001b[43m)\u001b[49m[\u001b[38;5;241m1\u001b[39m]\n\u001b[0;32m   3513\u001b[0m \u001b[38;5;66;03m# take() does not accept boolean indexers\u001b[39;00m\n\u001b[0;32m   3514\u001b[0m \u001b[38;5;28;01mif\u001b[39;00m \u001b[38;5;28mgetattr\u001b[39m(indexer, \u001b[38;5;124m\"\u001b[39m\u001b[38;5;124mdtype\u001b[39m\u001b[38;5;124m\"\u001b[39m, \u001b[38;5;28;01mNone\u001b[39;00m) \u001b[38;5;241m==\u001b[39m \u001b[38;5;28mbool\u001b[39m:\n",
      "File \u001b[1;32mc:\\Users\\ronal\\AppData\\Local\\Programs\\Python\\Python310\\lib\\site-packages\\pandas\\core\\indexes\\base.py:5782\u001b[0m, in \u001b[0;36mIndex._get_indexer_strict\u001b[1;34m(self, key, axis_name)\u001b[0m\n\u001b[0;32m   5779\u001b[0m \u001b[38;5;28;01melse\u001b[39;00m:\n\u001b[0;32m   5780\u001b[0m     keyarr, indexer, new_indexer \u001b[38;5;241m=\u001b[39m \u001b[38;5;28mself\u001b[39m\u001b[38;5;241m.\u001b[39m_reindex_non_unique(keyarr)\n\u001b[1;32m-> 5782\u001b[0m \u001b[38;5;28;43mself\u001b[39;49m\u001b[38;5;241;43m.\u001b[39;49m\u001b[43m_raise_if_missing\u001b[49m\u001b[43m(\u001b[49m\u001b[43mkeyarr\u001b[49m\u001b[43m,\u001b[49m\u001b[43m \u001b[49m\u001b[43mindexer\u001b[49m\u001b[43m,\u001b[49m\u001b[43m \u001b[49m\u001b[43maxis_name\u001b[49m\u001b[43m)\u001b[49m\n\u001b[0;32m   5784\u001b[0m keyarr \u001b[38;5;241m=\u001b[39m \u001b[38;5;28mself\u001b[39m\u001b[38;5;241m.\u001b[39mtake(indexer)\n\u001b[0;32m   5785\u001b[0m \u001b[38;5;28;01mif\u001b[39;00m \u001b[38;5;28misinstance\u001b[39m(key, Index):\n\u001b[0;32m   5786\u001b[0m     \u001b[38;5;66;03m# GH 42790 - Preserve name from an Index\u001b[39;00m\n",
      "File \u001b[1;32mc:\\Users\\ronal\\AppData\\Local\\Programs\\Python\\Python310\\lib\\site-packages\\pandas\\core\\indexes\\base.py:5845\u001b[0m, in \u001b[0;36mIndex._raise_if_missing\u001b[1;34m(self, key, indexer, axis_name)\u001b[0m\n\u001b[0;32m   5842\u001b[0m     \u001b[38;5;28;01mraise\u001b[39;00m \u001b[38;5;167;01mKeyError\u001b[39;00m(\u001b[38;5;124mf\u001b[39m\u001b[38;5;124m\"\u001b[39m\u001b[38;5;124mNone of [\u001b[39m\u001b[38;5;132;01m{\u001b[39;00mkey\u001b[38;5;132;01m}\u001b[39;00m\u001b[38;5;124m] are in the [\u001b[39m\u001b[38;5;132;01m{\u001b[39;00maxis_name\u001b[38;5;132;01m}\u001b[39;00m\u001b[38;5;124m]\u001b[39m\u001b[38;5;124m\"\u001b[39m)\n\u001b[0;32m   5844\u001b[0m not_found \u001b[38;5;241m=\u001b[39m \u001b[38;5;28mlist\u001b[39m(ensure_index(key)[missing_mask\u001b[38;5;241m.\u001b[39mnonzero()[\u001b[38;5;241m0\u001b[39m]]\u001b[38;5;241m.\u001b[39munique())\n\u001b[1;32m-> 5845\u001b[0m \u001b[38;5;28;01mraise\u001b[39;00m \u001b[38;5;167;01mKeyError\u001b[39;00m(\u001b[38;5;124mf\u001b[39m\u001b[38;5;124m\"\u001b[39m\u001b[38;5;132;01m{\u001b[39;00mnot_found\u001b[38;5;132;01m}\u001b[39;00m\u001b[38;5;124m not in index\u001b[39m\u001b[38;5;124m\"\u001b[39m)\n",
      "\u001b[1;31mKeyError\u001b[0m: \"['temperatura'] not in index\""
     ]
    }
   ],
   "source": [
    "new_data = new_data[['Año', 'Mes', 'Día', 'prec', 'LAT', 'LON','temperatura']]\n"
   ]
  },
  {
   "cell_type": "code",
   "execution_count": 102,
   "metadata": {},
   "outputs": [],
   "source": [
    "import pandas as pd\n",
    "\n",
    "# Suponiendo que df es tu DataFrame existente\n",
    "# Puedes crear una nueva columna, por ejemplo, 'NUEVA_LON', que copie los valores de 'LON'\n",
    "\n",
    "new_data['temperatura'] = new_data['LON']\n",
    "\n",
    "# Ahora, df tiene una nueva columna llamada 'NUEVA_LON' con los mismos valores que la columna 'LON'\n"
   ]
  },
  {
   "cell_type": "code",
   "execution_count": 12,
   "metadata": {},
   "outputs": [
    {
     "data": {
      "text/plain": [
       "<Figure size 720x432 with 0 Axes>"
      ]
     },
     "metadata": {},
     "output_type": "display_data"
    },
    {
     "data": {
      "image/png": "[encoded data removed]",
      "text/plain": [
       "<Figure size 1800x720 with 2 Axes>"
      ]
     },
     "metadata": {
      "needs_background": "light"
     },
     "output_type": "display_data"
    },
    {
     "data": {
      "text/plain": [
       "<Figure size 720x432 with 0 Axes>"
      ]
     },
     "metadata": {},
     "output_type": "display_data"
    },
    {
     "data": {
      "image/png": "[encoded data removed]",
      "text/plain": [
       "<Figure size 1800x720 with 1 Axes>"
      ]
     },
     "metadata": {
      "needs_background": "light"
     },
     "output_type": "display_data"
    },
    {
     "name": "stdout",
     "output_type": "stream",
     "text": [
      "ID          0\n",
      "Año         0\n",
      "Mes         0\n",
      "Día         0\n",
      "prec    64312\n",
      "LAT         0\n",
      "LON         0\n",
      "dtype: int64\n"
     ]
    }
   ],
   "source": [
    "\n",
    "\n",
    "import pandas as pd\n",
    "import missingno as msno\n",
    "import matplotlib.pyplot as plt\n",
    "\n",
    "# Suponemos que 'data' es tu DataFrame\n",
    "\n",
    "# Visualizar la completitud de los datos con matriz\n",
    "plt.figure(figsize=(10,6))\n",
    "msno.matrix(new_data)\n",
    "plt.title('Matriz de completitud de los datos', fontsize=20)\n",
    "plt.show()\n",
    "\n",
    "# Agrupar las columnas con datos faltantes similares con dendrograma\n",
    "plt.figure(figsize=(10,6))\n",
    "msno.dendrogram(new_data)\n",
    "plt.title('Dendrograma de los datos faltantes', fontsize=20)\n",
    "plt.show()\n",
    "\n",
    "# Resumen de la cantidad de datos faltantes por columna\n",
    "print(new_data.isnull().sum())"
   ]
  },
  {
   "cell_type": "code",
   "execution_count": 13,
   "metadata": {},
   "outputs": [],
   "source": [
    "new_data2 = new_data2[['Año', 'Mes', 'Día', 'prec', 'LAT', 'LON','ID']]\n"
   ]
  },
  {
   "cell_type": "code",
   "execution_count": 14,
   "metadata": {},
   "outputs": [
    {
     "data": {
      "text/html": [
       "<div>\n",
       "<style scoped>\n",
       "    .dataframe tbody tr th:only-of-type {\n",
       "        vertical-align: middle;\n",
       "    }\n",
       "\n",
       "    .dataframe tbody tr th {\n",
       "        vertical-align: top;\n",
       "    }\n",
       "\n",
       "    .dataframe thead th {\n",
       "        text-align: right;\n",
       "    }\n",
       "</style>\n",
       "<table border=\"1\" class=\"dataframe\">\n",
       "  <thead>\n",
       "    <tr style=\"text-align: right;\">\n",
       "      <th></th>\n",
       "      <th>Año</th>\n",
       "      <th>Mes</th>\n",
       "      <th>Día</th>\n",
       "      <th>prec</th>\n",
       "      <th>LAT</th>\n",
       "      <th>LON</th>\n",
       "      <th>ID</th>\n",
       "    </tr>\n",
       "  </thead>\n",
       "  <tbody>\n",
       "    <tr>\n",
       "      <th>0</th>\n",
       "      <td>1983</td>\n",
       "      <td>6</td>\n",
       "      <td>9</td>\n",
       "      <td>6.8</td>\n",
       "      <td>2.562833</td>\n",
       "      <td>-74.103083</td>\n",
       "      <td>32010010</td>\n",
       "    </tr>\n",
       "    <tr>\n",
       "      <th>8045</th>\n",
       "      <td>2005</td>\n",
       "      <td>6</td>\n",
       "      <td>18</td>\n",
       "      <td>8.0</td>\n",
       "      <td>2.562833</td>\n",
       "      <td>-74.103083</td>\n",
       "      <td>32010010</td>\n",
       "    </tr>\n",
       "    <tr>\n",
       "      <th>8046</th>\n",
       "      <td>2005</td>\n",
       "      <td>6</td>\n",
       "      <td>19</td>\n",
       "      <td>12.0</td>\n",
       "      <td>2.562833</td>\n",
       "      <td>-74.103083</td>\n",
       "      <td>32010010</td>\n",
       "    </tr>\n",
       "    <tr>\n",
       "      <th>8047</th>\n",
       "      <td>2005</td>\n",
       "      <td>6</td>\n",
       "      <td>20</td>\n",
       "      <td>0.0</td>\n",
       "      <td>2.562833</td>\n",
       "      <td>-74.103083</td>\n",
       "      <td>32010010</td>\n",
       "    </tr>\n",
       "    <tr>\n",
       "      <th>8048</th>\n",
       "      <td>2005</td>\n",
       "      <td>6</td>\n",
       "      <td>21</td>\n",
       "      <td>4.0</td>\n",
       "      <td>2.562833</td>\n",
       "      <td>-74.103083</td>\n",
       "      <td>32010010</td>\n",
       "    </tr>\n",
       "    <tr>\n",
       "      <th>...</th>\n",
       "      <td>...</td>\n",
       "      <td>...</td>\n",
       "      <td>...</td>\n",
       "      <td>...</td>\n",
       "      <td>...</td>\n",
       "      <td>...</td>\n",
       "      <td>...</td>\n",
       "    </tr>\n",
       "    <tr>\n",
       "      <th>654272</th>\n",
       "      <td>2008</td>\n",
       "      <td>8</td>\n",
       "      <td>15</td>\n",
       "      <td>NaN</td>\n",
       "      <td>4.260361</td>\n",
       "      <td>-72.564472</td>\n",
       "      <td>35185010</td>\n",
       "    </tr>\n",
       "    <tr>\n",
       "      <th>654273</th>\n",
       "      <td>2008</td>\n",
       "      <td>8</td>\n",
       "      <td>16</td>\n",
       "      <td>NaN</td>\n",
       "      <td>4.260361</td>\n",
       "      <td>-72.564472</td>\n",
       "      <td>35185010</td>\n",
       "    </tr>\n",
       "    <tr>\n",
       "      <th>654274</th>\n",
       "      <td>2008</td>\n",
       "      <td>8</td>\n",
       "      <td>17</td>\n",
       "      <td>NaN</td>\n",
       "      <td>4.260361</td>\n",
       "      <td>-72.564472</td>\n",
       "      <td>35185010</td>\n",
       "    </tr>\n",
       "    <tr>\n",
       "      <th>654264</th>\n",
       "      <td>2008</td>\n",
       "      <td>8</td>\n",
       "      <td>7</td>\n",
       "      <td>0.1</td>\n",
       "      <td>4.260361</td>\n",
       "      <td>-72.564472</td>\n",
       "      <td>35185010</td>\n",
       "    </tr>\n",
       "    <tr>\n",
       "      <th>656435</th>\n",
       "      <td>2014</td>\n",
       "      <td>7</td>\n",
       "      <td>18</td>\n",
       "      <td>0.0</td>\n",
       "      <td>4.260361</td>\n",
       "      <td>-72.564472</td>\n",
       "      <td>35185010</td>\n",
       "    </tr>\n",
       "  </tbody>\n",
       "</table>\n",
       "<p>656436 rows × 7 columns</p>\n",
       "</div>"
      ],
      "text/plain": [
       "         Año  Mes  Día  prec       LAT        LON        ID\n",
       "0       1983    6    9   6.8  2.562833 -74.103083  32010010\n",
       "8045    2005    6   18   8.0  2.562833 -74.103083  32010010\n",
       "8046    2005    6   19  12.0  2.562833 -74.103083  32010010\n",
       "8047    2005    6   20   0.0  2.562833 -74.103083  32010010\n",
       "8048    2005    6   21   4.0  2.562833 -74.103083  32010010\n",
       "...      ...  ...  ...   ...       ...        ...       ...\n",
       "654272  2008    8   15   NaN  4.260361 -72.564472  35185010\n",
       "654273  2008    8   16   NaN  4.260361 -72.564472  35185010\n",
       "654274  2008    8   17   NaN  4.260361 -72.564472  35185010\n",
       "654264  2008    8    7   0.1  4.260361 -72.564472  35185010\n",
       "656435  2014    7   18   0.0  4.260361 -72.564472  35185010\n",
       "\n",
       "[656436 rows x 7 columns]"
      ]
     },
     "execution_count": 14,
     "metadata": {},
     "output_type": "execute_result"
    }
   ],
   "source": [
    "new_data2"
   ]
  },
  {
   "cell_type": "code",
   "execution_count": 15,
   "metadata": {},
   "outputs": [
    {
     "data": {
      "text/html": [
       "<div>\n",
       "<style scoped>\n",
       "    .dataframe tbody tr th:only-of-type {\n",
       "        vertical-align: middle;\n",
       "    }\n",
       "\n",
       "    .dataframe tbody tr th {\n",
       "        vertical-align: top;\n",
       "    }\n",
       "\n",
       "    .dataframe thead th {\n",
       "        text-align: right;\n",
       "    }\n",
       "</style>\n",
       "<table border=\"1\" class=\"dataframe\">\n",
       "  <thead>\n",
       "    <tr style=\"text-align: right;\">\n",
       "      <th></th>\n",
       "      <th>ID</th>\n",
       "      <th>Año</th>\n",
       "      <th>Mes</th>\n",
       "      <th>Día</th>\n",
       "      <th>prec</th>\n",
       "      <th>LAT</th>\n",
       "      <th>LON</th>\n",
       "    </tr>\n",
       "  </thead>\n",
       "  <tbody>\n",
       "    <tr>\n",
       "      <th>0</th>\n",
       "      <td>32010010</td>\n",
       "      <td>1983</td>\n",
       "      <td>6</td>\n",
       "      <td>9</td>\n",
       "      <td>6.8</td>\n",
       "      <td>2.562833</td>\n",
       "      <td>-74.103083</td>\n",
       "    </tr>\n",
       "    <tr>\n",
       "      <th>8045</th>\n",
       "      <td>32010010</td>\n",
       "      <td>2005</td>\n",
       "      <td>6</td>\n",
       "      <td>18</td>\n",
       "      <td>8.0</td>\n",
       "      <td>2.562833</td>\n",
       "      <td>-74.103083</td>\n",
       "    </tr>\n",
       "    <tr>\n",
       "      <th>8046</th>\n",
       "      <td>32010010</td>\n",
       "      <td>2005</td>\n",
       "      <td>6</td>\n",
       "      <td>19</td>\n",
       "      <td>12.0</td>\n",
       "      <td>2.562833</td>\n",
       "      <td>-74.103083</td>\n",
       "    </tr>\n",
       "    <tr>\n",
       "      <th>8047</th>\n",
       "      <td>32010010</td>\n",
       "      <td>2005</td>\n",
       "      <td>6</td>\n",
       "      <td>20</td>\n",
       "      <td>0.0</td>\n",
       "      <td>2.562833</td>\n",
       "      <td>-74.103083</td>\n",
       "    </tr>\n",
       "    <tr>\n",
       "      <th>8048</th>\n",
       "      <td>32010010</td>\n",
       "      <td>2005</td>\n",
       "      <td>6</td>\n",
       "      <td>21</td>\n",
       "      <td>4.0</td>\n",
       "      <td>2.562833</td>\n",
       "      <td>-74.103083</td>\n",
       "    </tr>\n",
       "  </tbody>\n",
       "</table>\n",
       "</div>"
      ],
      "text/plain": [
       "            ID   Año  Mes  Día  prec       LAT        LON\n",
       "0     32010010  1983    6    9   6.8  2.562833 -74.103083\n",
       "8045  32010010  2005    6   18   8.0  2.562833 -74.103083\n",
       "8046  32010010  2005    6   19  12.0  2.562833 -74.103083\n",
       "8047  32010010  2005    6   20   0.0  2.562833 -74.103083\n",
       "8048  32010010  2005    6   21   4.0  2.562833 -74.103083"
      ]
     },
     "execution_count": 15,
     "metadata": {},
     "output_type": "execute_result"
    }
   ],
   "source": [
    "new_data.head(5)"
   ]
  },
  {
   "cell_type": "code",
   "execution_count": 16,
   "metadata": {},
   "outputs": [
    {
     "name": "stdout",
     "output_type": "stream",
     "text": [
      "<class 'pandas.core.frame.DataFrame'>\n",
      "Int64Index: 656436 entries, 0 to 656435\n",
      "Data columns (total 7 columns):\n",
      " #   Column  Non-Null Count   Dtype  \n",
      "---  ------  --------------   -----  \n",
      " 0   ID      656436 non-null  int64  \n",
      " 1   Año     656436 non-null  int64  \n",
      " 2   Mes     656436 non-null  int64  \n",
      " 3   Día     656436 non-null  int64  \n",
      " 4   prec    592124 non-null  float64\n",
      " 5   LAT     656436 non-null  float64\n",
      " 6   LON     656436 non-null  float64\n",
      "dtypes: float64(3), int64(4)\n",
      "memory usage: 40.1 MB\n"
     ]
    }
   ],
   "source": [
    "new_data.info()"
   ]
  },
  {
   "attachments": {},
   "cell_type": "markdown",
   "metadata": {},
   "source": [
    "### Separacion de datos completos y faltantes"
   ]
  },
  {
   "cell_type": "markdown",
   "metadata": {},
   "source": [
    "Surge de la necesidad de tener la data completa para tener el registro de los datos observados reales, los cuales son los que brindaran el soporte a las matricas estadisticas de desempeño como el RMSE,MAE,PRMSE"
   ]
  },
  {
   "cell_type": "code",
   "execution_count": 17,
   "metadata": {},
   "outputs": [
    {
     "ename": "NameError",
     "evalue": "name 'data_completa' is not defined",
     "output_type": "error",
     "traceback": [
      "\u001b[1;31m---------------------------------------------------------------------------\u001b[0m",
      "\u001b[1;31mNameError\u001b[0m                                 Traceback (most recent call last)",
      "Input \u001b[1;32mIn [17]\u001b[0m, in \u001b[0;36m<cell line: 1>\u001b[1;34m()\u001b[0m\n\u001b[1;32m----> 1\u001b[0m \u001b[43mdata_completa\u001b[49m\u001b[38;5;241m.\u001b[39minfo()\n",
      "\u001b[1;31mNameError\u001b[0m: name 'data_completa' is not defined"
     ]
    }
   ],
   "source": [
    "data_completa.info()"
   ]
  },
  {
   "cell_type": "code",
   "execution_count": 18,
   "metadata": {},
   "outputs": [],
   "source": [
    "# Separar los datos completos de los datos con valores faltantes en 'Prec'\n",
    "data_completa = new_data.dropna(subset=['prec'])\n",
    "data_faltantes = new_data[new_data['prec'].isna()]\n",
    "\n",
    "#Que incluya la variable ID\n",
    "\n",
    "data_completa2 = new_data2.dropna(subset=['prec'])\n",
    "data_faltantes2 = new_data2[new_data['prec'].isna()]\n"
   ]
  },
  {
   "cell_type": "code",
   "execution_count": 19,
   "metadata": {},
   "outputs": [
    {
     "name": "stdout",
     "output_type": "stream",
     "text": [
      "<class 'pandas.core.frame.DataFrame'>\n",
      "Int64Index: 64312 entries, 8801 to 654274\n",
      "Data columns (total 7 columns):\n",
      " #   Column  Non-Null Count  Dtype  \n",
      "---  ------  --------------  -----  \n",
      " 0   ID      64312 non-null  int64  \n",
      " 1   Año     64312 non-null  int64  \n",
      " 2   Mes     64312 non-null  int64  \n",
      " 3   Día     64312 non-null  int64  \n",
      " 4   prec    0 non-null      float64\n",
      " 5   LAT     64312 non-null  float64\n",
      " 6   LON     64312 non-null  float64\n",
      "dtypes: float64(3), int64(4)\n",
      "memory usage: 3.9 MB\n"
     ]
    }
   ],
   "source": [
    "data_faltantes.info()"
   ]
  },
  {
   "cell_type": "code",
   "execution_count": 20,
   "metadata": {},
   "outputs": [
    {
     "name": "stdout",
     "output_type": "stream",
     "text": [
      "<class 'pandas.core.frame.DataFrame'>\n",
      "Int64Index: 592124 entries, 0 to 656435\n",
      "Data columns (total 7 columns):\n",
      " #   Column  Non-Null Count   Dtype  \n",
      "---  ------  --------------   -----  \n",
      " 0   ID      592124 non-null  int64  \n",
      " 1   Año     592124 non-null  int64  \n",
      " 2   Mes     592124 non-null  int64  \n",
      " 3   Día     592124 non-null  int64  \n",
      " 4   prec    592124 non-null  float64\n",
      " 5   LAT     592124 non-null  float64\n",
      " 6   LON     592124 non-null  float64\n",
      "dtypes: float64(3), int64(4)\n",
      "memory usage: 36.1 MB\n"
     ]
    }
   ],
   "source": [
    "data_completa.info()"
   ]
  },
  {
   "cell_type": "markdown",
   "metadata": {},
   "source": [
    "#### Prueba de aletoriedad "
   ]
  },
  {
   "cell_type": "code",
   "execution_count": 28,
   "metadata": {},
   "outputs": [],
   "source": [
    "import missingno as msno\n",
    "import numpy as np\n",
    "import scipy.stats as stats\n",
    "\n",
    "\n",
    "# Prueba de littler\n"
   ]
  },
  {
   "attachments": {},
   "cell_type": "markdown",
   "metadata": {},
   "source": [
    "Ahora para simular los datos faltantes reales del 8.27%, se imputaran el 10% de datos faltantes por medio de una funcion aletoria para un total de 59.212 datos faltantes, la funcion toma aletoriamente las posiciones de la variable seleccionada y realizara un extraccion de la informacion, dejando asi un registro faltante como resultado.\n",
    "\n",
    "Esto con el objetivo de simular la situacion del modelo en una naturaleza de los datos completamente al azar,En el proceso de análisis de datos, especialmente en contextos donde la imputación de datos faltantes es crucial, es importante simular condiciones realistas para evaluar la robustez y eficacia de los métodos de imputación. Esto se logra a través de la inserción controlada de datos faltantes en el conjunto de datos original. La introducción de un porcentaje específico de datos faltantes, en este caso, un 10%, se basa en la necesidad de replicar escenarios comunes en la recopilación de datos donde la ausencia de información puede deberse a errores de medición, fallas de los sensores, o problemas en la transmisión de datos (Rubin, 1976; Little & Rubin, 1987)\\cite{rubin1976, little1987}."
   ]
  },
  {
   "cell_type": "code",
   "execution_count": 189,
   "metadata": {},
   "outputs": [],
   "source": [
    "import numpy as np\n",
    "import pandas as pd\n",
    "\n",
    "def insertar_nan_aleatoriamente(df, nombre_columna, fraccion, semilla=42):\n",
    "    np.random.seed(semilla)  # Establecer la semilla\n",
    "    df = df.copy()\n",
    "    df['Original'] = df[nombre_columna]\n",
    "    indices_a_modificar = df[nombre_columna].dropna().sample(frac=fraccion).index\n",
    "    df.loc[indices_a_modificar, nombre_columna] = np.nan\n",
    "    return df\n",
    "\n",
    "#Esta función con la misma semilla\n",
    "data_completa_mod = insertar_nan_aleatoriamente(data_completa, 'prec', 0.1)\n",
    "data_completa_mod2 = insertar_nan_aleatoriamente(data_completa2, 'prec', 0.1)\n"
   ]
  },
  {
   "cell_type": "code",
   "execution_count": 190,
   "metadata": {},
   "outputs": [],
   "source": [
    "import numpy as np\n",
    "import pandas as pd\n",
    "\n",
    "def insertar_nan_aleatoriamente(df, nombre_columna, fraccion, semilla=42):\n",
    "    np.random.seed(semilla)  # Establecer la semilla\n",
    "    df = df.copy()\n",
    "    df['Original'] = df[nombre_columna]\n",
    "    indices_a_modificar = df[nombre_columna].dropna().sample(frac=fraccion).index\n",
    "    df.loc[indices_a_modificar, nombre_columna] = np.nan\n",
    "    return df\n",
    "\n",
    "#Esta función con la misma semilla\n",
    "data_completa_modv2 = insertar_nan_aleatoriamente(data_completa, 'prec', 0.1)\n",
    "data_completa_mod2v2 = insertar_nan_aleatoriamente(data_completa2, 'prec', 0.1)\n"
   ]
  },
  {
   "cell_type": "markdown",
   "metadata": {},
   "source": [
    "Version del 15% de datos faltantes"
   ]
  },
  {
   "cell_type": "code",
   "execution_count": 21,
   "metadata": {},
   "outputs": [],
   "source": [
    "import numpy as np\n",
    "import pandas as pd\n",
    "\n",
    "def insertar_nan_aleatoriamente(df, nombre_columna, fraccion, semilla=45):\n",
    "    np.random.seed(semilla)  # Establecer la semilla\n",
    "    df = df.copy()\n",
    "    df['Original'] = df[nombre_columna]\n",
    "    indices_a_modificar = df[nombre_columna].dropna().sample(frac=fraccion).index\n",
    "    df.loc[indices_a_modificar, nombre_columna] = np.nan\n",
    "    return df\n",
    "\n",
    "#Esta función con la misma semilla\n",
    "data_completa_mod_15p = insertar_nan_aleatoriamente(data_completa, 'prec', 0.15)\n",
    "data_completa_mod2_15p = insertar_nan_aleatoriamente(data_completa2, 'prec', 0.15)"
   ]
  },
  {
   "cell_type": "markdown",
   "metadata": {},
   "source": [
    "Version del 20%"
   ]
  },
  {
   "cell_type": "code",
   "execution_count": 22,
   "metadata": {},
   "outputs": [],
   "source": [
    "import numpy as np\n",
    "import pandas as pd\n",
    "\n",
    "def insertar_nan_aleatoriamente(df, nombre_columna, fraccion, semilla=47):\n",
    "    np.random.seed(semilla)  # Establecer la semilla\n",
    "    df = df.copy()\n",
    "    df['Original'] = df[nombre_columna]\n",
    "    indices_a_modificar = df[nombre_columna].dropna().sample(frac=fraccion).index\n",
    "    df.loc[indices_a_modificar, nombre_columna] = np.nan\n",
    "    return df\n",
    "\n",
    "#Esta función con la misma semilla\n",
    "data_completa_mod_20p = insertar_nan_aleatoriamente(data_completa, 'prec', 0.2)\n",
    "data_completa_mod2_20p = insertar_nan_aleatoriamente(data_completa2, 'prec', 0.2)"
   ]
  },
  {
   "cell_type": "code",
   "execution_count": 197,
   "metadata": {},
   "outputs": [
    {
     "data": {
      "text/plain": [
       "592124"
      ]
     },
     "execution_count": 197,
     "metadata": {},
     "output_type": "execute_result"
    }
   ],
   "source": [
    "len(data_completa_mod2_20p)"
   ]
  },
  {
   "cell_type": "code",
   "execution_count": 194,
   "metadata": {},
   "outputs": [
    {
     "data": {
      "text/plain": [
       "592124"
      ]
     },
     "execution_count": 194,
     "metadata": {},
     "output_type": "execute_result"
    }
   ],
   "source": [
    "len(data_completa_mod_20p)"
   ]
  },
  {
   "cell_type": "code",
   "execution_count": 201,
   "metadata": {},
   "outputs": [
    {
     "name": "stdout",
     "output_type": "stream",
     "text": [
      "<class 'pandas.core.frame.DataFrame'>\n",
      "Int64Index: 592124 entries, 0 to 656435\n",
      "Data columns (total 8 columns):\n",
      " #   Column    Non-Null Count   Dtype  \n",
      "---  ------    --------------   -----  \n",
      " 0   Año       592124 non-null  int64  \n",
      " 1   Mes       592124 non-null  int64  \n",
      " 2   Día       592124 non-null  int64  \n",
      " 3   prec      532912 non-null  float64\n",
      " 4   LAT       592124 non-null  float64\n",
      " 5   LON       592124 non-null  float64\n",
      " 6   ID        592124 non-null  int64  \n",
      " 7   Original  592124 non-null  float64\n",
      "dtypes: float64(4), int64(4)\n",
      "memory usage: 56.8 MB\n"
     ]
    }
   ],
   "source": [
    "data_completa_mod2v2.info()"
   ]
  },
  {
   "cell_type": "code",
   "execution_count": 199,
   "metadata": {},
   "outputs": [
    {
     "name": "stdout",
     "output_type": "stream",
     "text": [
      "<class 'pandas.core.frame.DataFrame'>\n",
      "Int64Index: 592124 entries, 0 to 656435\n",
      "Data columns (total 8 columns):\n",
      " #   Column    Non-Null Count   Dtype  \n",
      "---  ------    --------------   -----  \n",
      " 0   ID        592124 non-null  int64  \n",
      " 1   Año       592124 non-null  int64  \n",
      " 2   Mes       592124 non-null  int64  \n",
      " 3   Día       592124 non-null  int64  \n",
      " 4   prec      503305 non-null  float64\n",
      " 5   LAT       592124 non-null  float64\n",
      " 6   LON       592124 non-null  float64\n",
      " 7   Original  592124 non-null  float64\n",
      "dtypes: float64(4), int64(4)\n",
      "memory usage: 56.8 MB\n"
     ]
    }
   ],
   "source": [
    "data_completa_mod_15p.info()"
   ]
  },
  {
   "cell_type": "code",
   "execution_count": 198,
   "metadata": {},
   "outputs": [
    {
     "name": "stdout",
     "output_type": "stream",
     "text": [
      "<class 'pandas.core.frame.DataFrame'>\n",
      "Int64Index: 592124 entries, 0 to 656435\n",
      "Data columns (total 8 columns):\n",
      " #   Column    Non-Null Count   Dtype  \n",
      "---  ------    --------------   -----  \n",
      " 0   ID        592124 non-null  int64  \n",
      " 1   Año       592124 non-null  int64  \n",
      " 2   Mes       592124 non-null  int64  \n",
      " 3   Día       592124 non-null  int64  \n",
      " 4   prec      473699 non-null  float64\n",
      " 5   LAT       592124 non-null  float64\n",
      " 6   LON       592124 non-null  float64\n",
      " 7   Original  592124 non-null  float64\n",
      "dtypes: float64(4), int64(4)\n",
      "memory usage: 56.8 MB\n"
     ]
    }
   ],
   "source": [
    "data_completa_mod_20p.info()"
   ]
  },
  {
   "cell_type": "code",
   "execution_count": 183,
   "metadata": {},
   "outputs": [
    {
     "name": "stdout",
     "output_type": "stream",
     "text": [
      "<class 'pandas.core.frame.DataFrame'>\n",
      "Int64Index: 592124 entries, 0 to 656435\n",
      "Data columns (total 8 columns):\n",
      " #   Column    Non-Null Count   Dtype  \n",
      "---  ------    --------------   -----  \n",
      " 0   ID        592124 non-null  int64  \n",
      " 1   Año       592124 non-null  int64  \n",
      " 2   Mes       592124 non-null  int64  \n",
      " 3   Día       592124 non-null  int64  \n",
      " 4   prec      532912 non-null  float64\n",
      " 5   LAT       592124 non-null  float64\n",
      " 6   LON       592124 non-null  float64\n",
      " 7   Original  592124 non-null  float64\n",
      "dtypes: float64(4), int64(4)\n",
      "memory usage: 56.8 MB\n"
     ]
    },
    {
     "data": {
      "text/html": [
       "<div>\n",
       "<style scoped>\n",
       "    .dataframe tbody tr th:only-of-type {\n",
       "        vertical-align: middle;\n",
       "    }\n",
       "\n",
       "    .dataframe tbody tr th {\n",
       "        vertical-align: top;\n",
       "    }\n",
       "\n",
       "    .dataframe thead th {\n",
       "        text-align: right;\n",
       "    }\n",
       "</style>\n",
       "<table border=\"1\" class=\"dataframe\">\n",
       "  <thead>\n",
       "    <tr style=\"text-align: right;\">\n",
       "      <th></th>\n",
       "      <th>ID</th>\n",
       "      <th>Año</th>\n",
       "      <th>Mes</th>\n",
       "      <th>Día</th>\n",
       "      <th>prec</th>\n",
       "      <th>LAT</th>\n",
       "      <th>LON</th>\n",
       "      <th>Original</th>\n",
       "    </tr>\n",
       "  </thead>\n",
       "  <tbody>\n",
       "    <tr>\n",
       "      <th>0</th>\n",
       "      <td>32010010</td>\n",
       "      <td>1983</td>\n",
       "      <td>6</td>\n",
       "      <td>9</td>\n",
       "      <td>6.8</td>\n",
       "      <td>2.562833</td>\n",
       "      <td>-74.103083</td>\n",
       "      <td>6.8</td>\n",
       "    </tr>\n",
       "    <tr>\n",
       "      <th>8045</th>\n",
       "      <td>32010010</td>\n",
       "      <td>2005</td>\n",
       "      <td>6</td>\n",
       "      <td>18</td>\n",
       "      <td>8.0</td>\n",
       "      <td>2.562833</td>\n",
       "      <td>-74.103083</td>\n",
       "      <td>8.0</td>\n",
       "    </tr>\n",
       "    <tr>\n",
       "      <th>8046</th>\n",
       "      <td>32010010</td>\n",
       "      <td>2005</td>\n",
       "      <td>6</td>\n",
       "      <td>19</td>\n",
       "      <td>NaN</td>\n",
       "      <td>2.562833</td>\n",
       "      <td>-74.103083</td>\n",
       "      <td>12.0</td>\n",
       "    </tr>\n",
       "    <tr>\n",
       "      <th>8047</th>\n",
       "      <td>32010010</td>\n",
       "      <td>2005</td>\n",
       "      <td>6</td>\n",
       "      <td>20</td>\n",
       "      <td>0.0</td>\n",
       "      <td>2.562833</td>\n",
       "      <td>-74.103083</td>\n",
       "      <td>0.0</td>\n",
       "    </tr>\n",
       "    <tr>\n",
       "      <th>8048</th>\n",
       "      <td>32010010</td>\n",
       "      <td>2005</td>\n",
       "      <td>6</td>\n",
       "      <td>21</td>\n",
       "      <td>4.0</td>\n",
       "      <td>2.562833</td>\n",
       "      <td>-74.103083</td>\n",
       "      <td>4.0</td>\n",
       "    </tr>\n",
       "    <tr>\n",
       "      <th>8049</th>\n",
       "      <td>32010010</td>\n",
       "      <td>2005</td>\n",
       "      <td>6</td>\n",
       "      <td>22</td>\n",
       "      <td>0.0</td>\n",
       "      <td>2.562833</td>\n",
       "      <td>-74.103083</td>\n",
       "      <td>0.0</td>\n",
       "    </tr>\n",
       "    <tr>\n",
       "      <th>8050</th>\n",
       "      <td>32010010</td>\n",
       "      <td>2005</td>\n",
       "      <td>6</td>\n",
       "      <td>23</td>\n",
       "      <td>NaN</td>\n",
       "      <td>2.562833</td>\n",
       "      <td>-74.103083</td>\n",
       "      <td>3.0</td>\n",
       "    </tr>\n",
       "    <tr>\n",
       "      <th>8051</th>\n",
       "      <td>32010010</td>\n",
       "      <td>2005</td>\n",
       "      <td>6</td>\n",
       "      <td>24</td>\n",
       "      <td>NaN</td>\n",
       "      <td>2.562833</td>\n",
       "      <td>-74.103083</td>\n",
       "      <td>41.0</td>\n",
       "    </tr>\n",
       "    <tr>\n",
       "      <th>8052</th>\n",
       "      <td>32010010</td>\n",
       "      <td>2005</td>\n",
       "      <td>6</td>\n",
       "      <td>25</td>\n",
       "      <td>8.0</td>\n",
       "      <td>2.562833</td>\n",
       "      <td>-74.103083</td>\n",
       "      <td>8.0</td>\n",
       "    </tr>\n",
       "    <tr>\n",
       "      <th>8053</th>\n",
       "      <td>32010010</td>\n",
       "      <td>2005</td>\n",
       "      <td>6</td>\n",
       "      <td>26</td>\n",
       "      <td>3.0</td>\n",
       "      <td>2.562833</td>\n",
       "      <td>-74.103083</td>\n",
       "      <td>3.0</td>\n",
       "    </tr>\n",
       "  </tbody>\n",
       "</table>\n",
       "</div>"
      ],
      "text/plain": [
       "            ID   Año  Mes  Día  prec       LAT        LON  Original\n",
       "0     32010010  1983    6    9   6.8  2.562833 -74.103083       6.8\n",
       "8045  32010010  2005    6   18   8.0  2.562833 -74.103083       8.0\n",
       "8046  32010010  2005    6   19   NaN  2.562833 -74.103083      12.0\n",
       "8047  32010010  2005    6   20   0.0  2.562833 -74.103083       0.0\n",
       "8048  32010010  2005    6   21   4.0  2.562833 -74.103083       4.0\n",
       "8049  32010010  2005    6   22   0.0  2.562833 -74.103083       0.0\n",
       "8050  32010010  2005    6   23   NaN  2.562833 -74.103083       3.0\n",
       "8051  32010010  2005    6   24   NaN  2.562833 -74.103083      41.0\n",
       "8052  32010010  2005    6   25   8.0  2.562833 -74.103083       8.0\n",
       "8053  32010010  2005    6   26   3.0  2.562833 -74.103083       3.0"
      ]
     },
     "execution_count": 183,
     "metadata": {},
     "output_type": "execute_result"
    }
   ],
   "source": [
    "data_completa_mod.info()\n",
    "data_completa_mod.head(10)"
   ]
  },
  {
   "cell_type": "code",
   "execution_count": 195,
   "metadata": {},
   "outputs": [
    {
     "data": {
      "text/html": [
       "<div>\n",
       "<style scoped>\n",
       "    .dataframe tbody tr th:only-of-type {\n",
       "        vertical-align: middle;\n",
       "    }\n",
       "\n",
       "    .dataframe tbody tr th {\n",
       "        vertical-align: top;\n",
       "    }\n",
       "\n",
       "    .dataframe thead th {\n",
       "        text-align: right;\n",
       "    }\n",
       "</style>\n",
       "<table border=\"1\" class=\"dataframe\">\n",
       "  <thead>\n",
       "    <tr style=\"text-align: right;\">\n",
       "      <th></th>\n",
       "      <th>Año</th>\n",
       "      <th>Mes</th>\n",
       "      <th>Día</th>\n",
       "      <th>prec</th>\n",
       "      <th>LAT</th>\n",
       "      <th>LON</th>\n",
       "      <th>ID</th>\n",
       "      <th>Original</th>\n",
       "    </tr>\n",
       "  </thead>\n",
       "  <tbody>\n",
       "    <tr>\n",
       "      <th>0</th>\n",
       "      <td>1983</td>\n",
       "      <td>6</td>\n",
       "      <td>9</td>\n",
       "      <td>6.8</td>\n",
       "      <td>2.562833</td>\n",
       "      <td>-74.103083</td>\n",
       "      <td>32010010</td>\n",
       "      <td>6.8</td>\n",
       "    </tr>\n",
       "    <tr>\n",
       "      <th>8045</th>\n",
       "      <td>2005</td>\n",
       "      <td>6</td>\n",
       "      <td>18</td>\n",
       "      <td>8.0</td>\n",
       "      <td>2.562833</td>\n",
       "      <td>-74.103083</td>\n",
       "      <td>32010010</td>\n",
       "      <td>8.0</td>\n",
       "    </tr>\n",
       "    <tr>\n",
       "      <th>8046</th>\n",
       "      <td>2005</td>\n",
       "      <td>6</td>\n",
       "      <td>19</td>\n",
       "      <td>NaN</td>\n",
       "      <td>2.562833</td>\n",
       "      <td>-74.103083</td>\n",
       "      <td>32010010</td>\n",
       "      <td>12.0</td>\n",
       "    </tr>\n",
       "    <tr>\n",
       "      <th>8047</th>\n",
       "      <td>2005</td>\n",
       "      <td>6</td>\n",
       "      <td>20</td>\n",
       "      <td>0.0</td>\n",
       "      <td>2.562833</td>\n",
       "      <td>-74.103083</td>\n",
       "      <td>32010010</td>\n",
       "      <td>0.0</td>\n",
       "    </tr>\n",
       "    <tr>\n",
       "      <th>8048</th>\n",
       "      <td>2005</td>\n",
       "      <td>6</td>\n",
       "      <td>21</td>\n",
       "      <td>4.0</td>\n",
       "      <td>2.562833</td>\n",
       "      <td>-74.103083</td>\n",
       "      <td>32010010</td>\n",
       "      <td>4.0</td>\n",
       "    </tr>\n",
       "    <tr>\n",
       "      <th>...</th>\n",
       "      <td>...</td>\n",
       "      <td>...</td>\n",
       "      <td>...</td>\n",
       "      <td>...</td>\n",
       "      <td>...</td>\n",
       "      <td>...</td>\n",
       "      <td>...</td>\n",
       "      <td>...</td>\n",
       "    </tr>\n",
       "    <tr>\n",
       "      <th>654265</th>\n",
       "      <td>2008</td>\n",
       "      <td>8</td>\n",
       "      <td>8</td>\n",
       "      <td>0.0</td>\n",
       "      <td>4.260361</td>\n",
       "      <td>-72.564472</td>\n",
       "      <td>35185010</td>\n",
       "      <td>0.0</td>\n",
       "    </tr>\n",
       "    <tr>\n",
       "      <th>654268</th>\n",
       "      <td>2008</td>\n",
       "      <td>8</td>\n",
       "      <td>11</td>\n",
       "      <td>3.7</td>\n",
       "      <td>4.260361</td>\n",
       "      <td>-72.564472</td>\n",
       "      <td>35185010</td>\n",
       "      <td>3.7</td>\n",
       "    </tr>\n",
       "    <tr>\n",
       "      <th>654269</th>\n",
       "      <td>2008</td>\n",
       "      <td>8</td>\n",
       "      <td>12</td>\n",
       "      <td>0.1</td>\n",
       "      <td>4.260361</td>\n",
       "      <td>-72.564472</td>\n",
       "      <td>35185010</td>\n",
       "      <td>0.1</td>\n",
       "    </tr>\n",
       "    <tr>\n",
       "      <th>654264</th>\n",
       "      <td>2008</td>\n",
       "      <td>8</td>\n",
       "      <td>7</td>\n",
       "      <td>0.1</td>\n",
       "      <td>4.260361</td>\n",
       "      <td>-72.564472</td>\n",
       "      <td>35185010</td>\n",
       "      <td>0.1</td>\n",
       "    </tr>\n",
       "    <tr>\n",
       "      <th>656435</th>\n",
       "      <td>2014</td>\n",
       "      <td>7</td>\n",
       "      <td>18</td>\n",
       "      <td>NaN</td>\n",
       "      <td>4.260361</td>\n",
       "      <td>-72.564472</td>\n",
       "      <td>35185010</td>\n",
       "      <td>0.0</td>\n",
       "    </tr>\n",
       "  </tbody>\n",
       "</table>\n",
       "<p>592124 rows × 8 columns</p>\n",
       "</div>"
      ],
      "text/plain": [
       "         Año  Mes  Día  prec       LAT        LON        ID  Original\n",
       "0       1983    6    9   6.8  2.562833 -74.103083  32010010       6.8\n",
       "8045    2005    6   18   8.0  2.562833 -74.103083  32010010       8.0\n",
       "8046    2005    6   19   NaN  2.562833 -74.103083  32010010      12.0\n",
       "8047    2005    6   20   0.0  2.562833 -74.103083  32010010       0.0\n",
       "8048    2005    6   21   4.0  2.562833 -74.103083  32010010       4.0\n",
       "...      ...  ...  ...   ...       ...        ...       ...       ...\n",
       "654265  2008    8    8   0.0  4.260361 -72.564472  35185010       0.0\n",
       "654268  2008    8   11   3.7  4.260361 -72.564472  35185010       3.7\n",
       "654269  2008    8   12   0.1  4.260361 -72.564472  35185010       0.1\n",
       "654264  2008    8    7   0.1  4.260361 -72.564472  35185010       0.1\n",
       "656435  2014    7   18   NaN  4.260361 -72.564472  35185010       0.0\n",
       "\n",
       "[592124 rows x 8 columns]"
      ]
     },
     "execution_count": 195,
     "metadata": {},
     "output_type": "execute_result"
    }
   ],
   "source": [
    "data_completa_mod2"
   ]
  },
  {
   "attachments": {},
   "cell_type": "markdown",
   "metadata": {},
   "source": [
    "Visualiuzacion datos faltantes para la data completa modificada"
   ]
  },
  {
   "cell_type": "code",
   "execution_count": 34,
   "metadata": {},
   "outputs": [
    {
     "data": {
      "text/plain": [
       "<Figure size 720x432 with 0 Axes>"
      ]
     },
     "metadata": {},
     "output_type": "display_data"
    },
    {
     "data": {
      "image/png": "[encoded data removed]",
      "text/plain": [
       "<Figure size 1800x720 with 2 Axes>"
      ]
     },
     "metadata": {
      "needs_background": "light"
     },
     "output_type": "display_data"
    }
   ],
   "source": [
    "import pandas as pd\n",
    "import missingno as msno\n",
    "import matplotlib.pyplot as plt\n",
    "\n",
    "# Suponemos que 'data' es tu DataFrame\n",
    "\n",
    "# Visualizar la completitud de los datos con matriz\n",
    "plt.figure(figsize=(10,6))\n",
    "msno.matrix(data_completa_mod)\n",
    "plt.title('Matriz de completitud de los datos', fontsize=20)\n",
    "plt.show()\n"
   ]
  },
  {
   "cell_type": "code",
   "execution_count": 35,
   "metadata": {},
   "outputs": [
    {
     "data": {
      "text/html": [
       "<div>\n",
       "<style scoped>\n",
       "    .dataframe tbody tr th:only-of-type {\n",
       "        vertical-align: middle;\n",
       "    }\n",
       "\n",
       "    .dataframe tbody tr th {\n",
       "        vertical-align: top;\n",
       "    }\n",
       "\n",
       "    .dataframe thead th {\n",
       "        text-align: right;\n",
       "    }\n",
       "</style>\n",
       "<table border=\"1\" class=\"dataframe\">\n",
       "  <thead>\n",
       "    <tr style=\"text-align: right;\">\n",
       "      <th></th>\n",
       "      <th>Año</th>\n",
       "      <th>Mes</th>\n",
       "      <th>Día</th>\n",
       "      <th>prec</th>\n",
       "      <th>LAT</th>\n",
       "      <th>LON</th>\n",
       "      <th>Original</th>\n",
       "    </tr>\n",
       "  </thead>\n",
       "  <tbody>\n",
       "    <tr>\n",
       "      <th>8046</th>\n",
       "      <td>2005</td>\n",
       "      <td>6</td>\n",
       "      <td>19</td>\n",
       "      <td>NaN</td>\n",
       "      <td>2.562833</td>\n",
       "      <td>-74.103083</td>\n",
       "      <td>12.0</td>\n",
       "    </tr>\n",
       "    <tr>\n",
       "      <th>8050</th>\n",
       "      <td>2005</td>\n",
       "      <td>6</td>\n",
       "      <td>23</td>\n",
       "      <td>NaN</td>\n",
       "      <td>2.562833</td>\n",
       "      <td>-74.103083</td>\n",
       "      <td>3.0</td>\n",
       "    </tr>\n",
       "    <tr>\n",
       "      <th>8051</th>\n",
       "      <td>2005</td>\n",
       "      <td>6</td>\n",
       "      <td>24</td>\n",
       "      <td>NaN</td>\n",
       "      <td>2.562833</td>\n",
       "      <td>-74.103083</td>\n",
       "      <td>41.0</td>\n",
       "    </tr>\n",
       "    <tr>\n",
       "      <th>8021</th>\n",
       "      <td>2005</td>\n",
       "      <td>5</td>\n",
       "      <td>25</td>\n",
       "      <td>NaN</td>\n",
       "      <td>2.562833</td>\n",
       "      <td>-74.103083</td>\n",
       "      <td>0.0</td>\n",
       "    </tr>\n",
       "    <tr>\n",
       "      <th>8028</th>\n",
       "      <td>2005</td>\n",
       "      <td>6</td>\n",
       "      <td>1</td>\n",
       "      <td>NaN</td>\n",
       "      <td>2.562833</td>\n",
       "      <td>-74.103083</td>\n",
       "      <td>8.0</td>\n",
       "    </tr>\n",
       "    <tr>\n",
       "      <th>...</th>\n",
       "      <td>...</td>\n",
       "      <td>...</td>\n",
       "      <td>...</td>\n",
       "      <td>...</td>\n",
       "      <td>...</td>\n",
       "      <td>...</td>\n",
       "      <td>...</td>\n",
       "    </tr>\n",
       "    <tr>\n",
       "      <th>654363</th>\n",
       "      <td>2008</td>\n",
       "      <td>11</td>\n",
       "      <td>14</td>\n",
       "      <td>NaN</td>\n",
       "      <td>4.260361</td>\n",
       "      <td>-72.564472</td>\n",
       "      <td>0.0</td>\n",
       "    </tr>\n",
       "    <tr>\n",
       "      <th>654368</th>\n",
       "      <td>2008</td>\n",
       "      <td>11</td>\n",
       "      <td>19</td>\n",
       "      <td>NaN</td>\n",
       "      <td>4.260361</td>\n",
       "      <td>-72.564472</td>\n",
       "      <td>1.2</td>\n",
       "    </tr>\n",
       "    <tr>\n",
       "      <th>654246</th>\n",
       "      <td>2008</td>\n",
       "      <td>7</td>\n",
       "      <td>20</td>\n",
       "      <td>NaN</td>\n",
       "      <td>4.260361</td>\n",
       "      <td>-72.564472</td>\n",
       "      <td>0.1</td>\n",
       "    </tr>\n",
       "    <tr>\n",
       "      <th>654280</th>\n",
       "      <td>2008</td>\n",
       "      <td>8</td>\n",
       "      <td>23</td>\n",
       "      <td>NaN</td>\n",
       "      <td>4.260361</td>\n",
       "      <td>-72.564472</td>\n",
       "      <td>0.6</td>\n",
       "    </tr>\n",
       "    <tr>\n",
       "      <th>656435</th>\n",
       "      <td>2014</td>\n",
       "      <td>7</td>\n",
       "      <td>18</td>\n",
       "      <td>NaN</td>\n",
       "      <td>4.260361</td>\n",
       "      <td>-72.564472</td>\n",
       "      <td>0.0</td>\n",
       "    </tr>\n",
       "  </tbody>\n",
       "</table>\n",
       "<p>59212 rows × 7 columns</p>\n",
       "</div>"
      ],
      "text/plain": [
       "         Año  Mes  Día  prec       LAT        LON  Original\n",
       "8046    2005    6   19   NaN  2.562833 -74.103083      12.0\n",
       "8050    2005    6   23   NaN  2.562833 -74.103083       3.0\n",
       "8051    2005    6   24   NaN  2.562833 -74.103083      41.0\n",
       "8021    2005    5   25   NaN  2.562833 -74.103083       0.0\n",
       "8028    2005    6    1   NaN  2.562833 -74.103083       8.0\n",
       "...      ...  ...  ...   ...       ...        ...       ...\n",
       "654363  2008   11   14   NaN  4.260361 -72.564472       0.0\n",
       "654368  2008   11   19   NaN  4.260361 -72.564472       1.2\n",
       "654246  2008    7   20   NaN  4.260361 -72.564472       0.1\n",
       "654280  2008    8   23   NaN  4.260361 -72.564472       0.6\n",
       "656435  2014    7   18   NaN  4.260361 -72.564472       0.0\n",
       "\n",
       "[59212 rows x 7 columns]"
      ]
     },
     "execution_count": 35,
     "metadata": {},
     "output_type": "execute_result"
    }
   ],
   "source": [
    "soloNAn=na_rows = data_completa_mod[data_completa_mod['prec'].isna()]\n",
    "soloNAn"
   ]
  },
  {
   "cell_type": "markdown",
   "metadata": {},
   "source": []
  },
  {
   "attachments": {},
   "cell_type": "markdown",
   "metadata": {},
   "source": [
    "## Prueba de aletoriedad "
   ]
  },
  {
   "cell_type": "markdown",
   "metadata": {},
   "source": [
    "Con el fin de comprobar la aletoriedad en la prueba de hipotesis se contrasta una vez se ejecuta la funcion del 10% de datos faltantes "
   ]
  },
  {
   "cell_type": "code",
   "execution_count": 29,
   "metadata": {},
   "outputs": [],
   "source": [
    "import missingno as msno\n",
    "import numpy as np\n",
    "import scipy.stats as stats\n"
   ]
  },
  {
   "cell_type": "code",
   "execution_count": 53,
   "metadata": {},
   "outputs": [
    {
     "ename": "AttributeError",
     "evalue": "module 'scipy.stats' has no attribute 'littles_test'",
     "output_type": "error",
     "traceback": [
      "\u001b[1;31m---------------------------------------------------------------------------\u001b[0m",
      "\u001b[1;31mAttributeError\u001b[0m                            Traceback (most recent call last)",
      "\u001b[1;32mf:\\TESIS\\Proyecto_mod_precipitacion\\Codigos de Python\\NoteNook_model_KNN.ipynb Cell 68\u001b[0m line \u001b[0;36m<cell line: 2>\u001b[1;34m()\u001b[0m\n\u001b[0;32m      <a href='vscode-notebook-cell:/f%3A/TESIS/Proyecto_mod_precipitacion/Codigos%20de%20Python/NoteNook_model_KNN.ipynb#Y314sZmlsZQ%3D%3D?line=0'>1</a>\u001b[0m \u001b[39m# Perform the Little's MCAR test\u001b[39;00m\n\u001b[1;32m----> <a href='vscode-notebook-cell:/f%3A/TESIS/Proyecto_mod_precipitacion/Codigos%20de%20Python/NoteNook_model_KNN.ipynb#Y314sZmlsZQ%3D%3D?line=1'>2</a>\u001b[0m littles_test \u001b[39m=\u001b[39m stats\u001b[39m.\u001b[39;49mlittles_test(data_completa_mod)\n\u001b[0;32m      <a href='vscode-notebook-cell:/f%3A/TESIS/Proyecto_mod_precipitacion/Codigos%20de%20Python/NoteNook_model_KNN.ipynb#Y314sZmlsZQ%3D%3D?line=3'>4</a>\u001b[0m \u001b[39m# Print the test results\u001b[39;00m\n\u001b[0;32m      <a href='vscode-notebook-cell:/f%3A/TESIS/Proyecto_mod_precipitacion/Codigos%20de%20Python/NoteNook_model_KNN.ipynb#Y314sZmlsZQ%3D%3D?line=4'>5</a>\u001b[0m \u001b[39mprint\u001b[39m(littles_test)\n",
      "\u001b[1;31mAttributeError\u001b[0m: module 'scipy.stats' has no attribute 'littles_test'"
     ]
    }
   ],
   "source": [
    "\n",
    "# Perform the Little's MCAR test\n",
    "littles_test = stats.littles_test(data_completa_mod)\n",
    "\n",
    "# Print the test results\n",
    "print(littles_test)"
   ]
  },
  {
   "cell_type": "code",
   "execution_count": 31,
   "metadata": {},
   "outputs": [
    {
     "name": "stdout",
     "output_type": "stream",
     "text": [
      "<class 'pandas.core.frame.DataFrame'>\n",
      "Int64Index: 592124 entries, 0 to 656435\n",
      "Data columns (total 7 columns):\n",
      " #   Column    Non-Null Count   Dtype  \n",
      "---  ------    --------------   -----  \n",
      " 0   Año       592124 non-null  int64  \n",
      " 1   Mes       592124 non-null  int64  \n",
      " 2   Día       592124 non-null  int64  \n",
      " 3   prec      532912 non-null  float64\n",
      " 4   LAT       592124 non-null  float64\n",
      " 5   LON       592124 non-null  float64\n",
      " 6   Original  592124 non-null  float64\n",
      "dtypes: float64(4), int64(3)\n",
      "memory usage: 52.3 MB\n"
     ]
    }
   ],
   "source": [
    "data_completa_mod.info()"
   ]
  },
  {
   "cell_type": "markdown",
   "metadata": {},
   "source": [
    "### Division en datos de prueba y validacion "
   ]
  },
  {
   "cell_type": "markdown",
   "metadata": {},
   "source": [
    "La división de los datos en subconjuntos de entrenamiento y prueba es una práctica estándar en la ciencia de datos y el aprendizaje automático, permitiendo que los modelos se ajusten a un conjunto de datos (entrenamiento) y se validen o prueben en un conjunto independiente (prueba). Esta estrategia, denominada validación cruzada, es esencial para evaluar el rendimiento de los modelos de imputación y para garantizar que los resultados sean generalizables y no simplemente ajustados a los datos específicos de entrenamiento (Hastie, Tibshirani, & Friedman, 2009)\\cite{hastie2009}. La proporción de división de 80% para entrenamiento y 20% para prueba es una elección común que equilibra la necesidad de tener suficientes datos para el aprendizaje del modelo y suficientes datos para su evaluación efectiva (James, Witten, Hastie, & Tibshirani, 2013)\\cite{james2013}. La reproducibilidad y consistencia de los resultados se garantizan mediante el uso de un random_state fijo, lo que es fundamental para la validación de los métodos de imputación (Bishop, 2006)\\cite{bishop2006}."
   ]
  },
  {
   "cell_type": "code",
   "execution_count": 30,
   "metadata": {},
   "outputs": [
    {
     "ename": "NameError",
     "evalue": "name 'train_test_split' is not defined",
     "output_type": "error",
     "traceback": [
      "\u001b[1;31m---------------------------------------------------------------------------\u001b[0m",
      "\u001b[1;31mNameError\u001b[0m                                 Traceback (most recent call last)",
      "\u001b[1;32mf:\\TESIS\\Proyecto_mod_precipitacion\\Codigos de Python\\NoteNook_model_KNN.ipynb Cell 72\u001b[0m line \u001b[0;36m<cell line: 2>\u001b[1;34m()\u001b[0m\n\u001b[0;32m      <a href='vscode-notebook-cell:/f%3A/TESIS/Proyecto_mod_precipitacion/Codigos%20de%20Python/NoteNook_model_KNN.ipynb#Y131sZmlsZQ%3D%3D?line=0'>1</a>\u001b[0m \u001b[39m# Dividir los datos en conjuntos de entrenamiento y prueba\u001b[39;00m\n\u001b[1;32m----> <a href='vscode-notebook-cell:/f%3A/TESIS/Proyecto_mod_precipitacion/Codigos%20de%20Python/NoteNook_model_KNN.ipynb#Y131sZmlsZQ%3D%3D?line=1'>2</a>\u001b[0m X_train, X_test, y_train, y_test \u001b[39m=\u001b[39m train_test_split(X, y, test_size\u001b[39m=\u001b[39m\u001b[39m0.2\u001b[39m, random_state\u001b[39m=\u001b[39m\u001b[39m42\u001b[39m)\n\u001b[0;32m      <a href='vscode-notebook-cell:/f%3A/TESIS/Proyecto_mod_precipitacion/Codigos%20de%20Python/NoteNook_model_KNN.ipynb#Y131sZmlsZQ%3D%3D?line=3'>4</a>\u001b[0m \u001b[39m# Crear un conjunto de datos de LightGBM para el entrenamiento\u001b[39;00m\n\u001b[0;32m      <a href='vscode-notebook-cell:/f%3A/TESIS/Proyecto_mod_precipitacion/Codigos%20de%20Python/NoteNook_model_KNN.ipynb#Y131sZmlsZQ%3D%3D?line=4'>5</a>\u001b[0m train_data \u001b[39m=\u001b[39m lgb\u001b[39m.\u001b[39mDataset(X_train, label\u001b[39m=\u001b[39my_train)\n",
      "\u001b[1;31mNameError\u001b[0m: name 'train_test_split' is not defined"
     ]
    }
   ],
   "source": [
    "# Dividir los datos en conjuntos de entrenamiento y prueba\n",
    "X_train, X_test, y_train, y_test = train_test_split(X, y, test_size=0.2, random_state=42)\n",
    "\n",
    "# Crear un conjunto de datos de LightGBM para el entrenamiento\n",
    "train_data = lgb.Dataset(X_train, label=y_train)\n"
   ]
  },
  {
   "cell_type": "code",
   "execution_count": 52,
   "metadata": {},
   "outputs": [
    {
     "ename": "ValueError",
     "evalue": "Found input variables with inconsistent numbers of samples: [118562, 131288]",
     "output_type": "error",
     "traceback": [
      "\u001b[1;31m---------------------------------------------------------------------------\u001b[0m",
      "\u001b[1;31mValueError\u001b[0m                                Traceback (most recent call last)",
      "\u001b[1;32mf:\\TESIS\\Proyecto_mod_precipitacion\\Codigos de Python\\NoteNook_model_KNN.ipynb Cell 74\u001b[0m line \u001b[0;36m<cell line: 31>\u001b[1;34m()\u001b[0m\n\u001b[0;32m     <a href='vscode-notebook-cell:/f%3A/TESIS/Proyecto_mod_precipitacion/Codigos%20de%20Python/NoteNook_model_KNN.ipynb#Y505sZmlsZQ%3D%3D?line=26'>27</a>\u001b[0m test_imputed \u001b[39m=\u001b[39m imputer\u001b[39m.\u001b[39mtransform(test)\n\u001b[0;32m     <a href='vscode-notebook-cell:/f%3A/TESIS/Proyecto_mod_precipitacion/Codigos%20de%20Python/NoteNook_model_KNN.ipynb#Y505sZmlsZQ%3D%3D?line=28'>29</a>\u001b[0m \u001b[39m# Comparar los valores imputados con los valores reales\u001b[39;00m\n\u001b[0;32m     <a href='vscode-notebook-cell:/f%3A/TESIS/Proyecto_mod_precipitacion/Codigos%20de%20Python/NoteNook_model_KNN.ipynb#Y505sZmlsZQ%3D%3D?line=29'>30</a>\u001b[0m \u001b[39m# Asumiendo que tienes los valores reales en otro DataFrame para comparar\u001b[39;00m\n\u001b[1;32m---> <a href='vscode-notebook-cell:/f%3A/TESIS/Proyecto_mod_precipitacion/Codigos%20de%20Python/NoteNook_model_KNN.ipynb#Y505sZmlsZQ%3D%3D?line=30'>31</a>\u001b[0m mse \u001b[39m=\u001b[39m mean_squared_error(test\u001b[39m.\u001b[39;49mdropna(), test_imputed)\n\u001b[0;32m     <a href='vscode-notebook-cell:/f%3A/TESIS/Proyecto_mod_precipitacion/Codigos%20de%20Python/NoteNook_model_KNN.ipynb#Y505sZmlsZQ%3D%3D?line=31'>32</a>\u001b[0m \u001b[39mprint\u001b[39m(\u001b[39mf\u001b[39m\u001b[39m'\u001b[39m\u001b[39mError Cuadrático Medio de la Imputación: \u001b[39m\u001b[39m{\u001b[39;00mmse\u001b[39m}\u001b[39;00m\u001b[39m'\u001b[39m)\n",
      "File \u001b[1;32mc:\\Users\\ronal\\AppData\\Local\\Programs\\Python\\Python310\\lib\\site-packages\\sklearn\\metrics\\_regression.py:438\u001b[0m, in \u001b[0;36mmean_squared_error\u001b[1;34m(y_true, y_pred, sample_weight, multioutput, squared)\u001b[0m\n\u001b[0;32m    378\u001b[0m \u001b[39mdef\u001b[39;00m \u001b[39mmean_squared_error\u001b[39m(\n\u001b[0;32m    379\u001b[0m     y_true, y_pred, \u001b[39m*\u001b[39m, sample_weight\u001b[39m=\u001b[39m\u001b[39mNone\u001b[39;00m, multioutput\u001b[39m=\u001b[39m\u001b[39m\"\u001b[39m\u001b[39muniform_average\u001b[39m\u001b[39m\"\u001b[39m, squared\u001b[39m=\u001b[39m\u001b[39mTrue\u001b[39;00m\n\u001b[0;32m    380\u001b[0m ):\n\u001b[0;32m    381\u001b[0m     \u001b[39m\"\"\"Mean squared error regression loss.\u001b[39;00m\n\u001b[0;32m    382\u001b[0m \n\u001b[0;32m    383\u001b[0m \u001b[39m    Read more in the :ref:`User Guide <mean_squared_error>`.\u001b[39;00m\n\u001b[1;32m   (...)\u001b[0m\n\u001b[0;32m    436\u001b[0m \u001b[39m    0.825...\u001b[39;00m\n\u001b[0;32m    437\u001b[0m \u001b[39m    \"\"\"\u001b[39;00m\n\u001b[1;32m--> 438\u001b[0m     y_type, y_true, y_pred, multioutput \u001b[39m=\u001b[39m _check_reg_targets(\n\u001b[0;32m    439\u001b[0m         y_true, y_pred, multioutput\n\u001b[0;32m    440\u001b[0m     )\n\u001b[0;32m    441\u001b[0m     check_consistent_length(y_true, y_pred, sample_weight)\n\u001b[0;32m    442\u001b[0m     output_errors \u001b[39m=\u001b[39m np\u001b[39m.\u001b[39maverage((y_true \u001b[39m-\u001b[39m y_pred) \u001b[39m*\u001b[39m\u001b[39m*\u001b[39m \u001b[39m2\u001b[39m, axis\u001b[39m=\u001b[39m\u001b[39m0\u001b[39m, weights\u001b[39m=\u001b[39msample_weight)\n",
      "File \u001b[1;32mc:\\Users\\ronal\\AppData\\Local\\Programs\\Python\\Python310\\lib\\site-packages\\sklearn\\metrics\\_regression.py:94\u001b[0m, in \u001b[0;36m_check_reg_targets\u001b[1;34m(y_true, y_pred, multioutput, dtype)\u001b[0m\n\u001b[0;32m     60\u001b[0m \u001b[39mdef\u001b[39;00m \u001b[39m_check_reg_targets\u001b[39m(y_true, y_pred, multioutput, dtype\u001b[39m=\u001b[39m\u001b[39m\"\u001b[39m\u001b[39mnumeric\u001b[39m\u001b[39m\"\u001b[39m):\n\u001b[0;32m     61\u001b[0m     \u001b[39m\"\"\"Check that y_true and y_pred belong to the same regression task.\u001b[39;00m\n\u001b[0;32m     62\u001b[0m \n\u001b[0;32m     63\u001b[0m \u001b[39m    Parameters\u001b[39;00m\n\u001b[1;32m   (...)\u001b[0m\n\u001b[0;32m     92\u001b[0m \u001b[39m        the dtype argument passed to check_array.\u001b[39;00m\n\u001b[0;32m     93\u001b[0m \u001b[39m    \"\"\"\u001b[39;00m\n\u001b[1;32m---> 94\u001b[0m     check_consistent_length(y_true, y_pred)\n\u001b[0;32m     95\u001b[0m     y_true \u001b[39m=\u001b[39m check_array(y_true, ensure_2d\u001b[39m=\u001b[39m\u001b[39mFalse\u001b[39;00m, dtype\u001b[39m=\u001b[39mdtype)\n\u001b[0;32m     96\u001b[0m     y_pred \u001b[39m=\u001b[39m check_array(y_pred, ensure_2d\u001b[39m=\u001b[39m\u001b[39mFalse\u001b[39;00m, dtype\u001b[39m=\u001b[39mdtype)\n",
      "File \u001b[1;32mc:\\Users\\ronal\\AppData\\Local\\Programs\\Python\\Python310\\lib\\site-packages\\sklearn\\utils\\validation.py:332\u001b[0m, in \u001b[0;36mcheck_consistent_length\u001b[1;34m(*arrays)\u001b[0m\n\u001b[0;32m    330\u001b[0m uniques \u001b[39m=\u001b[39m np\u001b[39m.\u001b[39munique(lengths)\n\u001b[0;32m    331\u001b[0m \u001b[39mif\u001b[39;00m \u001b[39mlen\u001b[39m(uniques) \u001b[39m>\u001b[39m \u001b[39m1\u001b[39m:\n\u001b[1;32m--> 332\u001b[0m     \u001b[39mraise\u001b[39;00m \u001b[39mValueError\u001b[39;00m(\n\u001b[0;32m    333\u001b[0m         \u001b[39m\"\u001b[39m\u001b[39mFound input variables with inconsistent numbers of samples: \u001b[39m\u001b[39m%r\u001b[39;00m\u001b[39m\"\u001b[39m\n\u001b[0;32m    334\u001b[0m         \u001b[39m%\u001b[39m [\u001b[39mint\u001b[39m(l) \u001b[39mfor\u001b[39;00m l \u001b[39min\u001b[39;00m lengths]\n\u001b[0;32m    335\u001b[0m     )\n",
      "\u001b[1;31mValueError\u001b[0m: Found input variables with inconsistent numbers of samples: [118562, 131288]"
     ]
    }
   ],
   "source": [
    "import pandas as pd\n",
    "import numpy as np\n",
    "from sklearn.model_selection import train_test_split\n",
    "from sklearn.impute import KNNImputer\n",
    "from sklearn.metrics import mean_squared_error\n",
    "\n",
    "# Cargar tus datos\n",
    "# df = pd.read_csv('tu_archivo_de_datos.csv')\n",
    "\n",
    "# Crear valores faltantes de manera controlada\n",
    "def insert_missing_values(df, missing_percentage):\n",
    "    df_missing = df.copy()\n",
    "    for col in df_missing.columns:\n",
    "        df_missing.loc[df_missing.sample(frac=missing_percentage).index, col] = np.nan\n",
    "    return df_missing\n",
    "\n",
    "# Aplicar la función para crear datos faltantes\n",
    "missing_percentage = 0.1  # Por ejemplo, el 10% de los datos\n",
    "df_missing = insert_missing_values(new_data, missing_percentage)\n",
    "\n",
    "# Dividir los datos en conjuntos de entrenamiento y prueba\n",
    "train, test = train_test_split(new_data, test_size=0.2, random_state=42)\n",
    "\n",
    "# Imputar valores usando KNN\n",
    "imputer = KNNImputer(n_neighbors=5)  # Puedes ajustar el número de vecinos\n",
    "train_imputed = imputer.fit_transform(train)\n",
    "test_imputed = imputer.transform(test)\n",
    "\n",
    "# Comparar los valores imputados con los valores reales\n",
    "# Asumiendo que tienes los valores reales en otro DataFrame para comparar\n",
    "mse = mean_squared_error(test.dropna(), test_imputed)\n",
    "print(f'Error Cuadrático Medio de la Imputación: {mse}')\n"
   ]
  },
  {
   "cell_type": "code",
   "execution_count": 223,
   "metadata": {},
   "outputs": [
    {
     "ename": "IndexError",
     "evalue": "index 430890 is out of bounds for axis 0 with size 131288",
     "output_type": "error",
     "traceback": [
      "\u001b[1;31m---------------------------------------------------------------------------\u001b[0m",
      "\u001b[1;31mIndexError\u001b[0m                                Traceback (most recent call last)",
      "\u001b[1;32mf:\\TESIS\\Proyecto_mod_precipitacion\\Codigos de Python\\NoteNook_model_KNN.ipynb Cell 74\u001b[0m line \u001b[0;36m<cell line: 5>\u001b[1;34m()\u001b[0m\n\u001b[0;32m      <a href='vscode-notebook-cell:/f%3A/TESIS/Proyecto_mod_precipitacion/Codigos%20de%20Python/NoteNook_model_KNN.ipynb#Y520sZmlsZQ%3D%3D?line=1'>2</a>\u001b[0m non_na_indices \u001b[39m=\u001b[39m test\u001b[39m.\u001b[39mdropna()\u001b[39m.\u001b[39mindex\n\u001b[0;32m      <a href='vscode-notebook-cell:/f%3A/TESIS/Proyecto_mod_precipitacion/Codigos%20de%20Python/NoteNook_model_KNN.ipynb#Y520sZmlsZQ%3D%3D?line=3'>4</a>\u001b[0m \u001b[39m# Utiliza solo las filas correspondientes del conjunto imputado\u001b[39;00m\n\u001b[1;32m----> <a href='vscode-notebook-cell:/f%3A/TESIS/Proyecto_mod_precipitacion/Codigos%20de%20Python/NoteNook_model_KNN.ipynb#Y520sZmlsZQ%3D%3D?line=4'>5</a>\u001b[0m test_imputed_aligned \u001b[39m=\u001b[39m test_imputed[non_na_indices, :]\n\u001b[0;32m      <a href='vscode-notebook-cell:/f%3A/TESIS/Proyecto_mod_precipitacion/Codigos%20de%20Python/NoteNook_model_KNN.ipynb#Y520sZmlsZQ%3D%3D?line=6'>7</a>\u001b[0m \u001b[39m# Calcula MSE usando las filas alineadas\u001b[39;00m\n\u001b[0;32m      <a href='vscode-notebook-cell:/f%3A/TESIS/Proyecto_mod_precipitacion/Codigos%20de%20Python/NoteNook_model_KNN.ipynb#Y520sZmlsZQ%3D%3D?line=7'>8</a>\u001b[0m mse \u001b[39m=\u001b[39m mean_squared_error(test\u001b[39m.\u001b[39mloc[non_na_indices], test_imputed_aligned)\n",
      "\u001b[1;31mIndexError\u001b[0m: index 430890 is out of bounds for axis 0 with size 131288"
     ]
    }
   ],
   "source": [
    "# Encuentra los índices de las filas sin NA en el conjunto de prueba original\n",
    "non_na_indices = test.dropna().index\n",
    "\n",
    "# Utiliza solo las filas correspondientes del conjunto imputado\n",
    "test_imputed_aligned = test_imputed[non_na_indices, :]\n",
    "\n",
    "# Calcula MSE usando las filas alineadas\n",
    "mse = mean_squared_error(test.loc[non_na_indices], test_imputed_aligned)\n",
    "print(f'Error Cuadrático Medio de la Imputación: {mse}')\n"
   ]
  },
  {
   "cell_type": "code",
   "execution_count": 222,
   "metadata": {},
   "outputs": [
    {
     "ename": "KeyError",
     "evalue": "\"None of [Index(['prec'], dtype='object')] are in the [columns]\"",
     "output_type": "error",
     "traceback": [
      "\u001b[1;31m---------------------------------------------------------------------------\u001b[0m",
      "\u001b[1;31mKeyError\u001b[0m                                  Traceback (most recent call last)",
      "\u001b[1;32mf:\\TESIS\\Proyecto_mod_precipitacion\\Codigos de Python\\NoteNook_model_KNN.ipynb Cell 75\u001b[0m line \u001b[0;36m<cell line: 21>\u001b[1;34m()\u001b[0m\n\u001b[0;32m     <a href='vscode-notebook-cell:/f%3A/TESIS/Proyecto_mod_precipitacion/Codigos%20de%20Python/NoteNook_model_KNN.ipynb#Y530sZmlsZQ%3D%3D?line=17'>18</a>\u001b[0m imputer \u001b[39m=\u001b[39m KNNImputer(n_neighbors\u001b[39m=\u001b[39m\u001b[39m5\u001b[39m)  \u001b[39m# Ajusta el número de vecinos según tus necesidades\u001b[39;00m\n\u001b[0;32m     <a href='vscode-notebook-cell:/f%3A/TESIS/Proyecto_mod_precipitacion/Codigos%20de%20Python/NoteNook_model_KNN.ipynb#Y530sZmlsZQ%3D%3D?line=19'>20</a>\u001b[0m \u001b[39m# Ajustar el imputador solo a la columna 'prec'\u001b[39;00m\n\u001b[1;32m---> <a href='vscode-notebook-cell:/f%3A/TESIS/Proyecto_mod_precipitacion/Codigos%20de%20Python/NoteNook_model_KNN.ipynb#Y530sZmlsZQ%3D%3D?line=20'>21</a>\u001b[0m imputer\u001b[39m.\u001b[39mfit(data_completa_modelo[[\u001b[39m'\u001b[39;49m\u001b[39mprec\u001b[39;49m\u001b[39m'\u001b[39;49m]])\n\u001b[0;32m     <a href='vscode-notebook-cell:/f%3A/TESIS/Proyecto_mod_precipitacion/Codigos%20de%20Python/NoteNook_model_KNN.ipynb#Y530sZmlsZQ%3D%3D?line=22'>23</a>\u001b[0m \u001b[39m# Dividir los datos en chunks para paralelizar\u001b[39;00m\n\u001b[0;32m     <a href='vscode-notebook-cell:/f%3A/TESIS/Proyecto_mod_precipitacion/Codigos%20de%20Python/NoteNook_model_KNN.ipynb#Y530sZmlsZQ%3D%3D?line=23'>24</a>\u001b[0m n_chunks \u001b[39m=\u001b[39m \u001b[39m10\u001b[39m  \u001b[39m# Ajusta este número según tus necesidades y recursos\u001b[39;00m\n",
      "File \u001b[1;32mc:\\Users\\ronal\\AppData\\Local\\Programs\\Python\\Python310\\lib\\site-packages\\pandas\\core\\frame.py:3511\u001b[0m, in \u001b[0;36mDataFrame.__getitem__\u001b[1;34m(self, key)\u001b[0m\n\u001b[0;32m   3509\u001b[0m     \u001b[39mif\u001b[39;00m is_iterator(key):\n\u001b[0;32m   3510\u001b[0m         key \u001b[39m=\u001b[39m \u001b[39mlist\u001b[39m(key)\n\u001b[1;32m-> 3511\u001b[0m     indexer \u001b[39m=\u001b[39m \u001b[39mself\u001b[39;49m\u001b[39m.\u001b[39;49mcolumns\u001b[39m.\u001b[39;49m_get_indexer_strict(key, \u001b[39m\"\u001b[39;49m\u001b[39mcolumns\u001b[39;49m\u001b[39m\"\u001b[39;49m)[\u001b[39m1\u001b[39m]\n\u001b[0;32m   3513\u001b[0m \u001b[39m# take() does not accept boolean indexers\u001b[39;00m\n\u001b[0;32m   3514\u001b[0m \u001b[39mif\u001b[39;00m \u001b[39mgetattr\u001b[39m(indexer, \u001b[39m\"\u001b[39m\u001b[39mdtype\u001b[39m\u001b[39m\"\u001b[39m, \u001b[39mNone\u001b[39;00m) \u001b[39m==\u001b[39m \u001b[39mbool\u001b[39m:\n",
      "File \u001b[1;32mc:\\Users\\ronal\\AppData\\Local\\Programs\\Python\\Python310\\lib\\site-packages\\pandas\\core\\indexes\\base.py:5782\u001b[0m, in \u001b[0;36mIndex._get_indexer_strict\u001b[1;34m(self, key, axis_name)\u001b[0m\n\u001b[0;32m   5779\u001b[0m \u001b[39melse\u001b[39;00m:\n\u001b[0;32m   5780\u001b[0m     keyarr, indexer, new_indexer \u001b[39m=\u001b[39m \u001b[39mself\u001b[39m\u001b[39m.\u001b[39m_reindex_non_unique(keyarr)\n\u001b[1;32m-> 5782\u001b[0m \u001b[39mself\u001b[39;49m\u001b[39m.\u001b[39;49m_raise_if_missing(keyarr, indexer, axis_name)\n\u001b[0;32m   5784\u001b[0m keyarr \u001b[39m=\u001b[39m \u001b[39mself\u001b[39m\u001b[39m.\u001b[39mtake(indexer)\n\u001b[0;32m   5785\u001b[0m \u001b[39mif\u001b[39;00m \u001b[39misinstance\u001b[39m(key, Index):\n\u001b[0;32m   5786\u001b[0m     \u001b[39m# GH 42790 - Preserve name from an Index\u001b[39;00m\n",
      "File \u001b[1;32mc:\\Users\\ronal\\AppData\\Local\\Programs\\Python\\Python310\\lib\\site-packages\\pandas\\core\\indexes\\base.py:5842\u001b[0m, in \u001b[0;36mIndex._raise_if_missing\u001b[1;34m(self, key, indexer, axis_name)\u001b[0m\n\u001b[0;32m   5840\u001b[0m     \u001b[39mif\u001b[39;00m use_interval_msg:\n\u001b[0;32m   5841\u001b[0m         key \u001b[39m=\u001b[39m \u001b[39mlist\u001b[39m(key)\n\u001b[1;32m-> 5842\u001b[0m     \u001b[39mraise\u001b[39;00m \u001b[39mKeyError\u001b[39;00m(\u001b[39mf\u001b[39m\u001b[39m\"\u001b[39m\u001b[39mNone of [\u001b[39m\u001b[39m{\u001b[39;00mkey\u001b[39m}\u001b[39;00m\u001b[39m] are in the [\u001b[39m\u001b[39m{\u001b[39;00maxis_name\u001b[39m}\u001b[39;00m\u001b[39m]\u001b[39m\u001b[39m\"\u001b[39m)\n\u001b[0;32m   5844\u001b[0m not_found \u001b[39m=\u001b[39m \u001b[39mlist\u001b[39m(ensure_index(key)[missing_mask\u001b[39m.\u001b[39mnonzero()[\u001b[39m0\u001b[39m]]\u001b[39m.\u001b[39munique())\n\u001b[0;32m   5845\u001b[0m \u001b[39mraise\u001b[39;00m \u001b[39mKeyError\u001b[39;00m(\u001b[39mf\u001b[39m\u001b[39m\"\u001b[39m\u001b[39m{\u001b[39;00mnot_found\u001b[39m}\u001b[39;00m\u001b[39m not in index\u001b[39m\u001b[39m\"\u001b[39m)\n",
      "\u001b[1;31mKeyError\u001b[0m: \"None of [Index(['prec'], dtype='object')] are in the [columns]\""
     ]
    }
   ],
   "source": [
    "import pandas as pd\n",
    "import numpy as np\n",
    "from sklearn.impute import KNNImputer\n",
    "from joblib import Parallel, delayed\n",
    "\n",
    "# Asumiendo que tu DataFrame se llama data_completa_modelo\n",
    "# Si necesitas cargar tus datos desde un archivo, puedes descomentar la siguiente línea:\n",
    "# data_completa_modelo = pd.read_csv('tu_archivo.csv')\n",
    "\n",
    "# Definir la función para imputar un fragmento del DataFrame\n",
    "def impute_chunk(df_chunk, imputer):\n",
    "    \"\"\"Función para imputar un fragmento del DataFrame.\"\"\"\n",
    "    cols_to_impute = ['prec']  # Cambia esto según las columnas que necesites imputar\n",
    "    df_chunk[cols_to_impute] = imputer.transform(df_chunk[cols_to_impute])\n",
    "    return df_chunk\n",
    "\n",
    "# Crear el imputador KNN\n",
    "imputer = KNNImputer(n_neighbors=5)  # Ajusta el número de vecinos según tus necesidades\n",
    "\n",
    "# Ajustar el imputador solo a la columna 'prec'\n",
    "imputer.fit(data_completa_modelo[['prec']])\n",
    "\n",
    "# Dividir los datos en chunks para paralelizar\n",
    "n_chunks = 10  # Ajusta este número según tus necesidades y recursos\n",
    "chunks = np.array_split(data_completa_modelo, n_chunks)\n",
    "\n",
    "# Paralelizar la imputación\n",
    "imputed_chunks = Parallel(n_jobs=-1)(delayed(impute_chunk)(chunk, imputer) for chunk in chunks)\n",
    "\n",
    "# Concatenar los resultados\n",
    "imputed_data = pd.concat(imputed_chunks, ignore_index=True)\n",
    "\n",
    "# imputed_data contiene tu DataFrame con los valores imputados en la columna 'prec'\n"
   ]
  },
  {
   "cell_type": "code",
   "execution_count": 91,
   "metadata": {},
   "outputs": [],
   "source": [
    "imputed_data = pd.concat(imputed_chunks, ignore_index=True)\n"
   ]
  },
  {
   "cell_type": "code",
   "execution_count": 88,
   "metadata": {},
   "outputs": [
    {
     "name": "stdout",
     "output_type": "stream",
     "text": [
      "<class 'pandas.core.frame.DataFrame'>\n",
      "Int64Index: 592124 entries, 0 to 656435\n",
      "Data columns (total 7 columns):\n",
      " #   Column    Non-Null Count   Dtype  \n",
      "---  ------    --------------   -----  \n",
      " 0   Año       592124 non-null  int64  \n",
      " 1   Mes       592124 non-null  int64  \n",
      " 2   Día       592124 non-null  int64  \n",
      " 3   prec      532912 non-null  float64\n",
      " 4   LAT       592124 non-null  float64\n",
      " 5   LON       592124 non-null  float64\n",
      " 6   Original  592124 non-null  float64\n",
      "dtypes: float64(4), int64(3)\n",
      "memory usage: 52.3 MB\n"
     ]
    }
   ],
   "source": [
    "data_completa_mod.info()"
   ]
  },
  {
   "cell_type": "code",
   "execution_count": 71,
   "metadata": {},
   "outputs": [
    {
     "name": "stdout",
     "output_type": "stream",
     "text": [
      "<class 'pandas.core.frame.DataFrame'>\n",
      "Int64Index: 592124 entries, 0 to 656435\n",
      "Data columns (total 6 columns):\n",
      " #   Column  Non-Null Count   Dtype  \n",
      "---  ------  --------------   -----  \n",
      " 0   Año     592124 non-null  int64  \n",
      " 1   Mes     592124 non-null  int64  \n",
      " 2   Día     592124 non-null  int64  \n",
      " 3   prec    532912 non-null  float64\n",
      " 4   LAT     592124 non-null  float64\n",
      " 5   LON     592124 non-null  float64\n",
      "dtypes: float64(3), int64(3)\n",
      "memory usage: 47.7 MB\n",
      "<class 'pandas.core.series.Series'>\n",
      "Int64Index: 592124 entries, 0 to 656435\n",
      "Series name: Original\n",
      "Non-Null Count   Dtype  \n",
      "--------------   -----  \n",
      "592124 non-null  float64\n",
      "dtypes: float64(1)\n",
      "memory usage: 25.2 MB\n"
     ]
    }
   ],
   "source": [
    "data_completa_modelo.info()\n",
    "\n",
    "original.info()"
   ]
  },
  {
   "cell_type": "code",
   "execution_count": 93,
   "metadata": {},
   "outputs": [
    {
     "name": "stdout",
     "output_type": "stream",
     "text": [
      "<class 'pandas.core.frame.DataFrame'>\n",
      "RangeIndex: 592124 entries, 0 to 592123\n",
      "Data columns (total 6 columns):\n",
      " #   Column  Non-Null Count   Dtype  \n",
      "---  ------  --------------   -----  \n",
      " 0   Año     592124 non-null  int64  \n",
      " 1   Mes     592124 non-null  int64  \n",
      " 2   Día     592124 non-null  int64  \n",
      " 3   prec    592124 non-null  float64\n",
      " 4   LAT     592124 non-null  float64\n",
      " 5   LON     592124 non-null  float64\n",
      "dtypes: float64(3), int64(3)\n",
      "memory usage: 27.1 MB\n"
     ]
    }
   ],
   "source": [
    "imputed_data.info()"
   ]
  },
  {
   "cell_type": "code",
   "execution_count": 89,
   "metadata": {},
   "outputs": [
    {
     "name": "stdout",
     "output_type": "stream",
     "text": [
      "<class 'pandas.core.frame.DataFrame'>\n",
      "RangeIndex: 592124 entries, 0 to 592123\n",
      "Data columns (total 8 columns):\n",
      " #   Column          Non-Null Count   Dtype  \n",
      "---  ------          --------------   -----  \n",
      " 0   Año             592124 non-null  int64  \n",
      " 1   Mes             592124 non-null  int64  \n",
      " 2   Día             592124 non-null  int64  \n",
      " 3   prec            592124 non-null  float64\n",
      " 4   LAT             592124 non-null  float64\n",
      " 5   LON             592124 non-null  float64\n",
      " 6   Original        534254 non-null  float64\n",
      " 7   DatosFaltantes  592124 non-null  bool   \n",
      "dtypes: bool(1), float64(4), int64(3)\n",
      "memory usage: 32.2 MB\n"
     ]
    }
   ],
   "source": [
    "imputed_data.info()"
   ]
  },
  {
   "cell_type": "code",
   "execution_count": 25,
   "metadata": {},
   "outputs": [
    {
     "ename": "NameError",
     "evalue": "name 'data_completa_modelo' is not defined",
     "output_type": "error",
     "traceback": [
      "\u001b[1;31m---------------------------------------------------------------------------\u001b[0m",
      "\u001b[1;31mNameError\u001b[0m                                 Traceback (most recent call last)",
      "Input \u001b[1;32mIn [25]\u001b[0m, in \u001b[0;36m<cell line: 5>\u001b[1;34m()\u001b[0m\n\u001b[0;32m      1\u001b[0m \u001b[38;5;28;01mimport\u001b[39;00m \u001b[38;5;21;01mpandas\u001b[39;00m \u001b[38;5;28;01mas\u001b[39;00m \u001b[38;5;21;01mpd\u001b[39;00m\n\u001b[0;32m      3\u001b[0m \u001b[38;5;66;03m# Asumiendo que ya has cargado tu DataFrame como data_completa_modelo\u001b[39;00m\n\u001b[0;32m      4\u001b[0m \u001b[38;5;66;03m# Identificamos las posiciones de los datos faltantes\u001b[39;00m\n\u001b[1;32m----> 5\u001b[0m posiciones_datos_faltantes \u001b[38;5;241m=\u001b[39m \u001b[43mdata_completa_modelo\u001b[49m[\u001b[38;5;124m'\u001b[39m\u001b[38;5;124mprec\u001b[39m\u001b[38;5;124m'\u001b[39m]\u001b[38;5;241m.\u001b[39misna()\n",
      "\u001b[1;31mNameError\u001b[0m: name 'data_completa_modelo' is not defined"
     ]
    }
   ],
   "source": [
    "import pandas as pd\n",
    "\n",
    "# Asumiendo que ya has cargado tu DataFrame como data_completa_modelo\n",
    "# Identificamos las posiciones de los datos faltantes\n",
    "posiciones_datos_faltantes = data_completa_modelo['prec'].isna()\n"
   ]
  },
  {
   "cell_type": "code",
   "execution_count": 84,
   "metadata": {},
   "outputs": [
    {
     "data": {
      "text/plain": [
       "0          6.8\n",
       "8045       8.0\n",
       "8046      12.0\n",
       "8047       0.0\n",
       "8048       4.0\n",
       "          ... \n",
       "654265     0.0\n",
       "654268     3.7\n",
       "654269     0.1\n",
       "654264     0.1\n",
       "656435     0.0\n",
       "Name: Original, Length: 592124, dtype: float64"
      ]
     },
     "execution_count": 84,
     "metadata": {},
     "output_type": "execute_result"
    }
   ],
   "source": [
    "original"
   ]
  },
  {
   "cell_type": "code",
   "execution_count": 79,
   "metadata": {},
   "outputs": [],
   "source": [
    "# Asumiendo que la serie 'Original' y el DataFrame 'imputed_data' ya están cargados\n",
    "# Unimos la serie 'Original' con 'imputed_data'\n",
    "imputed_data['Original'] = original\n"
   ]
  },
  {
   "cell_type": "code",
   "execution_count": 94,
   "metadata": {},
   "outputs": [
    {
     "name": "stdout",
     "output_type": "stream",
     "text": [
      "<class 'pandas.core.frame.DataFrame'>\n",
      "Int64Index: 592124 entries, 0 to 592123\n",
      "Data columns (total 7 columns):\n",
      " #   Column    Non-Null Count   Dtype  \n",
      "---  ------    --------------   -----  \n",
      " 0   Año       592124 non-null  int64  \n",
      " 1   Mes       592124 non-null  int64  \n",
      " 2   Día       592124 non-null  int64  \n",
      " 3   prec      592124 non-null  float64\n",
      " 4   LAT       592124 non-null  float64\n",
      " 5   LON       592124 non-null  float64\n",
      " 6   Original  592124 non-null  float64\n",
      "dtypes: float64(4), int64(3)\n",
      "memory usage: 36.1 MB\n",
      "None\n"
     ]
    }
   ],
   "source": [
    "import pandas as pd\n",
    "\n",
    "# Asumiendo que data_completa_mod e imputed_data son tus DataFrames\n",
    "\n",
    "# Realizando el merge (fusión)\n",
    "# Usamos 'left' para mantener todas las filas en imputed_data y agregar la columna 'Original' de data_completa_mod\n",
    "merged_data = pd.merge(imputed_data, data_completa_mod[['Año', 'Mes', 'Día', 'LAT', 'LON', 'Original']], \n",
    "                       on=['Año', 'Mes', 'Día', 'LAT', 'LON'], \n",
    "                       how='left')\n",
    "\n",
    "# Verificando el resultado\n",
    "print(merged_data.info())\n"
   ]
  },
  {
   "cell_type": "code",
   "execution_count": 95,
   "metadata": {},
   "outputs": [
    {
     "data": {
      "text/html": [
       "<div>\n",
       "<style scoped>\n",
       "    .dataframe tbody tr th:only-of-type {\n",
       "        vertical-align: middle;\n",
       "    }\n",
       "\n",
       "    .dataframe tbody tr th {\n",
       "        vertical-align: top;\n",
       "    }\n",
       "\n",
       "    .dataframe thead th {\n",
       "        text-align: right;\n",
       "    }\n",
       "</style>\n",
       "<table border=\"1\" class=\"dataframe\">\n",
       "  <thead>\n",
       "    <tr style=\"text-align: right;\">\n",
       "      <th></th>\n",
       "      <th>Año</th>\n",
       "      <th>Mes</th>\n",
       "      <th>Día</th>\n",
       "      <th>prec</th>\n",
       "      <th>LAT</th>\n",
       "      <th>LON</th>\n",
       "      <th>Original</th>\n",
       "    </tr>\n",
       "  </thead>\n",
       "  <tbody>\n",
       "    <tr>\n",
       "      <th>0</th>\n",
       "      <td>1983</td>\n",
       "      <td>6</td>\n",
       "      <td>9</td>\n",
       "      <td>8.901366</td>\n",
       "      <td>2.562833</td>\n",
       "      <td>-74.103083</td>\n",
       "      <td>6.8</td>\n",
       "    </tr>\n",
       "    <tr>\n",
       "      <th>1</th>\n",
       "      <td>2005</td>\n",
       "      <td>6</td>\n",
       "      <td>18</td>\n",
       "      <td>8.000000</td>\n",
       "      <td>2.562833</td>\n",
       "      <td>-74.103083</td>\n",
       "      <td>8.0</td>\n",
       "    </tr>\n",
       "    <tr>\n",
       "      <th>2</th>\n",
       "      <td>2005</td>\n",
       "      <td>6</td>\n",
       "      <td>19</td>\n",
       "      <td>8.901366</td>\n",
       "      <td>2.562833</td>\n",
       "      <td>-74.103083</td>\n",
       "      <td>12.0</td>\n",
       "    </tr>\n",
       "    <tr>\n",
       "      <th>3</th>\n",
       "      <td>2005</td>\n",
       "      <td>6</td>\n",
       "      <td>20</td>\n",
       "      <td>0.000000</td>\n",
       "      <td>2.562833</td>\n",
       "      <td>-74.103083</td>\n",
       "      <td>0.0</td>\n",
       "    </tr>\n",
       "    <tr>\n",
       "      <th>4</th>\n",
       "      <td>2005</td>\n",
       "      <td>6</td>\n",
       "      <td>21</td>\n",
       "      <td>4.000000</td>\n",
       "      <td>2.562833</td>\n",
       "      <td>-74.103083</td>\n",
       "      <td>4.0</td>\n",
       "    </tr>\n",
       "    <tr>\n",
       "      <th>...</th>\n",
       "      <td>...</td>\n",
       "      <td>...</td>\n",
       "      <td>...</td>\n",
       "      <td>...</td>\n",
       "      <td>...</td>\n",
       "      <td>...</td>\n",
       "      <td>...</td>\n",
       "    </tr>\n",
       "    <tr>\n",
       "      <th>592119</th>\n",
       "      <td>2008</td>\n",
       "      <td>8</td>\n",
       "      <td>8</td>\n",
       "      <td>0.000000</td>\n",
       "      <td>4.260361</td>\n",
       "      <td>-72.564472</td>\n",
       "      <td>0.0</td>\n",
       "    </tr>\n",
       "    <tr>\n",
       "      <th>592120</th>\n",
       "      <td>2008</td>\n",
       "      <td>8</td>\n",
       "      <td>11</td>\n",
       "      <td>8.901366</td>\n",
       "      <td>4.260361</td>\n",
       "      <td>-72.564472</td>\n",
       "      <td>3.7</td>\n",
       "    </tr>\n",
       "    <tr>\n",
       "      <th>592121</th>\n",
       "      <td>2008</td>\n",
       "      <td>8</td>\n",
       "      <td>12</td>\n",
       "      <td>0.100000</td>\n",
       "      <td>4.260361</td>\n",
       "      <td>-72.564472</td>\n",
       "      <td>0.1</td>\n",
       "    </tr>\n",
       "    <tr>\n",
       "      <th>592122</th>\n",
       "      <td>2008</td>\n",
       "      <td>8</td>\n",
       "      <td>7</td>\n",
       "      <td>0.100000</td>\n",
       "      <td>4.260361</td>\n",
       "      <td>-72.564472</td>\n",
       "      <td>0.1</td>\n",
       "    </tr>\n",
       "    <tr>\n",
       "      <th>592123</th>\n",
       "      <td>2014</td>\n",
       "      <td>7</td>\n",
       "      <td>18</td>\n",
       "      <td>0.000000</td>\n",
       "      <td>4.260361</td>\n",
       "      <td>-72.564472</td>\n",
       "      <td>0.0</td>\n",
       "    </tr>\n",
       "  </tbody>\n",
       "</table>\n",
       "<p>592124 rows × 7 columns</p>\n",
       "</div>"
      ],
      "text/plain": [
       "         Año  Mes  Día      prec       LAT        LON  Original\n",
       "0       1983    6    9  8.901366  2.562833 -74.103083       6.8\n",
       "1       2005    6   18  8.000000  2.562833 -74.103083       8.0\n",
       "2       2005    6   19  8.901366  2.562833 -74.103083      12.0\n",
       "3       2005    6   20  0.000000  2.562833 -74.103083       0.0\n",
       "4       2005    6   21  4.000000  2.562833 -74.103083       4.0\n",
       "...      ...  ...  ...       ...       ...        ...       ...\n",
       "592119  2008    8    8  0.000000  4.260361 -72.564472       0.0\n",
       "592120  2008    8   11  8.901366  4.260361 -72.564472       3.7\n",
       "592121  2008    8   12  0.100000  4.260361 -72.564472       0.1\n",
       "592122  2008    8    7  0.100000  4.260361 -72.564472       0.1\n",
       "592123  2014    7   18  0.000000  4.260361 -72.564472       0.0\n",
       "\n",
       "[592124 rows x 7 columns]"
      ]
     },
     "execution_count": 95,
     "metadata": {},
     "output_type": "execute_result"
    }
   ],
   "source": [
    "merged_data"
   ]
  },
  {
   "cell_type": "code",
   "execution_count": 98,
   "metadata": {},
   "outputs": [
    {
     "name": "stdout",
     "output_type": "stream",
     "text": [
      "<class 'pandas.core.frame.DataFrame'>\n",
      "Int64Index: 592124 entries, 0 to 592123\n",
      "Data columns (total 8 columns):\n",
      " #   Column       Non-Null Count   Dtype  \n",
      "---  ------       --------------   -----  \n",
      " 0   Año          592124 non-null  int64  \n",
      " 1   Mes          592124 non-null  int64  \n",
      " 2   Día          592124 non-null  int64  \n",
      " 3   prec         592124 non-null  float64\n",
      " 4   LAT          592124 non-null  float64\n",
      " 5   LON          592124 non-null  float64\n",
      " 6   Original     592124 non-null  float64\n",
      " 7   prec_ori_NA  532912 non-null  float64\n",
      "dtypes: float64(5), int64(3)\n",
      "memory usage: 40.7 MB\n",
      "None\n"
     ]
    }
   ],
   "source": [
    "import pandas as pd\n",
    "\n",
    "# Asumiendo que data_completa_mod y merged_data son tus DataFrames existentes\n",
    "\n",
    "# Cambiando el nombre de la columna\n",
    "data_completa_mod.rename(columns={'prec': 'prec_ori_NA'}, inplace=True)\n",
    "\n",
    "# Realizando el merge\n",
    "# Fusionamos merged_data con la columna renombrada de data_completa_mod\n",
    "final_merged_data = pd.merge(merged_data, data_completa_mod[['Año', 'Mes', 'Día', 'LAT', 'LON', 'prec_ori_NA']], \n",
    "                             on=['Año', 'Mes', 'Día', 'LAT', 'LON'], \n",
    "                             how='left')\n",
    "\n",
    "# Verificando el resultado\n",
    "print(final_merged_data.info())\n"
   ]
  },
  {
   "cell_type": "code",
   "execution_count": 99,
   "metadata": {},
   "outputs": [
    {
     "data": {
      "text/html": [
       "<div>\n",
       "<style scoped>\n",
       "    .dataframe tbody tr th:only-of-type {\n",
       "        vertical-align: middle;\n",
       "    }\n",
       "\n",
       "    .dataframe tbody tr th {\n",
       "        vertical-align: top;\n",
       "    }\n",
       "\n",
       "    .dataframe thead th {\n",
       "        text-align: right;\n",
       "    }\n",
       "</style>\n",
       "<table border=\"1\" class=\"dataframe\">\n",
       "  <thead>\n",
       "    <tr style=\"text-align: right;\">\n",
       "      <th></th>\n",
       "      <th>Año</th>\n",
       "      <th>Mes</th>\n",
       "      <th>Día</th>\n",
       "      <th>prec</th>\n",
       "      <th>LAT</th>\n",
       "      <th>LON</th>\n",
       "      <th>Original</th>\n",
       "      <th>prec_ori_NA</th>\n",
       "    </tr>\n",
       "  </thead>\n",
       "  <tbody>\n",
       "    <tr>\n",
       "      <th>0</th>\n",
       "      <td>1983</td>\n",
       "      <td>6</td>\n",
       "      <td>9</td>\n",
       "      <td>8.901366</td>\n",
       "      <td>2.562833</td>\n",
       "      <td>-74.103083</td>\n",
       "      <td>6.8</td>\n",
       "      <td>NaN</td>\n",
       "    </tr>\n",
       "    <tr>\n",
       "      <th>1</th>\n",
       "      <td>2005</td>\n",
       "      <td>6</td>\n",
       "      <td>18</td>\n",
       "      <td>8.000000</td>\n",
       "      <td>2.562833</td>\n",
       "      <td>-74.103083</td>\n",
       "      <td>8.0</td>\n",
       "      <td>8.0</td>\n",
       "    </tr>\n",
       "    <tr>\n",
       "      <th>2</th>\n",
       "      <td>2005</td>\n",
       "      <td>6</td>\n",
       "      <td>19</td>\n",
       "      <td>8.901366</td>\n",
       "      <td>2.562833</td>\n",
       "      <td>-74.103083</td>\n",
       "      <td>12.0</td>\n",
       "      <td>NaN</td>\n",
       "    </tr>\n",
       "    <tr>\n",
       "      <th>3</th>\n",
       "      <td>2005</td>\n",
       "      <td>6</td>\n",
       "      <td>20</td>\n",
       "      <td>0.000000</td>\n",
       "      <td>2.562833</td>\n",
       "      <td>-74.103083</td>\n",
       "      <td>0.0</td>\n",
       "      <td>0.0</td>\n",
       "    </tr>\n",
       "    <tr>\n",
       "      <th>4</th>\n",
       "      <td>2005</td>\n",
       "      <td>6</td>\n",
       "      <td>21</td>\n",
       "      <td>4.000000</td>\n",
       "      <td>2.562833</td>\n",
       "      <td>-74.103083</td>\n",
       "      <td>4.0</td>\n",
       "      <td>4.0</td>\n",
       "    </tr>\n",
       "    <tr>\n",
       "      <th>...</th>\n",
       "      <td>...</td>\n",
       "      <td>...</td>\n",
       "      <td>...</td>\n",
       "      <td>...</td>\n",
       "      <td>...</td>\n",
       "      <td>...</td>\n",
       "      <td>...</td>\n",
       "      <td>...</td>\n",
       "    </tr>\n",
       "    <tr>\n",
       "      <th>592119</th>\n",
       "      <td>2008</td>\n",
       "      <td>8</td>\n",
       "      <td>8</td>\n",
       "      <td>0.000000</td>\n",
       "      <td>4.260361</td>\n",
       "      <td>-72.564472</td>\n",
       "      <td>0.0</td>\n",
       "      <td>0.0</td>\n",
       "    </tr>\n",
       "    <tr>\n",
       "      <th>592120</th>\n",
       "      <td>2008</td>\n",
       "      <td>8</td>\n",
       "      <td>11</td>\n",
       "      <td>8.901366</td>\n",
       "      <td>4.260361</td>\n",
       "      <td>-72.564472</td>\n",
       "      <td>3.7</td>\n",
       "      <td>NaN</td>\n",
       "    </tr>\n",
       "    <tr>\n",
       "      <th>592121</th>\n",
       "      <td>2008</td>\n",
       "      <td>8</td>\n",
       "      <td>12</td>\n",
       "      <td>0.100000</td>\n",
       "      <td>4.260361</td>\n",
       "      <td>-72.564472</td>\n",
       "      <td>0.1</td>\n",
       "      <td>0.1</td>\n",
       "    </tr>\n",
       "    <tr>\n",
       "      <th>592122</th>\n",
       "      <td>2008</td>\n",
       "      <td>8</td>\n",
       "      <td>7</td>\n",
       "      <td>0.100000</td>\n",
       "      <td>4.260361</td>\n",
       "      <td>-72.564472</td>\n",
       "      <td>0.1</td>\n",
       "      <td>0.1</td>\n",
       "    </tr>\n",
       "    <tr>\n",
       "      <th>592123</th>\n",
       "      <td>2014</td>\n",
       "      <td>7</td>\n",
       "      <td>18</td>\n",
       "      <td>0.000000</td>\n",
       "      <td>4.260361</td>\n",
       "      <td>-72.564472</td>\n",
       "      <td>0.0</td>\n",
       "      <td>0.0</td>\n",
       "    </tr>\n",
       "  </tbody>\n",
       "</table>\n",
       "<p>592124 rows × 8 columns</p>\n",
       "</div>"
      ],
      "text/plain": [
       "         Año  Mes  Día      prec       LAT        LON  Original  prec_ori_NA\n",
       "0       1983    6    9  8.901366  2.562833 -74.103083       6.8          NaN\n",
       "1       2005    6   18  8.000000  2.562833 -74.103083       8.0          8.0\n",
       "2       2005    6   19  8.901366  2.562833 -74.103083      12.0          NaN\n",
       "3       2005    6   20  0.000000  2.562833 -74.103083       0.0          0.0\n",
       "4       2005    6   21  4.000000  2.562833 -74.103083       4.0          4.0\n",
       "...      ...  ...  ...       ...       ...        ...       ...          ...\n",
       "592119  2008    8    8  0.000000  4.260361 -72.564472       0.0          0.0\n",
       "592120  2008    8   11  8.901366  4.260361 -72.564472       3.7          NaN\n",
       "592121  2008    8   12  0.100000  4.260361 -72.564472       0.1          0.1\n",
       "592122  2008    8    7  0.100000  4.260361 -72.564472       0.1          0.1\n",
       "592123  2014    7   18  0.000000  4.260361 -72.564472       0.0          0.0\n",
       "\n",
       "[592124 rows x 8 columns]"
      ]
     },
     "execution_count": 99,
     "metadata": {},
     "output_type": "execute_result"
    }
   ],
   "source": [
    "final_merged_data"
   ]
  },
  {
   "cell_type": "code",
   "execution_count": 75,
   "metadata": {},
   "outputs": [
    {
     "name": "stdout",
     "output_type": "stream",
     "text": [
      "0         True\n",
      "8046      True\n",
      "8050      True\n",
      "8052      True\n",
      "8061      True\n",
      "          ... \n",
      "654242    True\n",
      "654245    True\n",
      "654247    True\n",
      "654217    True\n",
      "654268    True\n",
      "Name: prec, Length: 59212, dtype: bool\n"
     ]
    }
   ],
   "source": [
    "# Mostramos las posiciones de los datos faltantes\n",
    "print(posiciones_datos_faltantes[posiciones_datos_faltantes == True])\n"
   ]
  },
  {
   "cell_type": "code",
   "execution_count": 76,
   "metadata": {},
   "outputs": [
    {
     "data": {
      "text/plain": [
       "0          True\n",
       "8045      False\n",
       "8046       True\n",
       "8047      False\n",
       "8048      False\n",
       "          ...  \n",
       "654265    False\n",
       "654268     True\n",
       "654269    False\n",
       "654264    False\n",
       "656435    False\n",
       "Name: prec, Length: 592124, dtype: bool"
      ]
     },
     "execution_count": 76,
     "metadata": {},
     "output_type": "execute_result"
    }
   ],
   "source": [
    "posiciones_datos_faltantes"
   ]
  },
  {
   "cell_type": "code",
   "execution_count": 80,
   "metadata": {},
   "outputs": [
    {
     "data": {
      "text/html": [
       "<div>\n",
       "<style scoped>\n",
       "    .dataframe tbody tr th:only-of-type {\n",
       "        vertical-align: middle;\n",
       "    }\n",
       "\n",
       "    .dataframe tbody tr th {\n",
       "        vertical-align: top;\n",
       "    }\n",
       "\n",
       "    .dataframe thead th {\n",
       "        text-align: right;\n",
       "    }\n",
       "</style>\n",
       "<table border=\"1\" class=\"dataframe\">\n",
       "  <thead>\n",
       "    <tr style=\"text-align: right;\">\n",
       "      <th></th>\n",
       "      <th>Año</th>\n",
       "      <th>Mes</th>\n",
       "      <th>Día</th>\n",
       "      <th>prec</th>\n",
       "      <th>LAT</th>\n",
       "      <th>LON</th>\n",
       "      <th>Original</th>\n",
       "    </tr>\n",
       "  </thead>\n",
       "  <tbody>\n",
       "    <tr>\n",
       "      <th>0</th>\n",
       "      <td>1983</td>\n",
       "      <td>6</td>\n",
       "      <td>9</td>\n",
       "      <td>8.901366</td>\n",
       "      <td>2.562833</td>\n",
       "      <td>-74.103083</td>\n",
       "      <td>6.8</td>\n",
       "    </tr>\n",
       "    <tr>\n",
       "      <th>1</th>\n",
       "      <td>2005</td>\n",
       "      <td>6</td>\n",
       "      <td>18</td>\n",
       "      <td>8.000000</td>\n",
       "      <td>2.562833</td>\n",
       "      <td>-74.103083</td>\n",
       "      <td>17.8</td>\n",
       "    </tr>\n",
       "    <tr>\n",
       "      <th>2</th>\n",
       "      <td>2005</td>\n",
       "      <td>6</td>\n",
       "      <td>19</td>\n",
       "      <td>8.901366</td>\n",
       "      <td>2.562833</td>\n",
       "      <td>-74.103083</td>\n",
       "      <td>0.0</td>\n",
       "    </tr>\n",
       "    <tr>\n",
       "      <th>3</th>\n",
       "      <td>2005</td>\n",
       "      <td>6</td>\n",
       "      <td>20</td>\n",
       "      <td>0.000000</td>\n",
       "      <td>2.562833</td>\n",
       "      <td>-74.103083</td>\n",
       "      <td>0.5</td>\n",
       "    </tr>\n",
       "    <tr>\n",
       "      <th>4</th>\n",
       "      <td>2005</td>\n",
       "      <td>6</td>\n",
       "      <td>21</td>\n",
       "      <td>4.000000</td>\n",
       "      <td>2.562833</td>\n",
       "      <td>-74.103083</td>\n",
       "      <td>6.9</td>\n",
       "    </tr>\n",
       "    <tr>\n",
       "      <th>...</th>\n",
       "      <td>...</td>\n",
       "      <td>...</td>\n",
       "      <td>...</td>\n",
       "      <td>...</td>\n",
       "      <td>...</td>\n",
       "      <td>...</td>\n",
       "      <td>...</td>\n",
       "    </tr>\n",
       "    <tr>\n",
       "      <th>592119</th>\n",
       "      <td>2008</td>\n",
       "      <td>8</td>\n",
       "      <td>8</td>\n",
       "      <td>0.000000</td>\n",
       "      <td>4.260361</td>\n",
       "      <td>-72.564472</td>\n",
       "      <td>0.0</td>\n",
       "    </tr>\n",
       "    <tr>\n",
       "      <th>592120</th>\n",
       "      <td>2008</td>\n",
       "      <td>8</td>\n",
       "      <td>11</td>\n",
       "      <td>8.901366</td>\n",
       "      <td>4.260361</td>\n",
       "      <td>-72.564472</td>\n",
       "      <td>0.0</td>\n",
       "    </tr>\n",
       "    <tr>\n",
       "      <th>592121</th>\n",
       "      <td>2008</td>\n",
       "      <td>8</td>\n",
       "      <td>12</td>\n",
       "      <td>0.100000</td>\n",
       "      <td>4.260361</td>\n",
       "      <td>-72.564472</td>\n",
       "      <td>0.0</td>\n",
       "    </tr>\n",
       "    <tr>\n",
       "      <th>592122</th>\n",
       "      <td>2008</td>\n",
       "      <td>8</td>\n",
       "      <td>7</td>\n",
       "      <td>0.100000</td>\n",
       "      <td>4.260361</td>\n",
       "      <td>-72.564472</td>\n",
       "      <td>0.0</td>\n",
       "    </tr>\n",
       "    <tr>\n",
       "      <th>592123</th>\n",
       "      <td>2014</td>\n",
       "      <td>7</td>\n",
       "      <td>18</td>\n",
       "      <td>0.000000</td>\n",
       "      <td>4.260361</td>\n",
       "      <td>-72.564472</td>\n",
       "      <td>0.0</td>\n",
       "    </tr>\n",
       "  </tbody>\n",
       "</table>\n",
       "<p>592124 rows × 7 columns</p>\n",
       "</div>"
      ],
      "text/plain": [
       "         Año  Mes  Día      prec       LAT        LON  Original\n",
       "0       1983    6    9  8.901366  2.562833 -74.103083       6.8\n",
       "1       2005    6   18  8.000000  2.562833 -74.103083      17.8\n",
       "2       2005    6   19  8.901366  2.562833 -74.103083       0.0\n",
       "3       2005    6   20  0.000000  2.562833 -74.103083       0.5\n",
       "4       2005    6   21  4.000000  2.562833 -74.103083       6.9\n",
       "...      ...  ...  ...       ...       ...        ...       ...\n",
       "592119  2008    8    8  0.000000  4.260361 -72.564472       0.0\n",
       "592120  2008    8   11  8.901366  4.260361 -72.564472       0.0\n",
       "592121  2008    8   12  0.100000  4.260361 -72.564472       0.0\n",
       "592122  2008    8    7  0.100000  4.260361 -72.564472       0.0\n",
       "592123  2014    7   18  0.000000  4.260361 -72.564472       0.0\n",
       "\n",
       "[592124 rows x 7 columns]"
      ]
     },
     "execution_count": 80,
     "metadata": {},
     "output_type": "execute_result"
    }
   ],
   "source": [
    "imputed_data"
   ]
  },
  {
   "cell_type": "code",
   "execution_count": 82,
   "metadata": {},
   "outputs": [
    {
     "name": "stdout",
     "output_type": "stream",
     "text": [
      "<class 'pandas.core.frame.DataFrame'>\n",
      "RangeIndex: 592124 entries, 0 to 592123\n",
      "Data columns (total 8 columns):\n",
      " #   Column          Non-Null Count   Dtype  \n",
      "---  ------          --------------   -----  \n",
      " 0   Año             592124 non-null  int64  \n",
      " 1   Mes             592124 non-null  int64  \n",
      " 2   Día             592124 non-null  int64  \n",
      " 3   prec            592124 non-null  float64\n",
      " 4   LAT             592124 non-null  float64\n",
      " 5   LON             592124 non-null  float64\n",
      " 6   Original        534254 non-null  float64\n",
      " 7   DatosFaltantes  592124 non-null  bool   \n",
      "dtypes: bool(1), float64(4), int64(3)\n",
      "memory usage: 32.2 MB\n"
     ]
    }
   ],
   "source": [
    "imputed_data.info()"
   ]
  },
  {
   "cell_type": "code",
   "execution_count": 33,
   "metadata": {},
   "outputs": [
    {
     "ename": "NameError",
     "evalue": "name 'data_completa_modelo' is not defined",
     "output_type": "error",
     "traceback": [
      "\u001b[1;31m---------------------------------------------------------------------------\u001b[0m",
      "\u001b[1;31mNameError\u001b[0m                                 Traceback (most recent call last)",
      "Input \u001b[1;32mIn [33]\u001b[0m, in \u001b[0;36m<cell line: 5>\u001b[1;34m()\u001b[0m\n\u001b[0;32m      1\u001b[0m \u001b[38;5;28;01mimport\u001b[39;00m \u001b[38;5;21;01mpandas\u001b[39;00m \u001b[38;5;28;01mas\u001b[39;00m \u001b[38;5;21;01mpd\u001b[39;00m\n\u001b[0;32m      3\u001b[0m \u001b[38;5;66;03m# Asumiendo que ya has cargado tu DataFrame como data_completa_modelo\u001b[39;00m\n\u001b[0;32m      4\u001b[0m \u001b[38;5;66;03m# Crear una serie de valores booleanos para datos faltantes\u001b[39;00m\n\u001b[1;32m----> 5\u001b[0m datos_faltantes \u001b[38;5;241m=\u001b[39m \u001b[43mdata_completa_modelo\u001b[49m[\u001b[38;5;124m'\u001b[39m\u001b[38;5;124mprec\u001b[39m\u001b[38;5;124m'\u001b[39m]\u001b[38;5;241m.\u001b[39misna()\n\u001b[0;32m      6\u001b[0m \u001b[38;5;66;03m# Asumiendo que imputed_data ya está cargado\u001b[39;00m\n\u001b[0;32m      7\u001b[0m \u001b[38;5;66;03m# Agregamos la serie de datos faltantes a imputed_data\u001b[39;00m\n\u001b[0;32m      8\u001b[0m imputed_data[\u001b[38;5;124m'\u001b[39m\u001b[38;5;124mDatosFaltantes\u001b[39m\u001b[38;5;124m'\u001b[39m] \u001b[38;5;241m=\u001b[39m datos_faltantes\u001b[38;5;241m.\u001b[39mvalues\n",
      "\u001b[1;31mNameError\u001b[0m: name 'data_completa_modelo' is not defined"
     ]
    }
   ],
   "source": [
    "import pandas as pd\n",
    "\n",
    "# Asumiendo que ya has cargado tu DataFrame como data_completa_modelo\n",
    "# Crear una serie de valores booleanos para datos faltantes\n",
    "datos_faltantes = data_completa_modelo['prec'].isna()\n",
    "# Asumiendo que imputed_data ya está cargado\n",
    "# Agregamos la serie de datos faltantes a imputed_data\n",
    "imputed_data['DatosFaltantes'] = datos_faltantes.values\n",
    "# Filtrar para mostrar solo las filas con datos faltantes originalmente\n",
    "imputed_data_con_faltantes = imputed_data[imputed_data['DatosFaltantes'] == True]\n",
    "print(imputed_data_con_faltantes)\n"
   ]
  },
  {
   "cell_type": "markdown",
   "metadata": {},
   "source": []
  },
  {
   "cell_type": "code",
   "execution_count": 66,
   "metadata": {},
   "outputs": [
    {
     "ename": "ValueError",
     "evalue": "Las siguientes columnas faltan en el DataFrame: {'original'}",
     "output_type": "error",
     "traceback": [
      "\u001b[1;31m---------------------------------------------------------------------------\u001b[0m",
      "\u001b[1;31mValueError\u001b[0m                                Traceback (most recent call last)",
      "\u001b[1;32mf:\\TESIS\\Proyecto_mod_precipitacion\\Codigos de Python\\NoteNook_model_KNN.ipynb Cell 77\u001b[0m line \u001b[0;36m<cell line: 3>\u001b[1;34m()\u001b[0m\n\u001b[0;32m      <a href='vscode-notebook-cell:/f%3A/TESIS/Proyecto_mod_precipitacion/Codigos%20de%20Python/NoteNook_model_KNN.ipynb#Y531sZmlsZQ%3D%3D?line=2'>3</a>\u001b[0m \u001b[39mif\u001b[39;00m \u001b[39mnot\u001b[39;00m required_columns\u001b[39m.\u001b[39missubset(data_completa_modelo\u001b[39m.\u001b[39mcolumns):\n\u001b[0;32m      <a href='vscode-notebook-cell:/f%3A/TESIS/Proyecto_mod_precipitacion/Codigos%20de%20Python/NoteNook_model_KNN.ipynb#Y531sZmlsZQ%3D%3D?line=3'>4</a>\u001b[0m     missing_cols \u001b[39m=\u001b[39m required_columns \u001b[39m-\u001b[39m \u001b[39mset\u001b[39m(data_completa_modelo\u001b[39m.\u001b[39mcolumns)\n\u001b[1;32m----> <a href='vscode-notebook-cell:/f%3A/TESIS/Proyecto_mod_precipitacion/Codigos%20de%20Python/NoteNook_model_KNN.ipynb#Y531sZmlsZQ%3D%3D?line=4'>5</a>\u001b[0m     \u001b[39mraise\u001b[39;00m \u001b[39mValueError\u001b[39;00m(\u001b[39mf\u001b[39m\u001b[39m\"\u001b[39m\u001b[39mLas siguientes columnas faltan en el DataFrame: \u001b[39m\u001b[39m{\u001b[39;00mmissing_cols\u001b[39m}\u001b[39;00m\u001b[39m\"\u001b[39m)\n\u001b[0;32m      <a href='vscode-notebook-cell:/f%3A/TESIS/Proyecto_mod_precipitacion/Codigos%20de%20Python/NoteNook_model_KNN.ipynb#Y531sZmlsZQ%3D%3D?line=6'>7</a>\u001b[0m \u001b[39m# Si todas las columnas están presentes, continúa con la creación de los chunks\u001b[39;00m\n\u001b[0;32m      <a href='vscode-notebook-cell:/f%3A/TESIS/Proyecto_mod_precipitacion/Codigos%20de%20Python/NoteNook_model_KNN.ipynb#Y531sZmlsZQ%3D%3D?line=7'>8</a>\u001b[0m chunks \u001b[39m=\u001b[39m [chunk[cols_to_keep \u001b[39m+\u001b[39m cols_to_impute] \u001b[39mfor\u001b[39;00m chunk \u001b[39min\u001b[39;00m np\u001b[39m.\u001b[39marray_split(data_completa_modelo, n_chunks)]\n",
      "\u001b[1;31mValueError\u001b[0m: Las siguientes columnas faltan en el DataFrame: {'original'}"
     ]
    }
   ],
   "source": [
    "# Verifica si todas las columnas necesarias están en el DataFrame\n",
    "required_columns = set(cols_to_keep + cols_to_impute)\n",
    "if not required_columns.issubset(data_completa_modelo.columns):\n",
    "    missing_cols = required_columns - set(data_completa_modelo.columns)\n",
    "    raise ValueError(f\"Las siguientes columnas faltan en el DataFrame: {missing_cols}\")\n",
    "\n",
    "# Si todas las columnas están presentes, continúa con la creación de los chunks\n",
    "chunks = [chunk[cols_to_keep + cols_to_impute] for chunk in np.array_split(data_completa_modelo, n_chunks)]\n",
    "\n",
    "# Resto del proceso de imputación...\n"
   ]
  },
  {
   "cell_type": "markdown",
   "metadata": {},
   "source": [
    "#### Version sin tener en cuenta la division de entrenamiento y prueba"
   ]
  },
  {
   "cell_type": "code",
   "execution_count": 17,
   "metadata": {},
   "outputs": [
    {
     "ename": "NameError",
     "evalue": "name 'data_completa_mod' is not defined",
     "output_type": "error",
     "traceback": [
      "\u001b[1;31m---------------------------------------------------------------------------\u001b[0m",
      "\u001b[1;31mNameError\u001b[0m                                 Traceback (most recent call last)",
      "Input \u001b[1;32mIn [17]\u001b[0m, in \u001b[0;36m<cell line: 1>\u001b[1;34m()\u001b[0m\n\u001b[1;32m----> 1\u001b[0m \u001b[43mdata_completa_mod\u001b[49m\n",
      "\u001b[1;31mNameError\u001b[0m: name 'data_completa_mod' is not defined"
     ]
    }
   ],
   "source": [
    "data_completa_mod"
   ]
  },
  {
   "cell_type": "code",
   "execution_count": 37,
   "metadata": {},
   "outputs": [
    {
     "name": "stdout",
     "output_type": "stream",
     "text": [
      "<class 'pandas.core.frame.DataFrame'>\n",
      "Int64Index: 592124 entries, 0 to 656435\n",
      "Data columns (total 7 columns):\n",
      " #   Column    Non-Null Count   Dtype  \n",
      "---  ------    --------------   -----  \n",
      " 0   Año       592124 non-null  int64  \n",
      " 1   Mes       592124 non-null  int64  \n",
      " 2   Día       592124 non-null  int64  \n",
      " 3   prec      532912 non-null  float64\n",
      " 4   LAT       592124 non-null  float64\n",
      " 5   LON       592124 non-null  float64\n",
      " 6   Original  592124 non-null  float64\n",
      "dtypes: float64(4), int64(3)\n",
      "memory usage: 52.3 MB\n"
     ]
    }
   ],
   "source": [
    "data_completa_mod.info()"
   ]
  },
  {
   "cell_type": "markdown",
   "metadata": {},
   "source": [
    "Separacion de variable Orginal con el fin de excluirla del modelo y que luego sea la que brinde la ayuda para las metricas de remiento de la imputacion"
   ]
  },
  {
   "cell_type": "code",
   "execution_count": 16,
   "metadata": {},
   "outputs": [
    {
     "ename": "NameError",
     "evalue": "name 'data_completa_mod' is not defined",
     "output_type": "error",
     "traceback": [
      "\u001b[1;31m---------------------------------------------------------------------------\u001b[0m",
      "\u001b[1;31mNameError\u001b[0m                                 Traceback (most recent call last)",
      "Input \u001b[1;32mIn [16]\u001b[0m, in \u001b[0;36m<cell line: 1>\u001b[1;34m()\u001b[0m\n\u001b[1;32m----> 1\u001b[0m data_completa_modelo \u001b[38;5;241m=\u001b[39m pd\u001b[38;5;241m.\u001b[39mDataFrame(\u001b[43mdata_completa_mod\u001b[49m)\n\u001b[0;32m      3\u001b[0m \u001b[38;5;66;03m# Separando la columna 'Original'\u001b[39;00m\n\u001b[0;32m      4\u001b[0m original \u001b[38;5;241m=\u001b[39m data_completa_modelo\u001b[38;5;241m.\u001b[39mpop(\u001b[38;5;124m\"\u001b[39m\u001b[38;5;124mOriginal\u001b[39m\u001b[38;5;124m\"\u001b[39m)\n",
      "\u001b[1;31mNameError\u001b[0m: name 'data_completa_mod' is not defined"
     ]
    }
   ],
   "source": [
    "data_completa_modelo = pd.DataFrame(data_completa_mod)\n",
    "\n",
    "# Separando la columna 'Original'\n",
    "original = data_completa_modelo.pop(\"Original\")\n",
    "\n",
    "# Mostrando el DataFrame modificado y la columna 'Original' separada\n",
    "data_completa_modelo, original"
   ]
  },
  {
   "cell_type": "code",
   "execution_count": 22,
   "metadata": {},
   "outputs": [
    {
     "ename": "NameError",
     "evalue": "name 'data_completa_modv2' is not defined",
     "output_type": "error",
     "traceback": [
      "\u001b[1;31m---------------------------------------------------------------------------\u001b[0m",
      "\u001b[1;31mNameError\u001b[0m                                 Traceback (most recent call last)",
      "Input \u001b[1;32mIn [22]\u001b[0m, in \u001b[0;36m<cell line: 1>\u001b[1;34m()\u001b[0m\n\u001b[1;32m----> 1\u001b[0m data_completa_modelov2 \u001b[38;5;241m=\u001b[39m pd\u001b[38;5;241m.\u001b[39mDataFrame(\u001b[43mdata_completa_modv2\u001b[49m)\n\u001b[0;32m      3\u001b[0m \u001b[38;5;66;03m# Separando la columna 'Original'\u001b[39;00m\n\u001b[0;32m      4\u001b[0m originalv2 \u001b[38;5;241m=\u001b[39m data_completa_modelov2\u001b[38;5;241m.\u001b[39mpop(\u001b[38;5;124m\"\u001b[39m\u001b[38;5;124mOriginal\u001b[39m\u001b[38;5;124m\"\u001b[39m)\n",
      "\u001b[1;31mNameError\u001b[0m: name 'data_completa_modv2' is not defined"
     ]
    }
   ],
   "source": [
    "data_completa_modelov2 = pd.DataFrame(data_completa_modv2)\n",
    "\n",
    "# Separando la columna 'Original'\n",
    "originalv2 = data_completa_modelov2.pop(\"Original\")\n",
    "\n"
   ]
  },
  {
   "cell_type": "markdown",
   "metadata": {},
   "source": [
    "para el 15%"
   ]
  },
  {
   "cell_type": "code",
   "execution_count": 23,
   "metadata": {},
   "outputs": [],
   "source": [
    "data_completa_modelo15p = pd.DataFrame(data_completa_mod_15p)\n",
    "\n",
    "# Separando la columna 'Original'\n",
    "original15p = data_completa_modelo15p.pop(\"Original\")"
   ]
  },
  {
   "cell_type": "markdown",
   "metadata": {},
   "source": [
    "para el 20%"
   ]
  },
  {
   "cell_type": "code",
   "execution_count": 24,
   "metadata": {},
   "outputs": [],
   "source": [
    "data_completa_modelo20p = pd.DataFrame(data_completa_mod_20p)\n",
    "\n",
    "# Separando la columna 'Original'\n",
    "original20p = data_completa_modelo20p.pop(\"Original\")"
   ]
  },
  {
   "cell_type": "code",
   "execution_count": 76,
   "metadata": {},
   "outputs": [
    {
     "ename": "NameError",
     "evalue": "name 'data_completa_modelo' is not defined",
     "output_type": "error",
     "traceback": [
      "\u001b[1;31m---------------------------------------------------------------------------\u001b[0m",
      "\u001b[1;31mNameError\u001b[0m                                 Traceback (most recent call last)",
      "Input \u001b[1;32mIn [76]\u001b[0m, in \u001b[0;36m<cell line: 1>\u001b[1;34m()\u001b[0m\n\u001b[1;32m----> 1\u001b[0m \u001b[43mdata_completa_modelo\u001b[49m\u001b[38;5;241m.\u001b[39minfo()\n",
      "\u001b[1;31mNameError\u001b[0m: name 'data_completa_modelo' is not defined"
     ]
    }
   ],
   "source": [
    "data_completa_modelo.info()"
   ]
  },
  {
   "attachments": {},
   "cell_type": "markdown",
   "metadata": {},
   "source": [
    "Aplicacion del modelo a los datos reales"
   ]
  },
  {
   "cell_type": "markdown",
   "metadata": {},
   "source": [
    "##### La Necesidad de Escalado de Datos en el Modelo K-Nearest Neighbors\n",
    "\n",
    "En la aplicación de modelos de aprendizaje automático, especialmente aquellos basados en distancias como K-Nearest Neighbors (KNN), el escalado de características es un paso crucial para garantizar la precisión y eficacia del modelo. La premisa fundamental del KNN es que puntos de datos similares se encuentran cerca unos de otros en el espacio de características. Sin embargo, este supuesto se ve comprometido si las características están en diferentes escalas, lo que puede llevar a un sesgo significativo en la determinación de los \"vecinos más cercanos\" (Hastie, Tibshirani, & Friedman, 2009)\\cite{hastie2009elements}."
   ]
  },
  {
   "cell_type": "code",
   "execution_count": 38,
   "metadata": {},
   "outputs": [
    {
     "data": {
      "text/html": [
       "<div>\n",
       "<style scoped>\n",
       "    .dataframe tbody tr th:only-of-type {\n",
       "        vertical-align: middle;\n",
       "    }\n",
       "\n",
       "    .dataframe tbody tr th {\n",
       "        vertical-align: top;\n",
       "    }\n",
       "\n",
       "    .dataframe thead th {\n",
       "        text-align: right;\n",
       "    }\n",
       "</style>\n",
       "<table border=\"1\" class=\"dataframe\">\n",
       "  <thead>\n",
       "    <tr style=\"text-align: right;\">\n",
       "      <th></th>\n",
       "      <th>Año</th>\n",
       "      <th>Mes</th>\n",
       "      <th>Día</th>\n",
       "      <th>prec</th>\n",
       "      <th>LAT</th>\n",
       "      <th>LON</th>\n",
       "    </tr>\n",
       "  </thead>\n",
       "  <tbody>\n",
       "    <tr>\n",
       "      <th>0</th>\n",
       "      <td>1983</td>\n",
       "      <td>6</td>\n",
       "      <td>9</td>\n",
       "      <td>6.8</td>\n",
       "      <td>2.562833</td>\n",
       "      <td>-74.103083</td>\n",
       "    </tr>\n",
       "    <tr>\n",
       "      <th>8045</th>\n",
       "      <td>2005</td>\n",
       "      <td>6</td>\n",
       "      <td>18</td>\n",
       "      <td>8.0</td>\n",
       "      <td>2.562833</td>\n",
       "      <td>-74.103083</td>\n",
       "    </tr>\n",
       "    <tr>\n",
       "      <th>8046</th>\n",
       "      <td>2005</td>\n",
       "      <td>6</td>\n",
       "      <td>19</td>\n",
       "      <td>NaN</td>\n",
       "      <td>2.562833</td>\n",
       "      <td>-74.103083</td>\n",
       "    </tr>\n",
       "    <tr>\n",
       "      <th>8047</th>\n",
       "      <td>2005</td>\n",
       "      <td>6</td>\n",
       "      <td>20</td>\n",
       "      <td>0.0</td>\n",
       "      <td>2.562833</td>\n",
       "      <td>-74.103083</td>\n",
       "    </tr>\n",
       "    <tr>\n",
       "      <th>8048</th>\n",
       "      <td>2005</td>\n",
       "      <td>6</td>\n",
       "      <td>21</td>\n",
       "      <td>4.0</td>\n",
       "      <td>2.562833</td>\n",
       "      <td>-74.103083</td>\n",
       "    </tr>\n",
       "    <tr>\n",
       "      <th>...</th>\n",
       "      <td>...</td>\n",
       "      <td>...</td>\n",
       "      <td>...</td>\n",
       "      <td>...</td>\n",
       "      <td>...</td>\n",
       "      <td>...</td>\n",
       "    </tr>\n",
       "    <tr>\n",
       "      <th>654265</th>\n",
       "      <td>2008</td>\n",
       "      <td>8</td>\n",
       "      <td>8</td>\n",
       "      <td>0.0</td>\n",
       "      <td>4.260361</td>\n",
       "      <td>-72.564472</td>\n",
       "    </tr>\n",
       "    <tr>\n",
       "      <th>654268</th>\n",
       "      <td>2008</td>\n",
       "      <td>8</td>\n",
       "      <td>11</td>\n",
       "      <td>3.7</td>\n",
       "      <td>4.260361</td>\n",
       "      <td>-72.564472</td>\n",
       "    </tr>\n",
       "    <tr>\n",
       "      <th>654269</th>\n",
       "      <td>2008</td>\n",
       "      <td>8</td>\n",
       "      <td>12</td>\n",
       "      <td>0.1</td>\n",
       "      <td>4.260361</td>\n",
       "      <td>-72.564472</td>\n",
       "    </tr>\n",
       "    <tr>\n",
       "      <th>654264</th>\n",
       "      <td>2008</td>\n",
       "      <td>8</td>\n",
       "      <td>7</td>\n",
       "      <td>0.1</td>\n",
       "      <td>4.260361</td>\n",
       "      <td>-72.564472</td>\n",
       "    </tr>\n",
       "    <tr>\n",
       "      <th>656435</th>\n",
       "      <td>2014</td>\n",
       "      <td>7</td>\n",
       "      <td>18</td>\n",
       "      <td>NaN</td>\n",
       "      <td>4.260361</td>\n",
       "      <td>-72.564472</td>\n",
       "    </tr>\n",
       "  </tbody>\n",
       "</table>\n",
       "<p>592124 rows × 6 columns</p>\n",
       "</div>"
      ],
      "text/plain": [
       "         Año  Mes  Día  prec       LAT        LON\n",
       "0       1983    6    9   6.8  2.562833 -74.103083\n",
       "8045    2005    6   18   8.0  2.562833 -74.103083\n",
       "8046    2005    6   19   NaN  2.562833 -74.103083\n",
       "8047    2005    6   20   0.0  2.562833 -74.103083\n",
       "8048    2005    6   21   4.0  2.562833 -74.103083\n",
       "...      ...  ...  ...   ...       ...        ...\n",
       "654265  2008    8    8   0.0  4.260361 -72.564472\n",
       "654268  2008    8   11   3.7  4.260361 -72.564472\n",
       "654269  2008    8   12   0.1  4.260361 -72.564472\n",
       "654264  2008    8    7   0.1  4.260361 -72.564472\n",
       "656435  2014    7   18   NaN  4.260361 -72.564472\n",
       "\n",
       "[592124 rows x 6 columns]"
      ]
     },
     "execution_count": 38,
     "metadata": {},
     "output_type": "execute_result"
    }
   ],
   "source": [
    "data_completa_modelo"
   ]
  },
  {
   "cell_type": "code",
   "execution_count": 202,
   "metadata": {},
   "outputs": [
    {
     "ename": "NameError",
     "evalue": "name 'data_completa_modelo' is not defined",
     "output_type": "error",
     "traceback": [
      "\u001b[1;31m---------------------------------------------------------------------------\u001b[0m",
      "\u001b[1;31mNameError\u001b[0m                                 Traceback (most recent call last)",
      "Input \u001b[1;32mIn [202]\u001b[0m, in \u001b[0;36m<cell line: 4>\u001b[1;34m()\u001b[0m\n\u001b[0;32m      1\u001b[0m \u001b[38;5;28;01mfrom\u001b[39;00m \u001b[38;5;21;01msklearn\u001b[39;00m \u001b[38;5;28;01mimport\u001b[39;00m preprocessing\n\u001b[0;32m      3\u001b[0m escalador \u001b[38;5;241m=\u001b[39m preprocessing\u001b[38;5;241m.\u001b[39mMinMaxScaler()\n\u001b[1;32m----> 4\u001b[0m escalados \u001b[38;5;241m=\u001b[39m escalador\u001b[38;5;241m.\u001b[39mfit_transform(\u001b[43mdata_completa_modelo\u001b[49m)\n\u001b[0;32m      6\u001b[0m escalador2 \u001b[38;5;241m=\u001b[39m preprocessing\u001b[38;5;241m.\u001b[39mMinMaxScaler()\n\u001b[0;32m      7\u001b[0m escalados2 \u001b[38;5;241m=\u001b[39m escalador\u001b[38;5;241m.\u001b[39mfit_transform(data_completa_mod)\n",
      "\u001b[1;31mNameError\u001b[0m: name 'data_completa_modelo' is not defined"
     ]
    }
   ],
   "source": [
    "from sklearn import preprocessing\n",
    "\n",
    "escalador = preprocessing.MinMaxScaler()\n",
    "escalados = escalador.fit_transform(data_completa_modelo)\n",
    "\n",
    "escalador2 = preprocessing.MinMaxScaler()\n",
    "escalados2 = escalador.fit_transform(data_completa_mod)"
   ]
  },
  {
   "cell_type": "code",
   "execution_count": 203,
   "metadata": {},
   "outputs": [
    {
     "ename": "NameError",
     "evalue": "name 'data_completa_modelov2' is not defined",
     "output_type": "error",
     "traceback": [
      "\u001b[1;31m---------------------------------------------------------------------------\u001b[0m",
      "\u001b[1;31mNameError\u001b[0m                                 Traceback (most recent call last)",
      "Input \u001b[1;32mIn [203]\u001b[0m, in \u001b[0;36m<cell line: 4>\u001b[1;34m()\u001b[0m\n\u001b[0;32m      1\u001b[0m \u001b[38;5;28;01mfrom\u001b[39;00m \u001b[38;5;21;01msklearn\u001b[39;00m \u001b[38;5;28;01mimport\u001b[39;00m preprocessing\n\u001b[0;32m      3\u001b[0m escaladorv2 \u001b[38;5;241m=\u001b[39m preprocessing\u001b[38;5;241m.\u001b[39mMinMaxScaler()\n\u001b[1;32m----> 4\u001b[0m escaladosv2 \u001b[38;5;241m=\u001b[39m escaladorv2\u001b[38;5;241m.\u001b[39mfit_transform(\u001b[43mdata_completa_modelov2\u001b[49m)\n\u001b[0;32m      6\u001b[0m escalador2v2 \u001b[38;5;241m=\u001b[39m preprocessing\u001b[38;5;241m.\u001b[39mMinMaxScaler()\n\u001b[0;32m      7\u001b[0m escalados2v2 \u001b[38;5;241m=\u001b[39m escaladorv2\u001b[38;5;241m.\u001b[39mfit_transform(data_completa_modv2)\n",
      "\u001b[1;31mNameError\u001b[0m: name 'data_completa_modelov2' is not defined"
     ]
    }
   ],
   "source": [
    "from sklearn import preprocessing\n",
    "\n",
    "escaladorv2 = preprocessing.MinMaxScaler()\n",
    "escaladosv2 = escaladorv2.fit_transform(data_completa_modelov2)\n",
    "\n",
    "escalador2v2 = preprocessing.MinMaxScaler()\n",
    "escalados2v2 = escaladorv2.fit_transform(data_completa_modv2)"
   ]
  },
  {
   "cell_type": "markdown",
   "metadata": {},
   "source": [
    "para el 15%"
   ]
  },
  {
   "cell_type": "code",
   "execution_count": 25,
   "metadata": {},
   "outputs": [],
   "source": [
    "from sklearn import preprocessing\n",
    "\n",
    "escalador15p = preprocessing.MinMaxScaler()\n",
    "escalados15p = escalador15p.fit_transform(data_completa_modelo15p)\n",
    "\n",
    "escalador215p = preprocessing.MinMaxScaler()\n",
    "escalados215p = escalador15p.fit_transform(data_completa_mod_15p)"
   ]
  },
  {
   "cell_type": "markdown",
   "metadata": {},
   "source": [
    "para el 20%"
   ]
  },
  {
   "cell_type": "code",
   "execution_count": 26,
   "metadata": {},
   "outputs": [],
   "source": [
    "from sklearn import preprocessing\n",
    "\n",
    "escalador20p = preprocessing.MinMaxScaler()\n",
    "escalados20p = escalador20p.fit_transform(data_completa_modelo20p)\n",
    "\n",
    "escalador220p = preprocessing.MinMaxScaler()\n",
    "escalados220p = escalador20p.fit_transform(data_completa_mod_20p)"
   ]
  },
  {
   "cell_type": "code",
   "execution_count": 40,
   "metadata": {},
   "outputs": [
    {
     "name": "stdout",
     "output_type": "stream",
     "text": [
      "592124\n",
      "592124\n"
     ]
    }
   ],
   "source": [
    "print(len(escalados))\n",
    "print(len(escalados2))"
   ]
  },
  {
   "cell_type": "code",
   "execution_count": 42,
   "metadata": {},
   "outputs": [
    {
     "name": "stdout",
     "output_type": "stream",
     "text": [
      "<class 'pandas.core.frame.DataFrame'>\n",
      "RangeIndex: 592124 entries, 0 to 592123\n",
      "Data columns (total 8 columns):\n",
      " #   Column  Non-Null Count   Dtype  \n",
      "---  ------  --------------   -----  \n",
      " 0   0       592124 non-null  float64\n",
      " 1   1       592124 non-null  float64\n",
      " 2   2       592124 non-null  float64\n",
      " 3   3       592124 non-null  float64\n",
      " 4   4       473699 non-null  float64\n",
      " 5   5       592124 non-null  float64\n",
      " 6   6       592124 non-null  float64\n",
      " 7   7       592124 non-null  float64\n",
      "dtypes: float64(8)\n",
      "memory usage: 36.1 MB\n"
     ]
    }
   ],
   "source": [
    "escalados220pdata= pd.DataFrame(escalados220p)\n",
    "escalados220pdata.info()"
   ]
  },
  {
   "cell_type": "code",
   "execution_count": 41,
   "metadata": {},
   "outputs": [
    {
     "data": {
      "text/plain": [
       "array([[8.33333333e-02, 4.54545455e-01, 2.66666667e-01, 1.54968095e-02,\n",
       "        1.61248103e-01, 8.31865913e-02],\n",
       "       [6.94444444e-01, 4.54545455e-01, 5.66666667e-01, 1.82315406e-02,\n",
       "        1.61248103e-01, 8.31865913e-02],\n",
       "       [6.94444444e-01, 4.54545455e-01, 6.00000000e-01,            nan,\n",
       "        1.61248103e-01, 8.31865913e-02],\n",
       "       ...,\n",
       "       [7.77777778e-01, 6.36363636e-01, 3.66666667e-01, 2.27894257e-04,\n",
       "        8.69051066e-01, 5.93848820e-01],\n",
       "       [7.77777778e-01, 6.36363636e-01, 2.00000000e-01, 2.27894257e-04,\n",
       "        8.69051066e-01, 5.93848820e-01],\n",
       "       [9.44444444e-01, 5.45454545e-01, 5.66666667e-01,            nan,\n",
       "        8.69051066e-01, 5.93848820e-01]])"
      ]
     },
     "execution_count": 41,
     "metadata": {},
     "output_type": "execute_result"
    }
   ],
   "source": [
    "escalados"
   ]
  },
  {
   "cell_type": "code",
   "execution_count": null,
   "metadata": {},
   "outputs": [],
   "source": [
    "escalados215p"
   ]
  },
  {
   "cell_type": "code",
   "execution_count": 28,
   "metadata": {},
   "outputs": [
    {
     "ename": "NameError",
     "evalue": "name 'escalados' is not defined",
     "output_type": "error",
     "traceback": [
      "\u001b[1;31m---------------------------------------------------------------------------\u001b[0m",
      "\u001b[1;31mNameError\u001b[0m                                 Traceback (most recent call last)",
      "Input \u001b[1;32mIn [28]\u001b[0m, in \u001b[0;36m<cell line: 1>\u001b[1;34m()\u001b[0m\n\u001b[1;32m----> 1\u001b[0m \u001b[43mescalados\u001b[49m\n\u001b[0;32m      3\u001b[0m faltantesprueba \u001b[38;5;241m=\u001b[39m escalados\u001b[38;5;241m.\u001b[39mcopy()\n",
      "\u001b[1;31mNameError\u001b[0m: name 'escalados' is not defined"
     ]
    }
   ],
   "source": [
    "escalados\n",
    "\n",
    "faltantesprueba = escalados.copy()"
   ]
  },
  {
   "cell_type": "code",
   "execution_count": 61,
   "metadata": {},
   "outputs": [
    {
     "ename": "NameError",
     "evalue": "name 'escaladosv2' is not defined",
     "output_type": "error",
     "traceback": [
      "\u001b[1;31m---------------------------------------------------------------------------\u001b[0m",
      "\u001b[1;31mNameError\u001b[0m                                 Traceback (most recent call last)",
      "Input \u001b[1;32mIn [61]\u001b[0m, in \u001b[0;36m<cell line: 1>\u001b[1;34m()\u001b[0m\n\u001b[1;32m----> 1\u001b[0m faltantespruebav2 \u001b[38;5;241m=\u001b[39m \u001b[43mescaladosv2\u001b[49m\u001b[38;5;241m.\u001b[39mcopy()\n",
      "\u001b[1;31mNameError\u001b[0m: name 'escaladosv2' is not defined"
     ]
    }
   ],
   "source": [
    "\n",
    "faltantespruebav2 = escaladosv2.copy()"
   ]
  },
  {
   "cell_type": "markdown",
   "metadata": {},
   "source": [
    "copy para el 15%"
   ]
  },
  {
   "cell_type": "code",
   "execution_count": 29,
   "metadata": {},
   "outputs": [],
   "source": [
    "\n",
    "faltantesprueba15p = escalados15p.copy()"
   ]
  },
  {
   "cell_type": "markdown",
   "metadata": {},
   "source": [
    "copy para el 20%"
   ]
  },
  {
   "cell_type": "code",
   "execution_count": 30,
   "metadata": {},
   "outputs": [],
   "source": [
    "faltantesprueba20p = escalados20p.copy()"
   ]
  },
  {
   "cell_type": "code",
   "execution_count": 50,
   "metadata": {},
   "outputs": [
    {
     "data": {
      "text/plain": [
       "array([[8.33333333e-02, 4.54545455e-01, 2.66666667e-01, ...,\n",
       "        1.61248103e-01, 8.31865913e-02, 1.54968095e-02],\n",
       "       [6.94444444e-01, 4.54545455e-01, 5.66666667e-01, ...,\n",
       "        1.61248103e-01, 8.31865913e-02, 1.82315406e-02],\n",
       "       [6.94444444e-01, 4.54545455e-01, 6.00000000e-01, ...,\n",
       "        1.61248103e-01, 8.31865913e-02, 2.73473108e-02],\n",
       "       ...,\n",
       "       [7.77777778e-01, 6.36363636e-01, 3.66666667e-01, ...,\n",
       "        8.69051066e-01, 5.93848820e-01, 2.27894257e-04],\n",
       "       [7.77777778e-01, 6.36363636e-01, 2.00000000e-01, ...,\n",
       "        8.69051066e-01, 5.93848820e-01, 2.27894257e-04],\n",
       "       [9.44444444e-01, 5.45454545e-01, 5.66666667e-01, ...,\n",
       "        8.69051066e-01, 5.93848820e-01, 0.00000000e+00]])"
      ]
     },
     "execution_count": 50,
     "metadata": {},
     "output_type": "execute_result"
    }
   ],
   "source": [
    "escalados2"
   ]
  },
  {
   "cell_type": "markdown",
   "metadata": {},
   "source": [
    "Lectura de librerias necesarias para el modelo KNN para imputacion de datos faltantes en paralelizacion con CPU"
   ]
  },
  {
   "cell_type": "markdown",
   "metadata": {},
   "source": [
    "## ANTES "
   ]
  },
  {
   "cell_type": "code",
   "execution_count": 40,
   "metadata": {},
   "outputs": [],
   "source": [
    "import pandas as pd\n",
    "import numpy as np\n",
    "from sklearn.impute import KNNImputer\n",
    "from joblib import Parallel, delayed"
   ]
  },
  {
   "cell_type": "code",
   "execution_count": 243,
   "metadata": {},
   "outputs": [
    {
     "ename": "TerminatedWorkerError",
     "evalue": "A worker process managed by the executor was unexpectedly terminated. This could be caused by a segmentation fault while calling the function or by an excessive memory usage causing the Operating System to kill the worker.\n",
     "output_type": "error",
     "traceback": [
      "\u001b[1;31m---------------------------------------------------------------------------\u001b[0m",
      "\u001b[1;31mTerminatedWorkerError\u001b[0m                     Traceback (most recent call last)",
      "\u001b[1;32mf:\\TESIS\\Proyecto_mod_precipitacion\\Codigos de Python\\NoteNook_model_KNN.ipynb Cell 113\u001b[0m line \u001b[0;36m<cell line: 29>\u001b[1;34m()\u001b[0m\n\u001b[0;32m     <a href='vscode-notebook-cell:/f%3A/TESIS/Proyecto_mod_precipitacion/Codigos%20de%20Python/NoteNook_model_KNN.ipynb#Y526sZmlsZQ%3D%3D?line=25'>26</a>\u001b[0m chunks \u001b[39m=\u001b[39m np\u001b[39m.\u001b[39marray_split(df, n_chunks)\n\u001b[0;32m     <a href='vscode-notebook-cell:/f%3A/TESIS/Proyecto_mod_precipitacion/Codigos%20de%20Python/NoteNook_model_KNN.ipynb#Y526sZmlsZQ%3D%3D?line=27'>28</a>\u001b[0m \u001b[39m# Paralelizar la imputación\u001b[39;00m\n\u001b[1;32m---> <a href='vscode-notebook-cell:/f%3A/TESIS/Proyecto_mod_precipitacion/Codigos%20de%20Python/NoteNook_model_KNN.ipynb#Y526sZmlsZQ%3D%3D?line=28'>29</a>\u001b[0m imputed_chunks \u001b[39m=\u001b[39m Parallel(n_jobs\u001b[39m=\u001b[39;49m\u001b[39m-\u001b[39;49m\u001b[39m1\u001b[39;49m)(delayed(impute_chunk)(chunk, imputer) \u001b[39mfor\u001b[39;49;00m chunk \u001b[39min\u001b[39;49;00m chunks)\n\u001b[0;32m     <a href='vscode-notebook-cell:/f%3A/TESIS/Proyecto_mod_precipitacion/Codigos%20de%20Python/NoteNook_model_KNN.ipynb#Y526sZmlsZQ%3D%3D?line=30'>31</a>\u001b[0m \u001b[39m# Concatenar los resultados\u001b[39;00m\n\u001b[0;32m     <a href='vscode-notebook-cell:/f%3A/TESIS/Proyecto_mod_precipitacion/Codigos%20de%20Python/NoteNook_model_KNN.ipynb#Y526sZmlsZQ%3D%3D?line=31'>32</a>\u001b[0m imputed_data \u001b[39m=\u001b[39m pd\u001b[39m.\u001b[39mconcat(imputed_chunks, ignore_index\u001b[39m=\u001b[39m\u001b[39mTrue\u001b[39;00m)\n",
      "File \u001b[1;32mc:\\Users\\ronal\\AppData\\Local\\Programs\\Python\\Python310\\lib\\site-packages\\joblib\\parallel.py:1056\u001b[0m, in \u001b[0;36mParallel.__call__\u001b[1;34m(self, iterable)\u001b[0m\n\u001b[0;32m   1053\u001b[0m     \u001b[39mself\u001b[39m\u001b[39m.\u001b[39m_iterating \u001b[39m=\u001b[39m \u001b[39mFalse\u001b[39;00m\n\u001b[0;32m   1055\u001b[0m \u001b[39mwith\u001b[39;00m \u001b[39mself\u001b[39m\u001b[39m.\u001b[39m_backend\u001b[39m.\u001b[39mretrieval_context():\n\u001b[1;32m-> 1056\u001b[0m     \u001b[39mself\u001b[39;49m\u001b[39m.\u001b[39;49mretrieve()\n\u001b[0;32m   1057\u001b[0m \u001b[39m# Make sure that we get a last message telling us we are done\u001b[39;00m\n\u001b[0;32m   1058\u001b[0m elapsed_time \u001b[39m=\u001b[39m time\u001b[39m.\u001b[39mtime() \u001b[39m-\u001b[39m \u001b[39mself\u001b[39m\u001b[39m.\u001b[39m_start_time\n",
      "File \u001b[1;32mc:\\Users\\ronal\\AppData\\Local\\Programs\\Python\\Python310\\lib\\site-packages\\joblib\\parallel.py:935\u001b[0m, in \u001b[0;36mParallel.retrieve\u001b[1;34m(self)\u001b[0m\n\u001b[0;32m    933\u001b[0m \u001b[39mtry\u001b[39;00m:\n\u001b[0;32m    934\u001b[0m     \u001b[39mif\u001b[39;00m \u001b[39mgetattr\u001b[39m(\u001b[39mself\u001b[39m\u001b[39m.\u001b[39m_backend, \u001b[39m'\u001b[39m\u001b[39msupports_timeout\u001b[39m\u001b[39m'\u001b[39m, \u001b[39mFalse\u001b[39;00m):\n\u001b[1;32m--> 935\u001b[0m         \u001b[39mself\u001b[39m\u001b[39m.\u001b[39m_output\u001b[39m.\u001b[39mextend(job\u001b[39m.\u001b[39;49mget(timeout\u001b[39m=\u001b[39;49m\u001b[39mself\u001b[39;49m\u001b[39m.\u001b[39;49mtimeout))\n\u001b[0;32m    936\u001b[0m     \u001b[39melse\u001b[39;00m:\n\u001b[0;32m    937\u001b[0m         \u001b[39mself\u001b[39m\u001b[39m.\u001b[39m_output\u001b[39m.\u001b[39mextend(job\u001b[39m.\u001b[39mget())\n",
      "File \u001b[1;32mc:\\Users\\ronal\\AppData\\Local\\Programs\\Python\\Python310\\lib\\site-packages\\joblib\\_parallel_backends.py:542\u001b[0m, in \u001b[0;36mLokyBackend.wrap_future_result\u001b[1;34m(future, timeout)\u001b[0m\n\u001b[0;32m    539\u001b[0m \u001b[39m\"\"\"Wrapper for Future.result to implement the same behaviour as\u001b[39;00m\n\u001b[0;32m    540\u001b[0m \u001b[39mAsyncResults.get from multiprocessing.\"\"\"\u001b[39;00m\n\u001b[0;32m    541\u001b[0m \u001b[39mtry\u001b[39;00m:\n\u001b[1;32m--> 542\u001b[0m     \u001b[39mreturn\u001b[39;00m future\u001b[39m.\u001b[39;49mresult(timeout\u001b[39m=\u001b[39;49mtimeout)\n\u001b[0;32m    543\u001b[0m \u001b[39mexcept\u001b[39;00m CfTimeoutError \u001b[39mas\u001b[39;00m e:\n\u001b[0;32m    544\u001b[0m     \u001b[39mraise\u001b[39;00m \u001b[39mTimeoutError\u001b[39;00m \u001b[39mfrom\u001b[39;00m \u001b[39me\u001b[39;00m\n",
      "File \u001b[1;32mc:\\Users\\ronal\\AppData\\Local\\Programs\\Python\\Python310\\lib\\concurrent\\futures\\_base.py:446\u001b[0m, in \u001b[0;36mFuture.result\u001b[1;34m(self, timeout)\u001b[0m\n\u001b[0;32m    444\u001b[0m     \u001b[39mraise\u001b[39;00m CancelledError()\n\u001b[0;32m    445\u001b[0m \u001b[39melif\u001b[39;00m \u001b[39mself\u001b[39m\u001b[39m.\u001b[39m_state \u001b[39m==\u001b[39m FINISHED:\n\u001b[1;32m--> 446\u001b[0m     \u001b[39mreturn\u001b[39;00m \u001b[39mself\u001b[39;49m\u001b[39m.\u001b[39;49m__get_result()\n\u001b[0;32m    447\u001b[0m \u001b[39melse\u001b[39;00m:\n\u001b[0;32m    448\u001b[0m     \u001b[39mraise\u001b[39;00m \u001b[39mTimeoutError\u001b[39;00m()\n",
      "File \u001b[1;32mc:\\Users\\ronal\\AppData\\Local\\Programs\\Python\\Python310\\lib\\concurrent\\futures\\_base.py:391\u001b[0m, in \u001b[0;36mFuture.__get_result\u001b[1;34m(self)\u001b[0m\n\u001b[0;32m    389\u001b[0m \u001b[39mif\u001b[39;00m \u001b[39mself\u001b[39m\u001b[39m.\u001b[39m_exception:\n\u001b[0;32m    390\u001b[0m     \u001b[39mtry\u001b[39;00m:\n\u001b[1;32m--> 391\u001b[0m         \u001b[39mraise\u001b[39;00m \u001b[39mself\u001b[39m\u001b[39m.\u001b[39m_exception\n\u001b[0;32m    392\u001b[0m     \u001b[39mfinally\u001b[39;00m:\n\u001b[0;32m    393\u001b[0m         \u001b[39m# Break a reference cycle with the exception in self._exception\u001b[39;00m\n\u001b[0;32m    394\u001b[0m         \u001b[39mself\u001b[39m \u001b[39m=\u001b[39m \u001b[39mNone\u001b[39;00m\n",
      "\u001b[1;31mTerminatedWorkerError\u001b[0m: A worker process managed by the executor was unexpectedly terminated. This could be caused by a segmentation fault while calling the function or by an excessive memory usage causing the Operating System to kill the worker.\n"
     ]
    }
   ],
   "source": [
    "import pandas as pd\n",
    "import numpy as np\n",
    "from sklearn.impute import KNNImputer\n",
    "from joblib import Parallel, delayed\n",
    "\n",
    "# Supongamos que tu DataFrame se llama df\n",
    "# Asegúrate de cargar tu DataFrame aquí, por ejemplo:\n",
    "# df = pd.read_csv('tu_archivo.csv')\n",
    "\n",
    "# Definir la función para imputar un fragmento del DataFrame\n",
    "def impute_chunk(df_chunk, imputer):\n",
    "    \"\"\"Función para imputar un fragmento del DataFrame.\"\"\"\n",
    "    # Asegúrate de que solo las columnas relevantes se imputen\n",
    "    cols_to_impute = ['prec']  # Cambia esto según las columnas que necesites imputar\n",
    "    df_chunk[cols_to_impute] = imputer.transform(df_chunk[cols_to_impute])\n",
    "    return df_chunk\n",
    "\n",
    "# Crear el imputador KNN\n",
    "imputer = KNNImputer(n_neighbors=5)  # Puedes ajustar el número de vecinos\n",
    "\n",
    "# Ajustar el imputador solo a la columna 'prec'\n",
    "imputer.fit(df[['prec']])\n",
    "\n",
    "# Dividir los datos en chunks para paralelizar\n",
    "n_chunks = 10  # Ajusta este número según tus necesidades y recursos\n",
    "chunks = np.array_split(df, n_chunks)\n",
    "\n",
    "# Paralelizar la imputación\n",
    "imputed_chunks = Parallel(n_jobs=-1)(delayed(impute_chunk)(chunk, imputer) for chunk in chunks)\n",
    "\n",
    "# Concatenar los resultados\n",
    "imputed_data = pd.concat(imputed_chunks, ignore_index=True)\n",
    "\n",
    "# imputed_data contiene tu DataFrame con los valores imputados en la columna 'prec'\n"
   ]
  },
  {
   "cell_type": "markdown",
   "metadata": {},
   "source": [
    "##  AHORA"
   ]
  },
  {
   "cell_type": "markdown",
   "metadata": {},
   "source": []
  },
  {
   "cell_type": "code",
   "execution_count": 299,
   "metadata": {},
   "outputs": [
    {
     "name": "stderr",
     "output_type": "stream",
     "text": [
      "exception calling callback for <Future at 0x20e31856830 state=finished raised TerminatedWorkerError>\n",
      "Traceback (most recent call last):\n",
      "  File \"c:\\Users\\ronal\\AppData\\Local\\Programs\\Python\\Python310\\lib\\site-packages\\joblib\\externals\\loky\\_base.py\", line 625, in _invoke_callbacks\n",
      "  File \"c:\\Users\\ronal\\AppData\\Local\\Programs\\Python\\Python310\\lib\\site-packages\\joblib\\parallel.py\", line 359, in __call__\n",
      "    **backend_params\n",
      "  File \"c:\\Users\\ronal\\AppData\\Local\\Programs\\Python\\Python310\\lib\\site-packages\\joblib\\parallel.py\", line 794, in dispatch_next\n",
      "    # registers the task outcome (TASK_ERROR or TASK_DONE), and schedules\n",
      "  File \"c:\\Users\\ronal\\AppData\\Local\\Programs\\Python\\Python310\\lib\\site-packages\\joblib\\parallel.py\", line 861, in dispatch_one_batch\n",
      "    with self.parallel._lock:\n",
      "  File \"c:\\Users\\ronal\\AppData\\Local\\Programs\\Python\\Python310\\lib\\site-packages\\joblib\\parallel.py\", line 779, in _dispatch\n",
      "  File \"c:\\Users\\ronal\\AppData\\Local\\Programs\\Python\\Python310\\lib\\site-packages\\joblib\\_parallel_backends.py\", line 531, in apply_async\n",
      "    \"\"\"Shutdown the process or thread pool\"\"\"\n",
      "  File \"c:\\Users\\ronal\\AppData\\Local\\Programs\\Python\\Python310\\lib\\site-packages\\joblib\\externals\\loky\\reusable_executor.py\", line 177, in submit\n",
      "    mp.util.debug(\n",
      "  File \"c:\\Users\\ronal\\AppData\\Local\\Programs\\Python\\Python310\\lib\\site-packages\\joblib\\externals\\loky\\process_executor.py\", line 1115, in submit\n",
      "    # of the main loop of executor_manager_thread from another thread (e.g.\n",
      "joblib.externals.loky.process_executor.TerminatedWorkerError: A worker process managed by the executor was unexpectedly terminated. This could be caused by a segmentation fault while calling the function or by an excessive memory usage causing the Operating System to kill the worker.\n",
      "\n"
     ]
    },
    {
     "name": "stdout",
     "output_type": "stream",
     "text": [
      "Error en la imputación paralela: A worker process managed by the executor was unexpectedly terminated. This could be caused by a segmentation fault while calling the function or by an excessive memory usage causing the Operating System to kill the worker.\n",
      "\n",
      "Intentando imputación secuencial...\n"
     ]
    }
   ],
   "source": [
    "import numpy as np\n",
    "from sklearn.impute import KNNImputer\n",
    "from joblib import Parallel, delayed\n",
    "\n",
    "# Función para aplicar KNNImputer a una parte de los datos\n",
    "def impute_part(data_part):\n",
    "    imputer = KNNImputer(n_neighbors=3, weights=\"distance\")  # Reducir el número de vecinos\n",
    "    return imputer.fit_transform(data_part)\n",
    "\n",
    "# Dividir el ndarray en partes más pequeñas\n",
    "num_parts = 8  # Ajustar según la capacidad de tu sistema\n",
    "part_size = faltantesprueba.shape[0] // num_parts\n",
    "data_parts = [faltantesprueba[i:i + part_size] for i in range(0, faltantesprueba.shape[0], part_size)]\n",
    "\n",
    "# Asegurar que la última parte incluya los datos residuales\n",
    "if faltantesprueba.shape[0] % num_parts != 0:\n",
    "    data_parts[-1] = np.vstack([data_parts[-1], faltantesprueba[-(faltantesprueba.shape[0] % num_parts):]])\n",
    "\n",
    "# Aplicar KNNImputer en paralelo o en secuencia si n_jobs=1\n",
    "try:\n",
    "    imputed_parts = Parallel(n_jobs=2)(delayed(impute_part)(part) for part in data_parts)\n",
    "    imputados_dis = np.vstack(imputed_parts)\n",
    "except Exception as e:\n",
    "    print(\"Error en la imputación paralela:\", e)\n",
    "    print(\"Intentando imputación secuencial...\")\n",
    "    imputados_dis = np.vstack([impute_part(part) for part in data_parts])\n"
   ]
  },
  {
   "cell_type": "code",
   "execution_count": 297,
   "metadata": {},
   "outputs": [
    {
     "name": "stderr",
     "output_type": "stream",
     "text": [
      "exception calling callback for <Future at 0x20e22479c60 state=finished raised TerminatedWorkerError>\n",
      "Traceback (most recent call last):\n",
      "  File \"c:\\Users\\ronal\\AppData\\Local\\Programs\\Python\\Python310\\lib\\site-packages\\joblib\\externals\\loky\\_base.py\", line 625, in _invoke_callbacks\n",
      "  File \"c:\\Users\\ronal\\AppData\\Local\\Programs\\Python\\Python310\\lib\\site-packages\\joblib\\parallel.py\", line 359, in __call__\n",
      "    **backend_params\n",
      "  File \"c:\\Users\\ronal\\AppData\\Local\\Programs\\Python\\Python310\\lib\\site-packages\\joblib\\parallel.py\", line 794, in dispatch_next\n",
      "    # registers the task outcome (TASK_ERROR or TASK_DONE), and schedules\n",
      "  File \"c:\\Users\\ronal\\AppData\\Local\\Programs\\Python\\Python310\\lib\\site-packages\\joblib\\parallel.py\", line 861, in dispatch_one_batch\n",
      "    with self.parallel._lock:\n",
      "  File \"c:\\Users\\ronal\\AppData\\Local\\Programs\\Python\\Python310\\lib\\site-packages\\joblib\\parallel.py\", line 779, in _dispatch\n",
      "  File \"c:\\Users\\ronal\\AppData\\Local\\Programs\\Python\\Python310\\lib\\site-packages\\joblib\\_parallel_backends.py\", line 531, in apply_async\n",
      "    \"\"\"Shutdown the process or thread pool\"\"\"\n",
      "  File \"c:\\Users\\ronal\\AppData\\Local\\Programs\\Python\\Python310\\lib\\site-packages\\joblib\\externals\\loky\\reusable_executor.py\", line 177, in submit\n",
      "    mp.util.debug(\n",
      "  File \"c:\\Users\\ronal\\AppData\\Local\\Programs\\Python\\Python310\\lib\\site-packages\\joblib\\externals\\loky\\process_executor.py\", line 1115, in submit\n",
      "    # of the main loop of executor_manager_thread from another thread (e.g.\n",
      "joblib.externals.loky.process_executor.TerminatedWorkerError: A worker process managed by the executor was unexpectedly terminated. This could be caused by a segmentation fault while calling the function or by an excessive memory usage causing the Operating System to kill the worker.\n",
      "\n"
     ]
    },
    {
     "name": "stdout",
     "output_type": "stream",
     "text": [
      "Error en la imputación paralela: A worker process managed by the executor was unexpectedly terminated. This could be caused by a segmentation fault while calling the function or by an excessive memory usage causing the Operating System to kill the worker.\n",
      "\n",
      "Intentando imputación secuencial...\n",
      "Unexpected exception formatting exception. Falling back to standard exception\n"
     ]
    },
    {
     "name": "stderr",
     "output_type": "stream",
     "text": [
      "Traceback (most recent call last):\n",
      "  File \"C:\\Users\\ronal\\AppData\\Local\\Temp\\ipykernel_6396\\2988072822.py\", line 21, in <cell line: 20>\n",
      "    imputed_parts = Parallel(n_jobs=2)(delayed(impute_part)(part) for part in data_parts)\n",
      "  File \"c:\\Users\\ronal\\AppData\\Local\\Programs\\Python\\Python310\\lib\\site-packages\\joblib\\parallel.py\", line 1056, in __call__\n",
      "  File \"c:\\Users\\ronal\\AppData\\Local\\Programs\\Python\\Python310\\lib\\site-packages\\joblib\\parallel.py\", line 935, in retrieve\n",
      "    Read more in the :ref:`User Guide <parallel>`.\n",
      "  File \"c:\\Users\\ronal\\AppData\\Local\\Programs\\Python\\Python310\\lib\\site-packages\\joblib\\_parallel_backends.py\", line 542, in wrap_future_result\n",
      "    def configure(self, n_jobs=1, parallel=None, prefer=None, require=None,\n",
      "  File \"c:\\Users\\ronal\\AppData\\Local\\Programs\\Python\\Python310\\lib\\concurrent\\futures\\_base.py\", line 446, in result\n",
      "    return self.__get_result()\n",
      "  File \"c:\\Users\\ronal\\AppData\\Local\\Programs\\Python\\Python310\\lib\\concurrent\\futures\\_base.py\", line 391, in __get_result\n",
      "    raise self._exception\n",
      "  File \"c:\\Users\\ronal\\AppData\\Local\\Programs\\Python\\Python310\\lib\\site-packages\\joblib\\externals\\loky\\_base.py\", line 625, in _invoke_callbacks\n",
      "  File \"c:\\Users\\ronal\\AppData\\Local\\Programs\\Python\\Python310\\lib\\site-packages\\joblib\\parallel.py\", line 359, in __call__\n",
      "    **backend_params\n",
      "  File \"c:\\Users\\ronal\\AppData\\Local\\Programs\\Python\\Python310\\lib\\site-packages\\joblib\\parallel.py\", line 794, in dispatch_next\n",
      "    # registers the task outcome (TASK_ERROR or TASK_DONE), and schedules\n",
      "  File \"c:\\Users\\ronal\\AppData\\Local\\Programs\\Python\\Python310\\lib\\site-packages\\joblib\\parallel.py\", line 861, in dispatch_one_batch\n",
      "    with self.parallel._lock:\n",
      "  File \"c:\\Users\\ronal\\AppData\\Local\\Programs\\Python\\Python310\\lib\\site-packages\\joblib\\parallel.py\", line 779, in _dispatch\n",
      "  File \"c:\\Users\\ronal\\AppData\\Local\\Programs\\Python\\Python310\\lib\\site-packages\\joblib\\_parallel_backends.py\", line 531, in apply_async\n",
      "    \"\"\"Shutdown the process or thread pool\"\"\"\n",
      "  File \"c:\\Users\\ronal\\AppData\\Local\\Programs\\Python\\Python310\\lib\\site-packages\\joblib\\externals\\loky\\reusable_executor.py\", line 177, in submit\n",
      "    mp.util.debug(\n",
      "  File \"c:\\Users\\ronal\\AppData\\Local\\Programs\\Python\\Python310\\lib\\site-packages\\joblib\\externals\\loky\\process_executor.py\", line 1115, in submit\n",
      "    # of the main loop of executor_manager_thread from another thread (e.g.\n",
      "joblib.externals.loky.process_executor.TerminatedWorkerError: A worker process managed by the executor was unexpectedly terminated. This could be caused by a segmentation fault while calling the function or by an excessive memory usage causing the Operating System to kill the worker.\n",
      "\n",
      "\n",
      "During handling of the above exception, another exception occurred:\n",
      "\n",
      "Traceback (most recent call last):\n",
      "  File \"c:\\Users\\ronal\\AppData\\Local\\Programs\\Python\\Python310\\lib\\site-packages\\IPython\\core\\interactiveshell.py\", line 3397, in run_code\n",
      "    exec(code_obj, self.user_global_ns, self.user_ns)\n",
      "  File \"C:\\Users\\ronal\\AppData\\Local\\Temp\\ipykernel_6396\\2988072822.py\", line 26, in <cell line: 20>\n",
      "    imputados_dis = np.vstack([impute_part(part) for part in data_parts])\n",
      "  File \"C:\\Users\\ronal\\AppData\\Local\\Temp\\ipykernel_6396\\2988072822.py\", line 26, in <listcomp>\n",
      "    imputados_dis = np.vstack([impute_part(part) for part in data_parts])\n",
      "  File \"C:\\Users\\ronal\\AppData\\Local\\Temp\\ipykernel_6396\\2988072822.py\", line 8, in impute_part\n",
      "    return imputer.fit_transform(data_part)\n",
      "  File \"c:\\Users\\ronal\\AppData\\Local\\Programs\\Python\\Python310\\lib\\site-packages\\sklearn\\base.py\", line 852, in fit_transform\n",
      "    Parameters\n",
      "  File \"c:\\Users\\ronal\\AppData\\Local\\Programs\\Python\\Python310\\lib\\site-packages\\sklearn\\impute\\_knn.py\", line 336, in transform\n",
      "  File \"c:\\Users\\ronal\\AppData\\Local\\Programs\\Python\\Python310\\lib\\site-packages\\sklearn\\metrics\\pairwise.py\", line 1726, in pairwise_distances_chunked\n",
      "  File \"c:\\Users\\ronal\\AppData\\Local\\Programs\\Python\\Python310\\lib\\site-packages\\sklearn\\impute\\_knn.py\", line 319, in process_chunk\n",
      "    # receivers_idx are indices in X\n",
      "  File \"c:\\Users\\ronal\\AppData\\Local\\Programs\\Python\\Python310\\lib\\site-packages\\sklearn\\impute\\_knn.py\", line 158, in _calc_impute\n",
      "    def _calc_impute(self, dist_pot_donors, n_neighbors, fit_X_col, mask_fit_X_col):\n",
      "  File \"c:\\Users\\ronal\\AppData\\Local\\Programs\\Python\\Python310\\lib\\site-packages\\numpy\\core\\fromnumeric.py\", line 858, in argpartition\n",
      "    return _wrapfunc(a, 'argpartition', kth, axis=axis, kind=kind, order=order)\n",
      "  File \"c:\\Users\\ronal\\AppData\\Local\\Programs\\Python\\Python310\\lib\\site-packages\\numpy\\core\\fromnumeric.py\", line 59, in _wrapfunc\n",
      "    return bound(*args, **kwds)\n",
      "KeyboardInterrupt\n",
      "\n",
      "During handling of the above exception, another exception occurred:\n",
      "\n",
      "Traceback (most recent call last):\n",
      "  File \"c:\\Users\\ronal\\AppData\\Local\\Programs\\Python\\Python310\\lib\\site-packages\\IPython\\core\\interactiveshell.py\", line 1992, in showtraceback\n",
      "    stb = self.InteractiveTB.structured_traceback(\n",
      "  File \"c:\\Users\\ronal\\AppData\\Local\\Programs\\Python\\Python310\\lib\\site-packages\\IPython\\core\\ultratb.py\", line 1118, in structured_traceback\n",
      "    return FormattedTB.structured_traceback(\n",
      "  File \"c:\\Users\\ronal\\AppData\\Local\\Programs\\Python\\Python310\\lib\\site-packages\\IPython\\core\\ultratb.py\", line 1012, in structured_traceback\n",
      "    return VerboseTB.structured_traceback(\n",
      "  File \"c:\\Users\\ronal\\AppData\\Local\\Programs\\Python\\Python310\\lib\\site-packages\\IPython\\core\\ultratb.py\", line 884, in structured_traceback\n",
      "    formatted_exceptions += self.format_exception_as_a_whole(etype, evalue, etb, lines_of_context,\n",
      "  File \"c:\\Users\\ronal\\AppData\\Local\\Programs\\Python\\Python310\\lib\\site-packages\\IPython\\core\\ultratb.py\", line 818, in format_exception_as_a_whole\n",
      "    frames.append(self.format_record(r))\n",
      "  File \"c:\\Users\\ronal\\AppData\\Local\\Programs\\Python\\Python310\\lib\\site-packages\\IPython\\core\\ultratb.py\", line 736, in format_record\n",
      "    result += ''.join(_format_traceback_lines(frame_info.lines, Colors, self.has_colors, lvals))\n",
      "  File \"c:\\Users\\ronal\\AppData\\Local\\Programs\\Python\\Python310\\lib\\site-packages\\stack_data\\utils.py\", line 145, in cached_property_wrapper\n",
      "    value = obj.__dict__[self.func.__name__] = self.func(obj)\n",
      "  File \"c:\\Users\\ronal\\AppData\\Local\\Programs\\Python\\Python310\\lib\\site-packages\\stack_data\\core.py\", line 698, in lines\n",
      "    pieces = self.included_pieces\n",
      "  File \"c:\\Users\\ronal\\AppData\\Local\\Programs\\Python\\Python310\\lib\\site-packages\\stack_data\\utils.py\", line 145, in cached_property_wrapper\n",
      "    value = obj.__dict__[self.func.__name__] = self.func(obj)\n",
      "  File \"c:\\Users\\ronal\\AppData\\Local\\Programs\\Python\\Python310\\lib\\site-packages\\stack_data\\core.py\", line 649, in included_pieces\n",
      "    pos = scope_pieces.index(self.executing_piece)\n",
      "  File \"c:\\Users\\ronal\\AppData\\Local\\Programs\\Python\\Python310\\lib\\site-packages\\stack_data\\utils.py\", line 145, in cached_property_wrapper\n",
      "    value = obj.__dict__[self.func.__name__] = self.func(obj)\n",
      "  File \"c:\\Users\\ronal\\AppData\\Local\\Programs\\Python\\Python310\\lib\\site-packages\\stack_data\\core.py\", line 628, in executing_piece\n",
      "    return only(\n",
      "  File \"c:\\Users\\ronal\\AppData\\Local\\Programs\\Python\\Python310\\lib\\site-packages\\executing\\executing.py\", line 164, in only\n",
      "    raise NotOneValueFound('Expected one value, found 0')\n",
      "executing.executing.NotOneValueFound: Expected one value, found 0\n"
     ]
    }
   ],
   "source": [
    "import numpy as np\n",
    "from sklearn.impute import KNNImputer\n",
    "from joblib import Parallel, delayed\n",
    "\n",
    "# Función para aplicar KNNImputer a una parte de los datos\n",
    "def impute_part(data_part):\n",
    "    imputer = KNNImputer(n_neighbors=3, weights=\"distance\")  # Reducir el número de vecinos\n",
    "    return imputer.fit_transform(data_part)\n",
    "\n",
    "# Dividir el ndarray en partes más pequeñas\n",
    "num_parts = 8  # Ajustar según la capacidad de tu sistema\n",
    "part_size = faltantesprueba.shape[0] // num_parts\n",
    "data_parts = [faltantesprueba[i:i + part_size] for i in range(0, faltantesprueba.shape[0], part_size)]\n",
    "\n",
    "# Asegurar que la última parte incluya los datos residuales\n",
    "if faltantesprueba.shape[0] % num_parts != 0:\n",
    "    data_parts[-1] = np.vstack([data_parts[-1], faltantesprueba[-(faltantesprueba.shape[0] % num_parts):]])\n",
    "\n",
    "# Aplicar KNNImputer en paralelo o en secuencia si n_jobs=1\n",
    "try:\n",
    "    imputed_parts = Parallel(n_jobs=2)(delayed(impute_part)(part) for part in data_parts)\n",
    "    imputados_dis = np.vstack(imputed_parts)\n",
    "except Exception as e:\n",
    "    print(\"Error en la imputación paralela:\", e)\n",
    "    print(\"Intentando imputación secuencial...\")\n",
    "    imputados_dis = np.vstack([impute_part(part) for part in data_parts])\n"
   ]
  },
  {
   "cell_type": "code",
   "execution_count": 274,
   "metadata": {},
   "outputs": [],
   "source": [
    "import numpy as np\n",
    "from sklearn.impute import KNNImputer\n",
    "\n",
    "def impute_part(data):\n",
    "    imputer = KNNImputer(n_neighbors=3, weights=\"distance\")  # Reducir el número de vecinos\n",
    "    return imputer.fit_transform(data)\n",
    "\n",
    "# Aumentar el número de divisiones\n",
    "num_parts = 10  # o más, según sea necesario\n",
    "part_size = len(faltantesprueba) // num_parts\n",
    "data_parts = [faltantesprueba[i:i + part_size] for i in range(0, len(faltantesprueba), part_size)]\n",
    "\n",
    "# Manejar cualquier dato residual\n",
    "if len(faltantesprueba) % num_parts != 0:\n",
    "    data_parts[-1] = np.vstack([data_parts[-1], faltantesprueba[-(len(faltantesprueba) % num_parts):]])\n",
    "\n",
    "# Realizar la imputación en cada parte de manera secuencial\n",
    "imputed_parts = [impute_part(part) for part in data_parts]\n",
    "\n",
    "# Combinar los resultados\n",
    "imputados_dis = np.vstack(imputed_parts)\n"
   ]
  },
  {
   "cell_type": "code",
   "execution_count": 275,
   "metadata": {},
   "outputs": [
    {
     "data": {
      "text/plain": [
       "592128"
      ]
     },
     "execution_count": 275,
     "metadata": {},
     "output_type": "execute_result"
    }
   ],
   "source": [
    "len(imputados_dis)"
   ]
  },
  {
   "cell_type": "code",
   "execution_count": 36,
   "metadata": {},
   "outputs": [
    {
     "data": {
      "text/plain": [
       "592124"
      ]
     },
     "execution_count": 36,
     "metadata": {},
     "output_type": "execute_result"
    }
   ],
   "source": [
    "len(escalados2)"
   ]
  },
  {
   "cell_type": "code",
   "execution_count": 255,
   "metadata": {},
   "outputs": [],
   "source": [
    "imputados_disvnew = imputados_dis"
   ]
  },
  {
   "cell_type": "code",
   "execution_count": 267,
   "metadata": {},
   "outputs": [
    {
     "data": {
      "text/plain": [
       "592128"
      ]
     },
     "execution_count": 267,
     "metadata": {},
     "output_type": "execute_result"
    }
   ],
   "source": [
    "len(imputados_disvnew)"
   ]
  },
  {
   "cell_type": "markdown",
   "metadata": {},
   "source": [
    "Euclidiano Bajo ajuste donde SI pondere por la distancia esto en el sentido de las variables transformadas es la búsqueda de la mínima distancia entre 2 puntos, definida en el contexto de los 'Elementos' de Euclides (c. 300 a.C.), donde se establecen los fundamentos de la geometría y se demuestra el teorema de Pitágoras (Euclides.org, n.d.; LibreTexts, n.d.) y para la medida su distancia el parametro weights = \"distance\", (se debe especificar este parametro dado que por defecto tiene establecido \"uniform\") de la funcion especifica que entre mayor sea su distancia tendra mas peso ponderado para el calculo final, siendo asi afectado por el ordenamiento y la imputacion del valor se ajustara a estos criterios."
   ]
  },
  {
   "cell_type": "code",
   "execution_count": 46,
   "metadata": {},
   "outputs": [],
   "source": [
    "import numpy as np\n",
    "from sklearn.impute import KNNImputer\n",
    "from joblib import Parallel, delayed\n",
    "\n",
    "# Supongamos que faltantes es tu conjunto de datos\n",
    "\n",
    "# Función para aplicar KNNImputer a una parte de los datos\n",
    "def impute_part(data):\n",
    "    imputer = KNNImputer(n_neighbors=5, weights=\"distance\")\n",
    "    return imputer.fit_transform(data)\n",
    "\n",
    "# Dividir los datos en N partes (N depende del número de núcleos de la CPU)\n",
    "part_size = len(faltantesprueba) // 4\n",
    "data_parts = [faltantesprueba[i:i + part_size] for i in range(0, len(faltantesprueba), part_size)]\n",
    "\n",
    "# Aplicar KNNImputer a cada parte en paralelo\n",
    "imputed_parts = Parallel(n_jobs=-1)(delayed(impute_part)(part) for part in data_parts)\n",
    "\n",
    "# Combinar los resultados\n",
    "imputados_dis = np.vstack(imputed_parts)\n",
    "\n",
    "# Si imputados_uni es necesario y está definido, combinarlo con imputados_dis\n",
    "# final_data = np.stack((imputados_uni, imputados_dis), axis=1)\n"
   ]
  },
  {
   "cell_type": "code",
   "execution_count": 36,
   "metadata": {},
   "outputs": [
    {
     "name": "stdout",
     "output_type": "stream",
     "text": [
      "592124\n"
     ]
    }
   ],
   "source": [
    "print(len(imputados_dis))"
   ]
  },
  {
   "cell_type": "markdown",
   "metadata": {},
   "source": [
    "Para el 15%"
   ]
  },
  {
   "cell_type": "code",
   "execution_count": 31,
   "metadata": {},
   "outputs": [],
   "source": [
    "import numpy as np\n",
    "from sklearn.impute import KNNImputer\n",
    "from joblib import Parallel, delayed\n",
    "\n",
    "# Supongamos que faltantes es tu conjunto de datos\n",
    "\n",
    "# Función para aplicar KNNImputer a una parte de los datos\n",
    "def impute_part(data):\n",
    "    imputer = KNNImputer(n_neighbors=5, weights=\"distance\")\n",
    "    return imputer.fit_transform(data)\n",
    "\n",
    "# Dividir los datos en N partes (N depende del número de núcleos de la CPU)\n",
    "part_size15p = len(faltantesprueba15p ) // 4\n",
    "data_parts15p = [faltantesprueba15p [i:i + part_size15p] for i in range(0, len(faltantesprueba15p ), part_size15p)]\n",
    "\n",
    "# Aplicar KNNImputer a cada parte en paralelo\n",
    "imputed_parts15p = Parallel(n_jobs=6)(delayed(impute_part)(part) for part in data_parts15p)\n",
    "\n",
    "# Combinar los resultados\n",
    "imputados_dis15p = np.vstack(imputed_parts15p)\n",
    "\n",
    "# Si imputados_uni es necesario y está definido, combinarlo con imputados_dis\n",
    "# final_data = np.stack((imputados_uni, imputados_dis), axis=1)\n"
   ]
  },
  {
   "cell_type": "markdown",
   "metadata": {},
   "source": []
  },
  {
   "cell_type": "code",
   "execution_count": 156,
   "metadata": {},
   "outputs": [
    {
     "name": "stdout",
     "output_type": "stream",
     "text": [
      "592124\n"
     ]
    }
   ],
   "source": [
    "print(len(imputados_dis15p))"
   ]
  },
  {
   "cell_type": "code",
   "execution_count": 37,
   "metadata": {},
   "outputs": [
    {
     "data": {
      "text/plain": [
       "array([[0.00000000e+00, 8.33333333e-02, 4.54545455e-01, ...,\n",
       "        1.54968095e-02, 1.61248103e-01, 8.31865913e-02],\n",
       "       [0.00000000e+00, 6.94444444e-01, 4.54545455e-01, ...,\n",
       "        1.82315406e-02, 1.61248103e-01, 8.31865913e-02],\n",
       "       [0.00000000e+00, 6.94444444e-01, 4.54545455e-01, ...,\n",
       "        2.73473108e-02, 1.61248103e-01, 8.31865913e-02],\n",
       "       ...,\n",
       "       [1.00000000e+00, 7.77777778e-01, 6.36363636e-01, ...,\n",
       "        2.27894257e-04, 8.69051066e-01, 5.93848820e-01],\n",
       "       [1.00000000e+00, 7.77777778e-01, 6.36363636e-01, ...,\n",
       "        2.27894257e-04, 8.69051066e-01, 5.93848820e-01],\n",
       "       [1.00000000e+00, 9.44444444e-01, 5.45454545e-01, ...,\n",
       "        0.00000000e+00, 8.69051066e-01, 5.93848820e-01]])"
      ]
     },
     "execution_count": 37,
     "metadata": {},
     "output_type": "execute_result"
    }
   ],
   "source": [
    "imputados_dis15p"
   ]
  },
  {
   "cell_type": "code",
   "execution_count": 39,
   "metadata": {},
   "outputs": [],
   "source": [
    "faltantesprueba15pdataframe = pd.DataFrame(faltantesprueba15p)"
   ]
  },
  {
   "cell_type": "code",
   "execution_count": 40,
   "metadata": {},
   "outputs": [
    {
     "name": "stdout",
     "output_type": "stream",
     "text": [
      "<class 'pandas.core.frame.DataFrame'>\n",
      "RangeIndex: 592124 entries, 0 to 592123\n",
      "Data columns (total 7 columns):\n",
      " #   Column  Non-Null Count   Dtype  \n",
      "---  ------  --------------   -----  \n",
      " 0   0       592124 non-null  float64\n",
      " 1   1       592124 non-null  float64\n",
      " 2   2       592124 non-null  float64\n",
      " 3   3       592124 non-null  float64\n",
      " 4   4       503305 non-null  float64\n",
      " 5   5       592124 non-null  float64\n",
      " 6   6       592124 non-null  float64\n",
      "dtypes: float64(7)\n",
      "memory usage: 31.6 MB\n"
     ]
    }
   ],
   "source": [
    "faltantesprueba15pdataframe.info()"
   ]
  },
  {
   "cell_type": "code",
   "execution_count": 41,
   "metadata": {},
   "outputs": [
    {
     "name": "stdout",
     "output_type": "stream",
     "text": [
      "<class 'pandas.core.frame.DataFrame'>\n",
      "RangeIndex: 592124 entries, 0 to 592123\n",
      "Data columns (total 7 columns):\n",
      " #   Column  Non-Null Count   Dtype  \n",
      "---  ------  --------------   -----  \n",
      " 0   0       592124 non-null  float64\n",
      " 1   1       592124 non-null  float64\n",
      " 2   2       592124 non-null  float64\n",
      " 3   3       592124 non-null  float64\n",
      " 4   4       592124 non-null  float64\n",
      " 5   5       592124 non-null  float64\n",
      " 6   6       592124 non-null  float64\n",
      "dtypes: float64(7)\n",
      "memory usage: 31.6 MB\n"
     ]
    }
   ],
   "source": [
    "imputados_dis15p2 = pd.DataFrame(imputados_dis15p)\n",
    "imputados_dis15p2.info()"
   ]
  },
  {
   "cell_type": "markdown",
   "metadata": {},
   "source": [
    "Para el 20 %"
   ]
  },
  {
   "cell_type": "code",
   "execution_count": 33,
   "metadata": {},
   "outputs": [],
   "source": [
    "import numpy as np\n",
    "from sklearn.impute import KNNImputer\n",
    "from joblib import Parallel, delayed\n",
    "\n",
    "# Supongamos que faltantes es tu conjunto de datos\n",
    "\n",
    "# Función para aplicar KNNImputer a una parte de los datos\n",
    "def impute_part(data):\n",
    "    imputer = KNNImputer(n_neighbors=5, weights=\"distance\")\n",
    "    return imputer.fit_transform(data)\n",
    "\n",
    "# Dividir los datos en N partes (N depende del número de núcleos de la CPU)\n",
    "part_size20p = len(faltantesprueba20p ) // 4\n",
    "data_parts20p = [faltantesprueba20p [i:i + part_size20p] for i in range(0, len(faltantesprueba20p ), part_size20p)]\n",
    "\n",
    "# Aplicar KNNImputer a cada parte en paralelo\n",
    "imputed_parts20p = Parallel(n_jobs=6)(delayed(impute_part)(part) for part in data_parts20p)\n",
    "\n",
    "# Combinar los resultados\n",
    "imputados_dis20p = np.vstack(imputed_parts20p)\n",
    "\n",
    "# Si imputados_uni es necesario y está definido, combinarlo con imputados_dis\n",
    "# final_data = np.stack((imputados_uni, imputados_dis), axis=1)"
   ]
  },
  {
   "cell_type": "code",
   "execution_count": 157,
   "metadata": {},
   "outputs": [
    {
     "name": "stdout",
     "output_type": "stream",
     "text": [
      "592124\n"
     ]
    }
   ],
   "source": [
    "print(len(imputados_dis20p))"
   ]
  },
  {
   "cell_type": "code",
   "execution_count": 28,
   "metadata": {},
   "outputs": [
    {
     "ename": "KeyboardInterrupt",
     "evalue": "",
     "output_type": "error",
     "traceback": [
      "\u001b[1;31m---------------------------------------------------------------------------\u001b[0m",
      "\u001b[1;31mKeyboardInterrupt\u001b[0m                         Traceback (most recent call last)",
      "\u001b[1;32mf:\\TESIS\\Proyecto_mod_precipitacion\\Codigos de Python\\NoteNook_model_KNN.ipynb Cell 132\u001b[0m line \u001b[0;36m<cell line: 17>\u001b[1;34m()\u001b[0m\n\u001b[0;32m     <a href='vscode-notebook-cell:/f%3A/TESIS/Proyecto_mod_precipitacion/Codigos%20de%20Python/NoteNook_model_KNN.ipynb#Y521sZmlsZQ%3D%3D?line=13'>14</a>\u001b[0m data_partsv2 \u001b[39m=\u001b[39m [faltantespruebav2[i:i \u001b[39m+\u001b[39m part_sizev2] \u001b[39mfor\u001b[39;00m i \u001b[39min\u001b[39;00m \u001b[39mrange\u001b[39m(\u001b[39m0\u001b[39m, \u001b[39mlen\u001b[39m(faltantespruebav2), part_sizev2)]\n\u001b[0;32m     <a href='vscode-notebook-cell:/f%3A/TESIS/Proyecto_mod_precipitacion/Codigos%20de%20Python/NoteNook_model_KNN.ipynb#Y521sZmlsZQ%3D%3D?line=15'>16</a>\u001b[0m \u001b[39m# Aplicar KNNImputer a cada parte en paralelo\u001b[39;00m\n\u001b[1;32m---> <a href='vscode-notebook-cell:/f%3A/TESIS/Proyecto_mod_precipitacion/Codigos%20de%20Python/NoteNook_model_KNN.ipynb#Y521sZmlsZQ%3D%3D?line=16'>17</a>\u001b[0m imputed_partsv2 \u001b[39m=\u001b[39m Parallel(n_jobs\u001b[39m=\u001b[39;49m\u001b[39m6\u001b[39;49m)(delayed(impute_part)(part) \u001b[39mfor\u001b[39;49;00m part \u001b[39min\u001b[39;49;00m data_partsv2)\n\u001b[0;32m     <a href='vscode-notebook-cell:/f%3A/TESIS/Proyecto_mod_precipitacion/Codigos%20de%20Python/NoteNook_model_KNN.ipynb#Y521sZmlsZQ%3D%3D?line=18'>19</a>\u001b[0m \u001b[39m# Combinar los resultados\u001b[39;00m\n\u001b[0;32m     <a href='vscode-notebook-cell:/f%3A/TESIS/Proyecto_mod_precipitacion/Codigos%20de%20Python/NoteNook_model_KNN.ipynb#Y521sZmlsZQ%3D%3D?line=19'>20</a>\u001b[0m imputados_disv2 \u001b[39m=\u001b[39m np\u001b[39m.\u001b[39mvstack(imputed_partsv2)\n",
      "File \u001b[1;32mc:\\Users\\ronal\\AppData\\Local\\Programs\\Python\\Python310\\lib\\site-packages\\joblib\\parallel.py:1952\u001b[0m, in \u001b[0;36mParallel.__call__\u001b[1;34m(self, iterable)\u001b[0m\n\u001b[0;32m   1946\u001b[0m \u001b[39m# The first item from the output is blank, but it makes the interpreter\u001b[39;00m\n\u001b[0;32m   1947\u001b[0m \u001b[39m# progress until it enters the Try/Except block of the generator and\u001b[39;00m\n\u001b[0;32m   1948\u001b[0m \u001b[39m# reach the first `yield` statement. This starts the aynchronous\u001b[39;00m\n\u001b[0;32m   1949\u001b[0m \u001b[39m# dispatch of the tasks to the workers.\u001b[39;00m\n\u001b[0;32m   1950\u001b[0m \u001b[39mnext\u001b[39m(output)\n\u001b[1;32m-> 1952\u001b[0m \u001b[39mreturn\u001b[39;00m output \u001b[39mif\u001b[39;00m \u001b[39mself\u001b[39m\u001b[39m.\u001b[39mreturn_generator \u001b[39melse\u001b[39;00m \u001b[39mlist\u001b[39;49m(output)\n",
      "File \u001b[1;32mc:\\Users\\ronal\\AppData\\Local\\Programs\\Python\\Python310\\lib\\site-packages\\joblib\\parallel.py:1595\u001b[0m, in \u001b[0;36mParallel._get_outputs\u001b[1;34m(self, iterator, pre_dispatch)\u001b[0m\n\u001b[0;32m   1592\u001b[0m     \u001b[39myield\u001b[39;00m\n\u001b[0;32m   1594\u001b[0m     \u001b[39mwith\u001b[39;00m \u001b[39mself\u001b[39m\u001b[39m.\u001b[39m_backend\u001b[39m.\u001b[39mretrieval_context():\n\u001b[1;32m-> 1595\u001b[0m         \u001b[39myield from\u001b[39;00m \u001b[39mself\u001b[39m\u001b[39m.\u001b[39m_retrieve()\n\u001b[0;32m   1597\u001b[0m \u001b[39mexcept\u001b[39;00m \u001b[39mGeneratorExit\u001b[39;00m:\n\u001b[0;32m   1598\u001b[0m     \u001b[39m# The generator has been garbage collected before being fully\u001b[39;00m\n\u001b[0;32m   1599\u001b[0m     \u001b[39m# consumed. This aborts the remaining tasks if possible and warn\u001b[39;00m\n\u001b[0;32m   1600\u001b[0m     \u001b[39m# the user if necessary.\u001b[39;00m\n\u001b[0;32m   1601\u001b[0m     \u001b[39mself\u001b[39m\u001b[39m.\u001b[39m_exception \u001b[39m=\u001b[39m \u001b[39mTrue\u001b[39;00m\n",
      "File \u001b[1;32mc:\\Users\\ronal\\AppData\\Local\\Programs\\Python\\Python310\\lib\\site-packages\\joblib\\parallel.py:1707\u001b[0m, in \u001b[0;36mParallel._retrieve\u001b[1;34m(self)\u001b[0m\n\u001b[0;32m   1702\u001b[0m \u001b[39m# If the next job is not ready for retrieval yet, we just wait for\u001b[39;00m\n\u001b[0;32m   1703\u001b[0m \u001b[39m# async callbacks to progress.\u001b[39;00m\n\u001b[0;32m   1704\u001b[0m \u001b[39mif\u001b[39;00m ((\u001b[39mlen\u001b[39m(\u001b[39mself\u001b[39m\u001b[39m.\u001b[39m_jobs) \u001b[39m==\u001b[39m \u001b[39m0\u001b[39m) \u001b[39mor\u001b[39;00m\n\u001b[0;32m   1705\u001b[0m     (\u001b[39mself\u001b[39m\u001b[39m.\u001b[39m_jobs[\u001b[39m0\u001b[39m]\u001b[39m.\u001b[39mget_status(\n\u001b[0;32m   1706\u001b[0m         timeout\u001b[39m=\u001b[39m\u001b[39mself\u001b[39m\u001b[39m.\u001b[39mtimeout) \u001b[39m==\u001b[39m TASK_PENDING)):\n\u001b[1;32m-> 1707\u001b[0m     time\u001b[39m.\u001b[39;49msleep(\u001b[39m0.01\u001b[39;49m)\n\u001b[0;32m   1708\u001b[0m     \u001b[39mcontinue\u001b[39;00m\n\u001b[0;32m   1710\u001b[0m \u001b[39m# We need to be careful: the job list can be filling up as\u001b[39;00m\n\u001b[0;32m   1711\u001b[0m \u001b[39m# we empty it and Python list are not thread-safe by\u001b[39;00m\n\u001b[0;32m   1712\u001b[0m \u001b[39m# default hence the use of the lock\u001b[39;00m\n",
      "\u001b[1;31mKeyboardInterrupt\u001b[0m: "
     ]
    }
   ],
   "source": [
    "import numpy as np\n",
    "from sklearn.impute import KNNImputer\n",
    "from joblib import Parallel, delayed\n",
    "\n",
    "# Supongamos que faltantes es tu conjunto de datos\n",
    "\n",
    "# Función para aplicar KNNImputer a una parte de los datos\n",
    "def impute_part(data):\n",
    "    imputer = KNNImputer(n_neighbors=5, weights=\"distance\")\n",
    "    return imputer.fit_transform(data)\n",
    "\n",
    "# Dividir los datos en N partes (N depende del número de núcleos de la CPU)\n",
    "part_sizev2 = len(faltantespruebav2) // 4\n",
    "data_partsv2 = [faltantespruebav2[i:i + part_sizev2] for i in range(0, len(faltantespruebav2), part_sizev2)]\n",
    "\n",
    "# Aplicar KNNImputer a cada parte en paralelo\n",
    "imputed_partsv2 = Parallel(n_jobs=6)(delayed(impute_part)(part) for part in data_partsv2)\n",
    "\n",
    "# Combinar los resultados\n",
    "imputados_disv2 = np.vstack(imputed_partsv2)\n",
    "\n",
    "# Si imputados_uni es necesario y está definido, combinarlo con imputados_dis\n",
    "# final_data = np.stack((imputados_uni, imputados_dis), axis=1)"
   ]
  },
  {
   "cell_type": "markdown",
   "metadata": {},
   "source": [
    "\n",
    "Euclidiano Bajo ajuste donde NO pondere por la distancia lo que implica que tomara sus K mas cercaron y el calculo se distribuira entrea los 5 con igual peso, por lo que todos aportan de igual medida al calculo final de la imputacion.\n"
   ]
  },
  {
   "cell_type": "code",
   "execution_count": 37,
   "metadata": {},
   "outputs": [],
   "source": [
    "import numpy as np\n",
    "from sklearn.impute import KNNImputer\n",
    "from joblib import Parallel, delayed\n",
    "\n",
    "# Supongamos que faltantes es tu conjunto de datos\n",
    "\n",
    "# Función para aplicar KNNImputer a una parte de los datos\n",
    "def impute_part(data):\n",
    "    imputer = KNNImputer(n_neighbors=5, weights=\"uniform\")\n",
    "    return imputer.fit_transform(data)\n",
    "\n",
    "# Dividir los datos en N partes (N depende del número de núcleos de la CPU)\n",
    "part_size = len(faltantesprueba) // 4\n",
    "data_parts = [faltantesprueba[i:i + part_size] for i in range(0, len(faltantesprueba), part_size)]\n",
    "\n",
    "# Aplicar KNNImputer a cada parte en paralelo\n",
    "imputed_parts = Parallel(n_jobs=4)(delayed(impute_part)(part) for part in data_parts)\n",
    "\n",
    "# Combinar los resultados\n",
    "imputados_dis_unifor = np.vstack(imputed_parts)\n",
    "\n",
    "# Si imputados_uni es necesario y está definido, combinarlo con imputados_dis\n",
    "# final_data = np.stack((imputados_uni, imputados_dis), axis=1)\n"
   ]
  },
  {
   "cell_type": "markdown",
   "metadata": {},
   "source": [
    "para el 15%"
   ]
  },
  {
   "cell_type": "code",
   "execution_count": 34,
   "metadata": {},
   "outputs": [],
   "source": [
    "import numpy as np\n",
    "from sklearn.impute import KNNImputer\n",
    "from joblib import Parallel, delayed\n",
    "\n",
    "# Supongamos que faltantes es tu conjunto de datos\n",
    "\n",
    "# Función para aplicar KNNImputer a una parte de los datos\n",
    "def impute_part(data):\n",
    "    imputer = KNNImputer(n_neighbors=5, weights=\"uniform\")\n",
    "    return imputer.fit_transform(data)\n",
    "\n",
    "# Dividir los datos en N partes (N depende del número de núcleos de la CPU)\n",
    "part_size = len(faltantesprueba15p) // 4\n",
    "data_parts = [faltantesprueba15p[i:i + part_size] for i in range(0, len(faltantesprueba15p), part_size)]\n",
    "\n",
    "# Aplicar KNNImputer a cada parte en paralelo\n",
    "imputed_parts_15p = Parallel(n_jobs=4)(delayed(impute_part)(part) for part in data_parts)\n",
    "\n",
    "# Combinar los resultados\n",
    "imputados_dis_unifor_15p = np.vstack(imputed_parts_15p)\n",
    "\n",
    "# Si imputados_uni es necesario y está definido, combinarlo con imputados_dis\n",
    "# final_data = np.stack((imputados_uni, imputados_dis), axis=1)"
   ]
  },
  {
   "cell_type": "markdown",
   "metadata": {},
   "source": [
    "para el 20%"
   ]
  },
  {
   "cell_type": "code",
   "execution_count": 35,
   "metadata": {},
   "outputs": [],
   "source": [
    "import numpy as np\n",
    "from sklearn.impute import KNNImputer\n",
    "from joblib import Parallel, delayed\n",
    "\n",
    "# Supongamos que faltantes es tu conjunto de datos\n",
    "\n",
    "# Función para aplicar KNNImputer a una parte de los datos\n",
    "def impute_part(data):\n",
    "    imputer = KNNImputer(n_neighbors=5, weights=\"uniform\")\n",
    "    return imputer.fit_transform(data)\n",
    "\n",
    "# Dividir los datos en N partes (N depende del número de núcleos de la CPU)\n",
    "part_size = len(faltantesprueba20p) // 4\n",
    "data_parts = [faltantesprueba20p[i:i + part_size] for i in range(0, len(faltantesprueba20p), part_size)]\n",
    "\n",
    "# Aplicar KNNImputer a cada parte en paralelo\n",
    "imputed_parts_20p = Parallel(n_jobs=4)(delayed(impute_part)(part) for part in data_parts)\n",
    "\n",
    "# Combinar los resultados\n",
    "imputados_dis_unifor_20p = np.vstack(imputed_parts_20p)\n",
    "\n",
    "# Si imputados_uni es necesario y está definido, combinarlo con imputados_dis\n",
    "# final_data = np.stack((imputados_uni, imputados_dis), axis=1)"
   ]
  },
  {
   "cell_type": "code",
   "execution_count": 38,
   "metadata": {},
   "outputs": [
    {
     "data": {
      "text/plain": [
       "array([[8.33333333e-02, 4.54545455e-01, 2.66666667e-01, 1.54968095e-02,\n",
       "        1.61248103e-01, 8.31865913e-02],\n",
       "       [6.94444444e-01, 4.54545455e-01, 5.66666667e-01, 1.82315406e-02,\n",
       "        1.61248103e-01, 8.31865913e-02],\n",
       "       [6.94444444e-01, 4.54545455e-01, 6.00000000e-01, 7.74840474e-03,\n",
       "        1.61248103e-01, 8.31865913e-02],\n",
       "       ...,\n",
       "       [7.77777778e-01, 6.36363636e-01, 3.66666667e-01, 2.27894257e-04,\n",
       "        8.69051066e-01, 5.93848820e-01],\n",
       "       [7.77777778e-01, 6.36363636e-01, 2.00000000e-01, 2.27894257e-04,\n",
       "        8.69051066e-01, 5.93848820e-01],\n",
       "       [9.44444444e-01, 5.45454545e-01, 5.66666667e-01, 1.76390155e-02,\n",
       "        8.69051066e-01, 5.93848820e-01]])"
      ]
     },
     "execution_count": 38,
     "metadata": {},
     "output_type": "execute_result"
    }
   ],
   "source": [
    "imputados_dis_unifor"
   ]
  },
  {
   "cell_type": "code",
   "execution_count": 35,
   "metadata": {},
   "outputs": [
    {
     "data": {
      "text/plain": [
       "array([[8.33333333e-02, 4.54545455e-01, 2.66666667e-01, 1.54968095e-02,\n",
       "        1.61248103e-01, 8.31865913e-02],\n",
       "       [6.94444444e-01, 4.54545455e-01, 5.66666667e-01, 1.82315406e-02,\n",
       "        1.61248103e-01, 8.31865913e-02],\n",
       "       [6.94444444e-01, 4.54545455e-01, 6.00000000e-01, 7.17587720e-03,\n",
       "        1.61248103e-01, 8.31865913e-02],\n",
       "       ...,\n",
       "       [7.77777778e-01, 6.36363636e-01, 3.66666667e-01, 2.27894257e-04,\n",
       "        8.69051066e-01, 5.93848820e-01],\n",
       "       [7.77777778e-01, 6.36363636e-01, 2.00000000e-01, 2.27894257e-04,\n",
       "        8.69051066e-01, 5.93848820e-01],\n",
       "       [9.44444444e-01, 5.45454545e-01, 5.66666667e-01, 1.85855675e-02,\n",
       "        8.69051066e-01, 5.93848820e-01]])"
      ]
     },
     "execution_count": 35,
     "metadata": {},
     "output_type": "execute_result"
    }
   ],
   "source": [
    "imputados_dis"
   ]
  },
  {
   "cell_type": "markdown",
   "metadata": {},
   "source": [
    "Guardar el modelo para evitar ejecucion y solo llamar sus parametros entrenados"
   ]
  },
  {
   "cell_type": "code",
   "execution_count": 53,
   "metadata": {},
   "outputs": [],
   "source": [
    "import pickle\n",
    "\n",
    "# Guardar el modelo\n",
    "with open('model_KNN_UNIF.pkl', 'wb') as f:\n",
    "    pickle.dump(imputed_parts, f)\n",
    "\n",
    "# Cargar el modelo\n",
    "with open('model_KNN_UNIF.pkl', 'rb') as f:\n",
    "    loaded_model = pickle.load(f)"
   ]
  },
  {
   "cell_type": "code",
   "execution_count": null,
   "metadata": {},
   "outputs": [],
   "source": [
    "#guardar modelo \n",
    "\n",
    "# import joblib\n",
    "# import pickle\n",
    "\n",
    "# joblib.dump(imputed_parts, 'model_KNN_UNIF.pkl' )\n",
    "\n"
   ]
  },
  {
   "cell_type": "code",
   "execution_count": 55,
   "metadata": {},
   "outputs": [
    {
     "name": "stdout",
     "output_type": "stream",
     "text": [
      "Requirement already satisfied: scipy in c:\\users\\ronal\\appdata\\local\\programs\\python\\python310\\lib\\site-packages (1.11.3)\n",
      "Requirement already satisfied: numpy<1.28.0,>=1.21.6 in c:\\users\\ronal\\appdata\\local\\programs\\python\\python310\\lib\\site-packages (from scipy) (1.26.1)\n",
      "Note: you may need to restart the kernel to use updated packages.\n"
     ]
    }
   ],
   "source": [
    "pip install scipy"
   ]
  },
  {
   "cell_type": "markdown",
   "metadata": {},
   "source": [
    "Metrica bajo la distancia de Mahalanobis"
   ]
  },
  {
   "cell_type": "code",
   "execution_count": 53,
   "metadata": {},
   "outputs": [
    {
     "name": "stderr",
     "output_type": "stream",
     "text": [
      "c:\\Users\\ronal\\AppData\\Local\\Programs\\Python\\Python310\\lib\\site-packages\\distributed\\node.py:182: UserWarning: Port 8787 is already in use.\n",
      "Perhaps you already have a cluster running?\n",
      "Hosting the HTTP server on port 7423 instead\n",
      "  warnings.warn(\n"
     ]
    },
    {
     "ename": "NameError",
     "evalue": "name 'faltantesprueba' is not defined",
     "output_type": "error",
     "traceback": [
      "\u001b[1;31m---------------------------------------------------------------------------\u001b[0m",
      "\u001b[1;31mNameError\u001b[0m                                 Traceback (most recent call last)",
      "Input \u001b[1;32mIn [53]\u001b[0m, in \u001b[0;36m<cell line: 14>\u001b[1;34m()\u001b[0m\n\u001b[0;32m      7\u001b[0m client \u001b[38;5;241m=\u001b[39m Client()\n\u001b[0;32m      9\u001b[0m \u001b[38;5;66;03m# Supongamos que 'faltantesprueba' es tu conjunto de datos en formato NumPy\u001b[39;00m\n\u001b[0;32m     10\u001b[0m \u001b[38;5;66;03m# Convertirlo a Dask Array. Por ejemplo, si faltantesprueba es un array de NumPy:\u001b[39;00m\n\u001b[0;32m     11\u001b[0m \u001b[38;5;66;03m# faltantesprueba = da.from_array(tu_conjunto_de_datos, chunks=(1000, -1))\u001b[39;00m\n\u001b[0;32m     12\u001b[0m \n\u001b[0;32m     13\u001b[0m \u001b[38;5;66;03m# En este caso, convertimos un array NumPy a un Dask Array\u001b[39;00m\n\u001b[1;32m---> 14\u001b[0m faltantesprueba_dask \u001b[38;5;241m=\u001b[39m da\u001b[38;5;241m.\u001b[39mfrom_array(\u001b[43mfaltantesprueba\u001b[49m, chunks\u001b[38;5;241m=\u001b[39m(\u001b[38;5;241m1000\u001b[39m, \u001b[38;5;241m-\u001b[39m\u001b[38;5;241m1\u001b[39m))\n\u001b[0;32m     16\u001b[0m \u001b[38;5;66;03m# Consideramos solo las filas sin NaN para el cálculo de la matriz de covarianza\u001b[39;00m\n\u001b[0;32m     17\u001b[0m \u001b[38;5;66;03m# En Dask, usamos .compute() para ejecutar los cálculos en paralelo\u001b[39;00m\n\u001b[0;32m     18\u001b[0m valid_data \u001b[38;5;241m=\u001b[39m faltantesprueba_dask[\u001b[38;5;241m~\u001b[39mda\u001b[38;5;241m.\u001b[39misnan(faltantesprueba_dask)\u001b[38;5;241m.\u001b[39many(axis\u001b[38;5;241m=\u001b[39m\u001b[38;5;241m1\u001b[39m)]\u001b[38;5;241m.\u001b[39mcompute()\n",
      "\u001b[1;31mNameError\u001b[0m: name 'faltantesprueba' is not defined"
     ]
    }
   ],
   "source": [
    "import dask.array as da\n",
    "from sklearn.covariance import EmpiricalCovariance\n",
    "from dask.distributed import Client\n",
    "import numpy as np\n",
    "\n",
    "# Inicializa un cliente Dask para la paralelización\n",
    "client = Client()\n",
    "\n",
    "# Supongamos que 'faltantesprueba' es tu conjunto de datos en formato NumPy\n",
    "# Convertirlo a Dask Array. Por ejemplo, si faltantesprueba es un array de NumPy:\n",
    "# faltantesprueba = da.from_array(tu_conjunto_de_datos, chunks=(1000, -1))\n",
    "\n",
    "# En este caso, convertimos un array NumPy a un Dask Array\n",
    "faltantesprueba_dask = da.from_array(faltantesprueba, chunks=(1000, -1))\n",
    "\n",
    "# Consideramos solo las filas sin NaN para el cálculo de la matriz de covarianza\n",
    "# En Dask, usamos .compute() para ejecutar los cálculos en paralelo\n",
    "valid_data = faltantesprueba_dask[~da.isnan(faltantesprueba_dask).any(axis=1)].compute()\n",
    "\n",
    "# Calcula la matriz de covarianza inversa (ignora filas con NaN)\n",
    "cov_matrix = EmpiricalCovariance().fit(valid_data)\n",
    "VI = cov_matrix.precision_\n",
    "\n",
    "# Ahora puedes usar 'VI' para la distancia de Mahalanobis en tu imputación KNN\n"
   ]
  },
  {
   "cell_type": "code",
   "execution_count": null,
   "metadata": {},
   "outputs": [
    {
     "name": "stderr",
     "output_type": "stream",
     "text": [
      "c:\\Users\\ronal\\AppData\\Local\\Programs\\Python\\Python310\\lib\\site-packages\\distributed\\node.py:182: UserWarning: Port 8787 is already in use.\n",
      "Perhaps you already have a cluster running?\n",
      "Hosting the HTTP server on port 7466 instead\n",
      "  warnings.warn(\n"
     ]
    },
    {
     "name": "stderr",
     "output_type": "stream",
     "text": [
      "2024-02-19 01:02:53,373 - distributed.nanny - WARNING - Restarting worker\n",
      "2024-02-19 01:02:53,374 - distributed.nanny - WARNING - Restarting worker\n",
      "2024-02-19 07:56:15,639 - distributed.scheduler - WARNING - Worker failed to heartbeat within 300 seconds. Closing: <WorkerState 'tcp://127.0.0.1:38472', name: 1, status: running, memory: 0, processing: 0>\n",
      "2024-02-19 07:56:15,688 - distributed.scheduler - WARNING - Worker failed to heartbeat within 300 seconds. Closing: <WorkerState 'tcp://127.0.0.1:38390', name: 1, status: running, memory: 0, processing: 0>\n",
      "2024-02-19 07:56:15,705 - distributed.scheduler - WARNING - Worker failed to heartbeat within 300 seconds. Closing: <WorkerState 'tcp://127.0.0.1:7489', name: 3, status: running, memory: 0, processing: 0>\n",
      "2024-02-19 07:56:15,705 - distributed.scheduler - WARNING - Worker failed to heartbeat within 300 seconds. Closing: <WorkerState 'tcp://127.0.0.1:8071', name: 3, status: running, memory: 0, processing: 0>\n",
      "2024-02-19 07:56:15,705 - distributed.scheduler - WARNING - Worker failed to heartbeat within 300 seconds. Closing: <WorkerState 'tcp://127.0.0.1:37959', name: 3, status: running, memory: 0, processing: 0>\n",
      "2024-02-19 07:56:15,705 - distributed.scheduler - WARNING - Worker failed to heartbeat within 300 seconds. Closing: <WorkerState 'tcp://127.0.0.1:38153', name: 0, status: running, memory: 0, processing: 0>\n",
      "2024-02-19 07:56:15,706 - distributed.scheduler - WARNING - Worker failed to heartbeat within 300 seconds. Closing: <WorkerState 'tcp://127.0.0.1:10952', name: 1, status: running, memory: 0, processing: 0>\n",
      "2024-02-19 07:56:15,706 - distributed.scheduler - WARNING - Worker failed to heartbeat within 300 seconds. Closing: <WorkerState 'tcp://127.0.0.1:7444', name: 1, status: running, memory: 0, processing: 0>\n",
      "2024-02-19 07:56:15,706 - distributed.scheduler - WARNING - Worker failed to heartbeat within 300 seconds. Closing: <WorkerState 'tcp://127.0.0.1:38198', name: 1, status: running, memory: 0, processing: 0>\n",
      "2024-02-19 07:56:15,707 - distributed.scheduler - WARNING - Worker failed to heartbeat within 300 seconds. Closing: <WorkerState 'tcp://127.0.0.1:7085', name: 2, status: running, memory: 0, processing: 0>\n",
      "2024-02-19 07:56:15,707 - distributed.scheduler - WARNING - Worker failed to heartbeat within 300 seconds. Closing: <WorkerState 'tcp://127.0.0.1:43661', name: 1, status: running, memory: 0, processing: 0>\n",
      "2024-02-19 07:56:15,707 - distributed.scheduler - WARNING - Worker failed to heartbeat within 300 seconds. Closing: <WorkerState 'tcp://127.0.0.1:38435', name: 2, status: running, memory: 0, processing: 0>\n",
      "2024-02-19 07:56:15,713 - distributed.scheduler - WARNING - Worker failed to heartbeat within 300 seconds. Closing: <WorkerState 'tcp://127.0.0.1:37832', name: 3, status: running, memory: 0, processing: 0>\n",
      "2024-02-19 07:56:24,240 - distributed.scheduler - WARNING - Worker failed to heartbeat within 300 seconds. Closing: <WorkerState 'tcp://127.0.0.1:4725', name: 2, status: running, memory: 0, processing: 0>\n",
      "2024-02-19 07:56:24,628 - distributed.scheduler - WARNING - Worker failed to heartbeat within 300 seconds. Closing: <WorkerState 'tcp://127.0.0.1:7498', name: 1, status: running, memory: 0, processing: 0>\n",
      "2024-02-19 07:56:24,630 - distributed.scheduler - WARNING - Received heartbeat from unregistered worker 'tcp://127.0.0.1:8071'.\n",
      "2024-02-19 07:56:26,273 - distributed.scheduler - WARNING - Received heartbeat from unregistered worker 'tcp://127.0.0.1:10952'.\n",
      "2024-02-19 07:56:26,275 - distributed.scheduler - WARNING - Worker failed to heartbeat within 300 seconds. Closing: <WorkerState 'tcp://127.0.0.1:7448', name: 2, status: running, memory: 0, processing: 0>\n",
      "2024-02-19 07:56:27,164 - distributed.scheduler - WARNING - Worker failed to heartbeat within 300 seconds. Closing: <WorkerState 'tcp://127.0.0.1:7094', name: 1, status: running, memory: 0, processing: 0>\n",
      "2024-02-19 07:56:27,257 - distributed.scheduler - WARNING - Worker failed to heartbeat within 300 seconds. Closing: <WorkerState 'tcp://127.0.0.1:55631', name: 0, status: running, memory: 0, processing: 0>\n",
      "2024-02-19 07:56:27,582 - distributed.scheduler - WARNING - Received heartbeat from unregistered worker 'tcp://127.0.0.1:38435'.\n",
      "2024-02-19 07:56:27,809 - distributed.scheduler - WARNING - Received heartbeat from unregistered worker 'tcp://127.0.0.1:38390'.\n",
      "2024-02-19 07:56:27,810 - distributed.scheduler - WARNING - Received heartbeat from unregistered worker 'tcp://127.0.0.1:37832'.\n",
      "2024-02-19 07:56:27,823 - distributed.scheduler - WARNING - Received heartbeat from unregistered worker 'tcp://127.0.0.1:7498'.\n",
      "2024-02-19 07:56:27,961 - distributed.scheduler - WARNING - Received heartbeat from unregistered worker 'tcp://127.0.0.1:7444'.\n",
      "2024-02-19 07:56:27,980 - distributed.scheduler - WARNING - Received heartbeat from unregistered worker 'tcp://127.0.0.1:7094'.\n",
      "2024-02-19 07:56:27,989 - distributed.scheduler - WARNING - Received heartbeat from unregistered worker 'tcp://127.0.0.1:43661'.\n",
      "2024-02-19 07:56:28,027 - distributed.scheduler - WARNING - Received heartbeat from unregistered worker 'tcp://127.0.0.1:4725'.\n",
      "2024-02-19 07:56:28,028 - distributed.scheduler - WARNING - Received heartbeat from unregistered worker 'tcp://127.0.0.1:7489'.\n",
      "2024-02-19 07:56:28,035 - distributed.scheduler - WARNING - Received heartbeat from unregistered worker 'tcp://127.0.0.1:7448'.\n",
      "2024-02-19 07:56:28,076 - distributed.scheduler - WARNING - Received heartbeat from unregistered worker 'tcp://127.0.0.1:7085'.\n",
      "2024-02-19 07:56:29,596 - distributed.scheduler - WARNING - Received heartbeat from unregistered worker 'tcp://127.0.0.1:37959'.\n",
      "2024-02-19 07:56:30,632 - distributed.scheduler - WARNING - Received heartbeat from unregistered worker 'tcp://127.0.0.1:38472'.\n",
      "2024-02-19 07:56:30,951 - distributed.nanny - WARNING - Restarting worker\n",
      "2024-02-19 07:56:31,594 - distributed.nanny - WARNING - Restarting worker\n",
      "2024-02-19 07:56:32,060 - distributed.scheduler - WARNING - Received heartbeat from unregistered worker 'tcp://127.0.0.1:38198'.\n",
      "2024-02-19 07:56:32,142 - distributed.scheduler - WARNING - Received heartbeat from unregistered worker 'tcp://127.0.0.1:38153'.\n",
      "2024-02-19 07:56:38,625 - distributed.scheduler - WARNING - Received heartbeat from unregistered worker 'tcp://127.0.0.1:55631'.\n",
      "2024-02-19 07:56:42,970 - distributed.nanny - WARNING - Worker process still alive after 3.199999389648438 seconds, killing\n",
      "2024-02-19 07:56:42,990 - distributed.nanny - WARNING - Restarting worker\n",
      "2024-02-19 07:56:44,020 - distributed.nanny - WARNING - Worker process still alive after 3.1999986267089846 seconds, killing\n",
      "2024-02-19 07:56:44,198 - distributed.nanny - WARNING - Worker process still alive after 3.1999989318847657 seconds, killing\n",
      "2024-02-19 07:56:44,477 - distributed.nanny - ERROR - Error in Nanny killing Worker subprocess\n",
      "Traceback (most recent call last):\n",
      "  File \"c:\\Users\\ronal\\AppData\\Local\\Programs\\Python\\Python310\\lib\\asyncio\\tasks.py\", line 418, in wait_for\n",
      "    return fut.result()\n",
      "asyncio.exceptions.CancelledError\n",
      "\n",
      "The above exception was the direct cause of the following exception:\n",
      "\n",
      "Traceback (most recent call last):\n",
      "  File \"c:\\Users\\ronal\\AppData\\Local\\Programs\\Python\\Python310\\lib\\site-packages\\distributed\\nanny.py\", line 607, in close\n",
      "    await self.kill(timeout=timeout, reason=reason)\n",
      "  File \"c:\\Users\\ronal\\AppData\\Local\\Programs\\Python\\Python310\\lib\\site-packages\\distributed\\nanny.py\", line 390, in kill\n",
      "    await self.process.kill(reason=reason, timeout=0.8 * (deadline - time()))\n",
      "  File \"c:\\Users\\ronal\\AppData\\Local\\Programs\\Python\\Python310\\lib\\site-packages\\distributed\\nanny.py\", line 844, in kill\n",
      "    await process.join(max(0, deadline - time()))\n",
      "  File \"c:\\Users\\ronal\\AppData\\Local\\Programs\\Python\\Python310\\lib\\site-packages\\distributed\\process.py\", line 330, in join\n",
      "    await wait_for(asyncio.shield(self._exit_future), timeout)\n",
      "  File \"c:\\Users\\ronal\\AppData\\Local\\Programs\\Python\\Python310\\lib\\site-packages\\distributed\\utils.py\", line 1849, in wait_for\n",
      "    return await asyncio.wait_for(fut, timeout)\n",
      "  File \"c:\\Users\\ronal\\AppData\\Local\\Programs\\Python\\Python310\\lib\\asyncio\\tasks.py\", line 420, in wait_for\n",
      "    raise exceptions.TimeoutError() from exc\n",
      "asyncio.exceptions.TimeoutError\n",
      "2024-02-19 07:56:44,812 - distributed.nanny - ERROR - Error in Nanny killing Worker subprocess\n",
      "Traceback (most recent call last):\n",
      "  File \"c:\\Users\\ronal\\AppData\\Local\\Programs\\Python\\Python310\\lib\\asyncio\\tasks.py\", line 456, in wait_for\n",
      "    return fut.result()\n",
      "asyncio.exceptions.CancelledError\n",
      "\n",
      "The above exception was the direct cause of the following exception:\n",
      "\n",
      "Traceback (most recent call last):\n",
      "  File \"c:\\Users\\ronal\\AppData\\Local\\Programs\\Python\\Python310\\lib\\site-packages\\distributed\\nanny.py\", line 607, in close\n",
      "    await self.kill(timeout=timeout, reason=reason)\n",
      "  File \"c:\\Users\\ronal\\AppData\\Local\\Programs\\Python\\Python310\\lib\\site-packages\\distributed\\nanny.py\", line 390, in kill\n",
      "    await self.process.kill(reason=reason, timeout=0.8 * (deadline - time()))\n",
      "  File \"c:\\Users\\ronal\\AppData\\Local\\Programs\\Python\\Python310\\lib\\site-packages\\distributed\\nanny.py\", line 844, in kill\n",
      "    await process.join(max(0, deadline - time()))\n",
      "  File \"c:\\Users\\ronal\\AppData\\Local\\Programs\\Python\\Python310\\lib\\site-packages\\distributed\\process.py\", line 330, in join\n",
      "    await wait_for(asyncio.shield(self._exit_future), timeout)\n",
      "  File \"c:\\Users\\ronal\\AppData\\Local\\Programs\\Python\\Python310\\lib\\site-packages\\distributed\\utils.py\", line 1849, in wait_for\n",
      "    return await asyncio.wait_for(fut, timeout)\n",
      "  File \"c:\\Users\\ronal\\AppData\\Local\\Programs\\Python\\Python310\\lib\\asyncio\\tasks.py\", line 458, in wait_for\n",
      "    raise exceptions.TimeoutError() from exc\n",
      "asyncio.exceptions.TimeoutError\n",
      "2024-02-19 07:56:44,827 - distributed.nanny - ERROR - Error in Nanny killing Worker subprocess\n",
      "Traceback (most recent call last):\n",
      "  File \"c:\\Users\\ronal\\AppData\\Local\\Programs\\Python\\Python310\\lib\\asyncio\\tasks.py\", line 456, in wait_for\n",
      "    return fut.result()\n",
      "asyncio.exceptions.CancelledError\n",
      "\n",
      "The above exception was the direct cause of the following exception:\n",
      "\n",
      "Traceback (most recent call last):\n",
      "  File \"c:\\Users\\ronal\\AppData\\Local\\Programs\\Python\\Python310\\lib\\site-packages\\distributed\\nanny.py\", line 607, in close\n",
      "    await self.kill(timeout=timeout, reason=reason)\n",
      "  File \"c:\\Users\\ronal\\AppData\\Local\\Programs\\Python\\Python310\\lib\\site-packages\\distributed\\nanny.py\", line 390, in kill\n",
      "    await self.process.kill(reason=reason, timeout=0.8 * (deadline - time()))\n",
      "  File \"c:\\Users\\ronal\\AppData\\Local\\Programs\\Python\\Python310\\lib\\site-packages\\distributed\\nanny.py\", line 844, in kill\n",
      "    await process.join(max(0, deadline - time()))\n",
      "  File \"c:\\Users\\ronal\\AppData\\Local\\Programs\\Python\\Python310\\lib\\site-packages\\distributed\\process.py\", line 330, in join\n",
      "    await wait_for(asyncio.shield(self._exit_future), timeout)\n",
      "  File \"c:\\Users\\ronal\\AppData\\Local\\Programs\\Python\\Python310\\lib\\site-packages\\distributed\\utils.py\", line 1849, in wait_for\n",
      "    return await asyncio.wait_for(fut, timeout)\n",
      "  File \"c:\\Users\\ronal\\AppData\\Local\\Programs\\Python\\Python310\\lib\\asyncio\\tasks.py\", line 458, in wait_for\n",
      "    raise exceptions.TimeoutError() from exc\n",
      "asyncio.exceptions.TimeoutError\n",
      "2024-02-19 07:56:45,971 - distributed.nanny - WARNING - Worker process still alive after 3.199999389648438 seconds, killing\n",
      "2024-02-19 07:56:46,165 - distributed.nanny - WARNING - Worker process still alive after 3.1999992370605472 seconds, killing\n",
      "2024-02-19 07:56:46,186 - distributed.nanny - WARNING - Worker process still alive after 3.1999986267089846 seconds, killing\n",
      "2024-02-19 07:56:46,203 - distributed.nanny - WARNING - Worker process still alive after 3.199998474121094 seconds, killing\n",
      "2024-02-19 07:56:46,266 - distributed.nanny - WARNING - Worker process still alive after 3.1999989318847657 seconds, killing\n",
      "2024-02-19 07:56:46,267 - distributed.nanny - WARNING - Worker process still alive after 3.1999992370605472 seconds, killing\n",
      "2024-02-19 07:56:46,298 - distributed.nanny - WARNING - Worker process still alive after 3.1999987792968754 seconds, killing\n",
      "2024-02-19 07:56:46,299 - distributed.nanny - WARNING - Worker process still alive after 3.1999992370605472 seconds, killing\n",
      "2024-02-19 07:56:46,352 - distributed.nanny - WARNING - Worker process still alive after 3.1999987792968754 seconds, killing\n",
      "2024-02-19 07:56:46,394 - distributed.nanny - WARNING - Worker process still alive after 3.1999992370605472 seconds, killing\n",
      "2024-02-19 07:56:46,577 - distributed.nanny - ERROR - Error in Nanny killing Worker subprocess\n",
      "Traceback (most recent call last):\n",
      "  File \"c:\\Users\\ronal\\AppData\\Local\\Programs\\Python\\Python310\\lib\\asyncio\\tasks.py\", line 456, in wait_for\n",
      "    return fut.result()\n",
      "asyncio.exceptions.CancelledError\n",
      "\n",
      "The above exception was the direct cause of the following exception:\n",
      "\n",
      "Traceback (most recent call last):\n",
      "  File \"c:\\Users\\ronal\\AppData\\Local\\Programs\\Python\\Python310\\lib\\site-packages\\distributed\\nanny.py\", line 607, in close\n",
      "    await self.kill(timeout=timeout, reason=reason)\n",
      "  File \"c:\\Users\\ronal\\AppData\\Local\\Programs\\Python\\Python310\\lib\\site-packages\\distributed\\nanny.py\", line 390, in kill\n",
      "    await self.process.kill(reason=reason, timeout=0.8 * (deadline - time()))\n",
      "  File \"c:\\Users\\ronal\\AppData\\Local\\Programs\\Python\\Python310\\lib\\site-packages\\distributed\\nanny.py\", line 844, in kill\n",
      "    await process.join(max(0, deadline - time()))\n",
      "  File \"c:\\Users\\ronal\\AppData\\Local\\Programs\\Python\\Python310\\lib\\site-packages\\distributed\\process.py\", line 330, in join\n",
      "    await wait_for(asyncio.shield(self._exit_future), timeout)\n",
      "  File \"c:\\Users\\ronal\\AppData\\Local\\Programs\\Python\\Python310\\lib\\site-packages\\distributed\\utils.py\", line 1849, in wait_for\n",
      "    return await asyncio.wait_for(fut, timeout)\n",
      "  File \"c:\\Users\\ronal\\AppData\\Local\\Programs\\Python\\Python310\\lib\\asyncio\\tasks.py\", line 458, in wait_for\n",
      "    raise exceptions.TimeoutError() from exc\n",
      "asyncio.exceptions.TimeoutError\n",
      "2024-02-19 07:56:46,961 - distributed.nanny - ERROR - Error in Nanny killing Worker subprocess\n",
      "Traceback (most recent call last):\n",
      "  File \"c:\\Users\\ronal\\AppData\\Local\\Programs\\Python\\Python310\\lib\\asyncio\\tasks.py\", line 456, in wait_for\n",
      "    return fut.result()\n",
      "asyncio.exceptions.CancelledError\n",
      "\n",
      "The above exception was the direct cause of the following exception:\n",
      "\n",
      "Traceback (most recent call last):\n",
      "  File \"c:\\Users\\ronal\\AppData\\Local\\Programs\\Python\\Python310\\lib\\site-packages\\distributed\\nanny.py\", line 607, in close\n",
      "    await self.kill(timeout=timeout, reason=reason)\n",
      "  File \"c:\\Users\\ronal\\AppData\\Local\\Programs\\Python\\Python310\\lib\\site-packages\\distributed\\nanny.py\", line 390, in kill\n",
      "    await self.process.kill(reason=reason, timeout=0.8 * (deadline - time()))\n",
      "  File \"c:\\Users\\ronal\\AppData\\Local\\Programs\\Python\\Python310\\lib\\site-packages\\distributed\\nanny.py\", line 844, in kill\n",
      "    await process.join(max(0, deadline - time()))\n",
      "  File \"c:\\Users\\ronal\\AppData\\Local\\Programs\\Python\\Python310\\lib\\site-packages\\distributed\\process.py\", line 330, in join\n",
      "    await wait_for(asyncio.shield(self._exit_future), timeout)\n",
      "  File \"c:\\Users\\ronal\\AppData\\Local\\Programs\\Python\\Python310\\lib\\site-packages\\distributed\\utils.py\", line 1849, in wait_for\n",
      "    return await asyncio.wait_for(fut, timeout)\n",
      "  File \"c:\\Users\\ronal\\AppData\\Local\\Programs\\Python\\Python310\\lib\\asyncio\\tasks.py\", line 458, in wait_for\n",
      "    raise exceptions.TimeoutError() from exc\n",
      "asyncio.exceptions.TimeoutError\n",
      "2024-02-19 07:56:47,016 - distributed.nanny - ERROR - Error in Nanny killing Worker subprocess\n",
      "Traceback (most recent call last):\n",
      "  File \"c:\\Users\\ronal\\AppData\\Local\\Programs\\Python\\Python310\\lib\\asyncio\\tasks.py\", line 456, in wait_for\n",
      "    return fut.result()\n",
      "asyncio.exceptions.CancelledError\n",
      "\n",
      "The above exception was the direct cause of the following exception:\n",
      "\n",
      "Traceback (most recent call last):\n",
      "  File \"c:\\Users\\ronal\\AppData\\Local\\Programs\\Python\\Python310\\lib\\site-packages\\distributed\\nanny.py\", line 607, in close\n",
      "    await self.kill(timeout=timeout, reason=reason)\n",
      "  File \"c:\\Users\\ronal\\AppData\\Local\\Programs\\Python\\Python310\\lib\\site-packages\\distributed\\nanny.py\", line 390, in kill\n",
      "    await self.process.kill(reason=reason, timeout=0.8 * (deadline - time()))\n",
      "  File \"c:\\Users\\ronal\\AppData\\Local\\Programs\\Python\\Python310\\lib\\site-packages\\distributed\\nanny.py\", line 844, in kill\n",
      "    await process.join(max(0, deadline - time()))\n",
      "  File \"c:\\Users\\ronal\\AppData\\Local\\Programs\\Python\\Python310\\lib\\site-packages\\distributed\\process.py\", line 330, in join\n",
      "    await wait_for(asyncio.shield(self._exit_future), timeout)\n",
      "  File \"c:\\Users\\ronal\\AppData\\Local\\Programs\\Python\\Python310\\lib\\site-packages\\distributed\\utils.py\", line 1849, in wait_for\n",
      "    return await asyncio.wait_for(fut, timeout)\n",
      "  File \"c:\\Users\\ronal\\AppData\\Local\\Programs\\Python\\Python310\\lib\\asyncio\\tasks.py\", line 458, in wait_for\n",
      "    raise exceptions.TimeoutError() from exc\n",
      "asyncio.exceptions.TimeoutError\n",
      "2024-02-19 07:56:47,019 - distributed.nanny - ERROR - Error in Nanny killing Worker subprocess\n",
      "Traceback (most recent call last):\n",
      "  File \"c:\\Users\\ronal\\AppData\\Local\\Programs\\Python\\Python310\\lib\\asyncio\\tasks.py\", line 456, in wait_for\n",
      "    return fut.result()\n",
      "asyncio.exceptions.CancelledError\n",
      "\n",
      "The above exception was the direct cause of the following exception:\n",
      "\n",
      "Traceback (most recent call last):\n",
      "  File \"c:\\Users\\ronal\\AppData\\Local\\Programs\\Python\\Python310\\lib\\site-packages\\distributed\\nanny.py\", line 607, in close\n",
      "    await self.kill(timeout=timeout, reason=reason)\n",
      "  File \"c:\\Users\\ronal\\AppData\\Local\\Programs\\Python\\Python310\\lib\\site-packages\\distributed\\nanny.py\", line 390, in kill\n",
      "    await self.process.kill(reason=reason, timeout=0.8 * (deadline - time()))\n",
      "  File \"c:\\Users\\ronal\\AppData\\Local\\Programs\\Python\\Python310\\lib\\site-packages\\distributed\\nanny.py\", line 844, in kill\n",
      "    await process.join(max(0, deadline - time()))\n",
      "  File \"c:\\Users\\ronal\\AppData\\Local\\Programs\\Python\\Python310\\lib\\site-packages\\distributed\\process.py\", line 330, in join\n",
      "    await wait_for(asyncio.shield(self._exit_future), timeout)\n",
      "  File \"c:\\Users\\ronal\\AppData\\Local\\Programs\\Python\\Python310\\lib\\site-packages\\distributed\\utils.py\", line 1849, in wait_for\n",
      "    return await asyncio.wait_for(fut, timeout)\n",
      "  File \"c:\\Users\\ronal\\AppData\\Local\\Programs\\Python\\Python310\\lib\\asyncio\\tasks.py\", line 458, in wait_for\n",
      "    raise exceptions.TimeoutError() from exc\n",
      "asyncio.exceptions.TimeoutError\n",
      "2024-02-19 07:56:47,069 - distributed.nanny - ERROR - Error in Nanny killing Worker subprocess\n",
      "Traceback (most recent call last):\n",
      "  File \"c:\\Users\\ronal\\AppData\\Local\\Programs\\Python\\Python310\\lib\\asyncio\\tasks.py\", line 456, in wait_for\n",
      "    return fut.result()\n",
      "asyncio.exceptions.CancelledError\n",
      "\n",
      "The above exception was the direct cause of the following exception:\n",
      "\n",
      "Traceback (most recent call last):\n",
      "  File \"c:\\Users\\ronal\\AppData\\Local\\Programs\\Python\\Python310\\lib\\site-packages\\distributed\\nanny.py\", line 607, in close\n",
      "    await self.kill(timeout=timeout, reason=reason)\n",
      "  File \"c:\\Users\\ronal\\AppData\\Local\\Programs\\Python\\Python310\\lib\\site-packages\\distributed\\nanny.py\", line 390, in kill\n",
      "    await self.process.kill(reason=reason, timeout=0.8 * (deadline - time()))\n",
      "  File \"c:\\Users\\ronal\\AppData\\Local\\Programs\\Python\\Python310\\lib\\site-packages\\distributed\\nanny.py\", line 844, in kill\n",
      "    await process.join(max(0, deadline - time()))\n",
      "  File \"c:\\Users\\ronal\\AppData\\Local\\Programs\\Python\\Python310\\lib\\site-packages\\distributed\\process.py\", line 330, in join\n",
      "    await wait_for(asyncio.shield(self._exit_future), timeout)\n",
      "  File \"c:\\Users\\ronal\\AppData\\Local\\Programs\\Python\\Python310\\lib\\site-packages\\distributed\\utils.py\", line 1849, in wait_for\n",
      "    return await asyncio.wait_for(fut, timeout)\n",
      "  File \"c:\\Users\\ronal\\AppData\\Local\\Programs\\Python\\Python310\\lib\\asyncio\\tasks.py\", line 458, in wait_for\n",
      "    raise exceptions.TimeoutError() from exc\n",
      "asyncio.exceptions.TimeoutError\n",
      "2024-02-19 07:56:47,091 - distributed.nanny - ERROR - Error in Nanny killing Worker subprocess\n",
      "Traceback (most recent call last):\n",
      "  File \"c:\\Users\\ronal\\AppData\\Local\\Programs\\Python\\Python310\\lib\\asyncio\\tasks.py\", line 456, in wait_for\n",
      "    return fut.result()\n",
      "asyncio.exceptions.CancelledError\n",
      "\n",
      "The above exception was the direct cause of the following exception:\n",
      "\n",
      "Traceback (most recent call last):\n",
      "  File \"c:\\Users\\ronal\\AppData\\Local\\Programs\\Python\\Python310\\lib\\site-packages\\distributed\\nanny.py\", line 607, in close\n",
      "    await self.kill(timeout=timeout, reason=reason)\n",
      "  File \"c:\\Users\\ronal\\AppData\\Local\\Programs\\Python\\Python310\\lib\\site-packages\\distributed\\nanny.py\", line 390, in kill\n",
      "    await self.process.kill(reason=reason, timeout=0.8 * (deadline - time()))\n",
      "  File \"c:\\Users\\ronal\\AppData\\Local\\Programs\\Python\\Python310\\lib\\site-packages\\distributed\\nanny.py\", line 844, in kill\n",
      "    await process.join(max(0, deadline - time()))\n",
      "  File \"c:\\Users\\ronal\\AppData\\Local\\Programs\\Python\\Python310\\lib\\site-packages\\distributed\\process.py\", line 330, in join\n",
      "    await wait_for(asyncio.shield(self._exit_future), timeout)\n",
      "  File \"c:\\Users\\ronal\\AppData\\Local\\Programs\\Python\\Python310\\lib\\site-packages\\distributed\\utils.py\", line 1849, in wait_for\n",
      "    return await asyncio.wait_for(fut, timeout)\n",
      "  File \"c:\\Users\\ronal\\AppData\\Local\\Programs\\Python\\Python310\\lib\\asyncio\\tasks.py\", line 458, in wait_for\n",
      "    raise exceptions.TimeoutError() from exc\n",
      "asyncio.exceptions.TimeoutError\n",
      "2024-02-19 07:56:47,121 - distributed.nanny - ERROR - Error in Nanny killing Worker subprocess\n",
      "Traceback (most recent call last):\n",
      "  File \"c:\\Users\\ronal\\AppData\\Local\\Programs\\Python\\Python310\\lib\\asyncio\\tasks.py\", line 456, in wait_for\n",
      "    return fut.result()\n",
      "asyncio.exceptions.CancelledError\n",
      "\n",
      "The above exception was the direct cause of the following exception:\n",
      "\n",
      "Traceback (most recent call last):\n",
      "  File \"c:\\Users\\ronal\\AppData\\Local\\Programs\\Python\\Python310\\lib\\site-packages\\distributed\\nanny.py\", line 607, in close\n",
      "    await self.kill(timeout=timeout, reason=reason)\n",
      "  File \"c:\\Users\\ronal\\AppData\\Local\\Programs\\Python\\Python310\\lib\\site-packages\\distributed\\nanny.py\", line 390, in kill\n",
      "    await self.process.kill(reason=reason, timeout=0.8 * (deadline - time()))\n",
      "  File \"c:\\Users\\ronal\\AppData\\Local\\Programs\\Python\\Python310\\lib\\site-packages\\distributed\\nanny.py\", line 844, in kill\n",
      "    await process.join(max(0, deadline - time()))\n",
      "  File \"c:\\Users\\ronal\\AppData\\Local\\Programs\\Python\\Python310\\lib\\site-packages\\distributed\\process.py\", line 330, in join\n",
      "    await wait_for(asyncio.shield(self._exit_future), timeout)\n",
      "  File \"c:\\Users\\ronal\\AppData\\Local\\Programs\\Python\\Python310\\lib\\site-packages\\distributed\\utils.py\", line 1849, in wait_for\n",
      "    return await asyncio.wait_for(fut, timeout)\n",
      "  File \"c:\\Users\\ronal\\AppData\\Local\\Programs\\Python\\Python310\\lib\\asyncio\\tasks.py\", line 458, in wait_for\n",
      "    raise exceptions.TimeoutError() from exc\n",
      "asyncio.exceptions.TimeoutError\n",
      "2024-02-19 07:56:47,178 - distributed.nanny - ERROR - Error in Nanny killing Worker subprocess\n",
      "Traceback (most recent call last):\n",
      "  File \"c:\\Users\\ronal\\AppData\\Local\\Programs\\Python\\Python310\\lib\\asyncio\\tasks.py\", line 456, in wait_for\n",
      "    return fut.result()\n",
      "asyncio.exceptions.CancelledError\n",
      "\n",
      "The above exception was the direct cause of the following exception:\n",
      "\n",
      "Traceback (most recent call last):\n",
      "  File \"c:\\Users\\ronal\\AppData\\Local\\Programs\\Python\\Python310\\lib\\site-packages\\distributed\\nanny.py\", line 607, in close\n",
      "    await self.kill(timeout=timeout, reason=reason)\n",
      "  File \"c:\\Users\\ronal\\AppData\\Local\\Programs\\Python\\Python310\\lib\\site-packages\\distributed\\nanny.py\", line 390, in kill\n",
      "    await self.process.kill(reason=reason, timeout=0.8 * (deadline - time()))\n",
      "  File \"c:\\Users\\ronal\\AppData\\Local\\Programs\\Python\\Python310\\lib\\site-packages\\distributed\\nanny.py\", line 844, in kill\n",
      "    await process.join(max(0, deadline - time()))\n",
      "  File \"c:\\Users\\ronal\\AppData\\Local\\Programs\\Python\\Python310\\lib\\site-packages\\distributed\\process.py\", line 330, in join\n",
      "    await wait_for(asyncio.shield(self._exit_future), timeout)\n",
      "  File \"c:\\Users\\ronal\\AppData\\Local\\Programs\\Python\\Python310\\lib\\site-packages\\distributed\\utils.py\", line 1849, in wait_for\n",
      "    return await asyncio.wait_for(fut, timeout)\n",
      "  File \"c:\\Users\\ronal\\AppData\\Local\\Programs\\Python\\Python310\\lib\\asyncio\\tasks.py\", line 458, in wait_for\n",
      "    raise exceptions.TimeoutError() from exc\n",
      "asyncio.exceptions.TimeoutError\n",
      "2024-02-19 07:56:47,179 - distributed.nanny - ERROR - Error in Nanny killing Worker subprocess\n",
      "Traceback (most recent call last):\n",
      "  File \"c:\\Users\\ronal\\AppData\\Local\\Programs\\Python\\Python310\\lib\\asyncio\\tasks.py\", line 456, in wait_for\n",
      "    return fut.result()\n",
      "asyncio.exceptions.CancelledError\n",
      "\n",
      "The above exception was the direct cause of the following exception:\n",
      "\n",
      "Traceback (most recent call last):\n",
      "  File \"c:\\Users\\ronal\\AppData\\Local\\Programs\\Python\\Python310\\lib\\site-packages\\distributed\\nanny.py\", line 607, in close\n",
      "    await self.kill(timeout=timeout, reason=reason)\n",
      "  File \"c:\\Users\\ronal\\AppData\\Local\\Programs\\Python\\Python310\\lib\\site-packages\\distributed\\nanny.py\", line 390, in kill\n",
      "    await self.process.kill(reason=reason, timeout=0.8 * (deadline - time()))\n",
      "  File \"c:\\Users\\ronal\\AppData\\Local\\Programs\\Python\\Python310\\lib\\site-packages\\distributed\\nanny.py\", line 844, in kill\n",
      "    await process.join(max(0, deadline - time()))\n",
      "  File \"c:\\Users\\ronal\\AppData\\Local\\Programs\\Python\\Python310\\lib\\site-packages\\distributed\\process.py\", line 330, in join\n",
      "    await wait_for(asyncio.shield(self._exit_future), timeout)\n",
      "  File \"c:\\Users\\ronal\\AppData\\Local\\Programs\\Python\\Python310\\lib\\site-packages\\distributed\\utils.py\", line 1849, in wait_for\n",
      "    return await asyncio.wait_for(fut, timeout)\n",
      "  File \"c:\\Users\\ronal\\AppData\\Local\\Programs\\Python\\Python310\\lib\\asyncio\\tasks.py\", line 458, in wait_for\n",
      "    raise exceptions.TimeoutError() from exc\n",
      "asyncio.exceptions.TimeoutError\n",
      "2024-02-19 11:22:08,627 - distributed.scheduler - WARNING - Worker failed to heartbeat within 300 seconds. Closing: <WorkerState 'tcp://127.0.0.1:7091', name: 3, status: running, memory: 0, processing: 0>\n",
      "2024-02-19 11:22:08,646 - distributed.scheduler - WARNING - Worker failed to heartbeat within 300 seconds. Closing: <WorkerState 'tcp://127.0.0.1:38481', name: 3, status: running, memory: 0, processing: 0>\n",
      "2024-02-19 11:22:08,647 - distributed.scheduler - WARNING - Worker failed to heartbeat within 300 seconds. Closing: <WorkerState 'tcp://127.0.0.1:37960', name: 0, status: running, memory: 0, processing: 0>\n",
      "2024-02-19 11:22:08,647 - distributed.scheduler - WARNING - Worker failed to heartbeat within 300 seconds. Closing: <WorkerState 'tcp://127.0.0.1:43672', name: 2, status: running, memory: 0, processing: 0>\n",
      "2024-02-19 11:22:08,648 - distributed.scheduler - WARNING - Worker failed to heartbeat within 300 seconds. Closing: <WorkerState 'tcp://127.0.0.1:7445', name: 3, status: running, memory: 0, processing: 0>\n",
      "2024-02-19 11:22:08,648 - distributed.scheduler - WARNING - Worker failed to heartbeat within 300 seconds. Closing: <WorkerState 'tcp://127.0.0.1:4714', name: 1, status: running, memory: 0, processing: 0>\n",
      "2024-02-19 11:22:08,648 - distributed.scheduler - WARNING - Worker failed to heartbeat within 300 seconds. Closing: <WorkerState 'tcp://127.0.0.1:4749', name: 2, status: running, memory: 0, processing: 0>\n",
      "2024-02-19 11:22:08,648 - distributed.scheduler - WARNING - Worker failed to heartbeat within 300 seconds. Closing: <WorkerState 'tcp://127.0.0.1:4808', name: 0, status: running, memory: 0, processing: 0>\n",
      "2024-02-19 11:22:08,648 - distributed.scheduler - WARNING - Worker failed to heartbeat within 300 seconds. Closing: <WorkerState 'tcp://127.0.0.1:7486', name: 0, status: running, memory: 0, processing: 0>\n",
      "2024-02-19 11:22:08,652 - distributed.scheduler - WARNING - Worker failed to heartbeat within 300 seconds. Closing: <WorkerState 'tcp://127.0.0.1:4711', name: 0, status: running, memory: 0, processing: 0>\n",
      "2024-02-19 11:22:08,652 - distributed.scheduler - WARNING - Worker failed to heartbeat within 300 seconds. Closing: <WorkerState 'tcp://127.0.0.1:4736', name: 2, status: running, memory: 0, processing: 0>\n",
      "2024-02-19 11:22:08,657 - distributed.scheduler - WARNING - Received heartbeat from unregistered worker 'tcp://127.0.0.1:7091'.\n",
      "2024-02-19 11:22:08,658 - distributed.scheduler - WARNING - Received heartbeat from unregistered worker 'tcp://127.0.0.1:38481'.\n",
      "2024-02-19 11:22:12,591 - distributed.scheduler - WARNING - Received heartbeat from unregistered worker 'tcp://127.0.0.1:7445'.\n",
      "2024-02-19 11:22:12,591 - distributed.scheduler - WARNING - Received heartbeat from unregistered worker 'tcp://127.0.0.1:37960'.\n",
      "2024-02-19 11:22:12,593 - distributed.scheduler - WARNING - Received heartbeat from unregistered worker 'tcp://127.0.0.1:43672'.\n",
      "2024-02-19 11:22:12,741 - distributed.scheduler - WARNING - Received heartbeat from unregistered worker 'tcp://127.0.0.1:4808'.\n",
      "2024-02-19 11:22:12,742 - distributed.scheduler - WARNING - Received heartbeat from unregistered worker 'tcp://127.0.0.1:4714'.\n",
      "2024-02-19 11:22:12,742 - distributed.scheduler - WARNING - Received heartbeat from unregistered worker 'tcp://127.0.0.1:4749'.\n",
      "2024-02-19 11:22:12,744 - distributed.scheduler - WARNING - Received heartbeat from unregistered worker 'tcp://127.0.0.1:7486'.\n",
      "2024-02-19 11:22:12,745 - distributed.scheduler - WARNING - Received heartbeat from unregistered worker 'tcp://127.0.0.1:4711'.\n",
      "2024-02-19 11:22:12,746 - distributed.scheduler - WARNING - Received heartbeat from unregistered worker 'tcp://127.0.0.1:4736'.\n",
      "2024-02-19 11:22:16,213 - distributed.nanny - WARNING - Restarting worker\n",
      "2024-02-19 11:22:17,278 - distributed.nanny - WARNING - Restarting worker\n",
      "2024-02-19 11:22:30,965 - distributed.nanny - WARNING - Worker process still alive after 3.1999995422363288 seconds, killing\n",
      "2024-02-19 11:22:30,980 - distributed.nanny - WARNING - Worker process still alive after 3.1999989318847657 seconds, killing\n",
      "2024-02-19 11:22:31,029 - distributed.nanny - WARNING - Worker process still alive after 3.199999389648438 seconds, killing\n",
      "2024-02-19 11:22:31,033 - distributed.nanny - WARNING - Worker process still alive after 3.199999389648438 seconds, killing\n",
      "2024-02-19 11:22:31,048 - distributed.nanny - WARNING - Worker process still alive after 3.1999992370605472 seconds, killing\n",
      "2024-02-19 11:22:31,073 - distributed.nanny - WARNING - Worker process still alive after 3.1999992370605472 seconds, killing\n",
      "2024-02-19 11:22:31,121 - distributed.nanny - WARNING - Worker process still alive after 3.1999989318847657 seconds, killing\n",
      "2024-02-19 11:22:31,122 - distributed.nanny - WARNING - Worker process still alive after 3.1999990844726565 seconds, killing\n",
      "2024-02-19 11:22:31,180 - distributed.nanny - WARNING - Worker process still alive after 3.1999992370605472 seconds, killing\n",
      "2024-02-19 16:19:08,584 - distributed.scheduler - WARNING - Worker failed to heartbeat within 300 seconds. Closing: <WorkerState 'tcp://127.0.0.1:55550', name: 3, status: running, memory: 0, processing: 0>\n",
      "2024-02-19 16:19:08,585 - distributed.scheduler - WARNING - Worker failed to heartbeat within 300 seconds. Closing: <WorkerState 'tcp://127.0.0.1:8075', name: 0, status: running, memory: 0, processing: 0>\n",
      "2024-02-19 16:19:08,586 - distributed.scheduler - WARNING - Worker failed to heartbeat within 300 seconds. Closing: <WorkerState 'tcp://127.0.0.1:11426', name: 0, status: running, memory: 0, processing: 0>\n",
      "2024-02-19 16:19:08,586 - distributed.scheduler - WARNING - Worker failed to heartbeat within 300 seconds. Closing: <WorkerState 'tcp://127.0.0.1:11421', name: 3, status: running, memory: 0, processing: 0>\n",
      "2024-02-19 16:19:08,597 - distributed.scheduler - WARNING - Received heartbeat from unregistered worker 'tcp://127.0.0.1:55550'.\n",
      "2024-02-19 16:19:08,601 - distributed.scheduler - WARNING - Received heartbeat from unregistered worker 'tcp://127.0.0.1:8075'.\n",
      "2024-02-19 16:19:12,972 - distributed.scheduler - WARNING - Received heartbeat from unregistered worker 'tcp://127.0.0.1:11421'.\n",
      "2024-02-19 16:19:13,467 - distributed.scheduler - WARNING - Received heartbeat from unregistered worker 'tcp://127.0.0.1:11426'.\n",
      "2024-02-19 16:19:13,535 - distributed.nanny - WARNING - Restarting worker\n",
      "2024-02-19 16:19:18,918 - distributed.nanny - WARNING - Restarting worker\n",
      "2024-02-19 22:02:07,570 - distributed.scheduler - WARNING - Worker failed to heartbeat within 300 seconds. Closing: <WorkerState 'tcp://127.0.0.1:8527', name: 3, status: running, memory: 0, processing: 0>\n",
      "2024-02-19 22:02:07,572 - distributed.scheduler - WARNING - Worker failed to heartbeat within 300 seconds. Closing: <WorkerState 'tcp://127.0.0.1:7490', name: 2, status: running, memory: 0, processing: 0>\n",
      "2024-02-19 22:02:07,572 - distributed.scheduler - WARNING - Worker failed to heartbeat within 300 seconds. Closing: <WorkerState 'tcp://127.0.0.1:18378', name: 0, status: running, memory: 0, processing: 0>\n",
      "2024-02-19 22:02:07,572 - distributed.scheduler - WARNING - Worker failed to heartbeat within 300 seconds. Closing: <WorkerState 'tcp://127.0.0.1:7453', name: 0, status: running, memory: 0, processing: 0>\n",
      "2024-02-19 22:02:11,526 - distributed.scheduler - WARNING - Received heartbeat from unregistered worker 'tcp://127.0.0.1:8527'.\n",
      "2024-02-19 22:02:11,528 - distributed.scheduler - WARNING - Received heartbeat from unregistered worker 'tcp://127.0.0.1:18378'.\n",
      "2024-02-19 22:02:11,528 - distributed.scheduler - WARNING - Received heartbeat from unregistered worker 'tcp://127.0.0.1:7490'.\n",
      "2024-02-19 22:02:11,530 - distributed.scheduler - WARNING - Received heartbeat from unregistered worker 'tcp://127.0.0.1:7453'.\n",
      "2024-02-19 22:02:15,807 - distributed.nanny - WARNING - Restarting worker\n",
      "2024-02-19 22:02:16,844 - distributed.nanny - WARNING - Restarting worker\n",
      "2024-02-19 22:02:25,483 - distributed.nanny - WARNING - Restarting worker\n",
      "2024-02-20 06:45:09,565 - distributed.scheduler - WARNING - Worker failed to heartbeat within 300 seconds. Closing: <WorkerState 'tcp://127.0.0.1:18761', name: 0, status: running, memory: 0, processing: 0>\n",
      "2024-02-20 06:45:09,569 - distributed.scheduler - WARNING - Worker failed to heartbeat within 300 seconds. Closing: <WorkerState 'tcp://127.0.0.1:18752', name: 0, status: running, memory: 0, processing: 0>\n",
      "2024-02-20 06:45:09,598 - distributed.scheduler - WARNING - Received heartbeat from unregistered worker 'tcp://127.0.0.1:18761'.\n",
      "2024-02-20 06:45:09,604 - distributed.scheduler - WARNING - Received heartbeat from unregistered worker 'tcp://127.0.0.1:18752'.\n"
     ]
    }
   ],
   "source": [
    "import dask.array as da\n",
    "from sklearn.covariance import EmpiricalCovariance\n",
    "from dask.distributed import Client\n",
    "import numpy as np\n",
    "\n",
    "# Inicializa un cliente Dask para la paralelización\n",
    "client = Client()\n",
    "\n",
    "# Supongamos que 'faltantesprueba' es tu conjunto de datos en formato NumPy\n",
    "# Convertirlo a Dask Array. Por ejemplo, si faltantesprueba es un array de NumPy:\n",
    "# faltantesprueba = da.from_array(tu_conjunto_de_datos, chunks=(1000, -1))\n",
    "\n",
    "# En este caso, convertimos un array NumPy a un Dask Array\n",
    "faltantesprueba_dask = da.from_array(faltantesprueba15p, chunks=(1000, -1))\n",
    "\n",
    "# Consideramos solo las filas sin NaN para el cálculo de la matriz de covarianza\n",
    "# En Dask, usamos .compute() para ejecutar los cálculos en paralelo\n",
    "valid_data = faltantesprueba_dask[~da.isnan(faltantesprueba_dask).any(axis=1)].compute()\n",
    "\n",
    "# Calcula la matriz de covarianza inversa (ignora filas con NaN)\n",
    "cov_matrix = EmpiricalCovariance().fit(valid_data)\n",
    "VI = cov_matrix.precision_"
   ]
  },
  {
   "cell_type": "code",
   "execution_count": 42,
   "metadata": {},
   "outputs": [
    {
     "data": {
      "text/html": [
       "<style>#sk-container-id-1 {color: black;}#sk-container-id-1 pre{padding: 0;}#sk-container-id-1 div.sk-toggleable {background-color: white;}#sk-container-id-1 label.sk-toggleable__label {cursor: pointer;display: block;width: 100%;margin-bottom: 0;padding: 0.3em;box-sizing: border-box;text-align: center;}#sk-container-id-1 label.sk-toggleable__label-arrow:before {content: \"▸\";float: left;margin-right: 0.25em;color: #696969;}#sk-container-id-1 label.sk-toggleable__label-arrow:hover:before {color: black;}#sk-container-id-1 div.sk-estimator:hover label.sk-toggleable__label-arrow:before {color: black;}#sk-container-id-1 div.sk-toggleable__content {max-height: 0;max-width: 0;overflow: hidden;text-align: left;background-color: #f0f8ff;}#sk-container-id-1 div.sk-toggleable__content pre {margin: 0.2em;color: black;border-radius: 0.25em;background-color: #f0f8ff;}#sk-container-id-1 input.sk-toggleable__control:checked~div.sk-toggleable__content {max-height: 200px;max-width: 100%;overflow: auto;}#sk-container-id-1 input.sk-toggleable__control:checked~label.sk-toggleable__label-arrow:before {content: \"▾\";}#sk-container-id-1 div.sk-estimator input.sk-toggleable__control:checked~label.sk-toggleable__label {background-color: #d4ebff;}#sk-container-id-1 div.sk-label input.sk-toggleable__control:checked~label.sk-toggleable__label {background-color: #d4ebff;}#sk-container-id-1 input.sk-hidden--visually {border: 0;clip: rect(1px 1px 1px 1px);clip: rect(1px, 1px, 1px, 1px);height: 1px;margin: -1px;overflow: hidden;padding: 0;position: absolute;width: 1px;}#sk-container-id-1 div.sk-estimator {font-family: monospace;background-color: #f0f8ff;border: 1px dotted black;border-radius: 0.25em;box-sizing: border-box;margin-bottom: 0.5em;}#sk-container-id-1 div.sk-estimator:hover {background-color: #d4ebff;}#sk-container-id-1 div.sk-parallel-item::after {content: \"\";width: 100%;border-bottom: 1px solid gray;flex-grow: 1;}#sk-container-id-1 div.sk-label:hover label.sk-toggleable__label {background-color: #d4ebff;}#sk-container-id-1 div.sk-serial::before {content: \"\";position: absolute;border-left: 1px solid gray;box-sizing: border-box;top: 0;bottom: 0;left: 50%;z-index: 0;}#sk-container-id-1 div.sk-serial {display: flex;flex-direction: column;align-items: center;background-color: white;padding-right: 0.2em;padding-left: 0.2em;position: relative;}#sk-container-id-1 div.sk-item {position: relative;z-index: 1;}#sk-container-id-1 div.sk-parallel {display: flex;align-items: stretch;justify-content: center;background-color: white;position: relative;}#sk-container-id-1 div.sk-item::before, #sk-container-id-1 div.sk-parallel-item::before {content: \"\";position: absolute;border-left: 1px solid gray;box-sizing: border-box;top: 0;bottom: 0;left: 50%;z-index: -1;}#sk-container-id-1 div.sk-parallel-item {display: flex;flex-direction: column;z-index: 1;position: relative;background-color: white;}#sk-container-id-1 div.sk-parallel-item:first-child::after {align-self: flex-end;width: 50%;}#sk-container-id-1 div.sk-parallel-item:last-child::after {align-self: flex-start;width: 50%;}#sk-container-id-1 div.sk-parallel-item:only-child::after {width: 0;}#sk-container-id-1 div.sk-dashed-wrapped {border: 1px dashed gray;margin: 0 0.4em 0.5em 0.4em;box-sizing: border-box;padding-bottom: 0.4em;background-color: white;}#sk-container-id-1 div.sk-label label {font-family: monospace;font-weight: bold;display: inline-block;line-height: 1.2em;}#sk-container-id-1 div.sk-label-container {text-align: center;}#sk-container-id-1 div.sk-container {/* jupyter's `normalize.less` sets `[hidden] { display: none; }` but bootstrap.min.css set `[hidden] { display: none !important; }` so we also need the `!important` here to be able to override the default hidden behavior on the sphinx rendered scikit-learn.org. See: https://github.com/scikit-learn/scikit-learn/issues/21755 */display: inline-block !important;position: relative;}#sk-container-id-1 div.sk-text-repr-fallback {display: none;}</style><div id=\"sk-container-id-1\" class=\"sk-top-container\"><div class=\"sk-text-repr-fallback\"><pre>EmpiricalCovariance()</pre><b>In a Jupyter environment, please rerun this cell to show the HTML representation or trust the notebook. <br />On GitHub, the HTML representation is unable to render, please try loading this page with nbviewer.org.</b></div><div class=\"sk-container\" hidden><div class=\"sk-item\"><div class=\"sk-estimator sk-toggleable\"><input class=\"sk-toggleable__control sk-hidden--visually\" id=\"sk-estimator-id-1\" type=\"checkbox\" checked><label for=\"sk-estimator-id-1\" class=\"sk-toggleable__label sk-toggleable__label-arrow\">EmpiricalCovariance</label><div class=\"sk-toggleable__content\"><pre>EmpiricalCovariance()</pre></div></div></div></div></div>"
      ],
      "text/plain": [
       "EmpiricalCovariance()"
      ]
     },
     "execution_count": 42,
     "metadata": {},
     "output_type": "execute_result"
    }
   ],
   "source": [
    "cov_matrix"
   ]
  },
  {
   "cell_type": "code",
   "execution_count": 43,
   "metadata": {},
   "outputs": [
    {
     "data": {
      "text/plain": [
       "array([[ 1.27470541e+01,  3.40483066e-01,  1.08140698e-02,\n",
       "        -5.13118464e-01, -6.53515530e-02,  5.99691504e-01],\n",
       "       [ 3.40483066e-01,  1.02113873e+01, -1.00044845e-01,\n",
       "        -3.29966099e+00,  1.11384727e-01, -1.93973304e-02],\n",
       "       [ 1.08140698e-02, -1.00044845e-01,  1.16455174e+01,\n",
       "         1.72916638e-01, -1.02405307e-02, -4.76201537e-03],\n",
       "       [-5.13118464e-01, -3.29966099e+00,  1.72916638e-01,\n",
       "         6.09565872e+02, -7.80429449e+00,  1.25714636e+01],\n",
       "       [-6.53515530e-02,  1.11384727e-01, -1.02405307e-02,\n",
       "        -7.80429449e+00,  2.42898198e+01, -1.32556252e+01],\n",
       "       [ 5.99691504e-01, -1.93973304e-02, -4.76201537e-03,\n",
       "         1.25714636e+01, -1.32556252e+01,  3.28989572e+01]])"
      ]
     },
     "execution_count": 43,
     "metadata": {},
     "output_type": "execute_result"
    }
   ],
   "source": [
    "VI"
   ]
  },
  {
   "cell_type": "code",
   "execution_count": 45,
   "metadata": {},
   "outputs": [
    {
     "name": "stderr",
     "output_type": "stream",
     "text": [
      "c:\\Users\\ronal\\AppData\\Local\\Programs\\Python\\Python310\\lib\\site-packages\\distributed\\node.py:182: UserWarning: Port 8787 is already in use.\n",
      "Perhaps you already have a cluster running?\n",
      "Hosting the HTTP server on port 38124 instead\n",
      "  warnings.warn(\n"
     ]
    }
   ],
   "source": [
    "import dask.array as da\n",
    "from sklearn.covariance import EmpiricalCovariance\n",
    "from dask.distributed import Client\n",
    "\n",
    "# Inicializa un cliente Dask para la paralelización\n",
    "client = Client()\n"
   ]
  },
  {
   "cell_type": "code",
   "execution_count": 72,
   "metadata": {},
   "outputs": [
    {
     "name": "stderr",
     "output_type": "stream",
     "text": [
      "c:\\Users\\ronal\\AppData\\Local\\Programs\\Python\\Python310\\lib\\site-packages\\distributed\\node.py:182: UserWarning: Port 8787 is already in use.\n",
      "Perhaps you already have a cluster running?\n",
      "Hosting the HTTP server on port 4639 instead\n",
      "  warnings.warn(\n"
     ]
    },
    {
     "ename": "AttributeError",
     "evalue": "'numpy.ndarray' object has no attribute 'compute'",
     "output_type": "error",
     "traceback": [
      "\u001b[1;31m---------------------------------------------------------------------------\u001b[0m",
      "\u001b[1;31mAttributeError\u001b[0m                            Traceback (most recent call last)",
      "\u001b[1;32mf:\\TESIS\\Proyecto_mod_precipitacion\\Codigos de Python\\NoteNook_model_KNN.ipynb Cell 141\u001b[0m line \u001b[0;36m<cell line: 14>\u001b[1;34m()\u001b[0m\n\u001b[0;32m      <a href='vscode-notebook-cell:/f%3A/TESIS/Proyecto_mod_precipitacion/Codigos%20de%20Python/NoteNook_model_KNN.ipynb#Y511sZmlsZQ%3D%3D?line=5'>6</a>\u001b[0m client \u001b[39m=\u001b[39m Client()\n\u001b[0;32m      <a href='vscode-notebook-cell:/f%3A/TESIS/Proyecto_mod_precipitacion/Codigos%20de%20Python/NoteNook_model_KNN.ipynb#Y511sZmlsZQ%3D%3D?line=7'>8</a>\u001b[0m \u001b[39m# Supongamos que 'faltantesprueba' es tu conjunto de datos\u001b[39;00m\n\u001b[0;32m      <a href='vscode-notebook-cell:/f%3A/TESIS/Proyecto_mod_precipitacion/Codigos%20de%20Python/NoteNook_model_KNN.ipynb#Y511sZmlsZQ%3D%3D?line=8'>9</a>\u001b[0m \u001b[39m# Aquí debes cargar tus datos en un Dask Array. Por ejemplo:\u001b[39;00m\n\u001b[0;32m     <a href='vscode-notebook-cell:/f%3A/TESIS/Proyecto_mod_precipitacion/Codigos%20de%20Python/NoteNook_model_KNN.ipynb#Y511sZmlsZQ%3D%3D?line=9'>10</a>\u001b[0m \u001b[39m# faltantesprueba = da.from_array(tu_conjunto_de_datos, chunks=(1000, -1))\u001b[39;00m\n\u001b[0;32m     <a href='vscode-notebook-cell:/f%3A/TESIS/Proyecto_mod_precipitacion/Codigos%20de%20Python/NoteNook_model_KNN.ipynb#Y511sZmlsZQ%3D%3D?line=10'>11</a>\u001b[0m \n\u001b[0;32m     <a href='vscode-notebook-cell:/f%3A/TESIS/Proyecto_mod_precipitacion/Codigos%20de%20Python/NoteNook_model_KNN.ipynb#Y511sZmlsZQ%3D%3D?line=11'>12</a>\u001b[0m \u001b[39m# Consideramos solo las filas sin NaN para el cálculo de la matriz de covarianza\u001b[39;00m\n\u001b[0;32m     <a href='vscode-notebook-cell:/f%3A/TESIS/Proyecto_mod_precipitacion/Codigos%20de%20Python/NoteNook_model_KNN.ipynb#Y511sZmlsZQ%3D%3D?line=12'>13</a>\u001b[0m \u001b[39m# En Dask, usamos .compute() para ejecutar los cálculos en paralelo\u001b[39;00m\n\u001b[1;32m---> <a href='vscode-notebook-cell:/f%3A/TESIS/Proyecto_mod_precipitacion/Codigos%20de%20Python/NoteNook_model_KNN.ipynb#Y511sZmlsZQ%3D%3D?line=13'>14</a>\u001b[0m valid_data \u001b[39m=\u001b[39m faltantesprueba[\u001b[39m~\u001b[39;49mda\u001b[39m.\u001b[39;49misnan(faltantesprueba)\u001b[39m.\u001b[39;49many(axis\u001b[39m=\u001b[39;49m\u001b[39m1\u001b[39;49m)]\u001b[39m.\u001b[39;49mcompute()\n\u001b[0;32m     <a href='vscode-notebook-cell:/f%3A/TESIS/Proyecto_mod_precipitacion/Codigos%20de%20Python/NoteNook_model_KNN.ipynb#Y511sZmlsZQ%3D%3D?line=15'>16</a>\u001b[0m \u001b[39m# Calcula la matriz de covarianza inversa (ignora filas con NaN)\u001b[39;00m\n\u001b[0;32m     <a href='vscode-notebook-cell:/f%3A/TESIS/Proyecto_mod_precipitacion/Codigos%20de%20Python/NoteNook_model_KNN.ipynb#Y511sZmlsZQ%3D%3D?line=16'>17</a>\u001b[0m cov_matrix \u001b[39m=\u001b[39m EmpiricalCovariance()\u001b[39m.\u001b[39mfit(valid_data)\n",
      "\u001b[1;31mAttributeError\u001b[0m: 'numpy.ndarray' object has no attribute 'compute'"
     ]
    }
   ],
   "source": [
    "import dask.array as da\n",
    "from sklearn.covariance import EmpiricalCovariance\n",
    "from dask.distributed import Client\n",
    "\n",
    "# Inicializa un cliente Dask para la paralelización\n",
    "client = Client()\n",
    "\n",
    "# Supongamos que 'faltantesprueba' es tu conjunto de datos\n",
    "# Aquí debes cargar tus datos en un Dask Array. Por ejemplo:\n",
    "# faltantesprueba = da.from_array(tu_conjunto_de_datos, chunks=(1000, -1))\n",
    "\n",
    "# Consideramos solo las filas sin NaN para el cálculo de la matriz de covarianza\n",
    "# En Dask, usamos .compute() para ejecutar los cálculos en paralelo\n",
    "valid_data = faltantesprueba[~da.isnan(faltantesprueba).any(axis=1)].compute()\n",
    "\n",
    "# Calcula la matriz de covarianza inversa (ignora filas con NaN)\n",
    "cov_matrix = EmpiricalCovariance().fit(valid_data)\n",
    "VI = cov_matrix.precision_\n",
    "\n",
    "# Ahora puedes usar 'VI' para la distancia de Mahalanobis en tu imputación KNN\n"
   ]
  },
  {
   "cell_type": "code",
   "execution_count": 45,
   "metadata": {},
   "outputs": [
    {
     "ename": "KeyboardInterrupt",
     "evalue": "",
     "output_type": "error",
     "traceback": [
      "\u001b[1;31m---------------------------------------------------------------------------\u001b[0m",
      "\u001b[1;31mKeyboardInterrupt\u001b[0m                         Traceback (most recent call last)",
      "\u001b[1;32mf:\\TESIS\\Proyecto_mod_precipitacion\\Codigos de Python\\NoteNook_model_KNN.ipynb Cell 141\u001b[0m line \u001b[0;36m<cell line: 19>\u001b[1;34m()\u001b[0m\n\u001b[0;32m     <a href='vscode-notebook-cell:/f%3A/TESIS/Proyecto_mod_precipitacion/Codigos%20de%20Python/NoteNook_model_KNN.ipynb#Y264sZmlsZQ%3D%3D?line=15'>16</a>\u001b[0m data_parts \u001b[39m=\u001b[39m [faltantesprueba[i:i \u001b[39m+\u001b[39m part_size] \u001b[39mfor\u001b[39;00m i \u001b[39min\u001b[39;00m \u001b[39mrange\u001b[39m(\u001b[39m0\u001b[39m, \u001b[39mlen\u001b[39m(faltantesprueba), part_size)]\n\u001b[0;32m     <a href='vscode-notebook-cell:/f%3A/TESIS/Proyecto_mod_precipitacion/Codigos%20de%20Python/NoteNook_model_KNN.ipynb#Y264sZmlsZQ%3D%3D?line=17'>18</a>\u001b[0m \u001b[39m# Aplicar KNNImputer a cada parte en paralelo utilizando la distancia de Mahalanobis\u001b[39;00m\n\u001b[1;32m---> <a href='vscode-notebook-cell:/f%3A/TESIS/Proyecto_mod_precipitacion/Codigos%20de%20Python/NoteNook_model_KNN.ipynb#Y264sZmlsZQ%3D%3D?line=18'>19</a>\u001b[0m imputed_parts \u001b[39m=\u001b[39m Parallel(n_jobs\u001b[39m=\u001b[39;49m\u001b[39m4\u001b[39;49m)(delayed(impute_part)(part, VI) \u001b[39mfor\u001b[39;49;00m part \u001b[39min\u001b[39;49;00m data_parts)\n\u001b[0;32m     <a href='vscode-notebook-cell:/f%3A/TESIS/Proyecto_mod_precipitacion/Codigos%20de%20Python/NoteNook_model_KNN.ipynb#Y264sZmlsZQ%3D%3D?line=20'>21</a>\u001b[0m \u001b[39m# Combinar los resultados\u001b[39;00m\n\u001b[0;32m     <a href='vscode-notebook-cell:/f%3A/TESIS/Proyecto_mod_precipitacion/Codigos%20de%20Python/NoteNook_model_KNN.ipynb#Y264sZmlsZQ%3D%3D?line=21'>22</a>\u001b[0m imputados_mahalanobis \u001b[39m=\u001b[39m np\u001b[39m.\u001b[39mvstack(imputed_parts)\n",
      "File \u001b[1;32mc:\\Users\\ronal\\AppData\\Local\\Programs\\Python\\Python310\\lib\\site-packages\\joblib\\parallel.py:1952\u001b[0m, in \u001b[0;36mParallel.__call__\u001b[1;34m(self, iterable)\u001b[0m\n\u001b[0;32m   1946\u001b[0m \u001b[39m# The first item from the output is blank, but it makes the interpreter\u001b[39;00m\n\u001b[0;32m   1947\u001b[0m \u001b[39m# progress until it enters the Try/Except block of the generator and\u001b[39;00m\n\u001b[0;32m   1948\u001b[0m \u001b[39m# reach the first `yield` statement. This starts the aynchronous\u001b[39;00m\n\u001b[0;32m   1949\u001b[0m \u001b[39m# dispatch of the tasks to the workers.\u001b[39;00m\n\u001b[0;32m   1950\u001b[0m \u001b[39mnext\u001b[39m(output)\n\u001b[1;32m-> 1952\u001b[0m \u001b[39mreturn\u001b[39;00m output \u001b[39mif\u001b[39;00m \u001b[39mself\u001b[39m\u001b[39m.\u001b[39mreturn_generator \u001b[39melse\u001b[39;00m \u001b[39mlist\u001b[39;49m(output)\n",
      "File \u001b[1;32mc:\\Users\\ronal\\AppData\\Local\\Programs\\Python\\Python310\\lib\\site-packages\\joblib\\parallel.py:1595\u001b[0m, in \u001b[0;36mParallel._get_outputs\u001b[1;34m(self, iterator, pre_dispatch)\u001b[0m\n\u001b[0;32m   1592\u001b[0m     \u001b[39myield\u001b[39;00m\n\u001b[0;32m   1594\u001b[0m     \u001b[39mwith\u001b[39;00m \u001b[39mself\u001b[39m\u001b[39m.\u001b[39m_backend\u001b[39m.\u001b[39mretrieval_context():\n\u001b[1;32m-> 1595\u001b[0m         \u001b[39myield from\u001b[39;00m \u001b[39mself\u001b[39m\u001b[39m.\u001b[39m_retrieve()\n\u001b[0;32m   1597\u001b[0m \u001b[39mexcept\u001b[39;00m \u001b[39mGeneratorExit\u001b[39;00m:\n\u001b[0;32m   1598\u001b[0m     \u001b[39m# The generator has been garbage collected before being fully\u001b[39;00m\n\u001b[0;32m   1599\u001b[0m     \u001b[39m# consumed. This aborts the remaining tasks if possible and warn\u001b[39;00m\n\u001b[0;32m   1600\u001b[0m     \u001b[39m# the user if necessary.\u001b[39;00m\n\u001b[0;32m   1601\u001b[0m     \u001b[39mself\u001b[39m\u001b[39m.\u001b[39m_exception \u001b[39m=\u001b[39m \u001b[39mTrue\u001b[39;00m\n",
      "File \u001b[1;32mc:\\Users\\ronal\\AppData\\Local\\Programs\\Python\\Python310\\lib\\site-packages\\joblib\\parallel.py:1707\u001b[0m, in \u001b[0;36mParallel._retrieve\u001b[1;34m(self)\u001b[0m\n\u001b[0;32m   1702\u001b[0m \u001b[39m# If the next job is not ready for retrieval yet, we just wait for\u001b[39;00m\n\u001b[0;32m   1703\u001b[0m \u001b[39m# async callbacks to progress.\u001b[39;00m\n\u001b[0;32m   1704\u001b[0m \u001b[39mif\u001b[39;00m ((\u001b[39mlen\u001b[39m(\u001b[39mself\u001b[39m\u001b[39m.\u001b[39m_jobs) \u001b[39m==\u001b[39m \u001b[39m0\u001b[39m) \u001b[39mor\u001b[39;00m\n\u001b[0;32m   1705\u001b[0m     (\u001b[39mself\u001b[39m\u001b[39m.\u001b[39m_jobs[\u001b[39m0\u001b[39m]\u001b[39m.\u001b[39mget_status(\n\u001b[0;32m   1706\u001b[0m         timeout\u001b[39m=\u001b[39m\u001b[39mself\u001b[39m\u001b[39m.\u001b[39mtimeout) \u001b[39m==\u001b[39m TASK_PENDING)):\n\u001b[1;32m-> 1707\u001b[0m     time\u001b[39m.\u001b[39;49msleep(\u001b[39m0.01\u001b[39;49m)\n\u001b[0;32m   1708\u001b[0m     \u001b[39mcontinue\u001b[39;00m\n\u001b[0;32m   1710\u001b[0m \u001b[39m# We need to be careful: the job list can be filling up as\u001b[39;00m\n\u001b[0;32m   1711\u001b[0m \u001b[39m# we empty it and Python list are not thread-safe by\u001b[39;00m\n\u001b[0;32m   1712\u001b[0m \u001b[39m# default hence the use of the lock\u001b[39;00m\n",
      "\u001b[1;31mKeyboardInterrupt\u001b[0m: "
     ]
    }
   ],
   "source": [
    "from sklearn.impute import KNNImputer\n",
    "from joblib import Parallel, delayed\n",
    "import numpy as np\n",
    "\n",
    "# Función para calcular la distancia de Mahalanobis\n",
    "def mahalanobis_distance(u, v, VI):\n",
    "    return np.sqrt(np.dot(np.dot((u - v), VI), (u - v).T))\n",
    "\n",
    "# Función para aplicar KNNImputer a una parte de los datos utilizando la distancia de Mahalanobis\n",
    "def impute_part(data, VI):\n",
    "    imputer = KNNImputer(n_neighbors=3, weights=\"distance\", metric=lambda u, v, **kwargs: mahalanobis_distance(u, v, VI))\n",
    "    return imputer.fit_transform(data)\n",
    "\n",
    "# Ajustar el tamaño de los bloques\n",
    "part_size = len(faltantesprueba) // 4  # Puedes experimentar con este valor\n",
    "data_parts = [faltantesprueba[i:i + part_size] for i in range(0, len(faltantesprueba), part_size)]\n",
    "\n",
    "# Aplicar KNNImputer a cada parte en paralelo utilizando la distancia de Mahalanobis\n",
    "imputed_parts = Parallel(n_jobs=4)(delayed(impute_part)(part, VI) for part in data_parts)\n",
    "\n",
    "# Combinar los resultados\n",
    "imputados_mahalanobis = np.vstack(imputed_parts)\n"
   ]
  },
  {
   "cell_type": "code",
   "execution_count": 79,
   "metadata": {},
   "outputs": [
    {
     "name": "stdout",
     "output_type": "stream",
     "text": [
      "Requirement already satisfied: scikit-learn in c:\\users\\ronal\\appdata\\local\\programs\\python\\python310\\lib\\site-packages (1.3.2)\n",
      "Requirement already satisfied: numpy in c:\\users\\ronal\\appdata\\local\\programs\\python\\python310\\lib\\site-packages (1.26.1)\n",
      "Requirement already satisfied: scipy in c:\\users\\ronal\\appdata\\local\\programs\\python\\python310\\lib\\site-packages (1.11.3)\n",
      "Requirement already satisfied: joblib in c:\\users\\ronal\\appdata\\local\\programs\\python\\python310\\lib\\site-packages (1.3.2)\n",
      "Requirement already satisfied: dask[distributed] in c:\\users\\ronal\\appdata\\local\\programs\\python\\python310\\lib\\site-packages (2023.3.2)\n",
      "Requirement already satisfied: click>=7.0 in c:\\users\\ronal\\appdata\\local\\programs\\python\\python310\\lib\\site-packages (from dask[distributed]) (8.1.3)\n",
      "Requirement already satisfied: cloudpickle>=1.1.1 in c:\\users\\ronal\\appdata\\local\\programs\\python\\python310\\lib\\site-packages (from dask[distributed]) (2.2.1)\n",
      "Requirement already satisfied: fsspec>=0.6.0 in c:\\users\\ronal\\appdata\\local\\programs\\python\\python310\\lib\\site-packages (from dask[distributed]) (2023.4.0)\n",
      "Requirement already satisfied: packaging>=20.0 in c:\\users\\ronal\\appdata\\local\\programs\\python\\python310\\lib\\site-packages (from dask[distributed]) (21.3)\n",
      "Requirement already satisfied: partd>=1.2.0 in c:\\users\\ronal\\appdata\\local\\programs\\python\\python310\\lib\\site-packages (from dask[distributed]) (1.3.0)\n",
      "Requirement already satisfied: pyyaml>=5.3.1 in c:\\users\\ronal\\appdata\\local\\programs\\python\\python310\\lib\\site-packages (from dask[distributed]) (6.0)\n",
      "Requirement already satisfied: toolz>=0.8.2 in c:\\users\\ronal\\appdata\\local\\programs\\python\\python310\\lib\\site-packages (from dask[distributed]) (0.12.0)\n",
      "Requirement already satisfied: importlib-metadata>=4.13.0 in c:\\users\\ronal\\appdata\\local\\programs\\python\\python310\\lib\\site-packages (from dask[distributed]) (6.2.0)\n",
      "Collecting distributed==2023.3.2 (from dask[distributed])\n",
      "  Downloading distributed-2023.3.2-py3-none-any.whl (956 kB)\n",
      "     ------------------------------------- 956.9/956.9 kB 15.0 MB/s eta 0:00:00\n",
      "Requirement already satisfied: jinja2>=2.10.3 in c:\\users\\ronal\\appdata\\local\\programs\\python\\python310\\lib\\site-packages (from distributed==2023.3.2->dask[distributed]) (3.1.2)\n",
      "Requirement already satisfied: locket>=1.0.0 in c:\\users\\ronal\\appdata\\local\\programs\\python\\python310\\lib\\site-packages (from distributed==2023.3.2->dask[distributed]) (1.0.0)\n",
      "Requirement already satisfied: msgpack>=1.0.0 in c:\\users\\ronal\\appdata\\local\\programs\\python\\python310\\lib\\site-packages (from distributed==2023.3.2->dask[distributed]) (1.0.7)\n",
      "Requirement already satisfied: psutil>=5.7.0 in c:\\users\\ronal\\appdata\\local\\programs\\python\\python310\\lib\\site-packages (from distributed==2023.3.2->dask[distributed]) (5.9.0)\n",
      "Requirement already satisfied: sortedcontainers>=2.0.5 in c:\\users\\ronal\\appdata\\local\\programs\\python\\python310\\lib\\site-packages (from distributed==2023.3.2->dask[distributed]) (2.4.0)\n",
      "Requirement already satisfied: tblib>=1.6.0 in c:\\users\\ronal\\appdata\\local\\programs\\python\\python310\\lib\\site-packages (from distributed==2023.3.2->dask[distributed]) (3.0.0)\n",
      "Requirement already satisfied: tornado>=6.0.3 in c:\\users\\ronal\\appdata\\local\\programs\\python\\python310\\lib\\site-packages (from distributed==2023.3.2->dask[distributed]) (6.1)\n",
      "Requirement already satisfied: urllib3>=1.24.3 in c:\\users\\ronal\\appdata\\local\\programs\\python\\python310\\lib\\site-packages (from distributed==2023.3.2->dask[distributed]) (1.26.9)\n",
      "Requirement already satisfied: zict>=2.1.0 in c:\\users\\ronal\\appdata\\local\\programs\\python\\python310\\lib\\site-packages (from distributed==2023.3.2->dask[distributed]) (3.0.0)\n",
      "Requirement already satisfied: threadpoolctl>=2.0.0 in c:\\users\\ronal\\appdata\\local\\programs\\python\\python310\\lib\\site-packages (from scikit-learn) (3.1.0)\n",
      "Requirement already satisfied: colorama in c:\\users\\ronal\\appdata\\local\\programs\\python\\python310\\lib\\site-packages (from click>=7.0->dask[distributed]) (0.4.4)\n",
      "Requirement already satisfied: zipp>=0.5 in c:\\users\\ronal\\appdata\\local\\programs\\python\\python310\\lib\\site-packages (from importlib-metadata>=4.13.0->dask[distributed]) (3.15.0)\n",
      "Requirement already satisfied: pyparsing!=3.0.5,>=2.0.2 in c:\\users\\ronal\\appdata\\local\\programs\\python\\python310\\lib\\site-packages (from packaging>=20.0->dask[distributed]) (3.0.8)\n",
      "Requirement already satisfied: MarkupSafe>=2.0 in c:\\users\\ronal\\appdata\\local\\programs\\python\\python310\\lib\\site-packages (from jinja2>=2.10.3->distributed==2023.3.2->dask[distributed]) (2.1.1)\n",
      "Installing collected packages: distributed\n",
      "  Attempting uninstall: distributed\n",
      "    Found existing installation: distributed 2023.3.2.1\n",
      "    Uninstalling distributed-2023.3.2.1:\n",
      "      Successfully uninstalled distributed-2023.3.2.1\n",
      "Successfully installed distributed-2023.3.2\n",
      "Note: you may need to restart the kernel to use updated packages.\n"
     ]
    }
   ],
   "source": [
    "pip install dask[distributed] scikit-learn numpy scipy joblib"
   ]
  },
  {
   "cell_type": "markdown",
   "metadata": {},
   "source": [
    "Con correcta distancia mahalanobis"
   ]
  },
  {
   "cell_type": "code",
   "execution_count": 47,
   "metadata": {},
   "outputs": [
    {
     "name": "stderr",
     "output_type": "stream",
     "text": [
      "c:\\Users\\ronal\\AppData\\Local\\Programs\\Python\\Python310\\lib\\site-packages\\distributed\\node.py:182: UserWarning: Port 8787 is already in use.\n",
      "Perhaps you already have a cluster running?\n",
      "Hosting the HTTP server on port 5277 instead\n",
      "  warnings.warn(\n"
     ]
    },
    {
     "name": "stderr",
     "output_type": "stream",
     "text": [
      "2023-12-01 10:27:27,974 - distributed.nanny - WARNING - Restarting worker\n"
     ]
    }
   ],
   "source": [
    "import dask.array as da\n",
    "from sklearn.covariance import EmpiricalCovariance\n",
    "from dask.distributed import Client\n",
    "import numpy as np\n",
    "from sklearn.impute import KNNImputer\n",
    "from joblib import Parallel, delayed\n",
    "\n",
    "# Inicializa un cliente Dask para la paralelización\n",
    "client = Client()\n",
    "\n",
    "# Supongamos que 'faltantesprueba' es tu conjunto de datos en formato NumPy\n",
    "# Convierte faltantesprueba en un Dask Array para el procesamiento paralelo\n",
    "faltantesprueba_dask = da.from_array(faltantesprueba, chunks=(1000, -1))\n",
    "\n",
    "# Considera solo las filas sin NaN para el cálculo de la matriz de covarianza\n",
    "valid_data = faltantesprueba_dask[~da.isnan(faltantesprueba_dask).any(axis=1)].compute()\n",
    "\n",
    "# Calcula la matriz de covarianza inversa (ignora filas con NaN)\n",
    "cov_matrix = EmpiricalCovariance().fit(valid_data)\n",
    "VI = cov_matrix.precision_\n",
    "\n",
    "# Función para calcular la distancia de Mahalanobis\n",
    "def mahalanobis_distance(u, v, VI):\n",
    "    return np.sqrt(np.dot(np.dot((u - v), np.linalg.inv(VI)), (u - v).T))\n",
    "\n",
    "# Función para aplicar KNNImputer a una parte de los datos\n",
    "def impute_part(data, VI):\n",
    "    imputer = KNNImputer(n_neighbors=3, weights=\"distance\", metric=lambda u, v, **kwargs: mahalanobis_distance(u, v, VI))\n",
    "    return imputer.fit_transform(data)\n",
    "\n",
    "# Ajusta el tamaño de los bloques\n",
    "part_size = len(faltantesprueba) // 4\n",
    "data_parts = [faltantesprueba[i:i + part_size] for i in range(0, len(faltantesprueba), part_size)]\n",
    "\n",
    "# Aplica KNNImputer a cada parte en paralelo utilizando la distancia de Mahalanobis\n",
    "imputed_parts_mahalav2 = Parallel(n_jobs=5)(delayed(impute_part)(part, VI) for part in data_parts)\n",
    "\n",
    "# Combinar los resultados\n",
    "imputados_mahalanobis = np.vstack(imputed_parts)\n",
    "\n"
   ]
  },
  {
   "cell_type": "markdown",
   "metadata": {},
   "source": [
    "para el 15%\n"
   ]
  },
  {
   "cell_type": "code",
   "execution_count": 51,
   "metadata": {},
   "outputs": [
    {
     "name": "stderr",
     "output_type": "stream",
     "text": [
      "c:\\Users\\ronal\\AppData\\Local\\Programs\\Python\\Python310\\lib\\site-packages\\distributed\\node.py:182: UserWarning: Port 8787 is already in use.\n",
      "Perhaps you already have a cluster running?\n",
      "Hosting the HTTP server on port 3128 instead\n",
      "  warnings.warn(\n"
     ]
    },
    {
     "ename": "KeyboardInterrupt",
     "evalue": "",
     "output_type": "error",
     "traceback": [
      "\u001b[1;31m---------------------------------------------------------------------------\u001b[0m",
      "\u001b[1;31mKeyboardInterrupt\u001b[0m                         Traceback (most recent call last)",
      "Input \u001b[1;32mIn [51]\u001b[0m, in \u001b[0;36m<cell line: 36>\u001b[1;34m()\u001b[0m\n\u001b[0;32m     33\u001b[0m data_parts15p \u001b[38;5;241m=\u001b[39m [faltantesprueba15p[i:i \u001b[38;5;241m+\u001b[39m part_size15p] \u001b[38;5;28;01mfor\u001b[39;00m i \u001b[38;5;129;01min\u001b[39;00m \u001b[38;5;28mrange\u001b[39m(\u001b[38;5;241m0\u001b[39m, \u001b[38;5;28mlen\u001b[39m(faltantesprueba15p), part_size15p)]\n\u001b[0;32m     35\u001b[0m \u001b[38;5;66;03m# Aplica KNNImputer a cada parte en paralelo utilizando la distancia de Mahalanobis\u001b[39;00m\n\u001b[1;32m---> 36\u001b[0m imputed_parts_mahalav215p \u001b[38;5;241m=\u001b[39m \u001b[43mParallel\u001b[49m\u001b[43m(\u001b[49m\u001b[43mn_jobs\u001b[49m\u001b[38;5;241;43m=\u001b[39;49m\u001b[38;5;241;43m5\u001b[39;49m\u001b[43m)\u001b[49m\u001b[43m(\u001b[49m\u001b[43mdelayed\u001b[49m\u001b[43m(\u001b[49m\u001b[43mimpute_part\u001b[49m\u001b[43m)\u001b[49m\u001b[43m(\u001b[49m\u001b[43mpart\u001b[49m\u001b[43m,\u001b[49m\u001b[43m \u001b[49m\u001b[43mVI\u001b[49m\u001b[43m)\u001b[49m\u001b[43m \u001b[49m\u001b[38;5;28;43;01mfor\u001b[39;49;00m\u001b[43m \u001b[49m\u001b[43mpart\u001b[49m\u001b[43m \u001b[49m\u001b[38;5;129;43;01min\u001b[39;49;00m\u001b[43m \u001b[49m\u001b[43mdata_parts15p\u001b[49m\u001b[43m)\u001b[49m\n\u001b[0;32m     38\u001b[0m \u001b[38;5;66;03m# Combinar los resultados\u001b[39;00m\n\u001b[0;32m     39\u001b[0m imputed_parts_mahalav215p \u001b[38;5;241m=\u001b[39m np\u001b[38;5;241m.\u001b[39mvstack(imputed_parts_mahalav215p)\n",
      "File \u001b[1;32mc:\\Users\\ronal\\AppData\\Local\\Programs\\Python\\Python310\\lib\\site-packages\\joblib\\parallel.py:1952\u001b[0m, in \u001b[0;36mParallel.__call__\u001b[1;34m(self, iterable)\u001b[0m\n\u001b[0;32m   1946\u001b[0m \u001b[38;5;66;03m# The first item from the output is blank, but it makes the interpreter\u001b[39;00m\n\u001b[0;32m   1947\u001b[0m \u001b[38;5;66;03m# progress until it enters the Try/Except block of the generator and\u001b[39;00m\n\u001b[0;32m   1948\u001b[0m \u001b[38;5;66;03m# reach the first `yield` statement. This starts the aynchronous\u001b[39;00m\n\u001b[0;32m   1949\u001b[0m \u001b[38;5;66;03m# dispatch of the tasks to the workers.\u001b[39;00m\n\u001b[0;32m   1950\u001b[0m \u001b[38;5;28mnext\u001b[39m(output)\n\u001b[1;32m-> 1952\u001b[0m \u001b[38;5;28;01mreturn\u001b[39;00m output \u001b[38;5;28;01mif\u001b[39;00m \u001b[38;5;28mself\u001b[39m\u001b[38;5;241m.\u001b[39mreturn_generator \u001b[38;5;28;01melse\u001b[39;00m \u001b[38;5;28;43mlist\u001b[39;49m\u001b[43m(\u001b[49m\u001b[43moutput\u001b[49m\u001b[43m)\u001b[49m\n",
      "File \u001b[1;32mc:\\Users\\ronal\\AppData\\Local\\Programs\\Python\\Python310\\lib\\site-packages\\joblib\\parallel.py:1595\u001b[0m, in \u001b[0;36mParallel._get_outputs\u001b[1;34m(self, iterator, pre_dispatch)\u001b[0m\n\u001b[0;32m   1592\u001b[0m     \u001b[38;5;28;01myield\u001b[39;00m\n\u001b[0;32m   1594\u001b[0m     \u001b[38;5;28;01mwith\u001b[39;00m \u001b[38;5;28mself\u001b[39m\u001b[38;5;241m.\u001b[39m_backend\u001b[38;5;241m.\u001b[39mretrieval_context():\n\u001b[1;32m-> 1595\u001b[0m         \u001b[38;5;28;01myield from\u001b[39;00m \u001b[38;5;28mself\u001b[39m\u001b[38;5;241m.\u001b[39m_retrieve()\n\u001b[0;32m   1597\u001b[0m \u001b[38;5;28;01mexcept\u001b[39;00m \u001b[38;5;167;01mGeneratorExit\u001b[39;00m:\n\u001b[0;32m   1598\u001b[0m     \u001b[38;5;66;03m# The generator has been garbage collected before being fully\u001b[39;00m\n\u001b[0;32m   1599\u001b[0m     \u001b[38;5;66;03m# consumed. This aborts the remaining tasks if possible and warn\u001b[39;00m\n\u001b[0;32m   1600\u001b[0m     \u001b[38;5;66;03m# the user if necessary.\u001b[39;00m\n\u001b[0;32m   1601\u001b[0m     \u001b[38;5;28mself\u001b[39m\u001b[38;5;241m.\u001b[39m_exception \u001b[38;5;241m=\u001b[39m \u001b[38;5;28;01mTrue\u001b[39;00m\n",
      "File \u001b[1;32mc:\\Users\\ronal\\AppData\\Local\\Programs\\Python\\Python310\\lib\\site-packages\\joblib\\parallel.py:1707\u001b[0m, in \u001b[0;36mParallel._retrieve\u001b[1;34m(self)\u001b[0m\n\u001b[0;32m   1702\u001b[0m \u001b[38;5;66;03m# If the next job is not ready for retrieval yet, we just wait for\u001b[39;00m\n\u001b[0;32m   1703\u001b[0m \u001b[38;5;66;03m# async callbacks to progress.\u001b[39;00m\n\u001b[0;32m   1704\u001b[0m \u001b[38;5;28;01mif\u001b[39;00m ((\u001b[38;5;28mlen\u001b[39m(\u001b[38;5;28mself\u001b[39m\u001b[38;5;241m.\u001b[39m_jobs) \u001b[38;5;241m==\u001b[39m \u001b[38;5;241m0\u001b[39m) \u001b[38;5;129;01mor\u001b[39;00m\n\u001b[0;32m   1705\u001b[0m     (\u001b[38;5;28mself\u001b[39m\u001b[38;5;241m.\u001b[39m_jobs[\u001b[38;5;241m0\u001b[39m]\u001b[38;5;241m.\u001b[39mget_status(\n\u001b[0;32m   1706\u001b[0m         timeout\u001b[38;5;241m=\u001b[39m\u001b[38;5;28mself\u001b[39m\u001b[38;5;241m.\u001b[39mtimeout) \u001b[38;5;241m==\u001b[39m TASK_PENDING)):\n\u001b[1;32m-> 1707\u001b[0m     \u001b[43mtime\u001b[49m\u001b[38;5;241;43m.\u001b[39;49m\u001b[43msleep\u001b[49m\u001b[43m(\u001b[49m\u001b[38;5;241;43m0.01\u001b[39;49m\u001b[43m)\u001b[49m\n\u001b[0;32m   1708\u001b[0m     \u001b[38;5;28;01mcontinue\u001b[39;00m\n\u001b[0;32m   1710\u001b[0m \u001b[38;5;66;03m# We need to be careful: the job list can be filling up as\u001b[39;00m\n\u001b[0;32m   1711\u001b[0m \u001b[38;5;66;03m# we empty it and Python list are not thread-safe by\u001b[39;00m\n\u001b[0;32m   1712\u001b[0m \u001b[38;5;66;03m# default hence the use of the lock\u001b[39;00m\n",
      "\u001b[1;31mKeyboardInterrupt\u001b[0m: "
     ]
    }
   ],
   "source": [
    "import dask.array as da\n",
    "from sklearn.covariance import EmpiricalCovariance\n",
    "from dask.distributed import Client\n",
    "import numpy as np\n",
    "from sklearn.impute import KNNImputer\n",
    "from joblib import Parallel, delayed\n",
    "\n",
    "# Inicializa un cliente Dask para la paralelización\n",
    "client = Client()\n",
    "\n",
    "# Supongamos que 'faltantesprueba' es tu conjunto de datos en formato NumPy\n",
    "# Convierte faltantesprueba en un Dask Array para el procesamiento paralelo\n",
    "faltantesprueba_dask15p = da.from_array(faltantesprueba15p, chunks=(1000, -1))\n",
    "\n",
    "# Considera solo las filas sin NaN para el cálculo de la matriz de covarianza\n",
    "valid_data15p = faltantesprueba_dask15p[~da.isnan(faltantesprueba_dask15p).any(axis=1)].compute()\n",
    "\n",
    "# Calcula la matriz de covarianza inversa (ignora filas con NaN)\n",
    "cov_matrix15p = EmpiricalCovariance().fit(valid_data15p)\n",
    "VI = cov_matrix15p.precision_\n",
    "\n",
    "# Función para calcular la distancia de Mahalanobis\n",
    "def mahalanobis_distance(u, v, VI):\n",
    "    return np.sqrt(np.dot(np.dot((u - v), np.linalg.inv(VI)), (u - v).T))\n",
    "\n",
    "# Función para aplicar KNNImputer a una parte de los datos\n",
    "def impute_part(data, VI):\n",
    "    imputer = KNNImputer(n_neighbors=3, weights=\"distance\", metric=lambda u, v, **kwargs: mahalanobis_distance(u, v, VI))\n",
    "    return imputer.fit_transform(data)\n",
    "\n",
    "# Ajusta el tamaño de los bloques\n",
    "part_size15p = len(faltantesprueba15p) // 4\n",
    "data_parts15p = [faltantesprueba15p[i:i + part_size15p] for i in range(0, len(faltantesprueba15p), part_size15p)]\n",
    "\n",
    "# Aplica KNNImputer a cada parte en paralelo utilizando la distancia de Mahalanobis\n",
    "imputed_parts_mahalav215p = Parallel(n_jobs=5)(delayed(impute_part)(part, VI) for part in data_parts15p)\n",
    "\n",
    "# Combinar los resultados\n",
    "imputed_parts_mahalav215p = np.vstack(imputed_parts_mahalav215p)"
   ]
  },
  {
   "cell_type": "code",
   "execution_count": 48,
   "metadata": {},
   "outputs": [],
   "source": [
    "imputados_mahalanobisv2 = np.vstack(imputed_parts_mahalav2)"
   ]
  },
  {
   "cell_type": "code",
   "execution_count": 49,
   "metadata": {},
   "outputs": [
    {
     "data": {
      "text/plain": [
       "array([[8.33333333e-02, 4.54545455e-01, 2.66666667e-01, 1.54968095e-02,\n",
       "        1.61248103e-01, 8.31865913e-02],\n",
       "       [6.94444444e-01, 4.54545455e-01, 5.66666667e-01, 1.82315406e-02,\n",
       "        1.61248103e-01, 8.31865913e-02],\n",
       "       [6.94444444e-01, 4.54545455e-01, 6.00000000e-01, 2.28180672e-02,\n",
       "        1.61248103e-01, 8.31865913e-02],\n",
       "       ...,\n",
       "       [7.77777778e-01, 6.36363636e-01, 3.66666667e-01, 2.27894257e-04,\n",
       "        8.69051066e-01, 5.93848820e-01],\n",
       "       [7.77777778e-01, 6.36363636e-01, 2.00000000e-01, 2.27894257e-04,\n",
       "        8.69051066e-01, 5.93848820e-01],\n",
       "       [9.44444444e-01, 5.45454545e-01, 5.66666667e-01, 2.03191658e-02,\n",
       "        8.69051066e-01, 5.93848820e-01]])"
      ]
     },
     "execution_count": 49,
     "metadata": {},
     "output_type": "execute_result"
    }
   ],
   "source": [
    "imputados_mahalanobisv2"
   ]
  },
  {
   "cell_type": "markdown",
   "metadata": {},
   "source": [
    "Guerdar modelo con correcion de distancia mahalanobis"
   ]
  },
  {
   "cell_type": "code",
   "execution_count": 51,
   "metadata": {},
   "outputs": [
    {
     "data": {
      "text/plain": [
       "[array([[0.08333333, 0.45454545, 0.26666667, 0.01549681, 0.1612481 ,\n",
       "         0.08318659],\n",
       "        [0.69444444, 0.45454545, 0.56666667, 0.01823154, 0.1612481 ,\n",
       "         0.08318659],\n",
       "        [0.69444444, 0.45454545, 0.6       , 0.02281807, 0.1612481 ,\n",
       "         0.08318659],\n",
       "        ...,\n",
       "        [0.66666667, 0.72727273, 0.36666667, 0.        , 0.33658022,\n",
       "         0.23909576],\n",
       "        [0.66666667, 0.72727273, 0.4       , 0.        , 0.33658022,\n",
       "         0.23909576],\n",
       "        [0.66666667, 0.72727273, 0.43333333, 0.        , 0.33658022,\n",
       "         0.23909576]]),\n",
       " array([[0.66666667, 0.72727273, 0.46666667, 0.        , 0.33658022,\n",
       "         0.23909576],\n",
       "        [0.66666667, 0.72727273, 0.5       , 0.        , 0.33658022,\n",
       "         0.23909576],\n",
       "        [0.66666667, 0.72727273, 0.53333333, 0.        , 0.33658022,\n",
       "         0.23909576],\n",
       "        ...,\n",
       "        [0.33333333, 0.63636364, 0.1       , 0.00911577, 0.29754804,\n",
       "         0.73801248],\n",
       "        [0.33333333, 0.63636364, 0.13333333, 0.04785779, 0.29754804,\n",
       "         0.73801248],\n",
       "        [0.33333333, 0.63636364, 0.16666667, 0.        , 0.29754804,\n",
       "         0.73801248]]),\n",
       " array([[0.33333333, 0.63636364, 0.2       , 0.05469462, 0.29754804,\n",
       "         0.73801248],\n",
       "        [0.33333333, 0.63636364, 0.23333333, 0.        , 0.29754804,\n",
       "         0.73801248],\n",
       "        [0.33333333, 0.63636364, 0.26666667, 0.        , 0.29754804,\n",
       "         0.73801248],\n",
       "        ...,\n",
       "        [0.86111111, 0.27272727, 0.8       , 0.02005361, 0.78440797,\n",
       "         0.29399725],\n",
       "        [0.86111111, 0.27272727, 0.83333333, 0.        , 0.78440797,\n",
       "         0.29399725],\n",
       "        [0.86111111, 0.27272727, 0.86666667, 0.        , 0.78440797,\n",
       "         0.29399725]]),\n",
       " array([[8.61111111e-01, 2.72727273e-01, 9.00000000e-01, 0.00000000e+00,\n",
       "         7.84407973e-01, 2.93997253e-01],\n",
       "        [8.61111111e-01, 2.72727273e-01, 9.33333333e-01, 0.00000000e+00,\n",
       "         7.84407973e-01, 2.93997253e-01],\n",
       "        [8.61111111e-01, 2.72727273e-01, 6.00000000e-01, 2.03191658e-02,\n",
       "         7.84407973e-01, 2.93997253e-01],\n",
       "        ...,\n",
       "        [7.77777778e-01, 6.36363636e-01, 3.66666667e-01, 2.27894257e-04,\n",
       "         8.69051066e-01, 5.93848820e-01],\n",
       "        [7.77777778e-01, 6.36363636e-01, 2.00000000e-01, 2.27894257e-04,\n",
       "         8.69051066e-01, 5.93848820e-01],\n",
       "        [9.44444444e-01, 5.45454545e-01, 5.66666667e-01, 2.03191658e-02,\n",
       "         8.69051066e-01, 5.93848820e-01]])]"
      ]
     },
     "execution_count": 51,
     "metadata": {},
     "output_type": "execute_result"
    }
   ],
   "source": [
    "imputed_parts_mahalav2"
   ]
  },
  {
   "cell_type": "code",
   "execution_count": 52,
   "metadata": {},
   "outputs": [],
   "source": [
    "\n",
    "\n",
    "import pickle\n",
    "\n",
    "# Guardar el modelo\n",
    "with open('model_KNN_Mahalanobisv2.pkl', 'wb') as f:\n",
    "    pickle.dump(imputed_parts_mahalav2, f)\n",
    "\n",
    "# Cargar el modelo\n",
    "with open('model_KNN_Mahalanobisv2.pkl', 'rb') as f:\n",
    "    loaded_model = pickle.load(f)"
   ]
  },
  {
   "cell_type": "markdown",
   "metadata": {},
   "source": [
    "FUNCION FINAL EJECUTADA"
   ]
  },
  {
   "cell_type": "code",
   "execution_count": 80,
   "metadata": {},
   "outputs": [
    {
     "name": "stderr",
     "output_type": "stream",
     "text": [
      "c:\\Users\\ronal\\AppData\\Local\\Programs\\Python\\Python310\\lib\\site-packages\\distributed\\node.py:182: UserWarning: Port 8787 is already in use.\n",
      "Perhaps you already have a cluster running?\n",
      "Hosting the HTTP server on port 5164 instead\n",
      "  warnings.warn(\n",
      "c:\\Users\\ronal\\AppData\\Local\\Programs\\Python\\Python310\\lib\\site-packages\\distributed\\client.py:1381: VersionMismatchWarning: Mismatched versions found\n",
      "\n",
      "+-------------+------------+------------+----------+\n",
      "| Package     | Client     | Scheduler  | Workers  |\n",
      "+-------------+------------+------------+----------+\n",
      "| distributed | 2023.3.2.1 | 2023.3.2.1 | 2023.3.2 |\n",
      "+-------------+------------+------------+----------+\n",
      "  warnings.warn(version_module.VersionMismatchWarning(msg[0][\"warning\"]))\n"
     ]
    },
    {
     "name": "stderr",
     "output_type": "stream",
     "text": [
      "2023-11-27 03:03:49,204 - distributed.nanny - WARNING - Restarting worker\n"
     ]
    }
   ],
   "source": [
    "import dask.array as da\n",
    "from sklearn.covariance import EmpiricalCovariance\n",
    "from dask.distributed import Client\n",
    "import numpy as np\n",
    "from sklearn.impute import KNNImputer\n",
    "from joblib import Parallel, delayed\n",
    "\n",
    "# Inicializa un cliente Dask para la paralelización\n",
    "client = Client()\n",
    "\n",
    "# Supongamos que 'faltantesprueba' es tu conjunto de datos en formato NumPy\n",
    "# Convierte faltantesprueba en un Dask Array para el procesamiento paralelo\n",
    "faltantesprueba_dask = da.from_array(faltantesprueba, chunks=(1000, -1))\n",
    "\n",
    "# Considera solo las filas sin NaN para el cálculo de la matriz de covarianza\n",
    "valid_data = faltantesprueba_dask[~da.isnan(faltantesprueba_dask).any(axis=1)].compute()\n",
    "\n",
    "# Calcula la matriz de covarianza inversa (ignora filas con NaN)\n",
    "cov_matrix = EmpiricalCovariance().fit(valid_data)\n",
    "VI = cov_matrix.precision_\n",
    "\n",
    "# Función para calcular la distancia de Mahalanobis\n",
    "def mahalanobis_distance(u, v, VI):\n",
    "    return np.sqrt(np.dot(np.dot((u - v), np.linalg.inv(VI)), (u - v).T))\n",
    "\n",
    "# Función para aplicar KNNImputer a una parte de los datos\n",
    "def impute_part(data, VI):\n",
    "    imputer = KNNImputer(n_neighbors=3, weights=\"distance\", metric=lambda u, v, **kwargs: mahalanobis_distance(u, v, VI))\n",
    "    return imputer.fit_transform(data)\n",
    "\n",
    "# Ajusta el tamaño de los bloques\n",
    "part_size = len(faltantesprueba) // 4\n",
    "data_parts = [faltantesprueba[i:i + part_size] for i in range(0, len(faltantesprueba), part_size)]\n",
    "\n",
    "# Aplica KNNImputer a cada parte en paralelo utilizando la distancia de Mahalanobis\n",
    "imputed_parts = Parallel(n_jobs=4)(delayed(impute_part)(part, VI) for part in data_parts)\n",
    "\n",
    "# Combinar los resultados\n",
    "imputados_mahalanobis = np.vstack(imputed_parts)\n"
   ]
  },
  {
   "cell_type": "code",
   "execution_count": 83,
   "metadata": {},
   "outputs": [],
   "source": [
    "\n",
    "imputedmahala = imputed_parts\n",
    "import pickle\n",
    "\n",
    "# Guardar el modelo\n",
    "with open('model_KNN_Mahalanobis.pkl', 'wb') as f:\n",
    "    pickle.dump(imputedmahala, f)\n",
    "\n",
    "# Cargar el modelo\n",
    "with open('model_KNN_Mahalanobis.pkl', 'rb') as f:\n",
    "    loaded_model = pickle.load(f)"
   ]
  },
  {
   "cell_type": "code",
   "execution_count": 81,
   "metadata": {},
   "outputs": [
    {
     "data": {
      "text/plain": [
       "array([[8.33333333e-02, 4.54545455e-01, 2.66666667e-01, 1.54968095e-02,\n",
       "        1.61248103e-01, 8.31865913e-02],\n",
       "       [6.94444444e-01, 4.54545455e-01, 5.66666667e-01, 1.82315406e-02,\n",
       "        1.61248103e-01, 8.31865913e-02],\n",
       "       [6.94444444e-01, 4.54545455e-01, 6.00000000e-01, 2.28180672e-02,\n",
       "        1.61248103e-01, 8.31865913e-02],\n",
       "       ...,\n",
       "       [7.77777778e-01, 6.36363636e-01, 3.66666667e-01, 2.27894257e-04,\n",
       "        8.69051066e-01, 5.93848820e-01],\n",
       "       [7.77777778e-01, 6.36363636e-01, 2.00000000e-01, 2.27894257e-04,\n",
       "        8.69051066e-01, 5.93848820e-01],\n",
       "       [9.44444444e-01, 5.45454545e-01, 5.66666667e-01, 2.03191658e-02,\n",
       "        8.69051066e-01, 5.93848820e-01]])"
      ]
     },
     "execution_count": 81,
     "metadata": {},
     "output_type": "execute_result"
    }
   ],
   "source": [
    "imputados_mahalanobis"
   ]
  },
  {
   "cell_type": "markdown",
   "metadata": {},
   "source": [
    "con 15%"
   ]
  },
  {
   "cell_type": "code",
   "execution_count": 52,
   "metadata": {},
   "outputs": [
    {
     "name": "stderr",
     "output_type": "stream",
     "text": [
      "c:\\Users\\ronal\\AppData\\Local\\Programs\\Python\\Python310\\lib\\site-packages\\distributed\\node.py:182: UserWarning: Port 8787 is already in use.\n",
      "Perhaps you already have a cluster running?\n",
      "Hosting the HTTP server on port 3375 instead\n",
      "  warnings.warn(\n"
     ]
    },
    {
     "ename": "KeyboardInterrupt",
     "evalue": "",
     "output_type": "error",
     "traceback": [
      "\u001b[1;31m---------------------------------------------------------------------------\u001b[0m",
      "\u001b[1;31mKeyboardInterrupt\u001b[0m                         Traceback (most recent call last)",
      "Input \u001b[1;32mIn [52]\u001b[0m, in \u001b[0;36m<cell line: 36>\u001b[1;34m()\u001b[0m\n\u001b[0;32m     33\u001b[0m data_parts \u001b[38;5;241m=\u001b[39m [faltantesprueba15p[i:i \u001b[38;5;241m+\u001b[39m part_size] \u001b[38;5;28;01mfor\u001b[39;00m i \u001b[38;5;129;01min\u001b[39;00m \u001b[38;5;28mrange\u001b[39m(\u001b[38;5;241m0\u001b[39m, \u001b[38;5;28mlen\u001b[39m(faltantesprueba15p), part_size)]\n\u001b[0;32m     35\u001b[0m \u001b[38;5;66;03m# Aplica KNNImputer a cada parte en paralelo utilizando la distancia de Mahalanobis\u001b[39;00m\n\u001b[1;32m---> 36\u001b[0m imputed_parts \u001b[38;5;241m=\u001b[39m \u001b[43mParallel\u001b[49m\u001b[43m(\u001b[49m\u001b[43mn_jobs\u001b[49m\u001b[38;5;241;43m=\u001b[39;49m\u001b[38;5;241;43m4\u001b[39;49m\u001b[43m)\u001b[49m\u001b[43m(\u001b[49m\u001b[43mdelayed\u001b[49m\u001b[43m(\u001b[49m\u001b[43mimpute_part\u001b[49m\u001b[43m)\u001b[49m\u001b[43m(\u001b[49m\u001b[43mpart\u001b[49m\u001b[43m,\u001b[49m\u001b[43m \u001b[49m\u001b[43mVI\u001b[49m\u001b[43m)\u001b[49m\u001b[43m \u001b[49m\u001b[38;5;28;43;01mfor\u001b[39;49;00m\u001b[43m \u001b[49m\u001b[43mpart\u001b[49m\u001b[43m \u001b[49m\u001b[38;5;129;43;01min\u001b[39;49;00m\u001b[43m \u001b[49m\u001b[43mdata_parts\u001b[49m\u001b[43m)\u001b[49m\n\u001b[0;32m     38\u001b[0m \u001b[38;5;66;03m# Combinar los resultados\u001b[39;00m\n\u001b[0;32m     39\u001b[0m imputados_mahalanobis15p \u001b[38;5;241m=\u001b[39m np\u001b[38;5;241m.\u001b[39mvstack(imputed_parts)\n",
      "File \u001b[1;32mc:\\Users\\ronal\\AppData\\Local\\Programs\\Python\\Python310\\lib\\site-packages\\joblib\\parallel.py:1952\u001b[0m, in \u001b[0;36mParallel.__call__\u001b[1;34m(self, iterable)\u001b[0m\n\u001b[0;32m   1946\u001b[0m \u001b[38;5;66;03m# The first item from the output is blank, but it makes the interpreter\u001b[39;00m\n\u001b[0;32m   1947\u001b[0m \u001b[38;5;66;03m# progress until it enters the Try/Except block of the generator and\u001b[39;00m\n\u001b[0;32m   1948\u001b[0m \u001b[38;5;66;03m# reach the first `yield` statement. This starts the aynchronous\u001b[39;00m\n\u001b[0;32m   1949\u001b[0m \u001b[38;5;66;03m# dispatch of the tasks to the workers.\u001b[39;00m\n\u001b[0;32m   1950\u001b[0m \u001b[38;5;28mnext\u001b[39m(output)\n\u001b[1;32m-> 1952\u001b[0m \u001b[38;5;28;01mreturn\u001b[39;00m output \u001b[38;5;28;01mif\u001b[39;00m \u001b[38;5;28mself\u001b[39m\u001b[38;5;241m.\u001b[39mreturn_generator \u001b[38;5;28;01melse\u001b[39;00m \u001b[38;5;28;43mlist\u001b[39;49m\u001b[43m(\u001b[49m\u001b[43moutput\u001b[49m\u001b[43m)\u001b[49m\n",
      "File \u001b[1;32mc:\\Users\\ronal\\AppData\\Local\\Programs\\Python\\Python310\\lib\\site-packages\\joblib\\parallel.py:1595\u001b[0m, in \u001b[0;36mParallel._get_outputs\u001b[1;34m(self, iterator, pre_dispatch)\u001b[0m\n\u001b[0;32m   1592\u001b[0m     \u001b[38;5;28;01myield\u001b[39;00m\n\u001b[0;32m   1594\u001b[0m     \u001b[38;5;28;01mwith\u001b[39;00m \u001b[38;5;28mself\u001b[39m\u001b[38;5;241m.\u001b[39m_backend\u001b[38;5;241m.\u001b[39mretrieval_context():\n\u001b[1;32m-> 1595\u001b[0m         \u001b[38;5;28;01myield from\u001b[39;00m \u001b[38;5;28mself\u001b[39m\u001b[38;5;241m.\u001b[39m_retrieve()\n\u001b[0;32m   1597\u001b[0m \u001b[38;5;28;01mexcept\u001b[39;00m \u001b[38;5;167;01mGeneratorExit\u001b[39;00m:\n\u001b[0;32m   1598\u001b[0m     \u001b[38;5;66;03m# The generator has been garbage collected before being fully\u001b[39;00m\n\u001b[0;32m   1599\u001b[0m     \u001b[38;5;66;03m# consumed. This aborts the remaining tasks if possible and warn\u001b[39;00m\n\u001b[0;32m   1600\u001b[0m     \u001b[38;5;66;03m# the user if necessary.\u001b[39;00m\n\u001b[0;32m   1601\u001b[0m     \u001b[38;5;28mself\u001b[39m\u001b[38;5;241m.\u001b[39m_exception \u001b[38;5;241m=\u001b[39m \u001b[38;5;28;01mTrue\u001b[39;00m\n",
      "File \u001b[1;32mc:\\Users\\ronal\\AppData\\Local\\Programs\\Python\\Python310\\lib\\site-packages\\joblib\\parallel.py:1707\u001b[0m, in \u001b[0;36mParallel._retrieve\u001b[1;34m(self)\u001b[0m\n\u001b[0;32m   1702\u001b[0m \u001b[38;5;66;03m# If the next job is not ready for retrieval yet, we just wait for\u001b[39;00m\n\u001b[0;32m   1703\u001b[0m \u001b[38;5;66;03m# async callbacks to progress.\u001b[39;00m\n\u001b[0;32m   1704\u001b[0m \u001b[38;5;28;01mif\u001b[39;00m ((\u001b[38;5;28mlen\u001b[39m(\u001b[38;5;28mself\u001b[39m\u001b[38;5;241m.\u001b[39m_jobs) \u001b[38;5;241m==\u001b[39m \u001b[38;5;241m0\u001b[39m) \u001b[38;5;129;01mor\u001b[39;00m\n\u001b[0;32m   1705\u001b[0m     (\u001b[38;5;28mself\u001b[39m\u001b[38;5;241m.\u001b[39m_jobs[\u001b[38;5;241m0\u001b[39m]\u001b[38;5;241m.\u001b[39mget_status(\n\u001b[0;32m   1706\u001b[0m         timeout\u001b[38;5;241m=\u001b[39m\u001b[38;5;28mself\u001b[39m\u001b[38;5;241m.\u001b[39mtimeout) \u001b[38;5;241m==\u001b[39m TASK_PENDING)):\n\u001b[1;32m-> 1707\u001b[0m     \u001b[43mtime\u001b[49m\u001b[38;5;241;43m.\u001b[39;49m\u001b[43msleep\u001b[49m\u001b[43m(\u001b[49m\u001b[38;5;241;43m0.01\u001b[39;49m\u001b[43m)\u001b[49m\n\u001b[0;32m   1708\u001b[0m     \u001b[38;5;28;01mcontinue\u001b[39;00m\n\u001b[0;32m   1710\u001b[0m \u001b[38;5;66;03m# We need to be careful: the job list can be filling up as\u001b[39;00m\n\u001b[0;32m   1711\u001b[0m \u001b[38;5;66;03m# we empty it and Python list are not thread-safe by\u001b[39;00m\n\u001b[0;32m   1712\u001b[0m \u001b[38;5;66;03m# default hence the use of the lock\u001b[39;00m\n",
      "\u001b[1;31mKeyboardInterrupt\u001b[0m: "
     ]
    }
   ],
   "source": [
    "import dask.array as da\n",
    "from sklearn.covariance import EmpiricalCovariance\n",
    "from dask.distributed import Client\n",
    "import numpy as np\n",
    "from sklearn.impute import KNNImputer\n",
    "from joblib import Parallel, delayed\n",
    "\n",
    "# Inicializa un cliente Dask para la paralelización\n",
    "client = Client()\n",
    "\n",
    "# Supongamos que 'faltantesprueba' es tu conjunto de datos en formato NumPy\n",
    "# Convierte faltantesprueba en un Dask Array para el procesamiento paralelo\n",
    "faltantesprueba_dask = da.from_array(faltantesprueba15p, chunks=(1000, -1))\n",
    "\n",
    "# Considera solo las filas sin NaN para el cálculo de la matriz de covarianza\n",
    "valid_data = faltantesprueba_dask[~da.isnan(faltantesprueba_dask).any(axis=1)].compute()\n",
    "\n",
    "# Calcula la matriz de covarianza inversa (ignora filas con NaN)\n",
    "cov_matrix = EmpiricalCovariance().fit(valid_data)\n",
    "VI = cov_matrix.precision_\n",
    "\n",
    "# Función para calcular la distancia de Mahalanobis\n",
    "def mahalanobis_distance(u, v, VI):\n",
    "    return np.sqrt(np.dot(np.dot((u - v), np.linalg.inv(VI)), (u - v).T))\n",
    "\n",
    "# Función para aplicar KNNImputer a una parte de los datos\n",
    "def impute_part(data, VI):\n",
    "    imputer = KNNImputer(n_neighbors=3, weights=\"distance\", metric=lambda u, v, **kwargs: mahalanobis_distance(u, v, VI))\n",
    "    return imputer.fit_transform(data)\n",
    "\n",
    "# Ajusta el tamaño de los bloques\n",
    "part_size = len(faltantesprueba15p) // 4\n",
    "data_parts = [faltantesprueba15p[i:i + part_size] for i in range(0, len(faltantesprueba15p), part_size)]\n",
    "\n",
    "# Aplica KNNImputer a cada parte en paralelo utilizando la distancia de Mahalanobis\n",
    "imputed_parts = Parallel(n_jobs=4)(delayed(impute_part)(part, VI) for part in data_parts)\n",
    "\n",
    "# Combinar los resultados\n",
    "imputados_mahalanobis15p = np.vstack(imputed_parts)\n"
   ]
  },
  {
   "cell_type": "code",
   "execution_count": 55,
   "metadata": {},
   "outputs": [
    {
     "name": "stderr",
     "output_type": "stream",
     "text": [
      "c:\\Users\\ronal\\AppData\\Local\\Programs\\Python\\Python310\\lib\\site-packages\\distributed\\node.py:182: UserWarning: Port 8787 is already in use.\n",
      "Perhaps you already have a cluster running?\n",
      "Hosting the HTTP server on port 3880 instead\n",
      "  warnings.warn(\n"
     ]
    },
    {
     "ename": "KeyboardInterrupt",
     "evalue": "",
     "output_type": "error",
     "traceback": [
      "\u001b[1;31m---------------------------------------------------------------------------\u001b[0m",
      "\u001b[1;31mKeyboardInterrupt\u001b[0m                         Traceback (most recent call last)",
      "Input \u001b[1;32mIn [55]\u001b[0m, in \u001b[0;36m<cell line: 44>\u001b[1;34m()\u001b[0m\n\u001b[0;32m     41\u001b[0m data_parts \u001b[38;5;241m=\u001b[39m [faltantesprueba15p[i:i \u001b[38;5;241m+\u001b[39m part_size] \u001b[38;5;28;01mfor\u001b[39;00m i \u001b[38;5;129;01min\u001b[39;00m \u001b[38;5;28mrange\u001b[39m(\u001b[38;5;241m0\u001b[39m, \u001b[38;5;28mlen\u001b[39m(faltantesprueba15p), part_size)]\n\u001b[0;32m     43\u001b[0m \u001b[38;5;66;03m# Aplica KNNImputer a cada parte en paralelo utilizando la distancia de Mahalanobis\u001b[39;00m\n\u001b[1;32m---> 44\u001b[0m imputed_parts \u001b[38;5;241m=\u001b[39m \u001b[43mParallel\u001b[49m\u001b[43m(\u001b[49m\u001b[43mn_jobs\u001b[49m\u001b[38;5;241;43m=\u001b[39;49m\u001b[43mtotal_threads\u001b[49m\u001b[43m)\u001b[49m\u001b[43m(\u001b[49m\u001b[43mdelayed\u001b[49m\u001b[43m(\u001b[49m\u001b[43mimpute_part\u001b[49m\u001b[43m)\u001b[49m\u001b[43m(\u001b[49m\u001b[43mpart\u001b[49m\u001b[43m,\u001b[49m\u001b[43m \u001b[49m\u001b[43mVI\u001b[49m\u001b[43m)\u001b[49m\u001b[43m \u001b[49m\u001b[38;5;28;43;01mfor\u001b[39;49;00m\u001b[43m \u001b[49m\u001b[43mpart\u001b[49m\u001b[43m \u001b[49m\u001b[38;5;129;43;01min\u001b[39;49;00m\u001b[43m \u001b[49m\u001b[43mdata_parts\u001b[49m\u001b[43m)\u001b[49m  \u001b[38;5;66;03m# Ajusta n_jobs si es necesario\u001b[39;00m\n\u001b[0;32m     46\u001b[0m \u001b[38;5;66;03m# Combinar los resultados\u001b[39;00m\n\u001b[0;32m     47\u001b[0m imputados_mahalanobis15p \u001b[38;5;241m=\u001b[39m np\u001b[38;5;241m.\u001b[39mvstack(imputed_parts)\n",
      "File \u001b[1;32mc:\\Users\\ronal\\AppData\\Local\\Programs\\Python\\Python310\\lib\\site-packages\\joblib\\parallel.py:1952\u001b[0m, in \u001b[0;36mParallel.__call__\u001b[1;34m(self, iterable)\u001b[0m\n\u001b[0;32m   1946\u001b[0m \u001b[38;5;66;03m# The first item from the output is blank, but it makes the interpreter\u001b[39;00m\n\u001b[0;32m   1947\u001b[0m \u001b[38;5;66;03m# progress until it enters the Try/Except block of the generator and\u001b[39;00m\n\u001b[0;32m   1948\u001b[0m \u001b[38;5;66;03m# reach the first `yield` statement. This starts the aynchronous\u001b[39;00m\n\u001b[0;32m   1949\u001b[0m \u001b[38;5;66;03m# dispatch of the tasks to the workers.\u001b[39;00m\n\u001b[0;32m   1950\u001b[0m \u001b[38;5;28mnext\u001b[39m(output)\n\u001b[1;32m-> 1952\u001b[0m \u001b[38;5;28;01mreturn\u001b[39;00m output \u001b[38;5;28;01mif\u001b[39;00m \u001b[38;5;28mself\u001b[39m\u001b[38;5;241m.\u001b[39mreturn_generator \u001b[38;5;28;01melse\u001b[39;00m \u001b[38;5;28;43mlist\u001b[39;49m\u001b[43m(\u001b[49m\u001b[43moutput\u001b[49m\u001b[43m)\u001b[49m\n",
      "File \u001b[1;32mc:\\Users\\ronal\\AppData\\Local\\Programs\\Python\\Python310\\lib\\site-packages\\joblib\\parallel.py:1595\u001b[0m, in \u001b[0;36mParallel._get_outputs\u001b[1;34m(self, iterator, pre_dispatch)\u001b[0m\n\u001b[0;32m   1592\u001b[0m     \u001b[38;5;28;01myield\u001b[39;00m\n\u001b[0;32m   1594\u001b[0m     \u001b[38;5;28;01mwith\u001b[39;00m \u001b[38;5;28mself\u001b[39m\u001b[38;5;241m.\u001b[39m_backend\u001b[38;5;241m.\u001b[39mretrieval_context():\n\u001b[1;32m-> 1595\u001b[0m         \u001b[38;5;28;01myield from\u001b[39;00m \u001b[38;5;28mself\u001b[39m\u001b[38;5;241m.\u001b[39m_retrieve()\n\u001b[0;32m   1597\u001b[0m \u001b[38;5;28;01mexcept\u001b[39;00m \u001b[38;5;167;01mGeneratorExit\u001b[39;00m:\n\u001b[0;32m   1598\u001b[0m     \u001b[38;5;66;03m# The generator has been garbage collected before being fully\u001b[39;00m\n\u001b[0;32m   1599\u001b[0m     \u001b[38;5;66;03m# consumed. This aborts the remaining tasks if possible and warn\u001b[39;00m\n\u001b[0;32m   1600\u001b[0m     \u001b[38;5;66;03m# the user if necessary.\u001b[39;00m\n\u001b[0;32m   1601\u001b[0m     \u001b[38;5;28mself\u001b[39m\u001b[38;5;241m.\u001b[39m_exception \u001b[38;5;241m=\u001b[39m \u001b[38;5;28;01mTrue\u001b[39;00m\n",
      "File \u001b[1;32mc:\\Users\\ronal\\AppData\\Local\\Programs\\Python\\Python310\\lib\\site-packages\\joblib\\parallel.py:1707\u001b[0m, in \u001b[0;36mParallel._retrieve\u001b[1;34m(self)\u001b[0m\n\u001b[0;32m   1702\u001b[0m \u001b[38;5;66;03m# If the next job is not ready for retrieval yet, we just wait for\u001b[39;00m\n\u001b[0;32m   1703\u001b[0m \u001b[38;5;66;03m# async callbacks to progress.\u001b[39;00m\n\u001b[0;32m   1704\u001b[0m \u001b[38;5;28;01mif\u001b[39;00m ((\u001b[38;5;28mlen\u001b[39m(\u001b[38;5;28mself\u001b[39m\u001b[38;5;241m.\u001b[39m_jobs) \u001b[38;5;241m==\u001b[39m \u001b[38;5;241m0\u001b[39m) \u001b[38;5;129;01mor\u001b[39;00m\n\u001b[0;32m   1705\u001b[0m     (\u001b[38;5;28mself\u001b[39m\u001b[38;5;241m.\u001b[39m_jobs[\u001b[38;5;241m0\u001b[39m]\u001b[38;5;241m.\u001b[39mget_status(\n\u001b[0;32m   1706\u001b[0m         timeout\u001b[38;5;241m=\u001b[39m\u001b[38;5;28mself\u001b[39m\u001b[38;5;241m.\u001b[39mtimeout) \u001b[38;5;241m==\u001b[39m TASK_PENDING)):\n\u001b[1;32m-> 1707\u001b[0m     \u001b[43mtime\u001b[49m\u001b[38;5;241;43m.\u001b[39;49m\u001b[43msleep\u001b[49m\u001b[43m(\u001b[49m\u001b[38;5;241;43m0.01\u001b[39;49m\u001b[43m)\u001b[49m\n\u001b[0;32m   1708\u001b[0m     \u001b[38;5;28;01mcontinue\u001b[39;00m\n\u001b[0;32m   1710\u001b[0m \u001b[38;5;66;03m# We need to be careful: the job list can be filling up as\u001b[39;00m\n\u001b[0;32m   1711\u001b[0m \u001b[38;5;66;03m# we empty it and Python list are not thread-safe by\u001b[39;00m\n\u001b[0;32m   1712\u001b[0m \u001b[38;5;66;03m# default hence the use of the lock\u001b[39;00m\n",
      "\u001b[1;31mKeyboardInterrupt\u001b[0m: "
     ]
    },
    {
     "name": "stderr",
     "output_type": "stream",
     "text": [
      "2024-03-18 04:41:11,232 - distributed.nanny - WARNING - Restarting worker\n"
     ]
    },
    {
     "ename": "",
     "evalue": "",
     "output_type": "error",
     "traceback": [
      "\u001b[1;31mThe Kernel crashed while executing code in the the current cell or a previous cell. Please review the code in the cell(s) to identify a possible cause of the failure. Click <a href='https://aka.ms/vscodeJupyterKernelCrash'>here</a> for more info. View Jupyter <a href='command:jupyter.viewOutput'>log</a> for further details."
     ]
    }
   ],
   "source": [
    "import dask.array as da\n",
    "from sklearn.covariance import EmpiricalCovariance\n",
    "from dask.distributed import Client\n",
    "import numpy as np\n",
    "from sklearn.impute import KNNImputer\n",
    "from joblib import Parallel, delayed\n",
    "\n",
    "# Inicializa un cliente Dask para la paralelización con ajustes optimizados para tu sistema\n",
    "client = Client()  # Ajusta según tus recursos\n",
    "\n",
    "# Supongamos que 'faltantesprueba15p' es tu conjunto de datos en formato NumPy\n",
    "# Asegúrate de que faltantesprueba15p está definido aquí o cargado correctamente\n",
    "\n",
    "# Convierte faltantesprueba15p en un Dask Array para el procesamiento paralelo\n",
    "faltantesprueba_dask = da.from_array(faltantesprueba15p, chunks=(1000, -1))\n",
    "\n",
    "# Considera solo las filas sin NaN para el cálculo de la matriz de covarianza\n",
    "valid_data = faltantesprueba_dask[~da.isnan(faltantesprueba_dask).any(axis=1)].compute()\n",
    "\n",
    "# Calcula la matriz de covarianza inversa (ignora filas con NaN)\n",
    "cov_matrix = EmpiricalCovariance().fit(valid_data)\n",
    "VI = cov_matrix.precision_\n",
    "\n",
    "# Función para calcular la distancia de Mahalanobis\n",
    "def mahalanobis_distance(u, v, VI):\n",
    "    return np.sqrt(np.dot(np.dot((u - v), VI), (u - v).T))\n",
    "\n",
    "# Función para aplicar KNNImputer a una parte de los datos\n",
    "# Función para aplicar KNNImputer a una parte de los datos\n",
    "def impute_part(data, VI):\n",
    "    # Asegurarse de que la función acepte 'missing_values' incluso si no se va a usar.\n",
    "    imputer = KNNImputer(n_neighbors=3, weights=\"distance\",\n",
    "                         metric=lambda u, v, missing_values: mahalanobis_distance(u, v, VI))\n",
    "    return imputer.fit_transform(data)\n",
    "\n",
    "\n",
    "# Ajusta el tamaño de los bloques manualmente si es necesario\n",
    "total_threads = sum(client.nthreads().values())  # Suma el total de hilos de todos los workers\n",
    "part_size = len(faltantesprueba15p) // total_threads\n",
    "\n",
    "data_parts = [faltantesprueba15p[i:i + part_size] for i in range(0, len(faltantesprueba15p), part_size)]\n",
    "\n",
    "# Aplica KNNImputer a cada parte en paralelo utilizando la distancia de Mahalanobis\n",
    "imputed_parts = Parallel(n_jobs=total_threads)(delayed(impute_part)(part, VI) for part in data_parts)  # Ajusta n_jobs si es necesario\n",
    "\n",
    "# Combinar los resultados\n",
    "imputados_mahalanobis15p = np.vstack(imputed_parts)\n",
    "\n"
   ]
  },
  {
   "cell_type": "code",
   "execution_count": 52,
   "metadata": {},
   "outputs": [
    {
     "name": "stderr",
     "output_type": "stream",
     "text": [
      "c:\\Users\\ronal\\AppData\\Local\\Programs\\Python\\Python310\\lib\\site-packages\\distributed\\node.py:182: UserWarning: Port 8787 is already in use.\n",
      "Perhaps you already have a cluster running?\n",
      "Hosting the HTTP server on port 7065 instead\n",
      "  warnings.warn(\n"
     ]
    },
    {
     "ename": "KeyboardInterrupt",
     "evalue": "",
     "output_type": "error",
     "traceback": [
      "\u001b[1;31m---------------------------------------------------------------------------\u001b[0m",
      "\u001b[1;31mKeyboardInterrupt\u001b[0m                         Traceback (most recent call last)",
      "Input \u001b[1;32mIn [52]\u001b[0m, in \u001b[0;36m<cell line: 36>\u001b[1;34m()\u001b[0m\n\u001b[0;32m     33\u001b[0m data_parts15p \u001b[38;5;241m=\u001b[39m [faltantesprueba15p[i:i \u001b[38;5;241m+\u001b[39m part_size15p] \u001b[38;5;28;01mfor\u001b[39;00m i \u001b[38;5;129;01min\u001b[39;00m \u001b[38;5;28mrange\u001b[39m(\u001b[38;5;241m0\u001b[39m, \u001b[38;5;28mlen\u001b[39m(faltantesprueba15p), part_size15p)]\n\u001b[0;32m     35\u001b[0m \u001b[38;5;66;03m# Aplica KNNImputer a cada parte en paralelo utilizando la distancia de Mahalanobis\u001b[39;00m\n\u001b[1;32m---> 36\u001b[0m imputed_parts_mahalav215p \u001b[38;5;241m=\u001b[39m \u001b[43mParallel\u001b[49m\u001b[43m(\u001b[49m\u001b[43mn_jobs\u001b[49m\u001b[38;5;241;43m=\u001b[39;49m\u001b[38;5;241;43m5\u001b[39;49m\u001b[43m)\u001b[49m\u001b[43m(\u001b[49m\u001b[43mdelayed\u001b[49m\u001b[43m(\u001b[49m\u001b[43mimpute_part\u001b[49m\u001b[43m)\u001b[49m\u001b[43m(\u001b[49m\u001b[43mpart\u001b[49m\u001b[43m,\u001b[49m\u001b[43m \u001b[49m\u001b[43mVI\u001b[49m\u001b[43m)\u001b[49m\u001b[43m \u001b[49m\u001b[38;5;28;43;01mfor\u001b[39;49;00m\u001b[43m \u001b[49m\u001b[43mpart\u001b[49m\u001b[43m \u001b[49m\u001b[38;5;129;43;01min\u001b[39;49;00m\u001b[43m \u001b[49m\u001b[43mdata_parts15p\u001b[49m\u001b[43m)\u001b[49m\n\u001b[0;32m     38\u001b[0m \u001b[38;5;66;03m# Combinar los resultados\u001b[39;00m\n\u001b[0;32m     39\u001b[0m imputados_mahalanobis15p \u001b[38;5;241m=\u001b[39m np\u001b[38;5;241m.\u001b[39mvstack(imputed_parts15p)\n",
      "File \u001b[1;32mc:\\Users\\ronal\\AppData\\Local\\Programs\\Python\\Python310\\lib\\site-packages\\joblib\\parallel.py:1952\u001b[0m, in \u001b[0;36mParallel.__call__\u001b[1;34m(self, iterable)\u001b[0m\n\u001b[0;32m   1946\u001b[0m \u001b[38;5;66;03m# The first item from the output is blank, but it makes the interpreter\u001b[39;00m\n\u001b[0;32m   1947\u001b[0m \u001b[38;5;66;03m# progress until it enters the Try/Except block of the generator and\u001b[39;00m\n\u001b[0;32m   1948\u001b[0m \u001b[38;5;66;03m# reach the first `yield` statement. This starts the aynchronous\u001b[39;00m\n\u001b[0;32m   1949\u001b[0m \u001b[38;5;66;03m# dispatch of the tasks to the workers.\u001b[39;00m\n\u001b[0;32m   1950\u001b[0m \u001b[38;5;28mnext\u001b[39m(output)\n\u001b[1;32m-> 1952\u001b[0m \u001b[38;5;28;01mreturn\u001b[39;00m output \u001b[38;5;28;01mif\u001b[39;00m \u001b[38;5;28mself\u001b[39m\u001b[38;5;241m.\u001b[39mreturn_generator \u001b[38;5;28;01melse\u001b[39;00m \u001b[38;5;28;43mlist\u001b[39;49m\u001b[43m(\u001b[49m\u001b[43moutput\u001b[49m\u001b[43m)\u001b[49m\n",
      "File \u001b[1;32mc:\\Users\\ronal\\AppData\\Local\\Programs\\Python\\Python310\\lib\\site-packages\\joblib\\parallel.py:1595\u001b[0m, in \u001b[0;36mParallel._get_outputs\u001b[1;34m(self, iterator, pre_dispatch)\u001b[0m\n\u001b[0;32m   1592\u001b[0m     \u001b[38;5;28;01myield\u001b[39;00m\n\u001b[0;32m   1594\u001b[0m     \u001b[38;5;28;01mwith\u001b[39;00m \u001b[38;5;28mself\u001b[39m\u001b[38;5;241m.\u001b[39m_backend\u001b[38;5;241m.\u001b[39mretrieval_context():\n\u001b[1;32m-> 1595\u001b[0m         \u001b[38;5;28;01myield from\u001b[39;00m \u001b[38;5;28mself\u001b[39m\u001b[38;5;241m.\u001b[39m_retrieve()\n\u001b[0;32m   1597\u001b[0m \u001b[38;5;28;01mexcept\u001b[39;00m \u001b[38;5;167;01mGeneratorExit\u001b[39;00m:\n\u001b[0;32m   1598\u001b[0m     \u001b[38;5;66;03m# The generator has been garbage collected before being fully\u001b[39;00m\n\u001b[0;32m   1599\u001b[0m     \u001b[38;5;66;03m# consumed. This aborts the remaining tasks if possible and warn\u001b[39;00m\n\u001b[0;32m   1600\u001b[0m     \u001b[38;5;66;03m# the user if necessary.\u001b[39;00m\n\u001b[0;32m   1601\u001b[0m     \u001b[38;5;28mself\u001b[39m\u001b[38;5;241m.\u001b[39m_exception \u001b[38;5;241m=\u001b[39m \u001b[38;5;28;01mTrue\u001b[39;00m\n",
      "File \u001b[1;32mc:\\Users\\ronal\\AppData\\Local\\Programs\\Python\\Python310\\lib\\site-packages\\joblib\\parallel.py:1707\u001b[0m, in \u001b[0;36mParallel._retrieve\u001b[1;34m(self)\u001b[0m\n\u001b[0;32m   1702\u001b[0m \u001b[38;5;66;03m# If the next job is not ready for retrieval yet, we just wait for\u001b[39;00m\n\u001b[0;32m   1703\u001b[0m \u001b[38;5;66;03m# async callbacks to progress.\u001b[39;00m\n\u001b[0;32m   1704\u001b[0m \u001b[38;5;28;01mif\u001b[39;00m ((\u001b[38;5;28mlen\u001b[39m(\u001b[38;5;28mself\u001b[39m\u001b[38;5;241m.\u001b[39m_jobs) \u001b[38;5;241m==\u001b[39m \u001b[38;5;241m0\u001b[39m) \u001b[38;5;129;01mor\u001b[39;00m\n\u001b[0;32m   1705\u001b[0m     (\u001b[38;5;28mself\u001b[39m\u001b[38;5;241m.\u001b[39m_jobs[\u001b[38;5;241m0\u001b[39m]\u001b[38;5;241m.\u001b[39mget_status(\n\u001b[0;32m   1706\u001b[0m         timeout\u001b[38;5;241m=\u001b[39m\u001b[38;5;28mself\u001b[39m\u001b[38;5;241m.\u001b[39mtimeout) \u001b[38;5;241m==\u001b[39m TASK_PENDING)):\n\u001b[1;32m-> 1707\u001b[0m     \u001b[43mtime\u001b[49m\u001b[38;5;241;43m.\u001b[39;49m\u001b[43msleep\u001b[49m\u001b[43m(\u001b[49m\u001b[38;5;241;43m0.01\u001b[39;49m\u001b[43m)\u001b[49m\n\u001b[0;32m   1708\u001b[0m     \u001b[38;5;28;01mcontinue\u001b[39;00m\n\u001b[0;32m   1710\u001b[0m \u001b[38;5;66;03m# We need to be careful: the job list can be filling up as\u001b[39;00m\n\u001b[0;32m   1711\u001b[0m \u001b[38;5;66;03m# we empty it and Python list are not thread-safe by\u001b[39;00m\n\u001b[0;32m   1712\u001b[0m \u001b[38;5;66;03m# default hence the use of the lock\u001b[39;00m\n",
      "\u001b[1;31mKeyboardInterrupt\u001b[0m: "
     ]
    }
   ],
   "source": [
    "import dask.array as da\n",
    "from sklearn.covariance import EmpiricalCovariance\n",
    "from dask.distributed import Client\n",
    "import numpy as np\n",
    "from sklearn.impute import KNNImputer\n",
    "from joblib import Parallel, delayed\n",
    "\n",
    "# Inicializa un cliente Dask para la paralelización\n",
    "client = Client()\n",
    "\n",
    "# Supongamos que 'faltantesprueba' es tu conjunto de datos en formato NumPy\n",
    "# Convierte faltantesprueba en un Dask Array para el procesamiento paralelo\n",
    "faltantesprueba_dask15p = da.from_array(faltantesprueba15p, chunks=(1000, -1))\n",
    "\n",
    "# Considera solo las filas sin NaN para el cálculo de la matriz de covarianza\n",
    "valid_data15p = faltantesprueba_dask15p[~da.isnan(faltantesprueba_dask15p).any(axis=1)].compute()\n",
    "\n",
    "# Calcula la matriz de covarianza inversa (ignora filas con NaN)\n",
    "cov_matrix = EmpiricalCovariance().fit(valid_data15p)\n",
    "VI = cov_matrix.precision_\n",
    "\n",
    "# Función para calcular la distancia de Mahalanobis\n",
    "def mahalanobis_distance(u, v, VI):\n",
    "    return np.sqrt(np.dot(np.dot((u - v), np.linalg.inv(VI)), (u - v).T))\n",
    "\n",
    "# Función para aplicar KNNImputer a una parte de los datos\n",
    "def impute_part(data, VI):\n",
    "    imputer = KNNImputer(n_neighbors=3, weights=\"distance\", metric=lambda u, v, **kwargs: mahalanobis_distance(u, v, VI))\n",
    "    return imputer.fit_transform(data)\n",
    "\n",
    "# Ajusta el tamaño de los bloques\n",
    "part_size15p = len(faltantesprueba15p) // 4\n",
    "data_parts15p = [faltantesprueba15p[i:i + part_size15p] for i in range(0, len(faltantesprueba15p), part_size15p)]\n",
    "\n",
    "# Aplica KNNImputer a cada parte en paralelo utilizando la distancia de Mahalanobis\n",
    "imputed_parts_mahalav215p = Parallel(n_jobs=5)(delayed(impute_part)(part, VI) for part in data_parts15p)\n",
    "\n",
    "# Combinar los resultados\n",
    "imputados_mahalanobis15p = np.vstack(imputed_parts15p)"
   ]
  },
  {
   "cell_type": "code",
   "execution_count": null,
   "metadata": {},
   "outputs": [],
   "source": [
    "import numpy as np\n",
    "from sklearn.impute import KNNImputer\n",
    "from joblib import Parallel, delayed\n",
    "\n",
    "def impute_part(data):\n",
    "    imputer = KNNImputer(n_neighbors=3, weights=\"distance\")\n",
    "    return imputer.fit_transform(data)\n",
    "\n",
    "num_parts = 8  # Aumenta esto para reducir la carga por tarea\n",
    "part_size = len(faltantesprueba) // num_parts\n",
    "data_parts = [faltantesprueba[i:i + part_size] for i in range(0, len(faltantesprueba), part_size)]\n",
    "\n",
    "if len(faltantesprueba) % num_parts != 0:\n",
    "    data_parts.append(faltantesprueba[-(len(faltantesprueba) % num_parts):])\n",
    "\n",
    "# Limitar el número de núcleos utilizados\n",
    "imputed_parts = Parallel(n_jobs=4)(delayed(impute_part)(part) for part in data_parts)\n",
    "\n",
    "imputados_dis = np.vstack(imputed_parts)\n"
   ]
  },
  {
   "cell_type": "code",
   "execution_count": 190,
   "metadata": {},
   "outputs": [
    {
     "data": {
      "text/plain": [
       "array([[8.33333333e-02, 4.54545455e-01, 2.66666667e-01, 2.29760558e-02,\n",
       "        1.61248103e-01, 8.31865913e-02],\n",
       "       [6.94444444e-01, 4.54545455e-01, 5.66666667e-01, 1.82315406e-02,\n",
       "        1.61248103e-01, 8.31865913e-02],\n",
       "       [6.94444444e-01, 4.54545455e-01, 6.00000000e-01, 6.80880187e-03,\n",
       "        1.61248103e-01, 8.31865913e-02],\n",
       "       ...,\n",
       "       [7.77777778e-01, 6.36363636e-01, 3.66666667e-01, 2.27894257e-04,\n",
       "        8.69051066e-01, 5.93848820e-01],\n",
       "       [7.77777778e-01, 6.36363636e-01, 2.00000000e-01, 2.27894257e-04,\n",
       "        8.69051066e-01, 5.93848820e-01],\n",
       "       [9.44444444e-01, 5.45454545e-01, 5.66666667e-01, 0.00000000e+00,\n",
       "        8.69051066e-01, 5.93848820e-01]])"
      ]
     },
     "execution_count": 190,
     "metadata": {},
     "output_type": "execute_result"
    }
   ],
   "source": [
    "imputados_dis"
   ]
  },
  {
   "cell_type": "markdown",
   "metadata": {},
   "source": [
    "Primera Ejecuion con 10% de datos aletorios "
   ]
  },
  {
   "cell_type": "code",
   "execution_count": 201,
   "metadata": {},
   "outputs": [],
   "source": [
    "imputados_disorginala_cuidar=imputados_dis"
   ]
  },
  {
   "cell_type": "code",
   "execution_count": 185,
   "metadata": {},
   "outputs": [
    {
     "data": {
      "text/plain": [
       "array([[8.33333333e-02, 4.54545455e-01, 2.66666667e-01, 2.29760558e-02,\n",
       "        1.61248103e-01, 8.31865913e-02],\n",
       "       [6.94444444e-01, 4.54545455e-01, 5.66666667e-01, 1.82315406e-02,\n",
       "        1.61248103e-01, 8.31865913e-02],\n",
       "       [6.94444444e-01, 4.54545455e-01, 6.00000000e-01, 6.80880187e-03,\n",
       "        1.61248103e-01, 8.31865913e-02],\n",
       "       ...,\n",
       "       [7.77777778e-01, 6.36363636e-01, 3.66666667e-01, 2.27894257e-04,\n",
       "        8.69051066e-01, 5.93848820e-01],\n",
       "       [7.77777778e-01, 6.36363636e-01, 2.00000000e-01, 2.27894257e-04,\n",
       "        8.69051066e-01, 5.93848820e-01],\n",
       "       [9.44444444e-01, 5.45454545e-01, 5.66666667e-01, 0.00000000e+00,\n",
       "        8.69051066e-01, 5.93848820e-01]])"
      ]
     },
     "execution_count": 185,
     "metadata": {},
     "output_type": "execute_result"
    }
   ],
   "source": [
    "imputados_dis"
   ]
  },
  {
   "cell_type": "markdown",
   "metadata": {},
   "source": [
    "Segunda ejecucion con otro 10% diferente al inicial, presentan consistencias en resultados aun cuando el 10% aletorio cambia de semilla"
   ]
  },
  {
   "cell_type": "code",
   "execution_count": 37,
   "metadata": {},
   "outputs": [],
   "source": [
    "imputados_disvnew=imputados_dis"
   ]
  },
  {
   "cell_type": "markdown",
   "metadata": {},
   "source": [
    "Resultados del modelo KNN con parametros k=5 y ponderado por la distancia, segunda ejecucion con  otro 10% NA aletorios"
   ]
  },
  {
   "cell_type": "code",
   "execution_count": 38,
   "metadata": {},
   "outputs": [
    {
     "name": "stdout",
     "output_type": "stream",
     "text": [
      "RMSE: 0.012673204362673537\n",
      "MAE: 0.002350707673882034\n",
      "MAPE: 25.469928971915607\n",
      "R2: 0.9031079248897949\n"
     ]
    }
   ],
   "source": [
    "\n",
    "import numpy as np\n",
    "from sklearn.metrics import mean_squared_error, mean_absolute_error, r2_score\n",
    "\n",
    "# Definir una función para calcular MAPE\n",
    "def mean_absolute_percentage_error(y_true, y_pred): \n",
    "    y_true, y_pred = np.array(y_true), np.array(y_pred)\n",
    "    non_zero_mask = y_true != 0\n",
    "    return np.mean(np.abs((y_true[non_zero_mask] - y_pred[non_zero_mask]) / y_true[non_zero_mask])) * 100\n",
    "\n",
    "# Seleccionar la columna 6 de escalados2 y la columna 3 de imputados_dis\n",
    "valores_originales = escalados2[:, 6]\n",
    "valores_imputados = imputados_disvnew[:, 3]\n",
    "\n",
    "# Calcular RMSE\n",
    "rmse = np.sqrt(mean_squared_error(valores_originales, valores_imputados))\n",
    "\n",
    "# Calcular MAE\n",
    "mae = mean_absolute_error(valores_originales, valores_imputados)\n",
    "\n",
    "# Calcular MAPE\n",
    "mape = mean_absolute_percentage_error(valores_originales, valores_imputados)\n",
    "\n",
    "# Calcular R2\n",
    "r2 = r2_score(valores_originales, valores_imputados)\n",
    "\n",
    "print(f\"RMSE: {rmse}\")\n",
    "print(f\"MAE: {mae}\")\n",
    "print(f\"MAPE: {mape}\")\n",
    "print(f\"R2: {r2}\")"
   ]
  },
  {
   "cell_type": "markdown",
   "metadata": {},
   "source": [
    "Resultados del modelo KNN con parametros k=5 y ponderado por la distancia, primera ejecucion con 10% NA aletorios"
   ]
  },
  {
   "cell_type": "code",
   "execution_count": 127,
   "metadata": {},
   "outputs": [
    {
     "name": "stdout",
     "output_type": "stream",
     "text": [
      "RMSE: 0.012778813630736248\n",
      "MAE: 0.002372744448274556\n",
      "MAPE: 26.28760515703572\n",
      "R2: 0.9014863402007193\n"
     ]
    }
   ],
   "source": [
    "import numpy as np\n",
    "from sklearn.metrics import mean_squared_error, mean_absolute_error, r2_score\n",
    "\n",
    "# Definir una función para calcular MAPE\n",
    "def mean_absolute_percentage_error(y_true, y_pred): \n",
    "    y_true, y_pred = np.array(y_true), np.array(y_pred)\n",
    "    non_zero_mask = y_true != 0\n",
    "    return np.mean(np.abs((y_true[non_zero_mask] - y_pred[non_zero_mask]) / y_true[non_zero_mask])) * 100\n",
    "\n",
    "# Seleccionar la columna 6 de escalados2 y la columna 3 de imputados_dis\n",
    "valores_originales = escalados2[:, 6]\n",
    "valores_imputados = imputados_dis[:, 3]\n",
    "\n",
    "# Calcular RMSE\n",
    "rmse = np.sqrt(mean_squared_error(valores_originales, valores_imputados))\n",
    "\n",
    "# Calcular MAE\n",
    "mae = mean_absolute_error(valores_originales, valores_imputados)\n",
    "\n",
    "# Calcular MAPE\n",
    "mape = mean_absolute_percentage_error(valores_originales, valores_imputados)\n",
    "\n",
    "# Calcular R2\n",
    "r2 = r2_score(valores_originales, valores_imputados)\n",
    "\n",
    "print(f\"RMSE: {rmse}\")\n",
    "print(f\"MAE: {mae}\")\n",
    "print(f\"MAPE: {mape}\")\n",
    "print(f\"R2: {r2}\")\n"
   ]
  },
  {
   "cell_type": "markdown",
   "metadata": {},
   "source": [
    "Resultados del modelo KNN con parametros k=5 y ponderado por la distancia,ejecucion con 15% NA aletorios"
   ]
  },
  {
   "cell_type": "code",
   "execution_count": 47,
   "metadata": {},
   "outputs": [
    {
     "name": "stdout",
     "output_type": "stream",
     "text": [
      "RMSE: 0.015446648582159547\n",
      "MAE: 0.003512715331835561\n",
      "MAPE: 39.968922208603175\n",
      "R2: 0.8560591995778397\n"
     ]
    }
   ],
   "source": [
    "import numpy as np\n",
    "from sklearn.metrics import mean_squared_error, mean_absolute_error, r2_score\n",
    "\n",
    "# Definir una función para calcular MAPE\n",
    "def mean_absolute_percentage_error(y_true, y_pred): \n",
    "    y_true, y_pred = np.array(y_true), np.array(y_pred)\n",
    "    non_zero_mask = y_true != 0\n",
    "    return np.mean(np.abs((y_true[non_zero_mask] - y_pred[non_zero_mask]) / y_true[non_zero_mask])) * 100\n",
    "\n",
    "# Seleccionar la columna 6 de escalados2 y la columna 3 de imputados_dis\n",
    "valores_originales15p = escalados215p[:, 7]\n",
    "valores_imputados15p = imputados_dis15p[:, 4]\n",
    "\n",
    "# Calcular RMSE\n",
    "rmse = np.sqrt(mean_squared_error(valores_originales15p, valores_imputados15p))\n",
    "\n",
    "# Calcular MAE\n",
    "mae = mean_absolute_error(valores_originales15p, valores_imputados15p)\n",
    "\n",
    "# Calcular MAPE\n",
    "mape = mean_absolute_percentage_error(valores_originales15p, valores_imputados15p)\n",
    "\n",
    "# Calcular R2\n",
    "r2 = r2_score(valores_originales15p, valores_imputados15p)\n",
    "\n",
    "print(f\"RMSE: {rmse}\")\n",
    "print(f\"MAE: {mae}\")\n",
    "print(f\"MAPE: {mape}\")\n",
    "print(f\"R2: {r2}\")\n"
   ]
  },
  {
   "cell_type": "markdown",
   "metadata": {},
   "source": [
    "Resultados del modelo KNN con parametros k=5 y ponderado por la distancia,ejecucion con 20% NA aletorios"
   ]
  },
  {
   "cell_type": "code",
   "execution_count": 46,
   "metadata": {},
   "outputs": [
    {
     "name": "stdout",
     "output_type": "stream",
     "text": [
      "RMSE: 0.018044755938956724\n",
      "MAE: 0.004710932921045893\n",
      "MAPE: 51.938782968993195\n",
      "R2: 0.8035656628304361\n"
     ]
    }
   ],
   "source": [
    "import numpy as np\n",
    "from sklearn.metrics import mean_squared_error, mean_absolute_error, r2_score\n",
    "\n",
    "# Definir una función para calcular MAPE\n",
    "def mean_absolute_percentage_error(y_true, y_pred): \n",
    "    y_true, y_pred = np.array(y_true), np.array(y_pred)\n",
    "    non_zero_mask = y_true != 0\n",
    "    return np.mean(np.abs((y_true[non_zero_mask] - y_pred[non_zero_mask]) / y_true[non_zero_mask])) * 100\n",
    "\n",
    "# Seleccionar la columna 6 de escalados2 y la columna 3 de imputados_dis\n",
    "valores_originales20p = escalados220p[:, 7]\n",
    "valores_imputados20p = imputados_dis20p[:, 4]\n",
    "\n",
    "# Calcular RMSE\n",
    "rmse = np.sqrt(mean_squared_error(valores_originales20p, valores_imputados20p))\n",
    "\n",
    "# Calcular MAE\n",
    "mae = mean_absolute_error(valores_originales20p, valores_imputados20p)\n",
    "\n",
    "# Calcular MAPE\n",
    "mape = mean_absolute_percentage_error(valores_originales20p, valores_imputados20p)\n",
    "\n",
    "# Calcular R2\n",
    "r2 = r2_score(valores_originales20p, valores_imputados20p)\n",
    "\n",
    "print(f\"RMSE: {rmse}\")\n",
    "print(f\"MAE: {mae}\")\n",
    "print(f\"MAPE: {mape}\")\n",
    "print(f\"R2: {r2}\")\n"
   ]
  },
  {
   "cell_type": "markdown",
   "metadata": {},
   "source": [
    "Resultados del modelo KNN con parametros k=5 y sin ponderar por la distancia, primera ejecucion con 10% NA aletorios"
   ]
  },
  {
   "cell_type": "markdown",
   "metadata": {},
   "source": [
    "imputados_dis_unifor"
   ]
  },
  {
   "cell_type": "code",
   "execution_count": 39,
   "metadata": {},
   "outputs": [
    {
     "name": "stdout",
     "output_type": "stream",
     "text": [
      "RMSE: 0.012747620818540008\n",
      "MAE: 0.002372105169008337\n",
      "MAPE: 25.8485220612935\n",
      "R2: 0.9019666927144554\n"
     ]
    }
   ],
   "source": [
    "import numpy as np\n",
    "from sklearn.metrics import mean_squared_error, mean_absolute_error, r2_score\n",
    "\n",
    "# Definir una función para calcular MAPE\n",
    "def mean_absolute_percentage_error(y_true, y_pred): \n",
    "    y_true, y_pred = np.array(y_true), np.array(y_pred)\n",
    "    non_zero_mask = y_true != 0\n",
    "    return np.mean(np.abs((y_true[non_zero_mask] - y_pred[non_zero_mask]) / y_true[non_zero_mask])) * 100\n",
    "\n",
    "# Seleccionar la columna 6 de escalados2 y la columna 3 de imputados_dis\n",
    "valores_originales = escalados2[:, 6]\n",
    "valores_imputados = imputados_dis_unifor[:, 3]\n",
    "\n",
    "# Calcular RMSE\n",
    "rmse = np.sqrt(mean_squared_error(valores_originales, valores_imputados))\n",
    "\n",
    "# Calcular MAE\n",
    "mae = mean_absolute_error(valores_originales, valores_imputados)\n",
    "\n",
    "# Calcular MAPE\n",
    "mape = mean_absolute_percentage_error(valores_originales, valores_imputados)\n",
    "\n",
    "# Calcular R2\n",
    "r2 = r2_score(valores_originales, valores_imputados)\n",
    "\n",
    "print(f\"RMSE: {rmse}\")\n",
    "print(f\"MAE: {mae}\")\n",
    "print(f\"MAPE: {mape}\")\n",
    "print(f\"R2: {r2}\")\n"
   ]
  },
  {
   "cell_type": "markdown",
   "metadata": {},
   "source": [
    "Resultados del modelo KNN con parametros k=5 y sin ponderar por la distancia, primera ejecucion con 15% NA aletorios"
   ]
  },
  {
   "cell_type": "code",
   "execution_count": 48,
   "metadata": {},
   "outputs": [
    {
     "name": "stdout",
     "output_type": "stream",
     "text": [
      "RMSE: 0.01554085385145263\n",
      "MAE: 0.003543435172707396\n",
      "MAPE: 40.66598365432216\n",
      "R2: 0.8542981274238746\n"
     ]
    }
   ],
   "source": [
    "import numpy as np\n",
    "from sklearn.metrics import mean_squared_error, mean_absolute_error, r2_score\n",
    "\n",
    "# Definir una función para calcular MAPE\n",
    "def mean_absolute_percentage_error(y_true, y_pred): \n",
    "    y_true, y_pred = np.array(y_true), np.array(y_pred)\n",
    "    non_zero_mask = y_true != 0\n",
    "    return np.mean(np.abs((y_true[non_zero_mask] - y_pred[non_zero_mask]) / y_true[non_zero_mask])) * 100\n",
    "\n",
    "# Seleccionar la columna 6 de escalados2 y la columna 3 de imputados_dis\n",
    "valores_originales15p = escalados215p[:, 7]\n",
    "valores_imputados15p = imputados_dis_unifor_15p[:, 4]\n",
    "\n",
    "# Calcular RMSE\n",
    "rmse = np.sqrt(mean_squared_error(valores_originales15p, valores_imputados15p))\n",
    "\n",
    "# Calcular MAE\n",
    "mae = mean_absolute_error(valores_originales15p, valores_imputados15p)\n",
    "\n",
    "# Calcular MAPE\n",
    "mape = mean_absolute_percentage_error(valores_originales15p, valores_imputados15p)\n",
    "\n",
    "# Calcular R2\n",
    "r2 = r2_score(valores_originales15p, valores_imputados15p)\n",
    "\n",
    "print(f\"RMSE: {rmse}\")\n",
    "print(f\"MAE: {mae}\")\n",
    "print(f\"MAPE: {mape}\")\n",
    "print(f\"R2: {r2}\")"
   ]
  },
  {
   "cell_type": "markdown",
   "metadata": {},
   "source": [
    "Resultados del modelo KNN con parametros k=5 y sin ponderar por la distancia, primera ejecucion con 20% NA aletorios"
   ]
  },
  {
   "cell_type": "code",
   "execution_count": 49,
   "metadata": {},
   "outputs": [
    {
     "name": "stdout",
     "output_type": "stream",
     "text": [
      "RMSE: 0.018156605711593655\n",
      "MAE: 0.004755222176325172\n",
      "MAPE: 52.78155560536158\n",
      "R2: 0.801122933244707\n"
     ]
    }
   ],
   "source": [
    "import numpy as np\n",
    "from sklearn.metrics import mean_squared_error, mean_absolute_error, r2_score\n",
    "\n",
    "# Definir una función para calcular MAPE\n",
    "def mean_absolute_percentage_error(y_true, y_pred): \n",
    "    y_true, y_pred = np.array(y_true), np.array(y_pred)\n",
    "    non_zero_mask = y_true != 0\n",
    "    return np.mean(np.abs((y_true[non_zero_mask] - y_pred[non_zero_mask]) / y_true[non_zero_mask])) * 100\n",
    "\n",
    "# Seleccionar la columna 6 de escalados2 y la columna 3 de imputados_dis\n",
    "valores_originales = escalados220p[:, 7]\n",
    "valores_imputadosunifor_20p = imputados_dis_unifor_20p[:, 4]\n",
    "\n",
    "# Calcular RMSE\n",
    "rmse = np.sqrt(mean_squared_error(valores_originales, valores_imputadosunifor_20p))\n",
    "\n",
    "# Calcular MAE\n",
    "mae = mean_absolute_error(valores_originales, valores_imputadosunifor_20p)\n",
    "\n",
    "# Calcular MAPE\n",
    "mape = mean_absolute_percentage_error(valores_originales, valores_imputadosunifor_20p)\n",
    "\n",
    "# Calcular R2\n",
    "r2 = r2_score(valores_originales, valores_imputadosunifor_20p)\n",
    "\n",
    "print(f\"RMSE: {rmse}\")\n",
    "print(f\"MAE: {mae}\")\n",
    "print(f\"MAPE: {mape}\")\n",
    "print(f\"R2: {r2}\")"
   ]
  },
  {
   "cell_type": "markdown",
   "metadata": {},
   "source": [
    "Resultados Modelo KNN Distancia Mahalanobis"
   ]
  },
  {
   "cell_type": "code",
   "execution_count": 82,
   "metadata": {},
   "outputs": [
    {
     "name": "stdout",
     "output_type": "stream",
     "text": [
      "RMSE: 0.012865005109104781\n",
      "MAE: 0.0026474290277596255\n",
      "MAPE: 24.910050105779387\n",
      "R2: 0.9001529341880343\n"
     ]
    }
   ],
   "source": [
    "import numpy as np\n",
    "from sklearn.metrics import mean_squared_error, mean_absolute_error, r2_score\n",
    "\n",
    "# Definir una función para calcular MAPE\n",
    "def mean_absolute_percentage_error(y_true, y_pred): \n",
    "    y_true, y_pred = np.array(y_true), np.array(y_pred)\n",
    "    non_zero_mask = y_true != 0\n",
    "    return np.mean(np.abs((y_true[non_zero_mask] - y_pred[non_zero_mask]) / y_true[non_zero_mask])) * 100\n",
    "\n",
    "# Seleccionar la columna 6 de escalados2 y la columna 3 de imputados_dis\n",
    "valores_originales = escalados2[:, 6]\n",
    "valores_imputados = imputados_mahalanobis[:, 3]\n",
    "\n",
    "# Calcular RMSE\n",
    "rmse = np.sqrt(mean_squared_error(valores_originales, valores_imputados))\n",
    "\n",
    "# Calcular MAE\n",
    "mae = mean_absolute_error(valores_originales, valores_imputados)\n",
    "\n",
    "# Calcular MAPE\n",
    "mape = mean_absolute_percentage_error(valores_originales, valores_imputados)\n",
    "\n",
    "# Calcular R2\n",
    "r2 = r2_score(valores_originales, valores_imputados)\n",
    "\n",
    "print(f\"RMSE: {rmse}\")\n",
    "print(f\"MAE: {mae}\")\n",
    "print(f\"MAPE: {mape}\")\n",
    "print(f\"R2: {r2}\")\n"
   ]
  },
  {
   "cell_type": "markdown",
   "metadata": {},
   "source": [
    "Resultados Modelo KNN Distancia Mahalanobis v2"
   ]
  },
  {
   "cell_type": "code",
   "execution_count": 53,
   "metadata": {},
   "outputs": [
    {
     "name": "stdout",
     "output_type": "stream",
     "text": [
      "RMSE: 0.012865005109104781\n",
      "MAE: 0.0026474290277596255\n",
      "MAPE: 24.910050105779387\n",
      "R2: 0.9001529341880343\n"
     ]
    }
   ],
   "source": [
    "import numpy as np\n",
    "from sklearn.metrics import mean_squared_error, mean_absolute_error, r2_score\n",
    "\n",
    "# Definir una función para calcular MAPE\n",
    "def mean_absolute_percentage_error(y_true, y_pred): \n",
    "    y_true, y_pred = np.array(y_true), np.array(y_pred)\n",
    "    non_zero_mask = y_true != 0\n",
    "    return np.mean(np.abs((y_true[non_zero_mask] - y_pred[non_zero_mask]) / y_true[non_zero_mask])) * 100\n",
    "\n",
    "# Seleccionar la columna 6 de escalados2 y la columna 3 de imputados_dis\n",
    "valores_originales = escalados2[:, 6]\n",
    "valores_imputados = imputados_mahalanobisv2[:, 3]\n",
    "\n",
    "# Calcular RMSE\n",
    "rmse = np.sqrt(mean_squared_error(valores_originales, valores_imputados))\n",
    "\n",
    "# Calcular MAE\n",
    "mae = mean_absolute_error(valores_originales, valores_imputados)\n",
    "\n",
    "# Calcular MAPE\n",
    "mape = mean_absolute_percentage_error(valores_originales, valores_imputados)\n",
    "\n",
    "# Calcular R2\n",
    "r2 = r2_score(valores_originales, valores_imputados)\n",
    "\n",
    "print(f\"RMSE: {rmse}\")\n",
    "print(f\"MAE: {mae}\")\n",
    "print(f\"MAPE: {mape}\")\n",
    "print(f\"R2: {r2}\")\n"
   ]
  },
  {
   "cell_type": "markdown",
   "metadata": {},
   "source": [
    "Revertir el escalado"
   ]
  },
  {
   "cell_type": "code",
   "execution_count": 156,
   "metadata": {},
   "outputs": [],
   "source": [
    "import numpy as np\n",
    "\n",
    "# Agregar una columna temporal a 'imputados_dis' para que coincida en número con 'data_completa_mod'\n",
    "columna_temporal = np.zeros((imputados_dis.shape[0], 1))  # Crear una columna de ceros\n",
    "imputados_dis_ajustado = np.hstack((imputados_dis, columna_temporal))  # Añadir la columna al final\n",
    "\n",
    "# Ahora usar 'escalador2' para revertir el escalado\n",
    "datos_originales_final_imputados = escalador2.inverse_transform(imputados_dis_ajustado)\n",
    "\n",
    "\n"
   ]
  },
  {
   "cell_type": "code",
   "execution_count": 157,
   "metadata": {},
   "outputs": [
    {
     "data": {
      "text/plain": [
       "array([[1983.        ,    6.        ,    9.        , ...,    2.56283333,\n",
       "         -74.10308333,    0.        ],\n",
       "       [2005.        ,    6.        ,   18.        , ...,    2.56283333,\n",
       "         -74.10308333,    0.        ],\n",
       "       [2005.        ,    6.        ,   19.        , ...,    2.56283333,\n",
       "         -74.10308333,    0.        ],\n",
       "       ...,\n",
       "       [2008.        ,    8.        ,   12.        , ...,    4.26036111,\n",
       "         -72.56447222,    0.        ],\n",
       "       [2008.        ,    8.        ,    7.        , ...,    4.26036111,\n",
       "         -72.56447222,    0.        ],\n",
       "       [2014.        ,    7.        ,   18.        , ...,    4.26036111,\n",
       "         -72.56447222,    0.        ]])"
      ]
     },
     "execution_count": 157,
     "metadata": {},
     "output_type": "execute_result"
    }
   ],
   "source": [
    "datos_originales_final_imputados"
   ]
  },
  {
   "cell_type": "code",
   "execution_count": 147,
   "metadata": {},
   "outputs": [],
   "source": [
    "from sklearn.preprocessing import StandardScaler\n",
    "\n",
    "# Aplicar StandardScaler para escalar los datos imputados y escalados\n",
    "scaler = StandardScaler()\n",
    "scaled_data = scaler.fit_transform(imputados_dis)\n",
    "\n",
    "# Reescalar los datos a los valores originales\n",
    "scaled_original_data = scaler.inverse_transform(scaled_data)\n",
    "\n",
    "# Asignar los datos reescalados a la variable 'data_completa_modelo'\n",
    "data_completa_modelo = scaled_original_data"
   ]
  },
  {
   "cell_type": "code",
   "execution_count": 85,
   "metadata": {},
   "outputs": [],
   "source": [
    "imputados_mahalanobis\n",
    "\n",
    "from sklearn.preprocessing import StandardScaler\n",
    "\n",
    "# Aplicar StandardScaler para escalar los datos imputados y escalados\n",
    "scaler = StandardScaler()\n",
    "scaled_data = scaler.fit_transform(imputados_mahalanobis)\n",
    "\n",
    "# Reescalar los datos a los valores originales\n",
    "scaled_original_data = scaler.inverse_transform(scaled_data)\n",
    "\n",
    "# Asignar los datos reescalados a la variable 'data_completa_modelo'\n",
    "data_completa_modelo_maha = scaled_original_data"
   ]
  },
  {
   "cell_type": "code",
   "execution_count": 149,
   "metadata": {},
   "outputs": [
    {
     "data": {
      "text/plain": [
       "array([[8.33333333e-02, 4.54545455e-01, 2.66666667e-01, 2.29760558e-02,\n",
       "        1.61248103e-01, 8.31865913e-02],\n",
       "       [6.94444444e-01, 4.54545455e-01, 5.66666667e-01, 1.82315406e-02,\n",
       "        1.61248103e-01, 8.31865913e-02],\n",
       "       [6.94444444e-01, 4.54545455e-01, 6.00000000e-01, 6.80880187e-03,\n",
       "        1.61248103e-01, 8.31865913e-02],\n",
       "       ...,\n",
       "       [7.77777778e-01, 6.36363636e-01, 3.66666667e-01, 2.27894257e-04,\n",
       "        8.69051066e-01, 5.93848820e-01],\n",
       "       [7.77777778e-01, 6.36363636e-01, 2.00000000e-01, 2.27894257e-04,\n",
       "        8.69051066e-01, 5.93848820e-01],\n",
       "       [9.44444444e-01, 5.45454545e-01, 5.66666667e-01, 3.46944695e-18,\n",
       "        8.69051066e-01, 5.93848820e-01]])"
      ]
     },
     "execution_count": 149,
     "metadata": {},
     "output_type": "execute_result"
    }
   ],
   "source": [
    "scaled_original_data"
   ]
  },
  {
   "cell_type": "code",
   "execution_count": 148,
   "metadata": {},
   "outputs": [
    {
     "data": {
      "text/plain": [
       "array([[8.33333333e-02, 4.54545455e-01, 2.66666667e-01, 2.29760558e-02,\n",
       "        1.61248103e-01, 8.31865913e-02],\n",
       "       [6.94444444e-01, 4.54545455e-01, 5.66666667e-01, 1.82315406e-02,\n",
       "        1.61248103e-01, 8.31865913e-02],\n",
       "       [6.94444444e-01, 4.54545455e-01, 6.00000000e-01, 6.80880187e-03,\n",
       "        1.61248103e-01, 8.31865913e-02],\n",
       "       ...,\n",
       "       [7.77777778e-01, 6.36363636e-01, 3.66666667e-01, 2.27894257e-04,\n",
       "        8.69051066e-01, 5.93848820e-01],\n",
       "       [7.77777778e-01, 6.36363636e-01, 2.00000000e-01, 2.27894257e-04,\n",
       "        8.69051066e-01, 5.93848820e-01],\n",
       "       [9.44444444e-01, 5.45454545e-01, 5.66666667e-01, 3.46944695e-18,\n",
       "        8.69051066e-01, 5.93848820e-01]])"
      ]
     },
     "execution_count": 148,
     "metadata": {},
     "output_type": "execute_result"
    }
   ],
   "source": [
    "data_completa_modelo"
   ]
  },
  {
   "cell_type": "code",
   "execution_count": 135,
   "metadata": {},
   "outputs": [
    {
     "data": {
      "text/plain": [
       "array([[8.33333333e-02, 4.54545455e-01, 2.66666667e-01, 2.29760558e-02,\n",
       "        1.61248103e-01, 8.31865913e-02],\n",
       "       [6.94444444e-01, 4.54545455e-01, 5.66666667e-01, 1.82315406e-02,\n",
       "        1.61248103e-01, 8.31865913e-02],\n",
       "       [6.94444444e-01, 4.54545455e-01, 6.00000000e-01, 6.80880187e-03,\n",
       "        1.61248103e-01, 8.31865913e-02],\n",
       "       ...,\n",
       "       [7.77777778e-01, 6.36363636e-01, 3.66666667e-01, 2.27894257e-04,\n",
       "        8.69051066e-01, 5.93848820e-01],\n",
       "       [7.77777778e-01, 6.36363636e-01, 2.00000000e-01, 2.27894257e-04,\n",
       "        8.69051066e-01, 5.93848820e-01],\n",
       "       [9.44444444e-01, 5.45454545e-01, 5.66666667e-01, 0.00000000e+00,\n",
       "        8.69051066e-01, 5.93848820e-01]])"
      ]
     },
     "execution_count": 135,
     "metadata": {},
     "output_type": "execute_result"
    }
   ],
   "source": [
    "imputados_dis"
   ]
  },
  {
   "cell_type": "code",
   "execution_count": 208,
   "metadata": {},
   "outputs": [],
   "source": [
    "# Sin nombres de columnas\n",
    "df_imputados_dis = pd.DataFrame(imputados_dis)\n",
    "\n",
    "# Con nombres de columnas\n",
    "# df_imputados_dis = pd.DataFrame(imputados_dis, columns=['columna1', 'columna2', ...])\n"
   ]
  },
  {
   "cell_type": "code",
   "execution_count": 210,
   "metadata": {},
   "outputs": [],
   "source": [
    "df_imputados_dis.to_csv(r'F:\\TESIS\\Proyecto_mod_precipitacion\\Codigos de Python\\Resultados_datos_imputadosYEslcados\\imputados_dis.csv', index=False, sep=',')\n"
   ]
  },
  {
   "cell_type": "code",
   "execution_count": 212,
   "metadata": {},
   "outputs": [],
   "source": [
    "df_imputados_dis = pd.DataFrame(imputados_dis)\n",
    "df_datos_originales_final_imputados = pd.DataFrame(datos_originales_final_imputados)\n",
    "df_scaled_original_data = pd.DataFrame(scaled_original_data)\n",
    "df_data_completa_modelo = pd.DataFrame(data_completa_modelo)\n"
   ]
  },
  {
   "cell_type": "code",
   "execution_count": 213,
   "metadata": {},
   "outputs": [],
   "source": [
    "df_imputados_dis.to_csv(r'F:/TESIS/Proyecto_mod_precipitacion/Codigos de Python/Resultados_datos_imputadosYEslcados/imputados_dis.csv', index=False, sep=',')\n",
    "df_datos_originales_final_imputados.to_csv(r'F:/TESIS/Proyecto_mod_precipitacion/Codigos de Python/Resultados_datos_imputadosYEslcados/datos_originales_final_imputados.csv', index=False, sep=',')\n",
    "df_scaled_original_data.to_csv(r'F:/TESIS/Proyecto_mod_precipitacion/Codigos de Python/Resultados_datos_imputadosYEslcados/scaled_original_data.csv', index=False, sep=',')\n",
    "df_data_completa_modelo.to_csv(r'F:/TESIS/Proyecto_mod_precipitacion/Codigos de Python/Resultados_datos_imputadosYEslcados/data_completa_modelo.csv', index=False, sep=',')\n"
   ]
  },
  {
   "cell_type": "code",
   "execution_count": 87,
   "metadata": {},
   "outputs": [
    {
     "name": "stderr",
     "output_type": "stream",
     "text": [
      "2023-11-27 08:26:36,247 - distributed.nanny - WARNING - Restarting worker\n",
      "2023-11-27 13:19:53,164 - distributed.nanny - WARNING - Restarting worker\n",
      "2023-11-27 21:01:06,882 - distributed.nanny - WARNING - Restarting worker\n"
     ]
    },
    {
     "ename": "",
     "evalue": "",
     "output_type": "error",
     "traceback": [
      "\u001b[1;31mThe Kernel crashed while executing code in the the current cell or a previous cell. Please review the code in the cell(s) to identify a possible cause of the failure. Click <a href='https://aka.ms/vscodeJupyterKernelCrash'>here</a> for more info. View Jupyter <a href='command:jupyter.viewOutput'>log</a> for further details."
     ]
    }
   ],
   "source": [
    "data_completa_modelo_maha= pd.DataFrame(data_completa_modelo_maha)\n",
    "data_completa_modelo_maha.to_csv(r'F:/TESIS/Proyecto_mod_precipitacion/Codigos de Python/Resultados_datos_imputadosYEslcados/data_completa_modelo_maha.csv', index=False, sep=',')\n",
    "\n"
   ]
  },
  {
   "cell_type": "code",
   "execution_count": 84,
   "metadata": {},
   "outputs": [
    {
     "ename": "AttributeError",
     "evalue": "'numpy.ndarray' object has no attribute 'to_csv'",
     "output_type": "error",
     "traceback": [
      "\u001b[1;31m---------------------------------------------------------------------------\u001b[0m",
      "\u001b[1;31mAttributeError\u001b[0m                            Traceback (most recent call last)",
      "\u001b[1;32mf:\\TESIS\\Proyecto_mod_precipitacion\\Codigos de Python\\NoteNook_model_KNN.ipynb Cell 197\u001b[0m line \u001b[0;36m<cell line: 1>\u001b[1;34m()\u001b[0m\n\u001b[1;32m----> <a href='vscode-notebook-cell:/f%3A/TESIS/Proyecto_mod_precipitacion/Codigos%20de%20Python/NoteNook_model_KNN.ipynb#Y533sZmlsZQ%3D%3D?line=0'>1</a>\u001b[0m imputados_mahalanobis\u001b[39m.\u001b[39;49mto_csv(\u001b[39mr\u001b[39m\u001b[39m'\u001b[39m\u001b[39mF:/TESIS/Proyecto_mod_precipitacion/Codigos de Python/Resultados_datos_imputadosYEslcados/imputados_mahalanobis.csv\u001b[39m\u001b[39m'\u001b[39m, index\u001b[39m=\u001b[39m\u001b[39mFalse\u001b[39;00m, sep\u001b[39m=\u001b[39m\u001b[39m'\u001b[39m\u001b[39m,\u001b[39m\u001b[39m'\u001b[39m)\n",
      "\u001b[1;31mAttributeError\u001b[0m: 'numpy.ndarray' object has no attribute 'to_csv'"
     ]
    }
   ],
   "source": [
    "\n",
    "imputados_mahalanobis.to_csv(r'F:/TESIS/Proyecto_mod_precipitacion/Codigos de Python/Resultados_datos_imputadosYEslcados/data_completa_modelo.csv', index=False, sep=',')"
   ]
  },
  {
   "cell_type": "markdown",
   "metadata": {},
   "source": [
    "### KNN Ejecucion"
   ]
  },
  {
   "cell_type": "markdown",
   "metadata": {},
   "source": [
    "El algoritmo k-NN opera bajo la premisa de que una observación con valores desconocidos puede ser aproximada utilizando información de sus vecinos más cercanos en el espacio de características (Hastie et al., 2001). El proceso se puede desglosar en los siguientes pasos:\n",
    "\n",
    "Preprocesamiento de Datos: Antes de aplicar k-NN, es esencial estandarizar los datos. Esta etapa es crucial ya que k-NN es un algoritmo basado en distancias y, por lo tanto, es sensible a la escala en la que se encuentren las diferentes características (Hastie et al., 2001).\n",
    "\n",
    "\n",
    "Determinación del Parámetro 'k': El parámetro 'k' denota el número de vecinos que se utilizarán para la imputación. Si bien el valor óptimo de 'k' puede variar según el conjunto de datos y el contexto, estudios previos sugieren que un rango entre 3 y 10 suele ser adecuado (Troyanskaya et al., 2001). Especialmente para la precipitación, donde la correlación espacial y temporal entre estaciones cercanas puede ser relevante, es vital una selección cuidadosa de 'k'.\n",
    "\n",
    "\n",
    "Selección de la Métrica de Distancia: El rendimiento del algoritmo k-NN está intrínsecamente vinculado a la métrica de distancia empleada. Las métricas más utilizadas incluyen la distancia euclidiana y la de Manhattan, pero la elección final debe basarse en la naturaleza del conjunto de datos y las correlaciones presentes (James et al., 2013).\n",
    "\n",
    "\n",
    "Identificación de Vecinos y Imputación: Con los pasos anteriores completados, para cada dato faltante, el algoritmo identifica los 'k' vecinos más cercanos basándose en la métrica de distancia seleccionada. Posteriormente, se realiza la imputación utilizando, por ejemplo, un promedio ponderado de los valores de estos vecinos."
   ]
  },
  {
   "cell_type": "markdown",
   "metadata": {},
   "source": [
    "### Validacion cruzada Generalizada para el K optimo\n",
    "\n",
    "Dentro de las estrategias de imputación, el método K-Nearest Neighbors (KNN) se destaca por su capacidad de considerar patrones subyacentes en los datos para llenar los valores faltantes. Específicamente, el parámetro k en KNN se refiere al número de observaciones más cercanas a considerar al imputar un punto de dato faltante. Determinar el valor óptimo de k es crucial para la precisión de la imputación, ya que una selección errónea podría desencadenar imprecisiones que distorsionen la naturaleza inherente de la serie temporal, especialmente cuando se trata de datos meteorológicos con sus inherentes fluctuaciones y tendencias[^1^]. Con el objetivo de afinar esta selección, hemos empleado una estrategia de validación cruzada generalizada. Esta metodología, aplicada estación por estación, proporciona una evaluación más robusta y detallada del desempeño de KNN para diferentes valores de k, optimizando así la precisión de la imputación a lo largo de las estaciones meteorológicas[^2^].\n",
    " \n",
    "\\begin{thebibliography}{99}\n",
    "\n",
    "\\bibitem{ref1}\n",
    "Batista, G. E., & Monard, M. C. (2003).\n",
    "\\textit{An analysis of four missing data treatment methods for supervised learning.}\n",
    "Applied Artificial Intelligence, 17(5-6), 519-533.\n",
    "\n",
    "\\bibitem{ref2}\n",
    "Troyanskaya, O., Cantor, M., Sherlock, G., Brown, P., Hastie, T., Tibshirani, R., ... & Altman, R. B. (2001).\n",
    "\\textit{Missing value estimation methods for DNA microarrays.}\n",
    "Bioinformatics, 17(6), 520-525.\n",
    "\n",
    "\\end{thebibliography}\n"
   ]
  },
  {
   "cell_type": "code",
   "execution_count": null,
   "metadata": {},
   "outputs": [],
   "source": [
    "from sklearn.model_selection import KFold\n",
    "import matplotlib.pyplot as plt\n",
    "\n",
    "def compute_cv_mse_for_station(station_data, k, n_splits=5):\n",
    "    \"\"\"\n",
    "    Compute the mean cross-validated MSE for a given value of k for a station.\n",
    "    \"\"\"\n",
    "    kf = KFold(n_splits=n_splits)\n",
    "    imputer = KNNImputer(n_neighbors=k)\n",
    "    mse_list = []\n",
    "    \n",
    "    for train_index, test_index in kf.split(station_data):\n",
    "        train_data, test_data = station_data.iloc[train_index], station_data.iloc[test_index]\n",
    "        imputed_train = imputer.fit_transform(train_data[['Prec']])\n",
    "        mse = mean_squared_error(train_data['Prec'].values, imputed_train)\n",
    "        mse_list.append(mse)\n",
    "        \n",
    "    return np.mean(mse_list)\n",
    "\n",
    "def compute_avg_mse_for_k(data, k, n_splits=5, n_jobs=5):\n",
    "    stations = data['ID'].unique()\n",
    "    mse_values = Parallel(n_jobs=n_jobs)(\n",
    "        delayed(compute_cv_mse_for_station)(data[data['ID'] == station], k, n_splits) for station in stations\n",
    "    )\n",
    "    return np.mean(mse_values)\n",
    "\n",
    "k_values = list(range(1, 31))\n",
    "avg_mse_values = []\n",
    "\n",
    "for k in k_values:\n",
    "    avg_mse = compute_avg_mse_for_k(data, k)\n",
    "    avg_mse_values.append(avg_mse)\n",
    "\n",
    "optimal_k = k_values[np.argmin(avg_mse_values)]\n",
    "\n",
    "# Plotting the results\n",
    "plt.figure(figsize=(10, 6))\n",
    "plt.plot(k_values, avg_mse_values, marker='o', linestyle='-')\n",
    "plt.xlabel('Number of Neighbors (k)')\n",
    "plt.ylabel('Average MSE across Stations')\n",
    "plt.title('Average MSE vs. k for KNN Imputation Across Stations')\n",
    "plt.axvline(x=optimal_k, color='r', linestyle='--')\n",
    "plt.show()\n",
    "\n",
    "print(f\"The optimal value of k using k-fold cross validation across stations is: {optimal_k}\")\n"
   ]
  },
  {
   "cell_type": "markdown",
   "metadata": {},
   "source": [
    "##### Grafico de codo y silueta para encontrar ek K optimo "
   ]
  },
  {
   "cell_type": "code",
   "execution_count": null,
   "metadata": {},
   "outputs": [],
   "source": [
    "from sklearn.cluster import KMeans\n",
    "import matplotlib.pyplot as plt\n",
    "import numpy as np\n",
    "\n",
    "wcss = []\n",
    "for i in range(1, 11):  # Evaluando valores de k de 1 a 10\n",
    "    kmeans = KMeans(n_clusters=i, init='k-means++', max_iter=300, n_init=10, random_state=0)\n",
    "    kmeans.fit(X)\n",
    "    wcss.append(kmeans.inertia_)\n",
    "\n",
    "# Graficar el método del codo\n",
    "plt.figure(figsize=(10, 6))\n",
    "plt.plot(range(1, 11), wcss)\n",
    "plt.title('El Método del Codo para Determinar el Valor Óptimo de k')\n",
    "plt.xlabel('Número de clusters (k)')\n",
    "plt.ylabel('WCSS')\n",
    "plt.xticks(np.arange(1, 11, 1))\n",
    "plt.grid(True)\n",
    "plt.show()"
   ]
  },
  {
   "attachments": {},
   "cell_type": "markdown",
   "metadata": {},
   "source": [
    "Funcion de imputacion 5 vecinos cercanos"
   ]
  },
  {
   "cell_type": "code",
   "execution_count": 64,
   "metadata": {},
   "outputs": [],
   "source": [
    "def impute_precipitation_for_station(station_data, n_neighbors=5):\n",
    "    imputer = KNNImputer(n_neighbors=n_neighbors)\n",
    "    station_data_imputed = imputer.fit_transform(station_data[['prec']])\n",
    "    station_data['prec_imputed'] = station_data_imputed\n",
    "    return station_data\n"
   ]
  },
  {
   "attachments": {},
   "cell_type": "markdown",
   "metadata": {},
   "source": [
    "\n",
    "La función impute_precipitation_parallel ejecutará la imputación de datos de precipitación \n",
    "utilizando KNN Imputer en paralelo para todas las estaciones en tus datos. \n",
    "El parámetro n_jobs controla el número de procesos en paralelo. \n",
    "Si n_jobs=-1, se utilizarán todos los núcleos disponibles en tu computadora."
   ]
  },
  {
   "attachments": {},
   "cell_type": "markdown",
   "metadata": {},
   "source": [
    "El parámetro n_jobs controla el número de procesos en paralelo. Si n_jobs=-1, \n",
    "se utilizarán todos los núcleos disponibles en tu computadora."
   ]
  },
  {
   "cell_type": "code",
   "execution_count": 71,
   "metadata": {},
   "outputs": [],
   "source": [
    "def impute_precipitation_parallel(data, n_jobs=-1):\n",
    "    stations = data['ID'].unique()\n",
    "    results = Parallel(n_jobs=n_jobs)(\n",
    "        delayed(impute_precipitation_for_station)(data[data['ID'] == station]) for station in stations\n",
    "    )\n",
    "    imputed_data = pd.concat(results, ignore_index=True)\n",
    "    return imputed_data\n",
    "\n",
    "data['Date'] = pd.to_datetime(data['Date']) "
   ]
  },
  {
   "cell_type": "code",
   "execution_count": 98,
   "metadata": {},
   "outputs": [
    {
     "data": {
      "text/html": [
       "<div>\n",
       "<style scoped>\n",
       "    .dataframe tbody tr th:only-of-type {\n",
       "        vertical-align: middle;\n",
       "    }\n",
       "\n",
       "    .dataframe tbody tr th {\n",
       "        vertical-align: top;\n",
       "    }\n",
       "\n",
       "    .dataframe thead th {\n",
       "        text-align: right;\n",
       "    }\n",
       "</style>\n",
       "<table border=\"1\" class=\"dataframe\">\n",
       "  <thead>\n",
       "    <tr style=\"text-align: right;\">\n",
       "      <th></th>\n",
       "      <th>Año</th>\n",
       "      <th>Mes</th>\n",
       "      <th>Día</th>\n",
       "      <th>prec</th>\n",
       "      <th>LAT</th>\n",
       "      <th>LON</th>\n",
       "      <th>ID</th>\n",
       "      <th>Original</th>\n",
       "    </tr>\n",
       "  </thead>\n",
       "  <tbody>\n",
       "    <tr>\n",
       "      <th>0</th>\n",
       "      <td>1983</td>\n",
       "      <td>6</td>\n",
       "      <td>9</td>\n",
       "      <td>6.8</td>\n",
       "      <td>2.562833</td>\n",
       "      <td>-74.103083</td>\n",
       "      <td>32010010</td>\n",
       "      <td>6.8</td>\n",
       "    </tr>\n",
       "    <tr>\n",
       "      <th>8045</th>\n",
       "      <td>2005</td>\n",
       "      <td>6</td>\n",
       "      <td>18</td>\n",
       "      <td>8.0</td>\n",
       "      <td>2.562833</td>\n",
       "      <td>-74.103083</td>\n",
       "      <td>32010010</td>\n",
       "      <td>8.0</td>\n",
       "    </tr>\n",
       "    <tr>\n",
       "      <th>8046</th>\n",
       "      <td>2005</td>\n",
       "      <td>6</td>\n",
       "      <td>19</td>\n",
       "      <td>NaN</td>\n",
       "      <td>2.562833</td>\n",
       "      <td>-74.103083</td>\n",
       "      <td>32010010</td>\n",
       "      <td>12.0</td>\n",
       "    </tr>\n",
       "    <tr>\n",
       "      <th>8047</th>\n",
       "      <td>2005</td>\n",
       "      <td>6</td>\n",
       "      <td>20</td>\n",
       "      <td>0.0</td>\n",
       "      <td>2.562833</td>\n",
       "      <td>-74.103083</td>\n",
       "      <td>32010010</td>\n",
       "      <td>0.0</td>\n",
       "    </tr>\n",
       "    <tr>\n",
       "      <th>8048</th>\n",
       "      <td>2005</td>\n",
       "      <td>6</td>\n",
       "      <td>21</td>\n",
       "      <td>4.0</td>\n",
       "      <td>2.562833</td>\n",
       "      <td>-74.103083</td>\n",
       "      <td>32010010</td>\n",
       "      <td>4.0</td>\n",
       "    </tr>\n",
       "    <tr>\n",
       "      <th>...</th>\n",
       "      <td>...</td>\n",
       "      <td>...</td>\n",
       "      <td>...</td>\n",
       "      <td>...</td>\n",
       "      <td>...</td>\n",
       "      <td>...</td>\n",
       "      <td>...</td>\n",
       "      <td>...</td>\n",
       "    </tr>\n",
       "    <tr>\n",
       "      <th>654265</th>\n",
       "      <td>2008</td>\n",
       "      <td>8</td>\n",
       "      <td>8</td>\n",
       "      <td>0.0</td>\n",
       "      <td>4.260361</td>\n",
       "      <td>-72.564472</td>\n",
       "      <td>35185010</td>\n",
       "      <td>0.0</td>\n",
       "    </tr>\n",
       "    <tr>\n",
       "      <th>654268</th>\n",
       "      <td>2008</td>\n",
       "      <td>8</td>\n",
       "      <td>11</td>\n",
       "      <td>3.7</td>\n",
       "      <td>4.260361</td>\n",
       "      <td>-72.564472</td>\n",
       "      <td>35185010</td>\n",
       "      <td>3.7</td>\n",
       "    </tr>\n",
       "    <tr>\n",
       "      <th>654269</th>\n",
       "      <td>2008</td>\n",
       "      <td>8</td>\n",
       "      <td>12</td>\n",
       "      <td>0.1</td>\n",
       "      <td>4.260361</td>\n",
       "      <td>-72.564472</td>\n",
       "      <td>35185010</td>\n",
       "      <td>0.1</td>\n",
       "    </tr>\n",
       "    <tr>\n",
       "      <th>654264</th>\n",
       "      <td>2008</td>\n",
       "      <td>8</td>\n",
       "      <td>7</td>\n",
       "      <td>0.1</td>\n",
       "      <td>4.260361</td>\n",
       "      <td>-72.564472</td>\n",
       "      <td>35185010</td>\n",
       "      <td>0.1</td>\n",
       "    </tr>\n",
       "    <tr>\n",
       "      <th>656435</th>\n",
       "      <td>2014</td>\n",
       "      <td>7</td>\n",
       "      <td>18</td>\n",
       "      <td>NaN</td>\n",
       "      <td>4.260361</td>\n",
       "      <td>-72.564472</td>\n",
       "      <td>35185010</td>\n",
       "      <td>0.0</td>\n",
       "    </tr>\n",
       "  </tbody>\n",
       "</table>\n",
       "<p>592124 rows × 8 columns</p>\n",
       "</div>"
      ],
      "text/plain": [
       "         Año  Mes  Día  prec       LAT        LON        ID  Original\n",
       "0       1983    6    9   6.8  2.562833 -74.103083  32010010       6.8\n",
       "8045    2005    6   18   8.0  2.562833 -74.103083  32010010       8.0\n",
       "8046    2005    6   19   NaN  2.562833 -74.103083  32010010      12.0\n",
       "8047    2005    6   20   0.0  2.562833 -74.103083  32010010       0.0\n",
       "8048    2005    6   21   4.0  2.562833 -74.103083  32010010       4.0\n",
       "...      ...  ...  ...   ...       ...        ...       ...       ...\n",
       "654265  2008    8    8   0.0  4.260361 -72.564472  35185010       0.0\n",
       "654268  2008    8   11   3.7  4.260361 -72.564472  35185010       3.7\n",
       "654269  2008    8   12   0.1  4.260361 -72.564472  35185010       0.1\n",
       "654264  2008    8    7   0.1  4.260361 -72.564472  35185010       0.1\n",
       "656435  2014    7   18   NaN  4.260361 -72.564472  35185010       0.0\n",
       "\n",
       "[592124 rows x 8 columns]"
      ]
     },
     "execution_count": 98,
     "metadata": {},
     "output_type": "execute_result"
    }
   ],
   "source": [
    "data_completa_mod2"
   ]
  },
  {
   "cell_type": "code",
   "execution_count": 77,
   "metadata": {},
   "outputs": [
    {
     "data": {
      "text/html": [
       "<div>\n",
       "<style scoped>\n",
       "    .dataframe tbody tr th:only-of-type {\n",
       "        vertical-align: middle;\n",
       "    }\n",
       "\n",
       "    .dataframe tbody tr th {\n",
       "        vertical-align: top;\n",
       "    }\n",
       "\n",
       "    .dataframe thead th {\n",
       "        text-align: right;\n",
       "    }\n",
       "</style>\n",
       "<table border=\"1\" class=\"dataframe\">\n",
       "  <thead>\n",
       "    <tr style=\"text-align: right;\">\n",
       "      <th></th>\n",
       "      <th>Año</th>\n",
       "      <th>Mes</th>\n",
       "      <th>Día</th>\n",
       "      <th>prec</th>\n",
       "      <th>LAT</th>\n",
       "      <th>LON</th>\n",
       "      <th>Original</th>\n",
       "    </tr>\n",
       "  </thead>\n",
       "  <tbody>\n",
       "    <tr>\n",
       "      <th>0</th>\n",
       "      <td>1983</td>\n",
       "      <td>6</td>\n",
       "      <td>9</td>\n",
       "      <td>6.8</td>\n",
       "      <td>2.562833</td>\n",
       "      <td>-74.103083</td>\n",
       "      <td>6.8</td>\n",
       "    </tr>\n",
       "    <tr>\n",
       "      <th>8045</th>\n",
       "      <td>2005</td>\n",
       "      <td>6</td>\n",
       "      <td>18</td>\n",
       "      <td>8.0</td>\n",
       "      <td>2.562833</td>\n",
       "      <td>-74.103083</td>\n",
       "      <td>8.0</td>\n",
       "    </tr>\n",
       "    <tr>\n",
       "      <th>8046</th>\n",
       "      <td>2005</td>\n",
       "      <td>6</td>\n",
       "      <td>19</td>\n",
       "      <td>12.0</td>\n",
       "      <td>2.562833</td>\n",
       "      <td>-74.103083</td>\n",
       "      <td>12.0</td>\n",
       "    </tr>\n",
       "    <tr>\n",
       "      <th>8047</th>\n",
       "      <td>2005</td>\n",
       "      <td>6</td>\n",
       "      <td>20</td>\n",
       "      <td>0.0</td>\n",
       "      <td>2.562833</td>\n",
       "      <td>-74.103083</td>\n",
       "      <td>0.0</td>\n",
       "    </tr>\n",
       "    <tr>\n",
       "      <th>8048</th>\n",
       "      <td>2005</td>\n",
       "      <td>6</td>\n",
       "      <td>21</td>\n",
       "      <td>4.0</td>\n",
       "      <td>2.562833</td>\n",
       "      <td>-74.103083</td>\n",
       "      <td>4.0</td>\n",
       "    </tr>\n",
       "    <tr>\n",
       "      <th>...</th>\n",
       "      <td>...</td>\n",
       "      <td>...</td>\n",
       "      <td>...</td>\n",
       "      <td>...</td>\n",
       "      <td>...</td>\n",
       "      <td>...</td>\n",
       "      <td>...</td>\n",
       "    </tr>\n",
       "    <tr>\n",
       "      <th>654265</th>\n",
       "      <td>2008</td>\n",
       "      <td>8</td>\n",
       "      <td>8</td>\n",
       "      <td>0.0</td>\n",
       "      <td>4.260361</td>\n",
       "      <td>-72.564472</td>\n",
       "      <td>0.0</td>\n",
       "    </tr>\n",
       "    <tr>\n",
       "      <th>654268</th>\n",
       "      <td>2008</td>\n",
       "      <td>8</td>\n",
       "      <td>11</td>\n",
       "      <td>3.7</td>\n",
       "      <td>4.260361</td>\n",
       "      <td>-72.564472</td>\n",
       "      <td>3.7</td>\n",
       "    </tr>\n",
       "    <tr>\n",
       "      <th>654269</th>\n",
       "      <td>2008</td>\n",
       "      <td>8</td>\n",
       "      <td>12</td>\n",
       "      <td>NaN</td>\n",
       "      <td>4.260361</td>\n",
       "      <td>-72.564472</td>\n",
       "      <td>0.1</td>\n",
       "    </tr>\n",
       "    <tr>\n",
       "      <th>654264</th>\n",
       "      <td>2008</td>\n",
       "      <td>8</td>\n",
       "      <td>7</td>\n",
       "      <td>0.1</td>\n",
       "      <td>4.260361</td>\n",
       "      <td>-72.564472</td>\n",
       "      <td>0.1</td>\n",
       "    </tr>\n",
       "    <tr>\n",
       "      <th>656435</th>\n",
       "      <td>2014</td>\n",
       "      <td>7</td>\n",
       "      <td>18</td>\n",
       "      <td>0.0</td>\n",
       "      <td>4.260361</td>\n",
       "      <td>-72.564472</td>\n",
       "      <td>0.0</td>\n",
       "    </tr>\n",
       "  </tbody>\n",
       "</table>\n",
       "<p>592124 rows × 7 columns</p>\n",
       "</div>"
      ],
      "text/plain": [
       "         Año  Mes  Día  prec       LAT        LON  Original\n",
       "0       1983    6    9   6.8  2.562833 -74.103083       6.8\n",
       "8045    2005    6   18   8.0  2.562833 -74.103083       8.0\n",
       "8046    2005    6   19  12.0  2.562833 -74.103083      12.0\n",
       "8047    2005    6   20   0.0  2.562833 -74.103083       0.0\n",
       "8048    2005    6   21   4.0  2.562833 -74.103083       4.0\n",
       "...      ...  ...  ...   ...       ...        ...       ...\n",
       "654265  2008    8    8   0.0  4.260361 -72.564472       0.0\n",
       "654268  2008    8   11   3.7  4.260361 -72.564472       3.7\n",
       "654269  2008    8   12   NaN  4.260361 -72.564472       0.1\n",
       "654264  2008    8    7   0.1  4.260361 -72.564472       0.1\n",
       "656435  2014    7   18   0.0  4.260361 -72.564472       0.0\n",
       "\n",
       "[592124 rows x 7 columns]"
      ]
     },
     "execution_count": 77,
     "metadata": {},
     "output_type": "execute_result"
    }
   ],
   "source": [
    "data_completa_mod\n"
   ]
  },
  {
   "cell_type": "code",
   "execution_count": 74,
   "metadata": {},
   "outputs": [
    {
     "data": {
      "text/html": [
       "<div>\n",
       "<style scoped>\n",
       "    .dataframe tbody tr th:only-of-type {\n",
       "        vertical-align: middle;\n",
       "    }\n",
       "\n",
       "    .dataframe tbody tr th {\n",
       "        vertical-align: top;\n",
       "    }\n",
       "\n",
       "    .dataframe thead th {\n",
       "        text-align: right;\n",
       "    }\n",
       "</style>\n",
       "<table border=\"1\" class=\"dataframe\">\n",
       "  <thead>\n",
       "    <tr style=\"text-align: right;\">\n",
       "      <th></th>\n",
       "      <th>Date</th>\n",
       "      <th>prec</th>\n",
       "      <th>ID</th>\n",
       "      <th>LAT</th>\n",
       "      <th>LON</th>\n",
       "      <th>Year</th>\n",
       "      <th>Month</th>\n",
       "      <th>Day</th>\n",
       "    </tr>\n",
       "  </thead>\n",
       "  <tbody>\n",
       "    <tr>\n",
       "      <th>0</th>\n",
       "      <td>1983-06-09</td>\n",
       "      <td>6.8</td>\n",
       "      <td>32010010</td>\n",
       "      <td>2.562833</td>\n",
       "      <td>-74.103083</td>\n",
       "      <td>1983</td>\n",
       "      <td>6</td>\n",
       "      <td>9</td>\n",
       "    </tr>\n",
       "    <tr>\n",
       "      <th>1</th>\n",
       "      <td>1983-06-10</td>\n",
       "      <td>17.8</td>\n",
       "      <td>32010010</td>\n",
       "      <td>2.562833</td>\n",
       "      <td>-74.103083</td>\n",
       "      <td>1983</td>\n",
       "      <td>6</td>\n",
       "      <td>10</td>\n",
       "    </tr>\n",
       "    <tr>\n",
       "      <th>2</th>\n",
       "      <td>1983-06-11</td>\n",
       "      <td>0.0</td>\n",
       "      <td>32010010</td>\n",
       "      <td>2.562833</td>\n",
       "      <td>-74.103083</td>\n",
       "      <td>1983</td>\n",
       "      <td>6</td>\n",
       "      <td>11</td>\n",
       "    </tr>\n",
       "    <tr>\n",
       "      <th>3</th>\n",
       "      <td>1983-06-12</td>\n",
       "      <td>0.5</td>\n",
       "      <td>32010010</td>\n",
       "      <td>2.562833</td>\n",
       "      <td>-74.103083</td>\n",
       "      <td>1983</td>\n",
       "      <td>6</td>\n",
       "      <td>12</td>\n",
       "    </tr>\n",
       "    <tr>\n",
       "      <th>4</th>\n",
       "      <td>1983-06-13</td>\n",
       "      <td>6.9</td>\n",
       "      <td>32010010</td>\n",
       "      <td>2.562833</td>\n",
       "      <td>-74.103083</td>\n",
       "      <td>1983</td>\n",
       "      <td>6</td>\n",
       "      <td>13</td>\n",
       "    </tr>\n",
       "    <tr>\n",
       "      <th>...</th>\n",
       "      <td>...</td>\n",
       "      <td>...</td>\n",
       "      <td>...</td>\n",
       "      <td>...</td>\n",
       "      <td>...</td>\n",
       "      <td>...</td>\n",
       "      <td>...</td>\n",
       "      <td>...</td>\n",
       "    </tr>\n",
       "    <tr>\n",
       "      <th>656431</th>\n",
       "      <td>2014-07-14</td>\n",
       "      <td>0.1</td>\n",
       "      <td>35185010</td>\n",
       "      <td>4.260361</td>\n",
       "      <td>-72.564472</td>\n",
       "      <td>2014</td>\n",
       "      <td>7</td>\n",
       "      <td>14</td>\n",
       "    </tr>\n",
       "    <tr>\n",
       "      <th>656432</th>\n",
       "      <td>2014-07-15</td>\n",
       "      <td>9.8</td>\n",
       "      <td>35185010</td>\n",
       "      <td>4.260361</td>\n",
       "      <td>-72.564472</td>\n",
       "      <td>2014</td>\n",
       "      <td>7</td>\n",
       "      <td>15</td>\n",
       "    </tr>\n",
       "    <tr>\n",
       "      <th>656433</th>\n",
       "      <td>2014-07-16</td>\n",
       "      <td>0.0</td>\n",
       "      <td>35185010</td>\n",
       "      <td>4.260361</td>\n",
       "      <td>-72.564472</td>\n",
       "      <td>2014</td>\n",
       "      <td>7</td>\n",
       "      <td>16</td>\n",
       "    </tr>\n",
       "    <tr>\n",
       "      <th>656434</th>\n",
       "      <td>2014-07-17</td>\n",
       "      <td>4.5</td>\n",
       "      <td>35185010</td>\n",
       "      <td>4.260361</td>\n",
       "      <td>-72.564472</td>\n",
       "      <td>2014</td>\n",
       "      <td>7</td>\n",
       "      <td>17</td>\n",
       "    </tr>\n",
       "    <tr>\n",
       "      <th>656435</th>\n",
       "      <td>2014-07-18</td>\n",
       "      <td>0.0</td>\n",
       "      <td>35185010</td>\n",
       "      <td>4.260361</td>\n",
       "      <td>-72.564472</td>\n",
       "      <td>2014</td>\n",
       "      <td>7</td>\n",
       "      <td>18</td>\n",
       "    </tr>\n",
       "  </tbody>\n",
       "</table>\n",
       "<p>656436 rows × 8 columns</p>\n",
       "</div>"
      ],
      "text/plain": [
       "             Date  prec        ID       LAT        LON  Year  Month  Day\n",
       "0      1983-06-09   6.8  32010010  2.562833 -74.103083  1983      6    9\n",
       "1      1983-06-10  17.8  32010010  2.562833 -74.103083  1983      6   10\n",
       "2      1983-06-11   0.0  32010010  2.562833 -74.103083  1983      6   11\n",
       "3      1983-06-12   0.5  32010010  2.562833 -74.103083  1983      6   12\n",
       "4      1983-06-13   6.9  32010010  2.562833 -74.103083  1983      6   13\n",
       "...           ...   ...       ...       ...        ...   ...    ...  ...\n",
       "656431 2014-07-14   0.1  35185010  4.260361 -72.564472  2014      7   14\n",
       "656432 2014-07-15   9.8  35185010  4.260361 -72.564472  2014      7   15\n",
       "656433 2014-07-16   0.0  35185010  4.260361 -72.564472  2014      7   16\n",
       "656434 2014-07-17   4.5  35185010  4.260361 -72.564472  2014      7   17\n",
       "656435 2014-07-18   0.0  35185010  4.260361 -72.564472  2014      7   18\n",
       "\n",
       "[656436 rows x 8 columns]"
      ]
     },
     "execution_count": 74,
     "metadata": {},
     "output_type": "execute_result"
    }
   ],
   "source": [
    "imputed_data = impute_precipitation_parallel(data_completa_mod,-1)\n",
    "print(data_completa_mod)"
   ]
  },
  {
   "cell_type": "code",
   "execution_count": 102,
   "metadata": {},
   "outputs": [
    {
     "data": {
      "text/html": [
       "<div>\n",
       "<style scoped>\n",
       "    .dataframe tbody tr th:only-of-type {\n",
       "        vertical-align: middle;\n",
       "    }\n",
       "\n",
       "    .dataframe tbody tr th {\n",
       "        vertical-align: top;\n",
       "    }\n",
       "\n",
       "    .dataframe thead th {\n",
       "        text-align: right;\n",
       "    }\n",
       "</style>\n",
       "<table border=\"1\" class=\"dataframe\">\n",
       "  <thead>\n",
       "    <tr style=\"text-align: right;\">\n",
       "      <th></th>\n",
       "      <th>Año</th>\n",
       "      <th>Mes</th>\n",
       "      <th>Día</th>\n",
       "      <th>prec</th>\n",
       "      <th>LAT</th>\n",
       "      <th>LON</th>\n",
       "      <th>ID</th>\n",
       "      <th>Original</th>\n",
       "    </tr>\n",
       "  </thead>\n",
       "  <tbody>\n",
       "    <tr>\n",
       "      <th>0</th>\n",
       "      <td>1983</td>\n",
       "      <td>6</td>\n",
       "      <td>9</td>\n",
       "      <td>6.8</td>\n",
       "      <td>2.562833</td>\n",
       "      <td>-74.103083</td>\n",
       "      <td>32010010</td>\n",
       "      <td>6.8</td>\n",
       "    </tr>\n",
       "    <tr>\n",
       "      <th>8045</th>\n",
       "      <td>2005</td>\n",
       "      <td>6</td>\n",
       "      <td>18</td>\n",
       "      <td>8.0</td>\n",
       "      <td>2.562833</td>\n",
       "      <td>-74.103083</td>\n",
       "      <td>32010010</td>\n",
       "      <td>8.0</td>\n",
       "    </tr>\n",
       "    <tr>\n",
       "      <th>8046</th>\n",
       "      <td>2005</td>\n",
       "      <td>6</td>\n",
       "      <td>19</td>\n",
       "      <td>NaN</td>\n",
       "      <td>2.562833</td>\n",
       "      <td>-74.103083</td>\n",
       "      <td>32010010</td>\n",
       "      <td>12.0</td>\n",
       "    </tr>\n",
       "    <tr>\n",
       "      <th>8047</th>\n",
       "      <td>2005</td>\n",
       "      <td>6</td>\n",
       "      <td>20</td>\n",
       "      <td>0.0</td>\n",
       "      <td>2.562833</td>\n",
       "      <td>-74.103083</td>\n",
       "      <td>32010010</td>\n",
       "      <td>0.0</td>\n",
       "    </tr>\n",
       "    <tr>\n",
       "      <th>8048</th>\n",
       "      <td>2005</td>\n",
       "      <td>6</td>\n",
       "      <td>21</td>\n",
       "      <td>4.0</td>\n",
       "      <td>2.562833</td>\n",
       "      <td>-74.103083</td>\n",
       "      <td>32010010</td>\n",
       "      <td>4.0</td>\n",
       "    </tr>\n",
       "    <tr>\n",
       "      <th>...</th>\n",
       "      <td>...</td>\n",
       "      <td>...</td>\n",
       "      <td>...</td>\n",
       "      <td>...</td>\n",
       "      <td>...</td>\n",
       "      <td>...</td>\n",
       "      <td>...</td>\n",
       "      <td>...</td>\n",
       "    </tr>\n",
       "    <tr>\n",
       "      <th>654265</th>\n",
       "      <td>2008</td>\n",
       "      <td>8</td>\n",
       "      <td>8</td>\n",
       "      <td>0.0</td>\n",
       "      <td>4.260361</td>\n",
       "      <td>-72.564472</td>\n",
       "      <td>35185010</td>\n",
       "      <td>0.0</td>\n",
       "    </tr>\n",
       "    <tr>\n",
       "      <th>654268</th>\n",
       "      <td>2008</td>\n",
       "      <td>8</td>\n",
       "      <td>11</td>\n",
       "      <td>3.7</td>\n",
       "      <td>4.260361</td>\n",
       "      <td>-72.564472</td>\n",
       "      <td>35185010</td>\n",
       "      <td>3.7</td>\n",
       "    </tr>\n",
       "    <tr>\n",
       "      <th>654269</th>\n",
       "      <td>2008</td>\n",
       "      <td>8</td>\n",
       "      <td>12</td>\n",
       "      <td>0.1</td>\n",
       "      <td>4.260361</td>\n",
       "      <td>-72.564472</td>\n",
       "      <td>35185010</td>\n",
       "      <td>0.1</td>\n",
       "    </tr>\n",
       "    <tr>\n",
       "      <th>654264</th>\n",
       "      <td>2008</td>\n",
       "      <td>8</td>\n",
       "      <td>7</td>\n",
       "      <td>0.1</td>\n",
       "      <td>4.260361</td>\n",
       "      <td>-72.564472</td>\n",
       "      <td>35185010</td>\n",
       "      <td>0.1</td>\n",
       "    </tr>\n",
       "    <tr>\n",
       "      <th>656435</th>\n",
       "      <td>2014</td>\n",
       "      <td>7</td>\n",
       "      <td>18</td>\n",
       "      <td>NaN</td>\n",
       "      <td>4.260361</td>\n",
       "      <td>-72.564472</td>\n",
       "      <td>35185010</td>\n",
       "      <td>0.0</td>\n",
       "    </tr>\n",
       "  </tbody>\n",
       "</table>\n",
       "<p>592124 rows × 8 columns</p>\n",
       "</div>"
      ],
      "text/plain": [
       "         Año  Mes  Día  prec       LAT        LON        ID  Original\n",
       "0       1983    6    9   6.8  2.562833 -74.103083  32010010       6.8\n",
       "8045    2005    6   18   8.0  2.562833 -74.103083  32010010       8.0\n",
       "8046    2005    6   19   NaN  2.562833 -74.103083  32010010      12.0\n",
       "8047    2005    6   20   0.0  2.562833 -74.103083  32010010       0.0\n",
       "8048    2005    6   21   4.0  2.562833 -74.103083  32010010       4.0\n",
       "...      ...  ...  ...   ...       ...        ...       ...       ...\n",
       "654265  2008    8    8   0.0  4.260361 -72.564472  35185010       0.0\n",
       "654268  2008    8   11   3.7  4.260361 -72.564472  35185010       3.7\n",
       "654269  2008    8   12   0.1  4.260361 -72.564472  35185010       0.1\n",
       "654264  2008    8    7   0.1  4.260361 -72.564472  35185010       0.1\n",
       "656435  2014    7   18   NaN  4.260361 -72.564472  35185010       0.0\n",
       "\n",
       "[592124 rows x 8 columns]"
      ]
     },
     "execution_count": 102,
     "metadata": {},
     "output_type": "execute_result"
    }
   ],
   "source": [
    "data_completa_mod2"
   ]
  },
  {
   "cell_type": "code",
   "execution_count": 100,
   "metadata": {},
   "outputs": [],
   "source": [
    "import pandas as pd\n",
    "\n",
    "# Asumo que tu DataFrame se llama df\n",
    "# Separar la columna 'Original'\n",
    "original = data_completa_mod2['Original']\n",
    "df_sin_original = data_completa_mod2.drop('Original', axis=1)\n",
    "\n",
    "# Ahora df_sin_original contiene todas las columnas excepto 'Original'\n"
   ]
  },
  {
   "cell_type": "code",
   "execution_count": 84,
   "metadata": {},
   "outputs": [],
   "source": [
    "df_sin_original['ID'] = data['ID']\n"
   ]
  },
  {
   "attachments": {},
   "cell_type": "markdown",
   "metadata": {},
   "source": [
    "Aplicacion de la funcion para los datos"
   ]
  },
  {
   "cell_type": "code",
   "execution_count": 106,
   "metadata": {},
   "outputs": [
    {
     "data": {
      "text/html": [
       "<div>\n",
       "<style scoped>\n",
       "    .dataframe tbody tr th:only-of-type {\n",
       "        vertical-align: middle;\n",
       "    }\n",
       "\n",
       "    .dataframe tbody tr th {\n",
       "        vertical-align: top;\n",
       "    }\n",
       "\n",
       "    .dataframe thead th {\n",
       "        text-align: right;\n",
       "    }\n",
       "</style>\n",
       "<table border=\"1\" class=\"dataframe\">\n",
       "  <thead>\n",
       "    <tr style=\"text-align: right;\">\n",
       "      <th></th>\n",
       "      <th>Año</th>\n",
       "      <th>Mes</th>\n",
       "      <th>Día</th>\n",
       "      <th>prec</th>\n",
       "      <th>LAT</th>\n",
       "      <th>LON</th>\n",
       "      <th>ID</th>\n",
       "    </tr>\n",
       "  </thead>\n",
       "  <tbody>\n",
       "    <tr>\n",
       "      <th>0</th>\n",
       "      <td>1983</td>\n",
       "      <td>6</td>\n",
       "      <td>9</td>\n",
       "      <td>6.8</td>\n",
       "      <td>2.562833</td>\n",
       "      <td>-74.103083</td>\n",
       "      <td>32010010</td>\n",
       "    </tr>\n",
       "    <tr>\n",
       "      <th>8045</th>\n",
       "      <td>2005</td>\n",
       "      <td>6</td>\n",
       "      <td>18</td>\n",
       "      <td>8.0</td>\n",
       "      <td>2.562833</td>\n",
       "      <td>-74.103083</td>\n",
       "      <td>32010010</td>\n",
       "    </tr>\n",
       "    <tr>\n",
       "      <th>8046</th>\n",
       "      <td>2005</td>\n",
       "      <td>6</td>\n",
       "      <td>19</td>\n",
       "      <td>NaN</td>\n",
       "      <td>2.562833</td>\n",
       "      <td>-74.103083</td>\n",
       "      <td>32010010</td>\n",
       "    </tr>\n",
       "    <tr>\n",
       "      <th>8047</th>\n",
       "      <td>2005</td>\n",
       "      <td>6</td>\n",
       "      <td>20</td>\n",
       "      <td>0.0</td>\n",
       "      <td>2.562833</td>\n",
       "      <td>-74.103083</td>\n",
       "      <td>32010010</td>\n",
       "    </tr>\n",
       "    <tr>\n",
       "      <th>8048</th>\n",
       "      <td>2005</td>\n",
       "      <td>6</td>\n",
       "      <td>21</td>\n",
       "      <td>4.0</td>\n",
       "      <td>2.562833</td>\n",
       "      <td>-74.103083</td>\n",
       "      <td>32010010</td>\n",
       "    </tr>\n",
       "    <tr>\n",
       "      <th>...</th>\n",
       "      <td>...</td>\n",
       "      <td>...</td>\n",
       "      <td>...</td>\n",
       "      <td>...</td>\n",
       "      <td>...</td>\n",
       "      <td>...</td>\n",
       "      <td>...</td>\n",
       "    </tr>\n",
       "    <tr>\n",
       "      <th>654265</th>\n",
       "      <td>2008</td>\n",
       "      <td>8</td>\n",
       "      <td>8</td>\n",
       "      <td>0.0</td>\n",
       "      <td>4.260361</td>\n",
       "      <td>-72.564472</td>\n",
       "      <td>35185010</td>\n",
       "    </tr>\n",
       "    <tr>\n",
       "      <th>654268</th>\n",
       "      <td>2008</td>\n",
       "      <td>8</td>\n",
       "      <td>11</td>\n",
       "      <td>3.7</td>\n",
       "      <td>4.260361</td>\n",
       "      <td>-72.564472</td>\n",
       "      <td>35185010</td>\n",
       "    </tr>\n",
       "    <tr>\n",
       "      <th>654269</th>\n",
       "      <td>2008</td>\n",
       "      <td>8</td>\n",
       "      <td>12</td>\n",
       "      <td>0.1</td>\n",
       "      <td>4.260361</td>\n",
       "      <td>-72.564472</td>\n",
       "      <td>35185010</td>\n",
       "    </tr>\n",
       "    <tr>\n",
       "      <th>654264</th>\n",
       "      <td>2008</td>\n",
       "      <td>8</td>\n",
       "      <td>7</td>\n",
       "      <td>0.1</td>\n",
       "      <td>4.260361</td>\n",
       "      <td>-72.564472</td>\n",
       "      <td>35185010</td>\n",
       "    </tr>\n",
       "    <tr>\n",
       "      <th>656435</th>\n",
       "      <td>2014</td>\n",
       "      <td>7</td>\n",
       "      <td>18</td>\n",
       "      <td>NaN</td>\n",
       "      <td>4.260361</td>\n",
       "      <td>-72.564472</td>\n",
       "      <td>35185010</td>\n",
       "    </tr>\n",
       "  </tbody>\n",
       "</table>\n",
       "<p>592124 rows × 7 columns</p>\n",
       "</div>"
      ],
      "text/plain": [
       "         Año  Mes  Día  prec       LAT        LON        ID\n",
       "0       1983    6    9   6.8  2.562833 -74.103083  32010010\n",
       "8045    2005    6   18   8.0  2.562833 -74.103083  32010010\n",
       "8046    2005    6   19   NaN  2.562833 -74.103083  32010010\n",
       "8047    2005    6   20   0.0  2.562833 -74.103083  32010010\n",
       "8048    2005    6   21   4.0  2.562833 -74.103083  32010010\n",
       "...      ...  ...  ...   ...       ...        ...       ...\n",
       "654265  2008    8    8   0.0  4.260361 -72.564472  35185010\n",
       "654268  2008    8   11   3.7  4.260361 -72.564472  35185010\n",
       "654269  2008    8   12   0.1  4.260361 -72.564472  35185010\n",
       "654264  2008    8    7   0.1  4.260361 -72.564472  35185010\n",
       "656435  2014    7   18   NaN  4.260361 -72.564472  35185010\n",
       "\n",
       "[592124 rows x 7 columns]"
      ]
     },
     "execution_count": 106,
     "metadata": {},
     "output_type": "execute_result"
    }
   ],
   "source": [
    "df_sin_original"
   ]
  },
  {
   "cell_type": "code",
   "execution_count": 122,
   "metadata": {},
   "outputs": [],
   "source": [
    "from sklearn.impute import KNNImputer\n",
    "from joblib import Parallel, delayed\n",
    "import pandas as pd\n",
    "\n",
    "def impute_precipitation_for_station(station_data, n_neighbors=5):\n",
    "    # Selección de las covariables y la columna a imputar\n",
    "    variables = ['Año', 'Mes', 'Día', 'LAT', 'LON', 'prec']\n",
    "    station_data = station_data[variables].copy()\n",
    "    \n",
    "    # Imputación con KNN\n",
    "    imputer = KNNImputer(n_neighbors=n_neighbors)\n",
    "    station_data_imputed = imputer.fit_transform(station_data)\n",
    "    \n",
    "    # Convertir los resultados imputados a un DataFrame y asignar nombres de columnas\n",
    "    station_data_imputed_df = pd.DataFrame(station_data_imputed, columns=variables)\n",
    "    \n",
    "    return station_data_imputed_df\n",
    "\n",
    "def impute_precipitation_parallel(data, n_jobs=-1):\n",
    "    # Obtiene los IDs únicos de las estaciones\n",
    "    stations = data['ID'].unique()\n",
    "    \n",
    "    # Proceso en paralelo para cada estación\n",
    "    results = Parallel(n_jobs=n_jobs)(\n",
    "        delayed(impute_precipitation_for_station)(data[data['ID'] == station]) for station in stations\n",
    "    )\n",
    "    \n",
    "    # Concatena los resultados\n",
    "    imputed_data = pd.concat(results)\n",
    "    \n",
    "    return imputed_data\n"
   ]
  },
  {
   "cell_type": "code",
   "execution_count": 141,
   "metadata": {},
   "outputs": [],
   "source": [
    "from sklearn.impute import KNNImputer\n",
    "from joblib import Parallel, delayed\n",
    "import pandas as pd\n",
    "\n",
    "def impute_precipitation_for_station(station_data, n_neighbors=5):\n",
    "    # Filtrar solo las filas con datos completos para entrenar el imputador\n",
    "    complete_data = station_data.dropna(subset=['prec'])\n",
    "\n",
    "    # Si no hay suficientes datos para una estación, retorna el DataFrame original\n",
    "    if len(complete_data) < n_neighbors:\n",
    "        return station_data\n",
    "\n",
    "    # Entrenar el imputador con los datos completos\n",
    "    imputer = KNNImputer(n_neighbors=n_neighbors)\n",
    "    imputer.fit(complete_data[['Año', 'Mes', 'Día', 'LAT', 'LON', 'prec']])\n",
    "\n",
    "    # Imputar solo las filas con datos faltantes\n",
    "    missing_data = station_data[station_data['prec'].isnull()]\n",
    "    missing_data_imputed = imputer.transform(missing_data[['Año', 'Mes', 'Día', 'LAT', 'LON', 'prec']])\n",
    "    \n",
    "    # Crear un DataFrame para los datos imputados y renombrar la columna 'prec' a 'prec_imputed'\n",
    "    missing_data_imputed_df = pd.DataFrame(missing_data_imputed, columns=['Año', 'Mes', 'Día', 'LAT', 'LON', 'prec_imputed'])\n",
    "    missing_data_imputed_df['ID'] = missing_data['ID'].values  # Asegurarse de agregar la columna 'ID'\n",
    "\n",
    "    # Combina los datos imputados con los datos completos\n",
    "    combined_data = pd.concat([complete_data, missing_data_imputed_df])\n",
    "\n",
    "    return combined_data\n",
    "\n",
    "def impute_precipitation_parallel(data, n_jobs=-1):\n",
    "    # Obtiene los IDs únicos de las estaciones\n",
    "    stations = data['ID'].unique()\n",
    "    \n",
    "    # Proceso en paralelo para cada estación\n",
    "    results = Parallel(n_jobs=n_jobs)(\n",
    "        delayed(impute_precipitation_for_station)(data[data['ID'] == station]) for station in stations\n",
    "    )\n",
    "    \n",
    "    # Concatena los resultados\n",
    "    imputed_data = pd.concat(results, ignore_index=True)\n",
    "    \n",
    "    return imputed_data\n"
   ]
  },
  {
   "cell_type": "code",
   "execution_count": 148,
   "metadata": {},
   "outputs": [],
   "source": [
    "from sklearn.impute import KNNImputer\n",
    "from joblib import Parallel, delayed\n",
    "import pandas as pd\n",
    "import numpy as np\n",
    "\n",
    "def impute_precipitation_for_station(station_data, n_neighbors=5):\n",
    "    # Asegúrate de que solo estás trabajando con las columnas relevantes\n",
    "    variables = ['Año', 'Mes', 'Día', 'LAT', 'LON', 'prec']\n",
    "    station_data = station_data[variables].copy()\n",
    "    \n",
    "    # Imputación con KNN\n",
    "    imputer = KNNImputer(n_neighbors=n_neighbors)\n",
    "    station_data_imputed = imputer.fit_transform(station_data)\n",
    "    \n",
    "    # Convertir los resultados imputados a un DataFrame y asignar nombres de columnas\n",
    "    station_data_imputed_df = pd.DataFrame(station_data_imputed, columns=variables)\n",
    "    \n",
    "    return station_data_imputed_df\n",
    "\n",
    "def impute_precipitation_parallel(data, n_jobs=-1):\n",
    "    # Obtiene los IDs únicos de las estaciones\n",
    "    stations = data['ID'].unique()\n",
    "    \n",
    "    # Proceso en paralelo para cada estación\n",
    "    results = Parallel(n_jobs=n_jobs)(\n",
    "        delayed(impute_precipitation_for_station)(data[data['ID'] == station], n_neighbors=5) for station in stations\n",
    "    )\n",
    "    \n",
    "    # Concatena los resultados\n",
    "    imputed_data = pd.concat(results, ignore_index=True)\n",
    "    \n",
    "    return imputed_data\n",
    "\n",
    "# Aplica la imputación en paralelo\n",
    "imputed_data = impute_precipitation_parallel(df_sin_original)\n"
   ]
  },
  {
   "cell_type": "code",
   "execution_count": 151,
   "metadata": {},
   "outputs": [
    {
     "ename": "ValueError",
     "evalue": "Input contains NaN.",
     "output_type": "error",
     "traceback": [
      "\u001b[0;31m---------------------------------------------------------------------------\u001b[0m",
      "\u001b[0;31mValueError\u001b[0m                                Traceback (most recent call last)",
      "\u001b[1;32m/workspaces/Proyecto_mod_precipitacion/Codigos de Python/NoteNook_model_KNN.ipynb Celda 83\u001b[0m line \u001b[0;36m2\n\u001b[1;32m     <a href='vscode-notebook-cell://codespaces%2Bubiquitous-waddle-9gjp95jjgq9f77qq/workspaces/Proyecto_mod_precipitacion/Codigos%20de%20Python/NoteNook_model_KNN.ipynb#Y245sdnNjb2RlLXJlbW90ZQ%3D%3D?line=17'>18</a>\u001b[0m imputed_test_data \u001b[39m=\u001b[39m impute_precipitation_parallel(test_data)\n\u001b[1;32m     <a href='vscode-notebook-cell://codespaces%2Bubiquitous-waddle-9gjp95jjgq9f77qq/workspaces/Proyecto_mod_precipitacion/Codigos%20de%20Python/NoteNook_model_KNN.ipynb#Y245sdnNjb2RlLXJlbW90ZQ%3D%3D?line=19'>20</a>\u001b[0m \u001b[39m# Calcula el error cuadrático medio en los valores originalmente eliminados\u001b[39;00m\n\u001b[0;32m---> <a href='vscode-notebook-cell://codespaces%2Bubiquitous-waddle-9gjp95jjgq9f77qq/workspaces/Proyecto_mod_precipitacion/Codigos%20de%20Python/NoteNook_model_KNN.ipynb#Y245sdnNjb2RlLXJlbW90ZQ%3D%3D?line=20'>21</a>\u001b[0m mse \u001b[39m=\u001b[39m mean_squared_error(df_sin_original\u001b[39m.\u001b[39;49mloc[mask, \u001b[39m'\u001b[39;49m\u001b[39mprec\u001b[39;49m\u001b[39m'\u001b[39;49m], imputed_test_data\u001b[39m.\u001b[39;49mloc[mask, \u001b[39m'\u001b[39;49m\u001b[39mprec\u001b[39;49m\u001b[39m'\u001b[39;49m])\n\u001b[1;32m     <a href='vscode-notebook-cell://codespaces%2Bubiquitous-waddle-9gjp95jjgq9f77qq/workspaces/Proyecto_mod_precipitacion/Codigos%20de%20Python/NoteNook_model_KNN.ipynb#Y245sdnNjb2RlLXJlbW90ZQ%3D%3D?line=21'>22</a>\u001b[0m \u001b[39mprint\u001b[39m(\u001b[39m\"\u001b[39m\u001b[39mError Cuadrático Medio de la Imputación:\u001b[39m\u001b[39m\"\u001b[39m, mse)\n",
      "File \u001b[0;32m~/.local/lib/python3.10/site-packages/sklearn/utils/_param_validation.py:211\u001b[0m, in \u001b[0;36mvalidate_params.<locals>.decorator.<locals>.wrapper\u001b[0;34m(*args, **kwargs)\u001b[0m\n\u001b[1;32m    205\u001b[0m \u001b[39mtry\u001b[39;00m:\n\u001b[1;32m    206\u001b[0m     \u001b[39mwith\u001b[39;00m config_context(\n\u001b[1;32m    207\u001b[0m         skip_parameter_validation\u001b[39m=\u001b[39m(\n\u001b[1;32m    208\u001b[0m             prefer_skip_nested_validation \u001b[39mor\u001b[39;00m global_skip_validation\n\u001b[1;32m    209\u001b[0m         )\n\u001b[1;32m    210\u001b[0m     ):\n\u001b[0;32m--> 211\u001b[0m         \u001b[39mreturn\u001b[39;00m func(\u001b[39m*\u001b[39;49margs, \u001b[39m*\u001b[39;49m\u001b[39m*\u001b[39;49mkwargs)\n\u001b[1;32m    212\u001b[0m \u001b[39mexcept\u001b[39;00m InvalidParameterError \u001b[39mas\u001b[39;00m e:\n\u001b[1;32m    213\u001b[0m     \u001b[39m# When the function is just a wrapper around an estimator, we allow\u001b[39;00m\n\u001b[1;32m    214\u001b[0m     \u001b[39m# the function to delegate validation to the estimator, but we replace\u001b[39;00m\n\u001b[1;32m    215\u001b[0m     \u001b[39m# the name of the estimator by the name of the function in the error\u001b[39;00m\n\u001b[1;32m    216\u001b[0m     \u001b[39m# message to avoid confusion.\u001b[39;00m\n\u001b[1;32m    217\u001b[0m     msg \u001b[39m=\u001b[39m re\u001b[39m.\u001b[39msub(\n\u001b[1;32m    218\u001b[0m         \u001b[39mr\u001b[39m\u001b[39m\"\u001b[39m\u001b[39mparameter of \u001b[39m\u001b[39m\\\u001b[39m\u001b[39mw+ must be\u001b[39m\u001b[39m\"\u001b[39m,\n\u001b[1;32m    219\u001b[0m         \u001b[39mf\u001b[39m\u001b[39m\"\u001b[39m\u001b[39mparameter of \u001b[39m\u001b[39m{\u001b[39;00mfunc\u001b[39m.\u001b[39m\u001b[39m__qualname__\u001b[39m\u001b[39m}\u001b[39;00m\u001b[39m must be\u001b[39m\u001b[39m\"\u001b[39m,\n\u001b[1;32m    220\u001b[0m         \u001b[39mstr\u001b[39m(e),\n\u001b[1;32m    221\u001b[0m     )\n",
      "File \u001b[0;32m~/.local/lib/python3.10/site-packages/sklearn/metrics/_regression.py:474\u001b[0m, in \u001b[0;36mmean_squared_error\u001b[0;34m(y_true, y_pred, sample_weight, multioutput, squared)\u001b[0m\n\u001b[1;32m    404\u001b[0m \u001b[39m@validate_params\u001b[39m(\n\u001b[1;32m    405\u001b[0m     {\n\u001b[1;32m    406\u001b[0m         \u001b[39m\"\u001b[39m\u001b[39my_true\u001b[39m\u001b[39m\"\u001b[39m: [\u001b[39m\"\u001b[39m\u001b[39marray-like\u001b[39m\u001b[39m\"\u001b[39m],\n\u001b[0;32m   (...)\u001b[0m\n\u001b[1;32m    415\u001b[0m     y_true, y_pred, \u001b[39m*\u001b[39m, sample_weight\u001b[39m=\u001b[39m\u001b[39mNone\u001b[39;00m, multioutput\u001b[39m=\u001b[39m\u001b[39m\"\u001b[39m\u001b[39muniform_average\u001b[39m\u001b[39m\"\u001b[39m, squared\u001b[39m=\u001b[39m\u001b[39mTrue\u001b[39;00m\n\u001b[1;32m    416\u001b[0m ):\n\u001b[1;32m    417\u001b[0m \u001b[39m    \u001b[39m\u001b[39m\"\"\"Mean squared error regression loss.\u001b[39;00m\n\u001b[1;32m    418\u001b[0m \n\u001b[1;32m    419\u001b[0m \u001b[39m    Read more in the :ref:`User Guide <mean_squared_error>`.\u001b[39;00m\n\u001b[0;32m   (...)\u001b[0m\n\u001b[1;32m    472\u001b[0m \u001b[39m    0.825...\u001b[39;00m\n\u001b[1;32m    473\u001b[0m \u001b[39m    \"\"\"\u001b[39;00m\n\u001b[0;32m--> 474\u001b[0m     y_type, y_true, y_pred, multioutput \u001b[39m=\u001b[39m _check_reg_targets(\n\u001b[1;32m    475\u001b[0m         y_true, y_pred, multioutput\n\u001b[1;32m    476\u001b[0m     )\n\u001b[1;32m    477\u001b[0m     check_consistent_length(y_true, y_pred, sample_weight)\n\u001b[1;32m    478\u001b[0m     output_errors \u001b[39m=\u001b[39m np\u001b[39m.\u001b[39maverage((y_true \u001b[39m-\u001b[39m y_pred) \u001b[39m*\u001b[39m\u001b[39m*\u001b[39m \u001b[39m2\u001b[39m, axis\u001b[39m=\u001b[39m\u001b[39m0\u001b[39m, weights\u001b[39m=\u001b[39msample_weight)\n",
      "File \u001b[0;32m~/.local/lib/python3.10/site-packages/sklearn/metrics/_regression.py:100\u001b[0m, in \u001b[0;36m_check_reg_targets\u001b[0;34m(y_true, y_pred, multioutput, dtype)\u001b[0m\n\u001b[1;32m     66\u001b[0m \u001b[39m\u001b[39m\u001b[39m\"\"\"Check that y_true and y_pred belong to the same regression task.\u001b[39;00m\n\u001b[1;32m     67\u001b[0m \n\u001b[1;32m     68\u001b[0m \u001b[39mParameters\u001b[39;00m\n\u001b[0;32m   (...)\u001b[0m\n\u001b[1;32m     97\u001b[0m \u001b[39m    correct keyword.\u001b[39;00m\n\u001b[1;32m     98\u001b[0m \u001b[39m\"\"\"\u001b[39;00m\n\u001b[1;32m     99\u001b[0m check_consistent_length(y_true, y_pred)\n\u001b[0;32m--> 100\u001b[0m y_true \u001b[39m=\u001b[39m check_array(y_true, ensure_2d\u001b[39m=\u001b[39;49m\u001b[39mFalse\u001b[39;49;00m, dtype\u001b[39m=\u001b[39;49mdtype)\n\u001b[1;32m    101\u001b[0m y_pred \u001b[39m=\u001b[39m check_array(y_pred, ensure_2d\u001b[39m=\u001b[39m\u001b[39mFalse\u001b[39;00m, dtype\u001b[39m=\u001b[39mdtype)\n\u001b[1;32m    103\u001b[0m \u001b[39mif\u001b[39;00m y_true\u001b[39m.\u001b[39mndim \u001b[39m==\u001b[39m \u001b[39m1\u001b[39m:\n",
      "File \u001b[0;32m~/.local/lib/python3.10/site-packages/sklearn/utils/validation.py:957\u001b[0m, in \u001b[0;36mcheck_array\u001b[0;34m(array, accept_sparse, accept_large_sparse, dtype, order, copy, force_all_finite, ensure_2d, allow_nd, ensure_min_samples, ensure_min_features, estimator, input_name)\u001b[0m\n\u001b[1;32m    951\u001b[0m         \u001b[39mraise\u001b[39;00m \u001b[39mValueError\u001b[39;00m(\n\u001b[1;32m    952\u001b[0m             \u001b[39m\"\u001b[39m\u001b[39mFound array with dim \u001b[39m\u001b[39m%d\u001b[39;00m\u001b[39m. \u001b[39m\u001b[39m%s\u001b[39;00m\u001b[39m expected <= 2.\u001b[39m\u001b[39m\"\u001b[39m\n\u001b[1;32m    953\u001b[0m             \u001b[39m%\u001b[39m (array\u001b[39m.\u001b[39mndim, estimator_name)\n\u001b[1;32m    954\u001b[0m         )\n\u001b[1;32m    956\u001b[0m     \u001b[39mif\u001b[39;00m force_all_finite:\n\u001b[0;32m--> 957\u001b[0m         _assert_all_finite(\n\u001b[1;32m    958\u001b[0m             array,\n\u001b[1;32m    959\u001b[0m             input_name\u001b[39m=\u001b[39;49minput_name,\n\u001b[1;32m    960\u001b[0m             estimator_name\u001b[39m=\u001b[39;49mestimator_name,\n\u001b[1;32m    961\u001b[0m             allow_nan\u001b[39m=\u001b[39;49mforce_all_finite \u001b[39m==\u001b[39;49m \u001b[39m\"\u001b[39;49m\u001b[39mallow-nan\u001b[39;49m\u001b[39m\"\u001b[39;49m,\n\u001b[1;32m    962\u001b[0m         )\n\u001b[1;32m    964\u001b[0m \u001b[39mif\u001b[39;00m ensure_min_samples \u001b[39m>\u001b[39m \u001b[39m0\u001b[39m:\n\u001b[1;32m    965\u001b[0m     n_samples \u001b[39m=\u001b[39m _num_samples(array)\n",
      "File \u001b[0;32m~/.local/lib/python3.10/site-packages/sklearn/utils/validation.py:122\u001b[0m, in \u001b[0;36m_assert_all_finite\u001b[0;34m(X, allow_nan, msg_dtype, estimator_name, input_name)\u001b[0m\n\u001b[1;32m    119\u001b[0m \u001b[39mif\u001b[39;00m first_pass_isfinite:\n\u001b[1;32m    120\u001b[0m     \u001b[39mreturn\u001b[39;00m\n\u001b[0;32m--> 122\u001b[0m _assert_all_finite_element_wise(\n\u001b[1;32m    123\u001b[0m     X,\n\u001b[1;32m    124\u001b[0m     xp\u001b[39m=\u001b[39;49mxp,\n\u001b[1;32m    125\u001b[0m     allow_nan\u001b[39m=\u001b[39;49mallow_nan,\n\u001b[1;32m    126\u001b[0m     msg_dtype\u001b[39m=\u001b[39;49mmsg_dtype,\n\u001b[1;32m    127\u001b[0m     estimator_name\u001b[39m=\u001b[39;49mestimator_name,\n\u001b[1;32m    128\u001b[0m     input_name\u001b[39m=\u001b[39;49minput_name,\n\u001b[1;32m    129\u001b[0m )\n",
      "File \u001b[0;32m~/.local/lib/python3.10/site-packages/sklearn/utils/validation.py:171\u001b[0m, in \u001b[0;36m_assert_all_finite_element_wise\u001b[0;34m(X, xp, allow_nan, msg_dtype, estimator_name, input_name)\u001b[0m\n\u001b[1;32m    154\u001b[0m \u001b[39mif\u001b[39;00m estimator_name \u001b[39mand\u001b[39;00m input_name \u001b[39m==\u001b[39m \u001b[39m\"\u001b[39m\u001b[39mX\u001b[39m\u001b[39m\"\u001b[39m \u001b[39mand\u001b[39;00m has_nan_error:\n\u001b[1;32m    155\u001b[0m     \u001b[39m# Improve the error message on how to handle missing values in\u001b[39;00m\n\u001b[1;32m    156\u001b[0m     \u001b[39m# scikit-learn.\u001b[39;00m\n\u001b[1;32m    157\u001b[0m     msg_err \u001b[39m+\u001b[39m\u001b[39m=\u001b[39m (\n\u001b[1;32m    158\u001b[0m         \u001b[39mf\u001b[39m\u001b[39m\"\u001b[39m\u001b[39m\\n\u001b[39;00m\u001b[39m{\u001b[39;00mestimator_name\u001b[39m}\u001b[39;00m\u001b[39m does not accept missing values\u001b[39m\u001b[39m\"\u001b[39m\n\u001b[1;32m    159\u001b[0m         \u001b[39m\"\u001b[39m\u001b[39m encoded as NaN natively. For supervised learning, you might want\u001b[39m\u001b[39m\"\u001b[39m\n\u001b[0;32m   (...)\u001b[0m\n\u001b[1;32m    169\u001b[0m         \u001b[39m\"\u001b[39m\u001b[39m#estimators-that-handle-nan-values\u001b[39m\u001b[39m\"\u001b[39m\n\u001b[1;32m    170\u001b[0m     )\n\u001b[0;32m--> 171\u001b[0m \u001b[39mraise\u001b[39;00m \u001b[39mValueError\u001b[39;00m(msg_err)\n",
      "\u001b[0;31mValueError\u001b[0m: Input contains NaN."
     ]
    }
   ],
   "source": [
    "from sklearn.metrics import mean_squared_error\n",
    "\n",
    "def create_test_set(data, fraction=0.1):\n",
    "    # Crea una copia para no modificar el original\n",
    "    test_data = data.copy()\n",
    "    \n",
    "    # Elimina aleatoriamente una fracción de los valores de 'prec'\n",
    "    np.random.seed(0)\n",
    "    mask = np.random.rand(len(test_data)) < fraction\n",
    "    test_data.loc[mask, 'prec'] = np.nan\n",
    "    \n",
    "    return test_data, mask\n",
    "\n",
    "# Crea un conjunto de prueba\n",
    "test_data, mask = create_test_set(df_sin_original, fraction=0.1)\n",
    "\n",
    "# Realiza la imputación en el conjunto de prueba\n",
    "imputed_test_data = impute_precipitation_parallel(test_data)\n",
    "\n",
    "# Calcula el error cuadrático medio en los valores originalmente eliminados\n",
    "mse = mean_squared_error(df_sin_original.loc[mask, 'prec'], imputed_test_data.loc[mask, 'prec'])\n",
    "print(\"Error Cuadrático Medio de la Imputación:\", mse)\n"
   ]
  },
  {
   "cell_type": "code",
   "execution_count": 158,
   "metadata": {},
   "outputs": [
    {
     "data": {
      "text/html": [
       "<div>\n",
       "<style scoped>\n",
       "    .dataframe tbody tr th:only-of-type {\n",
       "        vertical-align: middle;\n",
       "    }\n",
       "\n",
       "    .dataframe tbody tr th {\n",
       "        vertical-align: top;\n",
       "    }\n",
       "\n",
       "    .dataframe thead th {\n",
       "        text-align: right;\n",
       "    }\n",
       "</style>\n",
       "<table border=\"1\" class=\"dataframe\">\n",
       "  <thead>\n",
       "    <tr style=\"text-align: right;\">\n",
       "      <th></th>\n",
       "      <th>Año</th>\n",
       "      <th>Mes</th>\n",
       "      <th>Día</th>\n",
       "      <th>prec</th>\n",
       "      <th>LAT</th>\n",
       "      <th>LON</th>\n",
       "      <th>ID</th>\n",
       "    </tr>\n",
       "  </thead>\n",
       "  <tbody>\n",
       "    <tr>\n",
       "      <th>0</th>\n",
       "      <td>1983</td>\n",
       "      <td>6</td>\n",
       "      <td>9</td>\n",
       "      <td>6.8</td>\n",
       "      <td>2.562833</td>\n",
       "      <td>-74.103083</td>\n",
       "      <td>32010010</td>\n",
       "    </tr>\n",
       "    <tr>\n",
       "      <th>8045</th>\n",
       "      <td>2005</td>\n",
       "      <td>6</td>\n",
       "      <td>18</td>\n",
       "      <td>8.0</td>\n",
       "      <td>2.562833</td>\n",
       "      <td>-74.103083</td>\n",
       "      <td>32010010</td>\n",
       "    </tr>\n",
       "    <tr>\n",
       "      <th>8046</th>\n",
       "      <td>2005</td>\n",
       "      <td>6</td>\n",
       "      <td>19</td>\n",
       "      <td>NaN</td>\n",
       "      <td>2.562833</td>\n",
       "      <td>-74.103083</td>\n",
       "      <td>32010010</td>\n",
       "    </tr>\n",
       "    <tr>\n",
       "      <th>8047</th>\n",
       "      <td>2005</td>\n",
       "      <td>6</td>\n",
       "      <td>20</td>\n",
       "      <td>0.0</td>\n",
       "      <td>2.562833</td>\n",
       "      <td>-74.103083</td>\n",
       "      <td>32010010</td>\n",
       "    </tr>\n",
       "    <tr>\n",
       "      <th>8048</th>\n",
       "      <td>2005</td>\n",
       "      <td>6</td>\n",
       "      <td>21</td>\n",
       "      <td>4.0</td>\n",
       "      <td>2.562833</td>\n",
       "      <td>-74.103083</td>\n",
       "      <td>32010010</td>\n",
       "    </tr>\n",
       "    <tr>\n",
       "      <th>...</th>\n",
       "      <td>...</td>\n",
       "      <td>...</td>\n",
       "      <td>...</td>\n",
       "      <td>...</td>\n",
       "      <td>...</td>\n",
       "      <td>...</td>\n",
       "      <td>...</td>\n",
       "    </tr>\n",
       "    <tr>\n",
       "      <th>654265</th>\n",
       "      <td>2008</td>\n",
       "      <td>8</td>\n",
       "      <td>8</td>\n",
       "      <td>0.0</td>\n",
       "      <td>4.260361</td>\n",
       "      <td>-72.564472</td>\n",
       "      <td>35185010</td>\n",
       "    </tr>\n",
       "    <tr>\n",
       "      <th>654268</th>\n",
       "      <td>2008</td>\n",
       "      <td>8</td>\n",
       "      <td>11</td>\n",
       "      <td>3.7</td>\n",
       "      <td>4.260361</td>\n",
       "      <td>-72.564472</td>\n",
       "      <td>35185010</td>\n",
       "    </tr>\n",
       "    <tr>\n",
       "      <th>654269</th>\n",
       "      <td>2008</td>\n",
       "      <td>8</td>\n",
       "      <td>12</td>\n",
       "      <td>0.1</td>\n",
       "      <td>4.260361</td>\n",
       "      <td>-72.564472</td>\n",
       "      <td>35185010</td>\n",
       "    </tr>\n",
       "    <tr>\n",
       "      <th>654264</th>\n",
       "      <td>2008</td>\n",
       "      <td>8</td>\n",
       "      <td>7</td>\n",
       "      <td>0.1</td>\n",
       "      <td>4.260361</td>\n",
       "      <td>-72.564472</td>\n",
       "      <td>35185010</td>\n",
       "    </tr>\n",
       "    <tr>\n",
       "      <th>656435</th>\n",
       "      <td>2014</td>\n",
       "      <td>7</td>\n",
       "      <td>18</td>\n",
       "      <td>NaN</td>\n",
       "      <td>4.260361</td>\n",
       "      <td>-72.564472</td>\n",
       "      <td>35185010</td>\n",
       "    </tr>\n",
       "  </tbody>\n",
       "</table>\n",
       "<p>592124 rows × 7 columns</p>\n",
       "</div>"
      ],
      "text/plain": [
       "         Año  Mes  Día  prec       LAT        LON        ID\n",
       "0       1983    6    9   6.8  2.562833 -74.103083  32010010\n",
       "8045    2005    6   18   8.0  2.562833 -74.103083  32010010\n",
       "8046    2005    6   19   NaN  2.562833 -74.103083  32010010\n",
       "8047    2005    6   20   0.0  2.562833 -74.103083  32010010\n",
       "8048    2005    6   21   4.0  2.562833 -74.103083  32010010\n",
       "...      ...  ...  ...   ...       ...        ...       ...\n",
       "654265  2008    8    8   0.0  4.260361 -72.564472  35185010\n",
       "654268  2008    8   11   3.7  4.260361 -72.564472  35185010\n",
       "654269  2008    8   12   0.1  4.260361 -72.564472  35185010\n",
       "654264  2008    8    7   0.1  4.260361 -72.564472  35185010\n",
       "656435  2014    7   18   NaN  4.260361 -72.564472  35185010\n",
       "\n",
       "[592124 rows x 7 columns]"
      ]
     },
     "execution_count": 158,
     "metadata": {},
     "output_type": "execute_result"
    }
   ],
   "source": [
    "df_sin_original"
   ]
  },
  {
   "cell_type": "code",
   "execution_count": 142,
   "metadata": {},
   "outputs": [
    {
     "name": "stdout",
     "output_type": "stream",
     "text": [
      "           Año   Mes   Día  prec       LAT        LON        ID  prec_imputed\n",
      "0       1983.0   6.0   9.0   6.8  2.562833 -74.103083  32010010           NaN\n",
      "1       2005.0   6.0  18.0   8.0  2.562833 -74.103083  32010010           NaN\n",
      "2       2005.0   6.0  20.0   0.0  2.562833 -74.103083  32010010           NaN\n",
      "3       2005.0   6.0  21.0   4.0  2.562833 -74.103083  32010010           NaN\n",
      "4       2005.0   6.0  22.0   0.0  2.562833 -74.103083  32010010           NaN\n",
      "...        ...   ...   ...   ...       ...        ...       ...           ...\n",
      "592119  2008.0  11.0  25.0   NaN  4.260361 -72.564472  35185010          6.78\n",
      "592120  2008.0   7.0  15.0   NaN  4.260361 -72.564472  35185010          6.66\n",
      "592121  2008.0   7.0  22.0   NaN  4.260361 -72.564472  35185010          2.08\n",
      "592122  2008.0   6.0  15.0   NaN  4.260361 -72.564472  35185010          6.32\n",
      "592123  2014.0   7.0  18.0   NaN  4.260361 -72.564472  35185010         11.72\n",
      "\n",
      "[592124 rows x 8 columns]\n"
     ]
    }
   ],
   "source": [
    "imputed_data = impute_precipitation_parallel(df_sin_original)\n",
    "print(imputed_data)"
   ]
  },
  {
   "cell_type": "code",
   "execution_count": 133,
   "metadata": {},
   "outputs": [
    {
     "name": "stdout",
     "output_type": "stream",
     "text": [
      "<class 'pandas.core.frame.DataFrame'>\n",
      "Index: 592124 entries, 0 to 2071\n",
      "Data columns (total 7 columns):\n",
      " #   Column    Non-Null Count   Dtype  \n",
      "---  ------    --------------   -----  \n",
      " 0   Año       592124 non-null  float64\n",
      " 1   Mes       592124 non-null  float64\n",
      " 2   Día       592124 non-null  float64\n",
      " 3   LAT       592124 non-null  float64\n",
      " 4   LON       592124 non-null  float64\n",
      " 5   prec      592124 non-null  float64\n",
      " 6   Original  471202 non-null  float64\n",
      "dtypes: float64(7)\n",
      "memory usage: 36.1 MB\n"
     ]
    }
   ],
   "source": [
    "imputed_data.info()"
   ]
  },
  {
   "cell_type": "code",
   "execution_count": 130,
   "metadata": {},
   "outputs": [
    {
     "name": "stdout",
     "output_type": "stream",
     "text": [
      "<class 'pandas.core.frame.DataFrame'>\n",
      "Index: 592124 entries, 0 to 2071\n",
      "Data columns (total 7 columns):\n",
      " #   Column    Non-Null Count   Dtype  \n",
      "---  ------    --------------   -----  \n",
      " 0   Año       592124 non-null  float64\n",
      " 1   Mes       592124 non-null  float64\n",
      " 2   Día       592124 non-null  float64\n",
      " 3   LAT       592124 non-null  float64\n",
      " 4   LON       592124 non-null  float64\n",
      " 5   prec      592124 non-null  float64\n",
      " 6   Original  471202 non-null  float64\n",
      "dtypes: float64(7)\n",
      "memory usage: 36.1 MB\n"
     ]
    },
    {
     "ename": "KeyError",
     "evalue": "\"['prec_imputed'] not in index\"",
     "output_type": "error",
     "traceback": [
      "\u001b[0;31m---------------------------------------------------------------------------\u001b[0m",
      "\u001b[0;31mKeyError\u001b[0m                                  Traceback (most recent call last)",
      "\u001b[1;32m/workspaces/Proyecto_mod_precipitacion/Codigos de Python/NoteNook_model_KNN.ipynb Celda 82\u001b[0m line \u001b[0;36m3\n\u001b[1;32m      <a href='vscode-notebook-cell://codespaces%2Bubiquitous-waddle-9gjp95jjgq9f77qq/workspaces/Proyecto_mod_precipitacion/Codigos%20de%20Python/NoteNook_model_KNN.ipynb#Y132sdnNjb2RlLXJlbW90ZQ%3D%3D?line=0'>1</a>\u001b[0m imputed_data\u001b[39m.\u001b[39minfo()\n\u001b[0;32m----> <a href='vscode-notebook-cell://codespaces%2Bubiquitous-waddle-9gjp95jjgq9f77qq/workspaces/Proyecto_mod_precipitacion/Codigos%20de%20Python/NoteNook_model_KNN.ipynb#Y132sdnNjb2RlLXJlbW90ZQ%3D%3D?line=2'>3</a>\u001b[0m imputed_data[[\u001b[39m'\u001b[39;49m\u001b[39mprec\u001b[39;49m\u001b[39m'\u001b[39;49m,\u001b[39m'\u001b[39;49m\u001b[39mprec_imputed\u001b[39;49m\u001b[39m'\u001b[39;49m]]\u001b[39m.\u001b[39mdescribe()\n",
      "File \u001b[0;32m~/.local/lib/python3.10/site-packages/pandas/core/frame.py:3902\u001b[0m, in \u001b[0;36mDataFrame.__getitem__\u001b[0;34m(self, key)\u001b[0m\n\u001b[1;32m   3900\u001b[0m     \u001b[39mif\u001b[39;00m is_iterator(key):\n\u001b[1;32m   3901\u001b[0m         key \u001b[39m=\u001b[39m \u001b[39mlist\u001b[39m(key)\n\u001b[0;32m-> 3902\u001b[0m     indexer \u001b[39m=\u001b[39m \u001b[39mself\u001b[39;49m\u001b[39m.\u001b[39;49mcolumns\u001b[39m.\u001b[39;49m_get_indexer_strict(key, \u001b[39m\"\u001b[39;49m\u001b[39mcolumns\u001b[39;49m\u001b[39m\"\u001b[39;49m)[\u001b[39m1\u001b[39m]\n\u001b[1;32m   3904\u001b[0m \u001b[39m# take() does not accept boolean indexers\u001b[39;00m\n\u001b[1;32m   3905\u001b[0m \u001b[39mif\u001b[39;00m \u001b[39mgetattr\u001b[39m(indexer, \u001b[39m\"\u001b[39m\u001b[39mdtype\u001b[39m\u001b[39m\"\u001b[39m, \u001b[39mNone\u001b[39;00m) \u001b[39m==\u001b[39m \u001b[39mbool\u001b[39m:\n",
      "File \u001b[0;32m~/.local/lib/python3.10/site-packages/pandas/core/indexes/base.py:6114\u001b[0m, in \u001b[0;36mIndex._get_indexer_strict\u001b[0;34m(self, key, axis_name)\u001b[0m\n\u001b[1;32m   6111\u001b[0m \u001b[39melse\u001b[39;00m:\n\u001b[1;32m   6112\u001b[0m     keyarr, indexer, new_indexer \u001b[39m=\u001b[39m \u001b[39mself\u001b[39m\u001b[39m.\u001b[39m_reindex_non_unique(keyarr)\n\u001b[0;32m-> 6114\u001b[0m \u001b[39mself\u001b[39;49m\u001b[39m.\u001b[39;49m_raise_if_missing(keyarr, indexer, axis_name)\n\u001b[1;32m   6116\u001b[0m keyarr \u001b[39m=\u001b[39m \u001b[39mself\u001b[39m\u001b[39m.\u001b[39mtake(indexer)\n\u001b[1;32m   6117\u001b[0m \u001b[39mif\u001b[39;00m \u001b[39misinstance\u001b[39m(key, Index):\n\u001b[1;32m   6118\u001b[0m     \u001b[39m# GH 42790 - Preserve name from an Index\u001b[39;00m\n",
      "File \u001b[0;32m~/.local/lib/python3.10/site-packages/pandas/core/indexes/base.py:6178\u001b[0m, in \u001b[0;36mIndex._raise_if_missing\u001b[0;34m(self, key, indexer, axis_name)\u001b[0m\n\u001b[1;32m   6175\u001b[0m     \u001b[39mraise\u001b[39;00m \u001b[39mKeyError\u001b[39;00m(\u001b[39mf\u001b[39m\u001b[39m\"\u001b[39m\u001b[39mNone of [\u001b[39m\u001b[39m{\u001b[39;00mkey\u001b[39m}\u001b[39;00m\u001b[39m] are in the [\u001b[39m\u001b[39m{\u001b[39;00maxis_name\u001b[39m}\u001b[39;00m\u001b[39m]\u001b[39m\u001b[39m\"\u001b[39m)\n\u001b[1;32m   6177\u001b[0m not_found \u001b[39m=\u001b[39m \u001b[39mlist\u001b[39m(ensure_index(key)[missing_mask\u001b[39m.\u001b[39mnonzero()[\u001b[39m0\u001b[39m]]\u001b[39m.\u001b[39munique())\n\u001b[0;32m-> 6178\u001b[0m \u001b[39mraise\u001b[39;00m \u001b[39mKeyError\u001b[39;00m(\u001b[39mf\u001b[39m\u001b[39m\"\u001b[39m\u001b[39m{\u001b[39;00mnot_found\u001b[39m}\u001b[39;00m\u001b[39m not in index\u001b[39m\u001b[39m\"\u001b[39m)\n",
      "\u001b[0;31mKeyError\u001b[0m: \"['prec_imputed'] not in index\""
     ]
    }
   ],
   "source": [
    "imputed_data.info()\n",
    "\n",
    "imputed_data[['prec','prec_imputed']].describe()"
   ]
  },
  {
   "cell_type": "markdown",
   "metadata": {},
   "source": [
    "### Visualizacion de Datos completos y faltantes"
   ]
  },
  {
   "cell_type": "code",
   "execution_count": 20,
   "metadata": {},
   "outputs": [
    {
     "ename": "NameError",
     "evalue": "name 'data_completa_mod2' is not defined",
     "output_type": "error",
     "traceback": [
      "\u001b[1;31m---------------------------------------------------------------------------\u001b[0m",
      "\u001b[1;31mNameError\u001b[0m                                 Traceback (most recent call last)",
      "Input \u001b[1;32mIn [20]\u001b[0m, in \u001b[0;36m<cell line: 1>\u001b[1;34m()\u001b[0m\n\u001b[1;32m----> 1\u001b[0m \u001b[43mdata_completa_mod2\u001b[49m\u001b[38;5;241m.\u001b[39minfo()\n\u001b[0;32m      2\u001b[0m imputed_df\u001b[38;5;241m.\u001b[39minfo()\n",
      "\u001b[1;31mNameError\u001b[0m: name 'data_completa_mod2' is not defined"
     ]
    }
   ],
   "source": [
    "data_completa_mod2.info()\n",
    "imputed_df.info()"
   ]
  },
  {
   "cell_type": "code",
   "execution_count": 169,
   "metadata": {},
   "outputs": [],
   "source": [
    "imputed_df['Original'] = data_completa_mod2['Original']"
   ]
  },
  {
   "cell_type": "code",
   "execution_count": 170,
   "metadata": {},
   "outputs": [
    {
     "data": {
      "text/html": [
       "<div>\n",
       "<style scoped>\n",
       "    .dataframe tbody tr th:only-of-type {\n",
       "        vertical-align: middle;\n",
       "    }\n",
       "\n",
       "    .dataframe tbody tr th {\n",
       "        vertical-align: top;\n",
       "    }\n",
       "\n",
       "    .dataframe thead th {\n",
       "        text-align: right;\n",
       "    }\n",
       "</style>\n",
       "<table border=\"1\" class=\"dataframe\">\n",
       "  <thead>\n",
       "    <tr style=\"text-align: right;\">\n",
       "      <th></th>\n",
       "      <th>Año</th>\n",
       "      <th>Mes</th>\n",
       "      <th>Día</th>\n",
       "      <th>prec</th>\n",
       "      <th>LAT</th>\n",
       "      <th>LON</th>\n",
       "      <th>ID</th>\n",
       "      <th>prec_imputed</th>\n",
       "      <th>Original</th>\n",
       "    </tr>\n",
       "  </thead>\n",
       "  <tbody>\n",
       "    <tr>\n",
       "      <th>0</th>\n",
       "      <td>1983</td>\n",
       "      <td>6</td>\n",
       "      <td>9</td>\n",
       "      <td>6.8</td>\n",
       "      <td>2.562833</td>\n",
       "      <td>-74.103083</td>\n",
       "      <td>32010010</td>\n",
       "      <td>6.8</td>\n",
       "      <td>6.8</td>\n",
       "    </tr>\n",
       "    <tr>\n",
       "      <th>8045</th>\n",
       "      <td>2005</td>\n",
       "      <td>6</td>\n",
       "      <td>18</td>\n",
       "      <td>8.0</td>\n",
       "      <td>2.562833</td>\n",
       "      <td>-74.103083</td>\n",
       "      <td>32010010</td>\n",
       "      <td>10.4</td>\n",
       "      <td>8.0</td>\n",
       "    </tr>\n",
       "    <tr>\n",
       "      <th>8046</th>\n",
       "      <td>2005</td>\n",
       "      <td>6</td>\n",
       "      <td>19</td>\n",
       "      <td>NaN</td>\n",
       "      <td>2.562833</td>\n",
       "      <td>-74.103083</td>\n",
       "      <td>32010010</td>\n",
       "      <td>0.0</td>\n",
       "      <td>12.0</td>\n",
       "    </tr>\n",
       "    <tr>\n",
       "      <th>8047</th>\n",
       "      <td>2005</td>\n",
       "      <td>6</td>\n",
       "      <td>20</td>\n",
       "      <td>0.0</td>\n",
       "      <td>2.562833</td>\n",
       "      <td>-74.103083</td>\n",
       "      <td>32010010</td>\n",
       "      <td>2.0</td>\n",
       "      <td>0.0</td>\n",
       "    </tr>\n",
       "    <tr>\n",
       "      <th>8048</th>\n",
       "      <td>2005</td>\n",
       "      <td>6</td>\n",
       "      <td>21</td>\n",
       "      <td>4.0</td>\n",
       "      <td>2.562833</td>\n",
       "      <td>-74.103083</td>\n",
       "      <td>32010010</td>\n",
       "      <td>54.0</td>\n",
       "      <td>4.0</td>\n",
       "    </tr>\n",
       "    <tr>\n",
       "      <th>...</th>\n",
       "      <td>...</td>\n",
       "      <td>...</td>\n",
       "      <td>...</td>\n",
       "      <td>...</td>\n",
       "      <td>...</td>\n",
       "      <td>...</td>\n",
       "      <td>...</td>\n",
       "      <td>...</td>\n",
       "      <td>...</td>\n",
       "    </tr>\n",
       "    <tr>\n",
       "      <th>654265</th>\n",
       "      <td>2008</td>\n",
       "      <td>8</td>\n",
       "      <td>8</td>\n",
       "      <td>0.0</td>\n",
       "      <td>4.260361</td>\n",
       "      <td>-72.564472</td>\n",
       "      <td>35185010</td>\n",
       "      <td>NaN</td>\n",
       "      <td>0.0</td>\n",
       "    </tr>\n",
       "    <tr>\n",
       "      <th>654268</th>\n",
       "      <td>2008</td>\n",
       "      <td>8</td>\n",
       "      <td>11</td>\n",
       "      <td>3.7</td>\n",
       "      <td>4.260361</td>\n",
       "      <td>-72.564472</td>\n",
       "      <td>35185010</td>\n",
       "      <td>NaN</td>\n",
       "      <td>3.7</td>\n",
       "    </tr>\n",
       "    <tr>\n",
       "      <th>654269</th>\n",
       "      <td>2008</td>\n",
       "      <td>8</td>\n",
       "      <td>12</td>\n",
       "      <td>0.1</td>\n",
       "      <td>4.260361</td>\n",
       "      <td>-72.564472</td>\n",
       "      <td>35185010</td>\n",
       "      <td>NaN</td>\n",
       "      <td>0.1</td>\n",
       "    </tr>\n",
       "    <tr>\n",
       "      <th>654264</th>\n",
       "      <td>2008</td>\n",
       "      <td>8</td>\n",
       "      <td>7</td>\n",
       "      <td>0.1</td>\n",
       "      <td>4.260361</td>\n",
       "      <td>-72.564472</td>\n",
       "      <td>35185010</td>\n",
       "      <td>NaN</td>\n",
       "      <td>0.1</td>\n",
       "    </tr>\n",
       "    <tr>\n",
       "      <th>656435</th>\n",
       "      <td>2014</td>\n",
       "      <td>7</td>\n",
       "      <td>18</td>\n",
       "      <td>NaN</td>\n",
       "      <td>4.260361</td>\n",
       "      <td>-72.564472</td>\n",
       "      <td>35185010</td>\n",
       "      <td>NaN</td>\n",
       "      <td>0.0</td>\n",
       "    </tr>\n",
       "  </tbody>\n",
       "</table>\n",
       "<p>592124 rows × 9 columns</p>\n",
       "</div>"
      ],
      "text/plain": [
       "         Año  Mes  Día  prec       LAT        LON        ID  prec_imputed  \\\n",
       "0       1983    6    9   6.8  2.562833 -74.103083  32010010           6.8   \n",
       "8045    2005    6   18   8.0  2.562833 -74.103083  32010010          10.4   \n",
       "8046    2005    6   19   NaN  2.562833 -74.103083  32010010           0.0   \n",
       "8047    2005    6   20   0.0  2.562833 -74.103083  32010010           2.0   \n",
       "8048    2005    6   21   4.0  2.562833 -74.103083  32010010          54.0   \n",
       "...      ...  ...  ...   ...       ...        ...       ...           ...   \n",
       "654265  2008    8    8   0.0  4.260361 -72.564472  35185010           NaN   \n",
       "654268  2008    8   11   3.7  4.260361 -72.564472  35185010           NaN   \n",
       "654269  2008    8   12   0.1  4.260361 -72.564472  35185010           NaN   \n",
       "654264  2008    8    7   0.1  4.260361 -72.564472  35185010           NaN   \n",
       "656435  2014    7   18   NaN  4.260361 -72.564472  35185010           NaN   \n",
       "\n",
       "        Original  \n",
       "0            6.8  \n",
       "8045         8.0  \n",
       "8046        12.0  \n",
       "8047         0.0  \n",
       "8048         4.0  \n",
       "...          ...  \n",
       "654265       0.0  \n",
       "654268       3.7  \n",
       "654269       0.1  \n",
       "654264       0.1  \n",
       "656435       0.0  \n",
       "\n",
       "[592124 rows x 9 columns]"
      ]
     },
     "execution_count": 170,
     "metadata": {},
     "output_type": "execute_result"
    }
   ],
   "source": [
    "imputed_df"
   ]
  },
  {
   "cell_type": "code",
   "execution_count": 173,
   "metadata": {},
   "outputs": [
    {
     "data": {
      "text/html": [
       "<div>\n",
       "<style scoped>\n",
       "    .dataframe tbody tr th:only-of-type {\n",
       "        vertical-align: middle;\n",
       "    }\n",
       "\n",
       "    .dataframe tbody tr th {\n",
       "        vertical-align: top;\n",
       "    }\n",
       "\n",
       "    .dataframe thead th {\n",
       "        text-align: right;\n",
       "    }\n",
       "</style>\n",
       "<table border=\"1\" class=\"dataframe\">\n",
       "  <thead>\n",
       "    <tr style=\"text-align: right;\">\n",
       "      <th></th>\n",
       "      <th>Año</th>\n",
       "      <th>Mes</th>\n",
       "      <th>Día</th>\n",
       "      <th>prec</th>\n",
       "      <th>LAT</th>\n",
       "      <th>LON</th>\n",
       "      <th>ID</th>\n",
       "      <th>prec_imputed</th>\n",
       "      <th>Original</th>\n",
       "    </tr>\n",
       "  </thead>\n",
       "  <tbody>\n",
       "    <tr>\n",
       "      <th>8046</th>\n",
       "      <td>2005</td>\n",
       "      <td>6</td>\n",
       "      <td>19</td>\n",
       "      <td>NaN</td>\n",
       "      <td>2.562833</td>\n",
       "      <td>-74.103083</td>\n",
       "      <td>32010010</td>\n",
       "      <td>0.0</td>\n",
       "      <td>12.0</td>\n",
       "    </tr>\n",
       "    <tr>\n",
       "      <th>8051</th>\n",
       "      <td>2005</td>\n",
       "      <td>6</td>\n",
       "      <td>24</td>\n",
       "      <td>NaN</td>\n",
       "      <td>2.562833</td>\n",
       "      <td>-74.103083</td>\n",
       "      <td>32010010</td>\n",
       "      <td>5.0</td>\n",
       "      <td>41.0</td>\n",
       "    </tr>\n",
       "    <tr>\n",
       "      <th>8052</th>\n",
       "      <td>2005</td>\n",
       "      <td>6</td>\n",
       "      <td>25</td>\n",
       "      <td>NaN</td>\n",
       "      <td>2.562833</td>\n",
       "      <td>-74.103083</td>\n",
       "      <td>32010010</td>\n",
       "      <td>0.0</td>\n",
       "      <td>8.0</td>\n",
       "    </tr>\n",
       "    <tr>\n",
       "      <th>8054</th>\n",
       "      <td>2005</td>\n",
       "      <td>6</td>\n",
       "      <td>27</td>\n",
       "      <td>NaN</td>\n",
       "      <td>2.562833</td>\n",
       "      <td>-74.103083</td>\n",
       "      <td>32010010</td>\n",
       "      <td>0.0</td>\n",
       "      <td>5.0</td>\n",
       "    </tr>\n",
       "    <tr>\n",
       "      <th>8057</th>\n",
       "      <td>2005</td>\n",
       "      <td>6</td>\n",
       "      <td>30</td>\n",
       "      <td>NaN</td>\n",
       "      <td>2.562833</td>\n",
       "      <td>-74.103083</td>\n",
       "      <td>32010010</td>\n",
       "      <td>0.0</td>\n",
       "      <td>0.0</td>\n",
       "    </tr>\n",
       "    <tr>\n",
       "      <th>...</th>\n",
       "      <td>...</td>\n",
       "      <td>...</td>\n",
       "      <td>...</td>\n",
       "      <td>...</td>\n",
       "      <td>...</td>\n",
       "      <td>...</td>\n",
       "      <td>...</td>\n",
       "      <td>...</td>\n",
       "      <td>...</td>\n",
       "    </tr>\n",
       "    <tr>\n",
       "      <th>654374</th>\n",
       "      <td>2008</td>\n",
       "      <td>11</td>\n",
       "      <td>25</td>\n",
       "      <td>NaN</td>\n",
       "      <td>4.260361</td>\n",
       "      <td>-72.564472</td>\n",
       "      <td>35185010</td>\n",
       "      <td>NaN</td>\n",
       "      <td>0.1</td>\n",
       "    </tr>\n",
       "    <tr>\n",
       "      <th>654241</th>\n",
       "      <td>2008</td>\n",
       "      <td>7</td>\n",
       "      <td>15</td>\n",
       "      <td>NaN</td>\n",
       "      <td>4.260361</td>\n",
       "      <td>-72.564472</td>\n",
       "      <td>35185010</td>\n",
       "      <td>NaN</td>\n",
       "      <td>0.0</td>\n",
       "    </tr>\n",
       "    <tr>\n",
       "      <th>654248</th>\n",
       "      <td>2008</td>\n",
       "      <td>7</td>\n",
       "      <td>22</td>\n",
       "      <td>NaN</td>\n",
       "      <td>4.260361</td>\n",
       "      <td>-72.564472</td>\n",
       "      <td>35185010</td>\n",
       "      <td>NaN</td>\n",
       "      <td>6.2</td>\n",
       "    </tr>\n",
       "    <tr>\n",
       "      <th>654211</th>\n",
       "      <td>2008</td>\n",
       "      <td>6</td>\n",
       "      <td>15</td>\n",
       "      <td>NaN</td>\n",
       "      <td>4.260361</td>\n",
       "      <td>-72.564472</td>\n",
       "      <td>35185010</td>\n",
       "      <td>NaN</td>\n",
       "      <td>0.6</td>\n",
       "    </tr>\n",
       "    <tr>\n",
       "      <th>656435</th>\n",
       "      <td>2014</td>\n",
       "      <td>7</td>\n",
       "      <td>18</td>\n",
       "      <td>NaN</td>\n",
       "      <td>4.260361</td>\n",
       "      <td>-72.564472</td>\n",
       "      <td>35185010</td>\n",
       "      <td>NaN</td>\n",
       "      <td>0.0</td>\n",
       "    </tr>\n",
       "  </tbody>\n",
       "</table>\n",
       "<p>59212 rows × 9 columns</p>\n",
       "</div>"
      ],
      "text/plain": [
       "         Año  Mes  Día  prec       LAT        LON        ID  prec_imputed  \\\n",
       "8046    2005    6   19   NaN  2.562833 -74.103083  32010010           0.0   \n",
       "8051    2005    6   24   NaN  2.562833 -74.103083  32010010           5.0   \n",
       "8052    2005    6   25   NaN  2.562833 -74.103083  32010010           0.0   \n",
       "8054    2005    6   27   NaN  2.562833 -74.103083  32010010           0.0   \n",
       "8057    2005    6   30   NaN  2.562833 -74.103083  32010010           0.0   \n",
       "...      ...  ...  ...   ...       ...        ...       ...           ...   \n",
       "654374  2008   11   25   NaN  4.260361 -72.564472  35185010           NaN   \n",
       "654241  2008    7   15   NaN  4.260361 -72.564472  35185010           NaN   \n",
       "654248  2008    7   22   NaN  4.260361 -72.564472  35185010           NaN   \n",
       "654211  2008    6   15   NaN  4.260361 -72.564472  35185010           NaN   \n",
       "656435  2014    7   18   NaN  4.260361 -72.564472  35185010           NaN   \n",
       "\n",
       "        Original  \n",
       "8046        12.0  \n",
       "8051        41.0  \n",
       "8052         8.0  \n",
       "8054         5.0  \n",
       "8057         0.0  \n",
       "...          ...  \n",
       "654374       0.1  \n",
       "654241       0.0  \n",
       "654248       6.2  \n",
       "654211       0.6  \n",
       "656435       0.0  \n",
       "\n",
       "[59212 rows x 9 columns]"
      ]
     },
     "execution_count": 173,
     "metadata": {},
     "output_type": "execute_result"
    }
   ],
   "source": [
    "soloNAn=na_rows = imputed_df[imputed_df['prec'].isna()]\n",
    "soloNAn"
   ]
  },
  {
   "cell_type": "code",
   "execution_count": 172,
   "metadata": {},
   "outputs": [
    {
     "data": {
      "text/html": [
       "<div>\n",
       "<style scoped>\n",
       "    .dataframe tbody tr th:only-of-type {\n",
       "        vertical-align: middle;\n",
       "    }\n",
       "\n",
       "    .dataframe tbody tr th {\n",
       "        vertical-align: top;\n",
       "    }\n",
       "\n",
       "    .dataframe thead th {\n",
       "        text-align: right;\n",
       "    }\n",
       "</style>\n",
       "<table border=\"1\" class=\"dataframe\">\n",
       "  <thead>\n",
       "    <tr style=\"text-align: right;\">\n",
       "      <th></th>\n",
       "      <th>Año</th>\n",
       "      <th>Mes</th>\n",
       "      <th>Día</th>\n",
       "      <th>prec</th>\n",
       "      <th>LAT</th>\n",
       "      <th>LON</th>\n",
       "      <th>ID</th>\n",
       "      <th>prec_imputed</th>\n",
       "      <th>Original</th>\n",
       "    </tr>\n",
       "  </thead>\n",
       "  <tbody>\n",
       "    <tr>\n",
       "      <th>8046</th>\n",
       "      <td>2005</td>\n",
       "      <td>6</td>\n",
       "      <td>19</td>\n",
       "      <td>NaN</td>\n",
       "      <td>2.562833</td>\n",
       "      <td>-74.103083</td>\n",
       "      <td>32010010</td>\n",
       "      <td>0.0</td>\n",
       "      <td>12.0</td>\n",
       "    </tr>\n",
       "    <tr>\n",
       "      <th>8051</th>\n",
       "      <td>2005</td>\n",
       "      <td>6</td>\n",
       "      <td>24</td>\n",
       "      <td>NaN</td>\n",
       "      <td>2.562833</td>\n",
       "      <td>-74.103083</td>\n",
       "      <td>32010010</td>\n",
       "      <td>5.0</td>\n",
       "      <td>41.0</td>\n",
       "    </tr>\n",
       "    <tr>\n",
       "      <th>8052</th>\n",
       "      <td>2005</td>\n",
       "      <td>6</td>\n",
       "      <td>25</td>\n",
       "      <td>NaN</td>\n",
       "      <td>2.562833</td>\n",
       "      <td>-74.103083</td>\n",
       "      <td>32010010</td>\n",
       "      <td>0.0</td>\n",
       "      <td>8.0</td>\n",
       "    </tr>\n",
       "    <tr>\n",
       "      <th>8054</th>\n",
       "      <td>2005</td>\n",
       "      <td>6</td>\n",
       "      <td>27</td>\n",
       "      <td>NaN</td>\n",
       "      <td>2.562833</td>\n",
       "      <td>-74.103083</td>\n",
       "      <td>32010010</td>\n",
       "      <td>0.0</td>\n",
       "      <td>5.0</td>\n",
       "    </tr>\n",
       "    <tr>\n",
       "      <th>8057</th>\n",
       "      <td>2005</td>\n",
       "      <td>6</td>\n",
       "      <td>30</td>\n",
       "      <td>NaN</td>\n",
       "      <td>2.562833</td>\n",
       "      <td>-74.103083</td>\n",
       "      <td>32010010</td>\n",
       "      <td>0.0</td>\n",
       "      <td>0.0</td>\n",
       "    </tr>\n",
       "    <tr>\n",
       "      <th>...</th>\n",
       "      <td>...</td>\n",
       "      <td>...</td>\n",
       "      <td>...</td>\n",
       "      <td>...</td>\n",
       "      <td>...</td>\n",
       "      <td>...</td>\n",
       "      <td>...</td>\n",
       "      <td>...</td>\n",
       "      <td>...</td>\n",
       "    </tr>\n",
       "    <tr>\n",
       "      <th>654374</th>\n",
       "      <td>2008</td>\n",
       "      <td>11</td>\n",
       "      <td>25</td>\n",
       "      <td>NaN</td>\n",
       "      <td>4.260361</td>\n",
       "      <td>-72.564472</td>\n",
       "      <td>35185010</td>\n",
       "      <td>NaN</td>\n",
       "      <td>0.1</td>\n",
       "    </tr>\n",
       "    <tr>\n",
       "      <th>654241</th>\n",
       "      <td>2008</td>\n",
       "      <td>7</td>\n",
       "      <td>15</td>\n",
       "      <td>NaN</td>\n",
       "      <td>4.260361</td>\n",
       "      <td>-72.564472</td>\n",
       "      <td>35185010</td>\n",
       "      <td>NaN</td>\n",
       "      <td>0.0</td>\n",
       "    </tr>\n",
       "    <tr>\n",
       "      <th>654248</th>\n",
       "      <td>2008</td>\n",
       "      <td>7</td>\n",
       "      <td>22</td>\n",
       "      <td>NaN</td>\n",
       "      <td>4.260361</td>\n",
       "      <td>-72.564472</td>\n",
       "      <td>35185010</td>\n",
       "      <td>NaN</td>\n",
       "      <td>6.2</td>\n",
       "    </tr>\n",
       "    <tr>\n",
       "      <th>654211</th>\n",
       "      <td>2008</td>\n",
       "      <td>6</td>\n",
       "      <td>15</td>\n",
       "      <td>NaN</td>\n",
       "      <td>4.260361</td>\n",
       "      <td>-72.564472</td>\n",
       "      <td>35185010</td>\n",
       "      <td>NaN</td>\n",
       "      <td>0.6</td>\n",
       "    </tr>\n",
       "    <tr>\n",
       "      <th>656435</th>\n",
       "      <td>2014</td>\n",
       "      <td>7</td>\n",
       "      <td>18</td>\n",
       "      <td>NaN</td>\n",
       "      <td>4.260361</td>\n",
       "      <td>-72.564472</td>\n",
       "      <td>35185010</td>\n",
       "      <td>NaN</td>\n",
       "      <td>0.0</td>\n",
       "    </tr>\n",
       "  </tbody>\n",
       "</table>\n",
       "<p>59212 rows × 9 columns</p>\n",
       "</div>"
      ],
      "text/plain": [
       "         Año  Mes  Día  prec       LAT        LON        ID  prec_imputed  \\\n",
       "8046    2005    6   19   NaN  2.562833 -74.103083  32010010           0.0   \n",
       "8051    2005    6   24   NaN  2.562833 -74.103083  32010010           5.0   \n",
       "8052    2005    6   25   NaN  2.562833 -74.103083  32010010           0.0   \n",
       "8054    2005    6   27   NaN  2.562833 -74.103083  32010010           0.0   \n",
       "8057    2005    6   30   NaN  2.562833 -74.103083  32010010           0.0   \n",
       "...      ...  ...  ...   ...       ...        ...       ...           ...   \n",
       "654374  2008   11   25   NaN  4.260361 -72.564472  35185010           NaN   \n",
       "654241  2008    7   15   NaN  4.260361 -72.564472  35185010           NaN   \n",
       "654248  2008    7   22   NaN  4.260361 -72.564472  35185010           NaN   \n",
       "654211  2008    6   15   NaN  4.260361 -72.564472  35185010           NaN   \n",
       "656435  2014    7   18   NaN  4.260361 -72.564472  35185010           NaN   \n",
       "\n",
       "        Original  \n",
       "8046        12.0  \n",
       "8051        41.0  \n",
       "8052         8.0  \n",
       "8054         5.0  \n",
       "8057         0.0  \n",
       "...          ...  \n",
       "654374       0.1  \n",
       "654241       0.0  \n",
       "654248       6.2  \n",
       "654211       0.6  \n",
       "656435       0.0  \n",
       "\n",
       "[59212 rows x 9 columns]"
      ]
     },
     "execution_count": 172,
     "metadata": {},
     "output_type": "execute_result"
    }
   ],
   "source": [
    "soloNAn=na_rows = imputed_data[imputed_data['prec'].isna()]\n",
    "soloNAn"
   ]
  },
  {
   "attachments": {},
   "cell_type": "markdown",
   "metadata": {},
   "source": [
    "instalar forzadamente en la terminal pip install dask\n",
    "la cual es una biblioteca de python que permite de manera flexible\n",
    "realizar computacion paralela o procesamientos de informacion en paralelos\n",
    "compuesta de 2 partes :\n",
    "por una parte \"Dynamic task scheduling\" o programacion dinamica de tareas\n",
    "que consta de una orquestacion de los procesos que se estan realizando \n",
    "por parte la libreria para optimizar el calculo reduciendo el uso de memoria\n",
    "y acortando los tiempos \n",
    "\n",
    "Aquí hay una comparación detallada de los dos enfoques de imputación en paralelo:\n",
    "\n",
    "Enfoque 1: joblib\n",
    "\n",
    "Librerías utilizadas:\n",
    "\n",
    "joblib: Esta biblioteca se utiliza para realizar cálculos en paralelo y optimizar la ejecución de bucles en Python. Ofrece una API simple y consistente para la ejecución en paralelo y la gestión de la memoria caché.\n",
    "Características clave:\n",
    "\n",
    "Se usa Parallel y delayed de joblib para ejecutar la función impute_precipitation_for_station en paralelo para cada estación.\n",
    "El parámetro n_jobs controla el número de núcleos de CPU utilizados en la ejecución en paralelo. Si n_jobs = -1, se utilizarán todos los núcleos disponibles.\n",
    "Enfoque 2: dask\n",
    "\n",
    "Librerías utilizadas:\n",
    "\n",
    "dask: Es una biblioteca de Python flexible y optimizada para el procesamiento en paralelo y la computación fuera del núcleo. Proporciona estructuras de datos paralelas y una API familiar inspirada en Pandas.\n",
    "Características clave:\n",
    "\n",
    "Se utiliza dask.dataframe para crear un DataFrame de Dask, que es una estructura de datos paralela similar a un DataFrame de Pandas.\n",
    "El parámetro npartitions controla cuántas particiones se deben crear al dividir el DataFrame de Pandas en partes más pequeñas.\n",
    "En lugar de usar joblib, el enfoque en sí mismo divide el DataFrame en estaciones y ejecuta la imputación para cada estación en las particiones de Dask.\n",
    "Se utiliza el método compute() para convertir los resultados del DataFrame de Dask de vuelta a un DataFrame de Pandas después de la imputación.\n",
    "#Comparación:\n",
    "\n",
    "Ambos enfoques se centran en mejorar la eficiencia al imputar datos en paralelo, pero utilizan diferentes bibliotecas y métodos para lograrlo.\n",
    "\n",
    "El enfoque 1 (joblib) es más simple y fácil de entender, pero podría ser menos eficiente en el manejo de la memoria y la paralelización, especialmente si se trabaja con grandes conjuntos de datos.\n",
    "\n",
    "El enfoque 2 (dask) es más avanzado y ofrece una mayor flexibilidad en el control de la paralelización y la optimización de la memoria. Esto puede resultar en un mejor rendimiento en el caso de conjuntos de datos más grandes o computadoras con recursos limitados. Sin embargo, puede ser un poco más difícil de entender y configurar correctamente.\n",
    "\n",
    "En resumen, la elección del enfoque depende de tus requisitos de rendimiento y del tamaño de los datos que estés procesando. Si estás trabajando con conjuntos de datos muy grandes, el enfoque de Dask podría ser más adecuado. Si la simplicidad es tu principal preocupación y los conjuntos de datos no son excesivamente grandes, entonces el enfoque de joblib podría ser suficiente.\n"
   ]
  },
  {
   "cell_type": "markdown",
   "metadata": {},
   "source": [
    "### Para distancias Mahalanobis"
   ]
  },
  {
   "cell_type": "code",
   "execution_count": 50,
   "metadata": {},
   "outputs": [],
   "source": [
    "from scipy.spatial import distance\n",
    "from numpy.linalg import inv, LinAlgError\n",
    "\n",
    "def mahalanobis_distance(x, y, inv_cov_matrix):\n",
    "    return distance.mahalanobis(x, y, inv_cov_matrix)\n"
   ]
  },
  {
   "cell_type": "code",
   "execution_count": 57,
   "metadata": {},
   "outputs": [
    {
     "ename": "ValueError",
     "evalue": "Input contains NaN, infinity or a value too large for dtype('float64').",
     "output_type": "error",
     "traceback": [
      "\u001b[1;31m---------------------------------------------------------------------------\u001b[0m",
      "\u001b[1;31mValueError\u001b[0m                                Traceback (most recent call last)",
      "\u001b[1;32mf:\\TESIS\\Proyecto_mod_precipitacion\\Codigos de Python\\NoteNook_model_KNN.ipynb Cell 69\u001b[0m line \u001b[0;36m<cell line: 35>\u001b[1;34m()\u001b[0m\n\u001b[0;32m     <a href='vscode-notebook-cell:/f%3A/TESIS/Proyecto_mod_precipitacion/Codigos%20de%20Python/NoteNook_model_KNN.ipynb#Y162sZmlsZQ%3D%3D?line=31'>32</a>\u001b[0m     \u001b[39mreturn\u001b[39;00m imputed_data\n\u001b[0;32m     <a href='vscode-notebook-cell:/f%3A/TESIS/Proyecto_mod_precipitacion/Codigos%20de%20Python/NoteNook_model_KNN.ipynb#Y162sZmlsZQ%3D%3D?line=33'>34</a>\u001b[0m \u001b[39m# Test the function with the sample data again\u001b[39;00m\n\u001b[1;32m---> <a href='vscode-notebook-cell:/f%3A/TESIS/Proyecto_mod_precipitacion/Codigos%20de%20Python/NoteNook_model_KNN.ipynb#Y162sZmlsZQ%3D%3D?line=34'>35</a>\u001b[0m imputed_sample \u001b[39m=\u001b[39m impute_precipitation_for_station_mahalanobis(data)\n\u001b[0;32m     <a href='vscode-notebook-cell:/f%3A/TESIS/Proyecto_mod_precipitacion/Codigos%20de%20Python/NoteNook_model_KNN.ipynb#Y162sZmlsZQ%3D%3D?line=35'>36</a>\u001b[0m imputed_sample\n",
      "\u001b[1;32mf:\\TESIS\\Proyecto_mod_precipitacion\\Codigos de Python\\NoteNook_model_KNN.ipynb Cell 69\u001b[0m line \u001b[0;36mimpute_precipitation_for_station_mahalanobis\u001b[1;34m(station_data, n_neighbors)\u001b[0m\n\u001b[0;32m     <a href='vscode-notebook-cell:/f%3A/TESIS/Proyecto_mod_precipitacion/Codigos%20de%20Python/NoteNook_model_KNN.ipynb#Y162sZmlsZQ%3D%3D?line=11'>12</a>\u001b[0m neigh\u001b[39m.\u001b[39mfit(complete_data[[\u001b[39m'\u001b[39m\u001b[39mprec\u001b[39m\u001b[39m'\u001b[39m, \u001b[39m'\u001b[39m\u001b[39mLAT\u001b[39m\u001b[39m'\u001b[39m, \u001b[39m'\u001b[39m\u001b[39mLON\u001b[39m\u001b[39m'\u001b[39m]])\n\u001b[0;32m     <a href='vscode-notebook-cell:/f%3A/TESIS/Proyecto_mod_precipitacion/Codigos%20de%20Python/NoteNook_model_KNN.ipynb#Y162sZmlsZQ%3D%3D?line=13'>14</a>\u001b[0m \u001b[39m# Para cada punto con datos faltantes, encontrar los k vecinos más cercanos y calcular el promedio\u001b[39;00m\n\u001b[1;32m---> <a href='vscode-notebook-cell:/f%3A/TESIS/Proyecto_mod_precipitacion/Codigos%20de%20Python/NoteNook_model_KNN.ipynb#Y162sZmlsZQ%3D%3D?line=14'>15</a>\u001b[0m distances, indices \u001b[39m=\u001b[39m neigh\u001b[39m.\u001b[39;49mkneighbors(missing_data[[\u001b[39m'\u001b[39;49m\u001b[39mprec\u001b[39;49m\u001b[39m'\u001b[39;49m, \u001b[39m'\u001b[39;49m\u001b[39mLAT\u001b[39;49m\u001b[39m'\u001b[39;49m, \u001b[39m'\u001b[39;49m\u001b[39mLON\u001b[39;49m\u001b[39m'\u001b[39;49m]])\n\u001b[0;32m     <a href='vscode-notebook-cell:/f%3A/TESIS/Proyecto_mod_precipitacion/Codigos%20de%20Python/NoteNook_model_KNN.ipynb#Y162sZmlsZQ%3D%3D?line=15'>16</a>\u001b[0m missing_data[\u001b[39m'\u001b[39m\u001b[39mprec_imputed\u001b[39m\u001b[39m'\u001b[39m] \u001b[39m=\u001b[39m [complete_data\u001b[39m.\u001b[39miloc[indices[i]][\u001b[39m'\u001b[39m\u001b[39mprec\u001b[39m\u001b[39m'\u001b[39m]\u001b[39m.\u001b[39mmean() \u001b[39mfor\u001b[39;00m i \u001b[39min\u001b[39;00m \u001b[39mrange\u001b[39m(\u001b[39mlen\u001b[39m(indices))]\n\u001b[0;32m     <a href='vscode-notebook-cell:/f%3A/TESIS/Proyecto_mod_precipitacion/Codigos%20de%20Python/NoteNook_model_KNN.ipynb#Y162sZmlsZQ%3D%3D?line=17'>18</a>\u001b[0m \u001b[39m# Combinar datos completos y datos imputados\u001b[39;00m\n",
      "File \u001b[1;32mc:\\Users\\ronal\\AppData\\Local\\Programs\\Python\\Python310\\lib\\site-packages\\sklearn\\neighbors\\_base.py:717\u001b[0m, in \u001b[0;36mKNeighborsMixin.kneighbors\u001b[1;34m(self, X, n_neighbors, return_distance)\u001b[0m\n\u001b[0;32m    715\u001b[0m         X \u001b[39m=\u001b[39m _check_precomputed(X)\n\u001b[0;32m    716\u001b[0m     \u001b[39melse\u001b[39;00m:\n\u001b[1;32m--> 717\u001b[0m         X \u001b[39m=\u001b[39m \u001b[39mself\u001b[39;49m\u001b[39m.\u001b[39;49m_validate_data(X, accept_sparse\u001b[39m=\u001b[39;49m\u001b[39m\"\u001b[39;49m\u001b[39mcsr\u001b[39;49m\u001b[39m\"\u001b[39;49m, reset\u001b[39m=\u001b[39;49m\u001b[39mFalse\u001b[39;49;00m)\n\u001b[0;32m    718\u001b[0m \u001b[39melse\u001b[39;00m:\n\u001b[0;32m    719\u001b[0m     query_is_train \u001b[39m=\u001b[39m \u001b[39mTrue\u001b[39;00m\n",
      "File \u001b[1;32mc:\\Users\\ronal\\AppData\\Local\\Programs\\Python\\Python310\\lib\\site-packages\\sklearn\\base.py:566\u001b[0m, in \u001b[0;36mBaseEstimator._validate_data\u001b[1;34m(self, X, y, reset, validate_separately, **check_params)\u001b[0m\n\u001b[0;32m    564\u001b[0m     \u001b[39mraise\u001b[39;00m \u001b[39mValueError\u001b[39;00m(\u001b[39m\"\u001b[39m\u001b[39mValidation should be done on X, y or both.\u001b[39m\u001b[39m\"\u001b[39m)\n\u001b[0;32m    565\u001b[0m \u001b[39melif\u001b[39;00m \u001b[39mnot\u001b[39;00m no_val_X \u001b[39mand\u001b[39;00m no_val_y:\n\u001b[1;32m--> 566\u001b[0m     X \u001b[39m=\u001b[39m check_array(X, \u001b[39m*\u001b[39m\u001b[39m*\u001b[39mcheck_params)\n\u001b[0;32m    567\u001b[0m     out \u001b[39m=\u001b[39m X\n\u001b[0;32m    568\u001b[0m \u001b[39melif\u001b[39;00m no_val_X \u001b[39mand\u001b[39;00m \u001b[39mnot\u001b[39;00m no_val_y:\n",
      "File \u001b[1;32mc:\\Users\\ronal\\AppData\\Local\\Programs\\Python\\Python310\\lib\\site-packages\\sklearn\\utils\\validation.py:800\u001b[0m, in \u001b[0;36mcheck_array\u001b[1;34m(array, accept_sparse, accept_large_sparse, dtype, order, copy, force_all_finite, ensure_2d, allow_nd, ensure_min_samples, ensure_min_features, estimator)\u001b[0m\n\u001b[0;32m    794\u001b[0m         \u001b[39mraise\u001b[39;00m \u001b[39mValueError\u001b[39;00m(\n\u001b[0;32m    795\u001b[0m             \u001b[39m\"\u001b[39m\u001b[39mFound array with dim \u001b[39m\u001b[39m%d\u001b[39;00m\u001b[39m. \u001b[39m\u001b[39m%s\u001b[39;00m\u001b[39m expected <= 2.\u001b[39m\u001b[39m\"\u001b[39m\n\u001b[0;32m    796\u001b[0m             \u001b[39m%\u001b[39m (array\u001b[39m.\u001b[39mndim, estimator_name)\n\u001b[0;32m    797\u001b[0m         )\n\u001b[0;32m    799\u001b[0m     \u001b[39mif\u001b[39;00m force_all_finite:\n\u001b[1;32m--> 800\u001b[0m         _assert_all_finite(array, allow_nan\u001b[39m=\u001b[39;49mforce_all_finite \u001b[39m==\u001b[39;49m \u001b[39m\"\u001b[39;49m\u001b[39mallow-nan\u001b[39;49m\u001b[39m\"\u001b[39;49m)\n\u001b[0;32m    802\u001b[0m \u001b[39mif\u001b[39;00m ensure_min_samples \u001b[39m>\u001b[39m \u001b[39m0\u001b[39m:\n\u001b[0;32m    803\u001b[0m     n_samples \u001b[39m=\u001b[39m _num_samples(array)\n",
      "File \u001b[1;32mc:\\Users\\ronal\\AppData\\Local\\Programs\\Python\\Python310\\lib\\site-packages\\sklearn\\utils\\validation.py:114\u001b[0m, in \u001b[0;36m_assert_all_finite\u001b[1;34m(X, allow_nan, msg_dtype)\u001b[0m\n\u001b[0;32m    107\u001b[0m     \u001b[39mif\u001b[39;00m (\n\u001b[0;32m    108\u001b[0m         allow_nan\n\u001b[0;32m    109\u001b[0m         \u001b[39mand\u001b[39;00m np\u001b[39m.\u001b[39misinf(X)\u001b[39m.\u001b[39many()\n\u001b[0;32m    110\u001b[0m         \u001b[39mor\u001b[39;00m \u001b[39mnot\u001b[39;00m allow_nan\n\u001b[0;32m    111\u001b[0m         \u001b[39mand\u001b[39;00m \u001b[39mnot\u001b[39;00m np\u001b[39m.\u001b[39misfinite(X)\u001b[39m.\u001b[39mall()\n\u001b[0;32m    112\u001b[0m     ):\n\u001b[0;32m    113\u001b[0m         type_err \u001b[39m=\u001b[39m \u001b[39m\"\u001b[39m\u001b[39minfinity\u001b[39m\u001b[39m\"\u001b[39m \u001b[39mif\u001b[39;00m allow_nan \u001b[39melse\u001b[39;00m \u001b[39m\"\u001b[39m\u001b[39mNaN, infinity\u001b[39m\u001b[39m\"\u001b[39m\n\u001b[1;32m--> 114\u001b[0m         \u001b[39mraise\u001b[39;00m \u001b[39mValueError\u001b[39;00m(\n\u001b[0;32m    115\u001b[0m             msg_err\u001b[39m.\u001b[39mformat(\n\u001b[0;32m    116\u001b[0m                 type_err, msg_dtype \u001b[39mif\u001b[39;00m msg_dtype \u001b[39mis\u001b[39;00m \u001b[39mnot\u001b[39;00m \u001b[39mNone\u001b[39;00m \u001b[39melse\u001b[39;00m X\u001b[39m.\u001b[39mdtype\n\u001b[0;32m    117\u001b[0m             )\n\u001b[0;32m    118\u001b[0m         )\n\u001b[0;32m    119\u001b[0m \u001b[39m# for object dtype data, we only check for NaNs (GH-13254)\u001b[39;00m\n\u001b[0;32m    120\u001b[0m \u001b[39melif\u001b[39;00m X\u001b[39m.\u001b[39mdtype \u001b[39m==\u001b[39m np\u001b[39m.\u001b[39mdtype(\u001b[39m\"\u001b[39m\u001b[39mobject\u001b[39m\u001b[39m\"\u001b[39m) \u001b[39mand\u001b[39;00m \u001b[39mnot\u001b[39;00m allow_nan:\n",
      "\u001b[1;31mValueError\u001b[0m: Input contains NaN, infinity or a value too large for dtype('float64')."
     ]
    }
   ],
   "source": [
    "def knn_mahalanobis_imputation(data, n_neighbors=5):\n",
    "    \"\"\"\n",
    "    Impute missing values using KNN with Mahalanobis distance for single feature data.\n",
    "    \n",
    "    Parameters:\n",
    "    - data: numpy array with the data (only the variable to impute).\n",
    "    - n_neighbors: number of neighbors for KNN.\n",
    "    \n",
    "    Returns:\n",
    "    - Array with imputed values.\n",
    "    \"\"\"\n",
    "    # Separate complete and missing data\n",
    "    complete_data = data[~np.isnan(data)]\n",
    "    missing_data_idx = np.where(np.isnan(data))\n",
    "    \n",
    "    # Compute variance and its inverse\n",
    "    variance = np.var(complete_data)\n",
    "    variance_inv = 1 / variance if variance != 0 else 0\n",
    "    \n",
    "    # Compute Mahalanobis distance using NearestNeighbors\n",
    "    nbrs = NearestNeighbors(metric=distance.mahalanobis, metric_params={'VI': np.array([[variance_inv]])})\n",
    "    nbrs.fit(complete_data.reshape(-1, 1))\n",
    "    \n",
    "    # Find k neighbors for missing data\n",
    "    distances, indices = nbrs.kneighbors(data[missing_data_idx].reshape(-1, 1), n_neighbors=n_neighbors)\n",
    "    \n",
    "    # Impute missing data\n",
    "    imputed_data = data.copy()\n",
    "    for idx, neighbor_indices in zip(missing_data_idx[0], indices):\n",
    "        imputed_data[idx] = np.mean(complete_data[neighbor_indices])\n",
    "    \n",
    "    return imputed_data\n",
    "\n",
    "# Test the function with the sample data again\n",
    "imputed_sample = impute_precipitation_for_station_mahalanobis(data)\n",
    "imputed_sample\n"
   ]
  },
  {
   "cell_type": "code",
   "execution_count": 60,
   "metadata": {},
   "outputs": [],
   "source": [
    "def impute_precipitation_for_station_mahalanobis(station_data, n_neighbors=5):\n",
    "    # Separar datos completos y datos con valores faltantes\n",
    "    complete_data = station_data.dropna(subset=['prec'])\n",
    "    missing_data = station_data[station_data['prec'].isnull()]\n",
    "    \n",
    "    # Calcular la matriz de covarianza inversa\n",
    "    cov_matrix = np.cov(complete_data[['prec', 'LAT', 'LON']], rowvar=False)\n",
    "    inv_cov_matrix = np.linalg.inv(cov_matrix)\n",
    "    \n",
    "    # Usar NearestNeighbors con distancia de Mahalanobis\n",
    "    neigh = NearestNeighbors(n_neighbors=n_neighbors, metric='mahalanobis', metric_params={'VI': inv_cov_matrix})\n",
    "    neigh.fit(complete_data[['prec', 'LAT', 'LON']])\n",
    "    \n",
    "    # Para cada punto con datos faltantes, encontrar los k vecinos más cercanos y calcular el promedio\n",
    "    distances, indices = neigh.kneighbors(missing_data[['prec', 'LAT', 'LON']])\n",
    "    missing_data['prec_imputed'] = [complete_data.iloc[indices[i]]['prec'].mean() for i in range(len(indices))]\n",
    "    \n",
    "    # Combinar datos completos y datos imputados\n",
    "    station_data_imputed = pd.concat([complete_data, missing_data], ignore_index=True)\n",
    "    \n",
    "    return station_data_imputed\n"
   ]
  },
  {
   "cell_type": "code",
   "execution_count": 63,
   "metadata": {},
   "outputs": [
    {
     "ename": "ValueError",
     "evalue": "Input contains NaN, infinity or a value too large for dtype('float64').",
     "output_type": "error",
     "traceback": [
      "\u001b[1;31m---------------------------------------------------------------------------\u001b[0m",
      "\u001b[1;31mValueError\u001b[0m                                Traceback (most recent call last)",
      "\u001b[1;32mf:\\TESIS\\Proyecto_mod_precipitacion\\Codigos de Python\\NoteNook_model_KNN.ipynb Cell 71\u001b[0m line \u001b[0;36m<cell line: 1>\u001b[1;34m()\u001b[0m\n\u001b[1;32m----> <a href='vscode-notebook-cell:/f%3A/TESIS/Proyecto_mod_precipitacion/Codigos%20de%20Python/NoteNook_model_KNN.ipynb#Y166sZmlsZQ%3D%3D?line=0'>1</a>\u001b[0m imputed_sample \u001b[39m=\u001b[39m impute_precipitation_for_station_mahalanobis(data_completa_mod)\n\u001b[0;32m      <a href='vscode-notebook-cell:/f%3A/TESIS/Proyecto_mod_precipitacion/Codigos%20de%20Python/NoteNook_model_KNN.ipynb#Y166sZmlsZQ%3D%3D?line=1'>2</a>\u001b[0m imputed_sample\n",
      "\u001b[1;32mf:\\TESIS\\Proyecto_mod_precipitacion\\Codigos de Python\\NoteNook_model_KNN.ipynb Cell 71\u001b[0m line \u001b[0;36mimpute_precipitation_for_station_mahalanobis\u001b[1;34m(station_data, n_neighbors)\u001b[0m\n\u001b[0;32m     <a href='vscode-notebook-cell:/f%3A/TESIS/Proyecto_mod_precipitacion/Codigos%20de%20Python/NoteNook_model_KNN.ipynb#Y166sZmlsZQ%3D%3D?line=11'>12</a>\u001b[0m neigh\u001b[39m.\u001b[39mfit(complete_data[[\u001b[39m'\u001b[39m\u001b[39mprec\u001b[39m\u001b[39m'\u001b[39m, \u001b[39m'\u001b[39m\u001b[39mLAT\u001b[39m\u001b[39m'\u001b[39m, \u001b[39m'\u001b[39m\u001b[39mLON\u001b[39m\u001b[39m'\u001b[39m]])\n\u001b[0;32m     <a href='vscode-notebook-cell:/f%3A/TESIS/Proyecto_mod_precipitacion/Codigos%20de%20Python/NoteNook_model_KNN.ipynb#Y166sZmlsZQ%3D%3D?line=13'>14</a>\u001b[0m \u001b[39m# Para cada punto con datos faltantes, encontrar los k vecinos más cercanos y calcular el promedio\u001b[39;00m\n\u001b[1;32m---> <a href='vscode-notebook-cell:/f%3A/TESIS/Proyecto_mod_precipitacion/Codigos%20de%20Python/NoteNook_model_KNN.ipynb#Y166sZmlsZQ%3D%3D?line=14'>15</a>\u001b[0m distances, indices \u001b[39m=\u001b[39m neigh\u001b[39m.\u001b[39;49mkneighbors(missing_data[[\u001b[39m'\u001b[39;49m\u001b[39mprec\u001b[39;49m\u001b[39m'\u001b[39;49m, \u001b[39m'\u001b[39;49m\u001b[39mLAT\u001b[39;49m\u001b[39m'\u001b[39;49m, \u001b[39m'\u001b[39;49m\u001b[39mLON\u001b[39;49m\u001b[39m'\u001b[39;49m]])\n\u001b[0;32m     <a href='vscode-notebook-cell:/f%3A/TESIS/Proyecto_mod_precipitacion/Codigos%20de%20Python/NoteNook_model_KNN.ipynb#Y166sZmlsZQ%3D%3D?line=15'>16</a>\u001b[0m missing_data[\u001b[39m'\u001b[39m\u001b[39mprec_imputed\u001b[39m\u001b[39m'\u001b[39m] \u001b[39m=\u001b[39m [complete_data\u001b[39m.\u001b[39miloc[indices[i]][\u001b[39m'\u001b[39m\u001b[39mprec\u001b[39m\u001b[39m'\u001b[39m]\u001b[39m.\u001b[39mmean() \u001b[39mfor\u001b[39;00m i \u001b[39min\u001b[39;00m \u001b[39mrange\u001b[39m(\u001b[39mlen\u001b[39m(indices))]\n\u001b[0;32m     <a href='vscode-notebook-cell:/f%3A/TESIS/Proyecto_mod_precipitacion/Codigos%20de%20Python/NoteNook_model_KNN.ipynb#Y166sZmlsZQ%3D%3D?line=17'>18</a>\u001b[0m \u001b[39m# Combinar datos completos y datos imputados\u001b[39;00m\n",
      "File \u001b[1;32mc:\\Users\\ronal\\AppData\\Local\\Programs\\Python\\Python310\\lib\\site-packages\\sklearn\\neighbors\\_base.py:717\u001b[0m, in \u001b[0;36mKNeighborsMixin.kneighbors\u001b[1;34m(self, X, n_neighbors, return_distance)\u001b[0m\n\u001b[0;32m    715\u001b[0m         X \u001b[39m=\u001b[39m _check_precomputed(X)\n\u001b[0;32m    716\u001b[0m     \u001b[39melse\u001b[39;00m:\n\u001b[1;32m--> 717\u001b[0m         X \u001b[39m=\u001b[39m \u001b[39mself\u001b[39;49m\u001b[39m.\u001b[39;49m_validate_data(X, accept_sparse\u001b[39m=\u001b[39;49m\u001b[39m\"\u001b[39;49m\u001b[39mcsr\u001b[39;49m\u001b[39m\"\u001b[39;49m, reset\u001b[39m=\u001b[39;49m\u001b[39mFalse\u001b[39;49;00m)\n\u001b[0;32m    718\u001b[0m \u001b[39melse\u001b[39;00m:\n\u001b[0;32m    719\u001b[0m     query_is_train \u001b[39m=\u001b[39m \u001b[39mTrue\u001b[39;00m\n",
      "File \u001b[1;32mc:\\Users\\ronal\\AppData\\Local\\Programs\\Python\\Python310\\lib\\site-packages\\sklearn\\base.py:566\u001b[0m, in \u001b[0;36mBaseEstimator._validate_data\u001b[1;34m(self, X, y, reset, validate_separately, **check_params)\u001b[0m\n\u001b[0;32m    564\u001b[0m     \u001b[39mraise\u001b[39;00m \u001b[39mValueError\u001b[39;00m(\u001b[39m\"\u001b[39m\u001b[39mValidation should be done on X, y or both.\u001b[39m\u001b[39m\"\u001b[39m)\n\u001b[0;32m    565\u001b[0m \u001b[39melif\u001b[39;00m \u001b[39mnot\u001b[39;00m no_val_X \u001b[39mand\u001b[39;00m no_val_y:\n\u001b[1;32m--> 566\u001b[0m     X \u001b[39m=\u001b[39m check_array(X, \u001b[39m*\u001b[39m\u001b[39m*\u001b[39mcheck_params)\n\u001b[0;32m    567\u001b[0m     out \u001b[39m=\u001b[39m X\n\u001b[0;32m    568\u001b[0m \u001b[39melif\u001b[39;00m no_val_X \u001b[39mand\u001b[39;00m \u001b[39mnot\u001b[39;00m no_val_y:\n",
      "File \u001b[1;32mc:\\Users\\ronal\\AppData\\Local\\Programs\\Python\\Python310\\lib\\site-packages\\sklearn\\utils\\validation.py:800\u001b[0m, in \u001b[0;36mcheck_array\u001b[1;34m(array, accept_sparse, accept_large_sparse, dtype, order, copy, force_all_finite, ensure_2d, allow_nd, ensure_min_samples, ensure_min_features, estimator)\u001b[0m\n\u001b[0;32m    794\u001b[0m         \u001b[39mraise\u001b[39;00m \u001b[39mValueError\u001b[39;00m(\n\u001b[0;32m    795\u001b[0m             \u001b[39m\"\u001b[39m\u001b[39mFound array with dim \u001b[39m\u001b[39m%d\u001b[39;00m\u001b[39m. \u001b[39m\u001b[39m%s\u001b[39;00m\u001b[39m expected <= 2.\u001b[39m\u001b[39m\"\u001b[39m\n\u001b[0;32m    796\u001b[0m             \u001b[39m%\u001b[39m (array\u001b[39m.\u001b[39mndim, estimator_name)\n\u001b[0;32m    797\u001b[0m         )\n\u001b[0;32m    799\u001b[0m     \u001b[39mif\u001b[39;00m force_all_finite:\n\u001b[1;32m--> 800\u001b[0m         _assert_all_finite(array, allow_nan\u001b[39m=\u001b[39;49mforce_all_finite \u001b[39m==\u001b[39;49m \u001b[39m\"\u001b[39;49m\u001b[39mallow-nan\u001b[39;49m\u001b[39m\"\u001b[39;49m)\n\u001b[0;32m    802\u001b[0m \u001b[39mif\u001b[39;00m ensure_min_samples \u001b[39m>\u001b[39m \u001b[39m0\u001b[39m:\n\u001b[0;32m    803\u001b[0m     n_samples \u001b[39m=\u001b[39m _num_samples(array)\n",
      "File \u001b[1;32mc:\\Users\\ronal\\AppData\\Local\\Programs\\Python\\Python310\\lib\\site-packages\\sklearn\\utils\\validation.py:114\u001b[0m, in \u001b[0;36m_assert_all_finite\u001b[1;34m(X, allow_nan, msg_dtype)\u001b[0m\n\u001b[0;32m    107\u001b[0m     \u001b[39mif\u001b[39;00m (\n\u001b[0;32m    108\u001b[0m         allow_nan\n\u001b[0;32m    109\u001b[0m         \u001b[39mand\u001b[39;00m np\u001b[39m.\u001b[39misinf(X)\u001b[39m.\u001b[39many()\n\u001b[0;32m    110\u001b[0m         \u001b[39mor\u001b[39;00m \u001b[39mnot\u001b[39;00m allow_nan\n\u001b[0;32m    111\u001b[0m         \u001b[39mand\u001b[39;00m \u001b[39mnot\u001b[39;00m np\u001b[39m.\u001b[39misfinite(X)\u001b[39m.\u001b[39mall()\n\u001b[0;32m    112\u001b[0m     ):\n\u001b[0;32m    113\u001b[0m         type_err \u001b[39m=\u001b[39m \u001b[39m\"\u001b[39m\u001b[39minfinity\u001b[39m\u001b[39m\"\u001b[39m \u001b[39mif\u001b[39;00m allow_nan \u001b[39melse\u001b[39;00m \u001b[39m\"\u001b[39m\u001b[39mNaN, infinity\u001b[39m\u001b[39m\"\u001b[39m\n\u001b[1;32m--> 114\u001b[0m         \u001b[39mraise\u001b[39;00m \u001b[39mValueError\u001b[39;00m(\n\u001b[0;32m    115\u001b[0m             msg_err\u001b[39m.\u001b[39mformat(\n\u001b[0;32m    116\u001b[0m                 type_err, msg_dtype \u001b[39mif\u001b[39;00m msg_dtype \u001b[39mis\u001b[39;00m \u001b[39mnot\u001b[39;00m \u001b[39mNone\u001b[39;00m \u001b[39melse\u001b[39;00m X\u001b[39m.\u001b[39mdtype\n\u001b[0;32m    117\u001b[0m             )\n\u001b[0;32m    118\u001b[0m         )\n\u001b[0;32m    119\u001b[0m \u001b[39m# for object dtype data, we only check for NaNs (GH-13254)\u001b[39;00m\n\u001b[0;32m    120\u001b[0m \u001b[39melif\u001b[39;00m X\u001b[39m.\u001b[39mdtype \u001b[39m==\u001b[39m np\u001b[39m.\u001b[39mdtype(\u001b[39m\"\u001b[39m\u001b[39mobject\u001b[39m\u001b[39m\"\u001b[39m) \u001b[39mand\u001b[39;00m \u001b[39mnot\u001b[39;00m allow_nan:\n",
      "\u001b[1;31mValueError\u001b[0m: Input contains NaN, infinity or a value too large for dtype('float64')."
     ]
    }
   ],
   "source": [
    "imputed_sample = impute_precipitation_for_station_mahalanobis(data_completa_mod)\n",
    "imputed_sample\n"
   ]
  },
  {
   "attachments": {},
   "cell_type": "markdown",
   "metadata": {},
   "source": [
    "### Enfoque DASK\n"
   ]
  },
  {
   "cell_type": "code",
   "execution_count": null,
   "metadata": {},
   "outputs": [],
   "source": [
    "import pandas as pd\n",
    "import numpy as np\n",
    "from sklearn.impute import KNNImputer\n",
    "from joblib import Parallel, delayed\n",
    "import dask.dataframe as dd"
   ]
  },
  {
   "cell_type": "code",
   "execution_count": 54,
   "metadata": {},
   "outputs": [],
   "source": [
    "from sklearn.neighbors import NearestNeighbors\n",
    "import numpy as np\n",
    "\n",
    "def impute_precipitation_for_station_mahalanobis(station_data, n_neighbors=5):\n",
    "    # Separar datos completos y datos con valores faltantes\n",
    "    complete_data = station_data.dropna(subset=['prec'])\n",
    "    missing_data = station_data[station_data['prec'].isnull()]\n",
    "    \n",
    "    # Calcular la matriz de covarianza inversa\n",
    "    cov_matrix = np.cov(complete_data['prec'], rowvar=False)\n",
    "    inv_cov_matrix = np.linalg.inv(cov_matrix)\n",
    "    \n",
    "    # Usar NearestNeighbors con distancia de Mahalanobis\n",
    "    neigh = NearestNeighbors(n_neighbors=n_neighbors, metric='mahalanobis', metric_params={'VI': inv_cov_matrix})\n",
    "    neigh.fit(complete_data[['prec']])\n",
    "    \n",
    "    # Para cada punto con datos faltantes, encontrar los k vecinos más cercanos y calcular el promedio\n",
    "    distances, indices = neigh.kneighbors(missing_data[['prec']])\n",
    "    missing_data['prec_imputed'] = [complete_data.iloc[indices[i]]['prec'].mean() for i in range(len(indices))]\n",
    "    \n",
    "    # Combinar datos completos y datos imputados\n",
    "    station_data_imputed = pd.concat([complete_data, missing_data], ignore_index=True)\n",
    "    \n",
    "    return station_data_imputed\n",
    "\n",
    "# El resto del código sigue siendo similar\n"
   ]
  },
  {
   "cell_type": "code",
   "execution_count": 55,
   "metadata": {},
   "outputs": [
    {
     "ename": "LinAlgError",
     "evalue": "0-dimensional array given. Array must be at least two-dimensional",
     "output_type": "error",
     "traceback": [
      "\u001b[1;31m---------------------------------------------------------------------------\u001b[0m",
      "\u001b[1;31mLinAlgError\u001b[0m                               Traceback (most recent call last)",
      "\u001b[1;32mf:\\TESIS\\Proyecto_mod_precipitacion\\Codigos de Python\\NoteNook_model_KNN.ipynb Cell 73\u001b[0m line \u001b[0;36m<cell line: 1>\u001b[1;34m()\u001b[0m\n\u001b[1;32m----> <a href='vscode-notebook-cell:/f%3A/TESIS/Proyecto_mod_precipitacion/Codigos%20de%20Python/NoteNook_model_KNN.ipynb#Y126sZmlsZQ%3D%3D?line=0'>1</a>\u001b[0m imputed_data \u001b[39m=\u001b[39m impute_precipitation_for_station_mahalanobis(data)\n\u001b[0;32m      <a href='vscode-notebook-cell:/f%3A/TESIS/Proyecto_mod_precipitacion/Codigos%20de%20Python/NoteNook_model_KNN.ipynb#Y126sZmlsZQ%3D%3D?line=1'>2</a>\u001b[0m \u001b[39mprint\u001b[39m(imputed_data)\n",
      "\u001b[1;32mf:\\TESIS\\Proyecto_mod_precipitacion\\Codigos de Python\\NoteNook_model_KNN.ipynb Cell 73\u001b[0m line \u001b[0;36mimpute_precipitation_for_station_mahalanobis\u001b[1;34m(station_data, n_neighbors)\u001b[0m\n\u001b[0;32m      <a href='vscode-notebook-cell:/f%3A/TESIS/Proyecto_mod_precipitacion/Codigos%20de%20Python/NoteNook_model_KNN.ipynb#Y126sZmlsZQ%3D%3D?line=8'>9</a>\u001b[0m \u001b[39m# Calcular la matriz de covarianza inversa\u001b[39;00m\n\u001b[0;32m     <a href='vscode-notebook-cell:/f%3A/TESIS/Proyecto_mod_precipitacion/Codigos%20de%20Python/NoteNook_model_KNN.ipynb#Y126sZmlsZQ%3D%3D?line=9'>10</a>\u001b[0m cov_matrix \u001b[39m=\u001b[39m np\u001b[39m.\u001b[39mcov(complete_data[\u001b[39m'\u001b[39m\u001b[39mprec\u001b[39m\u001b[39m'\u001b[39m], rowvar\u001b[39m=\u001b[39m\u001b[39mFalse\u001b[39;00m)\n\u001b[1;32m---> <a href='vscode-notebook-cell:/f%3A/TESIS/Proyecto_mod_precipitacion/Codigos%20de%20Python/NoteNook_model_KNN.ipynb#Y126sZmlsZQ%3D%3D?line=10'>11</a>\u001b[0m inv_cov_matrix \u001b[39m=\u001b[39m np\u001b[39m.\u001b[39;49mlinalg\u001b[39m.\u001b[39;49minv(cov_matrix)\n\u001b[0;32m     <a href='vscode-notebook-cell:/f%3A/TESIS/Proyecto_mod_precipitacion/Codigos%20de%20Python/NoteNook_model_KNN.ipynb#Y126sZmlsZQ%3D%3D?line=12'>13</a>\u001b[0m \u001b[39m# Usar NearestNeighbors con distancia de Mahalanobis\u001b[39;00m\n\u001b[0;32m     <a href='vscode-notebook-cell:/f%3A/TESIS/Proyecto_mod_precipitacion/Codigos%20de%20Python/NoteNook_model_KNN.ipynb#Y126sZmlsZQ%3D%3D?line=13'>14</a>\u001b[0m neigh \u001b[39m=\u001b[39m NearestNeighbors(n_neighbors\u001b[39m=\u001b[39mn_neighbors, metric\u001b[39m=\u001b[39m\u001b[39m'\u001b[39m\u001b[39mmahalanobis\u001b[39m\u001b[39m'\u001b[39m, metric_params\u001b[39m=\u001b[39m{\u001b[39m'\u001b[39m\u001b[39mVI\u001b[39m\u001b[39m'\u001b[39m: inv_cov_matrix})\n",
      "File \u001b[1;32m<__array_function__ internals>:180\u001b[0m, in \u001b[0;36minv\u001b[1;34m(*args, **kwargs)\u001b[0m\n",
      "File \u001b[1;32mc:\\Users\\ronal\\AppData\\Local\\Programs\\Python\\Python310\\lib\\site-packages\\numpy\\linalg\\linalg.py:539\u001b[0m, in \u001b[0;36minv\u001b[1;34m(a)\u001b[0m\n\u001b[0;32m    478\u001b[0m \u001b[39m\"\"\"\u001b[39;00m\n\u001b[0;32m    479\u001b[0m \u001b[39mCompute the (multiplicative) inverse of a matrix.\u001b[39;00m\n\u001b[0;32m    480\u001b[0m \n\u001b[1;32m   (...)\u001b[0m\n\u001b[0;32m    536\u001b[0m \n\u001b[0;32m    537\u001b[0m \u001b[39m\"\"\"\u001b[39;00m\n\u001b[0;32m    538\u001b[0m a, wrap \u001b[39m=\u001b[39m _makearray(a)\n\u001b[1;32m--> 539\u001b[0m _assert_stacked_2d(a)\n\u001b[0;32m    540\u001b[0m _assert_stacked_square(a)\n\u001b[0;32m    541\u001b[0m t, result_t \u001b[39m=\u001b[39m _commonType(a)\n",
      "File \u001b[1;32mc:\\Users\\ronal\\AppData\\Local\\Programs\\Python\\Python310\\lib\\site-packages\\numpy\\linalg\\linalg.py:196\u001b[0m, in \u001b[0;36m_assert_stacked_2d\u001b[1;34m(*arrays)\u001b[0m\n\u001b[0;32m    194\u001b[0m \u001b[39mfor\u001b[39;00m a \u001b[39min\u001b[39;00m arrays:\n\u001b[0;32m    195\u001b[0m     \u001b[39mif\u001b[39;00m a\u001b[39m.\u001b[39mndim \u001b[39m<\u001b[39m \u001b[39m2\u001b[39m:\n\u001b[1;32m--> 196\u001b[0m         \u001b[39mraise\u001b[39;00m LinAlgError(\u001b[39m'\u001b[39m\u001b[39m%d\u001b[39;00m\u001b[39m-dimensional array given. Array must be \u001b[39m\u001b[39m'\u001b[39m\n\u001b[0;32m    197\u001b[0m                 \u001b[39m'\u001b[39m\u001b[39mat least two-dimensional\u001b[39m\u001b[39m'\u001b[39m \u001b[39m%\u001b[39m a\u001b[39m.\u001b[39mndim)\n",
      "\u001b[1;31mLinAlgError\u001b[0m: 0-dimensional array given. Array must be at least two-dimensional"
     ]
    }
   ],
   "source": [
    "imputed_data = impute_precipitation_for_station_mahalanobis(data)\n",
    "print(imputed_data)"
   ]
  },
  {
   "cell_type": "code",
   "execution_count": 28,
   "metadata": {},
   "outputs": [
    {
     "ename": "NameError",
     "evalue": "name 'imputed_data' is not defined",
     "output_type": "error",
     "traceback": [
      "\u001b[1;31m---------------------------------------------------------------------------\u001b[0m",
      "\u001b[1;31mNameError\u001b[0m                                 Traceback (most recent call last)",
      "\u001b[1;32mf:\\TESIS\\Proyecto_mod_precipitacion\\Codigos de Python\\NoteNook_model_KNN.ipynb Cell 41\u001b[0m in \u001b[0;36m<cell line: 1>\u001b[1;34m()\u001b[0m\n\u001b[1;32m----> <a href='vscode-notebook-cell:/f%3A/TESIS/Proyecto_mod_precipitacion/Codigos%20de%20Python/NoteNook_model_KNN.ipynb#Y144sZmlsZQ%3D%3D?line=0'>1</a>\u001b[0m imputed_data\u001b[39m.\u001b[39minfo()\n",
      "\u001b[1;31mNameError\u001b[0m: name 'imputed_data' is not defined"
     ]
    }
   ],
   "source": [
    "imputed_data.info()"
   ]
  },
  {
   "cell_type": "code",
   "execution_count": null,
   "metadata": {},
   "outputs": [],
   "source": [
    "soloNAn=na_rows = imputed_data[imputed_data['prec'].isna()]\n",
    "soloNAn"
   ]
  },
  {
   "cell_type": "code",
   "execution_count": 21,
   "metadata": {},
   "outputs": [
    {
     "ename": "TypeError",
     "evalue": "'method' object is not subscriptable",
     "output_type": "error",
     "traceback": [
      "\u001b[1;31m---------------------------------------------------------------------------\u001b[0m",
      "\u001b[1;31mTypeError\u001b[0m                                 Traceback (most recent call last)",
      "Input \u001b[1;32mIn [21]\u001b[0m, in \u001b[0;36m<cell line: 1>\u001b[1;34m()\u001b[0m\n\u001b[1;32m----> 1\u001b[0m \u001b[43mdata\u001b[49m\u001b[38;5;241;43m.\u001b[39;49m\u001b[43mdescribe\u001b[49m\u001b[43m[\u001b[49m\u001b[38;5;124;43m'\u001b[39;49m\u001b[38;5;124;43mprec\u001b[39;49m\u001b[38;5;124;43m'\u001b[39;49m\u001b[43m]\u001b[49m\n\u001b[0;32m      2\u001b[0m summary \u001b[38;5;241m=\u001b[39m data[\u001b[38;5;124m'\u001b[39m\u001b[38;5;124mprec\u001b[39m\u001b[38;5;124m'\u001b[39m]\u001b[38;5;241m.\u001b[39mdescribe()\n\u001b[0;32m      3\u001b[0m \u001b[38;5;28mprint\u001b[39m(summary)\n",
      "\u001b[1;31mTypeError\u001b[0m: 'method' object is not subscriptable"
     ]
    }
   ],
   "source": [
    "\n",
    "data.describe['prec']\n",
    "summary = data['prec'].describe()\n",
    "print(summary)"
   ]
  },
  {
   "cell_type": "code",
   "execution_count": 31,
   "metadata": {},
   "outputs": [
    {
     "data": {
      "text/html": [
       "<div>\n",
       "<style scoped>\n",
       "    .dataframe tbody tr th:only-of-type {\n",
       "        vertical-align: middle;\n",
       "    }\n",
       "\n",
       "    .dataframe tbody tr th {\n",
       "        vertical-align: top;\n",
       "    }\n",
       "\n",
       "    .dataframe thead th {\n",
       "        text-align: right;\n",
       "    }\n",
       "</style>\n",
       "<table border=\"1\" class=\"dataframe\">\n",
       "  <thead>\n",
       "    <tr style=\"text-align: right;\">\n",
       "      <th></th>\n",
       "      <th>Date</th>\n",
       "      <th>prec</th>\n",
       "      <th>ID</th>\n",
       "      <th>LAT</th>\n",
       "      <th>LON</th>\n",
       "      <th>Year</th>\n",
       "      <th>Month</th>\n",
       "      <th>Day</th>\n",
       "    </tr>\n",
       "  </thead>\n",
       "  <tbody>\n",
       "    <tr>\n",
       "      <th>0</th>\n",
       "      <td>1983-06-09</td>\n",
       "      <td>6.8</td>\n",
       "      <td>32010010</td>\n",
       "      <td>2.562833</td>\n",
       "      <td>-74.103083</td>\n",
       "      <td>1983</td>\n",
       "      <td>6</td>\n",
       "      <td>9</td>\n",
       "    </tr>\n",
       "    <tr>\n",
       "      <th>1</th>\n",
       "      <td>1983-06-10</td>\n",
       "      <td>17.8</td>\n",
       "      <td>32010010</td>\n",
       "      <td>2.562833</td>\n",
       "      <td>-74.103083</td>\n",
       "      <td>1983</td>\n",
       "      <td>6</td>\n",
       "      <td>10</td>\n",
       "    </tr>\n",
       "    <tr>\n",
       "      <th>2</th>\n",
       "      <td>1983-06-11</td>\n",
       "      <td>0.0</td>\n",
       "      <td>32010010</td>\n",
       "      <td>2.562833</td>\n",
       "      <td>-74.103083</td>\n",
       "      <td>1983</td>\n",
       "      <td>6</td>\n",
       "      <td>11</td>\n",
       "    </tr>\n",
       "    <tr>\n",
       "      <th>3</th>\n",
       "      <td>1983-06-12</td>\n",
       "      <td>0.5</td>\n",
       "      <td>32010010</td>\n",
       "      <td>2.562833</td>\n",
       "      <td>-74.103083</td>\n",
       "      <td>1983</td>\n",
       "      <td>6</td>\n",
       "      <td>12</td>\n",
       "    </tr>\n",
       "    <tr>\n",
       "      <th>4</th>\n",
       "      <td>1983-06-13</td>\n",
       "      <td>6.9</td>\n",
       "      <td>32010010</td>\n",
       "      <td>2.562833</td>\n",
       "      <td>-74.103083</td>\n",
       "      <td>1983</td>\n",
       "      <td>6</td>\n",
       "      <td>13</td>\n",
       "    </tr>\n",
       "    <tr>\n",
       "      <th>...</th>\n",
       "      <td>...</td>\n",
       "      <td>...</td>\n",
       "      <td>...</td>\n",
       "      <td>...</td>\n",
       "      <td>...</td>\n",
       "      <td>...</td>\n",
       "      <td>...</td>\n",
       "      <td>...</td>\n",
       "    </tr>\n",
       "    <tr>\n",
       "      <th>656431</th>\n",
       "      <td>2014-07-14</td>\n",
       "      <td>0.1</td>\n",
       "      <td>35185010</td>\n",
       "      <td>4.260361</td>\n",
       "      <td>-72.564472</td>\n",
       "      <td>2014</td>\n",
       "      <td>7</td>\n",
       "      <td>14</td>\n",
       "    </tr>\n",
       "    <tr>\n",
       "      <th>656432</th>\n",
       "      <td>2014-07-15</td>\n",
       "      <td>9.8</td>\n",
       "      <td>35185010</td>\n",
       "      <td>4.260361</td>\n",
       "      <td>-72.564472</td>\n",
       "      <td>2014</td>\n",
       "      <td>7</td>\n",
       "      <td>15</td>\n",
       "    </tr>\n",
       "    <tr>\n",
       "      <th>656433</th>\n",
       "      <td>2014-07-16</td>\n",
       "      <td>0.0</td>\n",
       "      <td>35185010</td>\n",
       "      <td>4.260361</td>\n",
       "      <td>-72.564472</td>\n",
       "      <td>2014</td>\n",
       "      <td>7</td>\n",
       "      <td>16</td>\n",
       "    </tr>\n",
       "    <tr>\n",
       "      <th>656434</th>\n",
       "      <td>2014-07-17</td>\n",
       "      <td>4.5</td>\n",
       "      <td>35185010</td>\n",
       "      <td>4.260361</td>\n",
       "      <td>-72.564472</td>\n",
       "      <td>2014</td>\n",
       "      <td>7</td>\n",
       "      <td>17</td>\n",
       "    </tr>\n",
       "    <tr>\n",
       "      <th>656435</th>\n",
       "      <td>2014-07-18</td>\n",
       "      <td>0.0</td>\n",
       "      <td>35185010</td>\n",
       "      <td>4.260361</td>\n",
       "      <td>-72.564472</td>\n",
       "      <td>2014</td>\n",
       "      <td>7</td>\n",
       "      <td>18</td>\n",
       "    </tr>\n",
       "  </tbody>\n",
       "</table>\n",
       "<p>656436 rows × 8 columns</p>\n",
       "</div>"
      ],
      "text/plain": [
       "             Date  prec        ID       LAT        LON  Year  Month  Day\n",
       "0      1983-06-09   6.8  32010010  2.562833 -74.103083  1983      6    9\n",
       "1      1983-06-10  17.8  32010010  2.562833 -74.103083  1983      6   10\n",
       "2      1983-06-11   0.0  32010010  2.562833 -74.103083  1983      6   11\n",
       "3      1983-06-12   0.5  32010010  2.562833 -74.103083  1983      6   12\n",
       "4      1983-06-13   6.9  32010010  2.562833 -74.103083  1983      6   13\n",
       "...           ...   ...       ...       ...        ...   ...    ...  ...\n",
       "656431 2014-07-14   0.1  35185010  4.260361 -72.564472  2014      7   14\n",
       "656432 2014-07-15   9.8  35185010  4.260361 -72.564472  2014      7   15\n",
       "656433 2014-07-16   0.0  35185010  4.260361 -72.564472  2014      7   16\n",
       "656434 2014-07-17   4.5  35185010  4.260361 -72.564472  2014      7   17\n",
       "656435 2014-07-18   0.0  35185010  4.260361 -72.564472  2014      7   18\n",
       "\n",
       "[656436 rows x 8 columns]"
      ]
     },
     "execution_count": 31,
     "metadata": {},
     "output_type": "execute_result"
    }
   ],
   "source": [
    "data"
   ]
  },
  {
   "cell_type": "code",
   "execution_count": 27,
   "metadata": {},
   "outputs": [
    {
     "name": "stdout",
     "output_type": "stream",
     "text": [
      "<class 'pandas.core.frame.DataFrame'>\n",
      "RangeIndex: 656436 entries, 0 to 656435\n",
      "Data columns (total 8 columns):\n",
      " #   Column  Non-Null Count   Dtype         \n",
      "---  ------  --------------   -----         \n",
      " 0   Date    656436 non-null  datetime64[ns]\n",
      " 1   prec    592124 non-null  float64       \n",
      " 2   ID      656436 non-null  int64         \n",
      " 3   LAT     656436 non-null  float64       \n",
      " 4   LON     656436 non-null  float64       \n",
      " 5   Year    656436 non-null  int64         \n",
      " 6   Month   656436 non-null  int64         \n",
      " 7   Day     656436 non-null  int64         \n",
      "dtypes: datetime64[ns](1), float64(3), int64(4)\n",
      "memory usage: 40.1 MB\n",
      "None\n",
      "             prec                                                      \\\n",
      "            count       mean        std  min  25%  50%     75%    max   \n",
      "ID                                                                      \n",
      "32010010   9891.0   7.182105  14.105547  0.0  0.0  0.0   8.000  147.0   \n",
      "32020020   7963.0  10.499171  18.272050  0.0  0.0  2.0  14.000  185.0   \n",
      "32030020  10851.0   8.560511  16.159632  0.0  0.0  0.0  11.000  190.0   \n",
      "32035010  12023.0   7.206188  14.132236  0.0  0.0  0.2   8.100  189.0   \n",
      "32035020   9681.0   7.830792  14.279337  0.0  0.0  1.0  10.000  139.0   \n",
      "32060020  11857.0   8.617104  17.349691  0.0  0.0  0.0  10.000  180.0   \n",
      "32060030  13257.0  13.341857  22.436369  0.0  0.0  3.0  18.000  182.0   \n",
      "32060060  12155.0  13.914249  24.247011  0.0  0.0  0.0  19.000  250.0   \n",
      "32060090   8087.0  17.046173  26.567739  0.0  0.0  4.5  24.000  287.0   \n",
      "32060100   5385.0  18.590065  25.260762  0.0  1.0  8.0  27.000  193.0   \n",
      "32065010   9623.0  10.355679  18.436579  0.0  0.0  2.0  12.150  205.2   \n",
      "32070010  12406.0   7.804232  16.688043  0.0  0.0  0.0   9.000  165.0   \n",
      "32070020  12453.0   6.790741  15.432075  0.0  0.0  0.0   6.000  200.0   \n",
      "32070030  11997.0   8.601400  16.812224  0.0  0.0  0.0  10.000  160.0   \n",
      "32070040  12461.0   7.586422  15.675572  0.0  0.0  0.0   9.000  325.0   \n",
      "32070060  13164.0   7.501922  15.743940  0.0  0.0  0.0   9.000  236.0   \n",
      "32070080  11684.0   7.190123  15.079258  0.0  0.0  0.0   7.000  135.0   \n",
      "32070090  10141.0   9.698688  18.952247  0.0  0.0  0.0  11.000  174.1   \n",
      "32070100  11839.0   7.962294  15.999327  0.0  0.0  0.0   9.000  174.0   \n",
      "32070110   9453.0   7.844578  16.065007  0.0  0.0  0.0   8.000  224.0   \n",
      "32070120   7910.0  10.714526  18.344228  0.0  0.0  1.0  14.000  170.1   \n",
      "32075030  10612.0   7.700867  15.661779  0.0  0.0  0.4   8.000  170.0   \n",
      "32075040  12090.0   7.624227  16.037267  0.0  0.0  0.2   8.000  231.0   \n",
      "32075050  10732.0   8.317602  15.134813  0.0  0.0  1.0  10.000  150.0   \n",
      "32075060   6815.0   6.538122  14.308351  0.0  0.0  0.0   6.200  145.0   \n",
      "32075080   8572.0   7.491881  15.687647  0.0  0.0  0.0   7.425  195.0   \n",
      "32080010  12986.0   7.557839  15.562992  0.0  0.0  0.0   9.000  145.0   \n",
      "32090010  10899.0   7.860446  16.160737  0.0  0.0  0.0   9.000  322.0   \n",
      "32120010   7740.0   7.674651  16.139604  0.0  0.0  0.0   8.000  145.0   \n",
      "33035010  11048.0   7.143130  15.398428  0.0  0.0  0.0   7.000  147.0   \n",
      "35010010  12900.0   6.792124  16.146469  0.0  0.0  0.0   5.000  170.0   \n",
      "35010020  13081.0  12.587577  21.431763  0.0  0.0  1.9  17.000  170.0   \n",
      "35010040  12828.0  14.231275  23.277216  0.0  0.0  3.0  20.000  225.0   \n",
      "35010060  13098.0   7.026760  16.872183  0.0  0.0  0.0   5.000  182.2   \n",
      "35010070  12905.0  11.435312  20.495570  0.0  0.0  1.0  15.000  145.0   \n",
      "35010080  13074.0   6.804895  15.212712  0.0  0.0  0.0   7.000  187.0   \n",
      "35010090  13122.0   8.907918  17.825982  0.0  0.0  0.0  10.000  230.0   \n",
      "35010150   3302.0   7.353422  16.508107  0.0  0.0  0.0   6.000  145.0   \n",
      "35010230   6710.0   7.620417  16.855791  0.0  0.0  0.0   8.000  150.0   \n",
      "35015050   8185.0   7.098742  15.622103  0.0  0.0  0.0   6.600  175.0   \n",
      "35020060  13226.0   7.179261  16.031766  0.0  0.0  0.0   6.000  223.0   \n",
      "35025020  12375.0   8.191935  16.944251  0.0  0.0  0.3   8.300  298.0   \n",
      "35030020  11949.0  16.729074  24.723773  0.0  0.0  6.0  24.000  185.0   \n",
      "35030050  12295.0   8.199447  18.066884  0.0  0.0  0.0   8.000  345.0   \n",
      "35030370   2636.0  11.843665  20.893545  0.0  0.0  2.0  15.000  184.0   \n",
      "35030380   2036.0  13.439686  22.423188  0.0  0.0  2.4  18.500  215.0   \n",
      "35035010   7049.0   8.824216  17.825559  0.0  0.0  0.2   9.700  212.5   \n",
      "35035020  13326.0  12.286260  20.822888  0.0  0.0  2.3  16.100  206.8   \n",
      "35035070   9101.0  10.267245  18.951840  0.0  0.0  1.0  12.300  223.4   \n",
      "35045020  13007.0   9.299669  18.416715  0.0  0.0  0.6  10.000  235.0   \n",
      "35100020  13052.0   6.911745  16.517166  0.0  0.0  0.0   5.000  370.0   \n",
      "35105050   7905.0   6.983947  15.491729  0.0  0.0  0.0   7.000  172.0   \n",
      "35120010  12737.0   6.066005  14.636118  0.0  0.0  0.0   4.000  150.0   \n",
      "35125010  10620.0   6.221290  14.129540  0.0  0.0  0.0   5.000  153.5   \n",
      "35130010  12414.0   7.195223  15.718310  0.0  0.0  0.0   7.000  192.0   \n",
      "35180030  11344.0   6.693882  15.266653  0.0  0.0  0.0   6.525  200.0   \n",
      "35185010   2072.0   5.715347  16.024079  0.0  0.0  0.1   4.000  438.8   \n",
      "\n",
      "              LAT            ... Month            Day                       \\\n",
      "            count      mean  ...   75%   max    count       mean       std   \n",
      "ID                           ...                                             \n",
      "32010010  12076.0  2.562833  ...  10.0  12.0  12076.0  15.737330  8.798423   \n",
      "32020020   8523.0  3.243222  ...   9.0  12.0   8523.0  15.730377  8.800872   \n",
      "32030020  12046.0  2.322500  ...  10.0  12.0  12046.0  15.737921  8.798768   \n",
      "32035010  13300.0  2.176111  ...   9.0  12.0  13300.0  15.728271  8.799630   \n",
      "32035020  12046.0  2.438389  ...  10.0  12.0  12046.0  15.737921  8.798768   \n",
      "32060020  13331.0  3.530944  ...   9.0  12.0  13331.0  15.728903  8.799979   \n",
      "32060030  13331.0  3.790722  ...   9.0  12.0  13331.0  15.728903  8.799979   \n",
      "32060060  13240.0  3.742333  ...  10.0  12.0  13240.0  15.729305  8.800265   \n",
      "32060090  11868.0  3.576222  ...  10.0  12.0  11868.0  15.733569  8.799105   \n",
      "32060100   5588.0  3.792667  ...   9.0  12.0   5588.0  15.751074  8.799567   \n",
      "32065010   9649.0  3.533333  ...   9.0  12.0   9649.0  15.730127  8.800825   \n",
      "32070010  13331.0  3.200000  ...   9.0  12.0  13331.0  15.728903  8.799979   \n",
      "32070020  13301.0  3.250000  ...   9.0  12.0  13301.0  15.729419  8.800296   \n",
      "32070030  13331.0  3.316389  ...   9.0  12.0  13331.0  15.728903  8.799979   \n",
      "32070040  13331.0  2.983333  ...   9.0  12.0  13331.0  15.728903  8.799979   \n",
      "32070060  13301.0  3.466667  ...   9.0  12.0  13301.0  15.729419  8.800296   \n",
      "32070080  12010.0  3.087500  ...  10.0  12.0  12010.0  15.739217  8.799632   \n",
      "32070090  11891.0  3.316667  ...   9.0  12.0  11891.0  15.738121  8.798657   \n",
      "32070100  11901.0  3.375083  ...   9.0  12.0  11901.0  15.729519  8.800355   \n",
      "32070110   9648.0  3.472028  ...   9.0  12.0   9648.0  15.728648  8.800082   \n",
      "32070120   8263.0  3.456556  ...  10.0  12.0   8263.0  15.743677  8.801113   \n",
      "32075030  13330.0  3.120389  ...   9.0  12.0  13330.0  15.730008  8.799384   \n",
      "32075040  13133.0  3.516333  ...  10.0  12.0  13133.0  15.720171  8.800132   \n",
      "32075050  11810.0  3.380056  ...  10.0  12.0  11810.0  15.729975  8.800678   \n",
      "32075060   6961.0  3.366667  ...  10.0  12.0   6961.0  15.739980  8.795762   \n",
      "32075080   8866.0  3.267694  ...   9.0  12.0   8866.0  15.713851  8.800624   \n",
      "32080010  13270.0  2.943333  ...   9.0  12.0  13270.0  15.728787  8.799947   \n",
      "32090010  12024.0  2.889722  ...  10.0  12.0  12024.0  15.731038  8.801158   \n",
      "32120010  11894.0  3.734083  ...   9.0  12.0  11894.0  15.736422  8.798207   \n",
      "33035010  13331.0  4.574417  ...   9.0  12.0  13331.0  15.728903  8.799979   \n",
      "35010010  13331.0  4.105028  ...   9.0  12.0  13331.0  15.728903  8.799979   \n",
      "35010020  13301.0  3.994639  ...   9.0  12.0  13301.0  15.729419  8.800296   \n",
      "35010040  13331.0  3.924222  ...   9.0  12.0  13331.0  15.728903  8.799979   \n",
      "35010060  13301.0  3.786667  ...   9.0  12.0  13301.0  15.729419  8.800296   \n",
      "35010070  13270.0  3.878333  ...   9.0  12.0  13270.0  15.728787  8.799947   \n",
      "35010080  13301.0  3.793889  ...   9.0  12.0  13301.0  15.729419  8.800296   \n",
      "35010090  13331.0  3.750278  ...   9.0  12.0  13331.0  15.728903  8.799979   \n",
      "35010150   4597.0  3.883333  ...   9.0  12.0   4597.0  15.732434  8.802332   \n",
      "35010230  12082.0  3.984639  ...  10.0  12.0  12082.0  15.732246  8.799277   \n",
      "35015050   8823.0  3.630778  ...  10.0  12.0   8823.0  15.735804  8.798090   \n",
      "35020060  13301.0  4.039750  ...   9.0  12.0  13301.0  15.729419  8.800296   \n",
      "35025020  13331.0  4.057361  ...   9.0  12.0  13331.0  15.728903  8.799979   \n",
      "35030020  13293.0  4.310083  ...   9.0  12.0  13293.0  15.722335  8.798023   \n",
      "35030050  13270.0  4.091139  ...   9.0  12.0  13270.0  15.728787  8.799947   \n",
      "35030370   3698.0  4.137389  ...   9.0  12.0   3698.0  15.763115  8.803055   \n",
      "35030380   2465.0  4.144083  ...  10.0  12.0   2465.0  15.726978  8.800394   \n",
      "35035010  13180.0  4.077111  ...  10.0  12.0  13180.0  15.730273  8.800778   \n",
      "35035020  13331.0  4.161919  ...   9.0  12.0  13331.0  15.728903  8.799979   \n",
      "35035070  11900.0  4.076722  ...  10.0  12.0  11900.0  15.730756  8.799689   \n",
      "35045020  13301.0  4.300444  ...   9.0  12.0  13301.0  15.729419  8.800296   \n",
      "35100020  13240.0  4.283722  ...  10.0  12.0  13240.0  15.729305  8.800265   \n",
      "35105050   8297.0  4.468667  ...  10.0  12.0   8297.0  15.742196  8.798557   \n",
      "35120010  13331.0  4.311389  ...   9.0  12.0  13331.0  15.728903  8.799979   \n",
      "35125010  13240.0  4.340556  ...  10.0  12.0  13240.0  15.729305  8.800265   \n",
      "35130010  13331.0  3.956083  ...   9.0  12.0  13331.0  15.728903  8.799979   \n",
      "35180030  12084.0  4.327722  ...  10.0  12.0  12084.0  15.729891  8.800455   \n",
      "35185010   3250.0  4.260361  ...  10.0  12.0   3250.0  15.715385  8.803902   \n",
      "\n",
      "                                      \n",
      "          min  25%   50%   75%   max  \n",
      "ID                                    \n",
      "32010010  1.0  8.0  16.0  23.0  31.0  \n",
      "32020020  1.0  8.0  16.0  23.0  31.0  \n",
      "32030020  1.0  8.0  16.0  23.0  31.0  \n",
      "32035010  1.0  8.0  16.0  23.0  31.0  \n",
      "32035020  1.0  8.0  16.0  23.0  31.0  \n",
      "32060020  1.0  8.0  16.0  23.0  31.0  \n",
      "32060030  1.0  8.0  16.0  23.0  31.0  \n",
      "32060060  1.0  8.0  16.0  23.0  31.0  \n",
      "32060090  1.0  8.0  16.0  23.0  31.0  \n",
      "32060100  1.0  8.0  16.0  23.0  31.0  \n",
      "32065010  1.0  8.0  16.0  23.0  31.0  \n",
      "32070010  1.0  8.0  16.0  23.0  31.0  \n",
      "32070020  1.0  8.0  16.0  23.0  31.0  \n",
      "32070030  1.0  8.0  16.0  23.0  31.0  \n",
      "32070040  1.0  8.0  16.0  23.0  31.0  \n",
      "32070060  1.0  8.0  16.0  23.0  31.0  \n",
      "32070080  1.0  8.0  16.0  23.0  31.0  \n",
      "32070090  1.0  8.0  16.0  23.0  31.0  \n",
      "32070100  1.0  8.0  16.0  23.0  31.0  \n",
      "32070110  1.0  8.0  16.0  23.0  31.0  \n",
      "32070120  1.0  8.0  16.0  23.0  31.0  \n",
      "32075030  1.0  8.0  16.0  23.0  31.0  \n",
      "32075040  1.0  8.0  16.0  23.0  31.0  \n",
      "32075050  1.0  8.0  16.0  23.0  31.0  \n",
      "32075060  1.0  8.0  16.0  23.0  31.0  \n",
      "32075080  1.0  8.0  16.0  23.0  31.0  \n",
      "32080010  1.0  8.0  16.0  23.0  31.0  \n",
      "32090010  1.0  8.0  16.0  23.0  31.0  \n",
      "32120010  1.0  8.0  16.0  23.0  31.0  \n",
      "33035010  1.0  8.0  16.0  23.0  31.0  \n",
      "35010010  1.0  8.0  16.0  23.0  31.0  \n",
      "35010020  1.0  8.0  16.0  23.0  31.0  \n",
      "35010040  1.0  8.0  16.0  23.0  31.0  \n",
      "35010060  1.0  8.0  16.0  23.0  31.0  \n",
      "35010070  1.0  8.0  16.0  23.0  31.0  \n",
      "35010080  1.0  8.0  16.0  23.0  31.0  \n",
      "35010090  1.0  8.0  16.0  23.0  31.0  \n",
      "35010150  1.0  8.0  16.0  23.0  31.0  \n",
      "35010230  1.0  8.0  16.0  23.0  31.0  \n",
      "35015050  1.0  8.0  16.0  23.0  31.0  \n",
      "35020060  1.0  8.0  16.0  23.0  31.0  \n",
      "35025020  1.0  8.0  16.0  23.0  31.0  \n",
      "35030020  1.0  8.0  16.0  23.0  31.0  \n",
      "35030050  1.0  8.0  16.0  23.0  31.0  \n",
      "35030370  1.0  8.0  16.0  23.0  31.0  \n",
      "35030380  1.0  8.0  16.0  23.0  31.0  \n",
      "35035010  1.0  8.0  16.0  23.0  31.0  \n",
      "35035020  1.0  8.0  16.0  23.0  31.0  \n",
      "35035070  1.0  8.0  16.0  23.0  31.0  \n",
      "35045020  1.0  8.0  16.0  23.0  31.0  \n",
      "35100020  1.0  8.0  16.0  23.0  31.0  \n",
      "35105050  1.0  8.0  16.0  23.0  31.0  \n",
      "35120010  1.0  8.0  16.0  23.0  31.0  \n",
      "35125010  1.0  8.0  16.0  23.0  31.0  \n",
      "35130010  1.0  8.0  16.0  23.0  31.0  \n",
      "35180030  1.0  8.0  16.0  23.0  31.0  \n",
      "35185010  1.0  8.0  16.0  23.0  31.0  \n",
      "\n",
      "[57 rows x 48 columns]\n"
     ]
    }
   ],
   "source": [
    "print(data.info())\n",
    "#agrupada por id que sacar el resumen por estaciones \n",
    "print(data.groupby('ID').describe())\n",
    "#Después de la imputación, analizaré el \n",
    "descriptivas = data.groupby('ID').describe()"
   ]
  },
  {
   "cell_type": "code",
   "execution_count": 30,
   "metadata": {},
   "outputs": [],
   "source": [
    "# Resetear el índice para convertirlo en una columna regular del DataFrame\n",
    "descriptivas_reset = descriptivas.reset_index()\n",
    "\n",
    "# Aplanar las columnas MultiIndex, si es necesario\n",
    "# Esto es solo necesario si tus columnas son MultiIndex después de resetear el índice\n",
    "descriptivas_reset.columns = [' '.join(col).strip() for col in descriptivas_reset.columns.values]\n",
    "\n",
    "# Guardar el DataFrame en un archivo Excel, incluyendo la nueva columna de índice como una columna regular\n",
    "descriptivas_reset.to_excel('descriptivas.xlsx', index=False, engine='openpyxl')\n"
   ]
  },
  {
   "cell_type": "code",
   "execution_count": 34,
   "metadata": {},
   "outputs": [],
   "source": [
    "# Agrupar por año y sumar la precipitación\n",
    "annual_precipitation = data.groupby('Year')['prec'].sum().reset_index()\n",
    "\n",
    "# Encontrar los años con mayor precipitación\n",
    "max_annual_precipitation = annual_precipitation.sort_values(by='prec', ascending=False)\n",
    "\n",
    "# Agrupar por año y mes, y sumar la precipitación\n",
    "monthly_precipitation = data.groupby(['Year', 'Month'])['prec'].sum().reset_index()\n",
    "\n",
    "# Encontrar los períodos de mes con mayor precipitación\n",
    "max_monthly_precipitation = monthly_precipitation.sort_values(by='prec', ascending=False)\n",
    "\n",
    "max_annual_precipitation, max_monthly_precipitation\n",
    "\n",
    "\n",
    "\n",
    "# Guardar el DataFrame en un archivo Excel, incluyendo la nueva columna de índice como una columna regular\n",
    "max_annual_precipitation.to_excel('max_annual_precipitation.xlsx', index=False, engine='openpyxl')"
   ]
  },
  {
   "cell_type": "code",
   "execution_count": 35,
   "metadata": {},
   "outputs": [],
   "source": [
    "max_monthly_precipitation\n",
    "\n",
    "# Guardar el DataFrame en un archivo Excel, incluyendo la nueva columna de índice como una columna regular\n",
    "max_monthly_precipitation.to_excel('max_monthly_precipitation.xlsx', index=False, engine='openpyxl')"
   ]
  },
  {
   "cell_type": "code",
   "execution_count": 23,
   "metadata": {},
   "outputs": [],
   "source": [
    "import numpy as np\n",
    "import pandas as pd\n",
    "import matplotlib.pyplot as plt\n",
    "import seaborn as sns\n",
    "\n"
   ]
  },
  {
   "cell_type": "code",
   "execution_count": 28,
   "metadata": {},
   "outputs": [
    {
     "data": {
      "image/png": "[encoded data removed]",
      "text/plain": [
       "<Figure size 1728x864 with 1 Axes>"
      ]
     },
     "metadata": {
      "needs_background": "light"
     },
     "output_type": "display_data"
    }
   ],
   "source": [
    "# Crear una figura y un conjunto de ejes en matplotlib\n",
    "fig, ax = plt.subplots(figsize=(24, 12))\n",
    "\n",
    "# Crear el gráfico de cajas con seaborn\n",
    "sns.boxplot(x=data['Year'], y='prec', data=data, ax=ax)\n",
    "\n",
    "# Personalizar las etiquetas y el aspecto del gráfico\n",
    "ax.set_xlabel(\"year\")\n",
    "ax.set_ylabel(\"Precipitación\")\n",
    "ax.set_title(\"Gráfico de cajas de la precipitación por Año\")\n",
    "plt.xticks(rotation=45)\n",
    "ax.grid(axis='y')\n",
    "\n",
    "# Mostrar el gráfico\n",
    "plt.show()\n"
   ]
  },
  {
   "cell_type": "code",
   "execution_count": 38,
   "metadata": {},
   "outputs": [
    {
     "data": {
      "image/png": "[encoded data removed]",
      "text/plain": [
       "<Figure size 432x288 with 1 Axes>"
      ]
     },
     "metadata": {},
     "output_type": "display_data"
    }
   ],
   "source": [
    "sns.boxplot(data=data_normalized[['prec', 'LAT', 'LON']], palette=\"Set3\")\n",
    "# Etiquetas personalizadas\n",
    "plt.xlabel(\"Variables\")\n",
    "plt.ylabel(\"Valores normalizados\")\n",
    "plt.title(\"Gráfico de cajas de la dispersión de los datos normalizados\")\n",
    "\n",
    "# Mostrar el gráfico\n",
    "plt.show()"
   ]
  },
  {
   "cell_type": "code",
   "execution_count": null,
   "metadata": {},
   "outputs": [],
   "source": []
  },
  {
   "attachments": {},
   "cell_type": "markdown",
   "metadata": {},
   "source": [
    "### Evaluacion del modelo\n"
   ]
  },
  {
   "cell_type": "code",
   "execution_count": null,
   "metadata": {},
   "outputs": [],
   "source": [
    "import pandas as pd\n",
    "import numpy as np\n",
    "from sklearn.impute import KNNImputer\n",
    "from sklearn.metrics import mean_squared_error, r2_score, mean_absolute_error\n",
    "from sklearn.model_selection import train_test_split"
   ]
  },
  {
   "cell_type": "code",
   "execution_count": null,
   "metadata": {},
   "outputs": [],
   "source": []
  },
  {
   "attachments": {},
   "cell_type": "markdown",
   "metadata": {},
   "source": [
    "Codigo para intentar evualar\n"
   ]
  },
  {
   "cell_type": "code",
   "execution_count": null,
   "metadata": {},
   "outputs": [],
   "source": [
    "# Dividir los datos en conjuntos de entrenamiento y prueba usando solo la columna 'prec'\n",
    "train_data, test_data = train_test_split(data, test_size=0.2, random_state=42, stratify=data['ID'])\n",
    "\n",
    "# Realizar la imputación en todo el conjunto de datos de entrenamiento\n",
    "imputed_train_data = impute_precipitation_parallel(train_data)\n",
    "\n",
    "# Realizar la imputación en todo el conjunto de datos de prueba\n",
    "imputed_test_data = impute_precipitation_parallel(test_data)\n",
    "\n",
    "# Calcular el rendimiento de la imputación para cada estación en el conjunto de prueba\n",
    "# Calcular el rendimiento de la imputación para cada estación en el conjunto de prueba\n",
    "evaluation_results = {}\n",
    "for station_id in test_data['ID'].unique():\n",
    "    station_test_data = imputed_test_data[imputed_test_data['ID'] == station_id]\n",
    "    \n",
    "    # Filtrar solo las filas que contienen valores imputados en la columna 'prec'\n",
    "    imputed_rows = station_test_data[station_test_data['prec'].isna()]\n",
    "    \n",
    "    if not imputed_rows.empty:\n",
    "        # Combinar el conjunto de datos imputado con el conjunto de datos original de prueba para recuperar los valores reales\n",
    "        real_and_imputed = imputed_rows[['ID', 'Date', 'prec_imputed']].merge(test_data[['ID', 'Date', 'prec']], on=['ID', 'Date'], how='left')\n",
    "\n",
    "        # Eliminar filas con valores NaN en 'prec_imputed' o 'prec'\n",
    "        real_and_imputed = real_and_imputed.dropna(subset=['prec_imputed', 'prec'])\n",
    "        \n",
    "        if not real_and_imputed.empty:\n",
    "            # Comparar los valores imputados con los valores originales en el conjunto de prueba\n",
    "            imputed_values = real_and_imputed['prec_imputed']\n",
    "            real_values = real_and_imputed['prec']\n",
    "            \n",
    "            # Evaluar el rendimiento de la imputación\n",
    "            rmse, r2, mae = evaluate_imputation_performance(real_values, imputed_values)\n",
    "            \n",
    "            evaluation_results[station_id] = {\n",
    "                'RMSE': rmse,\n",
    "                'R2': r2,\n",
    "                'MAE': mae\n",
    "            }\n",
    "        else:\n",
    "            evaluation_results[station_id] = {\n",
    "                'RMSE': None,\n",
    "                'R2': None,\n",
    "                'MAE': None\n",
    "            }\n",
    "    else:\n",
    "        evaluation_results[station_id] = {\n",
    "            'RMSE': None,\n",
    "            'R2': None,\n",
    "            'MAE': None\n",
    "        }\n",
    "\n",
    "# Imprimir los resultados de la evaluación\n",
    "for station_id, performance in evaluation_results.items():\n",
    "    print(f\"Estación {station_id}:\")\n",
    "    if performance['RMSE'] is not None:\n",
    "        print(f\"  RMSE: {performance['RMSE']:.3f}\")\n",
    "        print(f\"  R2: {performance['R2']:.3f}\")\n",
    "        print(f\"  MAE: {performance['MAE']:.3f}\")\n",
    "    else:\n",
    "        print(\"  No hay valores faltantes en los datos de prueba para esta estación.\")\n",
    "    print()\n",
    "\n",
    "\n",
    "data.info()\n",
    "\n",
    "\n",
    "from sklearn.metrics import mean_squared_error, mean_absolute_error\n",
    "from sklearn.model_selection import train_test_split\n",
    "\n",
    "# Dividir el conjunto de datos en conjuntos de entrenamiento y prueba\n",
    "train_data, test_data = train_test_split(data, test_size=0.2, random_state=42)\n",
    "\n",
    "# Aplicar KNNImputer en todo el conjunto de datos de entrenamiento\n",
    "imputed_train_data = impute_precipitation_parallel(train_data)\n",
    "\n",
    "# Aplicar KNNImputer en todo el conjunto de datos de prueba\n",
    "imputed_test_data = impute_precipitation_parallel(test_data)\n",
    "\n",
    "# Filtrar las filas del conjunto de prueba que originalmente tenían valores faltantes en 'prec'\n",
    "test_data_with_missing = test_data[test_data['prec'].isna()]\n",
    "\n",
    "# Obtener solo las filas correspondientes en el conjunto de datos imputados\n",
    "imputed_test_data_with_missing_values = imputed_test_data[imputed_test_data.index.isin(test_data_with_missing.index)]\n",
    "\n",
    "# Imprimir el conjunto de datos con valores imputados\n",
    "print(imputed_test_data_with_missing_values)\n",
    "\n",
    "# Comparar los valores imputados con los valores reales en 'prec' para calcular RMSE y MAE\n",
    "y_true = test_data_with_missing['prec']\n",
    "y_pred = imputed_test_data_with_missing_values.loc[y_true.index, 'prec_imputed']\n",
    "\n",
    "rmse = np.sqrt(mean_squared_error(y_true, y_pred))\n",
    "mae = mean_absolute_error(y_true, y_pred)\n",
    "\n",
    "print(\"RMSE:\", rmse)\n",
    "print(\"MAE:\", mae)\n"
   ]
  },
  {
   "attachments": {},
   "cell_type": "markdown",
   "metadata": {},
   "source": [
    "Intento de evaluacion"
   ]
  },
  {
   "cell_type": "code",
   "execution_count": 43,
   "metadata": {},
   "outputs": [
    {
     "name": "stdout",
     "output_type": "stream",
     "text": [
      "<class 'pandas.core.frame.DataFrame'>\n",
      "Int64Index: 592124 entries, 0 to 656435\n",
      "Data columns (total 5 columns):\n",
      " #   Column  Non-Null Count   Dtype  \n",
      "---  ------  --------------   -----  \n",
      " 0   Date    592124 non-null  object \n",
      " 1   prec    592124 non-null  float64\n",
      " 2   ID      592124 non-null  int64  \n",
      " 3   LAT     592124 non-null  float64\n",
      " 4   LON     592124 non-null  float64\n",
      "dtypes: float64(3), int64(1), object(1)\n",
      "memory usage: 27.1+ MB\n"
     ]
    }
   ],
   "source": [
    "datosmetacomople = data.dropna()\n",
    "datosmetacomople.info()"
   ]
  },
  {
   "cell_type": "code",
   "execution_count": 53,
   "metadata": {},
   "outputs": [
    {
     "name": "stderr",
     "output_type": "stream",
     "text": [
      "C:\\Users\\ronal\\AppData\\Local\\Temp\\ipykernel_18436\\2071428723.py:24: SettingWithCopyWarning: \n",
      "A value is trying to be set on a copy of a slice from a DataFrame.\n",
      "Try using .loc[row_indexer,col_indexer] = value instead\n",
      "\n",
      "See the caveats in the documentation: https://pandas.pydata.org/pandas-docs/stable/user_guide/indexing.html#returning-a-view-versus-a-copy\n",
      "  datosmetacomople['Date'] = pd.to_datetime(datosmetacomople['Date'])\n"
     ]
    }
   ],
   "source": [
    "datosmetacomople = data.dropna()\n",
    "from joblib import Parallel, delayed\n",
    "from sklearn.impute import KNNImputer\n",
    "import pandas as pd\n",
    "import numpy as np\n",
    "from sklearn.metrics import mean_squared_error, r2_score, mean_absolute_error\n",
    "\n",
    "\n",
    "def impute_precipitation_for_station(station_data, columns=['prec'], n_neighbors=5):\n",
    "    imputer = KNNImputer(n_neighbors=n_neighbors)\n",
    "    station_data_imputed = imputer.fit_transform(station_data[columns])\n",
    "    station_data['prec_imputed'] = station_data_imputed[:, 0]\n",
    "    return station_data\n",
    "\n",
    "def impute_precipitation_parallel(data, n_jobs=5, columns=['prec']):\n",
    "    stations = data['ID'].unique()\n",
    "    results = Parallel(n_jobs=n_jobs)(\n",
    "        delayed(impute_precipitation_for_station)(data[data['ID'] == station], columns=columns) for station in stations\n",
    "    )\n",
    "    imputed_data = pd.concat(results, ignore_index=True)\n",
    "    return imputed_data\n",
    "\n",
    "# Cargar y procesar los datos\n",
    "datosmetacomople['Date'] = pd.to_datetime(datosmetacomople['Date'])\n",
    "\n",
    "# Introducir valores faltantes aleatoriamente en la columna 'prec'\n",
    "data_with_missing_values = generate_missing_data(datosmetacomople)\n",
    "\n",
    "# Realizar la imputación en todo el conjunto de datos con valores faltantes\n",
    "imputed_data = impute_precipitation_parallel(data_with_missing_values)\n",
    "\n",
    "def evaluate_imputation_performance(real_values, imputed_values):\n",
    "    rmse = np.sqrt(mean_squared_error(real_values, imputed_values))\n",
    "    r2 = r2_score(real_values, imputed_values)\n",
    "    mae = mean_absolute_error(real_values, imputed_values)\n",
    "    return rmse, r2, mae\n",
    "\n",
    "# Calcular el rendimiento de la imputación para cada estación\n",
    "evaluation_results = {}\n",
    "for station_id in datosmetacomople['ID'].unique():\n",
    "    station_data = imputed_data[imputed_data['ID'] == station_id]\n",
    "\n",
    "    # Filtrar solo las filas que contienen valores imputados en la columna 'prec'\n",
    "    imputed_rows = station_data[station_data['prec'].isna()]\n",
    "\n",
    "    if not imputed_rows.empty:\n",
    "        # Combinar el conjunto de datos imputado con el conjunto de datos original para recuperar los valores reales\n",
    "        real_and_imputed = imputed_rows[['ID', 'Date', 'prec_imputed']].merge(datosmetacomople[['ID', 'Date', 'prec']], on=['ID', 'Date'], how='left')\n",
    "\n",
    "        # Eliminar filas con valores NaN en 'prec_imputed' o 'prec'\n",
    "        real_and_imputed = real_and_imputed.dropna(subset=['prec_imputed', 'prec'])\n",
    "\n",
    "        if not real_and_imputed.empty:\n",
    "            # Comparar los valores imputados con los valores originales\n",
    "            imputed_values = real_and_imputed['prec_imputed']\n",
    "            real_values = real_and_imputed['prec']\n",
    "\n",
    "            # Evaluar el rendimiento de la imputación\n",
    "            rmse, r2, mae = evaluate_imputation_performance(real_values, imputed_values)\n",
    "            evaluation_results[station_id] = {\n",
    "                'RMSE': rmse,\n",
    "                'R2': r2,\n",
    "                'MAE': mae\n",
    "            }"
   ]
  },
  {
   "cell_type": "code",
   "execution_count": 59,
   "metadata": {},
   "outputs": [
    {
     "name": "stdout",
     "output_type": "stream",
     "text": [
      "ID de Estación 32010010:\n",
      "  RMSE: 14.153\n",
      "  R2: -0.000\n",
      "  MAE: 9.153\n",
      "\n",
      "ID de Estación 32020020:\n",
      "  RMSE: 19.156\n",
      "  R2: -0.001\n",
      "  MAE: 12.829\n",
      "\n",
      "ID de Estación 32030020:\n",
      "  RMSE: 16.335\n",
      "  R2: -0.000\n",
      "  MAE: 11.067\n",
      "\n",
      "ID de Estación 32035010:\n",
      "  RMSE: 14.936\n",
      "  R2: -0.000\n",
      "  MAE: 9.532\n",
      "\n",
      "ID de Estación 32035020:\n",
      "  RMSE: 14.923\n",
      "  R2: -0.001\n",
      "  MAE: 9.732\n",
      "\n",
      "ID de Estación 32060020:\n",
      "  RMSE: 17.453\n",
      "  R2: -0.000\n",
      "  MAE: 11.447\n",
      "\n",
      "ID de Estación 32060030:\n",
      "  RMSE: 22.519\n",
      "  R2: -0.000\n",
      "  MAE: 15.669\n",
      "\n",
      "ID de Estación 32060060:\n",
      "  RMSE: 23.731\n",
      "  R2: -0.002\n",
      "  MAE: 16.492\n",
      "\n",
      "ID de Estación 32060090:\n",
      "  RMSE: 29.031\n",
      "  R2: -0.004\n",
      "  MAE: 20.283\n",
      "\n",
      "ID de Estación 32060100:\n",
      "  RMSE: 26.283\n",
      "  R2: -0.000\n",
      "  MAE: 18.547\n",
      "\n",
      "ID de Estación 32065010:\n",
      "  RMSE: 19.285\n",
      "  R2: -0.000\n",
      "  MAE: 12.653\n",
      "\n",
      "ID de Estación 32070010:\n",
      "  RMSE: 17.195\n",
      "  R2: -0.000\n",
      "  MAE: 10.559\n",
      "\n",
      "ID de Estación 32070020:\n",
      "  RMSE: 14.949\n",
      "  R2: -0.000\n",
      "  MAE: 9.635\n",
      "\n",
      "ID de Estación 32070030:\n",
      "  RMSE: 16.251\n",
      "  R2: -0.000\n",
      "  MAE: 11.227\n",
      "\n",
      "ID de Estación 32070040:\n",
      "  RMSE: 13.335\n",
      "  R2: -0.007\n",
      "  MAE: 9.438\n",
      "\n",
      "ID de Estación 32070060:\n",
      "  RMSE: 15.976\n",
      "  R2: -0.001\n",
      "  MAE: 10.451\n",
      "\n",
      "ID de Estación 32070080:\n",
      "  RMSE: 14.516\n",
      "  R2: -0.000\n",
      "  MAE: 9.653\n",
      "\n",
      "ID de Estación 32070090:\n",
      "  RMSE: 18.775\n",
      "  R2: -0.001\n",
      "  MAE: 12.646\n",
      "\n",
      "ID de Estación 32070100:\n",
      "  RMSE: 14.860\n",
      "  R2: -0.003\n",
      "  MAE: 9.770\n",
      "\n",
      "ID de Estación 32070110:\n",
      "  RMSE: 16.732\n",
      "  R2: -0.000\n",
      "  MAE: 10.534\n",
      "\n",
      "ID de Estación 32070120:\n",
      "  RMSE: 17.569\n",
      "  R2: -0.000\n",
      "  MAE: 12.474\n",
      "\n",
      "ID de Estación 32075030:\n",
      "  RMSE: 15.911\n",
      "  R2: -0.001\n",
      "  MAE: 10.089\n",
      "\n",
      "ID de Estación 32075040:\n",
      "  RMSE: 14.804\n",
      "  R2: -0.001\n",
      "  MAE: 9.689\n",
      "\n",
      "ID de Estación 32075050:\n",
      "  RMSE: 15.802\n",
      "  R2: -0.001\n",
      "  MAE: 10.596\n",
      "\n",
      "ID de Estación 32075060:\n",
      "  RMSE: 13.189\n",
      "  R2: -0.000\n",
      "  MAE: 8.847\n",
      "\n",
      "ID de Estación 32075080:\n",
      "  RMSE: 15.883\n",
      "  R2: -0.000\n",
      "  MAE: 9.987\n",
      "\n",
      "ID de Estación 32080010:\n",
      "  RMSE: 16.292\n",
      "  R2: -0.001\n",
      "  MAE: 10.606\n",
      "\n",
      "ID de Estación 32090010:\n",
      "  RMSE: 14.741\n",
      "  R2: -0.002\n",
      "  MAE: 10.234\n",
      "\n",
      "ID de Estación 32120010:\n",
      "  RMSE: 14.810\n",
      "  R2: -0.001\n",
      "  MAE: 10.141\n",
      "\n",
      "ID de Estación 33035010:\n",
      "  RMSE: 15.882\n",
      "  R2: -0.000\n",
      "  MAE: 9.814\n",
      "\n",
      "ID de Estación 35010010:\n",
      "  RMSE: 17.115\n",
      "  R2: -0.000\n",
      "  MAE: 10.123\n",
      "\n",
      "ID de Estación 35010020:\n",
      "  RMSE: 20.474\n",
      "  R2: -0.001\n",
      "  MAE: 14.677\n",
      "\n",
      "ID de Estación 35010040:\n",
      "  RMSE: 23.985\n",
      "  R2: -0.001\n",
      "  MAE: 16.516\n",
      "\n",
      "ID de Estación 35010060:\n",
      "  RMSE: 17.156\n",
      "  R2: -0.000\n",
      "  MAE: 10.423\n",
      "\n",
      "ID de Estación 35010070:\n",
      "  RMSE: 20.805\n",
      "  R2: -0.000\n",
      "  MAE: 14.371\n",
      "\n",
      "ID de Estación 35010080:\n",
      "  RMSE: 14.840\n",
      "  R2: -0.000\n",
      "  MAE: 9.341\n",
      "\n",
      "ID de Estación 35010090:\n",
      "  RMSE: 18.824\n",
      "  R2: -0.000\n",
      "  MAE: 11.682\n",
      "\n",
      "ID de Estación 35010150:\n",
      "  RMSE: 14.455\n",
      "  R2: -0.012\n",
      "  MAE: 9.409\n",
      "\n",
      "ID de Estación 35010230:\n",
      "  RMSE: 15.459\n",
      "  R2: -0.001\n",
      "  MAE: 10.210\n",
      "\n",
      "ID de Estación 35015050:\n",
      "  RMSE: 15.080\n",
      "  R2: -0.000\n",
      "  MAE: 9.349\n",
      "\n",
      "ID de Estación 35020060:\n",
      "  RMSE: 16.055\n",
      "  R2: -0.000\n",
      "  MAE: 9.993\n",
      "\n",
      "ID de Estación 35025020:\n",
      "  RMSE: 15.438\n",
      "  R2: -0.002\n",
      "  MAE: 10.190\n",
      "\n",
      "ID de Estación 35030020:\n",
      "  RMSE: 25.852\n",
      "  R2: -0.002\n",
      "  MAE: 18.341\n",
      "\n",
      "ID de Estación 35030050:\n",
      "  RMSE: 20.388\n",
      "  R2: -0.000\n",
      "  MAE: 11.545\n",
      "\n",
      "ID de Estación 35030370:\n",
      "  RMSE: 20.430\n",
      "  R2: -0.000\n",
      "  MAE: 13.808\n",
      "\n",
      "ID de Estación 35030380:\n",
      "  RMSE: 26.506\n",
      "  R2: -0.022\n",
      "  MAE: 18.098\n",
      "\n",
      "ID de Estación 35035010:\n",
      "  RMSE: 20.573\n",
      "  R2: -0.001\n",
      "  MAE: 12.096\n",
      "\n",
      "ID de Estación 35035020:\n",
      "  RMSE: 20.344\n",
      "  R2: -0.000\n",
      "  MAE: 14.368\n",
      "\n",
      "ID de Estación 35035070:\n",
      "  RMSE: 17.260\n",
      "  R2: -0.000\n",
      "  MAE: 12.235\n",
      "\n",
      "ID de Estación 35045020:\n",
      "  RMSE: 17.723\n",
      "  R2: -0.000\n",
      "  MAE: 11.579\n",
      "\n",
      "ID de Estación 35100020:\n",
      "  RMSE: 16.046\n",
      "  R2: -0.000\n",
      "  MAE: 9.822\n",
      "\n",
      "ID de Estación 35105050:\n",
      "  RMSE: 17.500\n",
      "  R2: -0.006\n",
      "  MAE: 10.177\n",
      "\n",
      "ID de Estación 35120010:\n",
      "  RMSE: 15.202\n",
      "  R2: -0.000\n",
      "  MAE: 8.952\n",
      "\n",
      "ID de Estación 35125010:\n",
      "  RMSE: 12.873\n",
      "  R2: -0.000\n",
      "  MAE: 8.479\n",
      "\n",
      "ID de Estación 35130010:\n",
      "  RMSE: 15.972\n",
      "  R2: -0.000\n",
      "  MAE: 10.338\n",
      "\n",
      "ID de Estación 35180030:\n",
      "  RMSE: 15.185\n",
      "  R2: -0.002\n",
      "  MAE: 9.872\n",
      "\n",
      "ID de Estación 35185010:\n",
      "  RMSE: 11.813\n",
      "  R2: -0.003\n",
      "  MAE: 7.618\n",
      "\n"
     ]
    }
   ],
   "source": [
    "# Imprimir los resultados de la evaluación\n",
    "for station_id, performance in evaluation_results.items():\n",
    "    print(f\"ID de Estación {station_id}:\")\n",
    "    if performance['RMSE'] is not None:\n",
    "        print(f\"  RMSE: {performance['RMSE']:.3f}\")\n",
    "        print(f\"  R2: {performance['R2']:.3f}\")\n",
    "        print(f\"  MAE: {performance['MAE']:.3f}\")\n",
    "    else:\n",
    "        print(\"  No hay valores faltantes en los datos para esta estación.\")\n",
    "    print()\n"
   ]
  },
  {
   "cell_type": "code",
   "execution_count": 69,
   "metadata": {},
   "outputs": [
    {
     "ename": "ValueError",
     "evalue": "All arrays must be of the same length",
     "output_type": "error",
     "traceback": [
      "\u001b[1;31m---------------------------------------------------------------------------\u001b[0m",
      "\u001b[1;31mValueError\u001b[0m                                Traceback (most recent call last)",
      "\u001b[1;32mf:\\TESIS\\Proyecto_mod_precipitacion\\Codigos de Python\\NoteNook_model_KNN.ipynb Cell 58\u001b[0m in \u001b[0;36m<cell line: 12>\u001b[1;34m()\u001b[0m\n\u001b[0;32m      <a href='vscode-notebook-cell:/f%3A/TESIS/Proyecto_mod_precipitacion/Codigos%20de%20Python/NoteNook_model_KNN.ipynb#Y205sZmlsZQ%3D%3D?line=7'>8</a>\u001b[0m MAE \u001b[39m=\u001b[39m [\u001b[39m9.153\u001b[39m, \u001b[39m12.829\u001b[39m, \u001b[39m11.067\u001b[39m, \u001b[39m9.532\u001b[39m, \u001b[39m9.732\u001b[39m, \u001b[39m11.447\u001b[39m, \u001b[39m15.669\u001b[39m, \u001b[39m16.492\u001b[39m, \u001b[39m20.283\u001b[39m, \u001b[39m18.547\u001b[39m, \u001b[39m12.653\u001b[39m, \u001b[39m10.559\u001b[39m, \u001b[39m9.635\u001b[39m, \u001b[39m11.227\u001b[39m, \u001b[39m9.438\u001b[39m, \u001b[39m10.451\u001b[39m, \u001b[39m9.653\u001b[39m, \u001b[39m12.646\u001b[39m, \u001b[39m9.770\u001b[39m, \u001b[39m10.534\u001b[39m, \u001b[39m12.474\u001b[39m, \u001b[39m10.089\u001b[39m, \u001b[39m9.689\u001b[39m, \u001b[39m10.596\u001b[39m, \u001b[39m8.847\u001b[39m, \u001b[39m9.987\u001b[39m, \u001b[39m10.606\u001b[39m, \u001b[39m10.234\u001b[39m, \u001b[39m10.141\u001b[39m, \u001b[39m9.814\u001b[39m, \u001b[39m10.123\u001b[39m, \u001b[39m14.677\u001b[39m, \u001b[39m16.516\u001b[39m, \u001b[39m10.423\u001b[39m, \u001b[39m14.371\u001b[39m, \u001b[39m9.341\u001b[39m, \u001b[39m11.682\u001b[39m, \u001b[39m9.409\u001b[39m, \u001b[39m10.210\u001b[39m, \u001b[39m9.349\u001b[39m, \u001b[39m9.993\u001b[39m, \u001b[39m10.190\u001b[39m, \u001b[39m18.341\u001b[39m, \u001b[39m11.545\u001b[39m, \u001b[39m13.808\u001b[39m, \u001b[39m18.098\u001b[39m, \u001b[39m12.096\u001b[39m, \u001b[39m14.368\u001b[39m, \u001b[39m12.235\u001b[39m, \u001b[39m11.579\u001b[39m, \u001b[39m9.822\u001b[39m, \u001b[39m10.177\u001b[39m, \u001b[39m8.952\u001b[39m, \u001b[39m8.479\u001b[39m, \u001b[39m10.338\u001b[39m, \u001b[39m9.872\u001b[39m, \u001b[39m7.618\u001b[39m]\n\u001b[0;32m     <a href='vscode-notebook-cell:/f%3A/TESIS/Proyecto_mod_precipitacion/Codigos%20de%20Python/NoteNook_model_KNN.ipynb#Y205sZmlsZQ%3D%3D?line=10'>11</a>\u001b[0m data2 \u001b[39m=\u001b[39m {\u001b[39m'\u001b[39m\u001b[39mids\u001b[39m\u001b[39m'\u001b[39m: ids, \u001b[39m'\u001b[39m\u001b[39mrmse\u001b[39m\u001b[39m'\u001b[39m: rmse, \u001b[39m'\u001b[39m\u001b[39mR2\u001b[39m\u001b[39m'\u001b[39m: R2, \u001b[39m'\u001b[39m\u001b[39mMAE\u001b[39m\u001b[39m'\u001b[39m: MAE}\n\u001b[1;32m---> <a href='vscode-notebook-cell:/f%3A/TESIS/Proyecto_mod_precipitacion/Codigos%20de%20Python/NoteNook_model_KNN.ipynb#Y205sZmlsZQ%3D%3D?line=11'>12</a>\u001b[0m df \u001b[39m=\u001b[39m pd\u001b[39m.\u001b[39;49mDataFrame(data2)\n",
      "File \u001b[1;32mc:\\Users\\ronal\\AppData\\Local\\Programs\\Python\\Python310\\lib\\site-packages\\pandas\\core\\frame.py:636\u001b[0m, in \u001b[0;36mDataFrame.__init__\u001b[1;34m(self, data, index, columns, dtype, copy)\u001b[0m\n\u001b[0;32m    630\u001b[0m     mgr \u001b[39m=\u001b[39m \u001b[39mself\u001b[39m\u001b[39m.\u001b[39m_init_mgr(\n\u001b[0;32m    631\u001b[0m         data, axes\u001b[39m=\u001b[39m{\u001b[39m\"\u001b[39m\u001b[39mindex\u001b[39m\u001b[39m\"\u001b[39m: index, \u001b[39m\"\u001b[39m\u001b[39mcolumns\u001b[39m\u001b[39m\"\u001b[39m: columns}, dtype\u001b[39m=\u001b[39mdtype, copy\u001b[39m=\u001b[39mcopy\n\u001b[0;32m    632\u001b[0m     )\n\u001b[0;32m    634\u001b[0m \u001b[39melif\u001b[39;00m \u001b[39misinstance\u001b[39m(data, \u001b[39mdict\u001b[39m):\n\u001b[0;32m    635\u001b[0m     \u001b[39m# GH#38939 de facto copy defaults to False only in non-dict cases\u001b[39;00m\n\u001b[1;32m--> 636\u001b[0m     mgr \u001b[39m=\u001b[39m dict_to_mgr(data, index, columns, dtype\u001b[39m=\u001b[39;49mdtype, copy\u001b[39m=\u001b[39;49mcopy, typ\u001b[39m=\u001b[39;49mmanager)\n\u001b[0;32m    637\u001b[0m \u001b[39melif\u001b[39;00m \u001b[39misinstance\u001b[39m(data, ma\u001b[39m.\u001b[39mMaskedArray):\n\u001b[0;32m    638\u001b[0m     \u001b[39mimport\u001b[39;00m \u001b[39mnumpy\u001b[39;00m\u001b[39m.\u001b[39;00m\u001b[39mma\u001b[39;00m\u001b[39m.\u001b[39;00m\u001b[39mmrecords\u001b[39;00m \u001b[39mas\u001b[39;00m \u001b[39mmrecords\u001b[39;00m\n",
      "File \u001b[1;32mc:\\Users\\ronal\\AppData\\Local\\Programs\\Python\\Python310\\lib\\site-packages\\pandas\\core\\internals\\construction.py:502\u001b[0m, in \u001b[0;36mdict_to_mgr\u001b[1;34m(data, index, columns, dtype, typ, copy)\u001b[0m\n\u001b[0;32m    494\u001b[0m     arrays \u001b[39m=\u001b[39m [\n\u001b[0;32m    495\u001b[0m         x\n\u001b[0;32m    496\u001b[0m         \u001b[39mif\u001b[39;00m \u001b[39mnot\u001b[39;00m \u001b[39mhasattr\u001b[39m(x, \u001b[39m\"\u001b[39m\u001b[39mdtype\u001b[39m\u001b[39m\"\u001b[39m) \u001b[39mor\u001b[39;00m \u001b[39mnot\u001b[39;00m \u001b[39misinstance\u001b[39m(x\u001b[39m.\u001b[39mdtype, ExtensionDtype)\n\u001b[0;32m    497\u001b[0m         \u001b[39melse\u001b[39;00m x\u001b[39m.\u001b[39mcopy()\n\u001b[0;32m    498\u001b[0m         \u001b[39mfor\u001b[39;00m x \u001b[39min\u001b[39;00m arrays\n\u001b[0;32m    499\u001b[0m     ]\n\u001b[0;32m    500\u001b[0m     \u001b[39m# TODO: can we get rid of the dt64tz special case above?\u001b[39;00m\n\u001b[1;32m--> 502\u001b[0m \u001b[39mreturn\u001b[39;00m arrays_to_mgr(arrays, columns, index, dtype\u001b[39m=\u001b[39;49mdtype, typ\u001b[39m=\u001b[39;49mtyp, consolidate\u001b[39m=\u001b[39;49mcopy)\n",
      "File \u001b[1;32mc:\\Users\\ronal\\AppData\\Local\\Programs\\Python\\Python310\\lib\\site-packages\\pandas\\core\\internals\\construction.py:120\u001b[0m, in \u001b[0;36marrays_to_mgr\u001b[1;34m(arrays, columns, index, dtype, verify_integrity, typ, consolidate)\u001b[0m\n\u001b[0;32m    117\u001b[0m \u001b[39mif\u001b[39;00m verify_integrity:\n\u001b[0;32m    118\u001b[0m     \u001b[39m# figure out the index, if necessary\u001b[39;00m\n\u001b[0;32m    119\u001b[0m     \u001b[39mif\u001b[39;00m index \u001b[39mis\u001b[39;00m \u001b[39mNone\u001b[39;00m:\n\u001b[1;32m--> 120\u001b[0m         index \u001b[39m=\u001b[39m _extract_index(arrays)\n\u001b[0;32m    121\u001b[0m     \u001b[39melse\u001b[39;00m:\n\u001b[0;32m    122\u001b[0m         index \u001b[39m=\u001b[39m ensure_index(index)\n",
      "File \u001b[1;32mc:\\Users\\ronal\\AppData\\Local\\Programs\\Python\\Python310\\lib\\site-packages\\pandas\\core\\internals\\construction.py:674\u001b[0m, in \u001b[0;36m_extract_index\u001b[1;34m(data)\u001b[0m\n\u001b[0;32m    672\u001b[0m lengths \u001b[39m=\u001b[39m \u001b[39mlist\u001b[39m(\u001b[39mset\u001b[39m(raw_lengths))\n\u001b[0;32m    673\u001b[0m \u001b[39mif\u001b[39;00m \u001b[39mlen\u001b[39m(lengths) \u001b[39m>\u001b[39m \u001b[39m1\u001b[39m:\n\u001b[1;32m--> 674\u001b[0m     \u001b[39mraise\u001b[39;00m \u001b[39mValueError\u001b[39;00m(\u001b[39m\"\u001b[39m\u001b[39mAll arrays must be of the same length\u001b[39m\u001b[39m\"\u001b[39m)\n\u001b[0;32m    676\u001b[0m \u001b[39mif\u001b[39;00m have_dicts:\n\u001b[0;32m    677\u001b[0m     \u001b[39mraise\u001b[39;00m \u001b[39mValueError\u001b[39;00m(\n\u001b[0;32m    678\u001b[0m         \u001b[39m\"\u001b[39m\u001b[39mMixing dicts with non-Series may lead to ambiguous ordering.\u001b[39m\u001b[39m\"\u001b[39m\n\u001b[0;32m    679\u001b[0m     )\n",
      "\u001b[1;31mValueError\u001b[0m: All arrays must be of the same length"
     ]
    }
   ],
   "source": [
    "import pandas as pd\n",
    "ids = [32010010, 32020020, 32030020, 32035010, 32035020, 32060020, 32060030, 32060060, 32060090, 32060100, 32065010, 32070010, 32070020, 32070030, 32070040, 32070060, 32070080, 32070090, 32070100, 32070110, 32070120, 32075030, 32075040, 32075050, 32075060, 32075080, 32080010, 32090010, 32120010, 33035010, 35010010, 35010020, 35010040, 35010060, 35010070, 35010080, 35010090, 35010150, 35010230, 35015050, 35020060, 35025020, 35030020, 35030050, 35030370, 35030380, 35035010, 35035020, 35035070, 35045020, 35100020, 35105050, 35120010, 35125010, 35130010, 35180030, 35185010]\n",
    "\n",
    "# Vector con los valores de RMSE\n",
    "rmse = [14.153, 19.156, 16.335, 14.936, 14.923, 17.453, 22.519, 23.731, 29.031, 26.283, 19.285, 17.195, 14.949, 16.251, 13.335, 15.976, 14.516, 18.775, 14.860, 16.732, 17.569, 15.911, 14.804, 15.802, 13.189, 15.883, 16.292, 14.741, 14.810, 15.882, 17.115, 20.474, 23.985, 17.156, 20.805, 14.840, 18.824, 14.455, 15.459, 15.080, 16.055, 15.438, 25.852, 20.388, 20.430, 26.506, 20.573, 20.344, 17.260, 17.723, 16.046, 17.500, 15.202, 12.873, 15.972, 15.185, 11.813]\n",
    "R2 = [-0.000, -0.001, -0.000, -0.000, -0.001, -0.000, -0.000, -0.002, -0.004, -0.000, -0.000, -0.000, -0.007, -0.001, -0.000, -0.003, -0.000, -0.000, -0.001, -0.000, -0.000, -0.000, -0.000, -0.000, -0.001, -0.000, -0.000, -0.001, -0.000, -0.002, -0.000, -0.000, -0.000, -0.000, -0.000, -0.000, -0.000, -0.001, -0.002, -0.000, -0.000, -0.000, -0.000, -0.000, -0.000, -0.000, -0.000, -0.000, -0.000, -0.000, -0.000, -0.000, -0.001, -0.000, -0.002, -0.000, -0.000, -0.000, -0.000, -0.006, -0.003, -0.000, -0.000, -0.000, -0.000, -0.000, -0.000, -0.002, -0.000, -0.000, -0.000, -0.000, -0.006, -0.003]\n",
    "\n",
    "MAE = [9.153, 12.829, 11.067, 9.532, 9.732, 11.447, 15.669, 16.492, 20.283, 18.547, 12.653, 10.559, 9.635, 11.227, 9.438, 10.451, 9.653, 12.646, 9.770, 10.534, 12.474, 10.089, 9.689, 10.596, 8.847, 9.987, 10.606, 10.234, 10.141, 9.814, 10.123, 14.677, 16.516, 10.423, 14.371, 9.341, 11.682, 9.409, 10.210, 9.349, 9.993, 10.190, 18.341, 11.545, 13.808, 18.098, 12.096, 14.368, 12.235, 11.579, 9.822, 10.177, 8.952, 8.479, 10.338, 9.872, 7.618]\n",
    "\n",
    "\n",
    "data2 = {'ids': ids, 'rmse': rmse, 'R2': R2, 'MAE': MAE}\n",
    "df = pd.DataFrame(data2)"
   ]
  },
  {
   "cell_type": "code",
   "execution_count": 66,
   "metadata": {},
   "outputs": [
    {
     "name": "stdout",
     "output_type": "stream",
     "text": [
      "<class 'pandas.core.frame.DataFrame'>\n",
      "Index: 0 entries\n",
      "Data columns (total 4 columns):\n",
      " #   Column          Non-Null Count  Dtype \n",
      "---  ------          --------------  ----- \n",
      " 0   ID de estación  0 non-null      object\n",
      " 1   RMSE            0 non-null      object\n",
      " 2   R2              0 non-null      object\n",
      " 3   MAE             0 non-null      object\n",
      "dtypes: object(4)\n",
      "memory usage: 0.0+ bytes\n"
     ]
    }
   ],
   "source": [
    "evaluation_results_df = pd.DataFrame(columns=['ID de estación', 'RMSE', 'R2', 'MAE'])\n",
    "\n",
    "\n",
    "evaluation_results_df.info()"
   ]
  },
  {
   "cell_type": "code",
   "execution_count": 65,
   "metadata": {},
   "outputs": [
    {
     "ename": "IndentationError",
     "evalue": "expected an indented block after 'for' statement on line 1 (2594399700.py, line 2)",
     "output_type": "error",
     "traceback": [
      "\u001b[1;36m  Input \u001b[1;32mIn [65]\u001b[1;36m\u001b[0m\n\u001b[1;33m    if performance['RMSE'] is not None:\u001b[0m\n\u001b[1;37m    ^\u001b[0m\n\u001b[1;31mIndentationError\u001b[0m\u001b[1;31m:\u001b[0m expected an indented block after 'for' statement on line 1\n"
     ]
    }
   ],
   "source": [
    "for station_id, performance in evaluation_results.items():\n",
    "if performance['RMSE'] is not None:\n",
    "evaluation_results_df = evaluation_results_df.append({\n",
    "'Station ID': station_id,\n",
    "'RMSE': performance['RMSE'],\n",
    "'R2': performance['R2'],\n",
    "'MAE': performance['MAE']\n",
    "}, ignore_index=True)"
   ]
  },
  {
   "attachments": {},
   "cell_type": "markdown",
   "metadata": {},
   "source": [
    "## Bibliografia \n",
    "\n",
    "Little, R. J. A., & Rubin, D. B. (2002). Statistical Analysis with Missing Data (Vol. 333). John Wiley & Sons."
   ]
  },
  {
   "cell_type": "markdown",
   "metadata": {},
   "source": [
    "### Correlacion espacial"
   ]
  },
  {
   "cell_type": "markdown",
   "metadata": {},
   "source": []
  },
  {
   "cell_type": "code",
   "execution_count": 3,
   "metadata": {},
   "outputs": [
    {
     "name": "stdout",
     "output_type": "stream",
     "text": [
      "Collecting pysal\n",
      "  Downloading pysal-23.7-py3-none-any.whl (17 kB)\n",
      "Collecting spreg>=1.2.4\n",
      "  Downloading spreg-1.4.1-py3-none-any.whl (331 kB)\n",
      "     -------------------------------------- 331.8/331.8 KB 1.4 MB/s eta 0:00:00\n",
      "Collecting momepy>=0.5.3\n",
      "  Downloading momepy-0.6.0-py3-none-any.whl (275 kB)\n",
      "     -------------------------------------- 275.7/275.7 KB 2.1 MB/s eta 0:00:00\n",
      "Collecting inequality>=1.0.0\n",
      "  Downloading inequality-1.0.0.tar.gz (11 kB)\n",
      "  Preparing metadata (setup.py): started\n",
      "  Preparing metadata (setup.py): finished with status 'done'\n",
      "Collecting spaghetti>=1.6.6\n",
      "  Downloading spaghetti-1.7.4-py3-none-any.whl (50 kB)\n",
      "     ---------------------------------------- 50.1/50.1 KB 2.5 MB/s eta 0:00:00\n",
      "Collecting spglm>=1.0.8\n",
      "  Downloading spglm-1.0.8.tar.gz (37 kB)\n",
      "  Preparing metadata (setup.py): started\n",
      "  Preparing metadata (setup.py): finished with status 'done'\n",
      "Collecting mgwr>=2.1.2\n",
      "  Downloading mgwr-2.1.2.tar.gz (41 kB)\n",
      "     ---------------------------------------- 41.8/41.8 KB 2.1 MB/s eta 0:00:00\n",
      "  Preparing metadata (setup.py): started\n",
      "  Preparing metadata (setup.py): finished with status 'done'\n",
      "Collecting segregation>=2.3.1\n",
      "  Downloading segregation-2.5-py3-none-any.whl (141 kB)\n",
      "     -------------------------------------- 141.3/141.3 KB 8.2 MB/s eta 0:00:00\n",
      "Collecting spvcm>=0.3.0\n",
      "  Downloading spvcm-0.3.0.tar.gz (5.7 MB)\n",
      "     ---------------------------------------- 5.7/5.7 MB 11.8 MB/s eta 0:00:00\n",
      "  Preparing metadata (setup.py): started\n",
      "  Preparing metadata (setup.py): finished with status 'done'\n",
      "Collecting pointpats>=2.2.0\n",
      "  Downloading pointpats-2.4.0-py3-none-any.whl (58 kB)\n",
      "     ---------------------------------------- 58.4/58.4 KB ? eta 0:00:00\n",
      "Collecting mapclassify>=2.4.3\n",
      "  Downloading mapclassify-2.6.1-py3-none-any.whl (38 kB)\n",
      "Collecting giddy>=2.3.3\n",
      "  Downloading giddy-2.3.4-py3-none-any.whl (61 kB)\n",
      "     ---------------------------------------- 61.1/61.1 KB 3.4 MB/s eta 0:00:00\n",
      "Collecting libpysal>=4.6.2\n",
      "  Downloading libpysal-4.8.0-py3-none-any.whl (2.8 MB)\n",
      "     ---------------------------------------- 2.8/2.8 MB 29.5 MB/s eta 0:00:00\n",
      "Collecting esda>=2.4.1\n",
      "  Downloading esda-2.5.0-py3-none-any.whl (132 kB)\n",
      "     ---------------------------------------- 132.4/132.4 KB ? eta 0:00:00\n",
      "Collecting splot>=1.1.5.post1\n",
      "  Downloading splot-1.1.5.post1-py3-none-any.whl (39 kB)\n",
      "Collecting tobler>=0.8.2\n",
      "  Downloading tobler-0.11.2-py3-none-any.whl (34 kB)\n",
      "Collecting spint>=1.0.7\n",
      "  Downloading spint-1.0.7.tar.gz (28 kB)\n",
      "  Preparing metadata (setup.py): started\n",
      "  Preparing metadata (setup.py): finished with status 'done'\n",
      "Collecting spopt>=0.4.1\n",
      "  Downloading spopt-0.5.0-py3-none-any.whl (112 kB)\n",
      "     ---------------------------------------- 112.9/112.9 KB ? eta 0:00:00\n",
      "Collecting access>=1.1.8\n",
      "  Downloading access-1.1.9-py3-none-any.whl (21 kB)\n",
      "Requirement already satisfied: pandas>=0.23.4 in c:\\users\\ronal\\appdata\\local\\programs\\python\\python310\\lib\\site-packages (from access>=1.1.8->pysal) (1.4.2)\n",
      "Requirement already satisfied: geopandas in c:\\users\\ronal\\appdata\\local\\programs\\python\\python310\\lib\\site-packages (from access>=1.1.8->pysal) (0.9.0)\n",
      "Requirement already satisfied: numpy>=1.3 in c:\\users\\ronal\\appdata\\local\\programs\\python\\python310\\lib\\site-packages (from access>=1.1.8->pysal) (1.22.3)\n",
      "Requirement already satisfied: requests>=2 in c:\\users\\ronal\\appdata\\local\\programs\\python\\python310\\lib\\site-packages (from access>=1.1.8->pysal) (2.27.1)\n",
      "Collecting scipy>=1.9\n",
      "  Downloading scipy-1.11.3-cp310-cp310-win_amd64.whl (44.1 MB)\n",
      "     --------------------------------------- 44.1/44.1 MB 46.9 MB/s eta 0:00:00\n",
      "Requirement already satisfied: scikit-learn>=1.0 in c:\\users\\ronal\\appdata\\local\\programs\\python\\python310\\lib\\site-packages (from esda>=2.4.1->pysal) (1.0.2)\n",
      "Collecting quantecon>=0.4.7\n",
      "  Downloading quantecon-0.7.1-py3-none-any.whl (214 kB)\n",
      "     ---------------------------------------- 214.8/214.8 KB ? eta 0:00:00\n",
      "Requirement already satisfied: packaging in c:\\users\\ronal\\appdata\\local\\programs\\python\\python310\\lib\\site-packages (from libpysal>=4.6.2->pysal) (21.3)\n",
      "Requirement already satisfied: beautifulsoup4>=4.10 in c:\\users\\ronal\\appdata\\local\\programs\\python\\python310\\lib\\site-packages (from libpysal>=4.6.2->pysal) (4.11.1)\n",
      "Requirement already satisfied: shapely>=2 in c:\\users\\ronal\\appdata\\local\\programs\\python\\python310\\lib\\site-packages (from libpysal>=4.6.2->pysal) (2.0.1)\n",
      "Collecting platformdirs>=2.0.2\n",
      "  Downloading platformdirs-3.11.0-py3-none-any.whl (17 kB)\n",
      "Requirement already satisfied: networkx>=2.7 in c:\\users\\ronal\\appdata\\local\\programs\\python\\python310\\lib\\site-packages (from mapclassify>=2.4.3->pysal) (3.1)\n",
      "Collecting numpy>=1.3\n",
      "  Downloading numpy-1.26.1-cp310-cp310-win_amd64.whl (15.8 MB)\n",
      "     --------------------------------------- 15.8/15.8 MB 59.5 MB/s eta 0:00:00\n",
      "Collecting tqdm>=4.27.0\n",
      "  Downloading tqdm-4.66.1-py3-none-any.whl (78 kB)\n",
      "     ---------------------------------------- 78.3/78.3 KB 4.3 MB/s eta 0:00:00\n",
      "Requirement already satisfied: matplotlib in c:\\users\\ronal\\appdata\\local\\programs\\python\\python310\\lib\\site-packages (from pointpats>=2.2.0->pysal) (3.5.2)\n",
      "Requirement already satisfied: joblib in c:\\users\\ronal\\appdata\\local\\programs\\python\\python310\\lib\\site-packages (from segregation>=2.3.1->pysal) (1.1.0)\n",
      "Requirement already satisfied: seaborn in c:\\users\\ronal\\appdata\\local\\programs\\python\\python310\\lib\\site-packages (from segregation>=2.3.1->pysal) (0.11.2)\n",
      "Requirement already satisfied: pyproj>=3 in c:\\users\\ronal\\appdata\\local\\programs\\python\\python310\\lib\\site-packages (from segregation>=2.3.1->pysal) (3.4.1)\n",
      "Collecting numba\n",
      "  Downloading numba-0.58.1-cp310-cp310-win_amd64.whl (2.6 MB)\n",
      "     ---------------------------------------- 2.6/2.6 MB 81.1 MB/s eta 0:00:00\n",
      "Collecting deprecation\n",
      "  Downloading deprecation-2.1.0-py2.py3-none-any.whl (11 kB)\n",
      "Collecting rtree\n",
      "  Downloading Rtree-1.1.0-py3-none-win_amd64.whl (435 kB)\n",
      "     ------------------------------------- 435.7/435.7 KB 28.4 MB/s eta 0:00:00\n",
      "Collecting geopandas\n",
      "  Using cached geopandas-0.14.0-py3-none-any.whl (1.1 MB)\n",
      "Collecting pulp\n",
      "  Downloading PuLP-2.7.0-py3-none-any.whl (14.3 MB)\n",
      "     --------------------------------------- 14.3/14.3 MB 81.9 MB/s eta 0:00:00\n",
      "Collecting rasterio\n",
      "  Downloading rasterio-1.3.8.post2-cp310-cp310-win_amd64.whl (23.4 MB)\n",
      "     --------------------------------------- 23.4/23.4 MB 65.2 MB/s eta 0:00:00\n",
      "Collecting rasterstats\n",
      "  Downloading rasterstats-0.19.0-py3-none-any.whl (16 kB)\n",
      "Requirement already satisfied: statsmodels in c:\\users\\ronal\\appdata\\local\\programs\\python\\python310\\lib\\site-packages (from tobler>=0.8.2->pysal) (0.13.5)\n",
      "Requirement already satisfied: soupsieve>1.2 in c:\\users\\ronal\\appdata\\local\\programs\\python\\python310\\lib\\site-packages (from beautifulsoup4>=4.10->libpysal>=4.6.2->pysal) (2.3.2.post1)\n",
      "Requirement already satisfied: fiona>=1.8.21 in c:\\users\\ronal\\appdata\\local\\programs\\python\\python310\\lib\\site-packages (from geopandas->access>=1.1.8->pysal) (1.9.4.post1)\n",
      "Requirement already satisfied: pytz>=2020.1 in c:\\users\\ronal\\appdata\\local\\programs\\python\\python310\\lib\\site-packages (from pandas>=0.23.4->access>=1.1.8->pysal) (2022.7.1)\n",
      "Requirement already satisfied: python-dateutil>=2.8.1 in c:\\users\\ronal\\appdata\\local\\programs\\python\\python310\\lib\\site-packages (from pandas>=0.23.4->access>=1.1.8->pysal) (2.8.2)\n",
      "Requirement already satisfied: certifi in c:\\users\\ronal\\appdata\\local\\programs\\python\\python310\\lib\\site-packages (from pyproj>=3->segregation>=2.3.1->pysal) (2021.10.8)\n",
      "Collecting sympy\n",
      "  Downloading sympy-1.12-py3-none-any.whl (5.7 MB)\n",
      "     ---------------------------------------- 5.7/5.7 MB 91.0 MB/s eta 0:00:00\n",
      "Collecting llvmlite<0.42,>=0.41.0dev0\n",
      "  Downloading llvmlite-0.41.1-cp310-cp310-win_amd64.whl (28.1 MB)\n",
      "     --------------------------------------- 28.1/28.1 MB 65.6 MB/s eta 0:00:00\n",
      "Requirement already satisfied: urllib3<1.27,>=1.21.1 in c:\\users\\ronal\\appdata\\local\\programs\\python\\python310\\lib\\site-packages (from requests>=2->access>=1.1.8->pysal) (1.26.9)\n",
      "Requirement already satisfied: idna<4,>=2.5 in c:\\users\\ronal\\appdata\\local\\programs\\python\\python310\\lib\\site-packages (from requests>=2->access>=1.1.8->pysal) (3.3)\n",
      "Requirement already satisfied: charset-normalizer~=2.0.0 in c:\\users\\ronal\\appdata\\local\\programs\\python\\python310\\lib\\site-packages (from requests>=2->access>=1.1.8->pysal) (2.0.12)\n",
      "Requirement already satisfied: threadpoolctl>=2.0.0 in c:\\users\\ronal\\appdata\\local\\programs\\python\\python310\\lib\\site-packages (from scikit-learn>=1.0->esda>=2.4.1->pysal) (3.1.0)\n",
      "Requirement already satisfied: colorama in c:\\users\\ronal\\appdata\\local\\programs\\python\\python310\\lib\\site-packages (from tqdm>=4.27.0->momepy>=0.5.3->pysal) (0.4.4)\n",
      "Requirement already satisfied: cycler>=0.10 in c:\\users\\ronal\\appdata\\local\\programs\\python\\python310\\lib\\site-packages (from matplotlib->pointpats>=2.2.0->pysal) (0.11.0)\n",
      "Requirement already satisfied: fonttools>=4.22.0 in c:\\users\\ronal\\appdata\\local\\programs\\python\\python310\\lib\\site-packages (from matplotlib->pointpats>=2.2.0->pysal) (4.33.3)\n",
      "Requirement already satisfied: kiwisolver>=1.0.1 in c:\\users\\ronal\\appdata\\local\\programs\\python\\python310\\lib\\site-packages (from matplotlib->pointpats>=2.2.0->pysal) (1.4.2)\n",
      "Requirement already satisfied: pillow>=6.2.0 in c:\\users\\ronal\\appdata\\local\\programs\\python\\python310\\lib\\site-packages (from matplotlib->pointpats>=2.2.0->pysal) (9.1.0)\n",
      "Requirement already satisfied: pyparsing>=2.2.1 in c:\\users\\ronal\\appdata\\local\\programs\\python\\python310\\lib\\site-packages (from matplotlib->pointpats>=2.2.0->pysal) (3.0.8)\n",
      "Requirement already satisfied: click>=4.0 in c:\\users\\ronal\\appdata\\local\\programs\\python\\python310\\lib\\site-packages (from rasterio->tobler>=0.8.2->pysal) (8.1.3)\n",
      "Requirement already satisfied: setuptools in c:\\users\\ronal\\appdata\\local\\programs\\python\\python310\\lib\\site-packages (from rasterio->tobler>=0.8.2->pysal) (58.1.0)\n",
      "Requirement already satisfied: cligj>=0.5 in c:\\users\\ronal\\appdata\\local\\programs\\python\\python310\\lib\\site-packages (from rasterio->tobler>=0.8.2->pysal) (0.7.2)\n",
      "Collecting snuggs>=1.4.1\n",
      "  Downloading snuggs-1.4.7-py3-none-any.whl (5.4 kB)\n",
      "Requirement already satisfied: click-plugins in c:\\users\\ronal\\appdata\\local\\programs\\python\\python310\\lib\\site-packages (from rasterio->tobler>=0.8.2->pysal) (1.1.1)\n",
      "Requirement already satisfied: attrs in c:\\users\\ronal\\appdata\\local\\programs\\python\\python310\\lib\\site-packages (from rasterio->tobler>=0.8.2->pysal) (22.2.0)\n",
      "Collecting affine\n",
      "  Downloading affine-2.4.0-py3-none-any.whl (15 kB)\n",
      "Collecting simplejson\n",
      "  Downloading simplejson-3.19.2-cp310-cp310-win_amd64.whl (75 kB)\n",
      "     ---------------------------------------- 75.5/75.5 KB ? eta 0:00:00\n",
      "Requirement already satisfied: patsy>=0.5.2 in c:\\users\\ronal\\appdata\\local\\programs\\python\\python310\\lib\\site-packages (from statsmodels->tobler>=0.8.2->pysal) (0.5.3)\n",
      "Requirement already satisfied: six in c:\\users\\ronal\\appdata\\local\\programs\\python\\python310\\lib\\site-packages (from fiona>=1.8.21->geopandas->access>=1.1.8->pysal) (1.16.0)\n",
      "Collecting mpmath>=0.19\n",
      "  Downloading mpmath-1.3.0-py3-none-any.whl (536 kB)\n",
      "     -------------------------------------- 536.2/536.2 KB 3.7 MB/s eta 0:00:00\n",
      "Building wheels for collected packages: inequality, mgwr, spglm, spint, spvcm\n",
      "  Building wheel for inequality (setup.py): started\n",
      "  Building wheel for inequality (setup.py): finished with status 'done'\n",
      "  Created wheel for inequality: filename=inequality-1.0.0-py3-none-any.whl size=11800 sha256=ac401ff8724d86338d08965fc357f29fac0fd687b358306583a837f68d692e8d\n",
      "  Stored in directory: c:\\users\\ronal\\appdata\\local\\pip\\cache\\wheels\\52\\f7\\af\\eb988b28568f650a2329b2b3e954019a1c3ceb084dae385b51\n",
      "  Building wheel for mgwr (setup.py): started\n",
      "  Building wheel for mgwr (setup.py): finished with status 'done'\n",
      "  Created wheel for mgwr: filename=mgwr-2.1.2-py3-none-any.whl size=46386 sha256=4f698bed8ebc2f7b6e7c28fa579240b00d2ec608d58a6eca9a586034475eba9b\n",
      "  Stored in directory: c:\\users\\ronal\\appdata\\local\\pip\\cache\\wheels\\4d\\43\\6e\\bd2d0e1ccee77089e0b266ebc4948d9a90ef363e0be23663aa\n",
      "  Building wheel for spglm (setup.py): started\n",
      "  Building wheel for spglm (setup.py): finished with status 'done'\n",
      "  Created wheel for spglm: filename=spglm-1.0.8-py3-none-any.whl size=38806 sha256=00482615b30a9f0fc177a04c2bfd5aff885552161f981a67240b4bacf31eed83\n",
      "  Stored in directory: c:\\users\\ronal\\appdata\\local\\pip\\cache\\wheels\\a2\\a7\\67\\07d6d6809173d768c16235f813520d6a4053984a160aa933fa\n",
      "  Building wheel for spint (setup.py): started\n",
      "  Building wheel for spint (setup.py): finished with status 'done'\n",
      "  Created wheel for spint: filename=spint-1.0.7-py3-none-any.whl size=31383 sha256=31422c04f355f802fc200f6b5add0c90473bbcd8a2815fb78de8bec5aa17ac58\n",
      "  Stored in directory: c:\\users\\ronal\\appdata\\local\\pip\\cache\\wheels\\f6\\1d\\ab\\81b0c9d17a778a97ec078147cb11901afdab420c4894dcfbc5\n",
      "  Building wheel for spvcm (setup.py): started\n",
      "  Building wheel for spvcm (setup.py): finished with status 'done'\n",
      "  Created wheel for spvcm: filename=spvcm-0.3.0-py3-none-any.whl size=5777202 sha256=e24c098f983314e83e221cbfaaea2155e800b4e8029e6a98a3fb8eb2b815d36f\n",
      "  Stored in directory: c:\\users\\ronal\\appdata\\local\\pip\\cache\\wheels\\1c\\58\\6f\\debcb62c0a142a6615a65f23217209b543b478d309edfa4e2b\n",
      "Successfully built inequality mgwr spglm spint spvcm\n",
      "Installing collected packages: pulp, mpmath, tqdm, sympy, simplejson, rtree, platformdirs, numpy, llvmlite, affine, snuggs, scipy, numba, deprecation, rasterio, quantecon, inequality, rasterstats, mapclassify, geopandas, libpysal, access, tobler, spreg, segregation, pointpats, momepy, esda, spvcm, spglm, spaghetti, giddy, spopt, splot, spint, mgwr, pysal\n",
      "  Attempting uninstall: numpy\n",
      "    Found existing installation: numpy 1.22.3\n",
      "    Uninstalling numpy-1.22.3:\n",
      "      Successfully uninstalled numpy-1.22.3\n",
      "  Attempting uninstall: scipy\n",
      "    Found existing installation: scipy 1.8.0\n",
      "    Uninstalling scipy-1.8.0:\n",
      "      Successfully uninstalled scipy-1.8.0\n",
      "  Attempting uninstall: geopandas\n",
      "    Found existing installation: geopandas 0.9.0\n",
      "    Uninstalling geopandas-0.9.0:\n",
      "      Successfully uninstalled geopandas-0.9.0\n",
      "Successfully installed access-1.1.9 affine-2.4.0 deprecation-2.1.0 esda-2.5.0 geopandas-0.14.0 giddy-2.3.4 inequality-1.0.0 libpysal-4.8.0 llvmlite-0.41.1 mapclassify-2.6.1 mgwr-2.1.2 momepy-0.6.0 mpmath-1.3.0 numba-0.58.1 numpy-1.26.1 platformdirs-3.11.0 pointpats-2.4.0 pulp-2.7.0 pysal-23.7 quantecon-0.7.1 rasterio-1.3.8.post2 rasterstats-0.19.0 rtree-1.1.0 scipy-1.11.3 segregation-2.5 simplejson-3.19.2 snuggs-1.4.7 spaghetti-1.7.4 spglm-1.0.8 spint-1.0.7 splot-1.1.5.post1 spopt-0.5.0 spreg-1.4.1 spvcm-0.3.0 sympy-1.12 tobler-0.11.2 tqdm-4.66.1\n",
      "Note: you may need to restart the kernel to use updated packages.\n"
     ]
    },
    {
     "name": "stderr",
     "output_type": "stream",
     "text": [
      "WARNING: You are using pip version 22.0.4; however, version 23.2.1 is available.\n",
      "You should consider upgrading via the 'c:\\Users\\ronal\\AppData\\Local\\Programs\\Python\\Python310\\python.exe -m pip install --upgrade pip' command.\n"
     ]
    }
   ],
   "source": [
    "pip install pysal"
   ]
  },
  {
   "cell_type": "code",
   "execution_count": 1,
   "metadata": {},
   "outputs": [
    {
     "ename": "ModuleNotFoundError",
     "evalue": "No module named 'pysal'",
     "output_type": "error",
     "traceback": [
      "\u001b[1;31m---------------------------------------------------------------------------\u001b[0m",
      "\u001b[1;31mModuleNotFoundError\u001b[0m                       Traceback (most recent call last)",
      "\u001b[1;32mf:\\TESIS\\Proyecto_mod_precipitacion\\Codigos de Python\\NoteNook_model_KNN.ipynb Cell 99\u001b[0m line \u001b[0;36m<cell line: 1>\u001b[1;34m()\u001b[0m\n\u001b[1;32m----> <a href='vscode-notebook-cell:/f%3A/TESIS/Proyecto_mod_precipitacion/Codigos%20de%20Python/NoteNook_model_KNN.ipynb#Y200sZmlsZQ%3D%3D?line=0'>1</a>\u001b[0m \u001b[39mimport\u001b[39;00m \u001b[39mpysal\u001b[39;00m \u001b[39mas\u001b[39;00m \u001b[39mps\u001b[39;00m\n\u001b[0;32m      <a href='vscode-notebook-cell:/f%3A/TESIS/Proyecto_mod_precipitacion/Codigos%20de%20Python/NoteNook_model_KNN.ipynb#Y200sZmlsZQ%3D%3D?line=1'>2</a>\u001b[0m \u001b[39mimport\u001b[39;00m \u001b[39mgeopandas\u001b[39;00m \u001b[39mas\u001b[39;00m \u001b[39mgpd\u001b[39;00m\n\u001b[0;32m      <a href='vscode-notebook-cell:/f%3A/TESIS/Proyecto_mod_precipitacion/Codigos%20de%20Python/NoteNook_model_KNN.ipynb#Y200sZmlsZQ%3D%3D?line=3'>4</a>\u001b[0m \u001b[39m# Cargar datos espaciales (por ejemplo, un archivo shapefile)\u001b[39;00m\n",
      "\u001b[1;31mModuleNotFoundError\u001b[0m: No module named 'pysal'"
     ]
    }
   ],
   "source": [
    "import pysal as ps\n",
    "import geopandas as gpd\n",
    "\n",
    "# Cargar datos espaciales (por ejemplo, un archivo shapefile)\n",
    "gdf = gpd.read_file('path_to_shapefile.shp')\n",
    "# Matriz de pesos espaciales\n",
    "w = ps.lib.weights.Queen.from_dataframe(gdf)\n",
    "# Variable a analizar\n",
    "y = gdf['column_name'].values\n",
    "# Calculo de Moran's I\n",
    "mi = ps.explore.esda.Moran(y, w)\n",
    "print(mi.I, mi.p_sim)\n"
   ]
  },
  {
   "cell_type": "code",
   "execution_count": null,
   "metadata": {},
   "outputs": [],
   "source": [
    "from pysal.explore.esda import Moran_Local\n",
    "\n",
    "# Calculo de LISA\n",
    "lisa = Moran_Local(y, w)\n",
    "# Visualización\n",
    "import matplotlib.pyplot as plt\n",
    "gdf['lisa_cluster'] = lisa.Is\n",
    "gdf.plot(column='lisa_cluster')\n",
    "plt.show()\n"
   ]
  },
  {
   "cell_type": "markdown",
   "metadata": {},
   "source": [
    "Referencias \n",
    "\n",
    "@article{rubin1976,\n",
    "  title={Inference and missing data},\n",
    "  author={Rubin, Donald B},\n",
    "  journal={Biometrika},\n",
    "  volume={63},\n",
    "  number={3},\n",
    "  pages={581--592},\n",
    "  year={1976},\n",
    "  publisher={Oxford University Press}\n",
    "}\n",
    "\n",
    "@book{little1987,\n",
    "  title={Statistical Analysis with Missing Data},\n",
    "  author={Little, Roderick JA and Rubin, Donald B},\n",
    "  year={1987},\n",
    "  publisher={John Wiley \\& Sons}\n",
    "}\n",
    "\n",
    "@book{hastie2009,\n",
    "  title={The Elements of Statistical Learning: Data Mining, Inference, and Prediction},\n",
    "  author={Hastie, Trevor and Tibshirani, Robert and Friedman, Jerome},\n",
    "  year={2009},\n",
    "  publisher={Springer Science \\& Business Media}\n",
    "}\n",
    "\n",
    "@book{james2013,\n",
    "  title={An Introduction to Statistical Learning},\n",
    "  author={James, Gareth and Witten, Daniela and Hastie, Trevor and Tibshirani, Robert},\n",
    "  year={2013},\n",
    "  publisher={Springer}\n",
    "}\n",
    "\n",
    "@book{bishop2006,\n",
    "  title={Pattern Recognition and Machine Learning},\n",
    "  author={Bishop, Christopher M},\n",
    "  year={2006},\n",
    "  publisher={springer}\n",
    "}\n"
   ]
  }
 ],
 "metadata": {
  "kernelspec": {
   "display_name": "Python 3",
   "language": "python",
   "name": "python3"
  },
  "language_info": {
   "codemirror_mode": {
    "name": "ipython",
    "version": 3
   },
   "file_extension": ".py",
   "mimetype": "text/x-python",
   "name": "python",
   "nbconvert_exporter": "python",
   "pygments_lexer": "ipython3",
   "version": "3.10.4"
  },
  "orig_nbformat": 4
 },
 "nbformat": 4,
 "nbformat_minor": 2
}
