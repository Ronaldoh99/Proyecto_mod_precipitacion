{
 "cells": [
  {
   "attachments": {},
   "cell_type": "markdown",
   "metadata": {},
   "source": [
    "# Imputacion de Datos Faltantes para la Precipitacion del Meta mediante modelación XGBOOST"
   ]
  },
  {
   "attachments": {},
   "cell_type": "markdown",
   "metadata": {},
   "source": [
    "Este Jupyter Notebook se enfoca en el desarrolo metodologico del trabajo de grado de los estudiantes Ronaldo Hernandez Mejia y Hector Freddy Velasco, en el cual se enfoca en la imputaciopn de datos faltnates para la variable de precipitacion en el departamento del Meta, Colombia. Con una gran volumen de datos de la informacion diaria de la precipitacion desde 1980 hasta el 2016, seleccionando un total de 56 Estaciones meteorologias del IDEAM.\n",
    "\n",
    "La región del Meta es muy importante en este país por la diversidad del clima y su efecto sobre la agricultura y otros sectores económicos. La variabilidad de las precipitaciones juega un papel importante en el análisis del clima y la toma de decisiones relacionadas con  la gestión del agua y el clima. \n",
    "\n",
    "El objetivo principal es desarrolar un modelo basado en el algotimo K-Nearest Neighbors(KNN) para imputar los datos faltantes de precipitacion, utilizando un conjunto de datos que contiene mas de 700.000 observaciones. \n",
    "\n",
    "Dada la gran cantidad de datos se ha implementado una version que utiliza los cores del procesador para ejecutar el modelo en paralelo optimizando asi el tiempo de ejecucion, mejorando la eficiencia computacional y acelerar el proceso, tambien por este motivo el desarrolo en python tiene tiempos de respuesta cortos en el manejo de datos.\n",
    "\n"
   ]
  },
  {
   "attachments": {},
   "cell_type": "markdown",
   "metadata": {},
   "source": [
    "### instalacion de librerias"
   ]
  },
  {
   "cell_type": "code",
   "execution_count": 1,
   "metadata": {},
   "outputs": [],
   "source": [
    "import subprocess\n",
    "import sys\n",
    "import importlib\n",
    "\n",
    "def install_and_import(package):\n",
    "    try:\n",
    "        importlib.import_module(package)\n",
    "    except ImportError:\n",
    "        subprocess.check_call([sys.executable, \"-m\", \"pip\", \"install\", package])\n",
    "    finally:\n",
    "        globals()[package] = importlib.import_module(package)\n"
   ]
  },
  {
   "cell_type": "code",
   "execution_count": 2,
   "metadata": {},
   "outputs": [],
   "source": [
    "packages = ['pandas', 'IPython', 'pandasgui', 'numpy', 'matplotlib','joblib','sklearn']\n",
    "\n",
    "\n",
    "for package in packages:\n",
    "    install_and_import(package)\n"
   ]
  },
  {
   "attachments": {},
   "cell_type": "markdown",
   "metadata": {},
   "source": [
    "En caso de que no funcione instalacion manual:"
   ]
  },
  {
   "cell_type": "code",
   "execution_count": 3,
   "metadata": {},
   "outputs": [
    {
     "data": {
      "text/plain": [
       "'c:\\\\Users\\\\vhect\\\\Documents\\\\semestre 9\\\\trabajo de grado\\\\proyecto_prec_vsdcode\\\\Proyecto_mod_precipitacion\\\\Codigos de Python'"
      ]
     },
     "execution_count": 3,
     "metadata": {},
     "output_type": "execute_result"
    }
   ],
   "source": [
    "import os\n",
    "#observar donde estoy en ruta \n",
    "os.getcwd()"
   ]
  },
  {
   "attachments": {},
   "cell_type": "markdown",
   "metadata": {},
   "source": [
    "ruta ronaldo "
   ]
  },
  {
   "cell_type": "code",
   "execution_count": 4,
   "metadata": {},
   "outputs": [],
   "source": [
    "# import os\n",
    "# current_path = os.getcwd()\n",
    "# print(f\"Ruta actual del directorio de trabajo: {current_path}\")\n",
    "# new_path = \"F:\\\\TESIS\\\\Proyecto_mod_precipitacion\"\n",
    "# os.chdir(new_path)\n",
    "# new_current_path = os.getcwd()\n",
    "# print(f\"Nueva ruta del directorio de trabajo: {new_current_path}\")"
   ]
  },
  {
   "attachments": {},
   "cell_type": "markdown",
   "metadata": {},
   "source": [
    "ruta hector \n"
   ]
  },
  {
   "cell_type": "code",
   "execution_count": 4,
   "metadata": {},
   "outputs": [
    {
     "name": "stdout",
     "output_type": "stream",
     "text": [
      "Ruta actual del directorio de trabajo: c:\\Users\\vhect\\Documents\\semestre 9\\trabajo de grado\\proyecto_prec_vsdcode\\Proyecto_mod_precipitacion\\Codigos de Python\n",
      "Nueva ruta del directorio de trabajo: c:\\Users\\vhect\\Documents\\semestre 10\\TESIS\\Proyecto_mod_precipitacion\n"
     ]
    }
   ],
   "source": [
    "import os\n",
    "current_path = os.getcwd()\n",
    "print(f\"Ruta actual del directorio de trabajo: {current_path}\")\n",
    "new_path = \"c:\\\\Users\\\\vhect\\\\Documents\\\\semestre 10\\\\TESIS\\\\Proyecto_mod_precipitacion\"\n",
    "os.chdir(new_path)\n",
    "new_current_path = os.getcwd()\n",
    "print(f\"Nueva ruta del directorio de trabajo: {new_current_path}\")"
   ]
  },
  {
   "attachments": {},
   "cell_type": "markdown",
   "metadata": {},
   "source": [
    "### Lectura de datos"
   ]
  },
  {
   "cell_type": "code",
   "execution_count": 5,
   "metadata": {},
   "outputs": [
    {
     "data": {
      "text/html": [
       "<div>\n",
       "<style scoped>\n",
       "    .dataframe tbody tr th:only-of-type {\n",
       "        vertical-align: middle;\n",
       "    }\n",
       "\n",
       "    .dataframe tbody tr th {\n",
       "        vertical-align: top;\n",
       "    }\n",
       "\n",
       "    .dataframe thead th {\n",
       "        text-align: right;\n",
       "    }\n",
       "</style>\n",
       "<table border=\"1\" class=\"dataframe\">\n",
       "  <thead>\n",
       "    <tr style=\"text-align: right;\">\n",
       "      <th></th>\n",
       "      <th>Date</th>\n",
       "      <th>prec</th>\n",
       "      <th>ID</th>\n",
       "      <th>LAT</th>\n",
       "      <th>LON</th>\n",
       "    </tr>\n",
       "  </thead>\n",
       "  <tbody>\n",
       "    <tr>\n",
       "      <th>0</th>\n",
       "      <td>1983-06-09</td>\n",
       "      <td>6.8</td>\n",
       "      <td>32010010</td>\n",
       "      <td>2.562833</td>\n",
       "      <td>-74.103083</td>\n",
       "    </tr>\n",
       "    <tr>\n",
       "      <th>1</th>\n",
       "      <td>1983-06-10</td>\n",
       "      <td>17.8</td>\n",
       "      <td>32010010</td>\n",
       "      <td>2.562833</td>\n",
       "      <td>-74.103083</td>\n",
       "    </tr>\n",
       "    <tr>\n",
       "      <th>2</th>\n",
       "      <td>1983-06-11</td>\n",
       "      <td>0.0</td>\n",
       "      <td>32010010</td>\n",
       "      <td>2.562833</td>\n",
       "      <td>-74.103083</td>\n",
       "    </tr>\n",
       "    <tr>\n",
       "      <th>3</th>\n",
       "      <td>1983-06-12</td>\n",
       "      <td>0.5</td>\n",
       "      <td>32010010</td>\n",
       "      <td>2.562833</td>\n",
       "      <td>-74.103083</td>\n",
       "    </tr>\n",
       "    <tr>\n",
       "      <th>4</th>\n",
       "      <td>1983-06-13</td>\n",
       "      <td>6.9</td>\n",
       "      <td>32010010</td>\n",
       "      <td>2.562833</td>\n",
       "      <td>-74.103083</td>\n",
       "    </tr>\n",
       "  </tbody>\n",
       "</table>\n",
       "</div>"
      ],
      "text/plain": [
       "         Date  prec        ID       LAT        LON\n",
       "0  1983-06-09   6.8  32010010  2.562833 -74.103083\n",
       "1  1983-06-10  17.8  32010010  2.562833 -74.103083\n",
       "2  1983-06-11   0.0  32010010  2.562833 -74.103083\n",
       "3  1983-06-12   0.5  32010010  2.562833 -74.103083\n",
       "4  1983-06-13   6.9  32010010  2.562833 -74.103083"
      ]
     },
     "execution_count": 5,
     "metadata": {},
     "output_type": "execute_result"
    }
   ],
   "source": [
    "import pandas as pd\n",
    "data = pd.read_csv(\"Datos/datos_seleccionados_para_modelo_coordenadas.txt\",sep=\";\")\n",
    "data.head()\n"
   ]
  },
  {
   "cell_type": "code",
   "execution_count": 6,
   "metadata": {},
   "outputs": [],
   "source": [
    "# Asegurarte de que 'Date' es una columna datetime\n",
    "data['Date'] = pd.to_datetime(data['Date'])\n",
    "\n",
    "# Crear nuevas columnas para el año, mes y día\n",
    "data['Year'] = data['Date'].dt.year\n",
    "data['Month'] = data['Date'].dt.month\n",
    "data['Day'] = data['Date'].dt.day\n",
    "\n",
    "# Crear un nuevo dataframe con las columnas deseadas\n",
    "new_data = data[['ID', 'Year', 'Month', 'Day', 'prec', 'LAT', 'LON']].copy()"
   ]
  },
  {
   "cell_type": "code",
   "execution_count": 7,
   "metadata": {},
   "outputs": [],
   "source": [
    "new_data = new_data.sort_values('ID')"
   ]
  },
  {
   "cell_type": "code",
   "execution_count": 8,
   "metadata": {},
   "outputs": [],
   "source": [
    "new_data = new_data.rename(columns={\n",
    "    'Year': 'Año',\n",
    "    'Month': 'Mes',\n",
    "    'Day': 'Día',\n",
    "    'prec': 'prec',\n",
    "    'LAT': 'LAT',\n",
    "    'LON': 'LON'\n",
    "})\n",
    "\n",
    "\n",
    "new_data2 = new_data.rename(columns={\n",
    "    'Year': 'Año',\n",
    "    'Month': 'Mes',\n",
    "    'Day': 'Día',\n",
    "    'prec': 'prec',\n",
    "    'LAT': 'LAT',\n",
    "    'LON': 'LON',\n",
    "    'ID': 'ID'\n",
    "})"
   ]
  },
  {
   "cell_type": "code",
   "execution_count": 9,
   "metadata": {},
   "outputs": [],
   "source": [
    "new_data = new_data[['Año', 'Mes', 'Día', 'prec', 'LAT', 'LON']]\n",
    "new_data2 = new_data2[['Año', 'Mes', 'Día', 'prec', 'LAT', 'LON','ID']]"
   ]
  },
  {
   "cell_type": "markdown",
   "metadata": {},
   "source": [
    "## Separacion de datos completos y faltantes"
   ]
  },
  {
   "cell_type": "markdown",
   "metadata": {},
   "source": [
    "Surge de la necesidad de tener la data completa para tener el registro de los datos observados reales, los cuales son los que brindaran el soporte a las matricas estadisticas de desempeño como el RMSE,MAE,PRMSE"
   ]
  },
  {
   "cell_type": "code",
   "execution_count": 10,
   "metadata": {},
   "outputs": [],
   "source": [
    "# Separar los datos completos de los datos con valores faltantes en 'Prec'\n",
    "data_completa = new_data.dropna(subset=['prec'])\n",
    "data_faltantes = new_data[new_data['prec'].isna()]\n",
    "\n",
    "#Que incluya la variable ID\n",
    "\n",
    "data_completa2 = new_data2.dropna(subset=['prec'])\n",
    "data_faltantes2 = new_data2[new_data['prec'].isna()]"
   ]
  },
  {
   "cell_type": "markdown",
   "metadata": {},
   "source": [
    "Ahora para simular los datos faltantes reales del 8.27%, se imputaran el 10% de datos faltantes por medio de una funcion aletoria para un total de 59.212 datos faltantes, la funcion toma aletoriamente las posiciones de la variable seleccionada y realizara un extraccion de la informacion, dejando asi un registro faltante como resultado.\n",
    "\n",
    "Esto con el objetivo de simular la situacion del modelo en una naturaleza de los datos completamente al azar,En el proceso de análisis de datos, especialmente en contextos donde la imputación de datos faltantes es crucial, es importante simular condiciones realistas para evaluar la robustez y eficacia de los métodos de imputación. Esto se logra a través de la inserción controlada de datos faltantes en el conjunto de datos original. La introducción de un porcentaje específico de datos faltantes, en este caso, un 10%, se basa en la necesidad de replicar escenarios comunes en la recopilación de datos donde la ausencia de información puede deberse a errores de medición, fallas de los sensores, o problemas en la transmisión de datos (Rubin, 1976; Little & Rubin, 1987)\\cite{rubin1976, little1987}."
   ]
  },
  {
   "cell_type": "code",
   "execution_count": 11,
   "metadata": {},
   "outputs": [],
   "source": [
    "import numpy as np\n",
    "import pandas as pd\n",
    "\n",
    "def insertar_nan_aleatoriamente(df, nombre_columna, fraccion, semilla=42):\n",
    "    np.random.seed(semilla)  # Establecer la semilla\n",
    "    df = df.copy()\n",
    "    df['Original'] = df[nombre_columna]\n",
    "    indices_a_modificar = df[nombre_columna].dropna().sample(frac=fraccion).index\n",
    "    df.loc[indices_a_modificar, nombre_columna] = np.nan\n",
    "    return df\n",
    "\n",
    "#Esta función con la misma semilla\n",
    "data_completa_mod = insertar_nan_aleatoriamente(data_completa, 'prec', 0.1)\n",
    "data_completa_mod2 = insertar_nan_aleatoriamente(data_completa2, 'prec', 0.1)\n"
   ]
  },
  {
   "cell_type": "code",
   "execution_count": 37,
   "metadata": {},
   "outputs": [
    {
     "name": "stdout",
     "output_type": "stream",
     "text": [
      "<class 'pandas.core.frame.DataFrame'>\n",
      "Index: 592124 entries, 0 to 656435\n",
      "Data columns (total 8 columns):\n",
      " #   Column    Non-Null Count   Dtype  \n",
      "---  ------    --------------   -----  \n",
      " 0   Año       592124 non-null  int32  \n",
      " 1   Mes       592124 non-null  int32  \n",
      " 2   Día       592124 non-null  int32  \n",
      " 3   prec      532912 non-null  float64\n",
      " 4   LAT       592124 non-null  float64\n",
      " 5   LON       592124 non-null  float64\n",
      " 6   ID        592124 non-null  int64  \n",
      " 7   Original  592124 non-null  float64\n",
      "dtypes: float64(4), int32(3), int64(1)\n",
      "memory usage: 50.0 MB\n"
     ]
    },
    {
     "data": {
      "text/html": [
       "<div>\n",
       "<style scoped>\n",
       "    .dataframe tbody tr th:only-of-type {\n",
       "        vertical-align: middle;\n",
       "    }\n",
       "\n",
       "    .dataframe tbody tr th {\n",
       "        vertical-align: top;\n",
       "    }\n",
       "\n",
       "    .dataframe thead th {\n",
       "        text-align: right;\n",
       "    }\n",
       "</style>\n",
       "<table border=\"1\" class=\"dataframe\">\n",
       "  <thead>\n",
       "    <tr style=\"text-align: right;\">\n",
       "      <th></th>\n",
       "      <th>Año</th>\n",
       "      <th>Mes</th>\n",
       "      <th>Día</th>\n",
       "      <th>prec</th>\n",
       "      <th>LAT</th>\n",
       "      <th>LON</th>\n",
       "      <th>ID</th>\n",
       "      <th>Original</th>\n",
       "    </tr>\n",
       "  </thead>\n",
       "  <tbody>\n",
       "    <tr>\n",
       "      <th>0</th>\n",
       "      <td>1983</td>\n",
       "      <td>6</td>\n",
       "      <td>9</td>\n",
       "      <td>6.8</td>\n",
       "      <td>2.562833</td>\n",
       "      <td>-74.103083</td>\n",
       "      <td>32010010</td>\n",
       "      <td>6.8</td>\n",
       "    </tr>\n",
       "    <tr>\n",
       "      <th>8045</th>\n",
       "      <td>2005</td>\n",
       "      <td>6</td>\n",
       "      <td>18</td>\n",
       "      <td>8.0</td>\n",
       "      <td>2.562833</td>\n",
       "      <td>-74.103083</td>\n",
       "      <td>32010010</td>\n",
       "      <td>8.0</td>\n",
       "    </tr>\n",
       "    <tr>\n",
       "      <th>8046</th>\n",
       "      <td>2005</td>\n",
       "      <td>6</td>\n",
       "      <td>19</td>\n",
       "      <td>NaN</td>\n",
       "      <td>2.562833</td>\n",
       "      <td>-74.103083</td>\n",
       "      <td>32010010</td>\n",
       "      <td>12.0</td>\n",
       "    </tr>\n",
       "    <tr>\n",
       "      <th>8047</th>\n",
       "      <td>2005</td>\n",
       "      <td>6</td>\n",
       "      <td>20</td>\n",
       "      <td>0.0</td>\n",
       "      <td>2.562833</td>\n",
       "      <td>-74.103083</td>\n",
       "      <td>32010010</td>\n",
       "      <td>0.0</td>\n",
       "    </tr>\n",
       "    <tr>\n",
       "      <th>8048</th>\n",
       "      <td>2005</td>\n",
       "      <td>6</td>\n",
       "      <td>21</td>\n",
       "      <td>4.0</td>\n",
       "      <td>2.562833</td>\n",
       "      <td>-74.103083</td>\n",
       "      <td>32010010</td>\n",
       "      <td>4.0</td>\n",
       "    </tr>\n",
       "    <tr>\n",
       "      <th>8049</th>\n",
       "      <td>2005</td>\n",
       "      <td>6</td>\n",
       "      <td>22</td>\n",
       "      <td>0.0</td>\n",
       "      <td>2.562833</td>\n",
       "      <td>-74.103083</td>\n",
       "      <td>32010010</td>\n",
       "      <td>0.0</td>\n",
       "    </tr>\n",
       "    <tr>\n",
       "      <th>8050</th>\n",
       "      <td>2005</td>\n",
       "      <td>6</td>\n",
       "      <td>23</td>\n",
       "      <td>NaN</td>\n",
       "      <td>2.562833</td>\n",
       "      <td>-74.103083</td>\n",
       "      <td>32010010</td>\n",
       "      <td>3.0</td>\n",
       "    </tr>\n",
       "    <tr>\n",
       "      <th>8051</th>\n",
       "      <td>2005</td>\n",
       "      <td>6</td>\n",
       "      <td>24</td>\n",
       "      <td>NaN</td>\n",
       "      <td>2.562833</td>\n",
       "      <td>-74.103083</td>\n",
       "      <td>32010010</td>\n",
       "      <td>41.0</td>\n",
       "    </tr>\n",
       "    <tr>\n",
       "      <th>8052</th>\n",
       "      <td>2005</td>\n",
       "      <td>6</td>\n",
       "      <td>25</td>\n",
       "      <td>8.0</td>\n",
       "      <td>2.562833</td>\n",
       "      <td>-74.103083</td>\n",
       "      <td>32010010</td>\n",
       "      <td>8.0</td>\n",
       "    </tr>\n",
       "    <tr>\n",
       "      <th>8053</th>\n",
       "      <td>2005</td>\n",
       "      <td>6</td>\n",
       "      <td>26</td>\n",
       "      <td>3.0</td>\n",
       "      <td>2.562833</td>\n",
       "      <td>-74.103083</td>\n",
       "      <td>32010010</td>\n",
       "      <td>3.0</td>\n",
       "    </tr>\n",
       "  </tbody>\n",
       "</table>\n",
       "</div>"
      ],
      "text/plain": [
       "       Año  Mes  Día  prec       LAT        LON        ID  Original\n",
       "0     1983    6    9   6.8  2.562833 -74.103083  32010010       6.8\n",
       "8045  2005    6   18   8.0  2.562833 -74.103083  32010010       8.0\n",
       "8046  2005    6   19   NaN  2.562833 -74.103083  32010010      12.0\n",
       "8047  2005    6   20   0.0  2.562833 -74.103083  32010010       0.0\n",
       "8048  2005    6   21   4.0  2.562833 -74.103083  32010010       4.0\n",
       "8049  2005    6   22   0.0  2.562833 -74.103083  32010010       0.0\n",
       "8050  2005    6   23   NaN  2.562833 -74.103083  32010010       3.0\n",
       "8051  2005    6   24   NaN  2.562833 -74.103083  32010010      41.0\n",
       "8052  2005    6   25   8.0  2.562833 -74.103083  32010010       8.0\n",
       "8053  2005    6   26   3.0  2.562833 -74.103083  32010010       3.0"
      ]
     },
     "execution_count": 37,
     "metadata": {},
     "output_type": "execute_result"
    }
   ],
   "source": [
    "data_completa_mod2.info()\n",
    "data_completa_mod2.head(10)"
   ]
  },
  {
   "cell_type": "markdown",
   "metadata": {},
   "source": [
    "## Visualización datos faltantes para la data completa modificada"
   ]
  },
  {
   "cell_type": "code",
   "execution_count": 38,
   "metadata": {},
   "outputs": [
    {
     "data": {
      "text/plain": [
       "<Figure size 1000x600 with 0 Axes>"
      ]
     },
     "metadata": {},
     "output_type": "display_data"
    },
    {
     "data": {
      "image/png": "[encoded data removed]",
      "text/plain": [
       "<Figure size 2500x1000 with 2 Axes>"
      ]
     },
     "metadata": {},
     "output_type": "display_data"
    }
   ],
   "source": [
    "import pandas as pd\n",
    "import missingno as msno\n",
    "import matplotlib.pyplot as plt\n",
    "\n",
    "# Suponemos que 'data' es tu DataFrame\n",
    "\n",
    "# Visualizar la completitud de los datos con matriz\n",
    "plt.figure(figsize=(10,6))\n",
    "msno.matrix(data_completa_mod2)\n",
    "plt.title('Matriz de completitud de los datos', fontsize=20)\n",
    "plt.show()"
   ]
  },
  {
   "cell_type": "code",
   "execution_count": 39,
   "metadata": {},
   "outputs": [
    {
     "data": {
      "text/html": [
       "<div>\n",
       "<style scoped>\n",
       "    .dataframe tbody tr th:only-of-type {\n",
       "        vertical-align: middle;\n",
       "    }\n",
       "\n",
       "    .dataframe tbody tr th {\n",
       "        vertical-align: top;\n",
       "    }\n",
       "\n",
       "    .dataframe thead th {\n",
       "        text-align: right;\n",
       "    }\n",
       "</style>\n",
       "<table border=\"1\" class=\"dataframe\">\n",
       "  <thead>\n",
       "    <tr style=\"text-align: right;\">\n",
       "      <th></th>\n",
       "      <th>Año</th>\n",
       "      <th>Mes</th>\n",
       "      <th>Día</th>\n",
       "      <th>prec</th>\n",
       "      <th>LAT</th>\n",
       "      <th>LON</th>\n",
       "      <th>ID</th>\n",
       "      <th>Original</th>\n",
       "    </tr>\n",
       "  </thead>\n",
       "  <tbody>\n",
       "    <tr>\n",
       "      <th>8046</th>\n",
       "      <td>2005</td>\n",
       "      <td>6</td>\n",
       "      <td>19</td>\n",
       "      <td>NaN</td>\n",
       "      <td>2.562833</td>\n",
       "      <td>-74.103083</td>\n",
       "      <td>32010010</td>\n",
       "      <td>12.0</td>\n",
       "    </tr>\n",
       "    <tr>\n",
       "      <th>8050</th>\n",
       "      <td>2005</td>\n",
       "      <td>6</td>\n",
       "      <td>23</td>\n",
       "      <td>NaN</td>\n",
       "      <td>2.562833</td>\n",
       "      <td>-74.103083</td>\n",
       "      <td>32010010</td>\n",
       "      <td>3.0</td>\n",
       "    </tr>\n",
       "    <tr>\n",
       "      <th>8051</th>\n",
       "      <td>2005</td>\n",
       "      <td>6</td>\n",
       "      <td>24</td>\n",
       "      <td>NaN</td>\n",
       "      <td>2.562833</td>\n",
       "      <td>-74.103083</td>\n",
       "      <td>32010010</td>\n",
       "      <td>41.0</td>\n",
       "    </tr>\n",
       "    <tr>\n",
       "      <th>8021</th>\n",
       "      <td>2005</td>\n",
       "      <td>5</td>\n",
       "      <td>25</td>\n",
       "      <td>NaN</td>\n",
       "      <td>2.562833</td>\n",
       "      <td>-74.103083</td>\n",
       "      <td>32010010</td>\n",
       "      <td>0.0</td>\n",
       "    </tr>\n",
       "    <tr>\n",
       "      <th>8028</th>\n",
       "      <td>2005</td>\n",
       "      <td>6</td>\n",
       "      <td>1</td>\n",
       "      <td>NaN</td>\n",
       "      <td>2.562833</td>\n",
       "      <td>-74.103083</td>\n",
       "      <td>32010010</td>\n",
       "      <td>8.0</td>\n",
       "    </tr>\n",
       "    <tr>\n",
       "      <th>...</th>\n",
       "      <td>...</td>\n",
       "      <td>...</td>\n",
       "      <td>...</td>\n",
       "      <td>...</td>\n",
       "      <td>...</td>\n",
       "      <td>...</td>\n",
       "      <td>...</td>\n",
       "      <td>...</td>\n",
       "    </tr>\n",
       "    <tr>\n",
       "      <th>654363</th>\n",
       "      <td>2008</td>\n",
       "      <td>11</td>\n",
       "      <td>14</td>\n",
       "      <td>NaN</td>\n",
       "      <td>4.260361</td>\n",
       "      <td>-72.564472</td>\n",
       "      <td>35185010</td>\n",
       "      <td>0.0</td>\n",
       "    </tr>\n",
       "    <tr>\n",
       "      <th>654368</th>\n",
       "      <td>2008</td>\n",
       "      <td>11</td>\n",
       "      <td>19</td>\n",
       "      <td>NaN</td>\n",
       "      <td>4.260361</td>\n",
       "      <td>-72.564472</td>\n",
       "      <td>35185010</td>\n",
       "      <td>1.2</td>\n",
       "    </tr>\n",
       "    <tr>\n",
       "      <th>654246</th>\n",
       "      <td>2008</td>\n",
       "      <td>7</td>\n",
       "      <td>20</td>\n",
       "      <td>NaN</td>\n",
       "      <td>4.260361</td>\n",
       "      <td>-72.564472</td>\n",
       "      <td>35185010</td>\n",
       "      <td>0.1</td>\n",
       "    </tr>\n",
       "    <tr>\n",
       "      <th>654280</th>\n",
       "      <td>2008</td>\n",
       "      <td>8</td>\n",
       "      <td>23</td>\n",
       "      <td>NaN</td>\n",
       "      <td>4.260361</td>\n",
       "      <td>-72.564472</td>\n",
       "      <td>35185010</td>\n",
       "      <td>0.6</td>\n",
       "    </tr>\n",
       "    <tr>\n",
       "      <th>656435</th>\n",
       "      <td>2014</td>\n",
       "      <td>7</td>\n",
       "      <td>18</td>\n",
       "      <td>NaN</td>\n",
       "      <td>4.260361</td>\n",
       "      <td>-72.564472</td>\n",
       "      <td>35185010</td>\n",
       "      <td>0.0</td>\n",
       "    </tr>\n",
       "  </tbody>\n",
       "</table>\n",
       "<p>59212 rows × 8 columns</p>\n",
       "</div>"
      ],
      "text/plain": [
       "         Año  Mes  Día  prec       LAT        LON        ID  Original\n",
       "8046    2005    6   19   NaN  2.562833 -74.103083  32010010      12.0\n",
       "8050    2005    6   23   NaN  2.562833 -74.103083  32010010       3.0\n",
       "8051    2005    6   24   NaN  2.562833 -74.103083  32010010      41.0\n",
       "8021    2005    5   25   NaN  2.562833 -74.103083  32010010       0.0\n",
       "8028    2005    6    1   NaN  2.562833 -74.103083  32010010       8.0\n",
       "...      ...  ...  ...   ...       ...        ...       ...       ...\n",
       "654363  2008   11   14   NaN  4.260361 -72.564472  35185010       0.0\n",
       "654368  2008   11   19   NaN  4.260361 -72.564472  35185010       1.2\n",
       "654246  2008    7   20   NaN  4.260361 -72.564472  35185010       0.1\n",
       "654280  2008    8   23   NaN  4.260361 -72.564472  35185010       0.6\n",
       "656435  2014    7   18   NaN  4.260361 -72.564472  35185010       0.0\n",
       "\n",
       "[59212 rows x 8 columns]"
      ]
     },
     "execution_count": 39,
     "metadata": {},
     "output_type": "execute_result"
    }
   ],
   "source": [
    "soloNAn=na_rows = data_completa_mod2[data_completa_mod2['prec'].isna()]\n",
    "soloNAn"
   ]
  },
  {
   "cell_type": "code",
   "execution_count": null,
   "metadata": {},
   "outputs": [],
   "source": []
  },
  {
   "cell_type": "markdown",
   "metadata": {},
   "source": [
    "## Analisis exploratorio"
   ]
  },
  {
   "cell_type": "code",
   "execution_count": 15,
   "metadata": {},
   "outputs": [
    {
     "name": "stdout",
     "output_type": "stream",
     "text": [
      "count    592124.000000\n",
      "mean          8.915141\n",
      "std          17.865258\n",
      "min           0.000000\n",
      "25%           0.000000\n",
      "50%           0.000000\n",
      "75%          10.000000\n",
      "max         438.800000\n",
      "Name: prec, dtype: float64\n"
     ]
    },
    {
     "data": {
      "image/png": "[encoded data removed]",
      "text/plain": [
       "<Figure size 1000x600 with 1 Axes>"
      ]
     },
     "metadata": {},
     "output_type": "display_data"
    },
    {
     "data": {
      "image/png": "[encoded data removed]",
      "text/plain": [
       "<Figure size 1200x600 with 1 Axes>"
      ]
     },
     "metadata": {},
     "output_type": "display_data"
    },
    {
     "data": {
      "image/png": "[encoded data removed]",
      "text/plain": [
       "<Figure size 800x800 with 2 Axes>"
      ]
     },
     "metadata": {},
     "output_type": "display_data"
    }
   ],
   "source": [
    "import pandas as pd\n",
    "import matplotlib.pyplot as plt\n",
    "\n",
    "\n",
    "# Resumen estadístico de la columna de precipitación\n",
    "print(data['prec'].describe())\n",
    "\n",
    "# Histograma de la precipitación\n",
    "plt.figure(figsize=(10, 6))\n",
    "plt.hist(data['prec'], bins=20, edgecolor='k')\n",
    "plt.title('Distribución de Precipitación')\n",
    "plt.xlabel('Precipitación (mm)')\n",
    "plt.ylabel('Frecuencia')\n",
    "plt.show()\n",
    "\n",
    "# Gráfico de línea de la precipitación a lo largo del tiempo\n",
    "plt.figure(figsize=(12, 6))\n",
    "plt.plot(data['Year'], data['prec'], marker='o', linestyle='-', color='b')\n",
    "plt.title('Precipitación a lo largo del tiempo')\n",
    "plt.xlabel('Fecha')\n",
    "plt.ylabel('Precipitación (mm)')\n",
    "plt.xticks(rotation=45)  # Para mostrar las fechas de manera legible\n",
    "plt.grid()\n",
    "plt.show()\n",
    "\n",
    "# Diagrama de dispersión de latitud y longitud\n",
    "plt.figure(figsize=(8, 8))\n",
    "plt.scatter(data['LON'], data['LAT'], c=data['prec'], cmap='coolwarm', s=20)\n",
    "plt.title('Diagrama de Dispersión de Latitud y Longitud con Color de Precipitación')\n",
    "plt.xlabel('Longitud (LON)')\n",
    "plt.ylabel('Latitud (LAT)')\n",
    "plt.colorbar(label='Precipitación (mm)')\n",
    "plt.grid()\n",
    "plt.show()\n"
   ]
  },
  {
   "cell_type": "markdown",
   "metadata": {},
   "source": [
    "## Correlación entre variables"
   ]
  },
  {
   "cell_type": "code",
   "execution_count": 16,
   "metadata": {},
   "outputs": [
    {
     "data": {
      "image/png": "[encoded data removed]",
      "text/plain": [
       "<Figure size 1000x2000 with 2 Axes>"
      ]
     },
     "metadata": {},
     "output_type": "display_data"
    }
   ],
   "source": [
    "import seaborn as sns\n",
    "plt.figure(figsize=(10,20))\n",
    "sns.heatmap(abs(data.corr()[['prec']]).sort_values(by='prec',ascending=False), annot=True, cmap=sns.cm.rocket_r)\n",
    "plt.show()"
   ]
  },
  {
   "attachments": {},
   "cell_type": "markdown",
   "metadata": {},
   "source": [
    "Estructura de los datos"
   ]
  },
  {
   "cell_type": "code",
   "execution_count": 14,
   "metadata": {},
   "outputs": [
    {
     "name": "stdout",
     "output_type": "stream",
     "text": [
      "<class 'pandas.core.frame.DataFrame'>\n",
      "RangeIndex: 656436 entries, 0 to 656435\n",
      "Data columns (total 7 columns):\n",
      " #   Column  Non-Null Count   Dtype  \n",
      "---  ------  --------------   -----  \n",
      " 0   ID      656436 non-null  int64  \n",
      " 1   Year    656436 non-null  int32  \n",
      " 2   Month   656436 non-null  int32  \n",
      " 3   Day     656436 non-null  int32  \n",
      " 4   prec    592124 non-null  float64\n",
      " 5   LAT     656436 non-null  float64\n",
      " 6   LON     656436 non-null  float64\n",
      "dtypes: float64(3), int32(3), int64(1)\n",
      "memory usage: 27.5 MB\n"
     ]
    }
   ],
   "source": [
    "data.info()"
   ]
  },
  {
   "attachments": {},
   "cell_type": "markdown",
   "metadata": {},
   "source": [
    "Visualizacion de los datos faltantes "
   ]
  },
  {
   "cell_type": "markdown",
   "metadata": {},
   "source": [
    "## Porcentaje de missing values para la precipitación"
   ]
  },
  {
   "cell_type": "code",
   "execution_count": 17,
   "metadata": {},
   "outputs": [
    {
     "data": {
      "text/html": [
       "<div>\n",
       "<style scoped>\n",
       "    .dataframe tbody tr th:only-of-type {\n",
       "        vertical-align: middle;\n",
       "    }\n",
       "\n",
       "    .dataframe tbody tr th {\n",
       "        vertical-align: top;\n",
       "    }\n",
       "\n",
       "    .dataframe thead th {\n",
       "        text-align: right;\n",
       "    }\n",
       "</style>\n",
       "<table border=\"1\" class=\"dataframe\">\n",
       "  <thead>\n",
       "    <tr style=\"text-align: right;\">\n",
       "      <th></th>\n",
       "      <th>LAT</th>\n",
       "      <th>LON</th>\n",
       "      <th>Missing_Precipitation_Percentage</th>\n",
       "    </tr>\n",
       "    <tr>\n",
       "      <th>ID</th>\n",
       "      <th></th>\n",
       "      <th></th>\n",
       "      <th></th>\n",
       "    </tr>\n",
       "  </thead>\n",
       "  <tbody>\n",
       "    <tr>\n",
       "      <th>35035010</th>\n",
       "      <td>4.077111</td>\n",
       "      <td>-73.559917</td>\n",
       "      <td>46.517451</td>\n",
       "    </tr>\n",
       "    <tr>\n",
       "      <th>35010230</th>\n",
       "      <td>3.984639</td>\n",
       "      <td>-72.971222</td>\n",
       "      <td>44.462837</td>\n",
       "    </tr>\n",
       "    <tr>\n",
       "      <th>35185010</th>\n",
       "      <td>4.260361</td>\n",
       "      <td>-72.564472</td>\n",
       "      <td>36.246154</td>\n",
       "    </tr>\n",
       "    <tr>\n",
       "      <th>32120010</th>\n",
       "      <td>3.734083</td>\n",
       "      <td>-72.369778</td>\n",
       "      <td>34.925172</td>\n",
       "    </tr>\n",
       "    <tr>\n",
       "      <th>32060090</th>\n",
       "      <td>3.576222</td>\n",
       "      <td>-74.059639</td>\n",
       "      <td>31.858780</td>\n",
       "    </tr>\n",
       "    <tr>\n",
       "      <th>35030370</th>\n",
       "      <td>4.137389</td>\n",
       "      <td>-73.625000</td>\n",
       "      <td>28.718226</td>\n",
       "    </tr>\n",
       "    <tr>\n",
       "      <th>35010150</th>\n",
       "      <td>3.883333</td>\n",
       "      <td>-73.340000</td>\n",
       "      <td>28.170546</td>\n",
       "    </tr>\n",
       "    <tr>\n",
       "      <th>35035070</th>\n",
       "      <td>4.076722</td>\n",
       "      <td>-73.582000</td>\n",
       "      <td>23.521008</td>\n",
       "    </tr>\n",
       "    <tr>\n",
       "      <th>32075030</th>\n",
       "      <td>3.120389</td>\n",
       "      <td>-73.754028</td>\n",
       "      <td>20.390098</td>\n",
       "    </tr>\n",
       "    <tr>\n",
       "      <th>35125010</th>\n",
       "      <td>4.340556</td>\n",
       "      <td>-72.156361</td>\n",
       "      <td>19.788520</td>\n",
       "    </tr>\n",
       "    <tr>\n",
       "      <th>32035020</th>\n",
       "      <td>2.438389</td>\n",
       "      <td>-73.932278</td>\n",
       "      <td>19.633073</td>\n",
       "    </tr>\n",
       "    <tr>\n",
       "      <th>32010010</th>\n",
       "      <td>2.562833</td>\n",
       "      <td>-74.103083</td>\n",
       "      <td>18.093740</td>\n",
       "    </tr>\n",
       "    <tr>\n",
       "      <th>35030380</th>\n",
       "      <td>4.144083</td>\n",
       "      <td>-73.641833</td>\n",
       "      <td>17.403651</td>\n",
       "    </tr>\n",
       "    <tr>\n",
       "      <th>33035010</th>\n",
       "      <td>4.574417</td>\n",
       "      <td>-71.340750</td>\n",
       "      <td>17.125497</td>\n",
       "    </tr>\n",
       "    <tr>\n",
       "      <th>32070090</th>\n",
       "      <td>3.316667</td>\n",
       "      <td>-73.916667</td>\n",
       "      <td>14.717013</td>\n",
       "    </tr>\n",
       "    <tr>\n",
       "      <th>32060020</th>\n",
       "      <td>3.530944</td>\n",
       "      <td>-73.901083</td>\n",
       "      <td>11.056935</td>\n",
       "    </tr>\n",
       "    <tr>\n",
       "      <th>35030020</th>\n",
       "      <td>4.310083</td>\n",
       "      <td>-73.648028</td>\n",
       "      <td>10.110585</td>\n",
       "    </tr>\n",
       "    <tr>\n",
       "      <th>32070030</th>\n",
       "      <td>3.316389</td>\n",
       "      <td>-73.892167</td>\n",
       "      <td>10.006751</td>\n",
       "    </tr>\n",
       "    <tr>\n",
       "      <th>32030020</th>\n",
       "      <td>2.322500</td>\n",
       "      <td>-73.943889</td>\n",
       "      <td>9.920305</td>\n",
       "    </tr>\n",
       "    <tr>\n",
       "      <th>32035010</th>\n",
       "      <td>2.176111</td>\n",
       "      <td>-73.793333</td>\n",
       "      <td>9.601504</td>\n",
       "    </tr>\n",
       "    <tr>\n",
       "      <th>32090010</th>\n",
       "      <td>2.889722</td>\n",
       "      <td>-72.130111</td>\n",
       "      <td>9.356287</td>\n",
       "    </tr>\n",
       "    <tr>\n",
       "      <th>32075050</th>\n",
       "      <td>3.380056</td>\n",
       "      <td>-74.042972</td>\n",
       "      <td>9.127858</td>\n",
       "    </tr>\n",
       "    <tr>\n",
       "      <th>32060060</th>\n",
       "      <td>3.742333</td>\n",
       "      <td>-73.834694</td>\n",
       "      <td>8.194864</td>\n",
       "    </tr>\n",
       "    <tr>\n",
       "      <th>32075040</th>\n",
       "      <td>3.516333</td>\n",
       "      <td>-73.716028</td>\n",
       "      <td>7.941826</td>\n",
       "    </tr>\n",
       "    <tr>\n",
       "      <th>35030050</th>\n",
       "      <td>4.091139</td>\n",
       "      <td>-73.448778</td>\n",
       "      <td>7.347400</td>\n",
       "    </tr>\n",
       "    <tr>\n",
       "      <th>35015050</th>\n",
       "      <td>3.630778</td>\n",
       "      <td>-73.349278</td>\n",
       "      <td>7.231101</td>\n",
       "    </tr>\n",
       "    <tr>\n",
       "      <th>35025020</th>\n",
       "      <td>4.057361</td>\n",
       "      <td>-73.467917</td>\n",
       "      <td>7.171255</td>\n",
       "    </tr>\n",
       "    <tr>\n",
       "      <th>32070010</th>\n",
       "      <td>3.200000</td>\n",
       "      <td>-73.750000</td>\n",
       "      <td>6.938714</td>\n",
       "    </tr>\n",
       "    <tr>\n",
       "      <th>35130010</th>\n",
       "      <td>3.956083</td>\n",
       "      <td>-72.765722</td>\n",
       "      <td>6.878704</td>\n",
       "    </tr>\n",
       "    <tr>\n",
       "      <th>32020020</th>\n",
       "      <td>3.243222</td>\n",
       "      <td>-74.353722</td>\n",
       "      <td>6.570456</td>\n",
       "    </tr>\n",
       "    <tr>\n",
       "      <th>32070040</th>\n",
       "      <td>2.983333</td>\n",
       "      <td>-73.633333</td>\n",
       "      <td>6.526142</td>\n",
       "    </tr>\n",
       "    <tr>\n",
       "      <th>32070020</th>\n",
       "      <td>3.250000</td>\n",
       "      <td>-73.516667</td>\n",
       "      <td>6.375460</td>\n",
       "    </tr>\n",
       "    <tr>\n",
       "      <th>35180030</th>\n",
       "      <td>4.327722</td>\n",
       "      <td>-72.391444</td>\n",
       "      <td>6.123800</td>\n",
       "    </tr>\n",
       "    <tr>\n",
       "      <th>35105050</th>\n",
       "      <td>4.468667</td>\n",
       "      <td>-72.953583</td>\n",
       "      <td>4.724599</td>\n",
       "    </tr>\n",
       "    <tr>\n",
       "      <th>35120010</th>\n",
       "      <td>4.311389</td>\n",
       "      <td>-72.076639</td>\n",
       "      <td>4.455780</td>\n",
       "    </tr>\n",
       "    <tr>\n",
       "      <th>32070120</th>\n",
       "      <td>3.456556</td>\n",
       "      <td>-74.029944</td>\n",
       "      <td>4.272056</td>\n",
       "    </tr>\n",
       "    <tr>\n",
       "      <th>35010040</th>\n",
       "      <td>3.924222</td>\n",
       "      <td>-73.814583</td>\n",
       "      <td>3.773160</td>\n",
       "    </tr>\n",
       "    <tr>\n",
       "      <th>32060100</th>\n",
       "      <td>3.792667</td>\n",
       "      <td>-73.922472</td>\n",
       "      <td>3.632785</td>\n",
       "    </tr>\n",
       "    <tr>\n",
       "      <th>32075080</th>\n",
       "      <td>3.267694</td>\n",
       "      <td>-73.373194</td>\n",
       "      <td>3.316039</td>\n",
       "    </tr>\n",
       "    <tr>\n",
       "      <th>35010010</th>\n",
       "      <td>4.105028</td>\n",
       "      <td>-72.936500</td>\n",
       "      <td>3.233066</td>\n",
       "    </tr>\n",
       "    <tr>\n",
       "      <th>35010070</th>\n",
       "      <td>3.878333</td>\n",
       "      <td>-73.758611</td>\n",
       "      <td>2.750565</td>\n",
       "    </tr>\n",
       "    <tr>\n",
       "      <th>32070080</th>\n",
       "      <td>3.087500</td>\n",
       "      <td>-73.226389</td>\n",
       "      <td>2.714405</td>\n",
       "    </tr>\n",
       "    <tr>\n",
       "      <th>35045020</th>\n",
       "      <td>4.300444</td>\n",
       "      <td>-73.357500</td>\n",
       "      <td>2.210360</td>\n",
       "    </tr>\n",
       "    <tr>\n",
       "      <th>32080010</th>\n",
       "      <td>2.943333</td>\n",
       "      <td>-73.209722</td>\n",
       "      <td>2.140166</td>\n",
       "    </tr>\n",
       "    <tr>\n",
       "      <th>32075060</th>\n",
       "      <td>3.366667</td>\n",
       "      <td>-73.700000</td>\n",
       "      <td>2.097400</td>\n",
       "    </tr>\n",
       "    <tr>\n",
       "      <th>32070110</th>\n",
       "      <td>3.472028</td>\n",
       "      <td>-73.857833</td>\n",
       "      <td>2.021144</td>\n",
       "    </tr>\n",
       "    <tr>\n",
       "      <th>35010080</th>\n",
       "      <td>3.793889</td>\n",
       "      <td>-73.149722</td>\n",
       "      <td>1.706639</td>\n",
       "    </tr>\n",
       "    <tr>\n",
       "      <th>35010020</th>\n",
       "      <td>3.994639</td>\n",
       "      <td>-73.765583</td>\n",
       "      <td>1.654011</td>\n",
       "    </tr>\n",
       "    <tr>\n",
       "      <th>35010090</th>\n",
       "      <td>3.750278</td>\n",
       "      <td>-73.700833</td>\n",
       "      <td>1.567774</td>\n",
       "    </tr>\n",
       "    <tr>\n",
       "      <th>35010060</th>\n",
       "      <td>3.786667</td>\n",
       "      <td>-73.400556</td>\n",
       "      <td>1.526201</td>\n",
       "    </tr>\n",
       "    <tr>\n",
       "      <th>35100020</th>\n",
       "      <td>4.283722</td>\n",
       "      <td>-72.792833</td>\n",
       "      <td>1.419940</td>\n",
       "    </tr>\n",
       "    <tr>\n",
       "      <th>32070060</th>\n",
       "      <td>3.466667</td>\n",
       "      <td>-73.633333</td>\n",
       "      <td>1.029998</td>\n",
       "    </tr>\n",
       "    <tr>\n",
       "      <th>35020060</th>\n",
       "      <td>4.039750</td>\n",
       "      <td>-73.368000</td>\n",
       "      <td>0.563867</td>\n",
       "    </tr>\n",
       "    <tr>\n",
       "      <th>32060030</th>\n",
       "      <td>3.790722</td>\n",
       "      <td>-73.842778</td>\n",
       "      <td>0.555097</td>\n",
       "    </tr>\n",
       "    <tr>\n",
       "      <th>32070100</th>\n",
       "      <td>3.375083</td>\n",
       "      <td>-73.891944</td>\n",
       "      <td>0.520965</td>\n",
       "    </tr>\n",
       "    <tr>\n",
       "      <th>32065010</th>\n",
       "      <td>3.533333</td>\n",
       "      <td>-74.016667</td>\n",
       "      <td>0.269458</td>\n",
       "    </tr>\n",
       "    <tr>\n",
       "      <th>35035020</th>\n",
       "      <td>4.161919</td>\n",
       "      <td>-73.617578</td>\n",
       "      <td>0.037507</td>\n",
       "    </tr>\n",
       "  </tbody>\n",
       "</table>\n",
       "</div>"
      ],
      "text/plain": [
       "               LAT        LON  Missing_Precipitation_Percentage\n",
       "ID                                                             \n",
       "35035010  4.077111 -73.559917                         46.517451\n",
       "35010230  3.984639 -72.971222                         44.462837\n",
       "35185010  4.260361 -72.564472                         36.246154\n",
       "32120010  3.734083 -72.369778                         34.925172\n",
       "32060090  3.576222 -74.059639                         31.858780\n",
       "35030370  4.137389 -73.625000                         28.718226\n",
       "35010150  3.883333 -73.340000                         28.170546\n",
       "35035070  4.076722 -73.582000                         23.521008\n",
       "32075030  3.120389 -73.754028                         20.390098\n",
       "35125010  4.340556 -72.156361                         19.788520\n",
       "32035020  2.438389 -73.932278                         19.633073\n",
       "32010010  2.562833 -74.103083                         18.093740\n",
       "35030380  4.144083 -73.641833                         17.403651\n",
       "33035010  4.574417 -71.340750                         17.125497\n",
       "32070090  3.316667 -73.916667                         14.717013\n",
       "32060020  3.530944 -73.901083                         11.056935\n",
       "35030020  4.310083 -73.648028                         10.110585\n",
       "32070030  3.316389 -73.892167                         10.006751\n",
       "32030020  2.322500 -73.943889                          9.920305\n",
       "32035010  2.176111 -73.793333                          9.601504\n",
       "32090010  2.889722 -72.130111                          9.356287\n",
       "32075050  3.380056 -74.042972                          9.127858\n",
       "32060060  3.742333 -73.834694                          8.194864\n",
       "32075040  3.516333 -73.716028                          7.941826\n",
       "35030050  4.091139 -73.448778                          7.347400\n",
       "35015050  3.630778 -73.349278                          7.231101\n",
       "35025020  4.057361 -73.467917                          7.171255\n",
       "32070010  3.200000 -73.750000                          6.938714\n",
       "35130010  3.956083 -72.765722                          6.878704\n",
       "32020020  3.243222 -74.353722                          6.570456\n",
       "32070040  2.983333 -73.633333                          6.526142\n",
       "32070020  3.250000 -73.516667                          6.375460\n",
       "35180030  4.327722 -72.391444                          6.123800\n",
       "35105050  4.468667 -72.953583                          4.724599\n",
       "35120010  4.311389 -72.076639                          4.455780\n",
       "32070120  3.456556 -74.029944                          4.272056\n",
       "35010040  3.924222 -73.814583                          3.773160\n",
       "32060100  3.792667 -73.922472                          3.632785\n",
       "32075080  3.267694 -73.373194                          3.316039\n",
       "35010010  4.105028 -72.936500                          3.233066\n",
       "35010070  3.878333 -73.758611                          2.750565\n",
       "32070080  3.087500 -73.226389                          2.714405\n",
       "35045020  4.300444 -73.357500                          2.210360\n",
       "32080010  2.943333 -73.209722                          2.140166\n",
       "32075060  3.366667 -73.700000                          2.097400\n",
       "32070110  3.472028 -73.857833                          2.021144\n",
       "35010080  3.793889 -73.149722                          1.706639\n",
       "35010020  3.994639 -73.765583                          1.654011\n",
       "35010090  3.750278 -73.700833                          1.567774\n",
       "35010060  3.786667 -73.400556                          1.526201\n",
       "35100020  4.283722 -72.792833                          1.419940\n",
       "32070060  3.466667 -73.633333                          1.029998\n",
       "35020060  4.039750 -73.368000                          0.563867\n",
       "32060030  3.790722 -73.842778                          0.555097\n",
       "32070100  3.375083 -73.891944                          0.520965\n",
       "32065010  3.533333 -74.016667                          0.269458\n",
       "35035020  4.161919 -73.617578                          0.037507"
      ]
     },
     "execution_count": 17,
     "metadata": {},
     "output_type": "execute_result"
    }
   ],
   "source": [
    "import pandas as pd\n",
    "\n",
    "# Agrupar por la columna 'ID' (identificación de la estación)\n",
    "grouped_data = data.groupby('ID')\n",
    "\n",
    "# Calcular el porcentaje de valores faltantes en precipitación por estación\n",
    "missing_precipitation_percentage = grouped_data['prec'].apply(lambda x: (x.isna().sum() / len(x)) * 100)\n",
    "\n",
    "# Crear un nuevo DataFrame con ID, LAT, LON y el porcentaje de valores faltantes en precipitación\n",
    "result_df = data.groupby('ID').agg({'LAT': 'first', 'LON': 'first'})\n",
    "result_df['Missing_Precipitation_Percentage'] = missing_precipitation_percentage\n",
    "\n",
    "# Ordenar la tabla por el porcentaje de valores faltantes en precipitación de mayor a menor\n",
    "result_df = result_df.sort_values(by='Missing_Precipitation_Percentage', ascending=False)\n",
    "\n",
    "# Mostrar el nuevo DataFrame\n",
    "result_df\n"
   ]
  },
  {
   "cell_type": "code",
   "execution_count": 18,
   "metadata": {},
   "outputs": [
    {
     "name": "stdout",
     "output_type": "stream",
     "text": [
      "Número de estaciones únicas: 57\n"
     ]
    }
   ],
   "source": [
    "# Contar el número de estaciones únicas basadas en la columna 'ID'\n",
    "num_unique_stations = data['ID'].nunique()\n",
    "\n",
    "# Mostrar el número de estaciones únicas\n",
    "print(\"Número de estaciones únicas:\", num_unique_stations)\n"
   ]
  },
  {
   "cell_type": "markdown",
   "metadata": {},
   "source": [
    "## Estaciones con porcentaje de missing values mayor o igual 10%"
   ]
  },
  {
   "cell_type": "code",
   "execution_count": 19,
   "metadata": {},
   "outputs": [
    {
     "data": {
      "text/html": [
       "<div>\n",
       "<style scoped>\n",
       "    .dataframe tbody tr th:only-of-type {\n",
       "        vertical-align: middle;\n",
       "    }\n",
       "\n",
       "    .dataframe tbody tr th {\n",
       "        vertical-align: top;\n",
       "    }\n",
       "\n",
       "    .dataframe thead th {\n",
       "        text-align: right;\n",
       "    }\n",
       "</style>\n",
       "<table border=\"1\" class=\"dataframe\">\n",
       "  <thead>\n",
       "    <tr style=\"text-align: right;\">\n",
       "      <th></th>\n",
       "      <th>LAT</th>\n",
       "      <th>LON</th>\n",
       "      <th>Missing_Precipitation_Percentage</th>\n",
       "    </tr>\n",
       "    <tr>\n",
       "      <th>ID</th>\n",
       "      <th></th>\n",
       "      <th></th>\n",
       "      <th></th>\n",
       "    </tr>\n",
       "  </thead>\n",
       "  <tbody>\n",
       "    <tr>\n",
       "      <th>35035010</th>\n",
       "      <td>4.077111</td>\n",
       "      <td>-73.559917</td>\n",
       "      <td>46.517451</td>\n",
       "    </tr>\n",
       "    <tr>\n",
       "      <th>35010230</th>\n",
       "      <td>3.984639</td>\n",
       "      <td>-72.971222</td>\n",
       "      <td>44.462837</td>\n",
       "    </tr>\n",
       "    <tr>\n",
       "      <th>35185010</th>\n",
       "      <td>4.260361</td>\n",
       "      <td>-72.564472</td>\n",
       "      <td>36.246154</td>\n",
       "    </tr>\n",
       "    <tr>\n",
       "      <th>32120010</th>\n",
       "      <td>3.734083</td>\n",
       "      <td>-72.369778</td>\n",
       "      <td>34.925172</td>\n",
       "    </tr>\n",
       "    <tr>\n",
       "      <th>32060090</th>\n",
       "      <td>3.576222</td>\n",
       "      <td>-74.059639</td>\n",
       "      <td>31.858780</td>\n",
       "    </tr>\n",
       "    <tr>\n",
       "      <th>35030370</th>\n",
       "      <td>4.137389</td>\n",
       "      <td>-73.625000</td>\n",
       "      <td>28.718226</td>\n",
       "    </tr>\n",
       "    <tr>\n",
       "      <th>35010150</th>\n",
       "      <td>3.883333</td>\n",
       "      <td>-73.340000</td>\n",
       "      <td>28.170546</td>\n",
       "    </tr>\n",
       "    <tr>\n",
       "      <th>35035070</th>\n",
       "      <td>4.076722</td>\n",
       "      <td>-73.582000</td>\n",
       "      <td>23.521008</td>\n",
       "    </tr>\n",
       "    <tr>\n",
       "      <th>32075030</th>\n",
       "      <td>3.120389</td>\n",
       "      <td>-73.754028</td>\n",
       "      <td>20.390098</td>\n",
       "    </tr>\n",
       "    <tr>\n",
       "      <th>35125010</th>\n",
       "      <td>4.340556</td>\n",
       "      <td>-72.156361</td>\n",
       "      <td>19.788520</td>\n",
       "    </tr>\n",
       "    <tr>\n",
       "      <th>32035020</th>\n",
       "      <td>2.438389</td>\n",
       "      <td>-73.932278</td>\n",
       "      <td>19.633073</td>\n",
       "    </tr>\n",
       "    <tr>\n",
       "      <th>32010010</th>\n",
       "      <td>2.562833</td>\n",
       "      <td>-74.103083</td>\n",
       "      <td>18.093740</td>\n",
       "    </tr>\n",
       "    <tr>\n",
       "      <th>35030380</th>\n",
       "      <td>4.144083</td>\n",
       "      <td>-73.641833</td>\n",
       "      <td>17.403651</td>\n",
       "    </tr>\n",
       "    <tr>\n",
       "      <th>33035010</th>\n",
       "      <td>4.574417</td>\n",
       "      <td>-71.340750</td>\n",
       "      <td>17.125497</td>\n",
       "    </tr>\n",
       "    <tr>\n",
       "      <th>32070090</th>\n",
       "      <td>3.316667</td>\n",
       "      <td>-73.916667</td>\n",
       "      <td>14.717013</td>\n",
       "    </tr>\n",
       "    <tr>\n",
       "      <th>32060020</th>\n",
       "      <td>3.530944</td>\n",
       "      <td>-73.901083</td>\n",
       "      <td>11.056935</td>\n",
       "    </tr>\n",
       "    <tr>\n",
       "      <th>35030020</th>\n",
       "      <td>4.310083</td>\n",
       "      <td>-73.648028</td>\n",
       "      <td>10.110585</td>\n",
       "    </tr>\n",
       "    <tr>\n",
       "      <th>32070030</th>\n",
       "      <td>3.316389</td>\n",
       "      <td>-73.892167</td>\n",
       "      <td>10.006751</td>\n",
       "    </tr>\n",
       "  </tbody>\n",
       "</table>\n",
       "</div>"
      ],
      "text/plain": [
       "               LAT        LON  Missing_Precipitation_Percentage\n",
       "ID                                                             \n",
       "35035010  4.077111 -73.559917                         46.517451\n",
       "35010230  3.984639 -72.971222                         44.462837\n",
       "35185010  4.260361 -72.564472                         36.246154\n",
       "32120010  3.734083 -72.369778                         34.925172\n",
       "32060090  3.576222 -74.059639                         31.858780\n",
       "35030370  4.137389 -73.625000                         28.718226\n",
       "35010150  3.883333 -73.340000                         28.170546\n",
       "35035070  4.076722 -73.582000                         23.521008\n",
       "32075030  3.120389 -73.754028                         20.390098\n",
       "35125010  4.340556 -72.156361                         19.788520\n",
       "32035020  2.438389 -73.932278                         19.633073\n",
       "32010010  2.562833 -74.103083                         18.093740\n",
       "35030380  4.144083 -73.641833                         17.403651\n",
       "33035010  4.574417 -71.340750                         17.125497\n",
       "32070090  3.316667 -73.916667                         14.717013\n",
       "32060020  3.530944 -73.901083                         11.056935\n",
       "35030020  4.310083 -73.648028                         10.110585\n",
       "32070030  3.316389 -73.892167                         10.006751"
      ]
     },
     "execution_count": 19,
     "metadata": {},
     "output_type": "execute_result"
    }
   ],
   "source": [
    "# Filtrar las estaciones con un porcentaje de valores faltantes en precipitación mayor o igual al 10%\n",
    "filtered_stations = result_df[result_df['Missing_Precipitation_Percentage'] >= 10]\n",
    "\n",
    "# Mostrar las estaciones filtradas\n",
    "filtered_stations\n"
   ]
  },
  {
   "cell_type": "code",
   "execution_count": 20,
   "metadata": {},
   "outputs": [
    {
     "name": "stdout",
     "output_type": "stream",
     "text": [
      "Número de estaciones únicas: 18\n"
     ]
    }
   ],
   "source": [
    "# Contar el número de estaciones únicas basadas en la columna 'ID'\n",
    "num_unique_stations = filtered_stations['Missing_Precipitation_Percentage'].nunique()\n",
    "\n",
    "# Mostrar el número de estaciones únicas\n",
    "print(\"Número de estaciones únicas:\", num_unique_stations)\n"
   ]
  },
  {
   "cell_type": "markdown",
   "metadata": {},
   "source": [
    "Se realiza un filtro de las estaciones de monitoreo con un porcentaje de datos faltantes para la precipitación mayor o igual al 10%, ya que esto es un porcentaje significativo de datos faltantes, reduciendo el numero de estaciones a 18, y así enfocarnos en la muestra de resultados a estas estaciones, considerando que es más probable que se requieran acciones correctivas o una mayor atención."
   ]
  },
  {
   "cell_type": "code",
   "execution_count": 40,
   "metadata": {},
   "outputs": [],
   "source": [
    "import xgboost as xgb\n",
    "from sklearn.model_selection import GridSearchCV\n",
    "from sklearn.model_selection import train_test_split\n",
    "from joblib import parallel_backend\n",
    "\n",
    "# Divide tus datos en un conjunto de entrenamiento y un conjunto de prueba\n",
    "X_train, X_test, y_train, y_test = train_test_split(data_completa_mod2.drop(columns=['prec']), data_completa_mod2['prec'], test_size=0.2, random_state=42)\n",
    "# elimina nas de y_train\n",
    "X_train = X_train[~y_train.isna()]\n",
    "y_train = y_train.dropna()\n",
    "\n",
    "# Definir el espacio de búsqueda de hiperparámetros\n",
    "param_grid = {\n",
    "    'max_depth': [3, 5, 7],\n",
    "    'n_estimators': [25, 50, 100],\n",
    "    'learning_rate':[0.01, 0.05, 0.1, 0.2, 0.3]\n",
    "    # Otros hiperparámetros a optimizar\n",
    "}\n",
    "\n",
    "# Crear el modelo XGBoost\n",
    "xgb_model = xgb.XGBRegressor()\n",
    "\n"
   ]
  },
  {
   "cell_type": "code",
   "execution_count": 41,
   "metadata": {},
   "outputs": [],
   "source": [
    "# grid_search no es necesario volver a correr\n",
    "# Realizar la búsqueda de hiperparámetros utilizando validación cruzada\n",
    "with parallel_backend('loky', n_jobs=4):  # Ajusta n_jobs según el número de núcleos disponibles\n",
    "    grid_search = GridSearchCV(estimator=xgb_model, param_grid=param_grid, scoring='neg_mean_squared_error', cv=5)\n",
    "    grid_search.fit(X_train, y_train)"
   ]
  },
  {
   "cell_type": "code",
   "execution_count": 42,
   "metadata": {},
   "outputs": [
    {
     "name": "stdout",
     "output_type": "stream",
     "text": [
      "Mejores hiperparámetros: {'learning_rate': 0.2, 'max_depth': 7, 'n_estimators': 100}\n"
     ]
    }
   ],
   "source": [
    "# # no es necesario volver a correr\n",
    "import joblib\n",
    "import pickle\n",
    "from joblib import dump\n",
    "# Obtener los mejores hiperparámetros\n",
    "best_params = grid_search.best_params_\n",
    "print(\"Mejores hiperparámetros:\", best_params)\n",
    "\n",
    "# Entrenar el modelo XGBoost con los mejores hiperparámetros\n",
    "best_xgb_model = xgb.XGBRegressor(**best_params)\n"
   ]
  },
  {
   "cell_type": "code",
   "execution_count": 43,
   "metadata": {},
   "outputs": [],
   "source": [
    "# #guardar el modelo \n",
    "joblib.dump(best_xgb_model, 'model_xgboost.pkl' )\n",
    "best_xgb_model.fit(X_train, y_train)\n",
    "\n",
    "# Evaluar el rendimiento del modelo en el conjunto de prueba\n",
    "y_pred = best_xgb_model.predict(X_test)"
   ]
  },
  {
   "cell_type": "code",
   "execution_count": 44,
   "metadata": {},
   "outputs": [
    {
     "name": "stdout",
     "output_type": "stream",
     "text": [
      "El archivo model_xgboost.pkl existe.\n"
     ]
    }
   ],
   "source": [
    "import os\n",
    "\n",
    "file_path = 'model_xgboost.pkl'\n",
    "if os.path.exists(file_path):\n",
    "    print(f'El archivo {file_path} existe.')\n",
    "else:\n",
    "    print(f'El archivo {file_path} no se ha creado correctamente.')\n"
   ]
  },
  {
   "cell_type": "code",
   "execution_count": 45,
   "metadata": {},
   "outputs": [
    {
     "data": {
      "text/html": [
       "<style>#sk-container-id-2 {color: black;}#sk-container-id-2 pre{padding: 0;}#sk-container-id-2 div.sk-toggleable {background-color: white;}#sk-container-id-2 label.sk-toggleable__label {cursor: pointer;display: block;width: 100%;margin-bottom: 0;padding: 0.3em;box-sizing: border-box;text-align: center;}#sk-container-id-2 label.sk-toggleable__label-arrow:before {content: \"▸\";float: left;margin-right: 0.25em;color: #696969;}#sk-container-id-2 label.sk-toggleable__label-arrow:hover:before {color: black;}#sk-container-id-2 div.sk-estimator:hover label.sk-toggleable__label-arrow:before {color: black;}#sk-container-id-2 div.sk-toggleable__content {max-height: 0;max-width: 0;overflow: hidden;text-align: left;background-color: #f0f8ff;}#sk-container-id-2 div.sk-toggleable__content pre {margin: 0.2em;color: black;border-radius: 0.25em;background-color: #f0f8ff;}#sk-container-id-2 input.sk-toggleable__control:checked~div.sk-toggleable__content {max-height: 200px;max-width: 100%;overflow: auto;}#sk-container-id-2 input.sk-toggleable__control:checked~label.sk-toggleable__label-arrow:before {content: \"▾\";}#sk-container-id-2 div.sk-estimator input.sk-toggleable__control:checked~label.sk-toggleable__label {background-color: #d4ebff;}#sk-container-id-2 div.sk-label input.sk-toggleable__control:checked~label.sk-toggleable__label {background-color: #d4ebff;}#sk-container-id-2 input.sk-hidden--visually {border: 0;clip: rect(1px 1px 1px 1px);clip: rect(1px, 1px, 1px, 1px);height: 1px;margin: -1px;overflow: hidden;padding: 0;position: absolute;width: 1px;}#sk-container-id-2 div.sk-estimator {font-family: monospace;background-color: #f0f8ff;border: 1px dotted black;border-radius: 0.25em;box-sizing: border-box;margin-bottom: 0.5em;}#sk-container-id-2 div.sk-estimator:hover {background-color: #d4ebff;}#sk-container-id-2 div.sk-parallel-item::after {content: \"\";width: 100%;border-bottom: 1px solid gray;flex-grow: 1;}#sk-container-id-2 div.sk-label:hover label.sk-toggleable__label {background-color: #d4ebff;}#sk-container-id-2 div.sk-serial::before {content: \"\";position: absolute;border-left: 1px solid gray;box-sizing: border-box;top: 0;bottom: 0;left: 50%;z-index: 0;}#sk-container-id-2 div.sk-serial {display: flex;flex-direction: column;align-items: center;background-color: white;padding-right: 0.2em;padding-left: 0.2em;position: relative;}#sk-container-id-2 div.sk-item {position: relative;z-index: 1;}#sk-container-id-2 div.sk-parallel {display: flex;align-items: stretch;justify-content: center;background-color: white;position: relative;}#sk-container-id-2 div.sk-item::before, #sk-container-id-2 div.sk-parallel-item::before {content: \"\";position: absolute;border-left: 1px solid gray;box-sizing: border-box;top: 0;bottom: 0;left: 50%;z-index: -1;}#sk-container-id-2 div.sk-parallel-item {display: flex;flex-direction: column;z-index: 1;position: relative;background-color: white;}#sk-container-id-2 div.sk-parallel-item:first-child::after {align-self: flex-end;width: 50%;}#sk-container-id-2 div.sk-parallel-item:last-child::after {align-self: flex-start;width: 50%;}#sk-container-id-2 div.sk-parallel-item:only-child::after {width: 0;}#sk-container-id-2 div.sk-dashed-wrapped {border: 1px dashed gray;margin: 0 0.4em 0.5em 0.4em;box-sizing: border-box;padding-bottom: 0.4em;background-color: white;}#sk-container-id-2 div.sk-label label {font-family: monospace;font-weight: bold;display: inline-block;line-height: 1.2em;}#sk-container-id-2 div.sk-label-container {text-align: center;}#sk-container-id-2 div.sk-container {/* jupyter's `normalize.less` sets `[hidden] { display: none; }` but bootstrap.min.css set `[hidden] { display: none !important; }` so we also need the `!important` here to be able to override the default hidden behavior on the sphinx rendered scikit-learn.org. See: https://github.com/scikit-learn/scikit-learn/issues/21755 */display: inline-block !important;position: relative;}#sk-container-id-2 div.sk-text-repr-fallback {display: none;}</style><div id=\"sk-container-id-2\" class=\"sk-top-container\"><div class=\"sk-text-repr-fallback\"><pre>XGBRegressor(base_score=None, booster=None, callbacks=None,\n",
       "             colsample_bylevel=None, colsample_bynode=None,\n",
       "             colsample_bytree=None, early_stopping_rounds=None,\n",
       "             enable_categorical=False, eval_metric=None, feature_types=None,\n",
       "             gamma=None, gpu_id=None, grow_policy=None, importance_type=None,\n",
       "             interaction_constraints=None, learning_rate=0.2, max_bin=None,\n",
       "             max_cat_threshold=None, max_cat_to_onehot=None,\n",
       "             max_delta_step=None, max_depth=7, max_leaves=None,\n",
       "             min_child_weight=None, missing=nan, monotone_constraints=None,\n",
       "             n_estimators=100, n_jobs=None, num_parallel_tree=None,\n",
       "             predictor=None, random_state=None, ...)</pre><b>In a Jupyter environment, please rerun this cell to show the HTML representation or trust the notebook. <br />On GitHub, the HTML representation is unable to render, please try loading this page with nbviewer.org.</b></div><div class=\"sk-container\" hidden><div class=\"sk-item\"><div class=\"sk-estimator sk-toggleable\"><input class=\"sk-toggleable__control sk-hidden--visually\" id=\"sk-estimator-id-2\" type=\"checkbox\" checked><label for=\"sk-estimator-id-2\" class=\"sk-toggleable__label sk-toggleable__label-arrow\">XGBRegressor</label><div class=\"sk-toggleable__content\"><pre>XGBRegressor(base_score=None, booster=None, callbacks=None,\n",
       "             colsample_bylevel=None, colsample_bynode=None,\n",
       "             colsample_bytree=None, early_stopping_rounds=None,\n",
       "             enable_categorical=False, eval_metric=None, feature_types=None,\n",
       "             gamma=None, gpu_id=None, grow_policy=None, importance_type=None,\n",
       "             interaction_constraints=None, learning_rate=0.2, max_bin=None,\n",
       "             max_cat_threshold=None, max_cat_to_onehot=None,\n",
       "             max_delta_step=None, max_depth=7, max_leaves=None,\n",
       "             min_child_weight=None, missing=nan, monotone_constraints=None,\n",
       "             n_estimators=100, n_jobs=None, num_parallel_tree=None,\n",
       "             predictor=None, random_state=None, ...)</pre></div></div></div></div></div>"
      ],
      "text/plain": [
       "XGBRegressor(base_score=None, booster=None, callbacks=None,\n",
       "             colsample_bylevel=None, colsample_bynode=None,\n",
       "             colsample_bytree=None, early_stopping_rounds=None,\n",
       "             enable_categorical=False, eval_metric=None, feature_types=None,\n",
       "             gamma=None, gpu_id=None, grow_policy=None, importance_type=None,\n",
       "             interaction_constraints=None, learning_rate=0.2, max_bin=None,\n",
       "             max_cat_threshold=None, max_cat_to_onehot=None,\n",
       "             max_delta_step=None, max_depth=7, max_leaves=None,\n",
       "             min_child_weight=None, missing=nan, monotone_constraints=None,\n",
       "             n_estimators=100, n_jobs=None, num_parallel_tree=None,\n",
       "             predictor=None, random_state=None, ...)"
      ]
     },
     "execution_count": 45,
     "metadata": {},
     "output_type": "execute_result"
    }
   ],
   "source": [
    "## carga del modelo \n",
    "import joblib\n",
    "import pickle\n",
    "modelo_xgboost = joblib.load('model_xgboost.pkl')\n",
    "modelo_xgboost"
   ]
  },
  {
   "cell_type": "code",
   "execution_count": 46,
   "metadata": {},
   "outputs": [],
   "source": [
    "model_train=modelo_xgboost.fit(X_train, y_train)\n",
    "\n",
    "# Evaluar el rendimiento del modelo en el conjunto de prueba\n",
    "y_pred = modelo_xgboost.predict(X_test)"
   ]
  },
  {
   "cell_type": "markdown",
   "metadata": {},
   "source": [
    "## Imputación de missing values para la precipitación"
   ]
  },
  {
   "cell_type": "code",
   "execution_count": 47,
   "metadata": {},
   "outputs": [],
   "source": [
    "\n",
    "from joblib import Parallel, delayed\n",
    "from sklearn.impute import SimpleImputer\n",
    "from xgboost import XGBRegressor\n",
    "import pandas as pd\n",
    "\n",
    "from joblib import Parallel, delayed\n",
    "\n",
    "# Encontrar los índices donde la variable objetivo (y_test) tiene valores faltantes\n",
    "missing_indices = y_test[y_test.isnull()].index\n",
    "\n",
    "# Función para predecir valores faltantes usando el modelo XGBoost\n",
    "def predict_missing_values(index, X_test, model_train):\n",
    "    imputed_value = model_train.predict(X_test.loc[index].values.reshape(1, -1))\n",
    "    return index, imputed_value[0]\n",
    "\n",
    "# Paralelizar el proceso de predicción de valores faltantes\n",
    "with parallel_backend('loky'):\n",
    "    imputed_values = Parallel(n_jobs=-1)(\n",
    "        delayed(predict_missing_values)(index, X_test, model_train) for index in missing_indices\n",
    "    )\n",
    "\n",
    "# Actualizar los valores faltantes en y_test con las predicciones\n",
    "for index, value in imputed_values:\n",
    "    y_test.loc[index] = value\n"
   ]
  },
  {
   "cell_type": "code",
   "execution_count": 56,
   "metadata": {},
   "outputs": [
    {
     "data": {
      "text/html": [
       "<div>\n",
       "<style scoped>\n",
       "    .dataframe tbody tr th:only-of-type {\n",
       "        vertical-align: middle;\n",
       "    }\n",
       "\n",
       "    .dataframe tbody tr th {\n",
       "        vertical-align: top;\n",
       "    }\n",
       "\n",
       "    .dataframe thead th {\n",
       "        text-align: right;\n",
       "    }\n",
       "</style>\n",
       "<table border=\"1\" class=\"dataframe\">\n",
       "  <thead>\n",
       "    <tr style=\"text-align: right;\">\n",
       "      <th></th>\n",
       "      <th>prec</th>\n",
       "    </tr>\n",
       "  </thead>\n",
       "  <tbody>\n",
       "    <tr>\n",
       "      <th>93080</th>\n",
       "      <td>0.00008</td>\n",
       "    </tr>\n",
       "    <tr>\n",
       "      <th>429552</th>\n",
       "      <td>0.00008</td>\n",
       "    </tr>\n",
       "    <tr>\n",
       "      <th>27053</th>\n",
       "      <td>0.00008</td>\n",
       "    </tr>\n",
       "    <tr>\n",
       "      <th>54398</th>\n",
       "      <td>0.00008</td>\n",
       "    </tr>\n",
       "    <tr>\n",
       "      <th>219410</th>\n",
       "      <td>0.00008</td>\n",
       "    </tr>\n",
       "    <tr>\n",
       "      <th>...</th>\n",
       "      <td>...</td>\n",
       "    </tr>\n",
       "    <tr>\n",
       "      <th>1443</th>\n",
       "      <td>0.00000</td>\n",
       "    </tr>\n",
       "    <tr>\n",
       "      <th>261237</th>\n",
       "      <td>0.00000</td>\n",
       "    </tr>\n",
       "    <tr>\n",
       "      <th>208126</th>\n",
       "      <td>32.00000</td>\n",
       "    </tr>\n",
       "    <tr>\n",
       "      <th>597043</th>\n",
       "      <td>2.00000</td>\n",
       "    </tr>\n",
       "    <tr>\n",
       "      <th>632942</th>\n",
       "      <td>0.00000</td>\n",
       "    </tr>\n",
       "  </tbody>\n",
       "</table>\n",
       "<p>118425 rows × 1 columns</p>\n",
       "</div>"
      ],
      "text/plain": [
       "            prec\n",
       "93080    0.00008\n",
       "429552   0.00008\n",
       "27053    0.00008\n",
       "54398    0.00008\n",
       "219410   0.00008\n",
       "...          ...\n",
       "1443     0.00000\n",
       "261237   0.00000\n",
       "208126  32.00000\n",
       "597043   2.00000\n",
       "632942   0.00000\n",
       "\n",
       "[118425 rows x 1 columns]"
      ]
     },
     "execution_count": 56,
     "metadata": {},
     "output_type": "execute_result"
    }
   ],
   "source": [
    "imputed_values"
   ]
  },
  {
   "cell_type": "code",
   "execution_count": 48,
   "metadata": {},
   "outputs": [
    {
     "data": {
      "text/plain": [
       "59212"
      ]
     },
     "execution_count": 48,
     "metadata": {},
     "output_type": "execute_result"
    }
   ],
   "source": [
    "len(imputed_values)"
   ]
  },
  {
   "cell_type": "code",
   "execution_count": 49,
   "metadata": {},
   "outputs": [
    {
     "data": {
      "text/plain": [
       "59212"
      ]
     },
     "execution_count": 49,
     "metadata": {},
     "output_type": "execute_result"
    }
   ],
   "source": [
    "len(missing_indices)"
   ]
  },
  {
   "cell_type": "code",
   "execution_count": 50,
   "metadata": {},
   "outputs": [
    {
     "name": "stdout",
     "output_type": "stream",
     "text": [
      "Cantidad de valores faltantes después de la imputación: 0\n"
     ]
    }
   ],
   "source": [
    "# Conteo de valores faltantes después de la imputación\n",
    "missing_values_after_imputation = y_test.isnull().sum()\n",
    "print(\"Cantidad de valores faltantes después de la imputación:\", missing_values_after_imputation)\n"
   ]
  },
  {
   "cell_type": "code",
   "execution_count": 51,
   "metadata": {},
   "outputs": [
    {
     "name": "stdout",
     "output_type": "stream",
     "text": [
      "        Original   Imputed\n",
      "93080        0.0   0.00008\n",
      "429552       0.0   0.00008\n",
      "27053        0.0   0.00008\n",
      "54398        0.0   0.00008\n",
      "219410       0.0   0.00008\n",
      "...          ...       ...\n",
      "1443         0.0   0.00000\n",
      "261237       0.0   0.00000\n",
      "208126      32.0  32.00000\n",
      "597043       2.0   2.00000\n",
      "632942       0.0   0.00000\n",
      "\n",
      "[118425 rows x 2 columns]\n"
     ]
    }
   ],
   "source": [
    "# Convertir y_test en un DataFrame\n",
    "y_test_df = pd.DataFrame(y_test)\n",
    "\n",
    "# Obtener algunos valores originales y valores imputados para comparar\n",
    "original_values = data_completa_mod['Original'].loc[y_test_df.index]\n",
    "imputed_values = y_test_df.copy()  # Hacer una copia de y_test para mantener los valores originales\n",
    "\n",
    "# Asignar los valores imputados en los índices faltantes\n",
    "for idx, value in imputed_values.iterrows():\n",
    "    if idx in missing_indices:\n",
    "      valor_imputado_para_idx = imputed_values.loc[idx, 'prec']  # Reemplazar con el valor predicho\n",
    "      imputed_values.loc[idx, 'prec'] = valor_imputado_para_idx\n",
    "# Comparación de valores originales e imputados (por ejemplo, mostrando los primeros 10)\n",
    "comparison_df = pd.DataFrame({'Original': original_values, 'Imputed': imputed_values['prec']})\n",
    "print(comparison_df)\n"
   ]
  },
  {
   "cell_type": "code",
   "execution_count": 52,
   "metadata": {},
   "outputs": [
    {
     "name": "stdout",
     "output_type": "stream",
     "text": [
      "         Año  Mes  Día       LAT        LON        ID  Original   Imputed   \n",
      "93080   2003    1   27  3.742333 -73.834694  32060060       0.0   0.00008  \\\n",
      "429552  2015   11    6  3.793889 -73.149722  35010080       0.0   0.00008   \n",
      "27053   2001    2    8  2.322500 -73.943889  32030020       0.0   0.00008   \n",
      "54398   2006    7   31  2.438389 -73.932278  32035020       0.0   0.00008   \n",
      "219410  1994    8   21  3.375083 -73.891944  32070100       0.0   0.00008   \n",
      "...      ...  ...  ...       ...        ...       ...       ...       ...   \n",
      "1443    1987    5   22  2.562833 -74.103083  32010010       0.0   0.00000   \n",
      "261237  1987    2   14  3.516333 -73.716028  32075040       0.0   0.00000   \n",
      "208126  1996    4   29  3.316667 -73.916667  32070090      32.0  32.00000   \n",
      "597043  2005    2   12  4.468667 -72.953583  35105050       2.0   2.00000   \n",
      "632942  1994    2   27  3.956083 -72.765722  35130010       0.0   0.00000   \n",
      "\n",
      "        Original  \n",
      "93080        0.0  \n",
      "429552       0.0  \n",
      "27053        0.0  \n",
      "54398        0.0  \n",
      "219410       0.0  \n",
      "...          ...  \n",
      "1443         0.0  \n",
      "261237       0.0  \n",
      "208126      32.0  \n",
      "597043       2.0  \n",
      "632942       0.0  \n",
      "\n",
      "[118425 rows x 9 columns]\n"
     ]
    }
   ],
   "source": [
    "# Concatenar las columnas 'Precipitacion' de data y imputed_data en un nuevo DataFrame\n",
    "merged_data = pd.concat([X_test, comparison_df[['Imputed','Original']]], axis=1)\n",
    "\n",
    "# Verificar el nuevo DataFrame que contiene ambas columnas\n",
    "print(merged_data)"
   ]
  },
  {
   "cell_type": "markdown",
   "metadata": {},
   "source": [
    "## Métricas "
   ]
  },
  {
   "cell_type": "code",
   "execution_count": null,
   "metadata": {},
   "outputs": [],
   "source": [
    "import numpy as np\n",
    "from sklearn.metrics import mean_squared_error, mean_absolute_error, r2_score\n",
    "\n",
    "# Definir una función para calcular MAPE\n",
    "def mean_absolute_percentage_error(y_true, y_pred): \n",
    "    y_true, y_pred = np.array(y_true), np.array(y_pred)\n",
    "    non_zero_mask = y_true != 0\n",
    "    return np.mean(np.abs((y_true[non_zero_mask] - y_pred[non_zero_mask]) / y_true[non_zero_mask])) * 100\n",
    "\n",
    "# Seleccionar la columna 6 de escalados2 y la columna 3 de imputados_dis\n",
    "valores_originales = escalados2[:, 6]\n",
    "valores_imputados = imputados_dis_unifor[:, 3]\n",
    "\n",
    "# Calcular RMSE\n",
    "rmse = np.sqrt(mean_squared_error(valores_originales, valores_imputados))\n",
    "\n",
    "# Calcular MAE\n",
    "mae = mean_absolute_error(valores_originales, valores_imputados)\n",
    "\n",
    "# Calcular MAPE\n",
    "mape = mean_absolute_percentage_error(valores_originales, valores_imputados)\n",
    "\n",
    "# Calcular R2\n",
    "r2 = r2_score(valores_originales, valores_imputados)\n",
    "\n",
    "print(f\"RMSE: {rmse}\")\n",
    "print(f\"MAE: {mae}\")\n",
    "print(f\"MAPE: {mape}\")\n",
    "print(f\"R2: {r2}\") ###falta revisar"
   ]
  },
  {
   "cell_type": "code",
   "execution_count": 55,
   "metadata": {},
   "outputs": [
    {
     "ename": "TypeError",
     "evalue": "'<' not supported between instances of 'str' and 'int'",
     "output_type": "error",
     "traceback": [
      "\u001b[1;31m---------------------------------------------------------------------------\u001b[0m",
      "\u001b[1;31mTypeError\u001b[0m                                 Traceback (most recent call last)",
      "File \u001b[1;32mc:\\Users\\vhect\\AppData\\Local\\Programs\\Python\\Python311\\Lib\\site-packages\\pandas\\core\\groupby\\groupby.py:1353\u001b[0m, in \u001b[0;36mGroupBy.apply\u001b[1;34m(self, func, *args, **kwargs)\u001b[0m\n\u001b[0;32m   1352\u001b[0m \u001b[39mtry\u001b[39;00m:\n\u001b[1;32m-> 1353\u001b[0m     result \u001b[39m=\u001b[39m \u001b[39mself\u001b[39;49m\u001b[39m.\u001b[39;49m_python_apply_general(f, \u001b[39mself\u001b[39;49m\u001b[39m.\u001b[39;49m_selected_obj)\n\u001b[0;32m   1354\u001b[0m \u001b[39mexcept\u001b[39;00m \u001b[39mTypeError\u001b[39;00m:\n\u001b[0;32m   1355\u001b[0m     \u001b[39m# gh-20949\u001b[39;00m\n\u001b[0;32m   1356\u001b[0m     \u001b[39m# try again, with .apply acting as a filtering\u001b[39;00m\n\u001b[1;32m   (...)\u001b[0m\n\u001b[0;32m   1360\u001b[0m     \u001b[39m# fails on *some* columns, e.g. a numeric operation\u001b[39;00m\n\u001b[0;32m   1361\u001b[0m     \u001b[39m# on a string grouper column\u001b[39;00m\n",
      "File \u001b[1;32mc:\\Users\\vhect\\AppData\\Local\\Programs\\Python\\Python311\\Lib\\site-packages\\pandas\\core\\groupby\\groupby.py:1402\u001b[0m, in \u001b[0;36mGroupBy._python_apply_general\u001b[1;34m(self, f, data, not_indexed_same, is_transform, is_agg)\u001b[0m\n\u001b[0;32m   1376\u001b[0m \u001b[39m\u001b[39m\u001b[39m\"\"\"\u001b[39;00m\n\u001b[0;32m   1377\u001b[0m \u001b[39mApply function f in python space\u001b[39;00m\n\u001b[0;32m   1378\u001b[0m \n\u001b[1;32m   (...)\u001b[0m\n\u001b[0;32m   1400\u001b[0m \u001b[39m    data after applying f\u001b[39;00m\n\u001b[0;32m   1401\u001b[0m \u001b[39m\"\"\"\u001b[39;00m\n\u001b[1;32m-> 1402\u001b[0m values, mutated \u001b[39m=\u001b[39m \u001b[39mself\u001b[39;49m\u001b[39m.\u001b[39;49mgrouper\u001b[39m.\u001b[39;49mapply(f, data, \u001b[39mself\u001b[39;49m\u001b[39m.\u001b[39;49maxis)\n\u001b[0;32m   1403\u001b[0m \u001b[39mif\u001b[39;00m not_indexed_same \u001b[39mis\u001b[39;00m \u001b[39mNone\u001b[39;00m:\n",
      "File \u001b[1;32mc:\\Users\\vhect\\AppData\\Local\\Programs\\Python\\Python311\\Lib\\site-packages\\pandas\\core\\groupby\\ops.py:767\u001b[0m, in \u001b[0;36mBaseGrouper.apply\u001b[1;34m(self, f, data, axis)\u001b[0m\n\u001b[0;32m    766\u001b[0m group_axes \u001b[39m=\u001b[39m group\u001b[39m.\u001b[39maxes\n\u001b[1;32m--> 767\u001b[0m res \u001b[39m=\u001b[39m f(group)\n\u001b[0;32m    768\u001b[0m \u001b[39mif\u001b[39;00m \u001b[39mnot\u001b[39;00m mutated \u001b[39mand\u001b[39;00m \u001b[39mnot\u001b[39;00m _is_indexed_like(res, group_axes, axis):\n",
      "\u001b[1;32mc:\\Users\\vhect\\Documents\\semestre 9\\trabajo de grado\\proyecto_prec_vsdcode\\Proyecto_mod_precipitacion\\Codigos de Python\\NoteNook_model_XGboost.ipynb Cell 57\u001b[0m line \u001b[0;36m1\n\u001b[0;32m     <a href='vscode-notebook-cell:/c%3A/Users/vhect/Documents/semestre%209/trabajo%20de%20grado/proyecto_prec_vsdcode/Proyecto_mod_precipitacion/Codigos%20de%20Python/NoteNook_model_XGboost.ipynb#Y111sZmlsZQ%3D%3D?line=12'>13</a>\u001b[0m \u001b[39m# Filtrar valores NaN de las series de datos\u001b[39;00m\n\u001b[1;32m---> <a href='vscode-notebook-cell:/c%3A/Users/vhect/Documents/semestre%209/trabajo%20de%20grado/proyecto_prec_vsdcode/Proyecto_mod_precipitacion/Codigos%20de%20Python/NoteNook_model_XGboost.ipynb#Y111sZmlsZQ%3D%3D?line=13'>14</a>\u001b[0m valid_indices \u001b[39m=\u001b[39m \u001b[39m~\u001b[39;49mnp\u001b[39m.\u001b[39;49misnan(original_values) \u001b[39m&\u001b[39;49m \u001b[39m~\u001b[39;49mnp\u001b[39m.\u001b[39;49misnan(imputed_values)\n\u001b[0;32m     <a href='vscode-notebook-cell:/c%3A/Users/vhect/Documents/semestre%209/trabajo%20de%20grado/proyecto_prec_vsdcode/Proyecto_mod_precipitacion/Codigos%20de%20Python/NoteNook_model_XGboost.ipynb#Y111sZmlsZQ%3D%3D?line=14'>15</a>\u001b[0m original_values_no_nan \u001b[39m=\u001b[39m original_values[valid_indices]\n",
      "File \u001b[1;32mc:\\Users\\vhect\\AppData\\Local\\Programs\\Python\\Python311\\Lib\\site-packages\\pandas\\core\\ops\\common.py:81\u001b[0m, in \u001b[0;36m_unpack_zerodim_and_defer.<locals>.new_method\u001b[1;34m(self, other)\u001b[0m\n\u001b[0;32m     79\u001b[0m other \u001b[39m=\u001b[39m item_from_zerodim(other)\n\u001b[1;32m---> 81\u001b[0m \u001b[39mreturn\u001b[39;00m method(\u001b[39mself\u001b[39;49m, other)\n",
      "File \u001b[1;32mc:\\Users\\vhect\\AppData\\Local\\Programs\\Python\\Python311\\Lib\\site-packages\\pandas\\core\\arraylike.py:70\u001b[0m, in \u001b[0;36mOpsMixin.__and__\u001b[1;34m(self, other)\u001b[0m\n\u001b[0;32m     68\u001b[0m \u001b[39m@unpack_zerodim_and_defer\u001b[39m(\u001b[39m\"\u001b[39m\u001b[39m__and__\u001b[39m\u001b[39m\"\u001b[39m)\n\u001b[0;32m     69\u001b[0m \u001b[39mdef\u001b[39;00m \u001b[39m__and__\u001b[39m(\u001b[39mself\u001b[39m, other):\n\u001b[1;32m---> 70\u001b[0m     \u001b[39mreturn\u001b[39;00m \u001b[39mself\u001b[39;49m\u001b[39m.\u001b[39;49m_logical_method(other, operator\u001b[39m.\u001b[39;49mand_)\n",
      "File \u001b[1;32mc:\\Users\\vhect\\AppData\\Local\\Programs\\Python\\Python311\\Lib\\site-packages\\pandas\\core\\frame.py:7465\u001b[0m, in \u001b[0;36mDataFrame._arith_method\u001b[1;34m(self, other, op)\u001b[0m\n\u001b[0;32m   7463\u001b[0m other \u001b[39m=\u001b[39m ops\u001b[39m.\u001b[39mmaybe_prepare_scalar_for_op(other, (\u001b[39mself\u001b[39m\u001b[39m.\u001b[39mshape[axis],))\n\u001b[1;32m-> 7465\u001b[0m \u001b[39mself\u001b[39m, other \u001b[39m=\u001b[39m ops\u001b[39m.\u001b[39;49malign_method_FRAME(\u001b[39mself\u001b[39;49m, other, axis, flex\u001b[39m=\u001b[39;49m\u001b[39mTrue\u001b[39;49;00m, level\u001b[39m=\u001b[39;49m\u001b[39mNone\u001b[39;49;00m)\n\u001b[0;32m   7467\u001b[0m new_data \u001b[39m=\u001b[39m \u001b[39mself\u001b[39m\u001b[39m.\u001b[39m_dispatch_frame_op(other, op, axis\u001b[39m=\u001b[39maxis)\n",
      "File \u001b[1;32mc:\\Users\\vhect\\AppData\\Local\\Programs\\Python\\Python311\\Lib\\site-packages\\pandas\\core\\ops\\__init__.py:329\u001b[0m, in \u001b[0;36malign_method_FRAME\u001b[1;34m(left, right, axis, flex, level)\u001b[0m\n\u001b[0;32m    323\u001b[0m         \u001b[39mraise\u001b[39;00m \u001b[39mValueError\u001b[39;00m(\n\u001b[0;32m    324\u001b[0m             \u001b[39m\"\u001b[39m\u001b[39mOperands are not aligned. Do \u001b[39m\u001b[39m\"\u001b[39m\n\u001b[0;32m    325\u001b[0m             \u001b[39m\"\u001b[39m\u001b[39m`left, right = left.align(right, axis=1, copy=False)` \u001b[39m\u001b[39m\"\u001b[39m\n\u001b[0;32m    326\u001b[0m             \u001b[39m\"\u001b[39m\u001b[39mbefore operating.\u001b[39m\u001b[39m\"\u001b[39m\n\u001b[0;32m    327\u001b[0m         )\n\u001b[1;32m--> 329\u001b[0m left, right \u001b[39m=\u001b[39m left\u001b[39m.\u001b[39;49malign(\n\u001b[0;32m    330\u001b[0m     right, join\u001b[39m=\u001b[39;49m\u001b[39m\"\u001b[39;49m\u001b[39mouter\u001b[39;49m\u001b[39m\"\u001b[39;49m, axis\u001b[39m=\u001b[39;49maxis, level\u001b[39m=\u001b[39;49mlevel, copy\u001b[39m=\u001b[39;49m\u001b[39mFalse\u001b[39;49;00m\n\u001b[0;32m    331\u001b[0m )\n\u001b[0;32m    332\u001b[0m right \u001b[39m=\u001b[39m _maybe_align_series_as_frame(left, right, axis)\n",
      "File \u001b[1;32mc:\\Users\\vhect\\AppData\\Local\\Programs\\Python\\Python311\\Lib\\site-packages\\pandas\\core\\frame.py:4994\u001b[0m, in \u001b[0;36mDataFrame.align\u001b[1;34m(self, other, join, axis, level, copy, fill_value, method, limit, fill_axis, broadcast_axis)\u001b[0m\n\u001b[0;32m   4980\u001b[0m \u001b[39m@doc\u001b[39m(NDFrame\u001b[39m.\u001b[39malign, \u001b[39m*\u001b[39m\u001b[39m*\u001b[39m_shared_doc_kwargs)\n\u001b[0;32m   4981\u001b[0m \u001b[39mdef\u001b[39;00m \u001b[39malign\u001b[39m(\n\u001b[0;32m   4982\u001b[0m     \u001b[39mself\u001b[39m,\n\u001b[1;32m   (...)\u001b[0m\n\u001b[0;32m   4992\u001b[0m     broadcast_axis: Axis \u001b[39m|\u001b[39m \u001b[39mNone\u001b[39;00m \u001b[39m=\u001b[39m \u001b[39mNone\u001b[39;00m,\n\u001b[0;32m   4993\u001b[0m ) \u001b[39m-\u001b[39m\u001b[39m>\u001b[39m DataFrame:\n\u001b[1;32m-> 4994\u001b[0m     \u001b[39mreturn\u001b[39;00m \u001b[39msuper\u001b[39;49m()\u001b[39m.\u001b[39;49malign(\n\u001b[0;32m   4995\u001b[0m         other,\n\u001b[0;32m   4996\u001b[0m         join\u001b[39m=\u001b[39;49mjoin,\n\u001b[0;32m   4997\u001b[0m         axis\u001b[39m=\u001b[39;49maxis,\n\u001b[0;32m   4998\u001b[0m         level\u001b[39m=\u001b[39;49mlevel,\n\u001b[0;32m   4999\u001b[0m         copy\u001b[39m=\u001b[39;49mcopy,\n\u001b[0;32m   5000\u001b[0m         fill_value\u001b[39m=\u001b[39;49mfill_value,\n\u001b[0;32m   5001\u001b[0m         method\u001b[39m=\u001b[39;49mmethod,\n\u001b[0;32m   5002\u001b[0m         limit\u001b[39m=\u001b[39;49mlimit,\n\u001b[0;32m   5003\u001b[0m         fill_axis\u001b[39m=\u001b[39;49mfill_axis,\n\u001b[0;32m   5004\u001b[0m         broadcast_axis\u001b[39m=\u001b[39;49mbroadcast_axis,\n\u001b[0;32m   5005\u001b[0m     )\n",
      "File \u001b[1;32mc:\\Users\\vhect\\AppData\\Local\\Programs\\Python\\Python311\\Lib\\site-packages\\pandas\\core\\generic.py:9449\u001b[0m, in \u001b[0;36mNDFrame.align\u001b[1;34m(self, other, join, axis, level, copy, fill_value, method, limit, fill_axis, broadcast_axis)\u001b[0m\n\u001b[0;32m   9448\u001b[0m \u001b[39melif\u001b[39;00m \u001b[39misinstance\u001b[39m(other, ABCSeries):\n\u001b[1;32m-> 9449\u001b[0m     \u001b[39mreturn\u001b[39;00m \u001b[39mself\u001b[39;49m\u001b[39m.\u001b[39;49m_align_series(\n\u001b[0;32m   9450\u001b[0m         other,\n\u001b[0;32m   9451\u001b[0m         join\u001b[39m=\u001b[39;49mjoin,\n\u001b[0;32m   9452\u001b[0m         axis\u001b[39m=\u001b[39;49maxis,\n\u001b[0;32m   9453\u001b[0m         level\u001b[39m=\u001b[39;49mlevel,\n\u001b[0;32m   9454\u001b[0m         copy\u001b[39m=\u001b[39;49mcopy,\n\u001b[0;32m   9455\u001b[0m         fill_value\u001b[39m=\u001b[39;49mfill_value,\n\u001b[0;32m   9456\u001b[0m         method\u001b[39m=\u001b[39;49mmethod,\n\u001b[0;32m   9457\u001b[0m         limit\u001b[39m=\u001b[39;49mlimit,\n\u001b[0;32m   9458\u001b[0m         fill_axis\u001b[39m=\u001b[39;49mfill_axis,\n\u001b[0;32m   9459\u001b[0m     )\n\u001b[0;32m   9460\u001b[0m \u001b[39melse\u001b[39;00m:  \u001b[39m# pragma: no cover\u001b[39;00m\n",
      "File \u001b[1;32mc:\\Users\\vhect\\AppData\\Local\\Programs\\Python\\Python311\\Lib\\site-packages\\pandas\\core\\generic.py:9577\u001b[0m, in \u001b[0;36mNDFrame._align_series\u001b[1;34m(self, other, join, axis, level, copy, fill_value, method, limit, fill_axis)\u001b[0m\n\u001b[0;32m   9576\u001b[0m \u001b[39mif\u001b[39;00m \u001b[39mnot\u001b[39;00m join_index\u001b[39m.\u001b[39mequals(other\u001b[39m.\u001b[39mindex):\n\u001b[1;32m-> 9577\u001b[0m     join_index, lidx, ridx \u001b[39m=\u001b[39m join_index\u001b[39m.\u001b[39;49mjoin(\n\u001b[0;32m   9578\u001b[0m         other\u001b[39m.\u001b[39;49mindex, how\u001b[39m=\u001b[39;49mjoin, level\u001b[39m=\u001b[39;49mlevel, return_indexers\u001b[39m=\u001b[39;49m\u001b[39mTrue\u001b[39;49;00m\n\u001b[0;32m   9579\u001b[0m     )\n\u001b[0;32m   9581\u001b[0m \u001b[39mif\u001b[39;00m lidx \u001b[39mis\u001b[39;00m \u001b[39mnot\u001b[39;00m \u001b[39mNone\u001b[39;00m:\n",
      "File \u001b[1;32mc:\\Users\\vhect\\AppData\\Local\\Programs\\Python\\Python311\\Lib\\site-packages\\pandas\\core\\indexes\\base.py:259\u001b[0m, in \u001b[0;36m_maybe_return_indexers.<locals>.join\u001b[1;34m(self, other, how, level, return_indexers, sort)\u001b[0m\n\u001b[0;32m    249\u001b[0m \u001b[39m@functools\u001b[39m\u001b[39m.\u001b[39mwraps(meth)\n\u001b[0;32m    250\u001b[0m \u001b[39mdef\u001b[39;00m \u001b[39mjoin\u001b[39m(\n\u001b[0;32m    251\u001b[0m     \u001b[39mself\u001b[39m,\n\u001b[1;32m   (...)\u001b[0m\n\u001b[0;32m    257\u001b[0m     sort: \u001b[39mbool\u001b[39m \u001b[39m=\u001b[39m \u001b[39mFalse\u001b[39;00m,\n\u001b[0;32m    258\u001b[0m ):\n\u001b[1;32m--> 259\u001b[0m     join_index, lidx, ridx \u001b[39m=\u001b[39m meth(\u001b[39mself\u001b[39;49m, other, how\u001b[39m=\u001b[39;49mhow, level\u001b[39m=\u001b[39;49mlevel, sort\u001b[39m=\u001b[39;49msort)\n\u001b[0;32m    260\u001b[0m     \u001b[39mif\u001b[39;00m \u001b[39mnot\u001b[39;00m return_indexers:\n",
      "File \u001b[1;32mc:\\Users\\vhect\\AppData\\Local\\Programs\\Python\\Python311\\Lib\\site-packages\\pandas\\core\\indexes\\base.py:4494\u001b[0m, in \u001b[0;36mIndex.join\u001b[1;34m(self, other, how, level, return_indexers, sort)\u001b[0m\n\u001b[0;32m   4493\u001b[0m     other \u001b[39m=\u001b[39m other\u001b[39m.\u001b[39mastype(dtype, copy\u001b[39m=\u001b[39m\u001b[39mFalse\u001b[39;00m)\n\u001b[1;32m-> 4494\u001b[0m     \u001b[39mreturn\u001b[39;00m this\u001b[39m.\u001b[39;49mjoin(other, how\u001b[39m=\u001b[39;49mhow, return_indexers\u001b[39m=\u001b[39;49m\u001b[39mTrue\u001b[39;49;00m)\n\u001b[0;32m   4496\u001b[0m _validate_join_method(how)\n",
      "File \u001b[1;32mc:\\Users\\vhect\\AppData\\Local\\Programs\\Python\\Python311\\Lib\\site-packages\\pandas\\core\\indexes\\base.py:259\u001b[0m, in \u001b[0;36m_maybe_return_indexers.<locals>.join\u001b[1;34m(self, other, how, level, return_indexers, sort)\u001b[0m\n\u001b[0;32m    249\u001b[0m \u001b[39m@functools\u001b[39m\u001b[39m.\u001b[39mwraps(meth)\n\u001b[0;32m    250\u001b[0m \u001b[39mdef\u001b[39;00m \u001b[39mjoin\u001b[39m(\n\u001b[0;32m    251\u001b[0m     \u001b[39mself\u001b[39m,\n\u001b[1;32m   (...)\u001b[0m\n\u001b[0;32m    257\u001b[0m     sort: \u001b[39mbool\u001b[39m \u001b[39m=\u001b[39m \u001b[39mFalse\u001b[39;00m,\n\u001b[0;32m    258\u001b[0m ):\n\u001b[1;32m--> 259\u001b[0m     join_index, lidx, ridx \u001b[39m=\u001b[39m meth(\u001b[39mself\u001b[39;49m, other, how\u001b[39m=\u001b[39;49mhow, level\u001b[39m=\u001b[39;49mlevel, sort\u001b[39m=\u001b[39;49msort)\n\u001b[0;32m    260\u001b[0m     \u001b[39mif\u001b[39;00m \u001b[39mnot\u001b[39;00m return_indexers:\n",
      "File \u001b[1;32mc:\\Users\\vhect\\AppData\\Local\\Programs\\Python\\Python311\\Lib\\site-packages\\pandas\\core\\indexes\\base.py:4506\u001b[0m, in \u001b[0;36mIndex.join\u001b[1;34m(self, other, how, level, return_indexers, sort)\u001b[0m\n\u001b[0;32m   4502\u001b[0m     \u001b[39mif\u001b[39;00m \u001b[39mnot\u001b[39;00m is_interval_dtype(\u001b[39mself\u001b[39m\u001b[39m.\u001b[39mdtype):\n\u001b[0;32m   4503\u001b[0m         \u001b[39m# otherwise we will fall through to _join_via_get_indexer\u001b[39;00m\n\u001b[0;32m   4504\u001b[0m         \u001b[39m# GH#39133\u001b[39;00m\n\u001b[0;32m   4505\u001b[0m         \u001b[39m# go through object dtype for ea till engine is supported properly\u001b[39;00m\n\u001b[1;32m-> 4506\u001b[0m         \u001b[39mreturn\u001b[39;00m \u001b[39mself\u001b[39;49m\u001b[39m.\u001b[39;49m_join_monotonic(other, how\u001b[39m=\u001b[39;49mhow)\n\u001b[0;32m   4507\u001b[0m \u001b[39melse\u001b[39;00m:\n",
      "File \u001b[1;32mc:\\Users\\vhect\\AppData\\Local\\Programs\\Python\\Python311\\Lib\\site-packages\\pandas\\core\\indexes\\base.py:4853\u001b[0m, in \u001b[0;36mIndex._join_monotonic\u001b[1;34m(self, other, how)\u001b[0m\n\u001b[0;32m   4852\u001b[0m \u001b[39melif\u001b[39;00m how \u001b[39m==\u001b[39m \u001b[39m\"\u001b[39m\u001b[39mouter\u001b[39m\u001b[39m\"\u001b[39m:\n\u001b[1;32m-> 4853\u001b[0m     join_array, lidx, ridx \u001b[39m=\u001b[39m \u001b[39mself\u001b[39;49m\u001b[39m.\u001b[39;49m_outer_indexer(other)\n\u001b[0;32m   4855\u001b[0m \u001b[39massert\u001b[39;00m lidx \u001b[39mis\u001b[39;00m \u001b[39mnot\u001b[39;00m \u001b[39mNone\u001b[39;00m\n",
      "File \u001b[1;32mc:\\Users\\vhect\\AppData\\Local\\Programs\\Python\\Python311\\Lib\\site-packages\\pandas\\core\\indexes\\base.py:412\u001b[0m, in \u001b[0;36mIndex._outer_indexer\u001b[1;34m(self, other)\u001b[0m\n\u001b[0;32m    411\u001b[0m ov \u001b[39m=\u001b[39m cast(np\u001b[39m.\u001b[39mndarray, ov)\n\u001b[1;32m--> 412\u001b[0m joined_ndarray, lidx, ridx \u001b[39m=\u001b[39m libjoin\u001b[39m.\u001b[39;49mouter_join_indexer(sv, ov)\n\u001b[0;32m    413\u001b[0m joined \u001b[39m=\u001b[39m \u001b[39mself\u001b[39m\u001b[39m.\u001b[39m_from_join_target(joined_ndarray)\n",
      "File \u001b[1;32mc:\\Users\\vhect\\AppData\\Local\\Programs\\Python\\Python311\\Lib\\site-packages\\pandas\\_libs\\join.pyx:580\u001b[0m, in \u001b[0;36mpandas._libs.join.outer_join_indexer\u001b[1;34m()\u001b[0m\n",
      "\u001b[1;31mTypeError\u001b[0m: '<' not supported between instances of 'str' and 'int'",
      "\nDuring handling of the above exception, another exception occurred:\n",
      "\u001b[1;31mTypeError\u001b[0m                                 Traceback (most recent call last)",
      "\u001b[1;32mc:\\Users\\vhect\\Documents\\semestre 9\\trabajo de grado\\proyecto_prec_vsdcode\\Proyecto_mod_precipitacion\\Codigos de Python\\NoteNook_model_XGboost.ipynb Cell 57\u001b[0m line \u001b[0;36m2\n\u001b[0;32m     <a href='vscode-notebook-cell:/c%3A/Users/vhect/Documents/semestre%209/trabajo%20de%20grado/proyecto_prec_vsdcode/Proyecto_mod_precipitacion/Codigos%20de%20Python/NoteNook_model_XGboost.ipynb#Y111sZmlsZQ%3D%3D?line=25'>26</a>\u001b[0m \u001b[39m# Agrupar por estación y calcular métricas por estación\u001b[39;00m\n\u001b[0;32m     <a href='vscode-notebook-cell:/c%3A/Users/vhect/Documents/semestre%209/trabajo%20de%20grado/proyecto_prec_vsdcode/Proyecto_mod_precipitacion/Codigos%20de%20Python/NoteNook_model_XGboost.ipynb#Y111sZmlsZQ%3D%3D?line=26'>27</a>\u001b[0m merged_data \u001b[39m=\u001b[39m merged_data\u001b[39m.\u001b[39mgroupby(\u001b[39m'\u001b[39m\u001b[39mID\u001b[39m\u001b[39m'\u001b[39m)\u001b[39m.\u001b[39mmean()\u001b[39m.\u001b[39mreset_index()\n\u001b[1;32m---> <a href='vscode-notebook-cell:/c%3A/Users/vhect/Documents/semestre%209/trabajo%20de%20grado/proyecto_prec_vsdcode/Proyecto_mod_precipitacion/Codigos%20de%20Python/NoteNook_model_XGboost.ipynb#Y111sZmlsZQ%3D%3D?line=28'>29</a>\u001b[0m metrics_by_station \u001b[39m=\u001b[39m merged_data\u001b[39m.\u001b[39;49mgroupby(\u001b[39m'\u001b[39;49m\u001b[39mID\u001b[39;49m\u001b[39m'\u001b[39;49m)\u001b[39m.\u001b[39;49mapply(calculate_metrics)\n\u001b[0;32m     <a href='vscode-notebook-cell:/c%3A/Users/vhect/Documents/semestre%209/trabajo%20de%20grado/proyecto_prec_vsdcode/Proyecto_mod_precipitacion/Codigos%20de%20Python/NoteNook_model_XGboost.ipynb#Y111sZmlsZQ%3D%3D?line=29'>30</a>\u001b[0m \u001b[39mprint\u001b[39m(metrics_by_station)\n",
      "File \u001b[1;32mc:\\Users\\vhect\\AppData\\Local\\Programs\\Python\\Python311\\Lib\\site-packages\\pandas\\core\\groupby\\groupby.py:1363\u001b[0m, in \u001b[0;36mGroupBy.apply\u001b[1;34m(self, func, *args, **kwargs)\u001b[0m\n\u001b[0;32m   1353\u001b[0m         result \u001b[39m=\u001b[39m \u001b[39mself\u001b[39m\u001b[39m.\u001b[39m_python_apply_general(f, \u001b[39mself\u001b[39m\u001b[39m.\u001b[39m_selected_obj)\n\u001b[0;32m   1354\u001b[0m     \u001b[39mexcept\u001b[39;00m \u001b[39mTypeError\u001b[39;00m:\n\u001b[0;32m   1355\u001b[0m         \u001b[39m# gh-20949\u001b[39;00m\n\u001b[0;32m   1356\u001b[0m         \u001b[39m# try again, with .apply acting as a filtering\u001b[39;00m\n\u001b[1;32m   (...)\u001b[0m\n\u001b[0;32m   1360\u001b[0m         \u001b[39m# fails on *some* columns, e.g. a numeric operation\u001b[39;00m\n\u001b[0;32m   1361\u001b[0m         \u001b[39m# on a string grouper column\u001b[39;00m\n\u001b[1;32m-> 1363\u001b[0m         \u001b[39mreturn\u001b[39;00m \u001b[39mself\u001b[39;49m\u001b[39m.\u001b[39;49m_python_apply_general(f, \u001b[39mself\u001b[39;49m\u001b[39m.\u001b[39;49m_obj_with_exclusions)\n\u001b[0;32m   1365\u001b[0m \u001b[39mreturn\u001b[39;00m result\n",
      "File \u001b[1;32mc:\\Users\\vhect\\AppData\\Local\\Programs\\Python\\Python311\\Lib\\site-packages\\pandas\\core\\groupby\\groupby.py:1402\u001b[0m, in \u001b[0;36mGroupBy._python_apply_general\u001b[1;34m(self, f, data, not_indexed_same, is_transform, is_agg)\u001b[0m\n\u001b[0;32m   1367\u001b[0m \u001b[39m@final\u001b[39m\n\u001b[0;32m   1368\u001b[0m \u001b[39mdef\u001b[39;00m \u001b[39m_python_apply_general\u001b[39m(\n\u001b[0;32m   1369\u001b[0m     \u001b[39mself\u001b[39m,\n\u001b[1;32m   (...)\u001b[0m\n\u001b[0;32m   1374\u001b[0m     is_agg: \u001b[39mbool\u001b[39m \u001b[39m=\u001b[39m \u001b[39mFalse\u001b[39;00m,\n\u001b[0;32m   1375\u001b[0m ) \u001b[39m-\u001b[39m\u001b[39m>\u001b[39m NDFrameT:\n\u001b[0;32m   1376\u001b[0m \u001b[39m    \u001b[39m\u001b[39m\"\"\"\u001b[39;00m\n\u001b[0;32m   1377\u001b[0m \u001b[39m    Apply function f in python space\u001b[39;00m\n\u001b[0;32m   1378\u001b[0m \n\u001b[1;32m   (...)\u001b[0m\n\u001b[0;32m   1400\u001b[0m \u001b[39m        data after applying f\u001b[39;00m\n\u001b[0;32m   1401\u001b[0m \u001b[39m    \"\"\"\u001b[39;00m\n\u001b[1;32m-> 1402\u001b[0m     values, mutated \u001b[39m=\u001b[39m \u001b[39mself\u001b[39;49m\u001b[39m.\u001b[39;49mgrouper\u001b[39m.\u001b[39;49mapply(f, data, \u001b[39mself\u001b[39;49m\u001b[39m.\u001b[39;49maxis)\n\u001b[0;32m   1403\u001b[0m     \u001b[39mif\u001b[39;00m not_indexed_same \u001b[39mis\u001b[39;00m \u001b[39mNone\u001b[39;00m:\n\u001b[0;32m   1404\u001b[0m         not_indexed_same \u001b[39m=\u001b[39m mutated\n",
      "File \u001b[1;32mc:\\Users\\vhect\\AppData\\Local\\Programs\\Python\\Python311\\Lib\\site-packages\\pandas\\core\\groupby\\ops.py:767\u001b[0m, in \u001b[0;36mBaseGrouper.apply\u001b[1;34m(self, f, data, axis)\u001b[0m\n\u001b[0;32m    765\u001b[0m \u001b[39m# group might be modified\u001b[39;00m\n\u001b[0;32m    766\u001b[0m group_axes \u001b[39m=\u001b[39m group\u001b[39m.\u001b[39maxes\n\u001b[1;32m--> 767\u001b[0m res \u001b[39m=\u001b[39m f(group)\n\u001b[0;32m    768\u001b[0m \u001b[39mif\u001b[39;00m \u001b[39mnot\u001b[39;00m mutated \u001b[39mand\u001b[39;00m \u001b[39mnot\u001b[39;00m _is_indexed_like(res, group_axes, axis):\n\u001b[0;32m    769\u001b[0m     mutated \u001b[39m=\u001b[39m \u001b[39mTrue\u001b[39;00m\n",
      "\u001b[1;32mc:\\Users\\vhect\\Documents\\semestre 9\\trabajo de grado\\proyecto_prec_vsdcode\\Proyecto_mod_precipitacion\\Codigos de Python\\NoteNook_model_XGboost.ipynb Cell 57\u001b[0m line \u001b[0;36m1\n\u001b[0;32m     <a href='vscode-notebook-cell:/c%3A/Users/vhect/Documents/semestre%209/trabajo%20de%20grado/proyecto_prec_vsdcode/Proyecto_mod_precipitacion/Codigos%20de%20Python/NoteNook_model_XGboost.ipynb#Y111sZmlsZQ%3D%3D?line=10'>11</a>\u001b[0m imputed_values \u001b[39m=\u001b[39m merged_data[\u001b[39m'\u001b[39m\u001b[39mImputed\u001b[39m\u001b[39m'\u001b[39m]\n\u001b[0;32m     <a href='vscode-notebook-cell:/c%3A/Users/vhect/Documents/semestre%209/trabajo%20de%20grado/proyecto_prec_vsdcode/Proyecto_mod_precipitacion/Codigos%20de%20Python/NoteNook_model_XGboost.ipynb#Y111sZmlsZQ%3D%3D?line=12'>13</a>\u001b[0m \u001b[39m# Filtrar valores NaN de las series de datos\u001b[39;00m\n\u001b[1;32m---> <a href='vscode-notebook-cell:/c%3A/Users/vhect/Documents/semestre%209/trabajo%20de%20grado/proyecto_prec_vsdcode/Proyecto_mod_precipitacion/Codigos%20de%20Python/NoteNook_model_XGboost.ipynb#Y111sZmlsZQ%3D%3D?line=13'>14</a>\u001b[0m valid_indices \u001b[39m=\u001b[39m \u001b[39m~\u001b[39;49mnp\u001b[39m.\u001b[39;49misnan(original_values) \u001b[39m&\u001b[39;49m \u001b[39m~\u001b[39;49mnp\u001b[39m.\u001b[39;49misnan(imputed_values)\n\u001b[0;32m     <a href='vscode-notebook-cell:/c%3A/Users/vhect/Documents/semestre%209/trabajo%20de%20grado/proyecto_prec_vsdcode/Proyecto_mod_precipitacion/Codigos%20de%20Python/NoteNook_model_XGboost.ipynb#Y111sZmlsZQ%3D%3D?line=14'>15</a>\u001b[0m original_values_no_nan \u001b[39m=\u001b[39m original_values[valid_indices]\n\u001b[0;32m     <a href='vscode-notebook-cell:/c%3A/Users/vhect/Documents/semestre%209/trabajo%20de%20grado/proyecto_prec_vsdcode/Proyecto_mod_precipitacion/Codigos%20de%20Python/NoteNook_model_XGboost.ipynb#Y111sZmlsZQ%3D%3D?line=15'>16</a>\u001b[0m imputed_values_no_nan \u001b[39m=\u001b[39m imputed_values[valid_indices]\n",
      "File \u001b[1;32mc:\\Users\\vhect\\AppData\\Local\\Programs\\Python\\Python311\\Lib\\site-packages\\pandas\\core\\ops\\common.py:81\u001b[0m, in \u001b[0;36m_unpack_zerodim_and_defer.<locals>.new_method\u001b[1;34m(self, other)\u001b[0m\n\u001b[0;32m     77\u001b[0m             \u001b[39mreturn\u001b[39;00m \u001b[39mNotImplemented\u001b[39m\n\u001b[0;32m     79\u001b[0m other \u001b[39m=\u001b[39m item_from_zerodim(other)\n\u001b[1;32m---> 81\u001b[0m \u001b[39mreturn\u001b[39;00m method(\u001b[39mself\u001b[39;49m, other)\n",
      "File \u001b[1;32mc:\\Users\\vhect\\AppData\\Local\\Programs\\Python\\Python311\\Lib\\site-packages\\pandas\\core\\arraylike.py:70\u001b[0m, in \u001b[0;36mOpsMixin.__and__\u001b[1;34m(self, other)\u001b[0m\n\u001b[0;32m     68\u001b[0m \u001b[39m@unpack_zerodim_and_defer\u001b[39m(\u001b[39m\"\u001b[39m\u001b[39m__and__\u001b[39m\u001b[39m\"\u001b[39m)\n\u001b[0;32m     69\u001b[0m \u001b[39mdef\u001b[39;00m \u001b[39m__and__\u001b[39m(\u001b[39mself\u001b[39m, other):\n\u001b[1;32m---> 70\u001b[0m     \u001b[39mreturn\u001b[39;00m \u001b[39mself\u001b[39;49m\u001b[39m.\u001b[39;49m_logical_method(other, operator\u001b[39m.\u001b[39;49mand_)\n",
      "File \u001b[1;32mc:\\Users\\vhect\\AppData\\Local\\Programs\\Python\\Python311\\Lib\\site-packages\\pandas\\core\\frame.py:7465\u001b[0m, in \u001b[0;36mDataFrame._arith_method\u001b[1;34m(self, other, op)\u001b[0m\n\u001b[0;32m   7462\u001b[0m axis: Literal[\u001b[39m1\u001b[39m] \u001b[39m=\u001b[39m \u001b[39m1\u001b[39m  \u001b[39m# only relevant for Series other case\u001b[39;00m\n\u001b[0;32m   7463\u001b[0m other \u001b[39m=\u001b[39m ops\u001b[39m.\u001b[39mmaybe_prepare_scalar_for_op(other, (\u001b[39mself\u001b[39m\u001b[39m.\u001b[39mshape[axis],))\n\u001b[1;32m-> 7465\u001b[0m \u001b[39mself\u001b[39m, other \u001b[39m=\u001b[39m ops\u001b[39m.\u001b[39;49malign_method_FRAME(\u001b[39mself\u001b[39;49m, other, axis, flex\u001b[39m=\u001b[39;49m\u001b[39mTrue\u001b[39;49;00m, level\u001b[39m=\u001b[39;49m\u001b[39mNone\u001b[39;49;00m)\n\u001b[0;32m   7467\u001b[0m new_data \u001b[39m=\u001b[39m \u001b[39mself\u001b[39m\u001b[39m.\u001b[39m_dispatch_frame_op(other, op, axis\u001b[39m=\u001b[39maxis)\n\u001b[0;32m   7468\u001b[0m \u001b[39mreturn\u001b[39;00m \u001b[39mself\u001b[39m\u001b[39m.\u001b[39m_construct_result(new_data)\n",
      "File \u001b[1;32mc:\\Users\\vhect\\AppData\\Local\\Programs\\Python\\Python311\\Lib\\site-packages\\pandas\\core\\ops\\__init__.py:329\u001b[0m, in \u001b[0;36malign_method_FRAME\u001b[1;34m(left, right, axis, flex, level)\u001b[0m\n\u001b[0;32m    322\u001b[0m         \u001b[39mif\u001b[39;00m \u001b[39mnot\u001b[39;00m left\u001b[39m.\u001b[39maxes[axis]\u001b[39m.\u001b[39mequals(right\u001b[39m.\u001b[39mindex):\n\u001b[0;32m    323\u001b[0m             \u001b[39mraise\u001b[39;00m \u001b[39mValueError\u001b[39;00m(\n\u001b[0;32m    324\u001b[0m                 \u001b[39m\"\u001b[39m\u001b[39mOperands are not aligned. Do \u001b[39m\u001b[39m\"\u001b[39m\n\u001b[0;32m    325\u001b[0m                 \u001b[39m\"\u001b[39m\u001b[39m`left, right = left.align(right, axis=1, copy=False)` \u001b[39m\u001b[39m\"\u001b[39m\n\u001b[0;32m    326\u001b[0m                 \u001b[39m\"\u001b[39m\u001b[39mbefore operating.\u001b[39m\u001b[39m\"\u001b[39m\n\u001b[0;32m    327\u001b[0m             )\n\u001b[1;32m--> 329\u001b[0m     left, right \u001b[39m=\u001b[39m left\u001b[39m.\u001b[39;49malign(\n\u001b[0;32m    330\u001b[0m         right, join\u001b[39m=\u001b[39;49m\u001b[39m\"\u001b[39;49m\u001b[39mouter\u001b[39;49m\u001b[39m\"\u001b[39;49m, axis\u001b[39m=\u001b[39;49maxis, level\u001b[39m=\u001b[39;49mlevel, copy\u001b[39m=\u001b[39;49m\u001b[39mFalse\u001b[39;49;00m\n\u001b[0;32m    331\u001b[0m     )\n\u001b[0;32m    332\u001b[0m     right \u001b[39m=\u001b[39m _maybe_align_series_as_frame(left, right, axis)\n\u001b[0;32m    334\u001b[0m \u001b[39mreturn\u001b[39;00m left, right\n",
      "File \u001b[1;32mc:\\Users\\vhect\\AppData\\Local\\Programs\\Python\\Python311\\Lib\\site-packages\\pandas\\core\\frame.py:4994\u001b[0m, in \u001b[0;36mDataFrame.align\u001b[1;34m(self, other, join, axis, level, copy, fill_value, method, limit, fill_axis, broadcast_axis)\u001b[0m\n\u001b[0;32m   4980\u001b[0m \u001b[39m@doc\u001b[39m(NDFrame\u001b[39m.\u001b[39malign, \u001b[39m*\u001b[39m\u001b[39m*\u001b[39m_shared_doc_kwargs)\n\u001b[0;32m   4981\u001b[0m \u001b[39mdef\u001b[39;00m \u001b[39malign\u001b[39m(\n\u001b[0;32m   4982\u001b[0m     \u001b[39mself\u001b[39m,\n\u001b[1;32m   (...)\u001b[0m\n\u001b[0;32m   4992\u001b[0m     broadcast_axis: Axis \u001b[39m|\u001b[39m \u001b[39mNone\u001b[39;00m \u001b[39m=\u001b[39m \u001b[39mNone\u001b[39;00m,\n\u001b[0;32m   4993\u001b[0m ) \u001b[39m-\u001b[39m\u001b[39m>\u001b[39m DataFrame:\n\u001b[1;32m-> 4994\u001b[0m     \u001b[39mreturn\u001b[39;00m \u001b[39msuper\u001b[39;49m()\u001b[39m.\u001b[39;49malign(\n\u001b[0;32m   4995\u001b[0m         other,\n\u001b[0;32m   4996\u001b[0m         join\u001b[39m=\u001b[39;49mjoin,\n\u001b[0;32m   4997\u001b[0m         axis\u001b[39m=\u001b[39;49maxis,\n\u001b[0;32m   4998\u001b[0m         level\u001b[39m=\u001b[39;49mlevel,\n\u001b[0;32m   4999\u001b[0m         copy\u001b[39m=\u001b[39;49mcopy,\n\u001b[0;32m   5000\u001b[0m         fill_value\u001b[39m=\u001b[39;49mfill_value,\n\u001b[0;32m   5001\u001b[0m         method\u001b[39m=\u001b[39;49mmethod,\n\u001b[0;32m   5002\u001b[0m         limit\u001b[39m=\u001b[39;49mlimit,\n\u001b[0;32m   5003\u001b[0m         fill_axis\u001b[39m=\u001b[39;49mfill_axis,\n\u001b[0;32m   5004\u001b[0m         broadcast_axis\u001b[39m=\u001b[39;49mbroadcast_axis,\n\u001b[0;32m   5005\u001b[0m     )\n",
      "File \u001b[1;32mc:\\Users\\vhect\\AppData\\Local\\Programs\\Python\\Python311\\Lib\\site-packages\\pandas\\core\\generic.py:9449\u001b[0m, in \u001b[0;36mNDFrame.align\u001b[1;34m(self, other, join, axis, level, copy, fill_value, method, limit, fill_axis, broadcast_axis)\u001b[0m\n\u001b[0;32m   9437\u001b[0m     \u001b[39mreturn\u001b[39;00m \u001b[39mself\u001b[39m\u001b[39m.\u001b[39m_align_frame(\n\u001b[0;32m   9438\u001b[0m         other,\n\u001b[0;32m   9439\u001b[0m         join\u001b[39m=\u001b[39mjoin,\n\u001b[1;32m   (...)\u001b[0m\n\u001b[0;32m   9446\u001b[0m         fill_axis\u001b[39m=\u001b[39mfill_axis,\n\u001b[0;32m   9447\u001b[0m     )\n\u001b[0;32m   9448\u001b[0m \u001b[39melif\u001b[39;00m \u001b[39misinstance\u001b[39m(other, ABCSeries):\n\u001b[1;32m-> 9449\u001b[0m     \u001b[39mreturn\u001b[39;00m \u001b[39mself\u001b[39;49m\u001b[39m.\u001b[39;49m_align_series(\n\u001b[0;32m   9450\u001b[0m         other,\n\u001b[0;32m   9451\u001b[0m         join\u001b[39m=\u001b[39;49mjoin,\n\u001b[0;32m   9452\u001b[0m         axis\u001b[39m=\u001b[39;49maxis,\n\u001b[0;32m   9453\u001b[0m         level\u001b[39m=\u001b[39;49mlevel,\n\u001b[0;32m   9454\u001b[0m         copy\u001b[39m=\u001b[39;49mcopy,\n\u001b[0;32m   9455\u001b[0m         fill_value\u001b[39m=\u001b[39;49mfill_value,\n\u001b[0;32m   9456\u001b[0m         method\u001b[39m=\u001b[39;49mmethod,\n\u001b[0;32m   9457\u001b[0m         limit\u001b[39m=\u001b[39;49mlimit,\n\u001b[0;32m   9458\u001b[0m         fill_axis\u001b[39m=\u001b[39;49mfill_axis,\n\u001b[0;32m   9459\u001b[0m     )\n\u001b[0;32m   9460\u001b[0m \u001b[39melse\u001b[39;00m:  \u001b[39m# pragma: no cover\u001b[39;00m\n\u001b[0;32m   9461\u001b[0m     \u001b[39mraise\u001b[39;00m \u001b[39mTypeError\u001b[39;00m(\u001b[39mf\u001b[39m\u001b[39m\"\u001b[39m\u001b[39munsupported type: \u001b[39m\u001b[39m{\u001b[39;00m\u001b[39mtype\u001b[39m(other)\u001b[39m}\u001b[39;00m\u001b[39m\"\u001b[39m)\n",
      "File \u001b[1;32mc:\\Users\\vhect\\AppData\\Local\\Programs\\Python\\Python311\\Lib\\site-packages\\pandas\\core\\generic.py:9577\u001b[0m, in \u001b[0;36mNDFrame._align_series\u001b[1;34m(self, other, join, axis, level, copy, fill_value, method, limit, fill_axis)\u001b[0m\n\u001b[0;32m   9575\u001b[0m lidx, ridx \u001b[39m=\u001b[39m \u001b[39mNone\u001b[39;00m, \u001b[39mNone\u001b[39;00m\n\u001b[0;32m   9576\u001b[0m \u001b[39mif\u001b[39;00m \u001b[39mnot\u001b[39;00m join_index\u001b[39m.\u001b[39mequals(other\u001b[39m.\u001b[39mindex):\n\u001b[1;32m-> 9577\u001b[0m     join_index, lidx, ridx \u001b[39m=\u001b[39m join_index\u001b[39m.\u001b[39;49mjoin(\n\u001b[0;32m   9578\u001b[0m         other\u001b[39m.\u001b[39;49mindex, how\u001b[39m=\u001b[39;49mjoin, level\u001b[39m=\u001b[39;49mlevel, return_indexers\u001b[39m=\u001b[39;49m\u001b[39mTrue\u001b[39;49;00m\n\u001b[0;32m   9579\u001b[0m     )\n\u001b[0;32m   9581\u001b[0m \u001b[39mif\u001b[39;00m lidx \u001b[39mis\u001b[39;00m \u001b[39mnot\u001b[39;00m \u001b[39mNone\u001b[39;00m:\n\u001b[0;32m   9582\u001b[0m     bm_axis \u001b[39m=\u001b[39m \u001b[39mself\u001b[39m\u001b[39m.\u001b[39m_get_block_manager_axis(\u001b[39m1\u001b[39m)\n",
      "File \u001b[1;32mc:\\Users\\vhect\\AppData\\Local\\Programs\\Python\\Python311\\Lib\\site-packages\\pandas\\core\\indexes\\base.py:259\u001b[0m, in \u001b[0;36m_maybe_return_indexers.<locals>.join\u001b[1;34m(self, other, how, level, return_indexers, sort)\u001b[0m\n\u001b[0;32m    249\u001b[0m \u001b[39m@functools\u001b[39m\u001b[39m.\u001b[39mwraps(meth)\n\u001b[0;32m    250\u001b[0m \u001b[39mdef\u001b[39;00m \u001b[39mjoin\u001b[39m(\n\u001b[0;32m    251\u001b[0m     \u001b[39mself\u001b[39m,\n\u001b[1;32m   (...)\u001b[0m\n\u001b[0;32m    257\u001b[0m     sort: \u001b[39mbool\u001b[39m \u001b[39m=\u001b[39m \u001b[39mFalse\u001b[39;00m,\n\u001b[0;32m    258\u001b[0m ):\n\u001b[1;32m--> 259\u001b[0m     join_index, lidx, ridx \u001b[39m=\u001b[39m meth(\u001b[39mself\u001b[39;49m, other, how\u001b[39m=\u001b[39;49mhow, level\u001b[39m=\u001b[39;49mlevel, sort\u001b[39m=\u001b[39;49msort)\n\u001b[0;32m    260\u001b[0m     \u001b[39mif\u001b[39;00m \u001b[39mnot\u001b[39;00m return_indexers:\n\u001b[0;32m    261\u001b[0m         \u001b[39mreturn\u001b[39;00m join_index\n",
      "File \u001b[1;32mc:\\Users\\vhect\\AppData\\Local\\Programs\\Python\\Python311\\Lib\\site-packages\\pandas\\core\\indexes\\base.py:4494\u001b[0m, in \u001b[0;36mIndex.join\u001b[1;34m(self, other, how, level, return_indexers, sort)\u001b[0m\n\u001b[0;32m   4492\u001b[0m     this \u001b[39m=\u001b[39m \u001b[39mself\u001b[39m\u001b[39m.\u001b[39mastype(dtype, copy\u001b[39m=\u001b[39m\u001b[39mFalse\u001b[39;00m)\n\u001b[0;32m   4493\u001b[0m     other \u001b[39m=\u001b[39m other\u001b[39m.\u001b[39mastype(dtype, copy\u001b[39m=\u001b[39m\u001b[39mFalse\u001b[39;00m)\n\u001b[1;32m-> 4494\u001b[0m     \u001b[39mreturn\u001b[39;00m this\u001b[39m.\u001b[39;49mjoin(other, how\u001b[39m=\u001b[39;49mhow, return_indexers\u001b[39m=\u001b[39;49m\u001b[39mTrue\u001b[39;49;00m)\n\u001b[0;32m   4496\u001b[0m _validate_join_method(how)\n\u001b[0;32m   4498\u001b[0m \u001b[39mif\u001b[39;00m \u001b[39mnot\u001b[39;00m \u001b[39mself\u001b[39m\u001b[39m.\u001b[39mis_unique \u001b[39mand\u001b[39;00m \u001b[39mnot\u001b[39;00m other\u001b[39m.\u001b[39mis_unique:\n",
      "File \u001b[1;32mc:\\Users\\vhect\\AppData\\Local\\Programs\\Python\\Python311\\Lib\\site-packages\\pandas\\core\\indexes\\base.py:259\u001b[0m, in \u001b[0;36m_maybe_return_indexers.<locals>.join\u001b[1;34m(self, other, how, level, return_indexers, sort)\u001b[0m\n\u001b[0;32m    249\u001b[0m \u001b[39m@functools\u001b[39m\u001b[39m.\u001b[39mwraps(meth)\n\u001b[0;32m    250\u001b[0m \u001b[39mdef\u001b[39;00m \u001b[39mjoin\u001b[39m(\n\u001b[0;32m    251\u001b[0m     \u001b[39mself\u001b[39m,\n\u001b[1;32m   (...)\u001b[0m\n\u001b[0;32m    257\u001b[0m     sort: \u001b[39mbool\u001b[39m \u001b[39m=\u001b[39m \u001b[39mFalse\u001b[39;00m,\n\u001b[0;32m    258\u001b[0m ):\n\u001b[1;32m--> 259\u001b[0m     join_index, lidx, ridx \u001b[39m=\u001b[39m meth(\u001b[39mself\u001b[39;49m, other, how\u001b[39m=\u001b[39;49mhow, level\u001b[39m=\u001b[39;49mlevel, sort\u001b[39m=\u001b[39;49msort)\n\u001b[0;32m    260\u001b[0m     \u001b[39mif\u001b[39;00m \u001b[39mnot\u001b[39;00m return_indexers:\n\u001b[0;32m    261\u001b[0m         \u001b[39mreturn\u001b[39;00m join_index\n",
      "File \u001b[1;32mc:\\Users\\vhect\\AppData\\Local\\Programs\\Python\\Python311\\Lib\\site-packages\\pandas\\core\\indexes\\base.py:4506\u001b[0m, in \u001b[0;36mIndex.join\u001b[1;34m(self, other, how, level, return_indexers, sort)\u001b[0m\n\u001b[0;32m   4501\u001b[0m \u001b[39mif\u001b[39;00m \u001b[39mself\u001b[39m\u001b[39m.\u001b[39mis_monotonic_increasing \u001b[39mand\u001b[39;00m other\u001b[39m.\u001b[39mis_monotonic_increasing:\n\u001b[0;32m   4502\u001b[0m     \u001b[39mif\u001b[39;00m \u001b[39mnot\u001b[39;00m is_interval_dtype(\u001b[39mself\u001b[39m\u001b[39m.\u001b[39mdtype):\n\u001b[0;32m   4503\u001b[0m         \u001b[39m# otherwise we will fall through to _join_via_get_indexer\u001b[39;00m\n\u001b[0;32m   4504\u001b[0m         \u001b[39m# GH#39133\u001b[39;00m\n\u001b[0;32m   4505\u001b[0m         \u001b[39m# go through object dtype for ea till engine is supported properly\u001b[39;00m\n\u001b[1;32m-> 4506\u001b[0m         \u001b[39mreturn\u001b[39;00m \u001b[39mself\u001b[39;49m\u001b[39m.\u001b[39;49m_join_monotonic(other, how\u001b[39m=\u001b[39;49mhow)\n\u001b[0;32m   4507\u001b[0m \u001b[39melse\u001b[39;00m:\n\u001b[0;32m   4508\u001b[0m     \u001b[39mreturn\u001b[39;00m \u001b[39mself\u001b[39m\u001b[39m.\u001b[39m_join_non_unique(other, how\u001b[39m=\u001b[39mhow)\n",
      "File \u001b[1;32mc:\\Users\\vhect\\AppData\\Local\\Programs\\Python\\Python311\\Lib\\site-packages\\pandas\\core\\indexes\\base.py:4853\u001b[0m, in \u001b[0;36mIndex._join_monotonic\u001b[1;34m(self, other, how)\u001b[0m\n\u001b[0;32m   4851\u001b[0m     join_array, lidx, ridx \u001b[39m=\u001b[39m \u001b[39mself\u001b[39m\u001b[39m.\u001b[39m_inner_indexer(other)\n\u001b[0;32m   4852\u001b[0m \u001b[39melif\u001b[39;00m how \u001b[39m==\u001b[39m \u001b[39m\"\u001b[39m\u001b[39mouter\u001b[39m\u001b[39m\"\u001b[39m:\n\u001b[1;32m-> 4853\u001b[0m     join_array, lidx, ridx \u001b[39m=\u001b[39m \u001b[39mself\u001b[39;49m\u001b[39m.\u001b[39;49m_outer_indexer(other)\n\u001b[0;32m   4855\u001b[0m \u001b[39massert\u001b[39;00m lidx \u001b[39mis\u001b[39;00m \u001b[39mnot\u001b[39;00m \u001b[39mNone\u001b[39;00m\n\u001b[0;32m   4856\u001b[0m \u001b[39massert\u001b[39;00m ridx \u001b[39mis\u001b[39;00m \u001b[39mnot\u001b[39;00m \u001b[39mNone\u001b[39;00m\n",
      "File \u001b[1;32mc:\\Users\\vhect\\AppData\\Local\\Programs\\Python\\Python311\\Lib\\site-packages\\pandas\\core\\indexes\\base.py:412\u001b[0m, in \u001b[0;36mIndex._outer_indexer\u001b[1;34m(self, other)\u001b[0m\n\u001b[0;32m    410\u001b[0m sv \u001b[39m=\u001b[39m cast(np\u001b[39m.\u001b[39mndarray, sv)\n\u001b[0;32m    411\u001b[0m ov \u001b[39m=\u001b[39m cast(np\u001b[39m.\u001b[39mndarray, ov)\n\u001b[1;32m--> 412\u001b[0m joined_ndarray, lidx, ridx \u001b[39m=\u001b[39m libjoin\u001b[39m.\u001b[39;49mouter_join_indexer(sv, ov)\n\u001b[0;32m    413\u001b[0m joined \u001b[39m=\u001b[39m \u001b[39mself\u001b[39m\u001b[39m.\u001b[39m_from_join_target(joined_ndarray)\n\u001b[0;32m    414\u001b[0m \u001b[39mreturn\u001b[39;00m joined, lidx, ridx\n",
      "File \u001b[1;32mc:\\Users\\vhect\\AppData\\Local\\Programs\\Python\\Python311\\Lib\\site-packages\\pandas\\_libs\\join.pyx:580\u001b[0m, in \u001b[0;36mpandas._libs.join.outer_join_indexer\u001b[1;34m()\u001b[0m\n",
      "\u001b[1;31mTypeError\u001b[0m: '<' not supported between instances of 'str' and 'int'"
     ]
    }
   ],
   "source": [
    "import pandas as pd\n",
    "from sklearn.metrics import mean_squared_error, r2_score, mean_absolute_error\n",
    "import numpy as np\n",
    "\n",
    "# Suponiendo que tienes un DataFrame llamado 'data' con las estaciones identificadas por 'ID'\n",
    "# y las columnas 'original_values' e 'imputed_values'\n",
    "\n",
    "# Función para calcular RMSE y R² por estación\n",
    "def calculate_metrics(group):\n",
    "    original_values = merged_data['Original']\n",
    "    imputed_values = merged_data['Imputed']\n",
    "\n",
    "    # Filtrar valores NaN de las series de datos\n",
    "    valid_indices = ~np.isnan(original_values) & ~np.isnan(imputed_values)\n",
    "    original_values_no_nan = original_values[valid_indices]\n",
    "    imputed_values_no_nan = imputed_values[valid_indices]\n",
    "\n",
    "    # Calcular métricas de evaluación\n",
    "    mse = mean_squared_error(original_values_no_nan, imputed_values_no_nan)\n",
    "    r2 = r2_score(original_values_no_nan, imputed_values_no_nan)\n",
    "    mae = mean_absolute_error(original_values_no_nan, imputed_values_no_nan)\n",
    "\n",
    "\n",
    "    return pd.Series({'RMSE': np.sqrt(mse), 'R²': r2,'MAE': mae})\n",
    "\n",
    "# Agrupar por estación y calcular métricas por estación\n",
    "merged_data = merged_data.groupby('ID').mean().reset_index()\n",
    "\n",
    "metrics_by_station = merged_data.groupby('ID').apply(calculate_metrics)\n",
    "print(metrics_by_station)\n"
   ]
  },
  {
   "cell_type": "code",
   "execution_count": 40,
   "metadata": {},
   "outputs": [
    {
     "data": {
      "text/plain": [
       "19303"
      ]
     },
     "execution_count": 40,
     "metadata": {},
     "output_type": "execute_result"
    }
   ],
   "source": [
    "y_test.isna().sum()"
   ]
  },
  {
   "cell_type": "code",
   "execution_count": 43,
   "metadata": {},
   "outputs": [
    {
     "data": {
      "text/plain": [
       "0    0\n",
       "dtype: int64"
      ]
     },
     "execution_count": 43,
     "metadata": {},
     "output_type": "execute_result"
    }
   ],
   "source": [
    "preds.isna().sum()"
   ]
  },
  {
   "cell_type": "markdown",
   "metadata": {},
   "source": [
    "### XGBOOST(imputacion ejemplo)"
   ]
  },
  {
   "cell_type": "code",
   "execution_count": 31,
   "metadata": {},
   "outputs": [
    {
     "name": "stderr",
     "output_type": "stream",
     "text": [
      "c:\\Users\\vhect\\AppData\\Local\\Programs\\Python\\Python311\\Lib\\site-packages\\lightgbm\\basic.py:300: UserWarning: Converting column-vector to 1d array\n",
      "  _log_warning('Converting column-vector to 1d array')\n"
     ]
    },
    {
     "name": "stdout",
     "output_type": "stream",
     "text": [
      "RMSE:  0.352435001196264\n",
      "R2:  -0.5017045093256591\n"
     ]
    }
   ],
   "source": [
    "##ejemplo de imputacion con boosting\n",
    "import lightgbm as lgb\n",
    "import numpy as np\n",
    "from sklearn.metrics import mean_squared_error\n",
    "from sklearn.model_selection import train_test_split\n",
    "\n",
    "# Crear datos de ejemplo con valores faltantes\n",
    "np.random.seed(42)\n",
    "n_samples = 1000\n",
    "X = np.random.rand(n_samples, 4)\n",
    "y = np.random.rand(n_samples, 1)\n",
    "mask = np.random.rand(n_samples, 4) < 0.5\n",
    "X[mask] = np.nan\n",
    "\n",
    "# Dividir los datos en conjuntos de entrenamiento y prueba\n",
    "X_train, X_test, y_train, y_test = train_test_split(X, y, test_size=0.2, random_state=42)\n",
    "\n",
    "# Crear un conjunto de datos de LightGBM para el entrenamiento\n",
    "train_data = lgb.Dataset(X_train, label=y_train)\n",
    "\n",
    "# Definir el objetivo del modelo y las características de las variables\n",
    "params = {\n",
    "    'objective': 'regression',\n",
    "    'metric': 'rmse',\n",
    "    'verbosity': -1,\n",
    "    'boosting_type': 'gbdt',\n",
    "    'feature_fraction': 0.8,\n",
    "    'bagging_fraction': 0.8,\n",
    "    'bagging_freq': 5,\n",
    "    'num_leaves': 31,\n",
    "    'learning_rate': 0.05,\n",
    "}\n",
    "\n",
    "# Entrenar el modelo\n",
    "model = lgb.train(params, train_data, num_boost_round=2000)\n",
    "\n",
    "# Predecir los valores faltantes en el conjunto de prueba\n",
    "preds = model.predict(X_test)\n",
    "\n",
    "# Calcular el error cuadrático medio (RMSE) entre los valores reales y las predicciones\n",
    "rmse = np.sqrt(mean_squared_error(y_test, preds))\n",
    "r2 = r2_score(y_test, preds)\n",
    "print(\"RMSE: \", rmse)\n",
    "print(\"R2: \", r2)\n",
    "    "
   ]
  },
  {
   "cell_type": "code",
   "execution_count": 41,
   "metadata": {},
   "outputs": [
    {
     "data": {
      "text/plain": [
       "(200, 1)"
      ]
     },
     "execution_count": 41,
     "metadata": {},
     "output_type": "execute_result"
    }
   ],
   "source": [
    "y_test.shape\n"
   ]
  },
  {
   "cell_type": "code",
   "execution_count": 42,
   "metadata": {},
   "outputs": [
    {
     "data": {
      "text/plain": [
       "(200,)"
      ]
     },
     "execution_count": 42,
     "metadata": {},
     "output_type": "execute_result"
    }
   ],
   "source": [
    "preds.shape"
   ]
  },
  {
   "attachments": {},
   "cell_type": "markdown",
   "metadata": {},
   "source": [
    "## Bibliografia \n",
    "\n",
    "Little, R. J. A., & Rubin, D. B. (2002). Statistical Analysis with Missing Data (Vol. 333). John Wiley & Sons."
   ]
  }
 ],
 "metadata": {
  "kernelspec": {
   "display_name": "Python 3",
   "language": "python",
   "name": "python3"
  },
  "language_info": {
   "codemirror_mode": {
    "name": "ipython",
    "version": 3
   },
   "file_extension": ".py",
   "mimetype": "text/x-python",
   "name": "python",
   "nbconvert_exporter": "python",
   "pygments_lexer": "ipython3",
   "version": "3.11.3"
  },
  "orig_nbformat": 4
 },
 "nbformat": 4,
 "nbformat_minor": 2
}
