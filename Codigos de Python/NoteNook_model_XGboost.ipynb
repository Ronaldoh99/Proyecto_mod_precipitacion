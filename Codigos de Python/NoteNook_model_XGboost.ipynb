{
 "cells": [
  {
   "attachments": {},
   "cell_type": "markdown",
   "metadata": {},
   "source": [
    "# Imputacion de Datos Faltantes para la Precipitacion del Meta mediante modelación XGBOOST"
   ]
  },
  {
   "attachments": {},
   "cell_type": "markdown",
   "metadata": {},
   "source": [
    "Este Jupyter Notebook se enfoca en el desarrolo metodologico del trabajo de grado de los estudiantes Ronaldo Hernandez Mejia y Hector Freddy Velasco, en el cual se enfoca en la imputaciopn de datos faltnates para la variable de precipitacion en el departamento del Meta, Colombia. Con una gran volumen de datos de la informacion diaria de la precipitacion desde 1980 hasta el 2016, seleccionando un total de 56 Estaciones meteorologias del IDEAM.\n",
    "\n",
    "La región del Meta es muy importante en este país por la diversidad del clima y su efecto sobre la agricultura y otros sectores económicos. La variabilidad de las precipitaciones juega un papel importante en el análisis del clima y la toma de decisiones relacionadas con  la gestión del agua y el clima. \n",
    "\n",
    "El objetivo principal es desarrolar un modelo basado en el algotimo K-Nearest Neighbors(KNN) para imputar los datos faltantes de precipitacion, utilizando un conjunto de datos que contiene mas de 700.000 observaciones. \n",
    "\n",
    "Dada la gran cantidad de datos se ha implementado una version que utiliza los cores del procesador para ejecutar el modelo en paralelo optimizando asi el tiempo de ejecucion, mejorando la eficiencia computacional y acelerar el proceso, tambien por este motivo el desarrolo en python tiene tiempos de respuesta cortos en el manejo de datos.\n",
    "\n"
   ]
  },
  {
   "attachments": {},
   "cell_type": "markdown",
   "metadata": {},
   "source": [
    "### instalacion de librerias"
   ]
  },
  {
   "cell_type": "code",
   "execution_count": 2,
   "metadata": {},
   "outputs": [],
   "source": [
    "import subprocess\n",
    "import sys\n",
    "import importlib\n",
    "\n",
    "def install_and_import(package):\n",
    "    try:\n",
    "        importlib.import_module(package)\n",
    "    except ImportError:\n",
    "        subprocess.check_call([sys.executable, \"-m\", \"pip\", \"install\", package])\n",
    "    finally:\n",
    "        globals()[package] = importlib.import_module(package)\n"
   ]
  },
  {
   "cell_type": "code",
   "execution_count": 3,
   "metadata": {},
   "outputs": [],
   "source": [
    "packages = ['pandas', 'IPython', 'pandasgui', 'numpy', 'matplotlib','joblib','sklearn','xgboost','xgbimputer']\n",
    "\n",
    "\n",
    "for package in packages:\n",
    "    install_and_import(package)\n"
   ]
  },
  {
   "attachments": {},
   "cell_type": "markdown",
   "metadata": {},
   "source": [
    "En caso de que no funcione instalacion manual:"
   ]
  },
  {
   "cell_type": "code",
   "execution_count": 3,
   "metadata": {},
   "outputs": [
    {
     "data": {
      "text/plain": [
       "'f:\\\\TESIS\\\\Proyecto_mod_precipitacion\\\\Codigos de Python'"
      ]
     },
     "execution_count": 3,
     "metadata": {},
     "output_type": "execute_result"
    }
   ],
   "source": [
    "import os\n",
    "#observar donde estoy en ruta \n",
    "os.getcwd()"
   ]
  },
  {
   "attachments": {},
   "cell_type": "markdown",
   "metadata": {},
   "source": [
    "ruta ronaldo "
   ]
  },
  {
   "cell_type": "code",
   "execution_count": 4,
   "metadata": {},
   "outputs": [
    {
     "name": "stdout",
     "output_type": "stream",
     "text": [
      "Ruta actual del directorio de trabajo: f:\\TESIS\\Proyecto_mod_precipitacion\\Codigos de Python\n",
      "Nueva ruta del directorio de trabajo: F:\\TESIS\\Proyecto_mod_precipitacion\n"
     ]
    }
   ],
   "source": [
    "import os\n",
    "current_path = os.getcwd()\n",
    "print(f\"Ruta actual del directorio de trabajo: {current_path}\")\n",
    "new_path = \"F:\\\\TESIS\\\\Proyecto_mod_precipitacion\"\n",
    "os.chdir(new_path)\n",
    "new_current_path = os.getcwd()\n",
    "print(f\"Nueva ruta del directorio de trabajo: {new_current_path}\")"
   ]
  },
  {
   "attachments": {},
   "cell_type": "markdown",
   "metadata": {},
   "source": [
    "ruta hector \n"
   ]
  },
  {
   "cell_type": "code",
   "execution_count": 4,
   "metadata": {},
   "outputs": [
    {
     "name": "stdout",
     "output_type": "stream",
     "text": [
      "Ruta actual del directorio de trabajo: c:\\Users\\vhect\\Documents\\semestre 9\\trabajo de grado\\proyecto_prec_vsdcode\\Proyecto_mod_precipitacion\\Codigos de Python\n",
      "Nueva ruta del directorio de trabajo: c:\\Users\\vhect\\Documents\\semestre 10\\TESIS\\Proyecto_mod_precipitacion\n"
     ]
    }
   ],
   "source": [
    "import os\n",
    "current_path = os.getcwd()\n",
    "print(f\"Ruta actual del directorio de trabajo: {current_path}\")\n",
    "new_path = \"c:\\\\Users\\\\vhect\\\\Documents\\\\semestre 10\\\\TESIS\\\\Proyecto_mod_precipitacion\"\n",
    "os.chdir(new_path)\n",
    "new_current_path = os.getcwd()\n",
    "print(f\"Nueva ruta del directorio de trabajo: {new_current_path}\")"
   ]
  },
  {
   "attachments": {},
   "cell_type": "markdown",
   "metadata": {},
   "source": [
    "### Lectura de datos"
   ]
  },
  {
   "cell_type": "code",
   "execution_count": 5,
   "metadata": {},
   "outputs": [
    {
     "data": {
      "text/html": [
       "<div>\n",
       "<style scoped>\n",
       "    .dataframe tbody tr th:only-of-type {\n",
       "        vertical-align: middle;\n",
       "    }\n",
       "\n",
       "    .dataframe tbody tr th {\n",
       "        vertical-align: top;\n",
       "    }\n",
       "\n",
       "    .dataframe thead th {\n",
       "        text-align: right;\n",
       "    }\n",
       "</style>\n",
       "<table border=\"1\" class=\"dataframe\">\n",
       "  <thead>\n",
       "    <tr style=\"text-align: right;\">\n",
       "      <th></th>\n",
       "      <th>Date</th>\n",
       "      <th>prec</th>\n",
       "      <th>ID</th>\n",
       "      <th>LAT</th>\n",
       "      <th>LON</th>\n",
       "    </tr>\n",
       "  </thead>\n",
       "  <tbody>\n",
       "    <tr>\n",
       "      <th>0</th>\n",
       "      <td>1983-06-09</td>\n",
       "      <td>6.8</td>\n",
       "      <td>32010010</td>\n",
       "      <td>2.562833</td>\n",
       "      <td>-74.103083</td>\n",
       "    </tr>\n",
       "    <tr>\n",
       "      <th>1</th>\n",
       "      <td>1983-06-10</td>\n",
       "      <td>17.8</td>\n",
       "      <td>32010010</td>\n",
       "      <td>2.562833</td>\n",
       "      <td>-74.103083</td>\n",
       "    </tr>\n",
       "    <tr>\n",
       "      <th>2</th>\n",
       "      <td>1983-06-11</td>\n",
       "      <td>0.0</td>\n",
       "      <td>32010010</td>\n",
       "      <td>2.562833</td>\n",
       "      <td>-74.103083</td>\n",
       "    </tr>\n",
       "    <tr>\n",
       "      <th>3</th>\n",
       "      <td>1983-06-12</td>\n",
       "      <td>0.5</td>\n",
       "      <td>32010010</td>\n",
       "      <td>2.562833</td>\n",
       "      <td>-74.103083</td>\n",
       "    </tr>\n",
       "    <tr>\n",
       "      <th>4</th>\n",
       "      <td>1983-06-13</td>\n",
       "      <td>6.9</td>\n",
       "      <td>32010010</td>\n",
       "      <td>2.562833</td>\n",
       "      <td>-74.103083</td>\n",
       "    </tr>\n",
       "  </tbody>\n",
       "</table>\n",
       "</div>"
      ],
      "text/plain": [
       "         Date  prec        ID       LAT        LON\n",
       "0  1983-06-09   6.8  32010010  2.562833 -74.103083\n",
       "1  1983-06-10  17.8  32010010  2.562833 -74.103083\n",
       "2  1983-06-11   0.0  32010010  2.562833 -74.103083\n",
       "3  1983-06-12   0.5  32010010  2.562833 -74.103083\n",
       "4  1983-06-13   6.9  32010010  2.562833 -74.103083"
      ]
     },
     "execution_count": 5,
     "metadata": {},
     "output_type": "execute_result"
    }
   ],
   "source": [
    "import pandas as pd\n",
    "data = pd.read_csv(\"Datos/datos_seleccionados_para_modelo_coordenadas.txt\",sep=\";\")\n",
    "data.head()\n"
   ]
  },
  {
   "cell_type": "code",
   "execution_count": 6,
   "metadata": {},
   "outputs": [],
   "source": [
    "# Asegurarte de que 'Date' es una columna datetime\n",
    "data['Date'] = pd.to_datetime(data['Date'])\n",
    "\n",
    "# Crear nuevas columnas para el año, mes y día\n",
    "data['Year'] = data['Date'].dt.year\n",
    "data['Month'] = data['Date'].dt.month\n",
    "data['Day'] = data['Date'].dt.day\n",
    "\n",
    "# Crear un nuevo dataframe con las columnas deseadas\n",
    "new_data = data[['ID', 'Year', 'Month', 'Day', 'prec', 'LAT', 'LON']].copy()"
   ]
  },
  {
   "cell_type": "code",
   "execution_count": 7,
   "metadata": {},
   "outputs": [],
   "source": [
    "new_data = new_data.sort_values('ID')"
   ]
  },
  {
   "cell_type": "code",
   "execution_count": 8,
   "metadata": {},
   "outputs": [],
   "source": [
    "new_data = new_data.rename(columns={\n",
    "    'Year': 'Año',\n",
    "    'Month': 'Mes',\n",
    "    'Day': 'Día',\n",
    "    'prec': 'prec',\n",
    "    'LAT': 'LAT',\n",
    "    'LON': 'LON'\n",
    "})\n",
    "\n",
    "\n",
    "new_data2 = new_data.rename(columns={\n",
    "    'Year': 'Año',\n",
    "    'Month': 'Mes',\n",
    "    'Day': 'Día',\n",
    "    'prec': 'prec',\n",
    "    'LAT': 'LAT',\n",
    "    'LON': 'LON',\n",
    "    'ID': 'ID'\n",
    "})"
   ]
  },
  {
   "cell_type": "code",
   "execution_count": 9,
   "metadata": {},
   "outputs": [],
   "source": [
    "new_data = new_data[['Año', 'Mes', 'Día', 'prec', 'LAT', 'LON']]\n",
    "new_data2 = new_data2[['Año', 'Mes', 'Día', 'prec', 'LAT', 'LON','ID']]"
   ]
  },
  {
   "cell_type": "markdown",
   "metadata": {},
   "source": [
    "## Separacion de datos completos y faltantes"
   ]
  },
  {
   "cell_type": "markdown",
   "metadata": {},
   "source": [
    "Surge de la necesidad de tener la data completa para tener el registro de los datos observados reales, los cuales son los que brindaran el soporte a las matricas estadisticas de desempeño como el RMSE,MAE,PRMSE"
   ]
  },
  {
   "cell_type": "code",
   "execution_count": 10,
   "metadata": {},
   "outputs": [],
   "source": [
    "# Separar los datos completos de los datos con valores faltantes en 'Prec'\n",
    "data_completa = new_data.dropna(subset=['prec'])\n",
    "data_faltantes = new_data[new_data['prec'].isna()]\n",
    "\n",
    "#Que incluya la variable ID\n",
    "\n",
    "data_completa2 = new_data2.dropna(subset=['prec'])\n",
    "data_faltantes2 = new_data2[new_data['prec'].isna()]"
   ]
  },
  {
   "cell_type": "markdown",
   "metadata": {},
   "source": [
    "Ahora para simular los datos faltantes reales del 8.27%, se imputaran el 10% de datos faltantes por medio de una funcion aletoria para un total de 59.212 datos faltantes, la funcion toma aletoriamente las posiciones de la variable seleccionada y realizara un extraccion de la informacion, dejando asi un registro faltante como resultado.\n",
    "\n",
    "Esto con el objetivo de simular la situacion del modelo en una naturaleza de los datos completamente al azar,En el proceso de análisis de datos, especialmente en contextos donde la imputación de datos faltantes es crucial, es importante simular condiciones realistas para evaluar la robustez y eficacia de los métodos de imputación. Esto se logra a través de la inserción controlada de datos faltantes en el conjunto de datos original. La introducción de un porcentaje específico de datos faltantes, en este caso, un 10%, se basa en la necesidad de replicar escenarios comunes en la recopilación de datos donde la ausencia de información puede deberse a errores de medición, fallas de los sensores, o problemas en la transmisión de datos (Rubin, 1976; Little & Rubin, 1987)\\cite{rubin1976, little1987}."
   ]
  },
  {
   "cell_type": "code",
   "execution_count": 11,
   "metadata": {},
   "outputs": [],
   "source": [
    "import numpy as np\n",
    "import pandas as pd\n",
    "\n",
    "def insertar_nan_aleatoriamente(df, nombre_columna, fraccion, semilla=42):\n",
    "    np.random.seed(semilla)  # Establecer la semilla\n",
    "    df = df.copy()\n",
    "    df['Original'] = df[nombre_columna]\n",
    "    indices_a_modificar = df[nombre_columna].dropna().sample(frac=fraccion).index\n",
    "    df.loc[indices_a_modificar, nombre_columna] = np.nan\n",
    "    return df\n",
    "\n",
    "#Esta función con la misma semilla\n",
    "data_completa_mod = insertar_nan_aleatoriamente(data_completa, 'prec', 0.1)\n",
    "data_completa_mod2 = insertar_nan_aleatoriamente(data_completa2, 'prec', 0.1)\n"
   ]
  },
  {
   "cell_type": "markdown",
   "metadata": {},
   "source": [
    "para el 15%"
   ]
  },
  {
   "cell_type": "code",
   "execution_count": 10,
   "metadata": {},
   "outputs": [],
   "source": [
    "import numpy as np\n",
    "import pandas as pd\n",
    "\n",
    "def insertar_nan_aleatoriamente(df, nombre_columna, fraccion, semilla=42):\n",
    "    np.random.seed(semilla)  # Establecer la semilla\n",
    "    df = df.copy()\n",
    "    df['Original'] = df[nombre_columna]\n",
    "    indices_a_modificar = df[nombre_columna].dropna().sample(frac=fraccion).index\n",
    "    df.loc[indices_a_modificar, nombre_columna] = np.nan\n",
    "    return df\n",
    "\n",
    "#Esta función con la misma semilla\n",
    "data_completa_mod15p = insertar_nan_aleatoriamente(data_completa, 'prec', 0.15)\n",
    "data_completa_mod215p = insertar_nan_aleatoriamente(data_completa2, 'prec', 0.15)\n"
   ]
  },
  {
   "cell_type": "markdown",
   "metadata": {},
   "source": [
    "para el 20%"
   ]
  },
  {
   "cell_type": "code",
   "execution_count": 11,
   "metadata": {},
   "outputs": [],
   "source": [
    "import numpy as np\n",
    "import pandas as pd\n",
    "\n",
    "def insertar_nan_aleatoriamente(df, nombre_columna, fraccion, semilla=42):\n",
    "    np.random.seed(semilla)  # Establecer la semilla\n",
    "    df = df.copy()\n",
    "    df['Original'] = df[nombre_columna]\n",
    "    indices_a_modificar = df[nombre_columna].dropna().sample(frac=fraccion).index\n",
    "    df.loc[indices_a_modificar, nombre_columna] = np.nan\n",
    "    return df\n",
    "\n",
    "#Esta función con la misma semilla\n",
    "data_completa_mod20p = insertar_nan_aleatoriamente(data_completa, 'prec', 0.20)\n",
    "data_completa_mod220p = insertar_nan_aleatoriamente(data_completa2, 'prec', 0.20)"
   ]
  },
  {
   "cell_type": "code",
   "execution_count": 12,
   "metadata": {},
   "outputs": [
    {
     "name": "stdout",
     "output_type": "stream",
     "text": [
      "<class 'pandas.core.frame.DataFrame'>\n",
      "Int64Index: 592124 entries, 0 to 656435\n",
      "Data columns (total 8 columns):\n",
      " #   Column    Non-Null Count   Dtype  \n",
      "---  ------    --------------   -----  \n",
      " 0   Año       592124 non-null  int64  \n",
      " 1   Mes       592124 non-null  int64  \n",
      " 2   Día       592124 non-null  int64  \n",
      " 3   prec      532912 non-null  float64\n",
      " 4   LAT       592124 non-null  float64\n",
      " 5   LON       592124 non-null  float64\n",
      " 6   ID        592124 non-null  int64  \n",
      " 7   Original  592124 non-null  float64\n",
      "dtypes: float64(4), int64(4)\n",
      "memory usage: 56.8 MB\n"
     ]
    },
    {
     "data": {
      "text/html": [
       "<div>\n",
       "<style scoped>\n",
       "    .dataframe tbody tr th:only-of-type {\n",
       "        vertical-align: middle;\n",
       "    }\n",
       "\n",
       "    .dataframe tbody tr th {\n",
       "        vertical-align: top;\n",
       "    }\n",
       "\n",
       "    .dataframe thead th {\n",
       "        text-align: right;\n",
       "    }\n",
       "</style>\n",
       "<table border=\"1\" class=\"dataframe\">\n",
       "  <thead>\n",
       "    <tr style=\"text-align: right;\">\n",
       "      <th></th>\n",
       "      <th>Año</th>\n",
       "      <th>Mes</th>\n",
       "      <th>Día</th>\n",
       "      <th>prec</th>\n",
       "      <th>LAT</th>\n",
       "      <th>LON</th>\n",
       "      <th>ID</th>\n",
       "      <th>Original</th>\n",
       "    </tr>\n",
       "  </thead>\n",
       "  <tbody>\n",
       "    <tr>\n",
       "      <th>0</th>\n",
       "      <td>1983</td>\n",
       "      <td>6</td>\n",
       "      <td>9</td>\n",
       "      <td>6.8</td>\n",
       "      <td>2.562833</td>\n",
       "      <td>-74.103083</td>\n",
       "      <td>32010010</td>\n",
       "      <td>6.8</td>\n",
       "    </tr>\n",
       "    <tr>\n",
       "      <th>8045</th>\n",
       "      <td>2005</td>\n",
       "      <td>6</td>\n",
       "      <td>18</td>\n",
       "      <td>8.0</td>\n",
       "      <td>2.562833</td>\n",
       "      <td>-74.103083</td>\n",
       "      <td>32010010</td>\n",
       "      <td>8.0</td>\n",
       "    </tr>\n",
       "    <tr>\n",
       "      <th>8046</th>\n",
       "      <td>2005</td>\n",
       "      <td>6</td>\n",
       "      <td>19</td>\n",
       "      <td>NaN</td>\n",
       "      <td>2.562833</td>\n",
       "      <td>-74.103083</td>\n",
       "      <td>32010010</td>\n",
       "      <td>12.0</td>\n",
       "    </tr>\n",
       "    <tr>\n",
       "      <th>8047</th>\n",
       "      <td>2005</td>\n",
       "      <td>6</td>\n",
       "      <td>20</td>\n",
       "      <td>0.0</td>\n",
       "      <td>2.562833</td>\n",
       "      <td>-74.103083</td>\n",
       "      <td>32010010</td>\n",
       "      <td>0.0</td>\n",
       "    </tr>\n",
       "    <tr>\n",
       "      <th>8048</th>\n",
       "      <td>2005</td>\n",
       "      <td>6</td>\n",
       "      <td>21</td>\n",
       "      <td>4.0</td>\n",
       "      <td>2.562833</td>\n",
       "      <td>-74.103083</td>\n",
       "      <td>32010010</td>\n",
       "      <td>4.0</td>\n",
       "    </tr>\n",
       "    <tr>\n",
       "      <th>8049</th>\n",
       "      <td>2005</td>\n",
       "      <td>6</td>\n",
       "      <td>22</td>\n",
       "      <td>0.0</td>\n",
       "      <td>2.562833</td>\n",
       "      <td>-74.103083</td>\n",
       "      <td>32010010</td>\n",
       "      <td>0.0</td>\n",
       "    </tr>\n",
       "    <tr>\n",
       "      <th>8050</th>\n",
       "      <td>2005</td>\n",
       "      <td>6</td>\n",
       "      <td>23</td>\n",
       "      <td>NaN</td>\n",
       "      <td>2.562833</td>\n",
       "      <td>-74.103083</td>\n",
       "      <td>32010010</td>\n",
       "      <td>3.0</td>\n",
       "    </tr>\n",
       "    <tr>\n",
       "      <th>8051</th>\n",
       "      <td>2005</td>\n",
       "      <td>6</td>\n",
       "      <td>24</td>\n",
       "      <td>NaN</td>\n",
       "      <td>2.562833</td>\n",
       "      <td>-74.103083</td>\n",
       "      <td>32010010</td>\n",
       "      <td>41.0</td>\n",
       "    </tr>\n",
       "    <tr>\n",
       "      <th>8052</th>\n",
       "      <td>2005</td>\n",
       "      <td>6</td>\n",
       "      <td>25</td>\n",
       "      <td>8.0</td>\n",
       "      <td>2.562833</td>\n",
       "      <td>-74.103083</td>\n",
       "      <td>32010010</td>\n",
       "      <td>8.0</td>\n",
       "    </tr>\n",
       "    <tr>\n",
       "      <th>8053</th>\n",
       "      <td>2005</td>\n",
       "      <td>6</td>\n",
       "      <td>26</td>\n",
       "      <td>3.0</td>\n",
       "      <td>2.562833</td>\n",
       "      <td>-74.103083</td>\n",
       "      <td>32010010</td>\n",
       "      <td>3.0</td>\n",
       "    </tr>\n",
       "  </tbody>\n",
       "</table>\n",
       "</div>"
      ],
      "text/plain": [
       "       Año  Mes  Día  prec       LAT        LON        ID  Original\n",
       "0     1983    6    9   6.8  2.562833 -74.103083  32010010       6.8\n",
       "8045  2005    6   18   8.0  2.562833 -74.103083  32010010       8.0\n",
       "8046  2005    6   19   NaN  2.562833 -74.103083  32010010      12.0\n",
       "8047  2005    6   20   0.0  2.562833 -74.103083  32010010       0.0\n",
       "8048  2005    6   21   4.0  2.562833 -74.103083  32010010       4.0\n",
       "8049  2005    6   22   0.0  2.562833 -74.103083  32010010       0.0\n",
       "8050  2005    6   23   NaN  2.562833 -74.103083  32010010       3.0\n",
       "8051  2005    6   24   NaN  2.562833 -74.103083  32010010      41.0\n",
       "8052  2005    6   25   8.0  2.562833 -74.103083  32010010       8.0\n",
       "8053  2005    6   26   3.0  2.562833 -74.103083  32010010       3.0"
      ]
     },
     "execution_count": 12,
     "metadata": {},
     "output_type": "execute_result"
    }
   ],
   "source": [
    "data_completa_mod2.info()\n",
    "data_completa_mod2.head(10)"
   ]
  },
  {
   "cell_type": "markdown",
   "metadata": {},
   "source": [
    "## Visualización datos faltantes para la data completa modificada"
   ]
  },
  {
   "cell_type": "code",
   "execution_count": 13,
   "metadata": {},
   "outputs": [
    {
     "data": {
      "text/plain": [
       "<Figure size 720x432 with 0 Axes>"
      ]
     },
     "metadata": {},
     "output_type": "display_data"
    },
    {
     "data": {
      "image/png": "[encoded data removed]",
      "text/plain": [
       "<Figure size 1800x720 with 2 Axes>"
      ]
     },
     "metadata": {
      "needs_background": "light"
     },
     "output_type": "display_data"
    }
   ],
   "source": [
    "import pandas as pd\n",
    "import missingno as msno\n",
    "import matplotlib.pyplot as plt\n",
    "\n",
    "# Suponemos que 'data' es tu DataFrame\n",
    "\n",
    "# Visualizar la completitud de los datos con matriz\n",
    "plt.figure(figsize=(10,6))\n",
    "msno.matrix(data_completa_mod2)\n",
    "plt.title('Matriz de completitud de los datos', fontsize=20)\n",
    "plt.show()"
   ]
  },
  {
   "cell_type": "code",
   "execution_count": 32,
   "metadata": {},
   "outputs": [
    {
     "data": {
      "text/html": [
       "<div>\n",
       "<style scoped>\n",
       "    .dataframe tbody tr th:only-of-type {\n",
       "        vertical-align: middle;\n",
       "    }\n",
       "\n",
       "    .dataframe tbody tr th {\n",
       "        vertical-align: top;\n",
       "    }\n",
       "\n",
       "    .dataframe thead th {\n",
       "        text-align: right;\n",
       "    }\n",
       "</style>\n",
       "<table border=\"1\" class=\"dataframe\">\n",
       "  <thead>\n",
       "    <tr style=\"text-align: right;\">\n",
       "      <th></th>\n",
       "      <th>Año</th>\n",
       "      <th>Mes</th>\n",
       "      <th>Día</th>\n",
       "      <th>prec</th>\n",
       "      <th>LAT</th>\n",
       "      <th>LON</th>\n",
       "      <th>ID</th>\n",
       "      <th>Original</th>\n",
       "    </tr>\n",
       "  </thead>\n",
       "  <tbody>\n",
       "    <tr>\n",
       "      <th>8046</th>\n",
       "      <td>2005</td>\n",
       "      <td>6</td>\n",
       "      <td>19</td>\n",
       "      <td>NaN</td>\n",
       "      <td>2.562833</td>\n",
       "      <td>-74.103083</td>\n",
       "      <td>32010010</td>\n",
       "      <td>12.0</td>\n",
       "    </tr>\n",
       "    <tr>\n",
       "      <th>8050</th>\n",
       "      <td>2005</td>\n",
       "      <td>6</td>\n",
       "      <td>23</td>\n",
       "      <td>NaN</td>\n",
       "      <td>2.562833</td>\n",
       "      <td>-74.103083</td>\n",
       "      <td>32010010</td>\n",
       "      <td>3.0</td>\n",
       "    </tr>\n",
       "    <tr>\n",
       "      <th>8051</th>\n",
       "      <td>2005</td>\n",
       "      <td>6</td>\n",
       "      <td>24</td>\n",
       "      <td>NaN</td>\n",
       "      <td>2.562833</td>\n",
       "      <td>-74.103083</td>\n",
       "      <td>32010010</td>\n",
       "      <td>41.0</td>\n",
       "    </tr>\n",
       "    <tr>\n",
       "      <th>8021</th>\n",
       "      <td>2005</td>\n",
       "      <td>5</td>\n",
       "      <td>25</td>\n",
       "      <td>NaN</td>\n",
       "      <td>2.562833</td>\n",
       "      <td>-74.103083</td>\n",
       "      <td>32010010</td>\n",
       "      <td>0.0</td>\n",
       "    </tr>\n",
       "    <tr>\n",
       "      <th>8028</th>\n",
       "      <td>2005</td>\n",
       "      <td>6</td>\n",
       "      <td>1</td>\n",
       "      <td>NaN</td>\n",
       "      <td>2.562833</td>\n",
       "      <td>-74.103083</td>\n",
       "      <td>32010010</td>\n",
       "      <td>8.0</td>\n",
       "    </tr>\n",
       "    <tr>\n",
       "      <th>...</th>\n",
       "      <td>...</td>\n",
       "      <td>...</td>\n",
       "      <td>...</td>\n",
       "      <td>...</td>\n",
       "      <td>...</td>\n",
       "      <td>...</td>\n",
       "      <td>...</td>\n",
       "      <td>...</td>\n",
       "    </tr>\n",
       "    <tr>\n",
       "      <th>654363</th>\n",
       "      <td>2008</td>\n",
       "      <td>11</td>\n",
       "      <td>14</td>\n",
       "      <td>NaN</td>\n",
       "      <td>4.260361</td>\n",
       "      <td>-72.564472</td>\n",
       "      <td>35185010</td>\n",
       "      <td>0.0</td>\n",
       "    </tr>\n",
       "    <tr>\n",
       "      <th>654368</th>\n",
       "      <td>2008</td>\n",
       "      <td>11</td>\n",
       "      <td>19</td>\n",
       "      <td>NaN</td>\n",
       "      <td>4.260361</td>\n",
       "      <td>-72.564472</td>\n",
       "      <td>35185010</td>\n",
       "      <td>1.2</td>\n",
       "    </tr>\n",
       "    <tr>\n",
       "      <th>654246</th>\n",
       "      <td>2008</td>\n",
       "      <td>7</td>\n",
       "      <td>20</td>\n",
       "      <td>NaN</td>\n",
       "      <td>4.260361</td>\n",
       "      <td>-72.564472</td>\n",
       "      <td>35185010</td>\n",
       "      <td>0.1</td>\n",
       "    </tr>\n",
       "    <tr>\n",
       "      <th>654280</th>\n",
       "      <td>2008</td>\n",
       "      <td>8</td>\n",
       "      <td>23</td>\n",
       "      <td>NaN</td>\n",
       "      <td>4.260361</td>\n",
       "      <td>-72.564472</td>\n",
       "      <td>35185010</td>\n",
       "      <td>0.6</td>\n",
       "    </tr>\n",
       "    <tr>\n",
       "      <th>656435</th>\n",
       "      <td>2014</td>\n",
       "      <td>7</td>\n",
       "      <td>18</td>\n",
       "      <td>NaN</td>\n",
       "      <td>4.260361</td>\n",
       "      <td>-72.564472</td>\n",
       "      <td>35185010</td>\n",
       "      <td>0.0</td>\n",
       "    </tr>\n",
       "  </tbody>\n",
       "</table>\n",
       "<p>59212 rows × 8 columns</p>\n",
       "</div>"
      ],
      "text/plain": [
       "         Año  Mes  Día  prec       LAT        LON        ID  Original\n",
       "8046    2005    6   19   NaN  2.562833 -74.103083  32010010      12.0\n",
       "8050    2005    6   23   NaN  2.562833 -74.103083  32010010       3.0\n",
       "8051    2005    6   24   NaN  2.562833 -74.103083  32010010      41.0\n",
       "8021    2005    5   25   NaN  2.562833 -74.103083  32010010       0.0\n",
       "8028    2005    6    1   NaN  2.562833 -74.103083  32010010       8.0\n",
       "...      ...  ...  ...   ...       ...        ...       ...       ...\n",
       "654363  2008   11   14   NaN  4.260361 -72.564472  35185010       0.0\n",
       "654368  2008   11   19   NaN  4.260361 -72.564472  35185010       1.2\n",
       "654246  2008    7   20   NaN  4.260361 -72.564472  35185010       0.1\n",
       "654280  2008    8   23   NaN  4.260361 -72.564472  35185010       0.6\n",
       "656435  2014    7   18   NaN  4.260361 -72.564472  35185010       0.0\n",
       "\n",
       "[59212 rows x 8 columns]"
      ]
     },
     "execution_count": 32,
     "metadata": {},
     "output_type": "execute_result"
    }
   ],
   "source": [
    "soloNAn=na_rows = data_completa_mod2[data_completa_mod2['prec'].isna()]\n",
    "soloNAn"
   ]
  },
  {
   "cell_type": "code",
   "execution_count": null,
   "metadata": {},
   "outputs": [],
   "source": []
  },
  {
   "cell_type": "markdown",
   "metadata": {},
   "source": [
    "## Analisis exploratorio"
   ]
  },
  {
   "cell_type": "code",
   "execution_count": 33,
   "metadata": {},
   "outputs": [
    {
     "name": "stdout",
     "output_type": "stream",
     "text": [
      "count    592124.000000\n",
      "mean          8.915141\n",
      "std          17.865258\n",
      "min           0.000000\n",
      "25%           0.000000\n",
      "50%           0.000000\n",
      "75%          10.000000\n",
      "max         438.800000\n",
      "Name: prec, dtype: float64\n"
     ]
    },
    {
     "data": {
      "image/png": "[encoded data removed]",
      "text/plain": [
       "<Figure size 720x432 with 1 Axes>"
      ]
     },
     "metadata": {
      "needs_background": "light"
     },
     "output_type": "display_data"
    },
    {
     "data": {
      "image/png": "[encoded data removed]",
      "text/plain": [
       "<Figure size 864x432 with 1 Axes>"
      ]
     },
     "metadata": {
      "needs_background": "light"
     },
     "output_type": "display_data"
    },
    {
     "data": {
      "image/png": "[encoded data removed]",
      "text/plain": [
       "<Figure size 576x576 with 2 Axes>"
      ]
     },
     "metadata": {
      "needs_background": "light"
     },
     "output_type": "display_data"
    }
   ],
   "source": [
    "import pandas as pd\n",
    "import matplotlib.pyplot as plt\n",
    "\n",
    "\n",
    "# Resumen estadístico de la columna de precipitación\n",
    "print(data['prec'].describe())\n",
    "\n",
    "# Histograma de la precipitación\n",
    "plt.figure(figsize=(10, 6))\n",
    "plt.hist(data['prec'], bins=20, edgecolor='k')\n",
    "plt.title('Distribución de Precipitación')\n",
    "plt.xlabel('Precipitación (mm)')\n",
    "plt.ylabel('Frecuencia')\n",
    "plt.show()\n",
    "\n",
    "# Gráfico de línea de la precipitación a lo largo del tiempo\n",
    "plt.figure(figsize=(12, 6))\n",
    "plt.plot(data['Year'], data['prec'], marker='o', linestyle='-', color='b')\n",
    "plt.title('Precipitación a lo largo del tiempo')\n",
    "plt.xlabel('Fecha')\n",
    "plt.ylabel('Precipitación (mm)')\n",
    "plt.xticks(rotation=45)  # Para mostrar las fechas de manera legible\n",
    "plt.grid()\n",
    "plt.show()\n",
    "\n",
    "# Diagrama de dispersión de latitud y longitud\n",
    "plt.figure(figsize=(8, 8))\n",
    "plt.scatter(data['LON'], data['LAT'], c=data['prec'], cmap='coolwarm', s=20)\n",
    "plt.title('Diagrama de Dispersión de Latitud y Longitud con Color de Precipitación')\n",
    "plt.xlabel('Longitud (LON)')\n",
    "plt.ylabel('Latitud (LAT)')\n",
    "plt.colorbar(label='Precipitación (mm)')\n",
    "plt.grid()\n",
    "plt.show()\n"
   ]
  },
  {
   "cell_type": "markdown",
   "metadata": {},
   "source": [
    "## Correlación entre variables"
   ]
  },
  {
   "cell_type": "code",
   "execution_count": 16,
   "metadata": {},
   "outputs": [
    {
     "data": {
      "image/png": "[encoded data removed]",
      "text/plain": [
       "<Figure size 1000x2000 with 2 Axes>"
      ]
     },
     "metadata": {},
     "output_type": "display_data"
    }
   ],
   "source": [
    "import seaborn as sns\n",
    "plt.figure(figsize=(10,20))\n",
    "sns.heatmap(abs(data.corr()[['prec']]).sort_values(by='prec',ascending=False), annot=True, cmap=sns.cm.rocket_r)\n",
    "plt.show()"
   ]
  },
  {
   "attachments": {},
   "cell_type": "markdown",
   "metadata": {},
   "source": [
    "Estructura de los datos"
   ]
  },
  {
   "cell_type": "code",
   "execution_count": 34,
   "metadata": {},
   "outputs": [
    {
     "name": "stdout",
     "output_type": "stream",
     "text": [
      "<class 'pandas.core.frame.DataFrame'>\n",
      "RangeIndex: 656436 entries, 0 to 656435\n",
      "Data columns (total 8 columns):\n",
      " #   Column  Non-Null Count   Dtype         \n",
      "---  ------  --------------   -----         \n",
      " 0   Date    656436 non-null  datetime64[ns]\n",
      " 1   prec    592124 non-null  float64       \n",
      " 2   ID      656436 non-null  int64         \n",
      " 3   LAT     656436 non-null  float64       \n",
      " 4   LON     656436 non-null  float64       \n",
      " 5   Year    656436 non-null  int64         \n",
      " 6   Month   656436 non-null  int64         \n",
      " 7   Day     656436 non-null  int64         \n",
      "dtypes: datetime64[ns](1), float64(3), int64(4)\n",
      "memory usage: 40.1 MB\n"
     ]
    }
   ],
   "source": [
    "data.info()"
   ]
  },
  {
   "attachments": {},
   "cell_type": "markdown",
   "metadata": {},
   "source": [
    "Visualizacion de los datos faltantes "
   ]
  },
  {
   "cell_type": "markdown",
   "metadata": {},
   "source": [
    "## Porcentaje de missing values para la precipitación"
   ]
  },
  {
   "cell_type": "code",
   "execution_count": 17,
   "metadata": {},
   "outputs": [
    {
     "data": {
      "text/html": [
       "<div>\n",
       "<style scoped>\n",
       "    .dataframe tbody tr th:only-of-type {\n",
       "        vertical-align: middle;\n",
       "    }\n",
       "\n",
       "    .dataframe tbody tr th {\n",
       "        vertical-align: top;\n",
       "    }\n",
       "\n",
       "    .dataframe thead th {\n",
       "        text-align: right;\n",
       "    }\n",
       "</style>\n",
       "<table border=\"1\" class=\"dataframe\">\n",
       "  <thead>\n",
       "    <tr style=\"text-align: right;\">\n",
       "      <th></th>\n",
       "      <th>LAT</th>\n",
       "      <th>LON</th>\n",
       "      <th>Missing_Precipitation_Percentage</th>\n",
       "    </tr>\n",
       "    <tr>\n",
       "      <th>ID</th>\n",
       "      <th></th>\n",
       "      <th></th>\n",
       "      <th></th>\n",
       "    </tr>\n",
       "  </thead>\n",
       "  <tbody>\n",
       "    <tr>\n",
       "      <th>35035010</th>\n",
       "      <td>4.077111</td>\n",
       "      <td>-73.559917</td>\n",
       "      <td>46.517451</td>\n",
       "    </tr>\n",
       "    <tr>\n",
       "      <th>35010230</th>\n",
       "      <td>3.984639</td>\n",
       "      <td>-72.971222</td>\n",
       "      <td>44.462837</td>\n",
       "    </tr>\n",
       "    <tr>\n",
       "      <th>35185010</th>\n",
       "      <td>4.260361</td>\n",
       "      <td>-72.564472</td>\n",
       "      <td>36.246154</td>\n",
       "    </tr>\n",
       "    <tr>\n",
       "      <th>32120010</th>\n",
       "      <td>3.734083</td>\n",
       "      <td>-72.369778</td>\n",
       "      <td>34.925172</td>\n",
       "    </tr>\n",
       "    <tr>\n",
       "      <th>32060090</th>\n",
       "      <td>3.576222</td>\n",
       "      <td>-74.059639</td>\n",
       "      <td>31.858780</td>\n",
       "    </tr>\n",
       "    <tr>\n",
       "      <th>35030370</th>\n",
       "      <td>4.137389</td>\n",
       "      <td>-73.625000</td>\n",
       "      <td>28.718226</td>\n",
       "    </tr>\n",
       "    <tr>\n",
       "      <th>35010150</th>\n",
       "      <td>3.883333</td>\n",
       "      <td>-73.340000</td>\n",
       "      <td>28.170546</td>\n",
       "    </tr>\n",
       "    <tr>\n",
       "      <th>35035070</th>\n",
       "      <td>4.076722</td>\n",
       "      <td>-73.582000</td>\n",
       "      <td>23.521008</td>\n",
       "    </tr>\n",
       "    <tr>\n",
       "      <th>32075030</th>\n",
       "      <td>3.120389</td>\n",
       "      <td>-73.754028</td>\n",
       "      <td>20.390098</td>\n",
       "    </tr>\n",
       "    <tr>\n",
       "      <th>35125010</th>\n",
       "      <td>4.340556</td>\n",
       "      <td>-72.156361</td>\n",
       "      <td>19.788520</td>\n",
       "    </tr>\n",
       "    <tr>\n",
       "      <th>32035020</th>\n",
       "      <td>2.438389</td>\n",
       "      <td>-73.932278</td>\n",
       "      <td>19.633073</td>\n",
       "    </tr>\n",
       "    <tr>\n",
       "      <th>32010010</th>\n",
       "      <td>2.562833</td>\n",
       "      <td>-74.103083</td>\n",
       "      <td>18.093740</td>\n",
       "    </tr>\n",
       "    <tr>\n",
       "      <th>35030380</th>\n",
       "      <td>4.144083</td>\n",
       "      <td>-73.641833</td>\n",
       "      <td>17.403651</td>\n",
       "    </tr>\n",
       "    <tr>\n",
       "      <th>33035010</th>\n",
       "      <td>4.574417</td>\n",
       "      <td>-71.340750</td>\n",
       "      <td>17.125497</td>\n",
       "    </tr>\n",
       "    <tr>\n",
       "      <th>32070090</th>\n",
       "      <td>3.316667</td>\n",
       "      <td>-73.916667</td>\n",
       "      <td>14.717013</td>\n",
       "    </tr>\n",
       "    <tr>\n",
       "      <th>32060020</th>\n",
       "      <td>3.530944</td>\n",
       "      <td>-73.901083</td>\n",
       "      <td>11.056935</td>\n",
       "    </tr>\n",
       "    <tr>\n",
       "      <th>35030020</th>\n",
       "      <td>4.310083</td>\n",
       "      <td>-73.648028</td>\n",
       "      <td>10.110585</td>\n",
       "    </tr>\n",
       "    <tr>\n",
       "      <th>32070030</th>\n",
       "      <td>3.316389</td>\n",
       "      <td>-73.892167</td>\n",
       "      <td>10.006751</td>\n",
       "    </tr>\n",
       "    <tr>\n",
       "      <th>32030020</th>\n",
       "      <td>2.322500</td>\n",
       "      <td>-73.943889</td>\n",
       "      <td>9.920305</td>\n",
       "    </tr>\n",
       "    <tr>\n",
       "      <th>32035010</th>\n",
       "      <td>2.176111</td>\n",
       "      <td>-73.793333</td>\n",
       "      <td>9.601504</td>\n",
       "    </tr>\n",
       "    <tr>\n",
       "      <th>32090010</th>\n",
       "      <td>2.889722</td>\n",
       "      <td>-72.130111</td>\n",
       "      <td>9.356287</td>\n",
       "    </tr>\n",
       "    <tr>\n",
       "      <th>32075050</th>\n",
       "      <td>3.380056</td>\n",
       "      <td>-74.042972</td>\n",
       "      <td>9.127858</td>\n",
       "    </tr>\n",
       "    <tr>\n",
       "      <th>32060060</th>\n",
       "      <td>3.742333</td>\n",
       "      <td>-73.834694</td>\n",
       "      <td>8.194864</td>\n",
       "    </tr>\n",
       "    <tr>\n",
       "      <th>32075040</th>\n",
       "      <td>3.516333</td>\n",
       "      <td>-73.716028</td>\n",
       "      <td>7.941826</td>\n",
       "    </tr>\n",
       "    <tr>\n",
       "      <th>35030050</th>\n",
       "      <td>4.091139</td>\n",
       "      <td>-73.448778</td>\n",
       "      <td>7.347400</td>\n",
       "    </tr>\n",
       "    <tr>\n",
       "      <th>35015050</th>\n",
       "      <td>3.630778</td>\n",
       "      <td>-73.349278</td>\n",
       "      <td>7.231101</td>\n",
       "    </tr>\n",
       "    <tr>\n",
       "      <th>35025020</th>\n",
       "      <td>4.057361</td>\n",
       "      <td>-73.467917</td>\n",
       "      <td>7.171255</td>\n",
       "    </tr>\n",
       "    <tr>\n",
       "      <th>32070010</th>\n",
       "      <td>3.200000</td>\n",
       "      <td>-73.750000</td>\n",
       "      <td>6.938714</td>\n",
       "    </tr>\n",
       "    <tr>\n",
       "      <th>35130010</th>\n",
       "      <td>3.956083</td>\n",
       "      <td>-72.765722</td>\n",
       "      <td>6.878704</td>\n",
       "    </tr>\n",
       "    <tr>\n",
       "      <th>32020020</th>\n",
       "      <td>3.243222</td>\n",
       "      <td>-74.353722</td>\n",
       "      <td>6.570456</td>\n",
       "    </tr>\n",
       "    <tr>\n",
       "      <th>32070040</th>\n",
       "      <td>2.983333</td>\n",
       "      <td>-73.633333</td>\n",
       "      <td>6.526142</td>\n",
       "    </tr>\n",
       "    <tr>\n",
       "      <th>32070020</th>\n",
       "      <td>3.250000</td>\n",
       "      <td>-73.516667</td>\n",
       "      <td>6.375460</td>\n",
       "    </tr>\n",
       "    <tr>\n",
       "      <th>35180030</th>\n",
       "      <td>4.327722</td>\n",
       "      <td>-72.391444</td>\n",
       "      <td>6.123800</td>\n",
       "    </tr>\n",
       "    <tr>\n",
       "      <th>35105050</th>\n",
       "      <td>4.468667</td>\n",
       "      <td>-72.953583</td>\n",
       "      <td>4.724599</td>\n",
       "    </tr>\n",
       "    <tr>\n",
       "      <th>35120010</th>\n",
       "      <td>4.311389</td>\n",
       "      <td>-72.076639</td>\n",
       "      <td>4.455780</td>\n",
       "    </tr>\n",
       "    <tr>\n",
       "      <th>32070120</th>\n",
       "      <td>3.456556</td>\n",
       "      <td>-74.029944</td>\n",
       "      <td>4.272056</td>\n",
       "    </tr>\n",
       "    <tr>\n",
       "      <th>35010040</th>\n",
       "      <td>3.924222</td>\n",
       "      <td>-73.814583</td>\n",
       "      <td>3.773160</td>\n",
       "    </tr>\n",
       "    <tr>\n",
       "      <th>32060100</th>\n",
       "      <td>3.792667</td>\n",
       "      <td>-73.922472</td>\n",
       "      <td>3.632785</td>\n",
       "    </tr>\n",
       "    <tr>\n",
       "      <th>32075080</th>\n",
       "      <td>3.267694</td>\n",
       "      <td>-73.373194</td>\n",
       "      <td>3.316039</td>\n",
       "    </tr>\n",
       "    <tr>\n",
       "      <th>35010010</th>\n",
       "      <td>4.105028</td>\n",
       "      <td>-72.936500</td>\n",
       "      <td>3.233066</td>\n",
       "    </tr>\n",
       "    <tr>\n",
       "      <th>35010070</th>\n",
       "      <td>3.878333</td>\n",
       "      <td>-73.758611</td>\n",
       "      <td>2.750565</td>\n",
       "    </tr>\n",
       "    <tr>\n",
       "      <th>32070080</th>\n",
       "      <td>3.087500</td>\n",
       "      <td>-73.226389</td>\n",
       "      <td>2.714405</td>\n",
       "    </tr>\n",
       "    <tr>\n",
       "      <th>35045020</th>\n",
       "      <td>4.300444</td>\n",
       "      <td>-73.357500</td>\n",
       "      <td>2.210360</td>\n",
       "    </tr>\n",
       "    <tr>\n",
       "      <th>32080010</th>\n",
       "      <td>2.943333</td>\n",
       "      <td>-73.209722</td>\n",
       "      <td>2.140166</td>\n",
       "    </tr>\n",
       "    <tr>\n",
       "      <th>32075060</th>\n",
       "      <td>3.366667</td>\n",
       "      <td>-73.700000</td>\n",
       "      <td>2.097400</td>\n",
       "    </tr>\n",
       "    <tr>\n",
       "      <th>32070110</th>\n",
       "      <td>3.472028</td>\n",
       "      <td>-73.857833</td>\n",
       "      <td>2.021144</td>\n",
       "    </tr>\n",
       "    <tr>\n",
       "      <th>35010080</th>\n",
       "      <td>3.793889</td>\n",
       "      <td>-73.149722</td>\n",
       "      <td>1.706639</td>\n",
       "    </tr>\n",
       "    <tr>\n",
       "      <th>35010020</th>\n",
       "      <td>3.994639</td>\n",
       "      <td>-73.765583</td>\n",
       "      <td>1.654011</td>\n",
       "    </tr>\n",
       "    <tr>\n",
       "      <th>35010090</th>\n",
       "      <td>3.750278</td>\n",
       "      <td>-73.700833</td>\n",
       "      <td>1.567774</td>\n",
       "    </tr>\n",
       "    <tr>\n",
       "      <th>35010060</th>\n",
       "      <td>3.786667</td>\n",
       "      <td>-73.400556</td>\n",
       "      <td>1.526201</td>\n",
       "    </tr>\n",
       "    <tr>\n",
       "      <th>35100020</th>\n",
       "      <td>4.283722</td>\n",
       "      <td>-72.792833</td>\n",
       "      <td>1.419940</td>\n",
       "    </tr>\n",
       "    <tr>\n",
       "      <th>32070060</th>\n",
       "      <td>3.466667</td>\n",
       "      <td>-73.633333</td>\n",
       "      <td>1.029998</td>\n",
       "    </tr>\n",
       "    <tr>\n",
       "      <th>35020060</th>\n",
       "      <td>4.039750</td>\n",
       "      <td>-73.368000</td>\n",
       "      <td>0.563867</td>\n",
       "    </tr>\n",
       "    <tr>\n",
       "      <th>32060030</th>\n",
       "      <td>3.790722</td>\n",
       "      <td>-73.842778</td>\n",
       "      <td>0.555097</td>\n",
       "    </tr>\n",
       "    <tr>\n",
       "      <th>32070100</th>\n",
       "      <td>3.375083</td>\n",
       "      <td>-73.891944</td>\n",
       "      <td>0.520965</td>\n",
       "    </tr>\n",
       "    <tr>\n",
       "      <th>32065010</th>\n",
       "      <td>3.533333</td>\n",
       "      <td>-74.016667</td>\n",
       "      <td>0.269458</td>\n",
       "    </tr>\n",
       "    <tr>\n",
       "      <th>35035020</th>\n",
       "      <td>4.161919</td>\n",
       "      <td>-73.617578</td>\n",
       "      <td>0.037507</td>\n",
       "    </tr>\n",
       "  </tbody>\n",
       "</table>\n",
       "</div>"
      ],
      "text/plain": [
       "               LAT        LON  Missing_Precipitation_Percentage\n",
       "ID                                                             \n",
       "35035010  4.077111 -73.559917                         46.517451\n",
       "35010230  3.984639 -72.971222                         44.462837\n",
       "35185010  4.260361 -72.564472                         36.246154\n",
       "32120010  3.734083 -72.369778                         34.925172\n",
       "32060090  3.576222 -74.059639                         31.858780\n",
       "35030370  4.137389 -73.625000                         28.718226\n",
       "35010150  3.883333 -73.340000                         28.170546\n",
       "35035070  4.076722 -73.582000                         23.521008\n",
       "32075030  3.120389 -73.754028                         20.390098\n",
       "35125010  4.340556 -72.156361                         19.788520\n",
       "32035020  2.438389 -73.932278                         19.633073\n",
       "32010010  2.562833 -74.103083                         18.093740\n",
       "35030380  4.144083 -73.641833                         17.403651\n",
       "33035010  4.574417 -71.340750                         17.125497\n",
       "32070090  3.316667 -73.916667                         14.717013\n",
       "32060020  3.530944 -73.901083                         11.056935\n",
       "35030020  4.310083 -73.648028                         10.110585\n",
       "32070030  3.316389 -73.892167                         10.006751\n",
       "32030020  2.322500 -73.943889                          9.920305\n",
       "32035010  2.176111 -73.793333                          9.601504\n",
       "32090010  2.889722 -72.130111                          9.356287\n",
       "32075050  3.380056 -74.042972                          9.127858\n",
       "32060060  3.742333 -73.834694                          8.194864\n",
       "32075040  3.516333 -73.716028                          7.941826\n",
       "35030050  4.091139 -73.448778                          7.347400\n",
       "35015050  3.630778 -73.349278                          7.231101\n",
       "35025020  4.057361 -73.467917                          7.171255\n",
       "32070010  3.200000 -73.750000                          6.938714\n",
       "35130010  3.956083 -72.765722                          6.878704\n",
       "32020020  3.243222 -74.353722                          6.570456\n",
       "32070040  2.983333 -73.633333                          6.526142\n",
       "32070020  3.250000 -73.516667                          6.375460\n",
       "35180030  4.327722 -72.391444                          6.123800\n",
       "35105050  4.468667 -72.953583                          4.724599\n",
       "35120010  4.311389 -72.076639                          4.455780\n",
       "32070120  3.456556 -74.029944                          4.272056\n",
       "35010040  3.924222 -73.814583                          3.773160\n",
       "32060100  3.792667 -73.922472                          3.632785\n",
       "32075080  3.267694 -73.373194                          3.316039\n",
       "35010010  4.105028 -72.936500                          3.233066\n",
       "35010070  3.878333 -73.758611                          2.750565\n",
       "32070080  3.087500 -73.226389                          2.714405\n",
       "35045020  4.300444 -73.357500                          2.210360\n",
       "32080010  2.943333 -73.209722                          2.140166\n",
       "32075060  3.366667 -73.700000                          2.097400\n",
       "32070110  3.472028 -73.857833                          2.021144\n",
       "35010080  3.793889 -73.149722                          1.706639\n",
       "35010020  3.994639 -73.765583                          1.654011\n",
       "35010090  3.750278 -73.700833                          1.567774\n",
       "35010060  3.786667 -73.400556                          1.526201\n",
       "35100020  4.283722 -72.792833                          1.419940\n",
       "32070060  3.466667 -73.633333                          1.029998\n",
       "35020060  4.039750 -73.368000                          0.563867\n",
       "32060030  3.790722 -73.842778                          0.555097\n",
       "32070100  3.375083 -73.891944                          0.520965\n",
       "32065010  3.533333 -74.016667                          0.269458\n",
       "35035020  4.161919 -73.617578                          0.037507"
      ]
     },
     "execution_count": 17,
     "metadata": {},
     "output_type": "execute_result"
    }
   ],
   "source": [
    "import pandas as pd\n",
    "\n",
    "# Agrupar por la columna 'ID' (identificación de la estación)\n",
    "grouped_data = data.groupby('ID')\n",
    "\n",
    "# Calcular el porcentaje de valores faltantes en precipitación por estación\n",
    "missing_precipitation_percentage = grouped_data['prec'].apply(lambda x: (x.isna().sum() / len(x)) * 100)\n",
    "\n",
    "# Crear un nuevo DataFrame con ID, LAT, LON y el porcentaje de valores faltantes en precipitación\n",
    "result_df = data.groupby('ID').agg({'LAT': 'first', 'LON': 'first'})\n",
    "result_df['Missing_Precipitation_Percentage'] = missing_precipitation_percentage\n",
    "\n",
    "# Ordenar la tabla por el porcentaje de valores faltantes en precipitación de mayor a menor\n",
    "result_df = result_df.sort_values(by='Missing_Precipitation_Percentage', ascending=False)\n",
    "\n",
    "# Mostrar el nuevo DataFrame\n",
    "result_df\n"
   ]
  },
  {
   "cell_type": "code",
   "execution_count": 18,
   "metadata": {},
   "outputs": [
    {
     "name": "stdout",
     "output_type": "stream",
     "text": [
      "Número de estaciones únicas: 57\n"
     ]
    }
   ],
   "source": [
    "# Contar el número de estaciones únicas basadas en la columna 'ID'\n",
    "num_unique_stations = data['ID'].nunique()\n",
    "\n",
    "# Mostrar el número de estaciones únicas\n",
    "print(\"Número de estaciones únicas:\", num_unique_stations)\n"
   ]
  },
  {
   "cell_type": "markdown",
   "metadata": {},
   "source": [
    "## Estaciones con porcentaje de missing values mayor o igual 10%"
   ]
  },
  {
   "cell_type": "code",
   "execution_count": 19,
   "metadata": {},
   "outputs": [
    {
     "data": {
      "text/html": [
       "<div>\n",
       "<style scoped>\n",
       "    .dataframe tbody tr th:only-of-type {\n",
       "        vertical-align: middle;\n",
       "    }\n",
       "\n",
       "    .dataframe tbody tr th {\n",
       "        vertical-align: top;\n",
       "    }\n",
       "\n",
       "    .dataframe thead th {\n",
       "        text-align: right;\n",
       "    }\n",
       "</style>\n",
       "<table border=\"1\" class=\"dataframe\">\n",
       "  <thead>\n",
       "    <tr style=\"text-align: right;\">\n",
       "      <th></th>\n",
       "      <th>LAT</th>\n",
       "      <th>LON</th>\n",
       "      <th>Missing_Precipitation_Percentage</th>\n",
       "    </tr>\n",
       "    <tr>\n",
       "      <th>ID</th>\n",
       "      <th></th>\n",
       "      <th></th>\n",
       "      <th></th>\n",
       "    </tr>\n",
       "  </thead>\n",
       "  <tbody>\n",
       "    <tr>\n",
       "      <th>35035010</th>\n",
       "      <td>4.077111</td>\n",
       "      <td>-73.559917</td>\n",
       "      <td>46.517451</td>\n",
       "    </tr>\n",
       "    <tr>\n",
       "      <th>35010230</th>\n",
       "      <td>3.984639</td>\n",
       "      <td>-72.971222</td>\n",
       "      <td>44.462837</td>\n",
       "    </tr>\n",
       "    <tr>\n",
       "      <th>35185010</th>\n",
       "      <td>4.260361</td>\n",
       "      <td>-72.564472</td>\n",
       "      <td>36.246154</td>\n",
       "    </tr>\n",
       "    <tr>\n",
       "      <th>32120010</th>\n",
       "      <td>3.734083</td>\n",
       "      <td>-72.369778</td>\n",
       "      <td>34.925172</td>\n",
       "    </tr>\n",
       "    <tr>\n",
       "      <th>32060090</th>\n",
       "      <td>3.576222</td>\n",
       "      <td>-74.059639</td>\n",
       "      <td>31.858780</td>\n",
       "    </tr>\n",
       "    <tr>\n",
       "      <th>35030370</th>\n",
       "      <td>4.137389</td>\n",
       "      <td>-73.625000</td>\n",
       "      <td>28.718226</td>\n",
       "    </tr>\n",
       "    <tr>\n",
       "      <th>35010150</th>\n",
       "      <td>3.883333</td>\n",
       "      <td>-73.340000</td>\n",
       "      <td>28.170546</td>\n",
       "    </tr>\n",
       "    <tr>\n",
       "      <th>35035070</th>\n",
       "      <td>4.076722</td>\n",
       "      <td>-73.582000</td>\n",
       "      <td>23.521008</td>\n",
       "    </tr>\n",
       "    <tr>\n",
       "      <th>32075030</th>\n",
       "      <td>3.120389</td>\n",
       "      <td>-73.754028</td>\n",
       "      <td>20.390098</td>\n",
       "    </tr>\n",
       "    <tr>\n",
       "      <th>35125010</th>\n",
       "      <td>4.340556</td>\n",
       "      <td>-72.156361</td>\n",
       "      <td>19.788520</td>\n",
       "    </tr>\n",
       "    <tr>\n",
       "      <th>32035020</th>\n",
       "      <td>2.438389</td>\n",
       "      <td>-73.932278</td>\n",
       "      <td>19.633073</td>\n",
       "    </tr>\n",
       "    <tr>\n",
       "      <th>32010010</th>\n",
       "      <td>2.562833</td>\n",
       "      <td>-74.103083</td>\n",
       "      <td>18.093740</td>\n",
       "    </tr>\n",
       "    <tr>\n",
       "      <th>35030380</th>\n",
       "      <td>4.144083</td>\n",
       "      <td>-73.641833</td>\n",
       "      <td>17.403651</td>\n",
       "    </tr>\n",
       "    <tr>\n",
       "      <th>33035010</th>\n",
       "      <td>4.574417</td>\n",
       "      <td>-71.340750</td>\n",
       "      <td>17.125497</td>\n",
       "    </tr>\n",
       "    <tr>\n",
       "      <th>32070090</th>\n",
       "      <td>3.316667</td>\n",
       "      <td>-73.916667</td>\n",
       "      <td>14.717013</td>\n",
       "    </tr>\n",
       "    <tr>\n",
       "      <th>32060020</th>\n",
       "      <td>3.530944</td>\n",
       "      <td>-73.901083</td>\n",
       "      <td>11.056935</td>\n",
       "    </tr>\n",
       "    <tr>\n",
       "      <th>35030020</th>\n",
       "      <td>4.310083</td>\n",
       "      <td>-73.648028</td>\n",
       "      <td>10.110585</td>\n",
       "    </tr>\n",
       "    <tr>\n",
       "      <th>32070030</th>\n",
       "      <td>3.316389</td>\n",
       "      <td>-73.892167</td>\n",
       "      <td>10.006751</td>\n",
       "    </tr>\n",
       "  </tbody>\n",
       "</table>\n",
       "</div>"
      ],
      "text/plain": [
       "               LAT        LON  Missing_Precipitation_Percentage\n",
       "ID                                                             \n",
       "35035010  4.077111 -73.559917                         46.517451\n",
       "35010230  3.984639 -72.971222                         44.462837\n",
       "35185010  4.260361 -72.564472                         36.246154\n",
       "32120010  3.734083 -72.369778                         34.925172\n",
       "32060090  3.576222 -74.059639                         31.858780\n",
       "35030370  4.137389 -73.625000                         28.718226\n",
       "35010150  3.883333 -73.340000                         28.170546\n",
       "35035070  4.076722 -73.582000                         23.521008\n",
       "32075030  3.120389 -73.754028                         20.390098\n",
       "35125010  4.340556 -72.156361                         19.788520\n",
       "32035020  2.438389 -73.932278                         19.633073\n",
       "32010010  2.562833 -74.103083                         18.093740\n",
       "35030380  4.144083 -73.641833                         17.403651\n",
       "33035010  4.574417 -71.340750                         17.125497\n",
       "32070090  3.316667 -73.916667                         14.717013\n",
       "32060020  3.530944 -73.901083                         11.056935\n",
       "35030020  4.310083 -73.648028                         10.110585\n",
       "32070030  3.316389 -73.892167                         10.006751"
      ]
     },
     "execution_count": 19,
     "metadata": {},
     "output_type": "execute_result"
    }
   ],
   "source": [
    "# Filtrar las estaciones con un porcentaje de valores faltantes en precipitación mayor o igual al 10%\n",
    "filtered_stations = result_df[result_df['Missing_Precipitation_Percentage'] >= 10]\n",
    "\n",
    "# Mostrar las estaciones filtradas\n",
    "filtered_stations\n"
   ]
  },
  {
   "cell_type": "code",
   "execution_count": 20,
   "metadata": {},
   "outputs": [
    {
     "name": "stdout",
     "output_type": "stream",
     "text": [
      "Número de estaciones únicas: 18\n"
     ]
    }
   ],
   "source": [
    "# Contar el número de estaciones únicas basadas en la columna 'ID'\n",
    "num_unique_stations = filtered_stations['Missing_Precipitation_Percentage'].nunique()\n",
    "\n",
    "# Mostrar el número de estaciones únicas\n",
    "print(\"Número de estaciones únicas:\", num_unique_stations)\n"
   ]
  },
  {
   "cell_type": "markdown",
   "metadata": {},
   "source": [
    "Se realiza un filtro de las estaciones de monitoreo con un porcentaje de datos faltantes para la precipitación mayor o igual al 10%, ya que esto es un porcentaje significativo de datos faltantes, reduciendo el numero de estaciones a 18, y así enfocarnos en la muestra de resultados a estas estaciones, considerando que es más probable que se requieran acciones correctivas o una mayor atención."
   ]
  },
  {
   "cell_type": "code",
   "execution_count": 36,
   "metadata": {},
   "outputs": [
    {
     "data": {
      "text/html": [
       "<div>\n",
       "<style scoped>\n",
       "    .dataframe tbody tr th:only-of-type {\n",
       "        vertical-align: middle;\n",
       "    }\n",
       "\n",
       "    .dataframe tbody tr th {\n",
       "        vertical-align: top;\n",
       "    }\n",
       "\n",
       "    .dataframe thead th {\n",
       "        text-align: right;\n",
       "    }\n",
       "</style>\n",
       "<table border=\"1\" class=\"dataframe\">\n",
       "  <thead>\n",
       "    <tr style=\"text-align: right;\">\n",
       "      <th></th>\n",
       "      <th>Año</th>\n",
       "      <th>Mes</th>\n",
       "      <th>Día</th>\n",
       "      <th>prec</th>\n",
       "      <th>LAT</th>\n",
       "      <th>LON</th>\n",
       "      <th>Original</th>\n",
       "    </tr>\n",
       "  </thead>\n",
       "  <tbody>\n",
       "    <tr>\n",
       "      <th>0</th>\n",
       "      <td>1983</td>\n",
       "      <td>6</td>\n",
       "      <td>9</td>\n",
       "      <td>6.8</td>\n",
       "      <td>2.562833</td>\n",
       "      <td>-74.103083</td>\n",
       "      <td>6.8</td>\n",
       "    </tr>\n",
       "    <tr>\n",
       "      <th>8045</th>\n",
       "      <td>2005</td>\n",
       "      <td>6</td>\n",
       "      <td>18</td>\n",
       "      <td>8.0</td>\n",
       "      <td>2.562833</td>\n",
       "      <td>-74.103083</td>\n",
       "      <td>8.0</td>\n",
       "    </tr>\n",
       "    <tr>\n",
       "      <th>8046</th>\n",
       "      <td>2005</td>\n",
       "      <td>6</td>\n",
       "      <td>19</td>\n",
       "      <td>NaN</td>\n",
       "      <td>2.562833</td>\n",
       "      <td>-74.103083</td>\n",
       "      <td>12.0</td>\n",
       "    </tr>\n",
       "    <tr>\n",
       "      <th>8047</th>\n",
       "      <td>2005</td>\n",
       "      <td>6</td>\n",
       "      <td>20</td>\n",
       "      <td>0.0</td>\n",
       "      <td>2.562833</td>\n",
       "      <td>-74.103083</td>\n",
       "      <td>0.0</td>\n",
       "    </tr>\n",
       "    <tr>\n",
       "      <th>8048</th>\n",
       "      <td>2005</td>\n",
       "      <td>6</td>\n",
       "      <td>21</td>\n",
       "      <td>4.0</td>\n",
       "      <td>2.562833</td>\n",
       "      <td>-74.103083</td>\n",
       "      <td>4.0</td>\n",
       "    </tr>\n",
       "    <tr>\n",
       "      <th>...</th>\n",
       "      <td>...</td>\n",
       "      <td>...</td>\n",
       "      <td>...</td>\n",
       "      <td>...</td>\n",
       "      <td>...</td>\n",
       "      <td>...</td>\n",
       "      <td>...</td>\n",
       "    </tr>\n",
       "    <tr>\n",
       "      <th>654265</th>\n",
       "      <td>2008</td>\n",
       "      <td>8</td>\n",
       "      <td>8</td>\n",
       "      <td>0.0</td>\n",
       "      <td>4.260361</td>\n",
       "      <td>-72.564472</td>\n",
       "      <td>0.0</td>\n",
       "    </tr>\n",
       "    <tr>\n",
       "      <th>654268</th>\n",
       "      <td>2008</td>\n",
       "      <td>8</td>\n",
       "      <td>11</td>\n",
       "      <td>3.7</td>\n",
       "      <td>4.260361</td>\n",
       "      <td>-72.564472</td>\n",
       "      <td>3.7</td>\n",
       "    </tr>\n",
       "    <tr>\n",
       "      <th>654269</th>\n",
       "      <td>2008</td>\n",
       "      <td>8</td>\n",
       "      <td>12</td>\n",
       "      <td>0.1</td>\n",
       "      <td>4.260361</td>\n",
       "      <td>-72.564472</td>\n",
       "      <td>0.1</td>\n",
       "    </tr>\n",
       "    <tr>\n",
       "      <th>654264</th>\n",
       "      <td>2008</td>\n",
       "      <td>8</td>\n",
       "      <td>7</td>\n",
       "      <td>0.1</td>\n",
       "      <td>4.260361</td>\n",
       "      <td>-72.564472</td>\n",
       "      <td>0.1</td>\n",
       "    </tr>\n",
       "    <tr>\n",
       "      <th>656435</th>\n",
       "      <td>2014</td>\n",
       "      <td>7</td>\n",
       "      <td>18</td>\n",
       "      <td>NaN</td>\n",
       "      <td>4.260361</td>\n",
       "      <td>-72.564472</td>\n",
       "      <td>0.0</td>\n",
       "    </tr>\n",
       "  </tbody>\n",
       "</table>\n",
       "<p>592124 rows × 7 columns</p>\n",
       "</div>"
      ],
      "text/plain": [
       "         Año  Mes  Día  prec       LAT        LON  Original\n",
       "0       1983    6    9   6.8  2.562833 -74.103083       6.8\n",
       "8045    2005    6   18   8.0  2.562833 -74.103083       8.0\n",
       "8046    2005    6   19   NaN  2.562833 -74.103083      12.0\n",
       "8047    2005    6   20   0.0  2.562833 -74.103083       0.0\n",
       "8048    2005    6   21   4.0  2.562833 -74.103083       4.0\n",
       "...      ...  ...  ...   ...       ...        ...       ...\n",
       "654265  2008    8    8   0.0  4.260361 -72.564472       0.0\n",
       "654268  2008    8   11   3.7  4.260361 -72.564472       3.7\n",
       "654269  2008    8   12   0.1  4.260361 -72.564472       0.1\n",
       "654264  2008    8    7   0.1  4.260361 -72.564472       0.1\n",
       "656435  2014    7   18   NaN  4.260361 -72.564472       0.0\n",
       "\n",
       "[592124 rows x 7 columns]"
      ]
     },
     "execution_count": 36,
     "metadata": {},
     "output_type": "execute_result"
    }
   ],
   "source": [
    "data_completa_mod"
   ]
  },
  {
   "cell_type": "code",
   "execution_count": 35,
   "metadata": {},
   "outputs": [
    {
     "data": {
      "text/html": [
       "<div>\n",
       "<style scoped>\n",
       "    .dataframe tbody tr th:only-of-type {\n",
       "        vertical-align: middle;\n",
       "    }\n",
       "\n",
       "    .dataframe tbody tr th {\n",
       "        vertical-align: top;\n",
       "    }\n",
       "\n",
       "    .dataframe thead th {\n",
       "        text-align: right;\n",
       "    }\n",
       "</style>\n",
       "<table border=\"1\" class=\"dataframe\">\n",
       "  <thead>\n",
       "    <tr style=\"text-align: right;\">\n",
       "      <th></th>\n",
       "      <th>Año</th>\n",
       "      <th>Mes</th>\n",
       "      <th>Día</th>\n",
       "      <th>prec</th>\n",
       "      <th>LAT</th>\n",
       "      <th>LON</th>\n",
       "      <th>ID</th>\n",
       "      <th>Original</th>\n",
       "    </tr>\n",
       "  </thead>\n",
       "  <tbody>\n",
       "    <tr>\n",
       "      <th>0</th>\n",
       "      <td>1983</td>\n",
       "      <td>6</td>\n",
       "      <td>9</td>\n",
       "      <td>6.8</td>\n",
       "      <td>2.562833</td>\n",
       "      <td>-74.103083</td>\n",
       "      <td>32010010</td>\n",
       "      <td>6.8</td>\n",
       "    </tr>\n",
       "    <tr>\n",
       "      <th>8045</th>\n",
       "      <td>2005</td>\n",
       "      <td>6</td>\n",
       "      <td>18</td>\n",
       "      <td>8.0</td>\n",
       "      <td>2.562833</td>\n",
       "      <td>-74.103083</td>\n",
       "      <td>32010010</td>\n",
       "      <td>8.0</td>\n",
       "    </tr>\n",
       "    <tr>\n",
       "      <th>8046</th>\n",
       "      <td>2005</td>\n",
       "      <td>6</td>\n",
       "      <td>19</td>\n",
       "      <td>NaN</td>\n",
       "      <td>2.562833</td>\n",
       "      <td>-74.103083</td>\n",
       "      <td>32010010</td>\n",
       "      <td>12.0</td>\n",
       "    </tr>\n",
       "    <tr>\n",
       "      <th>8047</th>\n",
       "      <td>2005</td>\n",
       "      <td>6</td>\n",
       "      <td>20</td>\n",
       "      <td>0.0</td>\n",
       "      <td>2.562833</td>\n",
       "      <td>-74.103083</td>\n",
       "      <td>32010010</td>\n",
       "      <td>0.0</td>\n",
       "    </tr>\n",
       "    <tr>\n",
       "      <th>8048</th>\n",
       "      <td>2005</td>\n",
       "      <td>6</td>\n",
       "      <td>21</td>\n",
       "      <td>4.0</td>\n",
       "      <td>2.562833</td>\n",
       "      <td>-74.103083</td>\n",
       "      <td>32010010</td>\n",
       "      <td>4.0</td>\n",
       "    </tr>\n",
       "    <tr>\n",
       "      <th>...</th>\n",
       "      <td>...</td>\n",
       "      <td>...</td>\n",
       "      <td>...</td>\n",
       "      <td>...</td>\n",
       "      <td>...</td>\n",
       "      <td>...</td>\n",
       "      <td>...</td>\n",
       "      <td>...</td>\n",
       "    </tr>\n",
       "    <tr>\n",
       "      <th>654265</th>\n",
       "      <td>2008</td>\n",
       "      <td>8</td>\n",
       "      <td>8</td>\n",
       "      <td>0.0</td>\n",
       "      <td>4.260361</td>\n",
       "      <td>-72.564472</td>\n",
       "      <td>35185010</td>\n",
       "      <td>0.0</td>\n",
       "    </tr>\n",
       "    <tr>\n",
       "      <th>654268</th>\n",
       "      <td>2008</td>\n",
       "      <td>8</td>\n",
       "      <td>11</td>\n",
       "      <td>3.7</td>\n",
       "      <td>4.260361</td>\n",
       "      <td>-72.564472</td>\n",
       "      <td>35185010</td>\n",
       "      <td>3.7</td>\n",
       "    </tr>\n",
       "    <tr>\n",
       "      <th>654269</th>\n",
       "      <td>2008</td>\n",
       "      <td>8</td>\n",
       "      <td>12</td>\n",
       "      <td>0.1</td>\n",
       "      <td>4.260361</td>\n",
       "      <td>-72.564472</td>\n",
       "      <td>35185010</td>\n",
       "      <td>0.1</td>\n",
       "    </tr>\n",
       "    <tr>\n",
       "      <th>654264</th>\n",
       "      <td>2008</td>\n",
       "      <td>8</td>\n",
       "      <td>7</td>\n",
       "      <td>0.1</td>\n",
       "      <td>4.260361</td>\n",
       "      <td>-72.564472</td>\n",
       "      <td>35185010</td>\n",
       "      <td>0.1</td>\n",
       "    </tr>\n",
       "    <tr>\n",
       "      <th>656435</th>\n",
       "      <td>2014</td>\n",
       "      <td>7</td>\n",
       "      <td>18</td>\n",
       "      <td>NaN</td>\n",
       "      <td>4.260361</td>\n",
       "      <td>-72.564472</td>\n",
       "      <td>35185010</td>\n",
       "      <td>0.0</td>\n",
       "    </tr>\n",
       "  </tbody>\n",
       "</table>\n",
       "<p>592124 rows × 8 columns</p>\n",
       "</div>"
      ],
      "text/plain": [
       "         Año  Mes  Día  prec       LAT        LON        ID  Original\n",
       "0       1983    6    9   6.8  2.562833 -74.103083  32010010       6.8\n",
       "8045    2005    6   18   8.0  2.562833 -74.103083  32010010       8.0\n",
       "8046    2005    6   19   NaN  2.562833 -74.103083  32010010      12.0\n",
       "8047    2005    6   20   0.0  2.562833 -74.103083  32010010       0.0\n",
       "8048    2005    6   21   4.0  2.562833 -74.103083  32010010       4.0\n",
       "...      ...  ...  ...   ...       ...        ...       ...       ...\n",
       "654265  2008    8    8   0.0  4.260361 -72.564472  35185010       0.0\n",
       "654268  2008    8   11   3.7  4.260361 -72.564472  35185010       3.7\n",
       "654269  2008    8   12   0.1  4.260361 -72.564472  35185010       0.1\n",
       "654264  2008    8    7   0.1  4.260361 -72.564472  35185010       0.1\n",
       "656435  2014    7   18   NaN  4.260361 -72.564472  35185010       0.0\n",
       "\n",
       "[592124 rows x 8 columns]"
      ]
     },
     "execution_count": 35,
     "metadata": {},
     "output_type": "execute_result"
    }
   ],
   "source": [
    "data_completa_mod2"
   ]
  },
  {
   "cell_type": "code",
   "execution_count": 14,
   "metadata": {},
   "outputs": [
    {
     "data": {
      "text/plain": [
       "(         Año  Mes  Día  prec       LAT        LON\n",
       " 0       1983    6    9   6.8  2.562833 -74.103083\n",
       " 8045    2005    6   18   8.0  2.562833 -74.103083\n",
       " 8046    2005    6   19   NaN  2.562833 -74.103083\n",
       " 8047    2005    6   20   0.0  2.562833 -74.103083\n",
       " 8048    2005    6   21   4.0  2.562833 -74.103083\n",
       " ...      ...  ...  ...   ...       ...        ...\n",
       " 654265  2008    8    8   0.0  4.260361 -72.564472\n",
       " 654268  2008    8   11   3.7  4.260361 -72.564472\n",
       " 654269  2008    8   12   0.1  4.260361 -72.564472\n",
       " 654264  2008    8    7   0.1  4.260361 -72.564472\n",
       " 656435  2014    7   18   NaN  4.260361 -72.564472\n",
       " \n",
       " [592124 rows x 6 columns],\n",
       " 0          6.8\n",
       " 8045       8.0\n",
       " 8046      12.0\n",
       " 8047       0.0\n",
       " 8048       4.0\n",
       "           ... \n",
       " 654265     0.0\n",
       " 654268     3.7\n",
       " 654269     0.1\n",
       " 654264     0.1\n",
       " 656435     0.0\n",
       " Name: Original, Length: 592124, dtype: float64)"
      ]
     },
     "execution_count": 14,
     "metadata": {},
     "output_type": "execute_result"
    }
   ],
   "source": [
    "data_completa_modelo = pd.DataFrame(data_completa_mod)\n",
    "\n",
    "# Separando la columna 'Original'\n",
    "original = data_completa_modelo.pop(\"Original\")\n",
    "\n",
    "# Mostrando el DataFrame modificado y la columna 'Original' separada\n",
    "data_completa_modelo, original"
   ]
  },
  {
   "cell_type": "markdown",
   "metadata": {},
   "source": [
    "para el 15%"
   ]
  },
  {
   "cell_type": "code",
   "execution_count": 12,
   "metadata": {},
   "outputs": [],
   "source": [
    "data_completa_modelo15p = pd.DataFrame(data_completa_mod15p)\n",
    "\n",
    "# Separando la columna 'Original'\n",
    "original15p = data_completa_modelo15p.pop(\"Original\")\n"
   ]
  },
  {
   "cell_type": "markdown",
   "metadata": {},
   "source": [
    "para el 20%"
   ]
  },
  {
   "cell_type": "code",
   "execution_count": 13,
   "metadata": {},
   "outputs": [],
   "source": [
    "data_completa_modelo20p = pd.DataFrame(data_completa_mod20p)\n",
    "\n",
    "# Separando la columna 'Original'\n",
    "original20p = data_completa_modelo20p.pop(\"Original\")"
   ]
  },
  {
   "cell_type": "markdown",
   "metadata": {},
   "source": [
    "## Utilizando el Repo de XGBOOST imputer"
   ]
  },
  {
   "cell_type": "code",
   "execution_count": 51,
   "metadata": {},
   "outputs": [
    {
     "data": {
      "text/plain": [
       "Index(['Año', 'Mes', 'Día', 'prec', 'LAT', 'LON'], dtype='object')"
      ]
     },
     "execution_count": 51,
     "metadata": {},
     "output_type": "execute_result"
    }
   ],
   "source": [
    "data_completa_modelo.columns"
   ]
  },
  {
   "cell_type": "code",
   "execution_count": 61,
   "metadata": {},
   "outputs": [
    {
     "data": {
      "text/html": [
       "<div>\n",
       "<style scoped>\n",
       "    .dataframe tbody tr th:only-of-type {\n",
       "        vertical-align: middle;\n",
       "    }\n",
       "\n",
       "    .dataframe tbody tr th {\n",
       "        vertical-align: top;\n",
       "    }\n",
       "\n",
       "    .dataframe thead th {\n",
       "        text-align: right;\n",
       "    }\n",
       "</style>\n",
       "<table border=\"1\" class=\"dataframe\">\n",
       "  <thead>\n",
       "    <tr style=\"text-align: right;\">\n",
       "      <th></th>\n",
       "      <th>Año</th>\n",
       "      <th>Mes</th>\n",
       "      <th>Día</th>\n",
       "      <th>prec</th>\n",
       "      <th>LAT</th>\n",
       "      <th>LON</th>\n",
       "    </tr>\n",
       "  </thead>\n",
       "  <tbody>\n",
       "    <tr>\n",
       "      <th>0</th>\n",
       "      <td>1983</td>\n",
       "      <td>6</td>\n",
       "      <td>9</td>\n",
       "      <td>6.8</td>\n",
       "      <td>2.562833</td>\n",
       "      <td>-74.103083</td>\n",
       "    </tr>\n",
       "    <tr>\n",
       "      <th>8045</th>\n",
       "      <td>2005</td>\n",
       "      <td>6</td>\n",
       "      <td>18</td>\n",
       "      <td>8.0</td>\n",
       "      <td>2.562833</td>\n",
       "      <td>-74.103083</td>\n",
       "    </tr>\n",
       "    <tr>\n",
       "      <th>8046</th>\n",
       "      <td>2005</td>\n",
       "      <td>6</td>\n",
       "      <td>19</td>\n",
       "      <td>NaN</td>\n",
       "      <td>2.562833</td>\n",
       "      <td>-74.103083</td>\n",
       "    </tr>\n",
       "    <tr>\n",
       "      <th>8047</th>\n",
       "      <td>2005</td>\n",
       "      <td>6</td>\n",
       "      <td>20</td>\n",
       "      <td>0.0</td>\n",
       "      <td>2.562833</td>\n",
       "      <td>-74.103083</td>\n",
       "    </tr>\n",
       "    <tr>\n",
       "      <th>8048</th>\n",
       "      <td>2005</td>\n",
       "      <td>6</td>\n",
       "      <td>21</td>\n",
       "      <td>4.0</td>\n",
       "      <td>2.562833</td>\n",
       "      <td>-74.103083</td>\n",
       "    </tr>\n",
       "    <tr>\n",
       "      <th>...</th>\n",
       "      <td>...</td>\n",
       "      <td>...</td>\n",
       "      <td>...</td>\n",
       "      <td>...</td>\n",
       "      <td>...</td>\n",
       "      <td>...</td>\n",
       "    </tr>\n",
       "    <tr>\n",
       "      <th>654265</th>\n",
       "      <td>2008</td>\n",
       "      <td>8</td>\n",
       "      <td>8</td>\n",
       "      <td>0.0</td>\n",
       "      <td>4.260361</td>\n",
       "      <td>-72.564472</td>\n",
       "    </tr>\n",
       "    <tr>\n",
       "      <th>654268</th>\n",
       "      <td>2008</td>\n",
       "      <td>8</td>\n",
       "      <td>11</td>\n",
       "      <td>3.7</td>\n",
       "      <td>4.260361</td>\n",
       "      <td>-72.564472</td>\n",
       "    </tr>\n",
       "    <tr>\n",
       "      <th>654269</th>\n",
       "      <td>2008</td>\n",
       "      <td>8</td>\n",
       "      <td>12</td>\n",
       "      <td>0.1</td>\n",
       "      <td>4.260361</td>\n",
       "      <td>-72.564472</td>\n",
       "    </tr>\n",
       "    <tr>\n",
       "      <th>654264</th>\n",
       "      <td>2008</td>\n",
       "      <td>8</td>\n",
       "      <td>7</td>\n",
       "      <td>0.1</td>\n",
       "      <td>4.260361</td>\n",
       "      <td>-72.564472</td>\n",
       "    </tr>\n",
       "    <tr>\n",
       "      <th>656435</th>\n",
       "      <td>2014</td>\n",
       "      <td>7</td>\n",
       "      <td>18</td>\n",
       "      <td>NaN</td>\n",
       "      <td>4.260361</td>\n",
       "      <td>-72.564472</td>\n",
       "    </tr>\n",
       "  </tbody>\n",
       "</table>\n",
       "<p>592124 rows × 6 columns</p>\n",
       "</div>"
      ],
      "text/plain": [
       "         Año  Mes  Día  prec       LAT        LON\n",
       "0       1983    6    9   6.8  2.562833 -74.103083\n",
       "8045    2005    6   18   8.0  2.562833 -74.103083\n",
       "8046    2005    6   19   NaN  2.562833 -74.103083\n",
       "8047    2005    6   20   0.0  2.562833 -74.103083\n",
       "8048    2005    6   21   4.0  2.562833 -74.103083\n",
       "...      ...  ...  ...   ...       ...        ...\n",
       "654265  2008    8    8   0.0  4.260361 -72.564472\n",
       "654268  2008    8   11   3.7  4.260361 -72.564472\n",
       "654269  2008    8   12   0.1  4.260361 -72.564472\n",
       "654264  2008    8    7   0.1  4.260361 -72.564472\n",
       "656435  2014    7   18   NaN  4.260361 -72.564472\n",
       "\n",
       "[592124 rows x 6 columns]"
      ]
     },
     "execution_count": 61,
     "metadata": {},
     "output_type": "execute_result"
    }
   ],
   "source": [
    "data_completa_modelo"
   ]
  },
  {
   "cell_type": "code",
   "execution_count": 19,
   "metadata": {},
   "outputs": [],
   "source": [
    "import pandas as pd\n",
    "import numpy as np\n",
    "from xgbimputer import XGBImputer\n",
    "\n"
   ]
  },
  {
   "cell_type": "code",
   "execution_count": 70,
   "metadata": {},
   "outputs": [
    {
     "name": "stdout",
     "output_type": "stream",
     "text": [
      "<class 'pandas.core.frame.DataFrame'>\n",
      "Int64Index: 592124 entries, 0 to 656435\n",
      "Data columns (total 6 columns):\n",
      " #   Column  Non-Null Count   Dtype  \n",
      "---  ------  --------------   -----  \n",
      " 0   Año     592124 non-null  int64  \n",
      " 1   Mes     592124 non-null  int64  \n",
      " 2   Día     592124 non-null  int64  \n",
      " 3   prec    532912 non-null  float64\n",
      " 4   LAT     592124 non-null  float64\n",
      " 5   LON     592124 non-null  float64\n",
      "dtypes: float64(3), int64(3)\n",
      "memory usage: 47.7 MB\n"
     ]
    }
   ],
   "source": [
    "data_completa_modelo.info()"
   ]
  },
  {
   "cell_type": "code",
   "execution_count": 15,
   "metadata": {},
   "outputs": [],
   "source": [
    "df=data_completa_modelo\n",
    "df=pd.DataFrame(df)\n"
   ]
  },
  {
   "cell_type": "markdown",
   "metadata": {},
   "source": [
    "para el 15%"
   ]
  },
  {
   "cell_type": "code",
   "execution_count": 15,
   "metadata": {},
   "outputs": [],
   "source": [
    "df15p=data_completa_modelo15p\n",
    "df15=pd.DataFrame(df15p)"
   ]
  },
  {
   "cell_type": "markdown",
   "metadata": {},
   "source": [
    "para el 20%"
   ]
  },
  {
   "cell_type": "code",
   "execution_count": 16,
   "metadata": {},
   "outputs": [],
   "source": [
    "df20p=data_completa_modelo20p\n",
    "df20p=pd.DataFrame(df20p)"
   ]
  },
  {
   "cell_type": "code",
   "execution_count": 126,
   "metadata": {},
   "outputs": [
    {
     "name": "stderr",
     "output_type": "stream",
     "text": [
      "c:\\Users\\ronal\\AppData\\Local\\Programs\\Python\\Python310\\lib\\site-packages\\xgbimputer\\xgbimputer.py:147: RuntimeWarning: invalid value encountered in scalar divide\n",
      "  gamma_inferred_categorical_features_new = np.sum(Ximp[:,self.inferred_categorical_features_index] != Ximp_old[:,self.inferred_categorical_features_index])/self.inferred_categorical_features_index.size\n"
     ]
    },
    {
     "name": "stdout",
     "output_type": "stream",
     "text": [
      "XGBImputer - Epoch: 1 | Categorical gamma: inf/nan | Numerical gamma: inf/0.0087637099\n"
     ]
    },
    {
     "name": "stderr",
     "output_type": "stream",
     "text": [
      "c:\\Users\\ronal\\AppData\\Local\\Programs\\Python\\Python310\\lib\\site-packages\\xgbimputer\\xgbimputer.py:147: RuntimeWarning: invalid value encountered in scalar divide\n",
      "  gamma_inferred_categorical_features_new = np.sum(Ximp[:,self.inferred_categorical_features_index] != Ximp_old[:,self.inferred_categorical_features_index])/self.inferred_categorical_features_index.size\n"
     ]
    },
    {
     "name": "stdout",
     "output_type": "stream",
     "text": [
      "XGBImputer - Epoch: 2 | Categorical gamma: nan/nan | Numerical gamma: 0.0087637099/0.\n"
     ]
    },
    {
     "name": "stderr",
     "output_type": "stream",
     "text": [
      "c:\\Users\\ronal\\AppData\\Local\\Programs\\Python\\Python310\\lib\\site-packages\\xgbimputer\\xgbimputer.py:147: RuntimeWarning: invalid value encountered in scalar divide\n",
      "  gamma_inferred_categorical_features_new = np.sum(Ximp[:,self.inferred_categorical_features_index] != Ximp_old[:,self.inferred_categorical_features_index])/self.inferred_categorical_features_index.size\n"
     ]
    },
    {
     "name": "stdout",
     "output_type": "stream",
     "text": [
      "XGBImputer - Epoch: 3 | Categorical gamma: nan/nan | Numerical gamma: 0./0.\n"
     ]
    }
   ],
   "source": [
    "imputer2 = XGBImputer(categorical_features_index=[0,1,2], replace_categorical_values_back=True,n_jobs=-1)# establecer variables int64 que es entero y boolean data_completa_modelo\n",
    "X334 = imputer2.fit_transform(df)"
   ]
  },
  {
   "cell_type": "code",
   "execution_count": 92,
   "metadata": {},
   "outputs": [
    {
     "name": "stderr",
     "output_type": "stream",
     "text": [
      "c:\\Users\\ronal\\AppData\\Local\\Programs\\Python\\Python310\\lib\\site-packages\\xgbimputer\\xgbimputer.py:147: RuntimeWarning: invalid value encountered in scalar divide\n",
      "  gamma_inferred_categorical_features_new = np.sum(Ximp[:,self.inferred_categorical_features_index] != Ximp_old[:,self.inferred_categorical_features_index])/self.inferred_categorical_features_index.size\n"
     ]
    },
    {
     "name": "stdout",
     "output_type": "stream",
     "text": [
      "XGBImputer - Epoch: 1 | Categorical gamma: inf/nan | Numerical gamma: inf/0.0087637099\n"
     ]
    },
    {
     "name": "stderr",
     "output_type": "stream",
     "text": [
      "c:\\Users\\ronal\\AppData\\Local\\Programs\\Python\\Python310\\lib\\site-packages\\xgbimputer\\xgbimputer.py:147: RuntimeWarning: invalid value encountered in scalar divide\n",
      "  gamma_inferred_categorical_features_new = np.sum(Ximp[:,self.inferred_categorical_features_index] != Ximp_old[:,self.inferred_categorical_features_index])/self.inferred_categorical_features_index.size\n"
     ]
    },
    {
     "name": "stdout",
     "output_type": "stream",
     "text": [
      "XGBImputer - Epoch: 2 | Categorical gamma: nan/nan | Numerical gamma: 0.0087637099/0.\n"
     ]
    },
    {
     "name": "stderr",
     "output_type": "stream",
     "text": [
      "c:\\Users\\ronal\\AppData\\Local\\Programs\\Python\\Python310\\lib\\site-packages\\xgbimputer\\xgbimputer.py:147: RuntimeWarning: invalid value encountered in scalar divide\n",
      "  gamma_inferred_categorical_features_new = np.sum(Ximp[:,self.inferred_categorical_features_index] != Ximp_old[:,self.inferred_categorical_features_index])/self.inferred_categorical_features_index.size\n"
     ]
    },
    {
     "name": "stdout",
     "output_type": "stream",
     "text": [
      "XGBImputer - Epoch: 3 | Categorical gamma: nan/nan | Numerical gamma: 0./0.\n"
     ]
    }
   ],
   "source": [
    "imputer = XGBImputer(categorical_features_index=[0,1,2], replace_categorical_values_back=True,n_jobs=-1)# establecer variables int64 que es entero y boolean data_completa_modelo\n",
    "X = imputer.fit_transform(df)"
   ]
  },
  {
   "cell_type": "code",
   "execution_count": 93,
   "metadata": {},
   "outputs": [
    {
     "data": {
      "text/plain": [
       "numpy.ndarray"
      ]
     },
     "execution_count": 93,
     "metadata": {},
     "output_type": "execute_result"
    }
   ],
   "source": [
    "type(X)"
   ]
  },
  {
   "cell_type": "code",
   "execution_count": 94,
   "metadata": {},
   "outputs": [
    {
     "data": {
      "text/plain": [
       "numpy.ndarray"
      ]
     },
     "execution_count": 94,
     "metadata": {},
     "output_type": "execute_result"
    }
   ],
   "source": [
    "numpy.ndarray"
   ]
  },
  {
   "cell_type": "code",
   "execution_count": 73,
   "metadata": {},
   "outputs": [
    {
     "name": "stdout",
     "output_type": "stream",
     "text": [
      "<class 'pandas.core.frame.DataFrame'>\n",
      "Int64Index: 592124 entries, 0 to 656435\n",
      "Data columns (total 6 columns):\n",
      " #   Column  Non-Null Count   Dtype  \n",
      "---  ------  --------------   -----  \n",
      " 0   Año     592124 non-null  int64  \n",
      " 1   Mes     592124 non-null  int64  \n",
      " 2   Día     592124 non-null  int64  \n",
      " 3   prec    532912 non-null  float64\n",
      " 4   LAT     592124 non-null  float64\n",
      " 5   LON     592124 non-null  float64\n",
      "dtypes: float64(3), int64(3)\n",
      "memory usage: 47.7 MB\n"
     ]
    }
   ],
   "source": [
    "df.info()"
   ]
  },
  {
   "cell_type": "code",
   "execution_count": 95,
   "metadata": {},
   "outputs": [
    {
     "data": {
      "text/html": [
       "<div>\n",
       "<style scoped>\n",
       "    .dataframe tbody tr th:only-of-type {\n",
       "        vertical-align: middle;\n",
       "    }\n",
       "\n",
       "    .dataframe tbody tr th {\n",
       "        vertical-align: top;\n",
       "    }\n",
       "\n",
       "    .dataframe thead th {\n",
       "        text-align: right;\n",
       "    }\n",
       "</style>\n",
       "<table border=\"1\" class=\"dataframe\">\n",
       "  <thead>\n",
       "    <tr style=\"text-align: right;\">\n",
       "      <th></th>\n",
       "      <th>0</th>\n",
       "      <th>1</th>\n",
       "      <th>2</th>\n",
       "      <th>3</th>\n",
       "      <th>4</th>\n",
       "      <th>5</th>\n",
       "    </tr>\n",
       "  </thead>\n",
       "  <tbody>\n",
       "    <tr>\n",
       "      <th>0</th>\n",
       "      <td>1983.0</td>\n",
       "      <td>6.0</td>\n",
       "      <td>9.0</td>\n",
       "      <td>6.8</td>\n",
       "      <td>2.562833</td>\n",
       "      <td>-74.103083</td>\n",
       "    </tr>\n",
       "    <tr>\n",
       "      <th>1</th>\n",
       "      <td>2005.0</td>\n",
       "      <td>6.0</td>\n",
       "      <td>18.0</td>\n",
       "      <td>8.0</td>\n",
       "      <td>2.562833</td>\n",
       "      <td>-74.103083</td>\n",
       "    </tr>\n",
       "    <tr>\n",
       "      <th>2</th>\n",
       "      <td>2005.0</td>\n",
       "      <td>6.0</td>\n",
       "      <td>19.0</td>\n",
       "      <td>13.232292</td>\n",
       "      <td>2.562833</td>\n",
       "      <td>-74.103083</td>\n",
       "    </tr>\n",
       "    <tr>\n",
       "      <th>3</th>\n",
       "      <td>2005.0</td>\n",
       "      <td>6.0</td>\n",
       "      <td>20.0</td>\n",
       "      <td>0.0</td>\n",
       "      <td>2.562833</td>\n",
       "      <td>-74.103083</td>\n",
       "    </tr>\n",
       "    <tr>\n",
       "      <th>4</th>\n",
       "      <td>2005.0</td>\n",
       "      <td>6.0</td>\n",
       "      <td>21.0</td>\n",
       "      <td>4.0</td>\n",
       "      <td>2.562833</td>\n",
       "      <td>-74.103083</td>\n",
       "    </tr>\n",
       "    <tr>\n",
       "      <th>5</th>\n",
       "      <td>2005.0</td>\n",
       "      <td>6.0</td>\n",
       "      <td>22.0</td>\n",
       "      <td>0.0</td>\n",
       "      <td>2.562833</td>\n",
       "      <td>-74.103083</td>\n",
       "    </tr>\n",
       "    <tr>\n",
       "      <th>6</th>\n",
       "      <td>2005.0</td>\n",
       "      <td>6.0</td>\n",
       "      <td>23.0</td>\n",
       "      <td>10.464192</td>\n",
       "      <td>2.562833</td>\n",
       "      <td>-74.103083</td>\n",
       "    </tr>\n",
       "    <tr>\n",
       "      <th>7</th>\n",
       "      <td>2005.0</td>\n",
       "      <td>6.0</td>\n",
       "      <td>24.0</td>\n",
       "      <td>11.294936</td>\n",
       "      <td>2.562833</td>\n",
       "      <td>-74.103083</td>\n",
       "    </tr>\n",
       "    <tr>\n",
       "      <th>8</th>\n",
       "      <td>2005.0</td>\n",
       "      <td>6.0</td>\n",
       "      <td>25.0</td>\n",
       "      <td>8.0</td>\n",
       "      <td>2.562833</td>\n",
       "      <td>-74.103083</td>\n",
       "    </tr>\n",
       "    <tr>\n",
       "      <th>9</th>\n",
       "      <td>2005.0</td>\n",
       "      <td>6.0</td>\n",
       "      <td>26.0</td>\n",
       "      <td>3.0</td>\n",
       "      <td>2.562833</td>\n",
       "      <td>-74.103083</td>\n",
       "    </tr>\n",
       "    <tr>\n",
       "      <th>10</th>\n",
       "      <td>2005.0</td>\n",
       "      <td>6.0</td>\n",
       "      <td>27.0</td>\n",
       "      <td>5.0</td>\n",
       "      <td>2.562833</td>\n",
       "      <td>-74.103083</td>\n",
       "    </tr>\n",
       "    <tr>\n",
       "      <th>11</th>\n",
       "      <td>2005.0</td>\n",
       "      <td>6.0</td>\n",
       "      <td>28.0</td>\n",
       "      <td>30.0</td>\n",
       "      <td>2.562833</td>\n",
       "      <td>-74.103083</td>\n",
       "    </tr>\n",
       "    <tr>\n",
       "      <th>12</th>\n",
       "      <td>2005.0</td>\n",
       "      <td>6.0</td>\n",
       "      <td>29.0</td>\n",
       "      <td>45.0</td>\n",
       "      <td>2.562833</td>\n",
       "      <td>-74.103083</td>\n",
       "    </tr>\n",
       "    <tr>\n",
       "      <th>13</th>\n",
       "      <td>2005.0</td>\n",
       "      <td>6.0</td>\n",
       "      <td>30.0</td>\n",
       "      <td>0.0</td>\n",
       "      <td>2.562833</td>\n",
       "      <td>-74.103083</td>\n",
       "    </tr>\n",
       "    <tr>\n",
       "      <th>14</th>\n",
       "      <td>2005.0</td>\n",
       "      <td>7.0</td>\n",
       "      <td>1.0</td>\n",
       "      <td>0.0</td>\n",
       "      <td>2.562833</td>\n",
       "      <td>-74.103083</td>\n",
       "    </tr>\n",
       "  </tbody>\n",
       "</table>\n",
       "</div>"
      ],
      "text/plain": [
       "         0    1     2          3         4          5\n",
       "0   1983.0  6.0   9.0        6.8  2.562833 -74.103083\n",
       "1   2005.0  6.0  18.0        8.0  2.562833 -74.103083\n",
       "2   2005.0  6.0  19.0  13.232292  2.562833 -74.103083\n",
       "3   2005.0  6.0  20.0        0.0  2.562833 -74.103083\n",
       "4   2005.0  6.0  21.0        4.0  2.562833 -74.103083\n",
       "5   2005.0  6.0  22.0        0.0  2.562833 -74.103083\n",
       "6   2005.0  6.0  23.0  10.464192  2.562833 -74.103083\n",
       "7   2005.0  6.0  24.0  11.294936  2.562833 -74.103083\n",
       "8   2005.0  6.0  25.0        8.0  2.562833 -74.103083\n",
       "9   2005.0  6.0  26.0        3.0  2.562833 -74.103083\n",
       "10  2005.0  6.0  27.0        5.0  2.562833 -74.103083\n",
       "11  2005.0  6.0  28.0       30.0  2.562833 -74.103083\n",
       "12  2005.0  6.0  29.0       45.0  2.562833 -74.103083\n",
       "13  2005.0  6.0  30.0        0.0  2.562833 -74.103083\n",
       "14  2005.0  7.0   1.0        0.0  2.562833 -74.103083"
      ]
     },
     "execution_count": 95,
     "metadata": {},
     "output_type": "execute_result"
    }
   ],
   "source": [
    "pd.DataFrame(X).head(15)"
   ]
  },
  {
   "cell_type": "code",
   "execution_count": 20,
   "metadata": {},
   "outputs": [
    {
     "name": "stderr",
     "output_type": "stream",
     "text": [
      "c:\\Users\\ronal\\AppData\\Local\\Programs\\Python\\Python310\\lib\\site-packages\\xgbimputer\\xgbimputer.py:147: RuntimeWarning: invalid value encountered in scalar divide\n",
      "  gamma_inferred_categorical_features_new = np.sum(Ximp[:,self.inferred_categorical_features_index] != Ximp_old[:,self.inferred_categorical_features_index])/self.inferred_categorical_features_index.size\n"
     ]
    },
    {
     "name": "stdout",
     "output_type": "stream",
     "text": [
      "XGBImputer - Epoch: 1 | Categorical gamma: inf/nan | Numerical gamma: inf/0.0087637099\n"
     ]
    },
    {
     "name": "stderr",
     "output_type": "stream",
     "text": [
      "c:\\Users\\ronal\\AppData\\Local\\Programs\\Python\\Python310\\lib\\site-packages\\xgbimputer\\xgbimputer.py:147: RuntimeWarning: invalid value encountered in scalar divide\n",
      "  gamma_inferred_categorical_features_new = np.sum(Ximp[:,self.inferred_categorical_features_index] != Ximp_old[:,self.inferred_categorical_features_index])/self.inferred_categorical_features_index.size\n"
     ]
    },
    {
     "name": "stdout",
     "output_type": "stream",
     "text": [
      "XGBImputer - Epoch: 2 | Categorical gamma: nan/nan | Numerical gamma: 0.0087637099/0.\n",
      "XGBImputer - Epoch: 3 | Categorical gamma: nan/nan | Numerical gamma: 0./0.\n"
     ]
    },
    {
     "name": "stderr",
     "output_type": "stream",
     "text": [
      "c:\\Users\\ronal\\AppData\\Local\\Programs\\Python\\Python310\\lib\\site-packages\\xgbimputer\\xgbimputer.py:147: RuntimeWarning: invalid value encountered in scalar divide\n",
      "  gamma_inferred_categorical_features_new = np.sum(Ximp[:,self.inferred_categorical_features_index] != Ximp_old[:,self.inferred_categorical_features_index])/self.inferred_categorical_features_index.size\n"
     ]
    }
   ],
   "source": [
    "imputer2 = XGBImputer(categorical_features_index=[0,1,2], replace_categorical_values_back=False)\n",
    "X2 = imputer2.fit_transform(df)"
   ]
  },
  {
   "cell_type": "markdown",
   "metadata": {},
   "source": [
    "para el 15%"
   ]
  },
  {
   "cell_type": "code",
   "execution_count": 17,
   "metadata": {},
   "outputs": [
    {
     "name": "stderr",
     "output_type": "stream",
     "text": [
      "c:\\Users\\ronal\\AppData\\Local\\Programs\\Python\\Python310\\lib\\site-packages\\xgbimputer\\xgbimputer.py:147: RuntimeWarning: invalid value encountered in scalar divide\n",
      "  gamma_inferred_categorical_features_new = np.sum(Ximp[:,self.inferred_categorical_features_index] != Ximp_old[:,self.inferred_categorical_features_index])/self.inferred_categorical_features_index.size\n"
     ]
    },
    {
     "name": "stdout",
     "output_type": "stream",
     "text": [
      "XGBImputer - Epoch: 1 | Categorical gamma: inf/nan | Numerical gamma: inf/0.0137753424\n"
     ]
    },
    {
     "name": "stderr",
     "output_type": "stream",
     "text": [
      "c:\\Users\\ronal\\AppData\\Local\\Programs\\Python\\Python310\\lib\\site-packages\\xgbimputer\\xgbimputer.py:147: RuntimeWarning: invalid value encountered in scalar divide\n",
      "  gamma_inferred_categorical_features_new = np.sum(Ximp[:,self.inferred_categorical_features_index] != Ximp_old[:,self.inferred_categorical_features_index])/self.inferred_categorical_features_index.size\n"
     ]
    },
    {
     "name": "stdout",
     "output_type": "stream",
     "text": [
      "XGBImputer - Epoch: 2 | Categorical gamma: nan/nan | Numerical gamma: 0.0137753424/0.\n",
      "XGBImputer - Epoch: 3 | Categorical gamma: nan/nan | Numerical gamma: 0./0.\n"
     ]
    },
    {
     "name": "stderr",
     "output_type": "stream",
     "text": [
      "c:\\Users\\ronal\\AppData\\Local\\Programs\\Python\\Python310\\lib\\site-packages\\xgbimputer\\xgbimputer.py:147: RuntimeWarning: invalid value encountered in scalar divide\n",
      "  gamma_inferred_categorical_features_new = np.sum(Ximp[:,self.inferred_categorical_features_index] != Ximp_old[:,self.inferred_categorical_features_index])/self.inferred_categorical_features_index.size\n"
     ]
    }
   ],
   "source": [
    "imputer215p = XGBImputer(categorical_features_index=[0,1,2], replace_categorical_values_back=False)\n",
    "X215p = imputer215p.fit_transform(df15p)"
   ]
  },
  {
   "cell_type": "markdown",
   "metadata": {},
   "source": [
    "para el 20%"
   ]
  },
  {
   "cell_type": "code",
   "execution_count": 18,
   "metadata": {},
   "outputs": [
    {
     "name": "stderr",
     "output_type": "stream",
     "text": [
      "c:\\Users\\ronal\\AppData\\Local\\Programs\\Python\\Python310\\lib\\site-packages\\xgbimputer\\xgbimputer.py:147: RuntimeWarning: invalid value encountered in scalar divide\n",
      "  gamma_inferred_categorical_features_new = np.sum(Ximp[:,self.inferred_categorical_features_index] != Ximp_old[:,self.inferred_categorical_features_index])/self.inferred_categorical_features_index.size\n"
     ]
    },
    {
     "name": "stdout",
     "output_type": "stream",
     "text": [
      "XGBImputer - Epoch: 1 | Categorical gamma: inf/nan | Numerical gamma: inf/0.0190212852\n"
     ]
    },
    {
     "name": "stderr",
     "output_type": "stream",
     "text": [
      "c:\\Users\\ronal\\AppData\\Local\\Programs\\Python\\Python310\\lib\\site-packages\\xgbimputer\\xgbimputer.py:147: RuntimeWarning: invalid value encountered in scalar divide\n",
      "  gamma_inferred_categorical_features_new = np.sum(Ximp[:,self.inferred_categorical_features_index] != Ximp_old[:,self.inferred_categorical_features_index])/self.inferred_categorical_features_index.size\n"
     ]
    },
    {
     "name": "stdout",
     "output_type": "stream",
     "text": [
      "XGBImputer - Epoch: 2 | Categorical gamma: nan/nan | Numerical gamma: 0.0190212852/0.\n",
      "XGBImputer - Epoch: 3 | Categorical gamma: nan/nan | Numerical gamma: 0./0.\n"
     ]
    },
    {
     "name": "stderr",
     "output_type": "stream",
     "text": [
      "c:\\Users\\ronal\\AppData\\Local\\Programs\\Python\\Python310\\lib\\site-packages\\xgbimputer\\xgbimputer.py:147: RuntimeWarning: invalid value encountered in scalar divide\n",
      "  gamma_inferred_categorical_features_new = np.sum(Ximp[:,self.inferred_categorical_features_index] != Ximp_old[:,self.inferred_categorical_features_index])/self.inferred_categorical_features_index.size\n"
     ]
    }
   ],
   "source": [
    "imputer220p = XGBImputer(categorical_features_index=[0,1,2], replace_categorical_values_back=False)\n",
    "X220p = imputer215p.fit_transform(df20p)"
   ]
  },
  {
   "cell_type": "code",
   "execution_count": 98,
   "metadata": {},
   "outputs": [
    {
     "data": {
      "text/html": [
       "<div>\n",
       "<style scoped>\n",
       "    .dataframe tbody tr th:only-of-type {\n",
       "        vertical-align: middle;\n",
       "    }\n",
       "\n",
       "    .dataframe tbody tr th {\n",
       "        vertical-align: top;\n",
       "    }\n",
       "\n",
       "    .dataframe thead th {\n",
       "        text-align: right;\n",
       "    }\n",
       "</style>\n",
       "<table border=\"1\" class=\"dataframe\">\n",
       "  <thead>\n",
       "    <tr style=\"text-align: right;\">\n",
       "      <th></th>\n",
       "      <th>0</th>\n",
       "      <th>1</th>\n",
       "      <th>2</th>\n",
       "      <th>3</th>\n",
       "      <th>4</th>\n",
       "      <th>5</th>\n",
       "    </tr>\n",
       "  </thead>\n",
       "  <tbody>\n",
       "    <tr>\n",
       "      <th>0</th>\n",
       "      <td>3.0</td>\n",
       "      <td>5.0</td>\n",
       "      <td>8.0</td>\n",
       "      <td>6.800000</td>\n",
       "      <td>2.562833</td>\n",
       "      <td>-74.103083</td>\n",
       "    </tr>\n",
       "    <tr>\n",
       "      <th>1</th>\n",
       "      <td>25.0</td>\n",
       "      <td>5.0</td>\n",
       "      <td>17.0</td>\n",
       "      <td>8.000000</td>\n",
       "      <td>2.562833</td>\n",
       "      <td>-74.103083</td>\n",
       "    </tr>\n",
       "    <tr>\n",
       "      <th>2</th>\n",
       "      <td>25.0</td>\n",
       "      <td>5.0</td>\n",
       "      <td>18.0</td>\n",
       "      <td>13.232292</td>\n",
       "      <td>2.562833</td>\n",
       "      <td>-74.103083</td>\n",
       "    </tr>\n",
       "    <tr>\n",
       "      <th>3</th>\n",
       "      <td>25.0</td>\n",
       "      <td>5.0</td>\n",
       "      <td>19.0</td>\n",
       "      <td>0.000000</td>\n",
       "      <td>2.562833</td>\n",
       "      <td>-74.103083</td>\n",
       "    </tr>\n",
       "    <tr>\n",
       "      <th>4</th>\n",
       "      <td>25.0</td>\n",
       "      <td>5.0</td>\n",
       "      <td>20.0</td>\n",
       "      <td>4.000000</td>\n",
       "      <td>2.562833</td>\n",
       "      <td>-74.103083</td>\n",
       "    </tr>\n",
       "    <tr>\n",
       "      <th>5</th>\n",
       "      <td>25.0</td>\n",
       "      <td>5.0</td>\n",
       "      <td>21.0</td>\n",
       "      <td>0.000000</td>\n",
       "      <td>2.562833</td>\n",
       "      <td>-74.103083</td>\n",
       "    </tr>\n",
       "    <tr>\n",
       "      <th>6</th>\n",
       "      <td>25.0</td>\n",
       "      <td>5.0</td>\n",
       "      <td>22.0</td>\n",
       "      <td>10.464192</td>\n",
       "      <td>2.562833</td>\n",
       "      <td>-74.103083</td>\n",
       "    </tr>\n",
       "    <tr>\n",
       "      <th>7</th>\n",
       "      <td>25.0</td>\n",
       "      <td>5.0</td>\n",
       "      <td>23.0</td>\n",
       "      <td>11.294936</td>\n",
       "      <td>2.562833</td>\n",
       "      <td>-74.103083</td>\n",
       "    </tr>\n",
       "    <tr>\n",
       "      <th>8</th>\n",
       "      <td>25.0</td>\n",
       "      <td>5.0</td>\n",
       "      <td>24.0</td>\n",
       "      <td>8.000000</td>\n",
       "      <td>2.562833</td>\n",
       "      <td>-74.103083</td>\n",
       "    </tr>\n",
       "    <tr>\n",
       "      <th>9</th>\n",
       "      <td>25.0</td>\n",
       "      <td>5.0</td>\n",
       "      <td>25.0</td>\n",
       "      <td>3.000000</td>\n",
       "      <td>2.562833</td>\n",
       "      <td>-74.103083</td>\n",
       "    </tr>\n",
       "    <tr>\n",
       "      <th>10</th>\n",
       "      <td>25.0</td>\n",
       "      <td>5.0</td>\n",
       "      <td>26.0</td>\n",
       "      <td>5.000000</td>\n",
       "      <td>2.562833</td>\n",
       "      <td>-74.103083</td>\n",
       "    </tr>\n",
       "    <tr>\n",
       "      <th>11</th>\n",
       "      <td>25.0</td>\n",
       "      <td>5.0</td>\n",
       "      <td>27.0</td>\n",
       "      <td>30.000000</td>\n",
       "      <td>2.562833</td>\n",
       "      <td>-74.103083</td>\n",
       "    </tr>\n",
       "    <tr>\n",
       "      <th>12</th>\n",
       "      <td>25.0</td>\n",
       "      <td>5.0</td>\n",
       "      <td>28.0</td>\n",
       "      <td>45.000000</td>\n",
       "      <td>2.562833</td>\n",
       "      <td>-74.103083</td>\n",
       "    </tr>\n",
       "    <tr>\n",
       "      <th>13</th>\n",
       "      <td>25.0</td>\n",
       "      <td>5.0</td>\n",
       "      <td>29.0</td>\n",
       "      <td>0.000000</td>\n",
       "      <td>2.562833</td>\n",
       "      <td>-74.103083</td>\n",
       "    </tr>\n",
       "    <tr>\n",
       "      <th>14</th>\n",
       "      <td>25.0</td>\n",
       "      <td>6.0</td>\n",
       "      <td>0.0</td>\n",
       "      <td>0.000000</td>\n",
       "      <td>2.562833</td>\n",
       "      <td>-74.103083</td>\n",
       "    </tr>\n",
       "  </tbody>\n",
       "</table>\n",
       "</div>"
      ],
      "text/plain": [
       "       0    1     2          3         4          5\n",
       "0    3.0  5.0   8.0   6.800000  2.562833 -74.103083\n",
       "1   25.0  5.0  17.0   8.000000  2.562833 -74.103083\n",
       "2   25.0  5.0  18.0  13.232292  2.562833 -74.103083\n",
       "3   25.0  5.0  19.0   0.000000  2.562833 -74.103083\n",
       "4   25.0  5.0  20.0   4.000000  2.562833 -74.103083\n",
       "5   25.0  5.0  21.0   0.000000  2.562833 -74.103083\n",
       "6   25.0  5.0  22.0  10.464192  2.562833 -74.103083\n",
       "7   25.0  5.0  23.0  11.294936  2.562833 -74.103083\n",
       "8   25.0  5.0  24.0   8.000000  2.562833 -74.103083\n",
       "9   25.0  5.0  25.0   3.000000  2.562833 -74.103083\n",
       "10  25.0  5.0  26.0   5.000000  2.562833 -74.103083\n",
       "11  25.0  5.0  27.0  30.000000  2.562833 -74.103083\n",
       "12  25.0  5.0  28.0  45.000000  2.562833 -74.103083\n",
       "13  25.0  5.0  29.0   0.000000  2.562833 -74.103083\n",
       "14  25.0  6.0   0.0   0.000000  2.562833 -74.103083"
      ]
     },
     "execution_count": 98,
     "metadata": {},
     "output_type": "execute_result"
    }
   ],
   "source": [
    "pd.DataFrame(X2).head(15)"
   ]
  },
  {
   "cell_type": "markdown",
   "metadata": {},
   "source": [
    "### Guardar el modelo"
   ]
  },
  {
   "cell_type": "code",
   "execution_count": 123,
   "metadata": {},
   "outputs": [],
   "source": [
    "\n",
    "\n",
    "import pickle\n",
    "\n",
    "# Guardar el modelo\n",
    "with open('model_XGBoost.pkl', 'wb') as f:\n",
    "    pickle.dump(imputer2, f)\n",
    "\n",
    "# Cargar el modelo\n",
    "with open('model_XGBoost.pkl', 'rb') as f:\n",
    "    loaded_model = pickle.load(f)"
   ]
  },
  {
   "cell_type": "markdown",
   "metadata": {},
   "source": [
    "## Version Hector Para realizar imputacion"
   ]
  },
  {
   "cell_type": "code",
   "execution_count": 38,
   "metadata": {},
   "outputs": [],
   "source": [
    "import xgboost as xgb\n",
    "from sklearn.model_selection import GridSearchCV\n",
    "from sklearn.model_selection import train_test_split\n",
    "from joblib import parallel_backend\n",
    "\n",
    "# Divide tus datos en un conjunto de entrenamiento y un conjunto de prueba\n",
    "X_train, X_test, y_train, y_test = train_test_split(data_completa_modelo.drop(columns=['prec']), data_completa_modelo['prec'], test_size=0.2, random_state=42)\n",
    "# elimina nas de y_train\n",
    "X_train = X_train[~y_train.isna()]\n",
    "y_train = y_train.dropna()\n",
    "\n",
    "# Definir el espacio de búsqueda de hiperparámetros\n",
    "param_grid = {\n",
    "    'max_depth': [3, 5, 7],\n",
    "    'n_estimators': [25, 50, 100],\n",
    "    'learning_rate':[0.01, 0.05, 0.1, 0.2, 0.3]\n",
    "    # Otros hiperparámetros a optimizar\n",
    "}\n",
    "\n",
    "# Crear el modelo XGBoost\n",
    "xgb_model = xgb.XGBRegressor()\n",
    "\n"
   ]
  },
  {
   "cell_type": "code",
   "execution_count": null,
   "metadata": {},
   "outputs": [],
   "source": [
    "# Divide tus datos en un conjunto de entrenamiento y un conjunto de prueba\n",
    "X_train, X_test, y_train, y_test = train_test_split(data_completa_modelo.drop(columns=['prec']), data_completa_modelo['prec'], test_size=0.2, random_state=42)\n",
    "# elimina nas de y_train\n",
    "X_train = X_train[~y_train.isna()]\n",
    "y_train = y_train.dropna()\n"
   ]
  },
  {
   "cell_type": "code",
   "execution_count": 39,
   "metadata": {},
   "outputs": [],
   "source": [
    "# grid_search no es necesario volver a correr\n",
    "# Realizar la búsqueda de hiperparámetros utilizando validación cruzada\n",
    "with parallel_backend('loky', n_jobs=4):  # Ajusta n_jobs según el número de núcleos disponibles\n",
    "    grid_search = GridSearchCV(estimator=xgb_model, param_grid=param_grid, scoring='neg_mean_squared_error', cv=5)\n",
    "    grid_search.fit(X_train, y_train)"
   ]
  },
  {
   "cell_type": "code",
   "execution_count": 40,
   "metadata": {},
   "outputs": [
    {
     "name": "stdout",
     "output_type": "stream",
     "text": [
      "Mejores hiperparámetros: {'learning_rate': 0.3, 'max_depth': 7, 'n_estimators': 100}\n"
     ]
    }
   ],
   "source": [
    "# # no es necesario volver a correr\n",
    "import joblib\n",
    "import pickle\n",
    "from joblib import dump\n",
    "# Obtener los mejores hiperparámetros\n",
    "best_params = grid_search.best_params_\n",
    "print(\"Mejores hiperparámetros:\", best_params)\n",
    "\n",
    "# Entrenar el modelo XGBoost con los mejores hiperparámetros\n",
    "best_xgb_model = xgb.XGBRegressor(**best_params)\n"
   ]
  },
  {
   "cell_type": "code",
   "execution_count": null,
   "metadata": {},
   "outputs": [],
   "source": []
  },
  {
   "cell_type": "code",
   "execution_count": 17,
   "metadata": {},
   "outputs": [
    {
     "data": {
      "text/plain": [
       "'F:\\\\TESIS\\\\Proyecto_mod_precipitacion'"
      ]
     },
     "execution_count": 17,
     "metadata": {},
     "output_type": "execute_result"
    }
   ],
   "source": [
    "os.getcwd()"
   ]
  },
  {
   "cell_type": "code",
   "execution_count": 41,
   "metadata": {},
   "outputs": [
    {
     "data": {
      "text/html": [
       "<style>#sk-container-id-1 {color: black;}#sk-container-id-1 pre{padding: 0;}#sk-container-id-1 div.sk-toggleable {background-color: white;}#sk-container-id-1 label.sk-toggleable__label {cursor: pointer;display: block;width: 100%;margin-bottom: 0;padding: 0.3em;box-sizing: border-box;text-align: center;}#sk-container-id-1 label.sk-toggleable__label-arrow:before {content: \"▸\";float: left;margin-right: 0.25em;color: #696969;}#sk-container-id-1 label.sk-toggleable__label-arrow:hover:before {color: black;}#sk-container-id-1 div.sk-estimator:hover label.sk-toggleable__label-arrow:before {color: black;}#sk-container-id-1 div.sk-toggleable__content {max-height: 0;max-width: 0;overflow: hidden;text-align: left;background-color: #f0f8ff;}#sk-container-id-1 div.sk-toggleable__content pre {margin: 0.2em;color: black;border-radius: 0.25em;background-color: #f0f8ff;}#sk-container-id-1 input.sk-toggleable__control:checked~div.sk-toggleable__content {max-height: 200px;max-width: 100%;overflow: auto;}#sk-container-id-1 input.sk-toggleable__control:checked~label.sk-toggleable__label-arrow:before {content: \"▾\";}#sk-container-id-1 div.sk-estimator input.sk-toggleable__control:checked~label.sk-toggleable__label {background-color: #d4ebff;}#sk-container-id-1 div.sk-label input.sk-toggleable__control:checked~label.sk-toggleable__label {background-color: #d4ebff;}#sk-container-id-1 input.sk-hidden--visually {border: 0;clip: rect(1px 1px 1px 1px);clip: rect(1px, 1px, 1px, 1px);height: 1px;margin: -1px;overflow: hidden;padding: 0;position: absolute;width: 1px;}#sk-container-id-1 div.sk-estimator {font-family: monospace;background-color: #f0f8ff;border: 1px dotted black;border-radius: 0.25em;box-sizing: border-box;margin-bottom: 0.5em;}#sk-container-id-1 div.sk-estimator:hover {background-color: #d4ebff;}#sk-container-id-1 div.sk-parallel-item::after {content: \"\";width: 100%;border-bottom: 1px solid gray;flex-grow: 1;}#sk-container-id-1 div.sk-label:hover label.sk-toggleable__label {background-color: #d4ebff;}#sk-container-id-1 div.sk-serial::before {content: \"\";position: absolute;border-left: 1px solid gray;box-sizing: border-box;top: 0;bottom: 0;left: 50%;z-index: 0;}#sk-container-id-1 div.sk-serial {display: flex;flex-direction: column;align-items: center;background-color: white;padding-right: 0.2em;padding-left: 0.2em;position: relative;}#sk-container-id-1 div.sk-item {position: relative;z-index: 1;}#sk-container-id-1 div.sk-parallel {display: flex;align-items: stretch;justify-content: center;background-color: white;position: relative;}#sk-container-id-1 div.sk-item::before, #sk-container-id-1 div.sk-parallel-item::before {content: \"\";position: absolute;border-left: 1px solid gray;box-sizing: border-box;top: 0;bottom: 0;left: 50%;z-index: -1;}#sk-container-id-1 div.sk-parallel-item {display: flex;flex-direction: column;z-index: 1;position: relative;background-color: white;}#sk-container-id-1 div.sk-parallel-item:first-child::after {align-self: flex-end;width: 50%;}#sk-container-id-1 div.sk-parallel-item:last-child::after {align-self: flex-start;width: 50%;}#sk-container-id-1 div.sk-parallel-item:only-child::after {width: 0;}#sk-container-id-1 div.sk-dashed-wrapped {border: 1px dashed gray;margin: 0 0.4em 0.5em 0.4em;box-sizing: border-box;padding-bottom: 0.4em;background-color: white;}#sk-container-id-1 div.sk-label label {font-family: monospace;font-weight: bold;display: inline-block;line-height: 1.2em;}#sk-container-id-1 div.sk-label-container {text-align: center;}#sk-container-id-1 div.sk-container {/* jupyter's `normalize.less` sets `[hidden] { display: none; }` but bootstrap.min.css set `[hidden] { display: none !important; }` so we also need the `!important` here to be able to override the default hidden behavior on the sphinx rendered scikit-learn.org. See: https://github.com/scikit-learn/scikit-learn/issues/21755 */display: inline-block !important;position: relative;}#sk-container-id-1 div.sk-text-repr-fallback {display: none;}</style><div id=\"sk-container-id-1\" class=\"sk-top-container\"><div class=\"sk-text-repr-fallback\"><pre>XGBRegressor(base_score=None, booster=None, callbacks=None,\n",
       "             colsample_bylevel=None, colsample_bynode=None,\n",
       "             colsample_bytree=None, device=None, early_stopping_rounds=None,\n",
       "             enable_categorical=False, eval_metric=None, feature_types=None,\n",
       "             gamma=None, grow_policy=None, importance_type=None,\n",
       "             interaction_constraints=None, learning_rate=0.3, max_bin=None,\n",
       "             max_cat_threshold=None, max_cat_to_onehot=None,\n",
       "             max_delta_step=None, max_depth=7, max_leaves=None,\n",
       "             min_child_weight=None, missing=nan, monotone_constraints=None,\n",
       "             multi_strategy=None, n_estimators=100, n_jobs=None,\n",
       "             num_parallel_tree=None, random_state=None, ...)</pre><b>In a Jupyter environment, please rerun this cell to show the HTML representation or trust the notebook. <br />On GitHub, the HTML representation is unable to render, please try loading this page with nbviewer.org.</b></div><div class=\"sk-container\" hidden><div class=\"sk-item\"><div class=\"sk-estimator sk-toggleable\"><input class=\"sk-toggleable__control sk-hidden--visually\" id=\"sk-estimator-id-1\" type=\"checkbox\" checked><label for=\"sk-estimator-id-1\" class=\"sk-toggleable__label sk-toggleable__label-arrow\">XGBRegressor</label><div class=\"sk-toggleable__content\"><pre>XGBRegressor(base_score=None, booster=None, callbacks=None,\n",
       "             colsample_bylevel=None, colsample_bynode=None,\n",
       "             colsample_bytree=None, device=None, early_stopping_rounds=None,\n",
       "             enable_categorical=False, eval_metric=None, feature_types=None,\n",
       "             gamma=None, grow_policy=None, importance_type=None,\n",
       "             interaction_constraints=None, learning_rate=0.3, max_bin=None,\n",
       "             max_cat_threshold=None, max_cat_to_onehot=None,\n",
       "             max_delta_step=None, max_depth=7, max_leaves=None,\n",
       "             min_child_weight=None, missing=nan, monotone_constraints=None,\n",
       "             multi_strategy=None, n_estimators=100, n_jobs=None,\n",
       "             num_parallel_tree=None, random_state=None, ...)</pre></div></div></div></div></div>"
      ],
      "text/plain": [
       "XGBRegressor(base_score=None, booster=None, callbacks=None,\n",
       "             colsample_bylevel=None, colsample_bynode=None,\n",
       "             colsample_bytree=None, device=None, early_stopping_rounds=None,\n",
       "             enable_categorical=False, eval_metric=None, feature_types=None,\n",
       "             gamma=None, grow_policy=None, importance_type=None,\n",
       "             interaction_constraints=None, learning_rate=0.3, max_bin=None,\n",
       "             max_cat_threshold=None, max_cat_to_onehot=None,\n",
       "             max_delta_step=None, max_depth=7, max_leaves=None,\n",
       "             min_child_weight=None, missing=nan, monotone_constraints=None,\n",
       "             multi_strategy=None, n_estimators=100, n_jobs=None,\n",
       "             num_parallel_tree=None, random_state=None, ...)"
      ]
     },
     "execution_count": 41,
     "metadata": {},
     "output_type": "execute_result"
    }
   ],
   "source": [
    "best_xgb_model.fit(X_train, y_train)"
   ]
  },
  {
   "cell_type": "code",
   "execution_count": 43,
   "metadata": {},
   "outputs": [],
   "source": [
    "# #guardar el modelo \n",
    "joblib.dump(best_xgb_model, 'model_xgboost.pkl' )\n",
    "best_xgb_model.fit(X_train, y_train)\n",
    "\n",
    "# Evaluar el rendimiento del modelo en el conjunto de prueba\n",
    "y_pred = best_xgb_model.predict(X_test)"
   ]
  },
  {
   "cell_type": "code",
   "execution_count": 11,
   "metadata": {},
   "outputs": [
    {
     "name": "stdout",
     "output_type": "stream",
     "text": [
      "El archivo model_xgboost.pkl no se ha creado correctamente.\n"
     ]
    }
   ],
   "source": [
    "import os\n",
    "\n",
    "file_path = 'model_xgboost.pkl'\n",
    "if os.path.exists(file_path):\n",
    "    print(f'El archivo {file_path} existe.')\n",
    "else:\n",
    "    print(f'El archivo {file_path} no se ha creado correctamente.')\n"
   ]
  },
  {
   "cell_type": "code",
   "execution_count": 24,
   "metadata": {},
   "outputs": [
    {
     "ename": "ModuleNotFoundError",
     "evalue": "No module named 'xgboost'",
     "output_type": "error",
     "traceback": [
      "\u001b[1;31m---------------------------------------------------------------------------\u001b[0m",
      "\u001b[1;31mModuleNotFoundError\u001b[0m                       Traceback (most recent call last)",
      "\u001b[1;32mf:\\TESIS\\Proyecto_mod_precipitacion\\Codigos de Python\\NoteNook_model_XGboost.ipynb Cell 48\u001b[0m line \u001b[0;36m<cell line: 4>\u001b[1;34m()\u001b[0m\n\u001b[0;32m      <a href='vscode-notebook-cell:/f%3A/TESIS/Proyecto_mod_precipitacion/Codigos%20de%20Python/NoteNook_model_XGboost.ipynb#Y162sZmlsZQ%3D%3D?line=1'>2</a>\u001b[0m \u001b[39mimport\u001b[39;00m \u001b[39mjoblib\u001b[39;00m\n\u001b[0;32m      <a href='vscode-notebook-cell:/f%3A/TESIS/Proyecto_mod_precipitacion/Codigos%20de%20Python/NoteNook_model_XGboost.ipynb#Y162sZmlsZQ%3D%3D?line=2'>3</a>\u001b[0m \u001b[39mimport\u001b[39;00m \u001b[39mpickle\u001b[39;00m\n\u001b[1;32m----> <a href='vscode-notebook-cell:/f%3A/TESIS/Proyecto_mod_precipitacion/Codigos%20de%20Python/NoteNook_model_XGboost.ipynb#Y162sZmlsZQ%3D%3D?line=3'>4</a>\u001b[0m modelo_xgboost \u001b[39m=\u001b[39m joblib\u001b[39m.\u001b[39;49mload(\u001b[39m'\u001b[39;49m\u001b[39mmodel_xgboost.pkl\u001b[39;49m\u001b[39m'\u001b[39;49m)\n\u001b[0;32m      <a href='vscode-notebook-cell:/f%3A/TESIS/Proyecto_mod_precipitacion/Codigos%20de%20Python/NoteNook_model_XGboost.ipynb#Y162sZmlsZQ%3D%3D?line=4'>5</a>\u001b[0m modelo_xgboost\n",
      "File \u001b[1;32mc:\\Users\\ronal\\AppData\\Local\\Programs\\Python\\Python310\\lib\\site-packages\\joblib\\numpy_pickle.py:658\u001b[0m, in \u001b[0;36mload\u001b[1;34m(filename, mmap_mode)\u001b[0m\n\u001b[0;32m    652\u001b[0m             \u001b[39mif\u001b[39;00m \u001b[39misinstance\u001b[39m(fobj, \u001b[39mstr\u001b[39m):\n\u001b[0;32m    653\u001b[0m                 \u001b[39m# if the returned file object is a string, this means we\u001b[39;00m\n\u001b[0;32m    654\u001b[0m                 \u001b[39m# try to load a pickle file generated with an version of\u001b[39;00m\n\u001b[0;32m    655\u001b[0m                 \u001b[39m# Joblib so we load it with joblib compatibility function.\u001b[39;00m\n\u001b[0;32m    656\u001b[0m                 \u001b[39mreturn\u001b[39;00m load_compatibility(fobj)\n\u001b[1;32m--> 658\u001b[0m             obj \u001b[39m=\u001b[39m _unpickle(fobj, filename, mmap_mode)\n\u001b[0;32m    659\u001b[0m \u001b[39mreturn\u001b[39;00m obj\n",
      "File \u001b[1;32mc:\\Users\\ronal\\AppData\\Local\\Programs\\Python\\Python310\\lib\\site-packages\\joblib\\numpy_pickle.py:577\u001b[0m, in \u001b[0;36m_unpickle\u001b[1;34m(fobj, filename, mmap_mode)\u001b[0m\n\u001b[0;32m    575\u001b[0m obj \u001b[39m=\u001b[39m \u001b[39mNone\u001b[39;00m\n\u001b[0;32m    576\u001b[0m \u001b[39mtry\u001b[39;00m:\n\u001b[1;32m--> 577\u001b[0m     obj \u001b[39m=\u001b[39m unpickler\u001b[39m.\u001b[39;49mload()\n\u001b[0;32m    578\u001b[0m     \u001b[39mif\u001b[39;00m unpickler\u001b[39m.\u001b[39mcompat_mode:\n\u001b[0;32m    579\u001b[0m         warnings\u001b[39m.\u001b[39mwarn(\u001b[39m\"\u001b[39m\u001b[39mThe file \u001b[39m\u001b[39m'\u001b[39m\u001b[39m%s\u001b[39;00m\u001b[39m'\u001b[39m\u001b[39m has been generated with a \u001b[39m\u001b[39m\"\u001b[39m\n\u001b[0;32m    580\u001b[0m                       \u001b[39m\"\u001b[39m\u001b[39mjoblib version less than 0.10. \u001b[39m\u001b[39m\"\u001b[39m\n\u001b[0;32m    581\u001b[0m                       \u001b[39m\"\u001b[39m\u001b[39mPlease regenerate this pickle file.\u001b[39m\u001b[39m\"\u001b[39m\n\u001b[0;32m    582\u001b[0m                       \u001b[39m%\u001b[39m filename,\n\u001b[0;32m    583\u001b[0m                       \u001b[39mDeprecationWarning\u001b[39;00m, stacklevel\u001b[39m=\u001b[39m\u001b[39m3\u001b[39m)\n",
      "File \u001b[1;32mc:\\Users\\ronal\\AppData\\Local\\Programs\\Python\\Python310\\lib\\pickle.py:1213\u001b[0m, in \u001b[0;36m_Unpickler.load\u001b[1;34m(self)\u001b[0m\n\u001b[0;32m   1211\u001b[0m             \u001b[39mraise\u001b[39;00m \u001b[39mEOFError\u001b[39;00m\n\u001b[0;32m   1212\u001b[0m         \u001b[39massert\u001b[39;00m \u001b[39misinstance\u001b[39m(key, bytes_types)\n\u001b[1;32m-> 1213\u001b[0m         dispatch[key[\u001b[39m0\u001b[39;49m]](\u001b[39mself\u001b[39;49m)\n\u001b[0;32m   1214\u001b[0m \u001b[39mexcept\u001b[39;00m _Stop \u001b[39mas\u001b[39;00m stopinst:\n\u001b[0;32m   1215\u001b[0m     \u001b[39mreturn\u001b[39;00m stopinst\u001b[39m.\u001b[39mvalue\n",
      "File \u001b[1;32mc:\\Users\\ronal\\AppData\\Local\\Programs\\Python\\Python310\\lib\\pickle.py:1538\u001b[0m, in \u001b[0;36m_Unpickler.load_stack_global\u001b[1;34m(self)\u001b[0m\n\u001b[0;32m   1536\u001b[0m \u001b[39mif\u001b[39;00m \u001b[39mtype\u001b[39m(name) \u001b[39mis\u001b[39;00m \u001b[39mnot\u001b[39;00m \u001b[39mstr\u001b[39m \u001b[39mor\u001b[39;00m \u001b[39mtype\u001b[39m(module) \u001b[39mis\u001b[39;00m \u001b[39mnot\u001b[39;00m \u001b[39mstr\u001b[39m:\n\u001b[0;32m   1537\u001b[0m     \u001b[39mraise\u001b[39;00m UnpicklingError(\u001b[39m\"\u001b[39m\u001b[39mSTACK_GLOBAL requires str\u001b[39m\u001b[39m\"\u001b[39m)\n\u001b[1;32m-> 1538\u001b[0m \u001b[39mself\u001b[39m\u001b[39m.\u001b[39mappend(\u001b[39mself\u001b[39;49m\u001b[39m.\u001b[39;49mfind_class(module, name))\n",
      "File \u001b[1;32mc:\\Users\\ronal\\AppData\\Local\\Programs\\Python\\Python310\\lib\\pickle.py:1580\u001b[0m, in \u001b[0;36m_Unpickler.find_class\u001b[1;34m(self, module, name)\u001b[0m\n\u001b[0;32m   1578\u001b[0m     \u001b[39melif\u001b[39;00m module \u001b[39min\u001b[39;00m _compat_pickle\u001b[39m.\u001b[39mIMPORT_MAPPING:\n\u001b[0;32m   1579\u001b[0m         module \u001b[39m=\u001b[39m _compat_pickle\u001b[39m.\u001b[39mIMPORT_MAPPING[module]\n\u001b[1;32m-> 1580\u001b[0m \u001b[39m__import__\u001b[39;49m(module, level\u001b[39m=\u001b[39;49m\u001b[39m0\u001b[39;49m)\n\u001b[0;32m   1581\u001b[0m \u001b[39mif\u001b[39;00m \u001b[39mself\u001b[39m\u001b[39m.\u001b[39mproto \u001b[39m>\u001b[39m\u001b[39m=\u001b[39m \u001b[39m4\u001b[39m:\n\u001b[0;32m   1582\u001b[0m     \u001b[39mreturn\u001b[39;00m _getattribute(sys\u001b[39m.\u001b[39mmodules[module], name)[\u001b[39m0\u001b[39m]\n",
      "\u001b[1;31mModuleNotFoundError\u001b[0m: No module named 'xgboost'"
     ]
    }
   ],
   "source": [
    "## carga del modelo \n",
    "import joblib\n",
    "import pickle\n",
    "modelo_xgboost = joblib.load('model_xgboost.pkl')\n",
    "modelo_xgboost"
   ]
  },
  {
   "cell_type": "code",
   "execution_count": 43,
   "metadata": {},
   "outputs": [],
   "source": [
    "modelo_xgboost=best_xgb_model"
   ]
  },
  {
   "cell_type": "code",
   "execution_count": 44,
   "metadata": {},
   "outputs": [],
   "source": [
    "model_train=modelo_xgboost.fit(X_train, y_train)\n",
    "\n",
    "# Evaluar el rendimiento del modelo en el conjunto de prueba\n",
    "y_pred = modelo_xgboost.predict(X_test)"
   ]
  },
  {
   "cell_type": "code",
   "execution_count": 46,
   "metadata": {},
   "outputs": [
    {
     "data": {
      "text/html": [
       "<style>#sk-container-id-2 {color: black;}#sk-container-id-2 pre{padding: 0;}#sk-container-id-2 div.sk-toggleable {background-color: white;}#sk-container-id-2 label.sk-toggleable__label {cursor: pointer;display: block;width: 100%;margin-bottom: 0;padding: 0.3em;box-sizing: border-box;text-align: center;}#sk-container-id-2 label.sk-toggleable__label-arrow:before {content: \"▸\";float: left;margin-right: 0.25em;color: #696969;}#sk-container-id-2 label.sk-toggleable__label-arrow:hover:before {color: black;}#sk-container-id-2 div.sk-estimator:hover label.sk-toggleable__label-arrow:before {color: black;}#sk-container-id-2 div.sk-toggleable__content {max-height: 0;max-width: 0;overflow: hidden;text-align: left;background-color: #f0f8ff;}#sk-container-id-2 div.sk-toggleable__content pre {margin: 0.2em;color: black;border-radius: 0.25em;background-color: #f0f8ff;}#sk-container-id-2 input.sk-toggleable__control:checked~div.sk-toggleable__content {max-height: 200px;max-width: 100%;overflow: auto;}#sk-container-id-2 input.sk-toggleable__control:checked~label.sk-toggleable__label-arrow:before {content: \"▾\";}#sk-container-id-2 div.sk-estimator input.sk-toggleable__control:checked~label.sk-toggleable__label {background-color: #d4ebff;}#sk-container-id-2 div.sk-label input.sk-toggleable__control:checked~label.sk-toggleable__label {background-color: #d4ebff;}#sk-container-id-2 input.sk-hidden--visually {border: 0;clip: rect(1px 1px 1px 1px);clip: rect(1px, 1px, 1px, 1px);height: 1px;margin: -1px;overflow: hidden;padding: 0;position: absolute;width: 1px;}#sk-container-id-2 div.sk-estimator {font-family: monospace;background-color: #f0f8ff;border: 1px dotted black;border-radius: 0.25em;box-sizing: border-box;margin-bottom: 0.5em;}#sk-container-id-2 div.sk-estimator:hover {background-color: #d4ebff;}#sk-container-id-2 div.sk-parallel-item::after {content: \"\";width: 100%;border-bottom: 1px solid gray;flex-grow: 1;}#sk-container-id-2 div.sk-label:hover label.sk-toggleable__label {background-color: #d4ebff;}#sk-container-id-2 div.sk-serial::before {content: \"\";position: absolute;border-left: 1px solid gray;box-sizing: border-box;top: 0;bottom: 0;left: 50%;z-index: 0;}#sk-container-id-2 div.sk-serial {display: flex;flex-direction: column;align-items: center;background-color: white;padding-right: 0.2em;padding-left: 0.2em;position: relative;}#sk-container-id-2 div.sk-item {position: relative;z-index: 1;}#sk-container-id-2 div.sk-parallel {display: flex;align-items: stretch;justify-content: center;background-color: white;position: relative;}#sk-container-id-2 div.sk-item::before, #sk-container-id-2 div.sk-parallel-item::before {content: \"\";position: absolute;border-left: 1px solid gray;box-sizing: border-box;top: 0;bottom: 0;left: 50%;z-index: -1;}#sk-container-id-2 div.sk-parallel-item {display: flex;flex-direction: column;z-index: 1;position: relative;background-color: white;}#sk-container-id-2 div.sk-parallel-item:first-child::after {align-self: flex-end;width: 50%;}#sk-container-id-2 div.sk-parallel-item:last-child::after {align-self: flex-start;width: 50%;}#sk-container-id-2 div.sk-parallel-item:only-child::after {width: 0;}#sk-container-id-2 div.sk-dashed-wrapped {border: 1px dashed gray;margin: 0 0.4em 0.5em 0.4em;box-sizing: border-box;padding-bottom: 0.4em;background-color: white;}#sk-container-id-2 div.sk-label label {font-family: monospace;font-weight: bold;display: inline-block;line-height: 1.2em;}#sk-container-id-2 div.sk-label-container {text-align: center;}#sk-container-id-2 div.sk-container {/* jupyter's `normalize.less` sets `[hidden] { display: none; }` but bootstrap.min.css set `[hidden] { display: none !important; }` so we also need the `!important` here to be able to override the default hidden behavior on the sphinx rendered scikit-learn.org. See: https://github.com/scikit-learn/scikit-learn/issues/21755 */display: inline-block !important;position: relative;}#sk-container-id-2 div.sk-text-repr-fallback {display: none;}</style><div id=\"sk-container-id-2\" class=\"sk-top-container\"><div class=\"sk-text-repr-fallback\"><pre>XGBRegressor(base_score=None, booster=None, callbacks=None,\n",
       "             colsample_bylevel=None, colsample_bynode=None,\n",
       "             colsample_bytree=None, device=None, early_stopping_rounds=None,\n",
       "             enable_categorical=False, eval_metric=None, feature_types=None,\n",
       "             gamma=None, grow_policy=None, importance_type=None,\n",
       "             interaction_constraints=None, learning_rate=0.3, max_bin=None,\n",
       "             max_cat_threshold=None, max_cat_to_onehot=None,\n",
       "             max_delta_step=None, max_depth=7, max_leaves=None,\n",
       "             min_child_weight=None, missing=nan, monotone_constraints=None,\n",
       "             multi_strategy=None, n_estimators=100, n_jobs=None,\n",
       "             num_parallel_tree=None, random_state=None, ...)</pre><b>In a Jupyter environment, please rerun this cell to show the HTML representation or trust the notebook. <br />On GitHub, the HTML representation is unable to render, please try loading this page with nbviewer.org.</b></div><div class=\"sk-container\" hidden><div class=\"sk-item\"><div class=\"sk-estimator sk-toggleable\"><input class=\"sk-toggleable__control sk-hidden--visually\" id=\"sk-estimator-id-2\" type=\"checkbox\" checked><label for=\"sk-estimator-id-2\" class=\"sk-toggleable__label sk-toggleable__label-arrow\">XGBRegressor</label><div class=\"sk-toggleable__content\"><pre>XGBRegressor(base_score=None, booster=None, callbacks=None,\n",
       "             colsample_bylevel=None, colsample_bynode=None,\n",
       "             colsample_bytree=None, device=None, early_stopping_rounds=None,\n",
       "             enable_categorical=False, eval_metric=None, feature_types=None,\n",
       "             gamma=None, grow_policy=None, importance_type=None,\n",
       "             interaction_constraints=None, learning_rate=0.3, max_bin=None,\n",
       "             max_cat_threshold=None, max_cat_to_onehot=None,\n",
       "             max_delta_step=None, max_depth=7, max_leaves=None,\n",
       "             min_child_weight=None, missing=nan, monotone_constraints=None,\n",
       "             multi_strategy=None, n_estimators=100, n_jobs=None,\n",
       "             num_parallel_tree=None, random_state=None, ...)</pre></div></div></div></div></div>"
      ],
      "text/plain": [
       "XGBRegressor(base_score=None, booster=None, callbacks=None,\n",
       "             colsample_bylevel=None, colsample_bynode=None,\n",
       "             colsample_bytree=None, device=None, early_stopping_rounds=None,\n",
       "             enable_categorical=False, eval_metric=None, feature_types=None,\n",
       "             gamma=None, grow_policy=None, importance_type=None,\n",
       "             interaction_constraints=None, learning_rate=0.3, max_bin=None,\n",
       "             max_cat_threshold=None, max_cat_to_onehot=None,\n",
       "             max_delta_step=None, max_depth=7, max_leaves=None,\n",
       "             min_child_weight=None, missing=nan, monotone_constraints=None,\n",
       "             multi_strategy=None, n_estimators=100, n_jobs=None,\n",
       "             num_parallel_tree=None, random_state=None, ...)"
      ]
     },
     "execution_count": 46,
     "metadata": {},
     "output_type": "execute_result"
    }
   ],
   "source": [
    "model_train"
   ]
  },
  {
   "cell_type": "markdown",
   "metadata": {},
   "source": [
    "## Imputación de missing values para la precipitación"
   ]
  },
  {
   "cell_type": "code",
   "execution_count": 47,
   "metadata": {},
   "outputs": [],
   "source": [
    "\n",
    "from joblib import Parallel, delayed\n",
    "from sklearn.impute import SimpleImputer\n",
    "from xgboost import XGBRegressor\n",
    "import pandas as pd\n",
    "\n",
    "from joblib import Parallel, delayed\n",
    "\n",
    "# Encontrar los índices donde la variable objetivo (y_test) tiene valores faltantes\n",
    "missing_indices = y_test[y_test.isnull()].index\n",
    "\n",
    "# Función para predecir valores faltantes usando el modelo XGBoost\n",
    "def predict_missing_values(index, X_test, model_train):\n",
    "    imputed_value = model_train.predict(X_test.loc[index].values.reshape(1, -1))\n",
    "    return index, imputed_value[0]\n",
    "\n",
    "# Paralelizar el proceso de predicción de valores faltantes\n",
    "with parallel_backend('loky'):\n",
    "    imputed_values = Parallel(n_jobs=-1)(\n",
    "        delayed(predict_missing_values)(index, X_test, model_train) for index in missing_indices\n",
    "    )\n",
    "\n",
    "# Actualizar los valores faltantes en y_test con las predicciones\n",
    "for index, value in imputed_values:\n",
    "    y_test.loc[index] = value\n"
   ]
  },
  {
   "cell_type": "code",
   "execution_count": 48,
   "metadata": {},
   "outputs": [
    {
     "data": {
      "text/plain": [
       "93080      2.473347\n",
       "429552     8.801516\n",
       "27053      2.757987\n",
       "54398      5.274879\n",
       "219410     6.345012\n",
       "            ...    \n",
       "1443       0.000000\n",
       "261237     0.000000\n",
       "208126    32.000000\n",
       "597043     2.000000\n",
       "632942     0.000000\n",
       "Name: prec, Length: 118425, dtype: float64"
      ]
     },
     "execution_count": 48,
     "metadata": {},
     "output_type": "execute_result"
    }
   ],
   "source": [
    "y_test"
   ]
  },
  {
   "cell_type": "code",
   "execution_count": 56,
   "metadata": {},
   "outputs": [
    {
     "data": {
      "text/html": [
       "<div>\n",
       "<style scoped>\n",
       "    .dataframe tbody tr th:only-of-type {\n",
       "        vertical-align: middle;\n",
       "    }\n",
       "\n",
       "    .dataframe tbody tr th {\n",
       "        vertical-align: top;\n",
       "    }\n",
       "\n",
       "    .dataframe thead th {\n",
       "        text-align: right;\n",
       "    }\n",
       "</style>\n",
       "<table border=\"1\" class=\"dataframe\">\n",
       "  <thead>\n",
       "    <tr style=\"text-align: right;\">\n",
       "      <th></th>\n",
       "      <th>prec</th>\n",
       "    </tr>\n",
       "  </thead>\n",
       "  <tbody>\n",
       "    <tr>\n",
       "      <th>93080</th>\n",
       "      <td>0.00008</td>\n",
       "    </tr>\n",
       "    <tr>\n",
       "      <th>429552</th>\n",
       "      <td>0.00008</td>\n",
       "    </tr>\n",
       "    <tr>\n",
       "      <th>27053</th>\n",
       "      <td>0.00008</td>\n",
       "    </tr>\n",
       "    <tr>\n",
       "      <th>54398</th>\n",
       "      <td>0.00008</td>\n",
       "    </tr>\n",
       "    <tr>\n",
       "      <th>219410</th>\n",
       "      <td>0.00008</td>\n",
       "    </tr>\n",
       "    <tr>\n",
       "      <th>...</th>\n",
       "      <td>...</td>\n",
       "    </tr>\n",
       "    <tr>\n",
       "      <th>1443</th>\n",
       "      <td>0.00000</td>\n",
       "    </tr>\n",
       "    <tr>\n",
       "      <th>261237</th>\n",
       "      <td>0.00000</td>\n",
       "    </tr>\n",
       "    <tr>\n",
       "      <th>208126</th>\n",
       "      <td>32.00000</td>\n",
       "    </tr>\n",
       "    <tr>\n",
       "      <th>597043</th>\n",
       "      <td>2.00000</td>\n",
       "    </tr>\n",
       "    <tr>\n",
       "      <th>632942</th>\n",
       "      <td>0.00000</td>\n",
       "    </tr>\n",
       "  </tbody>\n",
       "</table>\n",
       "<p>118425 rows × 1 columns</p>\n",
       "</div>"
      ],
      "text/plain": [
       "            prec\n",
       "93080    0.00008\n",
       "429552   0.00008\n",
       "27053    0.00008\n",
       "54398    0.00008\n",
       "219410   0.00008\n",
       "...          ...\n",
       "1443     0.00000\n",
       "261237   0.00000\n",
       "208126  32.00000\n",
       "597043   2.00000\n",
       "632942   0.00000\n",
       "\n",
       "[118425 rows x 1 columns]"
      ]
     },
     "execution_count": 56,
     "metadata": {},
     "output_type": "execute_result"
    }
   ],
   "source": [
    "imputed_values"
   ]
  },
  {
   "cell_type": "code",
   "execution_count": 48,
   "metadata": {},
   "outputs": [
    {
     "data": {
      "text/plain": [
       "59212"
      ]
     },
     "execution_count": 48,
     "metadata": {},
     "output_type": "execute_result"
    }
   ],
   "source": [
    "len(imputed_values)"
   ]
  },
  {
   "cell_type": "code",
   "execution_count": 49,
   "metadata": {},
   "outputs": [
    {
     "data": {
      "text/plain": [
       "59212"
      ]
     },
     "execution_count": 49,
     "metadata": {},
     "output_type": "execute_result"
    }
   ],
   "source": [
    "len(missing_indices)"
   ]
  },
  {
   "cell_type": "code",
   "execution_count": 50,
   "metadata": {},
   "outputs": [
    {
     "name": "stdout",
     "output_type": "stream",
     "text": [
      "Cantidad de valores faltantes después de la imputación: 0\n"
     ]
    }
   ],
   "source": [
    "# Conteo de valores faltantes después de la imputación\n",
    "missing_values_after_imputation = y_test.isnull().sum()\n",
    "print(\"Cantidad de valores faltantes después de la imputación:\", missing_values_after_imputation)\n"
   ]
  },
  {
   "cell_type": "code",
   "execution_count": 51,
   "metadata": {},
   "outputs": [
    {
     "name": "stdout",
     "output_type": "stream",
     "text": [
      "        Original   Imputed\n",
      "93080        0.0   0.00008\n",
      "429552       0.0   0.00008\n",
      "27053        0.0   0.00008\n",
      "54398        0.0   0.00008\n",
      "219410       0.0   0.00008\n",
      "...          ...       ...\n",
      "1443         0.0   0.00000\n",
      "261237       0.0   0.00000\n",
      "208126      32.0  32.00000\n",
      "597043       2.0   2.00000\n",
      "632942       0.0   0.00000\n",
      "\n",
      "[118425 rows x 2 columns]\n"
     ]
    }
   ],
   "source": [
    "# Convertir y_test en un DataFrame\n",
    "y_test_df = pd.DataFrame(y_test)\n",
    "\n",
    "# Obtener algunos valores originales y valores imputados para comparar\n",
    "original_values = data_completa_mod['Original'].loc[y_test_df.index]\n",
    "imputed_values = y_test_df.copy()  # Hacer una copia de y_test para mantener los valores originales\n",
    "\n",
    "# Asignar los valores imputados en los índices faltantes\n",
    "for idx, value in imputed_values.iterrows():\n",
    "    if idx in missing_indices:\n",
    "      valor_imputado_para_idx = imputed_values.loc[idx, 'prec']  # Reemplazar con el valor predicho\n",
    "      imputed_values.loc[idx, 'prec'] = valor_imputado_para_idx\n",
    "# Comparación de valores originales e imputados (por ejemplo, mostrando los primeros 10)\n",
    "comparison_df = pd.DataFrame({'Original': original_values, 'Imputed': imputed_values['prec']})\n",
    "print(comparison_df)\n"
   ]
  },
  {
   "cell_type": "code",
   "execution_count": 52,
   "metadata": {},
   "outputs": [
    {
     "name": "stdout",
     "output_type": "stream",
     "text": [
      "         Año  Mes  Día       LAT        LON        ID  Original   Imputed   \n",
      "93080   2003    1   27  3.742333 -73.834694  32060060       0.0   0.00008  \\\n",
      "429552  2015   11    6  3.793889 -73.149722  35010080       0.0   0.00008   \n",
      "27053   2001    2    8  2.322500 -73.943889  32030020       0.0   0.00008   \n",
      "54398   2006    7   31  2.438389 -73.932278  32035020       0.0   0.00008   \n",
      "219410  1994    8   21  3.375083 -73.891944  32070100       0.0   0.00008   \n",
      "...      ...  ...  ...       ...        ...       ...       ...       ...   \n",
      "1443    1987    5   22  2.562833 -74.103083  32010010       0.0   0.00000   \n",
      "261237  1987    2   14  3.516333 -73.716028  32075040       0.0   0.00000   \n",
      "208126  1996    4   29  3.316667 -73.916667  32070090      32.0  32.00000   \n",
      "597043  2005    2   12  4.468667 -72.953583  35105050       2.0   2.00000   \n",
      "632942  1994    2   27  3.956083 -72.765722  35130010       0.0   0.00000   \n",
      "\n",
      "        Original  \n",
      "93080        0.0  \n",
      "429552       0.0  \n",
      "27053        0.0  \n",
      "54398        0.0  \n",
      "219410       0.0  \n",
      "...          ...  \n",
      "1443         0.0  \n",
      "261237       0.0  \n",
      "208126      32.0  \n",
      "597043       2.0  \n",
      "632942       0.0  \n",
      "\n",
      "[118425 rows x 9 columns]\n"
     ]
    }
   ],
   "source": [
    "# Concatenar las columnas 'Precipitacion' de data y imputed_data en un nuevo DataFrame\n",
    "merged_data = pd.concat([X_test, comparison_df[['Imputed','Original']]], axis=1)\n",
    "\n",
    "# Verificar el nuevo DataFrame que contiene ambas columnas\n",
    "print(merged_data)"
   ]
  },
  {
   "cell_type": "markdown",
   "metadata": {},
   "source": [
    "## Métricas "
   ]
  },
  {
   "cell_type": "code",
   "execution_count": 112,
   "metadata": {},
   "outputs": [
    {
     "name": "stdout",
     "output_type": "stream",
     "text": [
      "[ 6.8         8.         13.23229218 ...  0.1         0.1\n",
      " 11.22343254] Columna de precipitacion imputada\n"
     ]
    },
    {
     "data": {
      "text/plain": [
       "592124"
      ]
     },
     "execution_count": 112,
     "metadata": {},
     "output_type": "execute_result"
    }
   ],
   "source": [
    "print(X2[:, 3] ,\"Columna de precipitacion imputada\")\n",
    "\n",
    "len(X2[:, 3]) # numero de datos"
   ]
  },
  {
   "cell_type": "code",
   "execution_count": 119,
   "metadata": {},
   "outputs": [
    {
     "data": {
      "text/plain": [
       "array([[  3.        ,   5.        ,   8.        ,   6.8       ,\n",
       "          2.56283333, -74.10308333],\n",
       "       [ 25.        ,   5.        ,  17.        ,   8.        ,\n",
       "          2.56283333, -74.10308333],\n",
       "       [ 25.        ,   5.        ,  18.        ,  13.23229218,\n",
       "          2.56283333, -74.10308333],\n",
       "       ...,\n",
       "       [ 28.        ,   7.        ,  11.        ,   0.1       ,\n",
       "          4.26036111, -72.56447222],\n",
       "       [ 28.        ,   7.        ,   6.        ,   0.1       ,\n",
       "          4.26036111, -72.56447222],\n",
       "       [ 34.        ,   6.        ,  17.        ,  11.22343254,\n",
       "          4.26036111, -72.56447222]])"
      ]
     },
     "execution_count": 119,
     "metadata": {},
     "output_type": "execute_result"
    }
   ],
   "source": [
    "X2"
   ]
  },
  {
   "cell_type": "code",
   "execution_count": 116,
   "metadata": {},
   "outputs": [
    {
     "name": "stdout",
     "output_type": "stream",
     "text": [
      "<class 'pandas.core.frame.DataFrame'>\n",
      "Int64Index: 592124 entries, 0 to 656435\n",
      "Data columns (total 7 columns):\n",
      " #   Column    Non-Null Count   Dtype  \n",
      "---  ------    --------------   -----  \n",
      " 0   Año       592124 non-null  int64  \n",
      " 1   Mes       592124 non-null  int64  \n",
      " 2   Día       592124 non-null  int64  \n",
      " 3   prec      532912 non-null  float64\n",
      " 4   LAT       592124 non-null  float64\n",
      " 5   LON       592124 non-null  float64\n",
      " 6   Original  592124 non-null  float64\n",
      "dtypes: float64(4), int64(3)\n",
      "memory usage: 52.3 MB\n"
     ]
    }
   ],
   "source": [
    "data_completa_mod.info()"
   ]
  },
  {
   "cell_type": "code",
   "execution_count": 129,
   "metadata": {},
   "outputs": [
    {
     "data": {
      "text/html": [
       "<div>\n",
       "<style scoped>\n",
       "    .dataframe tbody tr th:only-of-type {\n",
       "        vertical-align: middle;\n",
       "    }\n",
       "\n",
       "    .dataframe tbody tr th {\n",
       "        vertical-align: top;\n",
       "    }\n",
       "\n",
       "    .dataframe thead th {\n",
       "        text-align: right;\n",
       "    }\n",
       "</style>\n",
       "<table border=\"1\" class=\"dataframe\">\n",
       "  <thead>\n",
       "    <tr style=\"text-align: right;\">\n",
       "      <th></th>\n",
       "      <th>Original</th>\n",
       "    </tr>\n",
       "  </thead>\n",
       "  <tbody>\n",
       "    <tr>\n",
       "      <th>0</th>\n",
       "      <td>6.8</td>\n",
       "    </tr>\n",
       "    <tr>\n",
       "      <th>8045</th>\n",
       "      <td>8.0</td>\n",
       "    </tr>\n",
       "    <tr>\n",
       "      <th>8046</th>\n",
       "      <td>12.0</td>\n",
       "    </tr>\n",
       "    <tr>\n",
       "      <th>8047</th>\n",
       "      <td>0.0</td>\n",
       "    </tr>\n",
       "    <tr>\n",
       "      <th>8048</th>\n",
       "      <td>4.0</td>\n",
       "    </tr>\n",
       "    <tr>\n",
       "      <th>...</th>\n",
       "      <td>...</td>\n",
       "    </tr>\n",
       "    <tr>\n",
       "      <th>654265</th>\n",
       "      <td>0.0</td>\n",
       "    </tr>\n",
       "    <tr>\n",
       "      <th>654268</th>\n",
       "      <td>3.7</td>\n",
       "    </tr>\n",
       "    <tr>\n",
       "      <th>654269</th>\n",
       "      <td>0.1</td>\n",
       "    </tr>\n",
       "    <tr>\n",
       "      <th>654264</th>\n",
       "      <td>0.1</td>\n",
       "    </tr>\n",
       "    <tr>\n",
       "      <th>656435</th>\n",
       "      <td>0.0</td>\n",
       "    </tr>\n",
       "  </tbody>\n",
       "</table>\n",
       "<p>592124 rows × 1 columns</p>\n",
       "</div>"
      ],
      "text/plain": [
       "        Original\n",
       "0            6.8\n",
       "8045         8.0\n",
       "8046        12.0\n",
       "8047         0.0\n",
       "8048         4.0\n",
       "...          ...\n",
       "654265       0.0\n",
       "654268       3.7\n",
       "654269       0.1\n",
       "654264       0.1\n",
       "656435       0.0\n",
       "\n",
       "[592124 rows x 1 columns]"
      ]
     },
     "execution_count": 129,
     "metadata": {},
     "output_type": "execute_result"
    }
   ],
   "source": [
    "data_completa_mod[['Original']]"
   ]
  },
  {
   "cell_type": "code",
   "execution_count": 16,
   "metadata": {},
   "outputs": [],
   "source": [
    "import pandas as pd\n",
    "import numpy as np\n",
    "\n",
    "# Suponiendo que 'data_completa_mod' es tu dataframe\n",
    "array_mod = data_completa_mod.values"
   ]
  },
  {
   "cell_type": "markdown",
   "metadata": {},
   "source": [
    "para el 15%"
   ]
  },
  {
   "cell_type": "code",
   "execution_count": 19,
   "metadata": {},
   "outputs": [],
   "source": [
    "import pandas as pd\n",
    "import numpy as np\n",
    "\n",
    "# Suponiendo que 'data_completa_mod' es tu dataframe\n",
    "array_mod15p = data_completa_mod15p.values"
   ]
  },
  {
   "cell_type": "markdown",
   "metadata": {},
   "source": [
    "para el 20%"
   ]
  },
  {
   "cell_type": "code",
   "execution_count": 20,
   "metadata": {},
   "outputs": [],
   "source": [
    "import pandas as pd\n",
    "import numpy as np\n",
    "\n",
    "# Suponiendo que 'data_completa_mod' es tu dataframe\n",
    "array_mod20p = data_completa_mod20p.values"
   ]
  },
  {
   "cell_type": "code",
   "execution_count": 121,
   "metadata": {},
   "outputs": [
    {
     "data": {
      "text/plain": [
       "array([[ 1.98300000e+03,  6.00000000e+00,  9.00000000e+00, ...,\n",
       "         2.56283333e+00, -7.41030833e+01,  6.80000000e+00],\n",
       "       [ 2.00500000e+03,  6.00000000e+00,  1.80000000e+01, ...,\n",
       "         2.56283333e+00, -7.41030833e+01,  8.00000000e+00],\n",
       "       [ 2.00500000e+03,  6.00000000e+00,  1.90000000e+01, ...,\n",
       "         2.56283333e+00, -7.41030833e+01,  1.20000000e+01],\n",
       "       ...,\n",
       "       [ 2.00800000e+03,  8.00000000e+00,  1.20000000e+01, ...,\n",
       "         4.26036111e+00, -7.25644722e+01,  1.00000000e-01],\n",
       "       [ 2.00800000e+03,  8.00000000e+00,  7.00000000e+00, ...,\n",
       "         4.26036111e+00, -7.25644722e+01,  1.00000000e-01],\n",
       "       [ 2.01400000e+03,  7.00000000e+00,  1.80000000e+01, ...,\n",
       "         4.26036111e+00, -7.25644722e+01,  0.00000000e+00]])"
      ]
     },
     "execution_count": 121,
     "metadata": {},
     "output_type": "execute_result"
    }
   ],
   "source": [
    "array_mod"
   ]
  },
  {
   "cell_type": "code",
   "execution_count": 110,
   "metadata": {},
   "outputs": [
    {
     "data": {
      "text/html": [
       "<div>\n",
       "<style scoped>\n",
       "    .dataframe tbody tr th:only-of-type {\n",
       "        vertical-align: middle;\n",
       "    }\n",
       "\n",
       "    .dataframe tbody tr th {\n",
       "        vertical-align: top;\n",
       "    }\n",
       "\n",
       "    .dataframe thead th {\n",
       "        text-align: right;\n",
       "    }\n",
       "</style>\n",
       "<table border=\"1\" class=\"dataframe\">\n",
       "  <thead>\n",
       "    <tr style=\"text-align: right;\">\n",
       "      <th></th>\n",
       "      <th>Original</th>\n",
       "    </tr>\n",
       "  </thead>\n",
       "  <tbody>\n",
       "    <tr>\n",
       "      <th>0</th>\n",
       "      <td>6.8</td>\n",
       "    </tr>\n",
       "    <tr>\n",
       "      <th>8045</th>\n",
       "      <td>8.0</td>\n",
       "    </tr>\n",
       "    <tr>\n",
       "      <th>8046</th>\n",
       "      <td>12.0</td>\n",
       "    </tr>\n",
       "    <tr>\n",
       "      <th>8047</th>\n",
       "      <td>0.0</td>\n",
       "    </tr>\n",
       "    <tr>\n",
       "      <th>8048</th>\n",
       "      <td>4.0</td>\n",
       "    </tr>\n",
       "    <tr>\n",
       "      <th>...</th>\n",
       "      <td>...</td>\n",
       "    </tr>\n",
       "    <tr>\n",
       "      <th>654265</th>\n",
       "      <td>0.0</td>\n",
       "    </tr>\n",
       "    <tr>\n",
       "      <th>654268</th>\n",
       "      <td>3.7</td>\n",
       "    </tr>\n",
       "    <tr>\n",
       "      <th>654269</th>\n",
       "      <td>0.1</td>\n",
       "    </tr>\n",
       "    <tr>\n",
       "      <th>654264</th>\n",
       "      <td>0.1</td>\n",
       "    </tr>\n",
       "    <tr>\n",
       "      <th>656435</th>\n",
       "      <td>0.0</td>\n",
       "    </tr>\n",
       "  </tbody>\n",
       "</table>\n",
       "<p>592124 rows × 1 columns</p>\n",
       "</div>"
      ],
      "text/plain": [
       "        Original\n",
       "0            6.8\n",
       "8045         8.0\n",
       "8046        12.0\n",
       "8047         0.0\n",
       "8048         4.0\n",
       "...          ...\n",
       "654265       0.0\n",
       "654268       3.7\n",
       "654269       0.1\n",
       "654264       0.1\n",
       "656435       0.0\n",
       "\n",
       "[592124 rows x 1 columns]"
      ]
     },
     "execution_count": 110,
     "metadata": {},
     "output_type": "execute_result"
    }
   ],
   "source": [
    "data_completa_mod[['Original']]"
   ]
  },
  {
   "cell_type": "code",
   "execution_count": 122,
   "metadata": {},
   "outputs": [
    {
     "name": "stdout",
     "output_type": "stream",
     "text": [
      "RMSE: 5.21619869203671\n",
      "MAE: 1.0133019095673752\n",
      "MAPE: 26.019196223131054\n",
      "R2: 0.9147507837736155\n"
     ]
    }
   ],
   "source": [
    "import numpy as np\n",
    "from sklearn.metrics import mean_squared_error, mean_absolute_error, r2_score\n",
    "\n",
    "# Definir una función para calcular MAPE\n",
    "def mean_absolute_percentage_error(y_true, y_pred): \n",
    "    y_true, y_pred = np.array(y_true), np.array(y_pred)\n",
    "    non_zero_mask = y_true != 0\n",
    "    return np.mean(np.abs((y_true[non_zero_mask] - y_pred[non_zero_mask]) / y_true[non_zero_mask])) * 100\n",
    "\n",
    "# Seleccionar la columna 6 de escalados2 y la columna 3 de imputados_dis\n",
    "valores_originales = array_mod[:, 6]\n",
    "valores_imputados = X2[:, 3]\n",
    "\n",
    "# Calcular RMSE\n",
    "rmse = np.sqrt(mean_squared_error(valores_originales, valores_imputados))\n",
    "\n",
    "# Calcular MAE\n",
    "mae = mean_absolute_error(valores_originales, valores_imputados)\n",
    "\n",
    "# Calcular MAPE\n",
    "mape = mean_absolute_percentage_error(valores_originales, valores_imputados)\n",
    "\n",
    "# Calcular R2\n",
    "r2 = r2_score(valores_originales, valores_imputados)\n",
    "\n",
    "print(f\"RMSE: {rmse}\")\n",
    "print(f\"MAE: {mae}\")\n",
    "print(f\"MAPE: {mape}\")\n",
    "print(f\"R2: {r2}\")"
   ]
  },
  {
   "cell_type": "code",
   "execution_count": 21,
   "metadata": {},
   "outputs": [
    {
     "name": "stdout",
     "output_type": "stream",
     "text": [
      "RMSE: 5.21619869203671\n",
      "MAE: 1.0133019095673752\n",
      "MAPE: 26.019196223131054\n",
      "R2: 0.9147507837736155\n"
     ]
    }
   ],
   "source": [
    "import numpy as np\n",
    "from sklearn.metrics import mean_squared_error, mean_absolute_error, r2_score\n",
    "\n",
    "# Definir una función para calcular MAPE\n",
    "def mean_absolute_percentage_error(y_true, y_pred): \n",
    "    y_true, y_pred = np.array(y_true), np.array(y_pred)\n",
    "    non_zero_mask = y_true != 0\n",
    "    return np.mean(np.abs((y_true[non_zero_mask] - y_pred[non_zero_mask]) / y_true[non_zero_mask])) * 100\n",
    "\n",
    "# Seleccionar la columna 6 de escalados2 y la columna 3 de imputados_dis\n",
    "valores_originales = array_mod[:, 6]\n",
    "valores_imputados = X2[:, 3]\n",
    "\n",
    "# Calcular RMSE\n",
    "rmse = np.sqrt(mean_squared_error(valores_originales, valores_imputados))\n",
    "\n",
    "# Calcular MAE\n",
    "mae = mean_absolute_error(valores_originales, valores_imputados)\n",
    "\n",
    "# Calcular MAPE\n",
    "mape = mean_absolute_percentage_error(valores_originales, valores_imputados)\n",
    "\n",
    "# Calcular R2\n",
    "r2 = r2_score(valores_originales, valores_imputados)\n",
    "\n",
    "print(f\"RMSE: {rmse}\")\n",
    "print(f\"MAE: {mae}\")\n",
    "print(f\"MAPE: {mape}\")\n",
    "print(f\"R2: {r2}\")"
   ]
  },
  {
   "cell_type": "code",
   "execution_count": 23,
   "metadata": {},
   "outputs": [],
   "source": [
    "X2data = pd.DataFrame(X2)\n"
   ]
  },
  {
   "cell_type": "code",
   "execution_count": 25,
   "metadata": {},
   "outputs": [
    {
     "data": {
      "text/plain": [
       "array([[  3.        ,   5.        ,   8.        ,   6.8       ,\n",
       "          2.56283333, -74.10308333],\n",
       "       [ 25.        ,   5.        ,  17.        ,   8.        ,\n",
       "          2.56283333, -74.10308333],\n",
       "       [ 25.        ,   5.        ,  18.        ,  13.23229218,\n",
       "          2.56283333, -74.10308333],\n",
       "       ...,\n",
       "       [ 28.        ,   7.        ,  11.        ,   0.1       ,\n",
       "          4.26036111, -72.56447222],\n",
       "       [ 28.        ,   7.        ,   6.        ,   0.1       ,\n",
       "          4.26036111, -72.56447222],\n",
       "       [ 34.        ,   6.        ,  17.        ,  11.22343254,\n",
       "          4.26036111, -72.56447222]])"
      ]
     },
     "execution_count": 25,
     "metadata": {},
     "output_type": "execute_result"
    }
   ],
   "source": [
    "X2"
   ]
  },
  {
   "cell_type": "code",
   "execution_count": 26,
   "metadata": {},
   "outputs": [
    {
     "ename": "NameError",
     "evalue": "name 'data_orinal_array' is not defined",
     "output_type": "error",
     "traceback": [
      "\u001b[1;31m---------------------------------------------------------------------------\u001b[0m",
      "\u001b[1;31mNameError\u001b[0m                                 Traceback (most recent call last)",
      "Input \u001b[1;32mIn [26]\u001b[0m, in \u001b[0;36m<cell line: 1>\u001b[1;34m()\u001b[0m\n\u001b[1;32m----> 1\u001b[0m valores_originales \u001b[38;5;241m=\u001b[39m \u001b[43mdata_orinal_array\u001b[49m[:, \u001b[38;5;241m6\u001b[39m]\n\u001b[0;32m      2\u001b[0m valores_imputados \u001b[38;5;241m=\u001b[39m X2array[:, \u001b[38;5;241m3\u001b[39m]\n\u001b[0;32m      4\u001b[0m \u001b[38;5;66;03m# Selección de las columnas de IDs\u001b[39;00m\n",
      "\u001b[1;31mNameError\u001b[0m: name 'data_orinal_array' is not defined"
     ]
    }
   ],
   "source": [
    "valores_originales = data_orinal_array[:, 6]\n",
    "valores_imputados = X2array[:, 3]\n",
    "\n",
    "# Selección de las columnas de IDs\n",
    "ids_originales = data_orinal_array[:, 7]\n",
    "ids_imputados = X2array[:, 6]\n"
   ]
  },
  {
   "cell_type": "code",
   "execution_count": 44,
   "metadata": {},
   "outputs": [
    {
     "data": {
      "text/html": [
       "<div>\n",
       "<style scoped>\n",
       "    .dataframe tbody tr th:only-of-type {\n",
       "        vertical-align: middle;\n",
       "    }\n",
       "\n",
       "    .dataframe tbody tr th {\n",
       "        vertical-align: top;\n",
       "    }\n",
       "\n",
       "    .dataframe thead th {\n",
       "        text-align: right;\n",
       "    }\n",
       "</style>\n",
       "<table border=\"1\" class=\"dataframe\">\n",
       "  <thead>\n",
       "    <tr style=\"text-align: right;\">\n",
       "      <th></th>\n",
       "      <th>0</th>\n",
       "      <th>1</th>\n",
       "      <th>2</th>\n",
       "      <th>3</th>\n",
       "      <th>4</th>\n",
       "      <th>5</th>\n",
       "      <th>ID</th>\n",
       "    </tr>\n",
       "  </thead>\n",
       "  <tbody>\n",
       "    <tr>\n",
       "      <th>0</th>\n",
       "      <td>3.0</td>\n",
       "      <td>5.0</td>\n",
       "      <td>8.0</td>\n",
       "      <td>6.800000</td>\n",
       "      <td>2.562833</td>\n",
       "      <td>-74.103083</td>\n",
       "      <td>32010010.0</td>\n",
       "    </tr>\n",
       "    <tr>\n",
       "      <th>1</th>\n",
       "      <td>25.0</td>\n",
       "      <td>5.0</td>\n",
       "      <td>17.0</td>\n",
       "      <td>8.000000</td>\n",
       "      <td>2.562833</td>\n",
       "      <td>-74.103083</td>\n",
       "      <td>32010010.0</td>\n",
       "    </tr>\n",
       "    <tr>\n",
       "      <th>2</th>\n",
       "      <td>25.0</td>\n",
       "      <td>5.0</td>\n",
       "      <td>18.0</td>\n",
       "      <td>13.232292</td>\n",
       "      <td>2.562833</td>\n",
       "      <td>-74.103083</td>\n",
       "      <td>32010010.0</td>\n",
       "    </tr>\n",
       "    <tr>\n",
       "      <th>3</th>\n",
       "      <td>25.0</td>\n",
       "      <td>5.0</td>\n",
       "      <td>19.0</td>\n",
       "      <td>0.000000</td>\n",
       "      <td>2.562833</td>\n",
       "      <td>-74.103083</td>\n",
       "      <td>32010010.0</td>\n",
       "    </tr>\n",
       "    <tr>\n",
       "      <th>4</th>\n",
       "      <td>25.0</td>\n",
       "      <td>5.0</td>\n",
       "      <td>20.0</td>\n",
       "      <td>4.000000</td>\n",
       "      <td>2.562833</td>\n",
       "      <td>-74.103083</td>\n",
       "      <td>32010010.0</td>\n",
       "    </tr>\n",
       "    <tr>\n",
       "      <th>...</th>\n",
       "      <td>...</td>\n",
       "      <td>...</td>\n",
       "      <td>...</td>\n",
       "      <td>...</td>\n",
       "      <td>...</td>\n",
       "      <td>...</td>\n",
       "      <td>...</td>\n",
       "    </tr>\n",
       "    <tr>\n",
       "      <th>592119</th>\n",
       "      <td>28.0</td>\n",
       "      <td>7.0</td>\n",
       "      <td>7.0</td>\n",
       "      <td>0.000000</td>\n",
       "      <td>4.260361</td>\n",
       "      <td>-72.564472</td>\n",
       "      <td>35100020.0</td>\n",
       "    </tr>\n",
       "    <tr>\n",
       "      <th>592120</th>\n",
       "      <td>28.0</td>\n",
       "      <td>7.0</td>\n",
       "      <td>10.0</td>\n",
       "      <td>3.700000</td>\n",
       "      <td>4.260361</td>\n",
       "      <td>-72.564472</td>\n",
       "      <td>35100020.0</td>\n",
       "    </tr>\n",
       "    <tr>\n",
       "      <th>592121</th>\n",
       "      <td>28.0</td>\n",
       "      <td>7.0</td>\n",
       "      <td>11.0</td>\n",
       "      <td>0.100000</td>\n",
       "      <td>4.260361</td>\n",
       "      <td>-72.564472</td>\n",
       "      <td>35100020.0</td>\n",
       "    </tr>\n",
       "    <tr>\n",
       "      <th>592122</th>\n",
       "      <td>28.0</td>\n",
       "      <td>7.0</td>\n",
       "      <td>6.0</td>\n",
       "      <td>0.100000</td>\n",
       "      <td>4.260361</td>\n",
       "      <td>-72.564472</td>\n",
       "      <td>35100020.0</td>\n",
       "    </tr>\n",
       "    <tr>\n",
       "      <th>592123</th>\n",
       "      <td>34.0</td>\n",
       "      <td>6.0</td>\n",
       "      <td>17.0</td>\n",
       "      <td>11.223433</td>\n",
       "      <td>4.260361</td>\n",
       "      <td>-72.564472</td>\n",
       "      <td>35100020.0</td>\n",
       "    </tr>\n",
       "  </tbody>\n",
       "</table>\n",
       "<p>592124 rows × 7 columns</p>\n",
       "</div>"
      ],
      "text/plain": [
       "           0    1     2          3         4          5          ID\n",
       "0        3.0  5.0   8.0   6.800000  2.562833 -74.103083  32010010.0\n",
       "1       25.0  5.0  17.0   8.000000  2.562833 -74.103083  32010010.0\n",
       "2       25.0  5.0  18.0  13.232292  2.562833 -74.103083  32010010.0\n",
       "3       25.0  5.0  19.0   0.000000  2.562833 -74.103083  32010010.0\n",
       "4       25.0  5.0  20.0   4.000000  2.562833 -74.103083  32010010.0\n",
       "...      ...  ...   ...        ...       ...        ...         ...\n",
       "592119  28.0  7.0   7.0   0.000000  4.260361 -72.564472  35100020.0\n",
       "592120  28.0  7.0  10.0   3.700000  4.260361 -72.564472  35100020.0\n",
       "592121  28.0  7.0  11.0   0.100000  4.260361 -72.564472  35100020.0\n",
       "592122  28.0  7.0   6.0   0.100000  4.260361 -72.564472  35100020.0\n",
       "592123  34.0  6.0  17.0  11.223433  4.260361 -72.564472  35100020.0\n",
       "\n",
       "[592124 rows x 7 columns]"
      ]
     },
     "execution_count": 44,
     "metadata": {},
     "output_type": "execute_result"
    }
   ],
   "source": [
    "X2df"
   ]
  },
  {
   "cell_type": "code",
   "execution_count": 36,
   "metadata": {},
   "outputs": [
    {
     "name": "stdout",
     "output_type": "stream",
     "text": [
      "<class 'pandas.core.frame.DataFrame'>\n",
      "RangeIndex: 592124 entries, 0 to 592123\n",
      "Data columns (total 7 columns):\n",
      " #   Column  Non-Null Count   Dtype  \n",
      "---  ------  --------------   -----  \n",
      " 0   0       592124 non-null  float64\n",
      " 1   1       592124 non-null  float64\n",
      " 2   2       592124 non-null  float64\n",
      " 3   3       592124 non-null  float64\n",
      " 4   4       592124 non-null  float64\n",
      " 5   5       592124 non-null  float64\n",
      " 6   ID      534254 non-null  float64\n",
      "dtypes: float64(7)\n",
      "memory usage: 31.6 MB\n",
      "None\n",
      "                  0                                                      \\\n",
      "              count       mean        std   min   25%   50%   75%   max   \n",
      "ID                                                                        \n",
      "32010010.0   9891.0  22.488019   9.143499   3.0  15.0  25.0  30.0  36.0   \n",
      "32020020.0   7963.0  23.580435   6.171798  13.0  19.0  23.0  27.0  36.0   \n",
      "32030020.0  10851.0  20.577919   9.435187   3.0  14.0  20.0  29.0  36.0   \n",
      "32035010.0  12023.0  19.861765  11.097233   0.0   9.0  23.0  30.0  36.0   \n",
      "32035020.0   9681.0  18.699721  10.543985   1.0   9.0  18.0  28.0  36.0   \n",
      "32060020.0  11857.0  17.895420  10.827925   0.0   8.0  19.0  27.0  36.0   \n",
      "32060030.0  13257.0  16.935657  10.825571   0.0   7.0  17.0  26.0  36.0   \n",
      "32060060.0  12155.0  18.339860   9.648568   3.0  11.0  16.0  29.0  36.0   \n",
      "32060090.0   8087.0  25.916780   4.837362  11.0  22.0  25.0  28.0  35.0   \n",
      "32060100.0   5385.0  23.971402   5.979155  15.0  19.0  23.0  26.0  36.0   \n",
      "32065010.0   9623.0  16.293567  10.172518   0.0   8.0  15.0  26.0  35.0   \n",
      "32070010.0  12406.0  17.743753   9.498002   0.0  10.0  18.0  25.0  36.0   \n",
      "32070020.0  12453.0  17.720389  10.414230   0.0   9.0  17.0  26.0  36.0   \n",
      "32070030.0  11997.0  18.950654  10.932180   0.0  10.0  18.0  29.0  36.0   \n",
      "32070040.0  12461.0  18.734291  10.587536   0.0  10.0  20.0  28.0  36.0   \n",
      "32070060.0  13164.0  17.655196  10.302048   3.0   9.0  15.0  29.0  36.0   \n",
      "32070080.0  11684.0  19.459688   9.536668   3.0  11.0  19.0  28.0  36.0   \n",
      "32070090.0  10141.0  20.521448   7.546193   5.0  14.0  20.0  26.0  36.0   \n",
      "32070100.0  11839.0  23.823127   5.779598  13.0  19.0  23.0  28.0  36.0   \n",
      "32070110.0   9453.0  15.630911  10.036693   0.0   7.0  15.0  24.0  36.0   \n",
      "32070120.0   7910.0  18.559671  11.346324   0.0   7.0  17.0  30.0  35.0   \n",
      "32075030.0  10612.0  18.483415   9.652496   3.0  10.0  17.0  28.0  36.0   \n",
      "32075040.0  12090.0  19.614144   8.088266   6.0  13.0  20.0  26.0  35.0   \n",
      "32075050.0  10732.0  18.953410  10.533556   0.0   8.0  20.0  27.0  36.0   \n",
      "32075060.0   6815.0  22.369773   8.367917   9.0  16.0  22.0  29.0  36.0   \n",
      "32075080.0   8572.0  17.674288   9.793532   3.0   9.0  15.0  28.0  36.0   \n",
      "32080010.0  12986.0  17.383336  10.289666   0.0   8.0  18.0  27.0  36.0   \n",
      "32090010.0  10899.0  18.174236  10.210314   0.0   9.0  19.0  27.0  36.0   \n",
      "32120010.0   7740.0  19.516021  10.160001   0.0  11.0  17.0  29.0  36.0   \n",
      "33035010.0  11048.0  18.274529  10.594403   0.0   9.0  19.0  28.0  36.0   \n",
      "35010010.0  12900.0  17.515426  10.737261   0.0   8.0  18.0  27.0  36.0   \n",
      "35010020.0  13081.0  17.741381  10.552693   0.0   9.0  18.0  27.0  36.0   \n",
      "35010040.0  12828.0  17.665419  10.712222   0.0   8.0  18.0  27.0  36.0   \n",
      "35010060.0  13098.0  17.782562  10.587451   0.0   9.0  18.0  27.0  36.0   \n",
      "35010070.0  12905.0  22.088803   9.212415   2.0  15.0  24.0  30.0  36.0   \n",
      "35010080.0  13074.0  23.941563   6.850087   5.0  19.0  23.0  30.0  36.0   \n",
      "35010090.0  13122.0  17.753544  10.601076   0.0   9.0  18.0  27.0  36.0   \n",
      "35010150.0   3302.0  15.097820  12.766225   0.0   3.0   7.0  29.0  36.0   \n",
      "35010230.0   6710.0  17.807154  13.168833   0.0   4.0  17.0  31.0  36.0   \n",
      "35015050.0   8185.0  21.916555   7.674287   9.0  16.0  22.0  28.0  36.0   \n",
      "35020060.0  13226.0  19.458340  11.583932   0.0   9.0  19.0  31.0  36.0   \n",
      "35025020.0  12375.0  20.425778  11.498285   0.0   8.0  22.0  30.0  36.0   \n",
      "35030020.0  11949.0  18.586911   9.758453   0.0  11.0  18.0  27.0  36.0   \n",
      "35030050.0  12295.0  17.700935  10.293771   0.0   9.0  18.0  26.0  36.0   \n",
      "35030370.0   2636.0  21.498862   4.668397  11.0  19.0  21.0  25.0  33.0   \n",
      "35030380.0   2036.0  31.364931   3.101862  18.0  28.0  32.0  34.0  36.0   \n",
      "35035010.0   7049.0  21.656121  10.374886   2.0  13.0  26.0  30.0  36.0   \n",
      "35035020.0  13326.0  18.578718  10.183940   0.0   9.0  20.0  26.0  36.0   \n",
      "35035070.0   9101.0  17.146028  11.002402   0.0   8.0  13.0  28.0  36.0   \n",
      "35045020.0  13007.0  18.636503  10.189340   0.0  10.0  19.0  27.0  36.0   \n",
      "35100020.0  12274.0  20.979795   9.675586   3.0  13.0  21.0  30.0  36.0   \n",
      "\n",
      "                  1            ...         4                  5             \\\n",
      "              count      mean  ...       75%       max    count       mean   \n",
      "ID                             ...                                           \n",
      "32010010.0   9891.0  5.491558  ...  2.562833  3.243222   9891.0 -74.157615   \n",
      "32020020.0   7963.0  5.366822  ...  3.243222  3.243222   7963.0 -74.214709   \n",
      "32030020.0  10851.0  5.566215  ...  2.322500  2.322500  10851.0 -73.890152   \n",
      "32035010.0  12023.0  5.419446  ...  2.438389  2.438389  12023.0 -73.850897   \n",
      "32035020.0   9681.0  5.636195  ...  3.530944  3.530944   9681.0 -73.913714   \n",
      "32060020.0  11857.0  5.455933  ...  3.790722  3.790722  11857.0 -73.858376   \n",
      "32060030.0  13257.0  5.473561  ...  3.790722  3.790722  13257.0 -73.837215   \n",
      "32060060.0  12155.0  5.552448  ...  3.742333  3.792667  12155.0 -73.987009   \n",
      "32060090.0   8087.0  5.429702  ...  3.792667  3.792667   8087.0 -73.979208   \n",
      "32060100.0   5385.0  5.436397  ...  3.200000  3.533333   5385.0 -73.797738   \n",
      "32065010.0   9623.0  5.514185  ...  3.200000  3.250000   9623.0 -73.706330   \n",
      "32070010.0  12406.0  5.521038  ...  3.250000  3.316389  12406.0 -73.598238   \n",
      "32070020.0  12453.0  5.503092  ...  3.316389  3.316389  12453.0 -73.811584   \n",
      "32070030.0  11997.0  5.484038  ...  3.466667  3.466667  11997.0 -73.633333   \n",
      "32070040.0  12461.0  5.493058  ...  3.466667  3.466667  12461.0 -73.469556   \n",
      "32070060.0  13164.0  5.484351  ...  3.316667  3.316667  13164.0 -73.575303   \n",
      "32070080.0  11684.0  5.462598  ...  3.375083  3.375083  11684.0 -73.898986   \n",
      "32070090.0  10141.0  5.497880  ...  3.472028  3.472028  10141.0 -73.868809   \n",
      "32070100.0  11839.0  5.479348  ...  3.456556  3.472028  11839.0 -73.945364   \n",
      "32070110.0   9453.0  5.495081  ...  3.120389  3.516333   9453.0 -73.745393   \n",
      "32070120.0   7910.0  5.578129  ...  3.516333  3.516333   7910.0 -73.716028   \n",
      "32075030.0  10612.0  5.510837  ...  3.380056  3.516333  10612.0 -73.975221   \n",
      "32075040.0  12090.0  5.570802  ...  3.366667  3.366667  12090.0 -73.510350   \n",
      "32075050.0  10732.0  5.463940  ...  2.943333  3.267694  10732.0 -73.228869   \n",
      "32075060.0   6815.0  5.400147  ...  2.943333  2.943333   6815.0 -72.512213   \n",
      "32075080.0   8572.0  5.484951  ...  3.734083  3.734083   8572.0 -72.194949   \n",
      "32080010.0  12986.0  5.489142  ...  4.574417  4.574417  12986.0 -71.740443   \n",
      "32090010.0  10899.0  5.384806  ...  4.574417  4.574417  10899.0 -72.499751   \n",
      "32120010.0   7740.0  5.309432  ...  4.105028  4.105028   7740.0 -73.381570   \n",
      "33035010.0  11048.0  5.474294  ...  3.994639  3.994639  11048.0 -73.796306   \n",
      "35010010.0  12900.0  5.450310  ...  3.924222  3.924222  12900.0 -73.539528   \n",
      "35010020.0  13081.0  5.449430  ...  3.878333  3.878333  13081.0 -73.638228   \n",
      "35010040.0  12828.0  5.456579  ...  3.878333  3.878333  12828.0 -73.319127   \n",
      "35010060.0  13098.0  5.428920  ...  3.793889  3.793889  13098.0 -73.546204   \n",
      "35010070.0  12905.0  5.321658  ...  3.984639  3.984639  12905.0 -73.256344   \n",
      "35010080.0  13074.0  5.432308  ...  4.039750  4.039750  13074.0 -73.346317   \n",
      "35010090.0  13122.0  5.452904  ...  4.057361  4.057361  13122.0 -73.404724   \n",
      "35010150.0   3302.0  6.037553  ...  4.057361  4.057361   3302.0 -73.467917   \n",
      "35010230.0   6710.0  5.259463  ...  4.310083  4.310083   6710.0 -73.621991   \n",
      "35015050.0   8185.0  5.414172  ...  4.310083  4.310083   8185.0 -73.515235   \n",
      "35020060.0  13226.0  5.453954  ...  4.137389  4.144083  13226.0 -73.532774   \n",
      "35025020.0  12375.0  5.527596  ...  4.161919  4.161919  12375.0 -73.596559   \n",
      "35030020.0  11949.0  5.534271  ...  4.161919  4.161919  11949.0 -73.592889   \n",
      "35030050.0  12295.0  5.601220  ...  4.300444  4.300444  12295.0 -73.365808   \n",
      "35030370.0   2636.0  5.203338  ...  4.283722  4.300444   2636.0 -72.833105   \n",
      "35030380.0   2036.0  5.252456  ...  4.283722  4.283722   2036.0 -72.792833   \n",
      "35035010.0   7049.0  5.363172  ...  4.468667  4.468667   7049.0 -72.893242   \n",
      "35035020.0  13326.0  5.504578  ...  4.311389  4.468667  13326.0 -72.195486   \n",
      "35035070.0   9101.0  5.596748  ...  4.340556  4.340556   9101.0 -72.154134   \n",
      "35045020.0  13007.0  5.355501  ...  3.956083  4.327722  13007.0 -72.738300   \n",
      "35100020.0  12274.0  5.459263  ...  4.327722  4.327722  12274.0 -72.419357   \n",
      "\n",
      "                                                                      \\\n",
      "                     std        min        25%        50%        75%   \n",
      "ID                                                                     \n",
      "32010010.0  1.034174e-01 -74.353722 -74.103083 -74.103083 -74.103083   \n",
      "32020020.0  1.940419e-01 -74.353722 -74.353722 -74.353722 -73.943889   \n",
      "32030020.0  7.213338e-02 -73.943889 -73.943889 -73.943889 -73.793333   \n",
      "32035010.0  6.844673e-02 -73.932278 -73.932278 -73.793333 -73.793333   \n",
      "32035020.0  1.531339e-02 -73.932278 -73.932278 -73.901083 -73.901083   \n",
      "32060020.0  2.581101e-02 -73.901083 -73.901083 -73.842778 -73.842778   \n",
      "32060030.0  3.744441e-03 -73.842778 -73.842778 -73.834694 -73.834694   \n",
      "32060060.0  9.463324e-02 -74.059639 -74.059639 -74.059639 -73.922472   \n",
      "32060090.0  4.610328e-02 -74.016667 -74.016667 -74.016667 -73.922472   \n",
      "32060100.0  1.022403e-01 -74.016667 -73.750000 -73.750000 -73.750000   \n",
      "32065010.0  9.101325e-02 -73.750000 -73.750000 -73.750000 -73.750000   \n",
      "32070010.0  1.548485e-01 -73.892167 -73.516667 -73.516667 -73.516667   \n",
      "32070020.0  1.198544e-01 -73.892167 -73.892167 -73.892167 -73.633333   \n",
      "32070030.0  0.000000e+00 -73.633333 -73.633333 -73.633333 -73.633333   \n",
      "32070040.0  1.995706e-01 -73.633333 -73.633333 -73.633333 -73.226389   \n",
      "32070060.0  3.451313e-01 -73.916667 -73.916667 -73.916667 -73.226389   \n",
      "32070080.0  1.115849e-02 -73.916667 -73.916667 -73.891944 -73.891944   \n",
      "32070090.0  1.593588e-02 -73.891944 -73.891944 -73.857833 -73.857833   \n",
      "32070100.0  1.219248e-01 -74.029944 -74.029944 -74.029944 -73.754028   \n",
      "32070110.0  1.592444e-02 -73.754028 -73.754028 -73.754028 -73.754028   \n",
      "32070120.0  0.000000e+00 -73.716028 -73.716028 -73.716028 -73.716028   \n",
      "32075030.0  1.336768e-01 -74.042972 -74.042972 -74.042972 -74.042972   \n",
      "32075040.0  1.612876e-01 -73.700000 -73.700000 -73.373194 -73.373194   \n",
      "32075050.0  5.257034e-02 -73.373194 -73.209722 -73.209722 -73.209722   \n",
      "32075060.0  5.162931e-01 -73.209722 -73.209722 -72.130111 -72.130111   \n",
      "32075080.0  1.064744e-01 -72.369778 -72.369778 -72.130111 -72.130111   \n",
      "32080010.0  5.015577e-01 -72.369778 -72.369778 -71.340750 -71.340750   \n",
      "32090010.0  7.115045e-01 -72.936500 -72.936500 -72.936500 -71.340750   \n",
      "32120010.0  4.134427e-01 -73.765583 -73.765583 -73.765583 -72.936500   \n",
      "33035010.0  2.369769e-02 -73.814583 -73.814583 -73.814583 -73.765583   \n",
      "35010010.0  1.955199e-01 -73.814583 -73.814583 -73.400556 -73.400556   \n",
      "35010020.0  1.691565e-01 -73.758611 -73.758611 -73.758611 -73.400556   \n",
      "35010040.0  2.728672e-01 -73.758611 -73.758611 -73.149722 -73.149722   \n",
      "35010060.0  2.476133e-01 -73.700833 -73.700833 -73.700833 -73.149722   \n",
      "35010070.0  3.072197e-01 -73.700833 -73.700833 -73.340000 -72.971222   \n",
      "35010080.0  6.157244e-02 -73.368000 -73.368000 -73.349278 -73.349278   \n",
      "35010090.0  4.817547e-02 -73.467917 -73.467917 -73.368000 -73.368000   \n",
      "35010150.0  1.421301e-14 -73.467917 -73.467917 -73.467917 -73.467917   \n",
      "35010230.0  6.334206e-02 -73.648028 -73.648028 -73.648028 -73.648028   \n",
      "35015050.0  9.394742e-02 -73.648028 -73.648028 -73.448778 -73.448778   \n",
      "35020060.0  8.319011e-02 -73.641833 -73.625000 -73.559917 -73.448778   \n",
      "35025020.0  2.775323e-02 -73.617578 -73.617578 -73.617578 -73.559917   \n",
      "35030020.0  1.639674e-02 -73.617578 -73.617578 -73.582000 -73.582000   \n",
      "35030050.0  4.238254e-02 -73.582000 -73.357500 -73.357500 -73.357500   \n",
      "35030370.0  1.453496e-01 -73.357500 -72.792833 -72.792833 -72.792833   \n",
      "35030380.0  1.421435e-14 -72.792833 -72.792833 -72.792833 -72.792833   \n",
      "35035010.0  7.784371e-02 -72.953583 -72.953583 -72.953583 -72.792833   \n",
      "35035020.0  3.001744e-01 -72.953583 -72.076639 -72.076639 -72.076639   \n",
      "35035070.0  5.753541e-02 -72.765722 -72.156361 -72.156361 -72.156361   \n",
      "35045020.0  9.753167e-02 -72.765722 -72.765722 -72.765722 -72.765722   \n",
      "35100020.0  6.364614e-02 -72.564472 -72.391444 -72.391444 -72.391444   \n",
      "\n",
      "                       \n",
      "                  max  \n",
      "ID                     \n",
      "32010010.0 -74.103083  \n",
      "32020020.0 -73.943889  \n",
      "32030020.0 -73.793333  \n",
      "32035010.0 -73.793333  \n",
      "32035020.0 -73.901083  \n",
      "32060020.0 -73.842778  \n",
      "32060030.0 -73.834694  \n",
      "32060060.0 -73.834694  \n",
      "32060090.0 -73.922472  \n",
      "32060100.0 -73.750000  \n",
      "32065010.0 -73.516667  \n",
      "32070010.0 -73.516667  \n",
      "32070020.0 -73.633333  \n",
      "32070030.0 -73.633333  \n",
      "32070040.0 -73.226389  \n",
      "32070060.0 -73.226389  \n",
      "32070080.0 -73.891944  \n",
      "32070090.0 -73.857833  \n",
      "32070100.0 -73.754028  \n",
      "32070110.0 -73.716028  \n",
      "32070120.0 -73.716028  \n",
      "32075030.0 -73.700000  \n",
      "32075040.0 -73.373194  \n",
      "32075050.0 -73.209722  \n",
      "32075060.0 -72.130111  \n",
      "32075080.0 -72.130111  \n",
      "32080010.0 -71.340750  \n",
      "32090010.0 -71.340750  \n",
      "32120010.0 -72.936500  \n",
      "33035010.0 -73.765583  \n",
      "35010010.0 -73.400556  \n",
      "35010020.0 -73.400556  \n",
      "35010040.0 -73.149722  \n",
      "35010060.0 -73.149722  \n",
      "35010070.0 -72.971222  \n",
      "35010080.0 -72.971222  \n",
      "35010090.0 -73.368000  \n",
      "35010150.0 -73.467917  \n",
      "35010230.0 -73.467917  \n",
      "35015050.0 -73.448778  \n",
      "35020060.0 -73.448778  \n",
      "35025020.0 -73.559917  \n",
      "35030020.0 -73.582000  \n",
      "35030050.0 -73.357500  \n",
      "35030370.0 -72.792833  \n",
      "35030380.0 -72.792833  \n",
      "35035010.0 -72.792833  \n",
      "35035020.0 -72.076639  \n",
      "35035070.0 -72.076639  \n",
      "35045020.0 -72.391444  \n",
      "35100020.0 -72.391444  \n",
      "\n",
      "[51 rows x 48 columns]\n"
     ]
    }
   ],
   "source": [
    "print(X2df.info())\n",
    "#agrupada por id que sacar el resumen por estaciones \n",
    "print(X2df.groupby('ID').describe())\n",
    "#Después de la imputación, analizaré el \n",
    "descriptivasxg = X2df.groupby('ID').describe()"
   ]
  },
  {
   "cell_type": "code",
   "execution_count": 39,
   "metadata": {},
   "outputs": [
    {
     "name": "stdout",
     "output_type": "stream",
     "text": [
      "<class 'pandas.core.frame.DataFrame'>\n",
      "Float64Index: 51 entries, 32010010.0 to 35100020.0\n",
      "Data columns (total 48 columns):\n",
      " #   Column      Non-Null Count  Dtype  \n",
      "---  ------      --------------  -----  \n",
      " 0   (0, count)  51 non-null     float64\n",
      " 1   (0, mean)   51 non-null     float64\n",
      " 2   (0, std)    51 non-null     float64\n",
      " 3   (0, min)    51 non-null     float64\n",
      " 4   (0, 25%)    51 non-null     float64\n",
      " 5   (0, 50%)    51 non-null     float64\n",
      " 6   (0, 75%)    51 non-null     float64\n",
      " 7   (0, max)    51 non-null     float64\n",
      " 8   (1, count)  51 non-null     float64\n",
      " 9   (1, mean)   51 non-null     float64\n",
      " 10  (1, std)    51 non-null     float64\n",
      " 11  (1, min)    51 non-null     float64\n",
      " 12  (1, 25%)    51 non-null     float64\n",
      " 13  (1, 50%)    51 non-null     float64\n",
      " 14  (1, 75%)    51 non-null     float64\n",
      " 15  (1, max)    51 non-null     float64\n",
      " 16  (2, count)  51 non-null     float64\n",
      " 17  (2, mean)   51 non-null     float64\n",
      " 18  (2, std)    51 non-null     float64\n",
      " 19  (2, min)    51 non-null     float64\n",
      " 20  (2, 25%)    51 non-null     float64\n",
      " 21  (2, 50%)    51 non-null     float64\n",
      " 22  (2, 75%)    51 non-null     float64\n",
      " 23  (2, max)    51 non-null     float64\n",
      " 24  (3, count)  51 non-null     float64\n",
      " 25  (3, mean)   51 non-null     float64\n",
      " 26  (3, std)    51 non-null     float64\n",
      " 27  (3, min)    51 non-null     float64\n",
      " 28  (3, 25%)    51 non-null     float64\n",
      " 29  (3, 50%)    51 non-null     float64\n",
      " 30  (3, 75%)    51 non-null     float64\n",
      " 31  (3, max)    51 non-null     float64\n",
      " 32  (4, count)  51 non-null     float64\n",
      " 33  (4, mean)   51 non-null     float64\n",
      " 34  (4, std)    51 non-null     float64\n",
      " 35  (4, min)    51 non-null     float64\n",
      " 36  (4, 25%)    51 non-null     float64\n",
      " 37  (4, 50%)    51 non-null     float64\n",
      " 38  (4, 75%)    51 non-null     float64\n",
      " 39  (4, max)    51 non-null     float64\n",
      " 40  (5, count)  51 non-null     float64\n",
      " 41  (5, mean)   51 non-null     float64\n",
      " 42  (5, std)    51 non-null     float64\n",
      " 43  (5, min)    51 non-null     float64\n",
      " 44  (5, 25%)    51 non-null     float64\n",
      " 45  (5, 50%)    51 non-null     float64\n",
      " 46  (5, 75%)    51 non-null     float64\n",
      " 47  (5, max)    51 non-null     float64\n",
      "dtypes: float64(48)\n",
      "memory usage: 19.5 KB\n"
     ]
    }
   ],
   "source": [
    "descriptivasxg.info()"
   ]
  },
  {
   "cell_type": "code",
   "execution_count": 40,
   "metadata": {},
   "outputs": [],
   "source": [
    "# Resetear el índice para convertirlo en una columna regular del DataFrame\n",
    "descriptivas_reset = descriptivasxg.reset_index()"
   ]
  },
  {
   "cell_type": "code",
   "execution_count": 43,
   "metadata": {},
   "outputs": [],
   "source": [
    "# Resetear el índice para convertirlo en una columna regular del DataFrame\n",
    "descriptivas_reset = descriptivasxg.reset_index()\n",
    "\n",
    "# Aplanar las columnas MultiIndex, si es necesario\n",
    "\n",
    "# Guardar el DataFrame en un archivo Excel, incluyendo la nueva columna de índice como una columna regular\n",
    "descriptivas_reset.to_excel('descriptivasxg.xlsx', index=True, engine='openpyxl')"
   ]
  },
  {
   "cell_type": "markdown",
   "metadata": {},
   "source": [
    "para el 15%"
   ]
  },
  {
   "cell_type": "code",
   "execution_count": 21,
   "metadata": {},
   "outputs": [
    {
     "name": "stdout",
     "output_type": "stream",
     "text": [
      "RMSE: 6.389091535072467\n",
      "MAE: 1.518098022830005\n",
      "MAPE: 38.37359707695601\n",
      "R2: 0.8721029982847948\n"
     ]
    }
   ],
   "source": [
    "import numpy as np\n",
    "from sklearn.metrics import mean_squared_error, mean_absolute_error, r2_score\n",
    "\n",
    "# Definir una función para calcular MAPE\n",
    "def mean_absolute_percentage_error(y_true, y_pred): \n",
    "    y_true, y_pred = np.array(y_true), np.array(y_pred)\n",
    "    non_zero_mask = y_true != 0\n",
    "    return np.mean(np.abs((y_true[non_zero_mask] - y_pred[non_zero_mask]) / y_true[non_zero_mask])) * 100\n",
    "\n",
    "# Seleccionar la columna 6 de escalados2 y la columna 3 de imputados_dis\n",
    "valores_originales15p = array_mod15p[:, 6]\n",
    "valores_imputados15p = X215p[:, 3]\n",
    "\n",
    "# Calcular RMSE\n",
    "rmse = np.sqrt(mean_squared_error(valores_originales15p, valores_imputados15p))\n",
    "\n",
    "# Calcular MAE\n",
    "mae = mean_absolute_error(valores_originales15p, valores_imputados15p)\n",
    "\n",
    "# Calcular MAPE\n",
    "mape = mean_absolute_percentage_error(valores_originales15p, valores_imputados15p)\n",
    "\n",
    "# Calcular R2\n",
    "r2 = r2_score(valores_originales15p, valores_imputados15p)\n",
    "\n",
    "print(f\"RMSE: {rmse}\")\n",
    "print(f\"MAE: {mae}\")\n",
    "print(f\"MAPE: {mape}\")\n",
    "print(f\"R2: {r2}\")"
   ]
  },
  {
   "cell_type": "markdown",
   "metadata": {},
   "source": [
    "para el 20%"
   ]
  },
  {
   "cell_type": "code",
   "execution_count": 22,
   "metadata": {},
   "outputs": [
    {
     "name": "stdout",
     "output_type": "stream",
     "text": [
      "RMSE: 7.385469533419091\n",
      "MAE: 2.0277363450587207\n",
      "MAPE: 51.39716828118686\n",
      "R2: 0.8291014551419323\n"
     ]
    }
   ],
   "source": [
    "import numpy as np\n",
    "from sklearn.metrics import mean_squared_error, mean_absolute_error, r2_score\n",
    "\n",
    "# Definir una función para calcular MAPE\n",
    "def mean_absolute_percentage_error(y_true, y_pred): \n",
    "    y_true, y_pred = np.array(y_true), np.array(y_pred)\n",
    "    non_zero_mask = y_true != 0\n",
    "    return np.mean(np.abs((y_true[non_zero_mask] - y_pred[non_zero_mask]) / y_true[non_zero_mask])) * 100\n",
    "\n",
    "# Seleccionar la columna 6 de escalados2 y la columna 3 de imputados_dis\n",
    "valores_originales20p = array_mod20p[:, 6]\n",
    "valores_imputados20p = X220p[:, 3]\n",
    "\n",
    "# Calcular RMSE\n",
    "rmse = np.sqrt(mean_squared_error(valores_originales20p, valores_imputados20p))\n",
    "\n",
    "# Calcular MAE\n",
    "mae = mean_absolute_error(valores_originales20p, valores_imputados20p)\n",
    "\n",
    "# Calcular MAPE\n",
    "mape = mean_absolute_percentage_error(valores_originales20p, valores_imputados20p)\n",
    "\n",
    "# Calcular R2\n",
    "r2 = r2_score(valores_originales20p, valores_imputados20p)\n",
    "\n",
    "print(f\"RMSE: {rmse}\")\n",
    "print(f\"MAE: {mae}\")\n",
    "print(f\"MAPE: {mape}\")\n",
    "print(f\"R2: {r2}\")"
   ]
  },
  {
   "cell_type": "code",
   "execution_count": 133,
   "metadata": {},
   "outputs": [
    {
     "name": "stdout",
     "output_type": "stream",
     "text": [
      "<class 'pandas.core.frame.DataFrame'>\n",
      "Int64Index: 592124 entries, 0 to 656435\n",
      "Data columns (total 8 columns):\n",
      " #   Column    Non-Null Count   Dtype  \n",
      "---  ------    --------------   -----  \n",
      " 0   Año       592124 non-null  int64  \n",
      " 1   Mes       592124 non-null  int64  \n",
      " 2   Día       592124 non-null  int64  \n",
      " 3   prec      532912 non-null  float64\n",
      " 4   LAT       592124 non-null  float64\n",
      " 5   LON       592124 non-null  float64\n",
      " 6   ID        592124 non-null  int64  \n",
      " 7   Original  592124 non-null  float64\n",
      "dtypes: float64(4), int64(4)\n",
      "memory usage: 56.8 MB\n"
     ]
    }
   ],
   "source": [
    "data_completa_mod2.info()"
   ]
  },
  {
   "cell_type": "code",
   "execution_count": 27,
   "metadata": {},
   "outputs": [],
   "source": [
    "X2df = pd.DataFrame(X2)\n",
    "\n",
    "X2df['ID'] = data_completa_mod2['ID']"
   ]
  },
  {
   "cell_type": "code",
   "execution_count": 28,
   "metadata": {},
   "outputs": [
    {
     "data": {
      "text/html": [
       "<div>\n",
       "<style scoped>\n",
       "    .dataframe tbody tr th:only-of-type {\n",
       "        vertical-align: middle;\n",
       "    }\n",
       "\n",
       "    .dataframe tbody tr th {\n",
       "        vertical-align: top;\n",
       "    }\n",
       "\n",
       "    .dataframe thead th {\n",
       "        text-align: right;\n",
       "    }\n",
       "</style>\n",
       "<table border=\"1\" class=\"dataframe\">\n",
       "  <thead>\n",
       "    <tr style=\"text-align: right;\">\n",
       "      <th></th>\n",
       "      <th>0</th>\n",
       "      <th>1</th>\n",
       "      <th>2</th>\n",
       "      <th>3</th>\n",
       "      <th>4</th>\n",
       "      <th>5</th>\n",
       "      <th>ID</th>\n",
       "    </tr>\n",
       "  </thead>\n",
       "  <tbody>\n",
       "    <tr>\n",
       "      <th>0</th>\n",
       "      <td>3.0</td>\n",
       "      <td>5.0</td>\n",
       "      <td>8.0</td>\n",
       "      <td>6.800000</td>\n",
       "      <td>2.562833</td>\n",
       "      <td>-74.103083</td>\n",
       "      <td>32010010.0</td>\n",
       "    </tr>\n",
       "    <tr>\n",
       "      <th>1</th>\n",
       "      <td>25.0</td>\n",
       "      <td>5.0</td>\n",
       "      <td>17.0</td>\n",
       "      <td>8.000000</td>\n",
       "      <td>2.562833</td>\n",
       "      <td>-74.103083</td>\n",
       "      <td>32010010.0</td>\n",
       "    </tr>\n",
       "    <tr>\n",
       "      <th>2</th>\n",
       "      <td>25.0</td>\n",
       "      <td>5.0</td>\n",
       "      <td>18.0</td>\n",
       "      <td>13.232292</td>\n",
       "      <td>2.562833</td>\n",
       "      <td>-74.103083</td>\n",
       "      <td>32010010.0</td>\n",
       "    </tr>\n",
       "    <tr>\n",
       "      <th>3</th>\n",
       "      <td>25.0</td>\n",
       "      <td>5.0</td>\n",
       "      <td>19.0</td>\n",
       "      <td>0.000000</td>\n",
       "      <td>2.562833</td>\n",
       "      <td>-74.103083</td>\n",
       "      <td>32010010.0</td>\n",
       "    </tr>\n",
       "    <tr>\n",
       "      <th>4</th>\n",
       "      <td>25.0</td>\n",
       "      <td>5.0</td>\n",
       "      <td>20.0</td>\n",
       "      <td>4.000000</td>\n",
       "      <td>2.562833</td>\n",
       "      <td>-74.103083</td>\n",
       "      <td>32010010.0</td>\n",
       "    </tr>\n",
       "    <tr>\n",
       "      <th>...</th>\n",
       "      <td>...</td>\n",
       "      <td>...</td>\n",
       "      <td>...</td>\n",
       "      <td>...</td>\n",
       "      <td>...</td>\n",
       "      <td>...</td>\n",
       "      <td>...</td>\n",
       "    </tr>\n",
       "    <tr>\n",
       "      <th>592119</th>\n",
       "      <td>28.0</td>\n",
       "      <td>7.0</td>\n",
       "      <td>7.0</td>\n",
       "      <td>0.000000</td>\n",
       "      <td>4.260361</td>\n",
       "      <td>-72.564472</td>\n",
       "      <td>35100020.0</td>\n",
       "    </tr>\n",
       "    <tr>\n",
       "      <th>592120</th>\n",
       "      <td>28.0</td>\n",
       "      <td>7.0</td>\n",
       "      <td>10.0</td>\n",
       "      <td>3.700000</td>\n",
       "      <td>4.260361</td>\n",
       "      <td>-72.564472</td>\n",
       "      <td>35100020.0</td>\n",
       "    </tr>\n",
       "    <tr>\n",
       "      <th>592121</th>\n",
       "      <td>28.0</td>\n",
       "      <td>7.0</td>\n",
       "      <td>11.0</td>\n",
       "      <td>0.100000</td>\n",
       "      <td>4.260361</td>\n",
       "      <td>-72.564472</td>\n",
       "      <td>35100020.0</td>\n",
       "    </tr>\n",
       "    <tr>\n",
       "      <th>592122</th>\n",
       "      <td>28.0</td>\n",
       "      <td>7.0</td>\n",
       "      <td>6.0</td>\n",
       "      <td>0.100000</td>\n",
       "      <td>4.260361</td>\n",
       "      <td>-72.564472</td>\n",
       "      <td>35100020.0</td>\n",
       "    </tr>\n",
       "    <tr>\n",
       "      <th>592123</th>\n",
       "      <td>34.0</td>\n",
       "      <td>6.0</td>\n",
       "      <td>17.0</td>\n",
       "      <td>11.223433</td>\n",
       "      <td>4.260361</td>\n",
       "      <td>-72.564472</td>\n",
       "      <td>35100020.0</td>\n",
       "    </tr>\n",
       "  </tbody>\n",
       "</table>\n",
       "<p>592124 rows × 7 columns</p>\n",
       "</div>"
      ],
      "text/plain": [
       "           0    1     2          3         4          5          ID\n",
       "0        3.0  5.0   8.0   6.800000  2.562833 -74.103083  32010010.0\n",
       "1       25.0  5.0  17.0   8.000000  2.562833 -74.103083  32010010.0\n",
       "2       25.0  5.0  18.0  13.232292  2.562833 -74.103083  32010010.0\n",
       "3       25.0  5.0  19.0   0.000000  2.562833 -74.103083  32010010.0\n",
       "4       25.0  5.0  20.0   4.000000  2.562833 -74.103083  32010010.0\n",
       "...      ...  ...   ...        ...       ...        ...         ...\n",
       "592119  28.0  7.0   7.0   0.000000  4.260361 -72.564472  35100020.0\n",
       "592120  28.0  7.0  10.0   3.700000  4.260361 -72.564472  35100020.0\n",
       "592121  28.0  7.0  11.0   0.100000  4.260361 -72.564472  35100020.0\n",
       "592122  28.0  7.0   6.0   0.100000  4.260361 -72.564472  35100020.0\n",
       "592123  34.0  6.0  17.0  11.223433  4.260361 -72.564472  35100020.0\n",
       "\n",
       "[592124 rows x 7 columns]"
      ]
     },
     "execution_count": 28,
     "metadata": {},
     "output_type": "execute_result"
    }
   ],
   "source": [
    "X2df"
   ]
  },
  {
   "cell_type": "markdown",
   "metadata": {},
   "source": [
    "Convierte en Array"
   ]
  },
  {
   "cell_type": "code",
   "execution_count": 29,
   "metadata": {},
   "outputs": [],
   "source": [
    "\n",
    "X2array = X2df.values"
   ]
  },
  {
   "cell_type": "code",
   "execution_count": 30,
   "metadata": {},
   "outputs": [
    {
     "data": {
      "text/plain": [
       "array([[ 3.00000000e+00,  5.00000000e+00,  8.00000000e+00, ...,\n",
       "         2.56283333e+00, -7.41030833e+01,  3.20100100e+07],\n",
       "       [ 2.50000000e+01,  5.00000000e+00,  1.70000000e+01, ...,\n",
       "         2.56283333e+00, -7.41030833e+01,  3.20100100e+07],\n",
       "       [ 2.50000000e+01,  5.00000000e+00,  1.80000000e+01, ...,\n",
       "         2.56283333e+00, -7.41030833e+01,  3.20100100e+07],\n",
       "       ...,\n",
       "       [ 2.80000000e+01,  7.00000000e+00,  1.10000000e+01, ...,\n",
       "         4.26036111e+00, -7.25644722e+01,  3.51000200e+07],\n",
       "       [ 2.80000000e+01,  7.00000000e+00,  6.00000000e+00, ...,\n",
       "         4.26036111e+00, -7.25644722e+01,  3.51000200e+07],\n",
       "       [ 3.40000000e+01,  6.00000000e+00,  1.70000000e+01, ...,\n",
       "         4.26036111e+00, -7.25644722e+01,  3.51000200e+07]])"
      ]
     },
     "execution_count": 30,
     "metadata": {},
     "output_type": "execute_result"
    }
   ],
   "source": [
    "X2array # contiene al final el ID en la ultuma columna 6"
   ]
  },
  {
   "cell_type": "markdown",
   "metadata": {},
   "source": [
    "Convertir en data frame"
   ]
  },
  {
   "cell_type": "code",
   "execution_count": 31,
   "metadata": {},
   "outputs": [],
   "source": [
    "array_moddf = pd.DataFrame(array_mod)\n",
    "\n",
    "array_moddf['ID'] = data_completa_mod2['ID']"
   ]
  },
  {
   "cell_type": "code",
   "execution_count": 32,
   "metadata": {},
   "outputs": [
    {
     "data": {
      "text/html": [
       "<div>\n",
       "<style scoped>\n",
       "    .dataframe tbody tr th:only-of-type {\n",
       "        vertical-align: middle;\n",
       "    }\n",
       "\n",
       "    .dataframe tbody tr th {\n",
       "        vertical-align: top;\n",
       "    }\n",
       "\n",
       "    .dataframe thead th {\n",
       "        text-align: right;\n",
       "    }\n",
       "</style>\n",
       "<table border=\"1\" class=\"dataframe\">\n",
       "  <thead>\n",
       "    <tr style=\"text-align: right;\">\n",
       "      <th></th>\n",
       "      <th>0</th>\n",
       "      <th>1</th>\n",
       "      <th>2</th>\n",
       "      <th>3</th>\n",
       "      <th>4</th>\n",
       "      <th>5</th>\n",
       "      <th>6</th>\n",
       "      <th>ID</th>\n",
       "    </tr>\n",
       "  </thead>\n",
       "  <tbody>\n",
       "    <tr>\n",
       "      <th>0</th>\n",
       "      <td>1983.0</td>\n",
       "      <td>6.0</td>\n",
       "      <td>9.0</td>\n",
       "      <td>6.8</td>\n",
       "      <td>2.562833</td>\n",
       "      <td>-74.103083</td>\n",
       "      <td>6.8</td>\n",
       "      <td>32010010.0</td>\n",
       "    </tr>\n",
       "    <tr>\n",
       "      <th>1</th>\n",
       "      <td>2005.0</td>\n",
       "      <td>6.0</td>\n",
       "      <td>18.0</td>\n",
       "      <td>8.0</td>\n",
       "      <td>2.562833</td>\n",
       "      <td>-74.103083</td>\n",
       "      <td>8.0</td>\n",
       "      <td>32010010.0</td>\n",
       "    </tr>\n",
       "    <tr>\n",
       "      <th>2</th>\n",
       "      <td>2005.0</td>\n",
       "      <td>6.0</td>\n",
       "      <td>19.0</td>\n",
       "      <td>NaN</td>\n",
       "      <td>2.562833</td>\n",
       "      <td>-74.103083</td>\n",
       "      <td>12.0</td>\n",
       "      <td>32010010.0</td>\n",
       "    </tr>\n",
       "    <tr>\n",
       "      <th>3</th>\n",
       "      <td>2005.0</td>\n",
       "      <td>6.0</td>\n",
       "      <td>20.0</td>\n",
       "      <td>0.0</td>\n",
       "      <td>2.562833</td>\n",
       "      <td>-74.103083</td>\n",
       "      <td>0.0</td>\n",
       "      <td>32010010.0</td>\n",
       "    </tr>\n",
       "    <tr>\n",
       "      <th>4</th>\n",
       "      <td>2005.0</td>\n",
       "      <td>6.0</td>\n",
       "      <td>21.0</td>\n",
       "      <td>4.0</td>\n",
       "      <td>2.562833</td>\n",
       "      <td>-74.103083</td>\n",
       "      <td>4.0</td>\n",
       "      <td>32010010.0</td>\n",
       "    </tr>\n",
       "    <tr>\n",
       "      <th>...</th>\n",
       "      <td>...</td>\n",
       "      <td>...</td>\n",
       "      <td>...</td>\n",
       "      <td>...</td>\n",
       "      <td>...</td>\n",
       "      <td>...</td>\n",
       "      <td>...</td>\n",
       "      <td>...</td>\n",
       "    </tr>\n",
       "    <tr>\n",
       "      <th>592119</th>\n",
       "      <td>2008.0</td>\n",
       "      <td>8.0</td>\n",
       "      <td>8.0</td>\n",
       "      <td>0.0</td>\n",
       "      <td>4.260361</td>\n",
       "      <td>-72.564472</td>\n",
       "      <td>0.0</td>\n",
       "      <td>35100020.0</td>\n",
       "    </tr>\n",
       "    <tr>\n",
       "      <th>592120</th>\n",
       "      <td>2008.0</td>\n",
       "      <td>8.0</td>\n",
       "      <td>11.0</td>\n",
       "      <td>3.7</td>\n",
       "      <td>4.260361</td>\n",
       "      <td>-72.564472</td>\n",
       "      <td>3.7</td>\n",
       "      <td>35100020.0</td>\n",
       "    </tr>\n",
       "    <tr>\n",
       "      <th>592121</th>\n",
       "      <td>2008.0</td>\n",
       "      <td>8.0</td>\n",
       "      <td>12.0</td>\n",
       "      <td>0.1</td>\n",
       "      <td>4.260361</td>\n",
       "      <td>-72.564472</td>\n",
       "      <td>0.1</td>\n",
       "      <td>35100020.0</td>\n",
       "    </tr>\n",
       "    <tr>\n",
       "      <th>592122</th>\n",
       "      <td>2008.0</td>\n",
       "      <td>8.0</td>\n",
       "      <td>7.0</td>\n",
       "      <td>0.1</td>\n",
       "      <td>4.260361</td>\n",
       "      <td>-72.564472</td>\n",
       "      <td>0.1</td>\n",
       "      <td>35100020.0</td>\n",
       "    </tr>\n",
       "    <tr>\n",
       "      <th>592123</th>\n",
       "      <td>2014.0</td>\n",
       "      <td>7.0</td>\n",
       "      <td>18.0</td>\n",
       "      <td>NaN</td>\n",
       "      <td>4.260361</td>\n",
       "      <td>-72.564472</td>\n",
       "      <td>0.0</td>\n",
       "      <td>35100020.0</td>\n",
       "    </tr>\n",
       "  </tbody>\n",
       "</table>\n",
       "<p>592124 rows × 8 columns</p>\n",
       "</div>"
      ],
      "text/plain": [
       "             0    1     2    3         4          5     6          ID\n",
       "0       1983.0  6.0   9.0  6.8  2.562833 -74.103083   6.8  32010010.0\n",
       "1       2005.0  6.0  18.0  8.0  2.562833 -74.103083   8.0  32010010.0\n",
       "2       2005.0  6.0  19.0  NaN  2.562833 -74.103083  12.0  32010010.0\n",
       "3       2005.0  6.0  20.0  0.0  2.562833 -74.103083   0.0  32010010.0\n",
       "4       2005.0  6.0  21.0  4.0  2.562833 -74.103083   4.0  32010010.0\n",
       "...        ...  ...   ...  ...       ...        ...   ...         ...\n",
       "592119  2008.0  8.0   8.0  0.0  4.260361 -72.564472   0.0  35100020.0\n",
       "592120  2008.0  8.0  11.0  3.7  4.260361 -72.564472   3.7  35100020.0\n",
       "592121  2008.0  8.0  12.0  0.1  4.260361 -72.564472   0.1  35100020.0\n",
       "592122  2008.0  8.0   7.0  0.1  4.260361 -72.564472   0.1  35100020.0\n",
       "592123  2014.0  7.0  18.0  NaN  4.260361 -72.564472   0.0  35100020.0\n",
       "\n",
       "[592124 rows x 8 columns]"
      ]
     },
     "execution_count": 32,
     "metadata": {},
     "output_type": "execute_result"
    }
   ],
   "source": [
    "array_moddf"
   ]
  },
  {
   "cell_type": "markdown",
   "metadata": {},
   "source": [
    "volver array"
   ]
  },
  {
   "cell_type": "code",
   "execution_count": 33,
   "metadata": {},
   "outputs": [],
   "source": [
    "data_orinal_array = array_moddf.values"
   ]
  },
  {
   "cell_type": "code",
   "execution_count": 34,
   "metadata": {},
   "outputs": [
    {
     "data": {
      "text/plain": [
       "array([[ 1.98300000e+03,  6.00000000e+00,  9.00000000e+00, ...,\n",
       "        -7.41030833e+01,  6.80000000e+00,  3.20100100e+07],\n",
       "       [ 2.00500000e+03,  6.00000000e+00,  1.80000000e+01, ...,\n",
       "        -7.41030833e+01,  8.00000000e+00,  3.20100100e+07],\n",
       "       [ 2.00500000e+03,  6.00000000e+00,  1.90000000e+01, ...,\n",
       "        -7.41030833e+01,  1.20000000e+01,  3.20100100e+07],\n",
       "       ...,\n",
       "       [ 2.00800000e+03,  8.00000000e+00,  1.20000000e+01, ...,\n",
       "        -7.25644722e+01,  1.00000000e-01,  3.51000200e+07],\n",
       "       [ 2.00800000e+03,  8.00000000e+00,  7.00000000e+00, ...,\n",
       "        -7.25644722e+01,  1.00000000e-01,  3.51000200e+07],\n",
       "       [ 2.01400000e+03,  7.00000000e+00,  1.80000000e+01, ...,\n",
       "        -7.25644722e+01,  0.00000000e+00,  3.51000200e+07]])"
      ]
     },
     "execution_count": 34,
     "metadata": {},
     "output_type": "execute_result"
    }
   ],
   "source": [
    "data_orinal_array"
   ]
  },
  {
   "cell_type": "code",
   "execution_count": 35,
   "metadata": {},
   "outputs": [
    {
     "data": {
      "text/plain": [
       "array([[ 1.98300000e+03,  6.00000000e+00,  9.00000000e+00, ...,\n",
       "        -7.41030833e+01,  6.80000000e+00,  3.20100100e+07],\n",
       "       [ 2.00500000e+03,  6.00000000e+00,  1.80000000e+01, ...,\n",
       "        -7.41030833e+01,  8.00000000e+00,  3.20100100e+07],\n",
       "       [ 2.00500000e+03,  6.00000000e+00,  1.90000000e+01, ...,\n",
       "        -7.41030833e+01,  1.20000000e+01,  3.20100100e+07],\n",
       "       ...,\n",
       "       [ 2.00800000e+03,  8.00000000e+00,  1.20000000e+01, ...,\n",
       "        -7.25644722e+01,  1.00000000e-01,  3.51000200e+07],\n",
       "       [ 2.00800000e+03,  8.00000000e+00,  7.00000000e+00, ...,\n",
       "        -7.25644722e+01,  1.00000000e-01,  3.51000200e+07],\n",
       "       [ 2.01400000e+03,  7.00000000e+00,  1.80000000e+01, ...,\n",
       "        -7.25644722e+01,  0.00000000e+00,  3.51000200e+07]])"
      ]
     },
     "execution_count": 35,
     "metadata": {},
     "output_type": "execute_result"
    }
   ],
   "source": [
    "data_orinal_array"
   ]
  },
  {
   "cell_type": "code",
   "execution_count": 150,
   "metadata": {},
   "outputs": [
    {
     "name": "stdout",
     "output_type": "stream",
     "text": [
      "{32010010.0: {'RMSE': 4.479414314188904, 'MAE': 0.9308677705008389, 'MAPE': 15.050489442280595, 'R2': 0.9093072205453367}, 32020020.0: {'RMSE': 5.559226909811771, 'MAE': 1.0505525673046412, 'MAPE': 13.024424626426429, 'R2': 0.9066763473226244}, 32030020.0: {'RMSE': 4.273333276936688, 'MAE': 0.9184303260224582, 'MAPE': 22.48529992153396, 'R2': 0.9197921825639692}, 32035010.0: {'RMSE': 4.439193062319823, 'MAE': 0.9590906260698798, 'MAPE': 47.78883263651269, 'R2': 0.9025633835921356}, 32035020.0: {'RMSE': 4.853476811192209, 'MAE': 0.9571760184153015, 'MAPE': 20.912525285766478, 'R2': 0.9120795013667826}, 32060020.0: {'RMSE': 6.410982683888127, 'MAE': 1.1389382990765988, 'MAPE': 12.110191404816122, 'R2': 0.905913130458785}, 32060030.0: {'RMSE': 7.312698131343282, 'MAE': 1.3718418207515473, 'MAPE': 9.42118351285165, 'R2': 0.9060103705542587}, 32060060.0: {'RMSE': 7.9737453092970565, 'MAE': 1.4018198396447252, 'MAPE': 11.566026547006865, 'R2': 0.9045361925790444}, 32060090.0: {'RMSE': 6.263174645847017, 'MAE': 1.2317120616732957, 'MAPE': 28.559985359051343, 'R2': 0.9178292440297381}, 32060100.0: {'RMSE': 4.9567228048518075, 'MAE': 0.9265818735030148, 'MAPE': 14.621690960956379, 'R2': 0.9127055694193636}, 32065010.0: {'RMSE': 4.850648061359398, 'MAE': 0.9230885795318655, 'MAPE': 15.096725852877457, 'R2': 0.9146955363173018}, 32070010.0: {'RMSE': 4.4292553769493646, 'MAE': 0.9284054966556672, 'MAPE': 14.735839375620262, 'R2': 0.9183561067882002}, 32070020.0: {'RMSE': 5.058883659232842, 'MAE': 0.9996159334131103, 'MAPE': 10.157626094150222, 'R2': 0.9095255782437341}, 32070030.0: {'RMSE': 4.8726925050661904, 'MAE': 1.0146191055791738, 'MAPE': 12.488587904528893, 'R2': 0.903829220384598}, 32070040.0: {'RMSE': 4.111996727712322, 'MAE': 0.8907690757760238, 'MAPE': 13.996790980779544, 'R2': 0.9290319900665657}, 32070060.0: {'RMSE': 4.862707712132985, 'MAE': 0.9428623668265941, 'MAPE': 14.366345818210776, 'R2': 0.922346326291568}, 32070080.0: {'RMSE': 4.5693898598996405, 'MAE': 0.9437151200494174, 'MAPE': 13.772535014729334, 'R2': 0.9242978616611724}, 32070090.0: {'RMSE': 4.840594761801119, 'MAE': 0.9783407378465322, 'MAPE': 15.551201806765178, 'R2': 0.9075129510442029}, 32070100.0: {'RMSE': 4.79885452554199, 'MAE': 0.9794255733671237, 'MAPE': 21.251260611452462, 'R2': 0.9269924006849214}, 32070110.0: {'RMSE': 4.9849682278829235, 'MAE': 0.9591273275083315, 'MAPE': 43.335676327400144, 'R2': 0.8947235642320163}, 32070120.0: {'RMSE': 4.515766806400408, 'MAE': 0.930444723378476, 'MAPE': 42.46198987130989, 'R2': 0.9241994541360882}, 32075030.0: {'RMSE': 4.256875434638509, 'MAE': 0.902277228433635, 'MAPE': 33.94144161204545, 'R2': 0.9199697511732716}, 32075040.0: {'RMSE': 4.647358070234634, 'MAE': 0.9525845073496905, 'MAPE': 36.84672568060389, 'R2': 0.90479110182358}, 32075050.0: {'RMSE': 4.440800886451841, 'MAE': 0.9540961311051853, 'MAPE': 12.120180084980804, 'R2': 0.9226844207511311}, 32075060.0: {'RMSE': 4.8985944207264644, 'MAE': 1.0032952559263235, 'MAPE': 11.600903641484274, 'R2': 0.9058503218934428}, 32075080.0: {'RMSE': 4.569704997119503, 'MAE': 0.9996434860697321, 'MAPE': 13.699877233028204, 'R2': 0.9203548495315103}, 32080010.0: {'RMSE': 4.971230363529185, 'MAE': 1.0360141961769487, 'MAPE': 44.92859209686754, 'R2': 0.9016478415002827}, 32090010.0: {'RMSE': 5.3386598072561755, 'MAE': 1.0057734188433087, 'MAPE': 24.694665177804033, 'R2': 0.886140654269053}, 32120010.0: {'RMSE': 5.166752419477615, 'MAE': 1.0166568165900576, 'MAPE': 14.679948740540622, 'R2': 0.9282950137937407}, 33035010.0: {'RMSE': 7.128576076614302, 'MAE': 1.3398637036488872, 'MAPE': 14.76606988971065, 'R2': 0.9076217397634387}, 35010010.0: {'RMSE': 5.281486875145601, 'MAE': 1.0115602115640823, 'MAPE': 9.538648599129425, 'R2': 0.9200241047937903}, 35010020.0: {'RMSE': 5.789161843656866, 'MAE': 1.096191195726102, 'MAPE': 14.397356750776162, 'R2': 0.9071665711591631}, 35010040.0: {'RMSE': 5.1124499964426375, 'MAE': 1.0362939760938277, 'MAPE': 13.562975495303986, 'R2': 0.9132503398325815}, 35010060.0: {'RMSE': 4.862443214300649, 'MAE': 1.0093522127803842, 'MAPE': 17.313009607661186, 'R2': 0.9218993189929396}, 35010070.0: {'RMSE': 4.3064728152716425, 'MAE': 0.9036242976951846, 'MAPE': 12.477548412538155, 'R2': 0.9320541817419219}, 35010080.0: {'RMSE': 4.344698960488434, 'MAE': 0.8889010456179681, 'MAPE': 37.74417471882832, 'R2': 0.9277142727076783}, 35010090.0: {'RMSE': 4.848750777274318, 'MAE': 0.9667583499069715, 'MAPE': 45.524524630106086, 'R2': 0.9113202292715444}, 35010150.0: {'RMSE': 4.225000458258101, 'MAE': 0.861663326439191, 'MAPE': 64.35197798952903, 'R2': 0.9352812991369849}, 35010230.0: {'RMSE': 7.641783683847008, 'MAE': 1.4133271868111101, 'MAPE': 17.505056029692472, 'R2': 0.8991406444636152}, 35015050.0: {'RMSE': 6.295495118122349, 'MAE': 1.1205578791320543, 'MAPE': 10.26535390381925, 'R2': 0.9110267167236739}, 35020060.0: {'RMSE': 5.075201744929573, 'MAE': 0.9637517585856612, 'MAPE': 28.15446972045915, 'R2': 0.9311048042059588}, 35025020.0: {'RMSE': 5.109328664985818, 'MAE': 0.9641472979993606, 'MAPE': 65.72394285205425, 'R2': 0.9304389364206167}, 35030020.0: {'RMSE': 5.958184040817241, 'MAE': 1.0978313784007534, 'MAPE': 45.49080239345445, 'R2': 0.908300163365508}, 35030050.0: {'RMSE': 5.544562000411579, 'MAE': 1.021147829726552, 'MAPE': 52.6720947132044, 'R2': 0.9094246197372277}, 35030370.0: {'RMSE': 3.6980138850733053, 'MAE': 0.7884666270772857, 'MAPE': 12.285534992345323, 'R2': 0.9393150269448578}, 35030380.0: {'RMSE': 4.119380755250907, 'MAE': 0.974074007972548, 'MAPE': 7.90048845464766, 'R2': 0.9166054505423239}, 35035010.0: {'RMSE': 4.4234267238644485, 'MAE': 0.889041349341479, 'MAPE': 49.5136520932503, 'R2': 0.9241098977444163}, 35035020.0: {'RMSE': 4.258066149037051, 'MAE': 0.9050268052631977, 'MAPE': 17.5786305331579, 'R2': 0.9205823713233089}, 35035070.0: {'RMSE': 4.277574496956231, 'MAE': 0.9017860733610047, 'MAPE': 45.91952511479238, 'R2': 0.9072928295673542}, 35045020.0: {'RMSE': 4.419589529652288, 'MAE': 0.9093760039163875, 'MAPE': 13.980186741753444, 'R2': 0.9202077904592343}, 35100020.0: {'RMSE': 4.549040261312463, 'MAE': 0.9467995917759635, 'MAPE': 85.22689317428946, 'R2': 0.9141129279200086}}\n"
     ]
    }
   ],
   "source": [
    "import numpy as np\n",
    "from sklearn.metrics import mean_squared_error, mean_absolute_error, r2_score\n",
    "\n",
    "# Definición de la función MAPE\n",
    "def mean_absolute_percentage_error(y_true, y_pred): \n",
    "    y_true, y_pred = np.array(y_true), np.array(y_pred)\n",
    "    non_zero_mask = y_true != 0\n",
    "    return np.mean(np.abs((y_true[non_zero_mask] - y_pred[non_zero_mask]) / y_true[non_zero_mask])) * 100\n",
    "\n",
    "# Selección de las columnas relevantes de los arrays\n",
    "valores_originales = data_orinal_array[:, 6]\n",
    "valores_imputados = X2array[:, 3]\n",
    "\n",
    "# Selección de las columnas de IDs\n",
    "ids_originales = data_orinal_array[:, 7]\n",
    "ids_imputados = X2array[:, 6]\n",
    "\n",
    "# Creación de estructuras para almacenar las métricas por ID\n",
    "metricas_por_id = {}\n",
    "\n",
    "# Iterar sobre los IDs únicos\n",
    "for id in np.unique(ids_originales):\n",
    "    # Máscaras para filtrar los valores originales e imputados correspondientes al ID actual\n",
    "    mask_originales = ids_originales == id\n",
    "    mask_imputados = ids_imputados == id\n",
    "\n",
    "    # Filtrar los valores originales e imputados para el ID actual\n",
    "    valores_orig_id = valores_originales[mask_originales]\n",
    "    valores_imp_id = valores_imputados[mask_imputados]\n",
    "\n",
    "    # Verificar si hay valores para calcular las métricas\n",
    "    if len(valores_orig_id) > 0 and len(valores_imp_id) > 0:\n",
    "        # Calcular las métricas para el ID actual\n",
    "        rmse = np.sqrt(mean_squared_error(valores_orig_id, valores_imp_id))\n",
    "        mae = mean_absolute_error(valores_orig_id, valores_imp_id)\n",
    "        mape = mean_absolute_percentage_error(valores_orig_id, valores_imp_id)\n",
    "        r2 = r2_score(valores_orig_id, valores_imp_id)\n",
    "\n",
    "        # Almacenar las métricas en el diccionario\n",
    "        metricas_por_id[id] = {'RMSE': rmse, 'MAE': mae, 'MAPE': mape, 'R2': r2}\n",
    "\n",
    "print(metricas_por_id)\n"
   ]
  },
  {
   "cell_type": "code",
   "execution_count": 151,
   "metadata": {},
   "outputs": [],
   "source": [
    "import pandas as pd\n",
    "\n",
    "# Suponiendo que 'metricas_por_id' es el diccionario generado por el código anterior\n",
    "\n",
    "# Convertir el diccionario a DataFrame\n",
    "df_metricas = pd.DataFrame.from_dict(metricas_por_id, orient='index')\n",
    "\n",
    "# Resetear el índice para que el ID sea una columna y no el índice del DataFrame\n",
    "df_metricas.reset_index(inplace=True)\n",
    "df_metricas.rename(columns={'index': 'ID'}, inplace=True)\n",
    "\n",
    "# Exportar el DataFrame a un archivo Excel\n",
    "resultadoporestacion = \"metricas_por_id.xlsx\"\n",
    "df_metricas.to_excel(resultadoporestacion, index=False)\n"
   ]
  },
  {
   "cell_type": "code",
   "execution_count": 55,
   "metadata": {},
   "outputs": [
    {
     "ename": "TypeError",
     "evalue": "'<' not supported between instances of 'str' and 'int'",
     "output_type": "error",
     "traceback": [
      "\u001b[1;31m---------------------------------------------------------------------------\u001b[0m",
      "\u001b[1;31mTypeError\u001b[0m                                 Traceback (most recent call last)",
      "File \u001b[1;32mc:\\Users\\vhect\\AppData\\Local\\Programs\\Python\\Python311\\Lib\\site-packages\\pandas\\core\\groupby\\groupby.py:1353\u001b[0m, in \u001b[0;36mGroupBy.apply\u001b[1;34m(self, func, *args, **kwargs)\u001b[0m\n\u001b[0;32m   1352\u001b[0m \u001b[39mtry\u001b[39;00m:\n\u001b[1;32m-> 1353\u001b[0m     result \u001b[39m=\u001b[39m \u001b[39mself\u001b[39;49m\u001b[39m.\u001b[39;49m_python_apply_general(f, \u001b[39mself\u001b[39;49m\u001b[39m.\u001b[39;49m_selected_obj)\n\u001b[0;32m   1354\u001b[0m \u001b[39mexcept\u001b[39;00m \u001b[39mTypeError\u001b[39;00m:\n\u001b[0;32m   1355\u001b[0m     \u001b[39m# gh-20949\u001b[39;00m\n\u001b[0;32m   1356\u001b[0m     \u001b[39m# try again, with .apply acting as a filtering\u001b[39;00m\n\u001b[1;32m   (...)\u001b[0m\n\u001b[0;32m   1360\u001b[0m     \u001b[39m# fails on *some* columns, e.g. a numeric operation\u001b[39;00m\n\u001b[0;32m   1361\u001b[0m     \u001b[39m# on a string grouper column\u001b[39;00m\n",
      "File \u001b[1;32mc:\\Users\\vhect\\AppData\\Local\\Programs\\Python\\Python311\\Lib\\site-packages\\pandas\\core\\groupby\\groupby.py:1402\u001b[0m, in \u001b[0;36mGroupBy._python_apply_general\u001b[1;34m(self, f, data, not_indexed_same, is_transform, is_agg)\u001b[0m\n\u001b[0;32m   1376\u001b[0m \u001b[39m\u001b[39m\u001b[39m\"\"\"\u001b[39;00m\n\u001b[0;32m   1377\u001b[0m \u001b[39mApply function f in python space\u001b[39;00m\n\u001b[0;32m   1378\u001b[0m \n\u001b[1;32m   (...)\u001b[0m\n\u001b[0;32m   1400\u001b[0m \u001b[39m    data after applying f\u001b[39;00m\n\u001b[0;32m   1401\u001b[0m \u001b[39m\"\"\"\u001b[39;00m\n\u001b[1;32m-> 1402\u001b[0m values, mutated \u001b[39m=\u001b[39m \u001b[39mself\u001b[39;49m\u001b[39m.\u001b[39;49mgrouper\u001b[39m.\u001b[39;49mapply(f, data, \u001b[39mself\u001b[39;49m\u001b[39m.\u001b[39;49maxis)\n\u001b[0;32m   1403\u001b[0m \u001b[39mif\u001b[39;00m not_indexed_same \u001b[39mis\u001b[39;00m \u001b[39mNone\u001b[39;00m:\n",
      "File \u001b[1;32mc:\\Users\\vhect\\AppData\\Local\\Programs\\Python\\Python311\\Lib\\site-packages\\pandas\\core\\groupby\\ops.py:767\u001b[0m, in \u001b[0;36mBaseGrouper.apply\u001b[1;34m(self, f, data, axis)\u001b[0m\n\u001b[0;32m    766\u001b[0m group_axes \u001b[39m=\u001b[39m group\u001b[39m.\u001b[39maxes\n\u001b[1;32m--> 767\u001b[0m res \u001b[39m=\u001b[39m f(group)\n\u001b[0;32m    768\u001b[0m \u001b[39mif\u001b[39;00m \u001b[39mnot\u001b[39;00m mutated \u001b[39mand\u001b[39;00m \u001b[39mnot\u001b[39;00m _is_indexed_like(res, group_axes, axis):\n",
      "\u001b[1;32mc:\\Users\\vhect\\Documents\\semestre 9\\trabajo de grado\\proyecto_prec_vsdcode\\Proyecto_mod_precipitacion\\Codigos de Python\\NoteNook_model_XGboost.ipynb Cell 57\u001b[0m line \u001b[0;36m1\n\u001b[0;32m     <a href='vscode-notebook-cell:/c%3A/Users/vhect/Documents/semestre%209/trabajo%20de%20grado/proyecto_prec_vsdcode/Proyecto_mod_precipitacion/Codigos%20de%20Python/NoteNook_model_XGboost.ipynb#Y111sZmlsZQ%3D%3D?line=12'>13</a>\u001b[0m \u001b[39m# Filtrar valores NaN de las series de datos\u001b[39;00m\n\u001b[1;32m---> <a href='vscode-notebook-cell:/c%3A/Users/vhect/Documents/semestre%209/trabajo%20de%20grado/proyecto_prec_vsdcode/Proyecto_mod_precipitacion/Codigos%20de%20Python/NoteNook_model_XGboost.ipynb#Y111sZmlsZQ%3D%3D?line=13'>14</a>\u001b[0m valid_indices \u001b[39m=\u001b[39m \u001b[39m~\u001b[39;49mnp\u001b[39m.\u001b[39;49misnan(original_values) \u001b[39m&\u001b[39;49m \u001b[39m~\u001b[39;49mnp\u001b[39m.\u001b[39;49misnan(imputed_values)\n\u001b[0;32m     <a href='vscode-notebook-cell:/c%3A/Users/vhect/Documents/semestre%209/trabajo%20de%20grado/proyecto_prec_vsdcode/Proyecto_mod_precipitacion/Codigos%20de%20Python/NoteNook_model_XGboost.ipynb#Y111sZmlsZQ%3D%3D?line=14'>15</a>\u001b[0m original_values_no_nan \u001b[39m=\u001b[39m original_values[valid_indices]\n",
      "File \u001b[1;32mc:\\Users\\vhect\\AppData\\Local\\Programs\\Python\\Python311\\Lib\\site-packages\\pandas\\core\\ops\\common.py:81\u001b[0m, in \u001b[0;36m_unpack_zerodim_and_defer.<locals>.new_method\u001b[1;34m(self, other)\u001b[0m\n\u001b[0;32m     79\u001b[0m other \u001b[39m=\u001b[39m item_from_zerodim(other)\n\u001b[1;32m---> 81\u001b[0m \u001b[39mreturn\u001b[39;00m method(\u001b[39mself\u001b[39;49m, other)\n",
      "File \u001b[1;32mc:\\Users\\vhect\\AppData\\Local\\Programs\\Python\\Python311\\Lib\\site-packages\\pandas\\core\\arraylike.py:70\u001b[0m, in \u001b[0;36mOpsMixin.__and__\u001b[1;34m(self, other)\u001b[0m\n\u001b[0;32m     68\u001b[0m \u001b[39m@unpack_zerodim_and_defer\u001b[39m(\u001b[39m\"\u001b[39m\u001b[39m__and__\u001b[39m\u001b[39m\"\u001b[39m)\n\u001b[0;32m     69\u001b[0m \u001b[39mdef\u001b[39;00m \u001b[39m__and__\u001b[39m(\u001b[39mself\u001b[39m, other):\n\u001b[1;32m---> 70\u001b[0m     \u001b[39mreturn\u001b[39;00m \u001b[39mself\u001b[39;49m\u001b[39m.\u001b[39;49m_logical_method(other, operator\u001b[39m.\u001b[39;49mand_)\n",
      "File \u001b[1;32mc:\\Users\\vhect\\AppData\\Local\\Programs\\Python\\Python311\\Lib\\site-packages\\pandas\\core\\frame.py:7465\u001b[0m, in \u001b[0;36mDataFrame._arith_method\u001b[1;34m(self, other, op)\u001b[0m\n\u001b[0;32m   7463\u001b[0m other \u001b[39m=\u001b[39m ops\u001b[39m.\u001b[39mmaybe_prepare_scalar_for_op(other, (\u001b[39mself\u001b[39m\u001b[39m.\u001b[39mshape[axis],))\n\u001b[1;32m-> 7465\u001b[0m \u001b[39mself\u001b[39m, other \u001b[39m=\u001b[39m ops\u001b[39m.\u001b[39;49malign_method_FRAME(\u001b[39mself\u001b[39;49m, other, axis, flex\u001b[39m=\u001b[39;49m\u001b[39mTrue\u001b[39;49;00m, level\u001b[39m=\u001b[39;49m\u001b[39mNone\u001b[39;49;00m)\n\u001b[0;32m   7467\u001b[0m new_data \u001b[39m=\u001b[39m \u001b[39mself\u001b[39m\u001b[39m.\u001b[39m_dispatch_frame_op(other, op, axis\u001b[39m=\u001b[39maxis)\n",
      "File \u001b[1;32mc:\\Users\\vhect\\AppData\\Local\\Programs\\Python\\Python311\\Lib\\site-packages\\pandas\\core\\ops\\__init__.py:329\u001b[0m, in \u001b[0;36malign_method_FRAME\u001b[1;34m(left, right, axis, flex, level)\u001b[0m\n\u001b[0;32m    323\u001b[0m         \u001b[39mraise\u001b[39;00m \u001b[39mValueError\u001b[39;00m(\n\u001b[0;32m    324\u001b[0m             \u001b[39m\"\u001b[39m\u001b[39mOperands are not aligned. Do \u001b[39m\u001b[39m\"\u001b[39m\n\u001b[0;32m    325\u001b[0m             \u001b[39m\"\u001b[39m\u001b[39m`left, right = left.align(right, axis=1, copy=False)` \u001b[39m\u001b[39m\"\u001b[39m\n\u001b[0;32m    326\u001b[0m             \u001b[39m\"\u001b[39m\u001b[39mbefore operating.\u001b[39m\u001b[39m\"\u001b[39m\n\u001b[0;32m    327\u001b[0m         )\n\u001b[1;32m--> 329\u001b[0m left, right \u001b[39m=\u001b[39m left\u001b[39m.\u001b[39;49malign(\n\u001b[0;32m    330\u001b[0m     right, join\u001b[39m=\u001b[39;49m\u001b[39m\"\u001b[39;49m\u001b[39mouter\u001b[39;49m\u001b[39m\"\u001b[39;49m, axis\u001b[39m=\u001b[39;49maxis, level\u001b[39m=\u001b[39;49mlevel, copy\u001b[39m=\u001b[39;49m\u001b[39mFalse\u001b[39;49;00m\n\u001b[0;32m    331\u001b[0m )\n\u001b[0;32m    332\u001b[0m right \u001b[39m=\u001b[39m _maybe_align_series_as_frame(left, right, axis)\n",
      "File \u001b[1;32mc:\\Users\\vhect\\AppData\\Local\\Programs\\Python\\Python311\\Lib\\site-packages\\pandas\\core\\frame.py:4994\u001b[0m, in \u001b[0;36mDataFrame.align\u001b[1;34m(self, other, join, axis, level, copy, fill_value, method, limit, fill_axis, broadcast_axis)\u001b[0m\n\u001b[0;32m   4980\u001b[0m \u001b[39m@doc\u001b[39m(NDFrame\u001b[39m.\u001b[39malign, \u001b[39m*\u001b[39m\u001b[39m*\u001b[39m_shared_doc_kwargs)\n\u001b[0;32m   4981\u001b[0m \u001b[39mdef\u001b[39;00m \u001b[39malign\u001b[39m(\n\u001b[0;32m   4982\u001b[0m     \u001b[39mself\u001b[39m,\n\u001b[1;32m   (...)\u001b[0m\n\u001b[0;32m   4992\u001b[0m     broadcast_axis: Axis \u001b[39m|\u001b[39m \u001b[39mNone\u001b[39;00m \u001b[39m=\u001b[39m \u001b[39mNone\u001b[39;00m,\n\u001b[0;32m   4993\u001b[0m ) \u001b[39m-\u001b[39m\u001b[39m>\u001b[39m DataFrame:\n\u001b[1;32m-> 4994\u001b[0m     \u001b[39mreturn\u001b[39;00m \u001b[39msuper\u001b[39;49m()\u001b[39m.\u001b[39;49malign(\n\u001b[0;32m   4995\u001b[0m         other,\n\u001b[0;32m   4996\u001b[0m         join\u001b[39m=\u001b[39;49mjoin,\n\u001b[0;32m   4997\u001b[0m         axis\u001b[39m=\u001b[39;49maxis,\n\u001b[0;32m   4998\u001b[0m         level\u001b[39m=\u001b[39;49mlevel,\n\u001b[0;32m   4999\u001b[0m         copy\u001b[39m=\u001b[39;49mcopy,\n\u001b[0;32m   5000\u001b[0m         fill_value\u001b[39m=\u001b[39;49mfill_value,\n\u001b[0;32m   5001\u001b[0m         method\u001b[39m=\u001b[39;49mmethod,\n\u001b[0;32m   5002\u001b[0m         limit\u001b[39m=\u001b[39;49mlimit,\n\u001b[0;32m   5003\u001b[0m         fill_axis\u001b[39m=\u001b[39;49mfill_axis,\n\u001b[0;32m   5004\u001b[0m         broadcast_axis\u001b[39m=\u001b[39;49mbroadcast_axis,\n\u001b[0;32m   5005\u001b[0m     )\n",
      "File \u001b[1;32mc:\\Users\\vhect\\AppData\\Local\\Programs\\Python\\Python311\\Lib\\site-packages\\pandas\\core\\generic.py:9449\u001b[0m, in \u001b[0;36mNDFrame.align\u001b[1;34m(self, other, join, axis, level, copy, fill_value, method, limit, fill_axis, broadcast_axis)\u001b[0m\n\u001b[0;32m   9448\u001b[0m \u001b[39melif\u001b[39;00m \u001b[39misinstance\u001b[39m(other, ABCSeries):\n\u001b[1;32m-> 9449\u001b[0m     \u001b[39mreturn\u001b[39;00m \u001b[39mself\u001b[39;49m\u001b[39m.\u001b[39;49m_align_series(\n\u001b[0;32m   9450\u001b[0m         other,\n\u001b[0;32m   9451\u001b[0m         join\u001b[39m=\u001b[39;49mjoin,\n\u001b[0;32m   9452\u001b[0m         axis\u001b[39m=\u001b[39;49maxis,\n\u001b[0;32m   9453\u001b[0m         level\u001b[39m=\u001b[39;49mlevel,\n\u001b[0;32m   9454\u001b[0m         copy\u001b[39m=\u001b[39;49mcopy,\n\u001b[0;32m   9455\u001b[0m         fill_value\u001b[39m=\u001b[39;49mfill_value,\n\u001b[0;32m   9456\u001b[0m         method\u001b[39m=\u001b[39;49mmethod,\n\u001b[0;32m   9457\u001b[0m         limit\u001b[39m=\u001b[39;49mlimit,\n\u001b[0;32m   9458\u001b[0m         fill_axis\u001b[39m=\u001b[39;49mfill_axis,\n\u001b[0;32m   9459\u001b[0m     )\n\u001b[0;32m   9460\u001b[0m \u001b[39melse\u001b[39;00m:  \u001b[39m# pragma: no cover\u001b[39;00m\n",
      "File \u001b[1;32mc:\\Users\\vhect\\AppData\\Local\\Programs\\Python\\Python311\\Lib\\site-packages\\pandas\\core\\generic.py:9577\u001b[0m, in \u001b[0;36mNDFrame._align_series\u001b[1;34m(self, other, join, axis, level, copy, fill_value, method, limit, fill_axis)\u001b[0m\n\u001b[0;32m   9576\u001b[0m \u001b[39mif\u001b[39;00m \u001b[39mnot\u001b[39;00m join_index\u001b[39m.\u001b[39mequals(other\u001b[39m.\u001b[39mindex):\n\u001b[1;32m-> 9577\u001b[0m     join_index, lidx, ridx \u001b[39m=\u001b[39m join_index\u001b[39m.\u001b[39;49mjoin(\n\u001b[0;32m   9578\u001b[0m         other\u001b[39m.\u001b[39;49mindex, how\u001b[39m=\u001b[39;49mjoin, level\u001b[39m=\u001b[39;49mlevel, return_indexers\u001b[39m=\u001b[39;49m\u001b[39mTrue\u001b[39;49;00m\n\u001b[0;32m   9579\u001b[0m     )\n\u001b[0;32m   9581\u001b[0m \u001b[39mif\u001b[39;00m lidx \u001b[39mis\u001b[39;00m \u001b[39mnot\u001b[39;00m \u001b[39mNone\u001b[39;00m:\n",
      "File \u001b[1;32mc:\\Users\\vhect\\AppData\\Local\\Programs\\Python\\Python311\\Lib\\site-packages\\pandas\\core\\indexes\\base.py:259\u001b[0m, in \u001b[0;36m_maybe_return_indexers.<locals>.join\u001b[1;34m(self, other, how, level, return_indexers, sort)\u001b[0m\n\u001b[0;32m    249\u001b[0m \u001b[39m@functools\u001b[39m\u001b[39m.\u001b[39mwraps(meth)\n\u001b[0;32m    250\u001b[0m \u001b[39mdef\u001b[39;00m \u001b[39mjoin\u001b[39m(\n\u001b[0;32m    251\u001b[0m     \u001b[39mself\u001b[39m,\n\u001b[1;32m   (...)\u001b[0m\n\u001b[0;32m    257\u001b[0m     sort: \u001b[39mbool\u001b[39m \u001b[39m=\u001b[39m \u001b[39mFalse\u001b[39;00m,\n\u001b[0;32m    258\u001b[0m ):\n\u001b[1;32m--> 259\u001b[0m     join_index, lidx, ridx \u001b[39m=\u001b[39m meth(\u001b[39mself\u001b[39;49m, other, how\u001b[39m=\u001b[39;49mhow, level\u001b[39m=\u001b[39;49mlevel, sort\u001b[39m=\u001b[39;49msort)\n\u001b[0;32m    260\u001b[0m     \u001b[39mif\u001b[39;00m \u001b[39mnot\u001b[39;00m return_indexers:\n",
      "File \u001b[1;32mc:\\Users\\vhect\\AppData\\Local\\Programs\\Python\\Python311\\Lib\\site-packages\\pandas\\core\\indexes\\base.py:4494\u001b[0m, in \u001b[0;36mIndex.join\u001b[1;34m(self, other, how, level, return_indexers, sort)\u001b[0m\n\u001b[0;32m   4493\u001b[0m     other \u001b[39m=\u001b[39m other\u001b[39m.\u001b[39mastype(dtype, copy\u001b[39m=\u001b[39m\u001b[39mFalse\u001b[39;00m)\n\u001b[1;32m-> 4494\u001b[0m     \u001b[39mreturn\u001b[39;00m this\u001b[39m.\u001b[39;49mjoin(other, how\u001b[39m=\u001b[39;49mhow, return_indexers\u001b[39m=\u001b[39;49m\u001b[39mTrue\u001b[39;49;00m)\n\u001b[0;32m   4496\u001b[0m _validate_join_method(how)\n",
      "File \u001b[1;32mc:\\Users\\vhect\\AppData\\Local\\Programs\\Python\\Python311\\Lib\\site-packages\\pandas\\core\\indexes\\base.py:259\u001b[0m, in \u001b[0;36m_maybe_return_indexers.<locals>.join\u001b[1;34m(self, other, how, level, return_indexers, sort)\u001b[0m\n\u001b[0;32m    249\u001b[0m \u001b[39m@functools\u001b[39m\u001b[39m.\u001b[39mwraps(meth)\n\u001b[0;32m    250\u001b[0m \u001b[39mdef\u001b[39;00m \u001b[39mjoin\u001b[39m(\n\u001b[0;32m    251\u001b[0m     \u001b[39mself\u001b[39m,\n\u001b[1;32m   (...)\u001b[0m\n\u001b[0;32m    257\u001b[0m     sort: \u001b[39mbool\u001b[39m \u001b[39m=\u001b[39m \u001b[39mFalse\u001b[39;00m,\n\u001b[0;32m    258\u001b[0m ):\n\u001b[1;32m--> 259\u001b[0m     join_index, lidx, ridx \u001b[39m=\u001b[39m meth(\u001b[39mself\u001b[39;49m, other, how\u001b[39m=\u001b[39;49mhow, level\u001b[39m=\u001b[39;49mlevel, sort\u001b[39m=\u001b[39;49msort)\n\u001b[0;32m    260\u001b[0m     \u001b[39mif\u001b[39;00m \u001b[39mnot\u001b[39;00m return_indexers:\n",
      "File \u001b[1;32mc:\\Users\\vhect\\AppData\\Local\\Programs\\Python\\Python311\\Lib\\site-packages\\pandas\\core\\indexes\\base.py:4506\u001b[0m, in \u001b[0;36mIndex.join\u001b[1;34m(self, other, how, level, return_indexers, sort)\u001b[0m\n\u001b[0;32m   4502\u001b[0m     \u001b[39mif\u001b[39;00m \u001b[39mnot\u001b[39;00m is_interval_dtype(\u001b[39mself\u001b[39m\u001b[39m.\u001b[39mdtype):\n\u001b[0;32m   4503\u001b[0m         \u001b[39m# otherwise we will fall through to _join_via_get_indexer\u001b[39;00m\n\u001b[0;32m   4504\u001b[0m         \u001b[39m# GH#39133\u001b[39;00m\n\u001b[0;32m   4505\u001b[0m         \u001b[39m# go through object dtype for ea till engine is supported properly\u001b[39;00m\n\u001b[1;32m-> 4506\u001b[0m         \u001b[39mreturn\u001b[39;00m \u001b[39mself\u001b[39;49m\u001b[39m.\u001b[39;49m_join_monotonic(other, how\u001b[39m=\u001b[39;49mhow)\n\u001b[0;32m   4507\u001b[0m \u001b[39melse\u001b[39;00m:\n",
      "File \u001b[1;32mc:\\Users\\vhect\\AppData\\Local\\Programs\\Python\\Python311\\Lib\\site-packages\\pandas\\core\\indexes\\base.py:4853\u001b[0m, in \u001b[0;36mIndex._join_monotonic\u001b[1;34m(self, other, how)\u001b[0m\n\u001b[0;32m   4852\u001b[0m \u001b[39melif\u001b[39;00m how \u001b[39m==\u001b[39m \u001b[39m\"\u001b[39m\u001b[39mouter\u001b[39m\u001b[39m\"\u001b[39m:\n\u001b[1;32m-> 4853\u001b[0m     join_array, lidx, ridx \u001b[39m=\u001b[39m \u001b[39mself\u001b[39;49m\u001b[39m.\u001b[39;49m_outer_indexer(other)\n\u001b[0;32m   4855\u001b[0m \u001b[39massert\u001b[39;00m lidx \u001b[39mis\u001b[39;00m \u001b[39mnot\u001b[39;00m \u001b[39mNone\u001b[39;00m\n",
      "File \u001b[1;32mc:\\Users\\vhect\\AppData\\Local\\Programs\\Python\\Python311\\Lib\\site-packages\\pandas\\core\\indexes\\base.py:412\u001b[0m, in \u001b[0;36mIndex._outer_indexer\u001b[1;34m(self, other)\u001b[0m\n\u001b[0;32m    411\u001b[0m ov \u001b[39m=\u001b[39m cast(np\u001b[39m.\u001b[39mndarray, ov)\n\u001b[1;32m--> 412\u001b[0m joined_ndarray, lidx, ridx \u001b[39m=\u001b[39m libjoin\u001b[39m.\u001b[39;49mouter_join_indexer(sv, ov)\n\u001b[0;32m    413\u001b[0m joined \u001b[39m=\u001b[39m \u001b[39mself\u001b[39m\u001b[39m.\u001b[39m_from_join_target(joined_ndarray)\n",
      "File \u001b[1;32mc:\\Users\\vhect\\AppData\\Local\\Programs\\Python\\Python311\\Lib\\site-packages\\pandas\\_libs\\join.pyx:580\u001b[0m, in \u001b[0;36mpandas._libs.join.outer_join_indexer\u001b[1;34m()\u001b[0m\n",
      "\u001b[1;31mTypeError\u001b[0m: '<' not supported between instances of 'str' and 'int'",
      "\nDuring handling of the above exception, another exception occurred:\n",
      "\u001b[1;31mTypeError\u001b[0m                                 Traceback (most recent call last)",
      "\u001b[1;32mc:\\Users\\vhect\\Documents\\semestre 9\\trabajo de grado\\proyecto_prec_vsdcode\\Proyecto_mod_precipitacion\\Codigos de Python\\NoteNook_model_XGboost.ipynb Cell 57\u001b[0m line \u001b[0;36m2\n\u001b[0;32m     <a href='vscode-notebook-cell:/c%3A/Users/vhect/Documents/semestre%209/trabajo%20de%20grado/proyecto_prec_vsdcode/Proyecto_mod_precipitacion/Codigos%20de%20Python/NoteNook_model_XGboost.ipynb#Y111sZmlsZQ%3D%3D?line=25'>26</a>\u001b[0m \u001b[39m# Agrupar por estación y calcular métricas por estación\u001b[39;00m\n\u001b[0;32m     <a href='vscode-notebook-cell:/c%3A/Users/vhect/Documents/semestre%209/trabajo%20de%20grado/proyecto_prec_vsdcode/Proyecto_mod_precipitacion/Codigos%20de%20Python/NoteNook_model_XGboost.ipynb#Y111sZmlsZQ%3D%3D?line=26'>27</a>\u001b[0m merged_data \u001b[39m=\u001b[39m merged_data\u001b[39m.\u001b[39mgroupby(\u001b[39m'\u001b[39m\u001b[39mID\u001b[39m\u001b[39m'\u001b[39m)\u001b[39m.\u001b[39mmean()\u001b[39m.\u001b[39mreset_index()\n\u001b[1;32m---> <a href='vscode-notebook-cell:/c%3A/Users/vhect/Documents/semestre%209/trabajo%20de%20grado/proyecto_prec_vsdcode/Proyecto_mod_precipitacion/Codigos%20de%20Python/NoteNook_model_XGboost.ipynb#Y111sZmlsZQ%3D%3D?line=28'>29</a>\u001b[0m metrics_by_station \u001b[39m=\u001b[39m merged_data\u001b[39m.\u001b[39;49mgroupby(\u001b[39m'\u001b[39;49m\u001b[39mID\u001b[39;49m\u001b[39m'\u001b[39;49m)\u001b[39m.\u001b[39;49mapply(calculate_metrics)\n\u001b[0;32m     <a href='vscode-notebook-cell:/c%3A/Users/vhect/Documents/semestre%209/trabajo%20de%20grado/proyecto_prec_vsdcode/Proyecto_mod_precipitacion/Codigos%20de%20Python/NoteNook_model_XGboost.ipynb#Y111sZmlsZQ%3D%3D?line=29'>30</a>\u001b[0m \u001b[39mprint\u001b[39m(metrics_by_station)\n",
      "File \u001b[1;32mc:\\Users\\vhect\\AppData\\Local\\Programs\\Python\\Python311\\Lib\\site-packages\\pandas\\core\\groupby\\groupby.py:1363\u001b[0m, in \u001b[0;36mGroupBy.apply\u001b[1;34m(self, func, *args, **kwargs)\u001b[0m\n\u001b[0;32m   1353\u001b[0m         result \u001b[39m=\u001b[39m \u001b[39mself\u001b[39m\u001b[39m.\u001b[39m_python_apply_general(f, \u001b[39mself\u001b[39m\u001b[39m.\u001b[39m_selected_obj)\n\u001b[0;32m   1354\u001b[0m     \u001b[39mexcept\u001b[39;00m \u001b[39mTypeError\u001b[39;00m:\n\u001b[0;32m   1355\u001b[0m         \u001b[39m# gh-20949\u001b[39;00m\n\u001b[0;32m   1356\u001b[0m         \u001b[39m# try again, with .apply acting as a filtering\u001b[39;00m\n\u001b[1;32m   (...)\u001b[0m\n\u001b[0;32m   1360\u001b[0m         \u001b[39m# fails on *some* columns, e.g. a numeric operation\u001b[39;00m\n\u001b[0;32m   1361\u001b[0m         \u001b[39m# on a string grouper column\u001b[39;00m\n\u001b[1;32m-> 1363\u001b[0m         \u001b[39mreturn\u001b[39;00m \u001b[39mself\u001b[39;49m\u001b[39m.\u001b[39;49m_python_apply_general(f, \u001b[39mself\u001b[39;49m\u001b[39m.\u001b[39;49m_obj_with_exclusions)\n\u001b[0;32m   1365\u001b[0m \u001b[39mreturn\u001b[39;00m result\n",
      "File \u001b[1;32mc:\\Users\\vhect\\AppData\\Local\\Programs\\Python\\Python311\\Lib\\site-packages\\pandas\\core\\groupby\\groupby.py:1402\u001b[0m, in \u001b[0;36mGroupBy._python_apply_general\u001b[1;34m(self, f, data, not_indexed_same, is_transform, is_agg)\u001b[0m\n\u001b[0;32m   1367\u001b[0m \u001b[39m@final\u001b[39m\n\u001b[0;32m   1368\u001b[0m \u001b[39mdef\u001b[39;00m \u001b[39m_python_apply_general\u001b[39m(\n\u001b[0;32m   1369\u001b[0m     \u001b[39mself\u001b[39m,\n\u001b[1;32m   (...)\u001b[0m\n\u001b[0;32m   1374\u001b[0m     is_agg: \u001b[39mbool\u001b[39m \u001b[39m=\u001b[39m \u001b[39mFalse\u001b[39;00m,\n\u001b[0;32m   1375\u001b[0m ) \u001b[39m-\u001b[39m\u001b[39m>\u001b[39m NDFrameT:\n\u001b[0;32m   1376\u001b[0m \u001b[39m    \u001b[39m\u001b[39m\"\"\"\u001b[39;00m\n\u001b[0;32m   1377\u001b[0m \u001b[39m    Apply function f in python space\u001b[39;00m\n\u001b[0;32m   1378\u001b[0m \n\u001b[1;32m   (...)\u001b[0m\n\u001b[0;32m   1400\u001b[0m \u001b[39m        data after applying f\u001b[39;00m\n\u001b[0;32m   1401\u001b[0m \u001b[39m    \"\"\"\u001b[39;00m\n\u001b[1;32m-> 1402\u001b[0m     values, mutated \u001b[39m=\u001b[39m \u001b[39mself\u001b[39;49m\u001b[39m.\u001b[39;49mgrouper\u001b[39m.\u001b[39;49mapply(f, data, \u001b[39mself\u001b[39;49m\u001b[39m.\u001b[39;49maxis)\n\u001b[0;32m   1403\u001b[0m     \u001b[39mif\u001b[39;00m not_indexed_same \u001b[39mis\u001b[39;00m \u001b[39mNone\u001b[39;00m:\n\u001b[0;32m   1404\u001b[0m         not_indexed_same \u001b[39m=\u001b[39m mutated\n",
      "File \u001b[1;32mc:\\Users\\vhect\\AppData\\Local\\Programs\\Python\\Python311\\Lib\\site-packages\\pandas\\core\\groupby\\ops.py:767\u001b[0m, in \u001b[0;36mBaseGrouper.apply\u001b[1;34m(self, f, data, axis)\u001b[0m\n\u001b[0;32m    765\u001b[0m \u001b[39m# group might be modified\u001b[39;00m\n\u001b[0;32m    766\u001b[0m group_axes \u001b[39m=\u001b[39m group\u001b[39m.\u001b[39maxes\n\u001b[1;32m--> 767\u001b[0m res \u001b[39m=\u001b[39m f(group)\n\u001b[0;32m    768\u001b[0m \u001b[39mif\u001b[39;00m \u001b[39mnot\u001b[39;00m mutated \u001b[39mand\u001b[39;00m \u001b[39mnot\u001b[39;00m _is_indexed_like(res, group_axes, axis):\n\u001b[0;32m    769\u001b[0m     mutated \u001b[39m=\u001b[39m \u001b[39mTrue\u001b[39;00m\n",
      "\u001b[1;32mc:\\Users\\vhect\\Documents\\semestre 9\\trabajo de grado\\proyecto_prec_vsdcode\\Proyecto_mod_precipitacion\\Codigos de Python\\NoteNook_model_XGboost.ipynb Cell 57\u001b[0m line \u001b[0;36m1\n\u001b[0;32m     <a href='vscode-notebook-cell:/c%3A/Users/vhect/Documents/semestre%209/trabajo%20de%20grado/proyecto_prec_vsdcode/Proyecto_mod_precipitacion/Codigos%20de%20Python/NoteNook_model_XGboost.ipynb#Y111sZmlsZQ%3D%3D?line=10'>11</a>\u001b[0m imputed_values \u001b[39m=\u001b[39m merged_data[\u001b[39m'\u001b[39m\u001b[39mImputed\u001b[39m\u001b[39m'\u001b[39m]\n\u001b[0;32m     <a href='vscode-notebook-cell:/c%3A/Users/vhect/Documents/semestre%209/trabajo%20de%20grado/proyecto_prec_vsdcode/Proyecto_mod_precipitacion/Codigos%20de%20Python/NoteNook_model_XGboost.ipynb#Y111sZmlsZQ%3D%3D?line=12'>13</a>\u001b[0m \u001b[39m# Filtrar valores NaN de las series de datos\u001b[39;00m\n\u001b[1;32m---> <a href='vscode-notebook-cell:/c%3A/Users/vhect/Documents/semestre%209/trabajo%20de%20grado/proyecto_prec_vsdcode/Proyecto_mod_precipitacion/Codigos%20de%20Python/NoteNook_model_XGboost.ipynb#Y111sZmlsZQ%3D%3D?line=13'>14</a>\u001b[0m valid_indices \u001b[39m=\u001b[39m \u001b[39m~\u001b[39;49mnp\u001b[39m.\u001b[39;49misnan(original_values) \u001b[39m&\u001b[39;49m \u001b[39m~\u001b[39;49mnp\u001b[39m.\u001b[39;49misnan(imputed_values)\n\u001b[0;32m     <a href='vscode-notebook-cell:/c%3A/Users/vhect/Documents/semestre%209/trabajo%20de%20grado/proyecto_prec_vsdcode/Proyecto_mod_precipitacion/Codigos%20de%20Python/NoteNook_model_XGboost.ipynb#Y111sZmlsZQ%3D%3D?line=14'>15</a>\u001b[0m original_values_no_nan \u001b[39m=\u001b[39m original_values[valid_indices]\n\u001b[0;32m     <a href='vscode-notebook-cell:/c%3A/Users/vhect/Documents/semestre%209/trabajo%20de%20grado/proyecto_prec_vsdcode/Proyecto_mod_precipitacion/Codigos%20de%20Python/NoteNook_model_XGboost.ipynb#Y111sZmlsZQ%3D%3D?line=15'>16</a>\u001b[0m imputed_values_no_nan \u001b[39m=\u001b[39m imputed_values[valid_indices]\n",
      "File \u001b[1;32mc:\\Users\\vhect\\AppData\\Local\\Programs\\Python\\Python311\\Lib\\site-packages\\pandas\\core\\ops\\common.py:81\u001b[0m, in \u001b[0;36m_unpack_zerodim_and_defer.<locals>.new_method\u001b[1;34m(self, other)\u001b[0m\n\u001b[0;32m     77\u001b[0m             \u001b[39mreturn\u001b[39;00m \u001b[39mNotImplemented\u001b[39m\n\u001b[0;32m     79\u001b[0m other \u001b[39m=\u001b[39m item_from_zerodim(other)\n\u001b[1;32m---> 81\u001b[0m \u001b[39mreturn\u001b[39;00m method(\u001b[39mself\u001b[39;49m, other)\n",
      "File \u001b[1;32mc:\\Users\\vhect\\AppData\\Local\\Programs\\Python\\Python311\\Lib\\site-packages\\pandas\\core\\arraylike.py:70\u001b[0m, in \u001b[0;36mOpsMixin.__and__\u001b[1;34m(self, other)\u001b[0m\n\u001b[0;32m     68\u001b[0m \u001b[39m@unpack_zerodim_and_defer\u001b[39m(\u001b[39m\"\u001b[39m\u001b[39m__and__\u001b[39m\u001b[39m\"\u001b[39m)\n\u001b[0;32m     69\u001b[0m \u001b[39mdef\u001b[39;00m \u001b[39m__and__\u001b[39m(\u001b[39mself\u001b[39m, other):\n\u001b[1;32m---> 70\u001b[0m     \u001b[39mreturn\u001b[39;00m \u001b[39mself\u001b[39;49m\u001b[39m.\u001b[39;49m_logical_method(other, operator\u001b[39m.\u001b[39;49mand_)\n",
      "File \u001b[1;32mc:\\Users\\vhect\\AppData\\Local\\Programs\\Python\\Python311\\Lib\\site-packages\\pandas\\core\\frame.py:7465\u001b[0m, in \u001b[0;36mDataFrame._arith_method\u001b[1;34m(self, other, op)\u001b[0m\n\u001b[0;32m   7462\u001b[0m axis: Literal[\u001b[39m1\u001b[39m] \u001b[39m=\u001b[39m \u001b[39m1\u001b[39m  \u001b[39m# only relevant for Series other case\u001b[39;00m\n\u001b[0;32m   7463\u001b[0m other \u001b[39m=\u001b[39m ops\u001b[39m.\u001b[39mmaybe_prepare_scalar_for_op(other, (\u001b[39mself\u001b[39m\u001b[39m.\u001b[39mshape[axis],))\n\u001b[1;32m-> 7465\u001b[0m \u001b[39mself\u001b[39m, other \u001b[39m=\u001b[39m ops\u001b[39m.\u001b[39;49malign_method_FRAME(\u001b[39mself\u001b[39;49m, other, axis, flex\u001b[39m=\u001b[39;49m\u001b[39mTrue\u001b[39;49;00m, level\u001b[39m=\u001b[39;49m\u001b[39mNone\u001b[39;49;00m)\n\u001b[0;32m   7467\u001b[0m new_data \u001b[39m=\u001b[39m \u001b[39mself\u001b[39m\u001b[39m.\u001b[39m_dispatch_frame_op(other, op, axis\u001b[39m=\u001b[39maxis)\n\u001b[0;32m   7468\u001b[0m \u001b[39mreturn\u001b[39;00m \u001b[39mself\u001b[39m\u001b[39m.\u001b[39m_construct_result(new_data)\n",
      "File \u001b[1;32mc:\\Users\\vhect\\AppData\\Local\\Programs\\Python\\Python311\\Lib\\site-packages\\pandas\\core\\ops\\__init__.py:329\u001b[0m, in \u001b[0;36malign_method_FRAME\u001b[1;34m(left, right, axis, flex, level)\u001b[0m\n\u001b[0;32m    322\u001b[0m         \u001b[39mif\u001b[39;00m \u001b[39mnot\u001b[39;00m left\u001b[39m.\u001b[39maxes[axis]\u001b[39m.\u001b[39mequals(right\u001b[39m.\u001b[39mindex):\n\u001b[0;32m    323\u001b[0m             \u001b[39mraise\u001b[39;00m \u001b[39mValueError\u001b[39;00m(\n\u001b[0;32m    324\u001b[0m                 \u001b[39m\"\u001b[39m\u001b[39mOperands are not aligned. Do \u001b[39m\u001b[39m\"\u001b[39m\n\u001b[0;32m    325\u001b[0m                 \u001b[39m\"\u001b[39m\u001b[39m`left, right = left.align(right, axis=1, copy=False)` \u001b[39m\u001b[39m\"\u001b[39m\n\u001b[0;32m    326\u001b[0m                 \u001b[39m\"\u001b[39m\u001b[39mbefore operating.\u001b[39m\u001b[39m\"\u001b[39m\n\u001b[0;32m    327\u001b[0m             )\n\u001b[1;32m--> 329\u001b[0m     left, right \u001b[39m=\u001b[39m left\u001b[39m.\u001b[39;49malign(\n\u001b[0;32m    330\u001b[0m         right, join\u001b[39m=\u001b[39;49m\u001b[39m\"\u001b[39;49m\u001b[39mouter\u001b[39;49m\u001b[39m\"\u001b[39;49m, axis\u001b[39m=\u001b[39;49maxis, level\u001b[39m=\u001b[39;49mlevel, copy\u001b[39m=\u001b[39;49m\u001b[39mFalse\u001b[39;49;00m\n\u001b[0;32m    331\u001b[0m     )\n\u001b[0;32m    332\u001b[0m     right \u001b[39m=\u001b[39m _maybe_align_series_as_frame(left, right, axis)\n\u001b[0;32m    334\u001b[0m \u001b[39mreturn\u001b[39;00m left, right\n",
      "File \u001b[1;32mc:\\Users\\vhect\\AppData\\Local\\Programs\\Python\\Python311\\Lib\\site-packages\\pandas\\core\\frame.py:4994\u001b[0m, in \u001b[0;36mDataFrame.align\u001b[1;34m(self, other, join, axis, level, copy, fill_value, method, limit, fill_axis, broadcast_axis)\u001b[0m\n\u001b[0;32m   4980\u001b[0m \u001b[39m@doc\u001b[39m(NDFrame\u001b[39m.\u001b[39malign, \u001b[39m*\u001b[39m\u001b[39m*\u001b[39m_shared_doc_kwargs)\n\u001b[0;32m   4981\u001b[0m \u001b[39mdef\u001b[39;00m \u001b[39malign\u001b[39m(\n\u001b[0;32m   4982\u001b[0m     \u001b[39mself\u001b[39m,\n\u001b[1;32m   (...)\u001b[0m\n\u001b[0;32m   4992\u001b[0m     broadcast_axis: Axis \u001b[39m|\u001b[39m \u001b[39mNone\u001b[39;00m \u001b[39m=\u001b[39m \u001b[39mNone\u001b[39;00m,\n\u001b[0;32m   4993\u001b[0m ) \u001b[39m-\u001b[39m\u001b[39m>\u001b[39m DataFrame:\n\u001b[1;32m-> 4994\u001b[0m     \u001b[39mreturn\u001b[39;00m \u001b[39msuper\u001b[39;49m()\u001b[39m.\u001b[39;49malign(\n\u001b[0;32m   4995\u001b[0m         other,\n\u001b[0;32m   4996\u001b[0m         join\u001b[39m=\u001b[39;49mjoin,\n\u001b[0;32m   4997\u001b[0m         axis\u001b[39m=\u001b[39;49maxis,\n\u001b[0;32m   4998\u001b[0m         level\u001b[39m=\u001b[39;49mlevel,\n\u001b[0;32m   4999\u001b[0m         copy\u001b[39m=\u001b[39;49mcopy,\n\u001b[0;32m   5000\u001b[0m         fill_value\u001b[39m=\u001b[39;49mfill_value,\n\u001b[0;32m   5001\u001b[0m         method\u001b[39m=\u001b[39;49mmethod,\n\u001b[0;32m   5002\u001b[0m         limit\u001b[39m=\u001b[39;49mlimit,\n\u001b[0;32m   5003\u001b[0m         fill_axis\u001b[39m=\u001b[39;49mfill_axis,\n\u001b[0;32m   5004\u001b[0m         broadcast_axis\u001b[39m=\u001b[39;49mbroadcast_axis,\n\u001b[0;32m   5005\u001b[0m     )\n",
      "File \u001b[1;32mc:\\Users\\vhect\\AppData\\Local\\Programs\\Python\\Python311\\Lib\\site-packages\\pandas\\core\\generic.py:9449\u001b[0m, in \u001b[0;36mNDFrame.align\u001b[1;34m(self, other, join, axis, level, copy, fill_value, method, limit, fill_axis, broadcast_axis)\u001b[0m\n\u001b[0;32m   9437\u001b[0m     \u001b[39mreturn\u001b[39;00m \u001b[39mself\u001b[39m\u001b[39m.\u001b[39m_align_frame(\n\u001b[0;32m   9438\u001b[0m         other,\n\u001b[0;32m   9439\u001b[0m         join\u001b[39m=\u001b[39mjoin,\n\u001b[1;32m   (...)\u001b[0m\n\u001b[0;32m   9446\u001b[0m         fill_axis\u001b[39m=\u001b[39mfill_axis,\n\u001b[0;32m   9447\u001b[0m     )\n\u001b[0;32m   9448\u001b[0m \u001b[39melif\u001b[39;00m \u001b[39misinstance\u001b[39m(other, ABCSeries):\n\u001b[1;32m-> 9449\u001b[0m     \u001b[39mreturn\u001b[39;00m \u001b[39mself\u001b[39;49m\u001b[39m.\u001b[39;49m_align_series(\n\u001b[0;32m   9450\u001b[0m         other,\n\u001b[0;32m   9451\u001b[0m         join\u001b[39m=\u001b[39;49mjoin,\n\u001b[0;32m   9452\u001b[0m         axis\u001b[39m=\u001b[39;49maxis,\n\u001b[0;32m   9453\u001b[0m         level\u001b[39m=\u001b[39;49mlevel,\n\u001b[0;32m   9454\u001b[0m         copy\u001b[39m=\u001b[39;49mcopy,\n\u001b[0;32m   9455\u001b[0m         fill_value\u001b[39m=\u001b[39;49mfill_value,\n\u001b[0;32m   9456\u001b[0m         method\u001b[39m=\u001b[39;49mmethod,\n\u001b[0;32m   9457\u001b[0m         limit\u001b[39m=\u001b[39;49mlimit,\n\u001b[0;32m   9458\u001b[0m         fill_axis\u001b[39m=\u001b[39;49mfill_axis,\n\u001b[0;32m   9459\u001b[0m     )\n\u001b[0;32m   9460\u001b[0m \u001b[39melse\u001b[39;00m:  \u001b[39m# pragma: no cover\u001b[39;00m\n\u001b[0;32m   9461\u001b[0m     \u001b[39mraise\u001b[39;00m \u001b[39mTypeError\u001b[39;00m(\u001b[39mf\u001b[39m\u001b[39m\"\u001b[39m\u001b[39munsupported type: \u001b[39m\u001b[39m{\u001b[39;00m\u001b[39mtype\u001b[39m(other)\u001b[39m}\u001b[39;00m\u001b[39m\"\u001b[39m)\n",
      "File \u001b[1;32mc:\\Users\\vhect\\AppData\\Local\\Programs\\Python\\Python311\\Lib\\site-packages\\pandas\\core\\generic.py:9577\u001b[0m, in \u001b[0;36mNDFrame._align_series\u001b[1;34m(self, other, join, axis, level, copy, fill_value, method, limit, fill_axis)\u001b[0m\n\u001b[0;32m   9575\u001b[0m lidx, ridx \u001b[39m=\u001b[39m \u001b[39mNone\u001b[39;00m, \u001b[39mNone\u001b[39;00m\n\u001b[0;32m   9576\u001b[0m \u001b[39mif\u001b[39;00m \u001b[39mnot\u001b[39;00m join_index\u001b[39m.\u001b[39mequals(other\u001b[39m.\u001b[39mindex):\n\u001b[1;32m-> 9577\u001b[0m     join_index, lidx, ridx \u001b[39m=\u001b[39m join_index\u001b[39m.\u001b[39;49mjoin(\n\u001b[0;32m   9578\u001b[0m         other\u001b[39m.\u001b[39;49mindex, how\u001b[39m=\u001b[39;49mjoin, level\u001b[39m=\u001b[39;49mlevel, return_indexers\u001b[39m=\u001b[39;49m\u001b[39mTrue\u001b[39;49;00m\n\u001b[0;32m   9579\u001b[0m     )\n\u001b[0;32m   9581\u001b[0m \u001b[39mif\u001b[39;00m lidx \u001b[39mis\u001b[39;00m \u001b[39mnot\u001b[39;00m \u001b[39mNone\u001b[39;00m:\n\u001b[0;32m   9582\u001b[0m     bm_axis \u001b[39m=\u001b[39m \u001b[39mself\u001b[39m\u001b[39m.\u001b[39m_get_block_manager_axis(\u001b[39m1\u001b[39m)\n",
      "File \u001b[1;32mc:\\Users\\vhect\\AppData\\Local\\Programs\\Python\\Python311\\Lib\\site-packages\\pandas\\core\\indexes\\base.py:259\u001b[0m, in \u001b[0;36m_maybe_return_indexers.<locals>.join\u001b[1;34m(self, other, how, level, return_indexers, sort)\u001b[0m\n\u001b[0;32m    249\u001b[0m \u001b[39m@functools\u001b[39m\u001b[39m.\u001b[39mwraps(meth)\n\u001b[0;32m    250\u001b[0m \u001b[39mdef\u001b[39;00m \u001b[39mjoin\u001b[39m(\n\u001b[0;32m    251\u001b[0m     \u001b[39mself\u001b[39m,\n\u001b[1;32m   (...)\u001b[0m\n\u001b[0;32m    257\u001b[0m     sort: \u001b[39mbool\u001b[39m \u001b[39m=\u001b[39m \u001b[39mFalse\u001b[39;00m,\n\u001b[0;32m    258\u001b[0m ):\n\u001b[1;32m--> 259\u001b[0m     join_index, lidx, ridx \u001b[39m=\u001b[39m meth(\u001b[39mself\u001b[39;49m, other, how\u001b[39m=\u001b[39;49mhow, level\u001b[39m=\u001b[39;49mlevel, sort\u001b[39m=\u001b[39;49msort)\n\u001b[0;32m    260\u001b[0m     \u001b[39mif\u001b[39;00m \u001b[39mnot\u001b[39;00m return_indexers:\n\u001b[0;32m    261\u001b[0m         \u001b[39mreturn\u001b[39;00m join_index\n",
      "File \u001b[1;32mc:\\Users\\vhect\\AppData\\Local\\Programs\\Python\\Python311\\Lib\\site-packages\\pandas\\core\\indexes\\base.py:4494\u001b[0m, in \u001b[0;36mIndex.join\u001b[1;34m(self, other, how, level, return_indexers, sort)\u001b[0m\n\u001b[0;32m   4492\u001b[0m     this \u001b[39m=\u001b[39m \u001b[39mself\u001b[39m\u001b[39m.\u001b[39mastype(dtype, copy\u001b[39m=\u001b[39m\u001b[39mFalse\u001b[39;00m)\n\u001b[0;32m   4493\u001b[0m     other \u001b[39m=\u001b[39m other\u001b[39m.\u001b[39mastype(dtype, copy\u001b[39m=\u001b[39m\u001b[39mFalse\u001b[39;00m)\n\u001b[1;32m-> 4494\u001b[0m     \u001b[39mreturn\u001b[39;00m this\u001b[39m.\u001b[39;49mjoin(other, how\u001b[39m=\u001b[39;49mhow, return_indexers\u001b[39m=\u001b[39;49m\u001b[39mTrue\u001b[39;49;00m)\n\u001b[0;32m   4496\u001b[0m _validate_join_method(how)\n\u001b[0;32m   4498\u001b[0m \u001b[39mif\u001b[39;00m \u001b[39mnot\u001b[39;00m \u001b[39mself\u001b[39m\u001b[39m.\u001b[39mis_unique \u001b[39mand\u001b[39;00m \u001b[39mnot\u001b[39;00m other\u001b[39m.\u001b[39mis_unique:\n",
      "File \u001b[1;32mc:\\Users\\vhect\\AppData\\Local\\Programs\\Python\\Python311\\Lib\\site-packages\\pandas\\core\\indexes\\base.py:259\u001b[0m, in \u001b[0;36m_maybe_return_indexers.<locals>.join\u001b[1;34m(self, other, how, level, return_indexers, sort)\u001b[0m\n\u001b[0;32m    249\u001b[0m \u001b[39m@functools\u001b[39m\u001b[39m.\u001b[39mwraps(meth)\n\u001b[0;32m    250\u001b[0m \u001b[39mdef\u001b[39;00m \u001b[39mjoin\u001b[39m(\n\u001b[0;32m    251\u001b[0m     \u001b[39mself\u001b[39m,\n\u001b[1;32m   (...)\u001b[0m\n\u001b[0;32m    257\u001b[0m     sort: \u001b[39mbool\u001b[39m \u001b[39m=\u001b[39m \u001b[39mFalse\u001b[39;00m,\n\u001b[0;32m    258\u001b[0m ):\n\u001b[1;32m--> 259\u001b[0m     join_index, lidx, ridx \u001b[39m=\u001b[39m meth(\u001b[39mself\u001b[39;49m, other, how\u001b[39m=\u001b[39;49mhow, level\u001b[39m=\u001b[39;49mlevel, sort\u001b[39m=\u001b[39;49msort)\n\u001b[0;32m    260\u001b[0m     \u001b[39mif\u001b[39;00m \u001b[39mnot\u001b[39;00m return_indexers:\n\u001b[0;32m    261\u001b[0m         \u001b[39mreturn\u001b[39;00m join_index\n",
      "File \u001b[1;32mc:\\Users\\vhect\\AppData\\Local\\Programs\\Python\\Python311\\Lib\\site-packages\\pandas\\core\\indexes\\base.py:4506\u001b[0m, in \u001b[0;36mIndex.join\u001b[1;34m(self, other, how, level, return_indexers, sort)\u001b[0m\n\u001b[0;32m   4501\u001b[0m \u001b[39mif\u001b[39;00m \u001b[39mself\u001b[39m\u001b[39m.\u001b[39mis_monotonic_increasing \u001b[39mand\u001b[39;00m other\u001b[39m.\u001b[39mis_monotonic_increasing:\n\u001b[0;32m   4502\u001b[0m     \u001b[39mif\u001b[39;00m \u001b[39mnot\u001b[39;00m is_interval_dtype(\u001b[39mself\u001b[39m\u001b[39m.\u001b[39mdtype):\n\u001b[0;32m   4503\u001b[0m         \u001b[39m# otherwise we will fall through to _join_via_get_indexer\u001b[39;00m\n\u001b[0;32m   4504\u001b[0m         \u001b[39m# GH#39133\u001b[39;00m\n\u001b[0;32m   4505\u001b[0m         \u001b[39m# go through object dtype for ea till engine is supported properly\u001b[39;00m\n\u001b[1;32m-> 4506\u001b[0m         \u001b[39mreturn\u001b[39;00m \u001b[39mself\u001b[39;49m\u001b[39m.\u001b[39;49m_join_monotonic(other, how\u001b[39m=\u001b[39;49mhow)\n\u001b[0;32m   4507\u001b[0m \u001b[39melse\u001b[39;00m:\n\u001b[0;32m   4508\u001b[0m     \u001b[39mreturn\u001b[39;00m \u001b[39mself\u001b[39m\u001b[39m.\u001b[39m_join_non_unique(other, how\u001b[39m=\u001b[39mhow)\n",
      "File \u001b[1;32mc:\\Users\\vhect\\AppData\\Local\\Programs\\Python\\Python311\\Lib\\site-packages\\pandas\\core\\indexes\\base.py:4853\u001b[0m, in \u001b[0;36mIndex._join_monotonic\u001b[1;34m(self, other, how)\u001b[0m\n\u001b[0;32m   4851\u001b[0m     join_array, lidx, ridx \u001b[39m=\u001b[39m \u001b[39mself\u001b[39m\u001b[39m.\u001b[39m_inner_indexer(other)\n\u001b[0;32m   4852\u001b[0m \u001b[39melif\u001b[39;00m how \u001b[39m==\u001b[39m \u001b[39m\"\u001b[39m\u001b[39mouter\u001b[39m\u001b[39m\"\u001b[39m:\n\u001b[1;32m-> 4853\u001b[0m     join_array, lidx, ridx \u001b[39m=\u001b[39m \u001b[39mself\u001b[39;49m\u001b[39m.\u001b[39;49m_outer_indexer(other)\n\u001b[0;32m   4855\u001b[0m \u001b[39massert\u001b[39;00m lidx \u001b[39mis\u001b[39;00m \u001b[39mnot\u001b[39;00m \u001b[39mNone\u001b[39;00m\n\u001b[0;32m   4856\u001b[0m \u001b[39massert\u001b[39;00m ridx \u001b[39mis\u001b[39;00m \u001b[39mnot\u001b[39;00m \u001b[39mNone\u001b[39;00m\n",
      "File \u001b[1;32mc:\\Users\\vhect\\AppData\\Local\\Programs\\Python\\Python311\\Lib\\site-packages\\pandas\\core\\indexes\\base.py:412\u001b[0m, in \u001b[0;36mIndex._outer_indexer\u001b[1;34m(self, other)\u001b[0m\n\u001b[0;32m    410\u001b[0m sv \u001b[39m=\u001b[39m cast(np\u001b[39m.\u001b[39mndarray, sv)\n\u001b[0;32m    411\u001b[0m ov \u001b[39m=\u001b[39m cast(np\u001b[39m.\u001b[39mndarray, ov)\n\u001b[1;32m--> 412\u001b[0m joined_ndarray, lidx, ridx \u001b[39m=\u001b[39m libjoin\u001b[39m.\u001b[39;49mouter_join_indexer(sv, ov)\n\u001b[0;32m    413\u001b[0m joined \u001b[39m=\u001b[39m \u001b[39mself\u001b[39m\u001b[39m.\u001b[39m_from_join_target(joined_ndarray)\n\u001b[0;32m    414\u001b[0m \u001b[39mreturn\u001b[39;00m joined, lidx, ridx\n",
      "File \u001b[1;32mc:\\Users\\vhect\\AppData\\Local\\Programs\\Python\\Python311\\Lib\\site-packages\\pandas\\_libs\\join.pyx:580\u001b[0m, in \u001b[0;36mpandas._libs.join.outer_join_indexer\u001b[1;34m()\u001b[0m\n",
      "\u001b[1;31mTypeError\u001b[0m: '<' not supported between instances of 'str' and 'int'"
     ]
    }
   ],
   "source": [
    "import pandas as pd\n",
    "from sklearn.metrics import mean_squared_error, r2_score, mean_absolute_error\n",
    "import numpy as np\n",
    "\n",
    "# Suponiendo que tienes un DataFrame llamado 'data' con las estaciones identificadas por 'ID'\n",
    "# y las columnas 'original_values' e 'imputed_values'\n",
    "\n",
    "# Función para calcular RMSE y R² por estación\n",
    "def calculate_metrics(group):\n",
    "    original_values = merged_data['Original']\n",
    "    imputed_values = merged_data['Imputed']\n",
    "\n",
    "    # Filtrar valores NaN de las series de datos\n",
    "    valid_indices = ~np.isnan(original_values) & ~np.isnan(imputed_values)\n",
    "    original_values_no_nan = original_values[valid_indices]\n",
    "    imputed_values_no_nan = imputed_values[valid_indices]\n",
    "\n",
    "    # Calcular métricas de evaluación\n",
    "    mse = mean_squared_error(original_values_no_nan, imputed_values_no_nan)\n",
    "    r2 = r2_score(original_values_no_nan, imputed_values_no_nan)\n",
    "    mae = mean_absolute_error(original_values_no_nan, imputed_values_no_nan)\n",
    "\n",
    "\n",
    "    return pd.Series({'RMSE': np.sqrt(mse), 'R²': r2,'MAE': mae})\n",
    "\n",
    "# Agrupar por estación y calcular métricas por estación\n",
    "merged_data = merged_data.groupby('ID').mean().reset_index()\n",
    "\n",
    "metrics_by_station = merged_data.groupby('ID').apply(calculate_metrics)\n",
    "print(metrics_by_station)\n"
   ]
  },
  {
   "cell_type": "code",
   "execution_count": 40,
   "metadata": {},
   "outputs": [
    {
     "data": {
      "text/plain": [
       "19303"
      ]
     },
     "execution_count": 40,
     "metadata": {},
     "output_type": "execute_result"
    }
   ],
   "source": [
    "y_test.isna().sum()"
   ]
  },
  {
   "cell_type": "code",
   "execution_count": 43,
   "metadata": {},
   "outputs": [
    {
     "data": {
      "text/plain": [
       "0    0\n",
       "dtype: int64"
      ]
     },
     "execution_count": 43,
     "metadata": {},
     "output_type": "execute_result"
    }
   ],
   "source": [
    "preds.isna().sum()"
   ]
  },
  {
   "cell_type": "markdown",
   "metadata": {},
   "source": [
    "### XGBOOST(imputacion ejemplo)"
   ]
  },
  {
   "cell_type": "code",
   "execution_count": 31,
   "metadata": {},
   "outputs": [
    {
     "name": "stderr",
     "output_type": "stream",
     "text": [
      "c:\\Users\\vhect\\AppData\\Local\\Programs\\Python\\Python311\\Lib\\site-packages\\lightgbm\\basic.py:300: UserWarning: Converting column-vector to 1d array\n",
      "  _log_warning('Converting column-vector to 1d array')\n"
     ]
    },
    {
     "name": "stdout",
     "output_type": "stream",
     "text": [
      "RMSE:  0.352435001196264\n",
      "R2:  -0.5017045093256591\n"
     ]
    }
   ],
   "source": [
    "##ejemplo de imputacion con boosting\n",
    "import lightgbm as lgb\n",
    "import numpy as np\n",
    "from sklearn.metrics import mean_squared_error\n",
    "from sklearn.model_selection import train_test_split\n",
    "\n",
    "# Crear datos de ejemplo con valores faltantes\n",
    "np.random.seed(42)\n",
    "n_samples = 1000\n",
    "X = np.random.rand(n_samples, 4)\n",
    "y = np.random.rand(n_samples, 1)\n",
    "mask = np.random.rand(n_samples, 4) < 0.5\n",
    "X[mask] = np.nan\n",
    "\n",
    "# Dividir los datos en conjuntos de entrenamiento y prueba\n",
    "X_train, X_test, y_train, y_test = train_test_split(X, y, test_size=0.2, random_state=42)\n",
    "\n",
    "# Crear un conjunto de datos de LightGBM para el entrenamiento\n",
    "train_data = lgb.Dataset(X_train, label=y_train)\n",
    "\n",
    "# Definir el objetivo del modelo y las características de las variables\n",
    "params = {\n",
    "    'objective': 'regression',\n",
    "    'metric': 'rmse',\n",
    "    'verbosity': -1,\n",
    "    'boosting_type': 'gbdt',\n",
    "    'feature_fraction': 0.8,\n",
    "    'bagging_fraction': 0.8,\n",
    "    'bagging_freq': 5,\n",
    "    'num_leaves': 31,\n",
    "    'learning_rate': 0.05,\n",
    "}\n",
    "\n",
    "# Entrenar el modelo\n",
    "model = lgb.train(params, train_data, num_boost_round=2000)\n",
    "\n",
    "# Predecir los valores faltantes en el conjunto de prueba\n",
    "preds = model.predict(X_test)\n",
    "\n",
    "# Calcular el error cuadrático medio (RMSE) entre los valores reales y las predicciones\n",
    "rmse = np.sqrt(mean_squared_error(y_test, preds))\n",
    "r2 = r2_score(y_test, preds)\n",
    "print(\"RMSE: \", rmse)\n",
    "print(\"R2: \", r2)\n",
    "    "
   ]
  },
  {
   "cell_type": "code",
   "execution_count": 41,
   "metadata": {},
   "outputs": [
    {
     "data": {
      "text/plain": [
       "(200, 1)"
      ]
     },
     "execution_count": 41,
     "metadata": {},
     "output_type": "execute_result"
    }
   ],
   "source": [
    "y_test.shape\n"
   ]
  },
  {
   "cell_type": "code",
   "execution_count": 42,
   "metadata": {},
   "outputs": [
    {
     "data": {
      "text/plain": [
       "(200,)"
      ]
     },
     "execution_count": 42,
     "metadata": {},
     "output_type": "execute_result"
    }
   ],
   "source": [
    "preds.shape"
   ]
  },
  {
   "attachments": {},
   "cell_type": "markdown",
   "metadata": {},
   "source": [
    "## Bibliografia \n",
    "\n",
    "Little, R. J. A., & Rubin, D. B. (2002). Statistical Analysis with Missing Data (Vol. 333). John Wiley & Sons."
   ]
  },
  {
   "cell_type": "markdown",
   "metadata": {},
   "source": [
    "Especial agradecimiento al repositorio de Leonardo de Paula Liebscher Auditor-Fiscal da Receita Federal interessado em Python, machine learning e desenvolvimento web."
   ]
  },
  {
   "cell_type": "markdown",
   "metadata": {},
   "source": [
    "Anexo link de su Github y documentacion en PIP\n",
    "\n",
    "https://github.com/leonardodepaula/xgbimputer\n",
    "\n",
    "https://pypi.org/project/xgbimputer/\n"
   ]
  }
 ],
 "metadata": {
  "kernelspec": {
   "display_name": "Python 3",
   "language": "python",
   "name": "python3"
  },
  "language_info": {
   "codemirror_mode": {
    "name": "ipython",
    "version": 3
   },
   "file_extension": ".py",
   "mimetype": "text/x-python",
   "name": "python",
   "nbconvert_exporter": "python",
   "pygments_lexer": "ipython3",
   "version": "3.10.4"
  },
  "orig_nbformat": 4
 },
 "nbformat": 4,
 "nbformat_minor": 2
}
